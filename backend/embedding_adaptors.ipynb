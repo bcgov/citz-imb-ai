{
 "cells": [
  {
   "cell_type": "code",
   "execution_count": null,
   "id": "fdab3943-cdf0-4664-83e6-15a98a563bec",
   "metadata": {},
   "outputs": [],
   "source": [
    "import os\n",
    "from bs4 import BeautifulSoup\n",
    "from langchain_community.graphs import Neo4jGraph\n",
    "from langchain_community.vectorstores import Neo4jVector\n",
    "from langchain.text_splitter import RecursiveCharacterTextSplitter, SentenceTransformersTokenTextSplitter\n",
    "from langchain.chains import RetrievalQAWithSourcesChain\n",
    "import warnings\n",
    "from langchain_community.document_loaders import DirectoryLoader\n",
    "from llama_index.core import SimpleDirectoryReader, StorageContext\n",
    "warnings.filterwarnings(\"ignore\")\n",
    "from langchain_community.embeddings import HuggingFaceEmbeddings\n",
    "from sentence_transformers import CrossEncoder\n",
    "import numpy as np\n",
    "from trulens_eval import Tru\n",
    "from trulens_eval.tru_custom_app import instrument\n",
    "from llmlingua import PromptCompressor\n",
    "import re\n",
    "from IPython.core.display import display, HTML\n",
    "import psycopg2"
   ]
  },
  {
   "cell_type": "code",
   "execution_count": null,
   "id": "de87697c-291d-4103-86c1-da298fde407b",
   "metadata": {},
   "outputs": [],
   "source": [
    "import numpy as np\n",
    "import umap\n",
    "from tqdm import tqdm\n",
    "\n",
    "import torch"
   ]
  },
  {
   "cell_type": "code",
   "execution_count": null,
   "id": "73d85b1c-b3dc-4123-8784-3dbd35141113",
   "metadata": {},
   "outputs": [],
   "source": [
    "embeddings = HuggingFaceEmbeddings(model_name=\"all-MiniLM-L6-v2\")"
   ]
  },
  {
   "cell_type": "code",
   "execution_count": null,
   "id": "9e1dd4cb-5615-45de-a752-428655002b0a",
   "metadata": {},
   "outputs": [],
   "source": [
    "NEO4J_URI = 'bolt://' + os.getenv('NEO4J_HOST') + ':7687'\n",
    "NEO4J_USERNAME = os.getenv('NEO4J_USER')\n",
    "NEO4J_PASSWORD = os.getenv('NEO4J_PASSWORD')\n",
    "NEO4J_DATABASE = 'neo4j' #os.getenv('NEO4J_DB')\n",
    "print(NEO4J_URI)\n",
    "print(NEO4J_DATABASE)"
   ]
  },
  {
   "cell_type": "code",
   "execution_count": null,
   "id": "0d07f0de-d940-4044-96c7-776867f034a0",
   "metadata": {},
   "outputs": [],
   "source": [
    "kg = Neo4jGraph(\n",
    "    url=NEO4J_URI, username=NEO4J_USERNAME, password=NEO4J_PASSWORD, database=NEO4J_DATABASE\n",
    ")"
   ]
  },
  {
   "cell_type": "code",
   "execution_count": null,
   "id": "001230e2-00fb-4ce3-9695-86c40da42128",
   "metadata": {},
   "outputs": [],
   "source": [
    "def neo4j_vector_search(question, index_name):\n",
    "  \"\"\"Search for similar nodes using the Neo4j vector index\"\"\"\n",
    "  query_embedding = embeddings.embed_query(question)  \n",
    "  vector_search_query = \"\"\"\n",
    "    CALL db.index.vector.queryNodes($index_name, $top_k, $question) yield node, score\n",
    "    RETURN score, node.ActId, node.sectionId, node.sectionName, node.url, node.text AS text, node.RegId AS Regulations\n",
    "  \"\"\"\n",
    "  similar = kg.query(vector_search_query, \n",
    "                     params={\n",
    "                      'question': query_embedding, \n",
    "                      'index_name':index_name, \n",
    "                      'top_k': 10})\n",
    "  return similar"
   ]
  },
  {
   "cell_type": "code",
   "execution_count": null,
   "id": "6803f01b-57a5-4128-8d97-62650b11005c",
   "metadata": {},
   "outputs": [],
   "source": [
    "from trulens_eval import Tru\n",
    "from trulens_eval.tru_custom_app import instrument\n",
    "TRULENS_USER = os.getenv('TRULENS_USER')\n",
    "TRULENS_PASSWORD = os.getenv('TRULENS_PASSWORD')\n",
    "TRULENS_DB = os.getenv('TRULENS_DB')\n",
    "TRULENS_PORT = os.getenv('TRULENS_PORT')\n",
    "TRULENS_HOST = os.getenv('TRULENS_HOST')\n",
    "\n",
    "TRULENS_CONNECTION_STRING = f'postgresql+psycopg2://{TRULENS_USER}:{TRULENS_PASSWORD}@{TRULENS_HOST}:{TRULENS_PORT}/{TRULENS_DB}'\n",
    "tru = Tru(database_url=TRULENS_CONNECTION_STRING)"
   ]
  },
  {
   "cell_type": "code",
   "execution_count": null,
   "id": "039c6544-48f6-4bfa-ad98-1a15ddafee3b",
   "metadata": {},
   "outputs": [],
   "source": [
    "conn = psycopg2.connect(\n",
    "    host=TRULENS_HOST,\n",
    "    database=TRULENS_DB,\n",
    "    user=TRULENS_USER,\n",
    "    password=TRULENS_PASSWORD\n",
    ")"
   ]
  },
  {
   "cell_type": "code",
   "execution_count": null,
   "id": "82efaa4c-1b83-46f5-9118-0c447a5052dd",
   "metadata": {},
   "outputs": [],
   "source": [
    "cur = conn.cursor()  # creating a cursor"
   ]
  },
  {
   "cell_type": "code",
   "execution_count": null,
   "id": "a9e812af-a8b4-4960-9e68-7ee4e7a77fa3",
   "metadata": {},
   "outputs": [],
   "source": [
    "cur.execute(\"\"\"\n",
    "SELECT R.input as input, R.record_json , R.record_id, F.multi_result, R.app_id result FROM public.records R \n",
    "LEFT Join feedbacks F ON F.record_id = R.record_id WHERE\n",
    "R.app_id='TopK_Feedback_System_v1' \n",
    "\"\"\")\n",
    "rows = cur.fetchall()"
   ]
  },
  {
   "cell_type": "code",
   "execution_count": null,
   "id": "b68d77d5-9ccf-4a9d-b880-52f71129a4af",
   "metadata": {},
   "outputs": [],
   "source": [
    "print(len(rows))"
   ]
  },
  {
   "cell_type": "code",
   "execution_count": null,
   "id": "c0e119ec-2687-436c-81aa-ddc69801d695",
   "metadata": {},
   "outputs": [],
   "source": [
    "import json"
   ]
  },
  {
   "cell_type": "code",
   "execution_count": null,
   "id": "9e71f272-b26b-405b-a1f0-1bb67ddafffb",
   "metadata": {},
   "outputs": [],
   "source": [
    "unique_acts = []"
   ]
  },
  {
   "cell_type": "code",
   "execution_count": null,
   "id": "c965dd10-f21d-4845-a866-21df4bddb8c3",
   "metadata": {},
   "outputs": [],
   "source": [
    "for row in rows:\n",
    "    print(row[0])\n",
    "    print(row[3])\n",
    "    if row[3] is None:\n",
    "        continue\n",
    "    if row[1] is None:\n",
    "        continue\n",
    "    #print(json.loads(row[3]))\n",
    "    #continue\n",
    "    for key, data in enumerate(row):\n",
    "        #print(key, data)\n",
    "        if (key == 1):\n",
    "            #print(key, data)\n",
    "            #print(type(data))\n",
    "            value = json.loads(data)\n",
    "            #print(value['calls'][0]['rets'])\n",
    "            for value_index, value_data in enumerate(value['calls'][0]['rets']):\n",
    "                #print(value_data['node.ActId'])\n",
    "                #print(value_data['text'])\n",
    "                if value_data['node.ActId'] not in unique_acts:\n",
    "                    unique_acts.append(value_data['node.ActId'])\n",
    "                #print    \n",
    "            #print(value)\n",
    "        #print(data)"
   ]
  },
  {
   "cell_type": "code",
   "execution_count": null,
   "id": "ad86b2dc-d2f8-4d4b-af25-632473a61707",
   "metadata": {},
   "outputs": [],
   "source": [
    "print(len(unique_acts))"
   ]
  },
  {
   "cell_type": "code",
   "execution_count": null,
   "id": "8935fbdc-4993-42c3-91f1-bbc6116822fc",
   "metadata": {},
   "outputs": [],
   "source": [
    "def getembeddings(data):\n",
    "    query_embedding = embeddings.embed_query(data)\n",
    "    return query_embedding"
   ]
  },
  {
   "cell_type": "code",
   "execution_count": null,
   "id": "b3019039-edd1-451b-915f-02c5aadbc7c7",
   "metadata": {},
   "outputs": [],
   "source": [
    "adapter_query_embeddings = []\n",
    "adapter_doc_embeddings = []\n",
    "adapter_labels = []"
   ]
  },
  {
   "cell_type": "code",
   "execution_count": null,
   "id": "29186016-b9bd-449b-820d-e5e27d6bc232",
   "metadata": {},
   "outputs": [],
   "source": [
    "for q, query in enumerate(tqdm(rows)):\n",
    "    if query[3] is None:\n",
    "        continue\n",
    "    result = json.loads(query[3])['bulk']\n",
    "    documents = json.loads(query[1])\n",
    "    for d, document in enumerate(documents['calls'][0]['rets']):\n",
    "        adapter_query_embeddings.append(getembeddings(query[0]))\n",
    "        adapter_doc_embeddings.append(getembeddings(document['text']))\n",
    "        adapter_labels.append(result[d])"
   ]
  },
  {
   "cell_type": "code",
   "execution_count": null,
   "id": "fba8cc9b-ec31-420f-91ec-1be47c1aa54d",
   "metadata": {},
   "outputs": [],
   "source": [
    "len(adapter_query_embeddings)"
   ]
  },
  {
   "cell_type": "code",
   "execution_count": null,
   "id": "d35eefa1-21f5-41a5-8f67-702175968cd1",
   "metadata": {},
   "outputs": [],
   "source": [
    "len(adapter_labels)"
   ]
  },
  {
   "cell_type": "code",
   "execution_count": null,
   "id": "ca4f9e83-c787-40c6-aab8-c772db3dd8fa",
   "metadata": {},
   "outputs": [],
   "source": [
    "len(adapter_doc_embeddings) "
   ]
  },
  {
   "cell_type": "code",
   "execution_count": null,
   "id": "28318952-e952-43d5-93ad-264daef0338e",
   "metadata": {},
   "outputs": [],
   "source": [
    "adapter_query_embeddings = torch.Tensor(np.array(adapter_query_embeddings))\n",
    "adapter_doc_embeddings = torch.Tensor(np.array(adapter_doc_embeddings))\n",
    "adapter_labels = torch.Tensor(np.expand_dims(np.array(adapter_labels),1))"
   ]
  },
  {
   "cell_type": "code",
   "execution_count": null,
   "id": "7859971f-7f34-4f6e-a9f7-d6536729b2c4",
   "metadata": {},
   "outputs": [],
   "source": [
    "dataset = torch.utils.data.TensorDataset(adapter_query_embeddings, adapter_doc_embeddings, adapter_labels)"
   ]
  },
  {
   "cell_type": "code",
   "execution_count": null,
   "id": "c5c3da32-f276-4f74-b2f9-6d5f8872c0c9",
   "metadata": {},
   "outputs": [],
   "source": [
    "def model(query_embedding, document_embedding, adaptor_matrix):\n",
    "    updated_query_embedding = torch.matmul(adaptor_matrix, query_embedding)\n",
    "    return torch.cosine_similarity(updated_query_embedding, document_embedding, dim=0)"
   ]
  },
  {
   "cell_type": "code",
   "execution_count": null,
   "id": "a5f59070-a38c-4f45-9f55-088d7551405c",
   "metadata": {},
   "outputs": [],
   "source": [
    "def mse_loss(query_embedding, document_embedding, adaptor_matrix, label):\n",
    "    return torch.nn.MSELoss()(model(query_embedding, document_embedding, adaptor_matrix), label)"
   ]
  },
  {
   "cell_type": "code",
   "execution_count": null,
   "id": "44de60e6-4c5c-475b-8f5e-4b165ea07a60",
   "metadata": {},
   "outputs": [],
   "source": [
    "mat_size = len(adapter_query_embeddings[0])\n",
    "adapter_matrix = torch.randn(mat_size, mat_size, requires_grad=True)"
   ]
  },
  {
   "cell_type": "code",
   "execution_count": null,
   "id": "e28a5beb-3e83-43bc-85e5-e0ec686d02ed",
   "metadata": {},
   "outputs": [],
   "source": [
    "min_loss = float('inf')\n",
    "best_matrix = None\n",
    "\n",
    "for epoch in tqdm(range(100)):\n",
    "    for query_embedding, document_embedding, label in dataset:\n",
    "        loss = mse_loss(query_embedding, document_embedding, adapter_matrix, label)\n",
    "\n",
    "        if loss < min_loss:\n",
    "            min_loss = loss\n",
    "            best_matrix = adapter_matrix.clone().detach().numpy()\n",
    "\n",
    "        loss.backward()\n",
    "        with torch.no_grad():\n",
    "            adapter_matrix -= 0.01 * adapter_matrix.grad\n",
    "            adapter_matrix.grad.zero_()"
   ]
  },
  {
   "cell_type": "code",
   "execution_count": null,
   "id": "6e13abe8-7c8e-43a0-8576-e0cc9afdafe9",
   "metadata": {},
   "outputs": [],
   "source": [
    "print(f\"Best loss: {min_loss.detach().numpy()}\")"
   ]
  },
  {
   "cell_type": "code",
   "execution_count": null,
   "id": "bd338818-ab7a-429c-a9cc-0692ffe96741",
   "metadata": {},
   "outputs": [],
   "source": [
    "test_vector = torch.ones((mat_size,1))\n",
    "scaled_vector = np.matmul(best_matrix, test_vector).numpy()"
   ]
  },
  {
   "cell_type": "code",
   "execution_count": null,
   "id": "5cad5255-a94d-466b-aa73-dddb5a4ea78a",
   "metadata": {},
   "outputs": [],
   "source": [
    "import matplotlib.pyplot as plt\n",
    "plt.bar(range(len(scaled_vector)), scaled_vector.flatten())\n",
    "plt.show()\n"
   ]
  },
  {
   "cell_type": "code",
   "execution_count": null,
   "id": "05b07ba2-d02f-4e14-a567-36112d607060",
   "metadata": {},
   "outputs": [],
   "source": [
    "def project_embeddings(embeddings, umap_transform):\n",
    "    umap_embeddings = np.empty((len(embeddings),2))\n",
    "    for i, embedding in enumerate(tqdm(embeddings)): \n",
    "        umap_embeddings[i] = umap_transform.transform([embedding])\n",
    "    return umap_embeddings"
   ]
  },
  {
   "cell_type": "code",
   "execution_count": null,
   "id": "3a200195-112a-42c6-b3b8-be6f5701c932",
   "metadata": {},
   "outputs": [],
   "source": [
    "umap_transform = umap.UMAP(random_state=0, transform_seed=0).fit(adapter_doc_embeddings)"
   ]
  },
  {
   "cell_type": "code",
   "execution_count": null,
   "id": "4f05463a-493e-4d6d-94d7-8ea99cfd85bc",
   "metadata": {},
   "outputs": [],
   "source": [
    "projected_dataset_embeddings = project_embeddings(adapter_doc_embeddings, umap_transform)"
   ]
  },
  {
   "cell_type": "code",
   "execution_count": null,
   "id": "6820dd05-70b2-4ae4-879d-bbe69b03d9ff",
   "metadata": {},
   "outputs": [],
   "source": [
    "query_embeddings = adapter_query_embeddings\n",
    "adapted_query_embeddings = np.matmul(best_matrix, np.array(query_embeddings).T).T\n",
    "\n",
    "projected_query_embeddings = project_embeddings(query_embeddings, umap_transform)\n",
    "projected_adapted_query_embeddings = project_embeddings(adapted_query_embeddings, umap_transform)"
   ]
  },
  {
   "cell_type": "code",
   "execution_count": null,
   "id": "2e569cbd-f482-4533-a502-761a362733d0",
   "metadata": {},
   "outputs": [],
   "source": [
    "# Plot the projected query and retrieved documents in the embedding space\n",
    "plt.figure()\n",
    "plt.scatter(projected_dataset_embeddings[:, 0], projected_dataset_embeddings[:, 1], s=10, color='gray')\n",
    "plt.scatter(projected_query_embeddings[:, 0], projected_query_embeddings[:, 1], s=150, marker='X', color='r', label=\"original\")\n",
    "plt.scatter(projected_adapted_query_embeddings[:, 0], projected_adapted_query_embeddings[:, 1], s=150, marker='X', color='green', label=\"adapted\")\n",
    "\n",
    "plt.gca().set_aspect('equal', 'datalim')\n",
    "plt.title(\"Adapted Queries\")\n",
    "plt.axis('off')\n",
    "plt.legend()"
   ]
  },
  {
   "cell_type": "code",
   "execution_count": null,
   "id": "d2d2246b-56ce-4010-9621-4fc328cf744f",
   "metadata": {},
   "outputs": [],
   "source": [
    "query = \"What are the legal requirements for residents in a cooperative housing society?\""
   ]
  },
  {
   "cell_type": "code",
   "execution_count": null,
   "id": "98fd3b69-a65c-4d8b-b5c8-967d27d11cc8",
   "metadata": {},
   "outputs": [],
   "source": [
    "neo4j_vector_search(query, 'Acts_Updatedchunks')"
   ]
  },
  {
   "cell_type": "code",
   "execution_count": null,
   "id": "730d3535-6920-46e2-9d67-2607421125d3",
   "metadata": {},
   "outputs": [],
   "source": [
    "query_embedding = embeddings.embed_query(query)"
   ]
  },
  {
   "cell_type": "code",
   "execution_count": null,
   "id": "ecfd399c-85c2-432a-bfa7-1ec27fadc7eb",
   "metadata": {},
   "outputs": [],
   "source": [
    "new_query = np.matmul(best_matrix, np.array(query_embedding))"
   ]
  },
  {
   "cell_type": "code",
   "execution_count": null,
   "id": "80e119ee-c310-425d-a745-1b8ed2481c45",
   "metadata": {},
   "outputs": [],
   "source": [
    "def neo4j_vector_search_2(question, index_name, query_embedding):\n",
    "  \"\"\"Search for similar nodes using the Neo4j vector index\"\"\"\n",
    "  #query_embedding = embeddings.embed_query(question)  \n",
    "  vector_search_query = \"\"\"\n",
    "    CALL db.index.vector.queryNodes($index_name, $top_k, $question) yield node, score\n",
    "    RETURN score, node.ActId, node.sectionId, node.sectionName, node.url, node.text AS text, node.RegId AS Regulations\n",
    "  \"\"\"\n",
    "  similar = kg.query(vector_search_query, \n",
    "                     params={\n",
    "                      'question': query_embedding, \n",
    "                      'index_name':index_name, \n",
    "                      'top_k': 10})\n",
    "  return similar"
   ]
  },
  {
   "cell_type": "code",
   "execution_count": null,
   "id": "9912f2b7-e66f-408f-991e-7afab45db59a",
   "metadata": {},
   "outputs": [],
   "source": [
    "neo4j_vector_search_2(query,  'Acts_Updatedchunks', new_query)"
   ]
  },
  {
   "cell_type": "code",
   "execution_count": null,
   "id": "bb604e91-62aa-4d61-acf4-133d848441ea",
   "metadata": {},
   "outputs": [],
   "source": []
  }
 ],
 "metadata": {
  "kernelspec": {
   "display_name": "Python 3 (ipykernel)",
   "language": "python",
   "name": "python3"
  },
  "language_info": {
   "codemirror_mode": {
    "name": "ipython",
    "version": 3
   },
   "file_extension": ".py",
   "mimetype": "text/x-python",
   "name": "python",
   "nbconvert_exporter": "python",
   "pygments_lexer": "ipython3",
   "version": "3.11.8"
  }
 },
 "nbformat": 4,
 "nbformat_minor": 5
}
