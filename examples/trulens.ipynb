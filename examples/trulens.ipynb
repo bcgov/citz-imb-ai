{
 "cells": [
  {
   "cell_type": "code",
   "execution_count": null,
   "id": "c50b8ea2-80be-4396-952c-6c2ca2d4d4cb",
   "metadata": {},
   "outputs": [],
   "source": [
    "#Do the migration\n",
    "import os\n",
    "from langchain_community.embeddings import HuggingFaceEmbeddings\n",
    "\n",
    "from langchain.docstore.document import Document\n",
    "from langchain_community.document_loaders import TextLoader\n",
    "from langchain_community.vectorstores.pgvector import PGVector\n",
    "from langchain_text_splitters import CharacterTextSplitter"
   ]
  },
  {
   "cell_type": "code",
   "execution_count": null,
   "id": "e536eae0-66da-4169-9b69-bb4338ec7164",
   "metadata": {},
   "outputs": [],
   "source": [
    "POSTGRES_USER = os.getenv('POSTGRES_USER')\n",
    "POSTGRES_PASSWORD = os.getenv('POSTGRES_PASSWORD')\n",
    "POSTGRES_DB = os.getenv('POSTGRES_DB')\n",
    "POSTGRES_PORT = os.getenv('POSTGRES_PORT')\n",
    "POSTGRES_HOST = os.getenv('POSTGRES_HOST')\n",
    "\n",
    "\n",
    "CONNECTION_STRING = f'postgresql+psycopg2://{POSTGRES_USER}:{POSTGRES_PASSWORD}@{POSTGRES_HOST}:{POSTGRES_PORT}/{POSTGRES_DB}'"
   ]
  },
  {
   "cell_type": "code",
   "execution_count": null,
   "id": "92630bfa-9ca7-433e-9364-49a88068a0d9",
   "metadata": {},
   "outputs": [],
   "source": [
    "##################### EXAMPLE EMBEDDINGS ############################\n",
    "embeddings = HuggingFaceEmbeddings(model_name=\"all-MiniLM-L6-v2\")\n",
    "text = \"This is a test document.\"\n",
    "query_result = embeddings.embed_query(text)\n",
    "doc_result = embeddings.embed_documents([text, \"This is not a test document.\"])"
   ]
  },
  {
   "cell_type": "code",
   "execution_count": null,
   "id": "a9e5ca17-fc72-4d42-948a-8d7425c8fb63",
   "metadata": {},
   "outputs": [],
   "source": [
    "loader = TextLoader(\"DB/RawBCLaws/all_act_titles.txt\")\n",
    "documents = loader.load()\n",
    "text_splitter = CharacterTextSplitter(chunk_size=1, chunk_overlap=0, separator=\"\\n\")\n",
    "docs = text_splitter.split_documents(documents)"
   ]
  },
  {
   "cell_type": "code",
   "execution_count": null,
   "id": "28b076d0-7074-423c-a4f8-0afd080957ed",
   "metadata": {},
   "outputs": [],
   "source": [
    "COLLECTION_NAME = \"bc_law_titles\"\n",
    "\n",
    "# If the database table already exists, delete it\n",
    "db = PGVector.from_documents(\n",
    "    documents=docs,\n",
    "    embedding=embeddings,\n",
    "    collection_name=COLLECTION_NAME,\n",
    "    connection_string=CONNECTION_STRING,\n",
    "    pre_delete_collection=True,\n",
    ")\n"
   ]
  },
  {
   "cell_type": "code",
   "execution_count": null,
   "id": "d0521bef-26c2-4263-bf23-e123ef83a101",
   "metadata": {},
   "outputs": [],
   "source": [
    "query = \"Is there a law on tenancy act?\"\n",
    "print('\\n' + query + '\\n')\n",
    "docs_with_score = db.similarity_search_with_score(query)\n",
    "\n",
    "for doc, score in docs_with_score:\n",
    "    print(\"-\" * 80)\n",
    "    print(\"Score: \", score)\n",
    "    print(doc.page_content)\n",
    "    print(\"-\" * 80)"
   ]
  },
  {
   "cell_type": "code",
   "execution_count": null,
   "id": "f0b4337f-ccb9-49b9-a6b6-6cf90b1866c1",
   "metadata": {},
   "outputs": [],
   "source": [
    "store = PGVector(\n",
    "    collection_name=COLLECTION_NAME,\n",
    "    connection_string=CONNECTION_STRING,\n",
    "    embedding_function=embeddings,\n",
    ") \n",
    "\n",
    "query = \"Laptop is a device.\"\n",
    "print('\\n' + query + '\\n')\n",
    "docs_with_score = store.similarity_search_with_score(query)\n",
    "\n",
    "for doc, score in docs_with_score:\n",
    "    print(\"-\" * 80)\n",
    "    print(\"Score: \", score)\n",
    "    print(doc.page_content)\n",
    "    print(\"-\" * 80)\n"
   ]
  },
  {
   "cell_type": "code",
   "execution_count": null,
   "id": "4103da2e-c12a-45a6-89f4-65665bb24559",
   "metadata": {},
   "outputs": [],
   "source": [
    "%pip install langchainhub \n",
    "%pip isntall bs4\n",
    "%pip install openllm\n",
    "%pip install trulens-eval==0.25.1"
   ]
  },
  {
   "cell_type": "code",
   "execution_count": null,
   "id": "3e664b1c-9953-47bf-8731-0dc0d28ae112",
   "metadata": {},
   "outputs": [],
   "source": [
    "from trulens_eval import Tru\n",
    "from trulens_eval.tru_custom_app import instrument\n",
    "TRULENS_USER = os.getenv('TRULENS_USER')\n",
    "TRULENS_PASSWORD = os.getenv('TRULENS_PASSWORD')\n",
    "TRULENS_DB = os.getenv('TRULENS_DB')\n",
    "TRULENS_PORT = os.getenv('TRULENS_PORT')\n",
    "TRULENS_HOST = os.getenv('TRULENS_HOST')\n",
    "\n",
    "TRULENS_CONNECTION_STRING = f'postgresql+psycopg2://{TRULENS_USER}:{TRULENS_PASSWORD}@{TRULENS_HOST}:{TRULENS_PORT}/{TRULENS_DB}'\n",
    "tru = Tru(database_url=TRULENS_CONNECTION_STRING)"
   ]
  },
  {
   "cell_type": "code",
   "execution_count": null,
   "id": "a8444b07-f2e4-442c-b977-3fca917c439e",
   "metadata": {},
   "outputs": [],
   "source": [
    "tru.reset_database()"
   ]
  },
  {
   "cell_type": "code",
   "execution_count": null,
   "id": "ee48f350-8d9d-46cd-8b28-b60b8b9a5e83",
   "metadata": {},
   "outputs": [],
   "source": [
    "%pip install accelerator"
   ]
  },
  {
   "cell_type": "code",
   "execution_count": null,
   "id": "76b064c3-de01-4d3c-b13f-f838dee737f0",
   "metadata": {},
   "outputs": [],
   "source": [
    "import openllm\n",
    "\n",
    "llm = openllm.LLM(\n",
    "    \"google/flan-t5-small\",\n",
    "    temperature=0.94,\n",
    "    repetition_penalty=1.2,\n",
    "\n",
    ")"
   ]
  },
  {
   "cell_type": "code",
   "execution_count": null,
   "id": "87a05683-65c1-4c12-9219-82a45ed7dd1b",
   "metadata": {},
   "outputs": [],
   "source": [
    "import asyncio\n",
    "\n",
    "import nest_asyncio\n",
    "\n",
    "\n",
    "\n",
    "nest_asyncio.apply()\n",
    "\n",
    "\n",
    "async def main(query):\n",
    "  previous_texts = ''  \n",
    "  async for gen in llm.generate_iterator(query, max_new_tokens=128):\n",
    "      print(gen.outputs[0].text, flush=True, end='')\n",
    "      previous_texts += gen.outputs[0].text\n",
    "  return previous_texts\n",
    "\n",
    "\n",
    "asyncio.run(main(\"what is tenancy act. Please explain\"))"
   ]
  },
  {
   "cell_type": "code",
   "execution_count": null,
   "id": "ee8ce360-88a5-4faf-a803-9e6e3fb838ce",
   "metadata": {},
   "outputs": [],
   "source": [
    "class RAG_from_scratch:\n",
    "    @instrument\n",
    "    def retrieve(self, query: str) -> list:\n",
    "        \"\"\"\n",
    "        Retrieve relevant text from vector store.\n",
    "        \"\"\"\n",
    "        results = store.similarity_search_with_score(\n",
    "        query=query,\n",
    "    )\n",
    "        doc, score = results[0]\n",
    "        return doc.page_content\n",
    "\n",
    "    @instrument\n",
    "    def generate_completion(self, query: str, context_str: list) -> str:\n",
    "        \"\"\"\n",
    "        Generate answer from context.\n",
    "        \"\"\"\n",
    "        messages=f\"We have provided context information below. \\n\" \\\n",
    "            f\"---------------------\\n\" \\\n",
    "            f\"{context_str}\" \\\n",
    "            f\"\\n---------------------\\n\" \\\n",
    "            f\"Given this information, please answer the question: {query}\"\n",
    "        print(messages)\n",
    "        completion = asyncio.run(main(messages))\n",
    "        return completion\n",
    "\n",
    "    @instrument\n",
    "    def query(self, query: str) -> str:\n",
    "        context_str = self.retrieve(query)\n",
    "        completion = self.generate_completion(query, context_str)\n",
    "        return completion\n",
    "\n",
    "rag = RAG_from_scratch()"
   ]
  },
  {
   "cell_type": "code",
   "execution_count": null,
   "id": "37019add-bb64-43e8-a38f-ff75a09d16c1",
   "metadata": {},
   "outputs": [],
   "source": [
    "        results = store.similarity_search_with_score(\n",
    "        query=query,\n",
    "    )"
   ]
  },
  {
   "cell_type": "code",
   "execution_count": null,
   "id": "3269779c-29e6-4167-98ba-1973002e828f",
   "metadata": {},
   "outputs": [],
   "source": [
    "\n",
    "rag.query(\"When was the University of Washington founded?\")\n",
    "\n"
   ]
  },
  {
   "cell_type": "code",
   "execution_count": null,
   "id": "269d7046-9cd8-4c60-aadd-2b9425323be7",
   "metadata": {},
   "outputs": [],
   "source": [
    "%pip install litellm\n",
    "from trulens_eval import Feedback, Select\n",
    "from trulens_eval.feedback import Groundedness\n",
    "from trulens_eval.feedback.provider.openai import OpenAI\n",
    "from trulens_eval.feedback.provider.hugs import Huggingface\n",
    "huggingface_provider = Huggingface()\n",
    "\n",
    "import numpy as np\n",
    "#os.environ[\"TOGETHERAI_API_KEY\"] = \"d12da01e5c7af28cf21317de30ad0d4c4af1848be57005097a129422cf34fec4\"\n",
    "from trulens_eval.feedback.provider.litellm import LiteLLM\n",
    "#provider = LiteLLM(model_engine=\"together_ai/togethercomputer/Llama-2-7B-32K-Instruct\")\n",
    "#provider = OpenAI()\n",
    "#provider = Huggingface()\n",
    "provider= LiteLLM()\n",
    "\n",
    "grounded = Groundedness(groundedness_provider=provider)\n",
    "\n",
    "# Define a groundedness feedback function\n",
    "f_groundedness = (\n",
    "    Feedback(grounded.groundedness_measure_with_cot_reasons, name = \"Groundedness\")\n",
    "    .on(Select.RecordCalls.retrieve.rets.collect())\n",
    "    .on_output()\n",
    "    .aggregate(grounded.grounded_statements_aggregator)\n",
    ")\n",
    "\n",
    "# Question/answer relevance between overall question and answer.\n",
    "f_answer_relevance = (\n",
    "    Feedback(provider.qs_relevance_with_cot_reasons, name = \"Answer Relevance\")\n",
    "    .on(Select.RecordCalls.retrieve.args.query)\n",
    "    .on_output()\n",
    ")\n",
    "\n",
    "# Question/statement relevance between question and each context chunk.\n",
    "f_context_relevance = (\n",
    "    Feedback(provider.qs_relevance_with_cot_reasons, name = \"Context Relevance\")\n",
    "    .on(Select.RecordCalls.retrieve.args.query)\n",
    "    .on(Select.RecordCalls.retrieve.rets.collect())\n",
    "    .aggregate(np.mean)\n",
    ")"
   ]
  },
  {
   "cell_type": "code",
   "execution_count": null,
   "id": "937e04ff-69ec-4903-a6ab-8b5fb25463ff",
   "metadata": {},
   "outputs": [],
   "source": [
    "\n",
    "\n",
    "from trulens_eval import TruCustomApp\n",
    "tru_rag = TruCustomApp(rag,\n",
    "    app_id = 'RAG v1',\n",
    "    #feedbacks = [f_groundedness, f_answer_relevance, f_context_relevance]\n",
    "    )\n"
   ]
  },
  {
   "cell_type": "code",
   "execution_count": null,
   "id": "3ad244cf-08be-458c-a6dc-cccacd2b4027",
   "metadata": {},
   "outputs": [],
   "source": [
    "with tru_rag as recording:\n",
    "    rag.query(\"what is tenancy act. Please explain\")"
   ]
  },
  {
   "cell_type": "code",
   "execution_count": null,
   "id": "e81a933f-8d51-42af-aebc-7d44121163ff",
   "metadata": {},
   "outputs": [],
   "source": [
    "%pip install \"ipython>=8.12.0\" \"ipywidgets>=8.0.6\""
   ]
  },
  {
   "cell_type": "code",
   "execution_count": null,
   "id": "ecff5be7-faa4-408d-af10-a7a40e613f44",
   "metadata": {},
   "outputs": [],
   "source": [
    "from ipywidgets import Button, HBox, VBox\n",
    "from IPython.display import display\n",
    "\n",
    "thumbs_up_button = Button(description='👍')\n",
    "thumbs_down_button = Button(description='👎')\n",
    "\n",
    "human_feedback = None\n",
    "\n",
    "def on_thumbs_up_button_clicked(b):\n",
    "    global human_feedback\n",
    "    human_feedback = 1\n",
    "\n",
    "def on_thumbs_down_button_clicked(b):\n",
    "    global human_feedback\n",
    "    human_feedback = 0\n",
    "\n",
    "thumbs_up_button.on_click(on_thumbs_up_button_clicked)\n",
    "thumbs_down_button.on_click(on_thumbs_down_button_clicked)\n",
    "\n",
    "HBox([thumbs_up_button, thumbs_down_button])"
   ]
  },
  {
   "cell_type": "code",
   "execution_count": null,
   "id": "0d3e51f2-9dd5-4430-906e-06ee0a1ec479",
   "metadata": {},
   "outputs": [],
   "source": [
    "record = recording.get()\n",
    "print(human_feedback)\n",
    "tru.add_feedback(\n",
    "    name=\"Human Feedack\",\n",
    "    record_id=record.record_id,\n",
    "    app_id=tru_rag.app_id,\n",
    "    result=human_feedback\n",
    ")"
   ]
  },
  {
   "cell_type": "code",
   "execution_count": null,
   "id": "7eb32a04-0c58-497d-bdfd-00dfdd534ede",
   "metadata": {},
   "outputs": [],
   "source": [
    "records, feedback = tru.get_records_and_feedback(app_ids=[])\n",
    "records.tail(5)"
   ]
  },
  {
   "cell_type": "code",
   "execution_count": null,
   "id": "cd2e4b6e-e8ba-4426-87b5-166b1ce79423",
   "metadata": {},
   "outputs": [],
   "source": [
    "tru.get_leaderboard(app_ids=[\"RAG v1\"])"
   ]
  },
  {
   "cell_type": "code",
   "execution_count": null,
   "id": "20fdfded-6ad3-42fa-833b-f2d22bac4039",
   "metadata": {},
   "outputs": [],
   "source": [
    "tru.run_dashboard()"
   ]
  },
  {
   "cell_type": "code",
   "execution_count": null,
   "id": "b043f9e8-253d-4fab-a784-70a83fbb337e",
   "metadata": {},
   "outputs": [],
   "source": [
    "\n",
    "\n",
    "tru.get_leaderboard(app_ids=[tru_rag.app_id])\n"
   ]
  },
  {
   "cell_type": "code",
   "execution_count": null,
   "id": "07930115-d1e1-43cd-af31-8df69de2a4c8",
   "metadata": {},
   "outputs": [],
   "source": []
  }
 ],
 "metadata": {
  "kernelspec": {
   "display_name": "Python 3 (ipykernel)",
   "language": "python",
   "name": "python3"
  },
  "language_info": {
   "codemirror_mode": {
    "name": "ipython",
    "version": 3
   },
   "file_extension": ".py",
   "mimetype": "text/x-python",
   "name": "python",
   "nbconvert_exporter": "python",
   "pygments_lexer": "ipython3",
   "version": "3.11.8"
  }
 },
 "nbformat": 4,
 "nbformat_minor": 5
}
