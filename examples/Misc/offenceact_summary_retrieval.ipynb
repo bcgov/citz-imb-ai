{
 "cells": [
  {
   "cell_type": "code",
   "execution_count": null,
   "id": "deaa4761-6ddd-43da-b298-aef20824c719",
   "metadata": {
    "tags": []
   },
   "outputs": [],
   "source": [
    "!pip install langchain\n",
    "!pip install neo4j\n",
    "!pip install bs4\n",
    "!pip install llama-index\n",
    "!pip uninstall -y trulens_eval\n",
    "#!pip install trulens-eval==0.25.1\n",
    "!pip install llmlingua\n",
    "!pip install regex\n",
    "!pip uninstall -y trulens_eval\n",
    "!pip install trulens-eval"
   ]
  },
  {
   "cell_type": "code",
   "execution_count": 34,
   "id": "3af608f1-e716-40a2-aa03-9b6dbc825c75",
   "metadata": {
    "tags": []
   },
   "outputs": [],
   "source": [
    "import os\n",
    "from bs4 import BeautifulSoup\n",
    "from langchain_community.graphs import Neo4jGraph\n",
    "from langchain_community.vectorstores import Neo4jVector\n",
    "from langchain.text_splitter import RecursiveCharacterTextSplitter, SentenceTransformersTokenTextSplitter\n",
    "from langchain.chains import RetrievalQAWithSourcesChain\n",
    "import warnings\n",
    "from langchain_community.document_loaders import DirectoryLoader\n",
    "from llama_index.core import SimpleDirectoryReader, StorageContext\n",
    "warnings.filterwarnings(\"ignore\")\n",
    "from langchain_community.embeddings import HuggingFaceEmbeddings\n",
    "import numpy as np\n",
    "from trulens_eval import Tru\n",
    "from trulens_eval.tru_custom_app import instrument\n",
    "from llmlingua import PromptCompressor\n",
    "import re\n",
    "from IPython.core.display import display, HTML"
   ]
  },
  {
   "cell_type": "code",
   "execution_count": 20,
   "id": "94eb77c6-2341-4cd4-ab2b-9f27624baaf2",
   "metadata": {
    "tags": []
   },
   "outputs": [],
   "source": [
    "file_metadata = lambda x: {\"filename\": x}\n",
    "Acts_documents = SimpleDirectoryReader(\"./xml\",file_metadata=file_metadata).load_data()"
   ]
  },
  {
   "cell_type": "code",
   "execution_count": 103,
   "id": "66692491-0266-4cf5-9d48-17ff7b72c7a1",
   "metadata": {
    "tags": []
   },
   "outputs": [],
   "source": [
    "text_splitter1 = RecursiveCharacterTextSplitter(\n",
    "    chunk_size = 1000,\n",
    "    chunk_overlap  = 200,\n",
    "    length_function = len,\n",
    "    separators=[\"\\n\\n\", \"\\n\", \". \", \" \", \"\"],\n",
    ")"
   ]
  },
  {
   "cell_type": "code",
   "execution_count": 71,
   "id": "cbb93f5e-b7b3-4634-bfe8-b26d6fde303b",
   "metadata": {
    "tags": []
   },
   "outputs": [],
   "source": [
    "embeddings = HuggingFaceEmbeddings(model_name=\"mixedbread-ai/mxbai-embed-large-v1\")"
   ]
  },
  {
   "cell_type": "code",
   "execution_count": 171,
   "id": "832a48ee-d92f-42e4-b1a1-9869c372bae6",
   "metadata": {
    "tags": []
   },
   "outputs": [],
   "source": [
    "NEO4J_URI = 'bolt://8.tcp.us-cal-1.ngrok.io:10651'\n",
    "NEO4J_USERNAME = 'neo4j'\n",
    "NEO4J_PASSWORD = '12345678'\n",
    "NEO4J_DATABASE = 'neo4j'\n",
    "\n",
    "# connect with the graph\n",
    "kg = Neo4jGraph(\n",
    "    url=NEO4J_URI, username=NEO4J_USERNAME, password=NEO4J_PASSWORD, database=NEO4J_DATABASE\n",
    ")"
   ]
  },
  {
   "cell_type": "code",
   "execution_count": 54,
   "id": "8b952cd8-0d0e-48a1-bdc9-63f986d2a310",
   "metadata": {
    "tags": []
   },
   "outputs": [],
   "source": [
    "merge_chunk_node_query = \"\"\"\n",
    "MERGE(mergedChunk:SummaryChunk {chunkId: $chunkParam.chunkId})\n",
    "    ON CREATE SET \n",
    "        mergedChunk.chunkSeqId = $chunkParam.chunkSeqId, \n",
    "        mergedChunk.text = $chunkParam.text,\n",
    "        mergedChunk.ActId = $chunkParam.ActId,\n",
    "        mergedChunk.sectionId = $chunkParam.sectionId,\n",
    "        mergedChunk.sectionName = $chunkParam.sectionName,\n",
    "        mergedChunk.summary = $chunkParam.summary\n",
    "RETURN mergedChunk\n",
    "\"\"\"\n",
    "\n",
    "match_chunk_node_query =  \"\"\"\n",
    "        MATCH (chunk:SummaryChunk) WHERE\n",
    "        chunk.chunkId = $chunkParam.chunkId\n",
    "        AND chunk.chunkSeqId = $chunkParam.chunkSeqId\n",
    "        AND chunk.ActId = $chunkParam.ActId\n",
    "        AND chunk.sectionId = $chunkParam.sectionId\n",
    "        AND chunk.sectionName = $chunkParam.sectionName\n",
    "        AND chunk.text = $chunkParam.text\n",
    "        RETURN chunk\n",
    "        \"\"\"\n",
    "\n",
    "create_embeddings = \"\"\"\n",
    "        MATCH (chunk:SummaryChunk) WHERE\n",
    "        chunk.chunkId = $chunkParam.chunkId\n",
    "        AND chunk.chunkSeqId = $chunkParam.chunkSeqId\n",
    "        AND chunk.ActId = $chunkParam.ActId\n",
    "        AND chunk.sectionId = $chunkParam.sectionId\n",
    "        AND chunk.sectionName = $chunkParam.sectionName\n",
    "        AND chunk.text = $chunkParam.text\n",
    "        AND chunk.textEmbedding is NULL\n",
    "        CALL db.create.setNodeVectorProperty(chunk, \"textEmbedding\", $vector)\n",
    "        RETURN chunk\n",
    "    \"\"\"\n",
    "\n",
    "connect_chunks = \"\"\"\n",
    "      MATCH (chunk:SummaryChunk), (f:SummaryChunk)\n",
    "      WHERE\n",
    "        chunk.chunkId = $chunkParam.chunkId\n",
    "        AND chunk.chunkSeqId = $chunkParam.chunkSeqId\n",
    "        AND chunk.ActId = $chunkParam.ActId\n",
    "        AND chunk.sectionId = $chunkParam.sectionId\n",
    "        AND chunk.sectionName = $chunkParam.sectionName\n",
    "        AND f.ActId = $chunkParam.ActId\n",
    "        AND f.sectionId = $chunkParam.connectnedsectionId\n",
    "        AND f.chunkSeqId = 0\n",
    "      MERGE (chunk)-[newRelationship:REFERENCE]->(f)\n",
    "      RETURN count(newRelationship)\n",
    "    \"\"\""
   ]
  },
  {
   "cell_type": "code",
   "execution_count": 10,
   "id": "ea5c2247-7d6f-4b89-9239-bcccd519bfaf",
   "metadata": {
    "tags": []
   },
   "outputs": [],
   "source": [
    "def create_chunk_relationship(act_info):\n",
    "    cypher = \"\"\"\n",
    "  MATCH (from_same_section:SummaryChunk)\n",
    "  WHERE from_same_section.ActId = $ActParam['ActId']\n",
    "  AND from_same_section.sectionName = $ActParam['sectionName']\n",
    "  AND from_same_section.sectionId = $ActParam['sectionId']\n",
    "  WITH from_same_section\n",
    "    ORDER BY from_same_section.chunkSeqId ASC\n",
    "  WITH collect(from_same_section) as section_chunk_list\n",
    "    CALL apoc.nodes.link(\n",
    "        section_chunk_list, \n",
    "        \"NEXT\", \n",
    "        {avoidDuplicates: true}\n",
    "    )  // NEW!!!\n",
    "  RETURN size(section_chunk_list)\n",
    "\"\"\"\n",
    "    kg.query(cypher, params={'ActParam': act_info})"
   ]
  },
  {
   "cell_type": "code",
   "execution_count": 28,
   "id": "1f768465-8520-4baf-9526-422083cc352c",
   "metadata": {
    "tags": []
   },
   "outputs": [],
   "source": [
    "## This function will search for any reference that has the word section or subsection followed by a number\n",
    "def extract_references(str):\n",
    "    references = re.findall(r\"section (\\d+)\", str)\n",
    "      \n",
    "def find_links(subsection):\n",
    "    if not subsection:\n",
    "        return\n",
    "    if (subsection.find_all(\"bcl:link\")):\n",
    "        xml_link = subsection.find_all(\"bcl:link\")[0]['xlink:href']\n",
    "        display(HTML(f'<a href=\"{xml_link}\">{subsection.find_all(\"bcl:link\")[0].get_text()}</a>'))\n",
    "    extract_references(subsection.get_text().replace(\"\\n\\n\", \"\").replace(\"\\r\", \"\"))\n",
    "    return subsection.get_text().replace(\"\\n\", \" \").replace(\"\\r\", \" \")"
   ]
  },
  {
   "cell_type": "code",
   "execution_count": 12,
   "id": "76158ef8-a10b-41cf-823c-c6c6b5346093",
   "metadata": {
    "tags": []
   },
   "outputs": [],
   "source": [
    "\n",
    "#get subsection\n",
    "def subsection(section_definitions, index):\n",
    "    string = \"\"\n",
    "    for subsection_index, subsection in enumerate(section_definitions):\n",
    "        string += \"\\n\" + find_links(subsection)\n",
    "    return string"
   ]
  },
  {
   "cell_type": "code",
   "execution_count": 53,
   "id": "50b2cb05-d317-462e-9ddc-475a6b02d7ec",
   "metadata": {
    "tags": []
   },
   "outputs": [],
   "source": [
    "def create_metadata(token_split_texts,title, section_heading, section_id, summary):\n",
    "    chunks_with_metadata = [] # use this to accumlate chunk records\n",
    "    chunk_seq_id = 0\n",
    "    for chunk in token_split_texts: # only take the first 20 chunks\n",
    "        #form_id = file[file.rindex('/') + 1:file.rindex('.')] # extract form id from file name\n",
    "        # finally, construct a record with metadata and the chunk text\n",
    "        chunks_with_metadata.append({\n",
    "            'text': chunk, \n",
    "            # metadata from looping...\n",
    "            'chunkSeqId': chunk_seq_id,\n",
    "            'chunkId': f'{title}-chunk-{section_heading}-{chunk_seq_id:04d}',\n",
    "            'ActId': f'{title}',\n",
    "            'sectionId': f'{section_id}',\n",
    "            'sectionName':f'{section_heading}',\n",
    "            'summary': f'{summary}',\n",
    "            # constructed metadata...\n",
    "            # metadata from file...\n",
    "        })\n",
    "        chunk_seq_id += 1\n",
    "    return chunks_with_metadata"
   ]
  },
  {
   "cell_type": "code",
   "execution_count": 111,
   "id": "a9c55b10-d8db-4168-9c42-595db0965c35",
   "metadata": {
    "tags": []
   },
   "outputs": [],
   "source": [
    "from llama_index.embeddings.huggingface import HuggingFaceEmbedding\n",
    "embed_model = HuggingFaceEmbedding(model_name=\"mixedbread-ai/mxbai-embed-large-v1\")"
   ]
  },
  {
   "cell_type": "code",
   "execution_count": 218,
   "id": "915c9162-d715-45b6-80e6-1c3435f8bc65",
   "metadata": {
    "tags": []
   },
   "outputs": [],
   "source": [
    "from llama_index.core.node_parser import SentenceSplitter\n",
    "import nltk\n",
    "import time\n",
    "import random\n",
    "\n",
    "def create_chunks(item_text, title, section_heading, section_id):\n",
    "    nltk_tokens = nltk.word_tokenize(item_text)\n",
    "    print(len(nltk_tokens))\n",
    "    time.sleep(10)\n",
    "    prompt = \"summarize this text in detail using simple language:\" + section_heading + \"\\n\" + item_text\n",
    "    # print(prompt)\n",
    "    try:\n",
    "        summary = chat.send_message(prompt).text\n",
    "    except:\n",
    "        print(\"summary failed trying again in 20 sec\")\n",
    "        time.sleep(20)\n",
    "        summary = chat.send_message(prompt).text\n",
    "        \n",
    "    # summary = ai.prompt(message=prompt)\n",
    "    # summary = summary[\"message\"]\n",
    "    print(\"got summary\")\n",
    "    token_split_texts = []\n",
    "    if len(nltk_tokens) > 511:\n",
    "        token_splitter = SentenceSplitter(chunk_size=512,chunk_overlap=20)\n",
    "        token_split_texts += token_splitter.split_text(item_text)\n",
    "    else:\n",
    "        token_split_texts.append(item_text)\n",
    "        \n",
    "    meta_data = create_metadata(token_split_texts,title, section_heading, section_id, summary)    \n",
    "    return meta_data"
   ]
  },
  {
   "cell_type": "code",
   "execution_count": 51,
   "id": "6de1b014-c3e5-43c8-b891-65ba6621cda4",
   "metadata": {
    "tags": []
   },
   "outputs": [],
   "source": [
    "def create_chunk_embeddings(tokens):\n",
    "    for chunk in tokens:\n",
    "        print(f\"Creating `:Chunk` node for chunk ID {chunk['chunkSeqId']}\")\n",
    "        kg.query(merge_chunk_node_query, \n",
    "            params={\n",
    "                'chunkParam': chunk\n",
    "            })\n",
    "        vector = embeddings.embed_query(chunk['text'])\n",
    "        result = kg.query(create_embeddings, params={'chunkParam':chunk, 'vector':vector})\n",
    "        if result:\n",
    "            print(\"Embedding created\")\n",
    "        else:\n",
    "            print(result)\n",
    "            print(\"Embedding not created\")\n",
    "    create_chunk_relationship(tokens[0])       "
   ]
  },
  {
   "cell_type": "code",
   "execution_count": 50,
   "id": "b1d807dc-bb3a-4b13-ba03-4bfb13bcf56f",
   "metadata": {
    "tags": []
   },
   "outputs": [],
   "source": [
    "def create_chunk_neo4j(tokens, search=False):\n",
    "    for chunk in tokens:\n",
    "        if search:\n",
    "            vector = embeddings.embed_query(chunk['text'])\n",
    "            result = kg.query(create_embeddings, params={'chunkParam':chunk, 'vector':vector})\n",
    "            if result:\n",
    "                print(\"Embedding creating\")\n",
    "            else:\n",
    "                print(result)\n",
    "                return\n",
    "        else:\n",
    "            print(f\"Creating `:Chunk` node for chunk ID {chunk['chunkSeqId']}\")\n",
    "            kg.query(merge_chunk_node_query, \n",
    "                    params={\n",
    "                        'chunkParam': chunk\n",
    "                    })\n",
    "    if (not search):\n",
    "        create_chunk_relationship(tokens[0])"
   ]
  },
  {
   "cell_type": "code",
   "execution_count": 216,
   "id": "95bcadec-ebe8-4b02-ae99-e4bd98dd09f3",
   "metadata": {
    "tags": []
   },
   "outputs": [],
   "source": [
    "from tqdm import tqdm \n",
    "def extract_data(file, index,  search=False):\n",
    "    #get the ACT's title\n",
    "    title = file.find('act:title')\n",
    "    if title:\n",
    "        title = title.get_text()\n",
    "        print(title)\n",
    "    else:\n",
    "        return\n",
    "    #get all the sections\n",
    "    preamble = file.find_all('bcl:preamble')\n",
    "    if (preamble):\n",
    "        item_text = subsection(preamble, 0)\n",
    "        token = create_chunks(item_text, title, 'preamble', 0)\n",
    "    sections = file.find_all('bcl:section')\n",
    "    #find the definition subsection\n",
    "    left_sections = [14, 15, 16, 22, 24.2, 82]\n",
    "    for index, section in enumerate(tqdm(sections)):\n",
    "        token = []\n",
    "        section_heading = section.find('bcl:marginalnote')#[0].get_text()\n",
    "        if (section_heading):\n",
    "            section_heading = section_heading.get_text()\n",
    "        else:\n",
    "            section_heading = \"\"\n",
    "        section_definitions = section.find_all('bcl:definition')\n",
    "        if (len(section_definitions) > 1):\n",
    "            continue\n",
    "        #find the remaining subsection\n",
    "        section_subsection = section.find_all('bcl:subsection')\n",
    "        #find the section number\n",
    "        section_number = section.find('bcl:num').get_text()\n",
    "        print(\"section number is:\" + section_number)\n",
    "        if float(section_number) not in left_sections:\n",
    "            continue\n",
    "        if len(section_number):\n",
    "            print(\"section number is:\" + section_number)\n",
    "        #print(section_subsection)\n",
    "        if len(section_subsection):\n",
    "            item_text = subsection(section_subsection, index+1)\n",
    "            print(item_text)\n",
    "            token = create_chunks(item_text, title, section_heading, section_number)\n",
    "        else:\n",
    "            item_text = find_links(section)\n",
    "            token = create_chunks(item_text, title, section_heading, section_number)\n",
    "        # else:\n",
    "        #     print(\"here\")\n",
    "        #     item_text = subsection(section_definitions, index+1)\n",
    "        #     #print(item_text)\n",
    "        #     token = create_chunks(item_text, title, section_heading, index+1)\n",
    "        found = create_chunk_embeddings(token)"
   ]
  },
  {
   "cell_type": "code",
   "execution_count": null,
   "id": "0865f5ef-7e83-419c-b1c3-5d553bce8d5f",
   "metadata": {
    "tags": []
   },
   "outputs": [],
   "source": [
    "soup = BeautifulSoup(Acts_documents[0].get_text(), 'xml') \n"
   ]
  },
  {
   "cell_type": "code",
   "execution_count": 219,
   "id": "19e19cf9-dc95-4f2a-b086-a211545be454",
   "metadata": {
    "tags": []
   },
   "outputs": [
    {
     "name": "stdout",
     "output_type": "stream",
     "text": [
      "Offence Act\n"
     ]
    },
    {
     "name": "stderr",
     "output_type": "stream",
     "text": [
      "  0%|          | 0/155 [00:00<?, ?it/s]"
     ]
    },
    {
     "name": "stdout",
     "output_type": "stream",
     "text": [
      "section number is:2\n",
      "section number is:3\n",
      "section number is:4\n",
      "section number is:5\n",
      "section number is:6\n",
      "section number is:7\n",
      "section number is:8\n",
      "section number is:9\n",
      "section number is:10\n",
      "section number is:10.1\n",
      "section number is:11\n",
      "section number is:12\n",
      "section number is:13\n",
      "section number is:13.1\n",
      "section number is:14\n",
      "section number is:14\n"
     ]
    },
    {
     "data": {
      "text/html": [
       "<a href=\"/legislation/96318_00\">Motor Vehicle Act</a>"
      ],
      "text/plain": [
       "<IPython.core.display.HTML object>"
      ]
     },
     "metadata": {},
     "output_type": "display_data"
    },
    {
     "data": {
      "text/html": [
       "<a href=\"/legislation/96318_00\">Motor Vehicle Act</a>"
      ],
      "text/plain": [
       "<IPython.core.display.HTML object>"
      ]
     },
     "metadata": {},
     "output_type": "display_data"
    },
    {
     "data": {
      "text/html": [
       "<a href=\"/legislation/96318_00\">Motor Vehicle Act</a>"
      ],
      "text/plain": [
       "<IPython.core.display.HTML object>"
      ]
     },
     "metadata": {},
     "output_type": "display_data"
    },
    {
     "data": {
      "text/html": [
       "<a href=\"/legislation/96318_00\">Motor Vehicle Act</a>"
      ],
      "text/plain": [
       "<IPython.core.display.HTML object>"
      ]
     },
     "metadata": {},
     "output_type": "display_data"
    },
    {
     "name": "stdout",
     "output_type": "stream",
     "text": [
      "\n",
      " 1 An enforcement officer may  a sign and issue a violation ticket, other than an eTicket, for contravention of an enactment referred to in the regulations, or   b issue an eTicket for contravention of an enactment referred to in the regulations.  \n",
      " 2 For the purpose of a violation ticket issued to the owner of a motor vehicle in respect of an offence under section 83.1 (2) or (2.1) of the Motor Vehicle Act but without limiting the application of subsection (1) of this section,  a the violation ticket may be created, completed and signed in electronic format by electronic or any other means that allows the violation ticket to be reproduced in intelligible form including, without limitation, electronically,   b in place of signing the violation ticket under subsection (1), the enforcement officer may identify himself or herself as the person making and authenticating the violation ticket by means of an electronic reproduction of his or her signature that is capable of being assigned to that violation ticket only by that enforcement officer,   c the signature referred to in paragraph (b) may be made by electronic or any other means that allows the signature to be reproduced in intelligible form including, without limitation, by electronically storing the signature by means of an electronic scanner or an electronic signature pad,   d if the violation ticket including the enforcement officer's signature is in electronic format, it may be converted from electronic format to paper format for all purposes including, without limitation, for the purposes of subsections (5) and (6),   e if the violation ticket including the enforcement officer's signature is in electronic format, it may be received, transmitted, stored or sent electronically,   f if the violation ticket is sent to the Insurance Corporation of British Columbia in paper format for storage, the corporation may convert it to and store it in electronic format, and   g if the Insurance Corporation of British Columbia has stored the violation ticket in electronic format under paragraph (e) or (f),  i the corporation may provide the violation ticket or a copy of it by reproducing it in electronic format or paper format, or on a record that enables the information to be subsequently displayed or immediately accessible in visible form, and   ii the reproduction referred to in subparagraph (i) has the same effect for all purposes as if it were an original document, if the reproduction  A is certified in writing by an officer of the corporation as being a true reproduction of all the information on the violation ticket, or   B contains a statement that it is an authentic reproduction of all the information on a violation ticket stored in a database in electronic format by the corporation.    \n",
      " 3 A violation ticket is valid even though it is not taken under oath. \n",
      " 4 A violation ticket that is mailed under subsection (6) or served must be in the prescribed form and must contain all of the following:  a a statement of the alleged contravention;   b a statement of the ticketed amount applicable to the alleged contravention;   c an address to which a notice disputing the allegation or the fine portion of the ticketed amount may be delivered;   d a statement that if the allegation or fine is not disputed within the time provided in this Act  i the violation ticket will be treated as not disputed,   ii the person on whom the ticket is served will be deemed to have pleaded guilty to the alleged contravention, and   iii the ticketed amount indicated on the ticket will be payable to the government;    e in the case of a violation ticket issued in respect of an offence under section 83.1 (2) or (2.1) of the Motor Vehicle Act, a statement that if the allegation or fine is disputed within the time provided in section 15 (2) of this Act but the person to whom the ticket was mailed fails to appear before the Provincial Court to dispute the allegation or fine on a date referred to in section 15 (11) (a) or (b),  i the violation ticket will be treated as not disputed,   ii the person will be deemed to have pleaded guilty to the alleged contravention, and   iii the ticketed amount indicated on the ticket will be payable to the government.   \n",
      " 5 Subject to subsection (6), the violation ticket must be sent to the Insurance Corporation of British Columbia and a copy of it must be served on the person alleged to have contravened the enactment. \n",
      " 5.1 A violation ticket that is sent to the Insurance Corporation of British Columbia under subsection (5) is not insufficient or invalid only because the instructions prescribed for the violation ticket under section 132 (2) (a.3) are not sent to the Insurance Corporation of British Columbia with the violation ticket. \n",
      " 6 A copy of a violation ticket issued in respect of an offence by an owner of a motor vehicle under section 83 (2.1) or 83.1 (2) or (2.1) of the Motor Vehicle Act may be sent  a by ordinary mail to the address of the owner as set out in the records of the Insurance Corporation of British Columbia, or   b by registered mail to the address of the owner as set out in the records of the Insurance Corporation of British Columbia.  \n",
      " 7 If service is required by this section, an enforcement officer may serve, or cause to be served, a copy of the violation ticket on the person alleged to have contravened the enactment  a immediately after the alleged contravention,   b in the same manner as a summons is required to be served under this Act, or   c outside the province in accordance with section 14.1.  \n",
      " 8 The use on a violation ticket of  a any word or expression authorized by the regulations made under this Act or another Act to designate an offence, or   b a general description of an offence  is deemed sufficient for all purposes to describe the offence designated by that word or expression. \n",
      " 9 Subject to subsection (10), the person on whom the violation ticket is served may  a dispute an allegation or the amount of the fine portion of the ticketed amount indicated on the ticket in accordance with section 15, or   b pay the ticketed amount indicated on the ticket in accordance with the prescribed instructions.  \n",
      " 10 In the case of a violation ticket issued in respect of an offence under section 83.1 (2) or (2.1) of the Motor Vehicle Act, the person  a on whom the ticket is served, or   b to whom the ticket is mailed under subsection (6) of this section,  may  c dispute an allegation or the amount of the fine portion of the ticketed amount indicated on the ticket in accordance with section 15 of this Act, or   d pay the ticketed amount indicated on the ticket in accordance with the prescribed instructions.  \n",
      " 11 If a person pays all or a portion of the ticketed amount indicated on a violation ticket in accordance with subsection (9) or (10), the person is deemed to have pleaded guilty to the alleged contravention and the unpaid portion of that ticketed amount is immediately payable to the government. \n",
      "1325\n",
      "got summary\n",
      "Creating `:Chunk` node for chunk ID 0\n",
      "Embedding created\n",
      "Creating `:Chunk` node for chunk ID 1\n",
      "Embedding created\n",
      "Creating `:Chunk` node for chunk ID 2\n",
      "Embedding created\n",
      "Creating `:Chunk` node for chunk ID 3\n"
     ]
    },
    {
     "name": "stderr",
     "output_type": "stream",
     "text": [
      " 10%|█         | 16/155 [00:40<05:47,  2.50s/it]"
     ]
    },
    {
     "name": "stdout",
     "output_type": "stream",
     "text": [
      "Embedding created\n",
      "section number is:14.01\n",
      "section number is:14.1\n",
      "section number is:15\n",
      "section number is:15\n",
      "\n",
      " 1 A person on whom a violation ticket has been served may, within 30 days of being served, dispute the allegation or the fine portion of the ticketed amount indicated on the ticket by  a delivering or causing to be delivered to the address set out in the ticket or to an address set out in the instructions prescribed under section 132 (2) (a.3) a written notice of dispute, or   b appearing in person at the location set out in the ticket or at a location set out in the instructions prescribed under section 132 (2) (a.3) to give notice of dispute.  \n",
      " 2 A person to whom a violation ticket has been mailed under section 14 (6) (a) but on whom the ticket has not been served may, within 45 days from the date the ticket is completed, dispute the allegation or the fine portion of the ticketed amount indicated on the ticket by  a delivering or causing to be delivered to the address set out in the ticket or to an address set out in the instructions prescribed under section 132 (2) (a.3) a written notice of dispute, or   b appearing in person at the location set out in the ticket or at a location set out in the instructions prescribed under section 132 (2) (a.3) to give notice of dispute.  \n",
      " 3 A notice of dispute under this section must contain an address for the person disputing the allegation or fine and sufficient information to identify the violation ticket and the alleged contravention or the fine being disputed. \n",
      " 4 For the purpose of this section, a notice of dispute that is delivered by mail is deemed to have been delivered on the date on which it was mailed. \n",
      " 5 A copy of the violation ticket must be referred to the Provincial Court for a hearing when the notice of dispute containing the information referred to in subsection (3) is  a delivered to the address set out in the violation ticket or the address set out in the instructions prescribed under section 132 (2) (a.3), or   b given at the location set out in the violation ticket or the instructions prescribed under section 132 (2) (a.3).  \n",
      " 6 If a copy of the violation ticket is referred to the Provincial Court under subsection (5),  a a notice of hearing, or   b a notice of appearance  must be sent to the person disputing the allegation or fine at the address set out in the notice of dispute. \n",
      " 7 A copy of a violation ticket referred to the Provincial Court under subsection (5) may be  a a microfilm or other photographic reproduction of the violation ticket that is certified in writing by an officer of the Insurance Corporation of British Columbia as being a true reproduction of the ticket, or   b a reproduction of electronically stored information, whether in electronic or paper format or on any other record that enables the information to be subsequently displayed or immediately accessible in visible form, that  i is certified in writing by an officer of the Insurance Corporation of British Columbia as being a true reproduction of all the information on the violation ticket, or   ii contains a statement that it is an authentic reproduction of all the information on a violation ticket stored in a database in electronic format by the corporation,   and the reproduction is deemed to be a copy of the violation ticket. \n",
      " 7.1 Without restricting any other method of complying with subsection (5) in respect of eTickets, the requirement to refer a copy of an eTicket to the Provincial Court is satisfied if the digital record of the eTicket is referred to the court and the court can produce a printout or display, in the prescribed form, of the digital record. \n",
      " 8 When the Provincial Court receives a copy of a violation ticket, the court has jurisdiction to try, determine and adjudge proceedings relating to the violation ticket in accordance with section 8. \n",
      " 8.1 A copy of a violation ticket that is referred to the Provincial Court under subsection (5) and received by the Provincial Court under subsection (8) is not insufficient or invalid only because the instructions prescribed for the violation ticket under section 132 (2) (a.3) are not referred to and received by the Provincial Court with the violation ticket, and the court has jurisdiction to try, determine and adjudge proceedings relating to the violation ticket in accordance with section 8. \n",
      " 9 If a person appears before the Provincial Court at the hearing or appearance on the date set by a notice under subsection (6), section 58 does not apply with respect to the person and the court has jurisdiction to hear the dispute without  a examining the notice of dispute, the notice of hearing or the notice of appearance,   b inquiring into the service of the ticket on the person, or   c inquiring into whether the person received instructions prescribed for the ticket under section 132 (2) (a.3).  \n",
      " 9.1 If a person fails to appear before the Provincial Court at the hearing or appearance on the date set by a notice under subsection (6), the person may, within 30 days after that date, appear before a justice for a determination of whether or not the failure to appear was the person's fault. \n",
      " 10 If a person appears before a justice under subsection (9.1) and the justice is satisfied by affidavit in the prescribed form that the failure to appear was not the person's fault, the justice must  a cause a new date to be set for the hearing or appearance, and   b order the Insurance Corporation of British Columbia or the superintendent to cancel or cease any administrative action that has been taken or commenced by the corporation or the superintendent, as the case may be, as a consequence of the person's failure to appear.  \n",
      " 11 Subject to subsection (12), if a person fails to appear before the Provincial Court at the hearing or appearance  a on the date set by a notice under subsection (6), or   b on any other date set by a justice for a hearing or an appearance in relation to the violation ticket,  the allegation or fine is deemed not to be disputed, the Provincial Court must not try, determine or adjudge the proceedings and section 16 (1) applies. \n",
      " 12 If a person to whom a violation ticket is mailed under section 14 (6) (a) fails to appear before the Provincial Court on a date referred to in subsection (11) (a) or (b) of this section,  a the allegation or fine is deemed not to be disputed and the Provincial Court must not try, determine or adjudge the proceedings,   b the person is deemed to have pleaded guilty to the alleged contravention, and   c the ticketed amount indicated on the ticket is immediately payable to the government.  \n",
      "1273\n",
      "got summary\n",
      "Creating `:Chunk` node for chunk ID 0\n",
      "Embedding created\n",
      "Creating `:Chunk` node for chunk ID 1\n",
      "Embedding created\n",
      "Creating `:Chunk` node for chunk ID 2\n"
     ]
    },
    {
     "name": "stderr",
     "output_type": "stream",
     "text": [
      " 12%|█▏        | 19/155 [01:22<11:17,  4.98s/it]"
     ]
    },
    {
     "name": "stdout",
     "output_type": "stream",
     "text": [
      "Embedding created\n",
      "section number is:15.1\n",
      "section number is:15.2\n",
      "section number is:15.3\n",
      "section number is:15.4\n",
      "section number is:16\n",
      "section number is:16\n",
      "\n",
      " 1 If a person who has been served with a violation ticket under section 14 has not, within 30 days after the ticket was served on the person, either paid all or a portion of the ticketed amount or disputed the allegation or the fine portion of the ticketed amount in accordance with section 15,  a the person is deemed to have pleaded guilty to the alleged contravention, and   b the ticketed amount indicated on the ticket is immediately payable to the government.  \n",
      " 2 Subject to subsection (3), if a person who  a is served with a violation ticket, and   b is convicted under section 15 or deemed to have pleaded guilty under subsection (1)  wishes to dispute the allegation or the amount of the fine, the person must apply to a justice and the justice, on being satisfied of the matters in subsection (2.1) by affidavit in the prescribed form and with or without hearing from the applicant, may make an order striking out the conviction, if any, and allowing the person to dispute the allegation or the amount of the fine portion of the ticketed amount in accordance with sections 15 to 15.4. \n",
      " 2.1 Before making an order under subsection (2) allowing a dispute to proceed, a justice must be satisfied that  a through no fault of the defendant, he or she did not have an opportunity to dispute the allegation or the amount of the fine,   b the defendant had a genuine intention to dispute the ticket before the dispute period under subsection (1) expired,   c no undue prejudice will result from the extension of the dispute period,   d the defendant has an arguable defence to the violation ticket, and   e it is in the interests of justice to allow the dispute to proceed.  \n",
      " 3 If a person  a to whom a violation ticket is mailed under section 14 (6) (a) but on whom the ticket has not been served, and   b who was deemed to have pleaded guilty to the alleged contravention on the ticket under section 14 (11) or 15 (12)  wishes to dispute the allegation or the amount of the fine, the person must apply to a justice and the justice, on being satisfied of the matters in subsection (3.2) by affidavit in the prescribed form and with or without hearing from the applicant, may make an order striking out the conviction, if any, and allowing the person to dispute the allegation or the amount of the fine portion of the ticketed amount in accordance with sections 15 to 15.4. \n",
      " 3.1 For the purposes of a hearing or appearance set in relation to a violation ticket under subsection (3),  a the affidavit referred to in subsection (3) constitutes a notice of dispute under section 15 and is deemed to have been given in accordance with section 15 (5) by the person to whom the ticket was mailed, and   b section 15 (5) to (10) and (12) applies.  \n",
      " 3.2 Before making an order under subsection (3) allowing a dispute to proceed, a justice must be satisfied that  a through no fault of the defendant, he or she did not have an opportunity to dispute the allegation or the amount of the fine, and   b less than 30 days elapsed between the date the conviction first came to the attention of the defendant and the date the defendant made the application under subsection (3).  \n",
      " 4 If a conviction is struck out under subsection (2) or (3), the justice must, on request, give the person a certificate of the fact in the prescribed form. \n",
      " 5 Nothing in subsection (1) is to be construed as abrogating the right of a person to appeal the conviction under section 102. \n",
      " 6 A person to whom subsection (2) or (3) applies may not appeal to the appeal court from  a a conviction to which those subsections apply, or   b an order under those subsections.  \n",
      "740\n",
      "got summary\n",
      "Creating `:Chunk` node for chunk ID 0\n",
      "Embedding created\n",
      "Creating `:Chunk` node for chunk ID 1\n"
     ]
    },
    {
     "name": "stderr",
     "output_type": "stream",
     "text": [
      " 15%|█▌        | 24/155 [02:07<13:43,  6.29s/it]"
     ]
    },
    {
     "name": "stdout",
     "output_type": "stream",
     "text": [
      "Embedding created\n",
      "section number is:17\n",
      "section number is:18\n",
      "section number is:18.1\n",
      "section number is:19\n",
      "section number is:20\n",
      "section number is:21\n",
      "section number is:22\n",
      "section number is:22\n",
      "\n",
      " 1 If a peace officer believes that an offence punishable on conviction has been committed and that it would be impracticable to appear personally before a justice to apply for a warrant in accordance with section 21, the peace officer may submit an information on oath by telephone or other means of telecommunication to a justice designated for that purpose by the chief judge of the Provincial Court. \n",
      " 2 An information submitted by telephone or other means of telecommunication must be on oath and must be recorded word for word by the justice, who must, as soon as practicable, cause the record or a transcription of it, certified by the justice as to time, date and contents, to be filed with the clerk of the court for the territorial division in which the warrant is intended for execution. \n",
      " 3 An oath under subsection (2) may be administered by telephone or other means of telecommunication. \n",
      " 4 An information on oath submitted by telephone or other means of telecommunication must include all of the following:  a a statement of the circumstances that make it impracticable for the peace officer to appear personally before a justice;   b a statement of the offence alleged, the place or premises to be searched and the items alleged to be liable to seizure;   c a statement of the peace officer's grounds for believing that the items liable to seizure in respect of the offence alleged will be found in the place or premises to be searched;   d a statement as to any prior application for a warrant under this section or any other search warrant, in respect of the same matter, of which the peace officer has knowledge.  \n",
      " 5 A justice who is satisfied that an information submitted under this section  a concerns an offence punishable on conviction under an enactment,   b conforms to the requirements of subsection (4),   c discloses reasonable grounds for dispensing with an information presented personally and in writing, and   d discloses reasonable grounds, in accordance with section 21 (1) (a) or (b), for the issuance of a warrant in respect of an offence  may issue a warrant to a peace officer that  e confers the same authority respecting search and seizure as may be conferred by a warrant issued under section 21, and   f requires the warrant to be executed within a period of time that the justice may order.  \n",
      " 6 If a justice issues a warrant by telephone or other means of telecommunication, the following rules apply:  a the justice must complete and sign the warrant in Form 4, noting on its face the time, date and place where it is issued;   b the peace officer, on the direction of the justice, must complete, in duplicate, a facsimile of the warrant in Form 4, noting on its face the name of the justice who issued it and the time, date and place where it was issued;   c the justice must, as soon as practicable after the warrant has been issued, cause the warrant to be filed with the clerk of the court for the territorial division in which the warrant is intended for execution.  \n",
      " 7 A peace officer who executes a warrant issued by telephone or other means of telecommunication must, before entering the place or premises to be searched or as soon as practicable after entering, give a facsimile of the warrant to any person present who appears to be in control of the place or premises. \n",
      " 8 A peace officer who, in any unoccupied place or premises, executes a warrant issued by telephone or other means of telecommunication must, on entering the place or premises or as soon as practicable after entering, cause a facsimile of the warrant to be suitably affixed in a prominent place within the place or premises. \n",
      " 9 A peace officer to whom a warrant is issued by telephone or other means of telecommunication must file a written report with the clerk of the court for the territorial division in which the warrant was intended for execution as soon as practicable but within a period not longer than 7 days after the warrant has been executed, and the report must include  a a statement of the time and date the warrant was executed or, if the warrant was not executed, a statement of the reasons why it was not executed,   b a statement of the things, if any, that were seized under the warrant and the location where they are being held, and   c a statement of the things, if any, that were seized in addition to the things mentioned in the warrant and the location where they are being held, together with a statement of the peace officer's grounds for believing that those additional things had been obtained by, or used in, the commission of an offence.  \n",
      " 10 As soon as reasonably possible, the clerk of the court with whom a written report is filed under subsection (9) must cause the report, together with the information on oath and the warrant to which it pertains, to be brought before a justice to be dealt with under section 24. \n",
      " 11 In any proceeding in which it is material for a court to be satisfied that a search or seizure was authorized by a warrant issued by telephone or other means of telecommunication, the absence of the information on oath, transcribed and certified by the justice as to time, date and contents, or of the original warrant, signed by the justice and carrying on its face a notation of the time, date and place of issuance, is, in the absence of evidence to the contrary, proof that the search or seizure was not authorized by a warrant issued by telephone or other means of telecommunication. \n",
      "1048\n",
      "got summary\n",
      "Creating `:Chunk` node for chunk ID 0\n",
      "Embedding created\n",
      "Creating `:Chunk` node for chunk ID 1\n",
      "Embedding created\n",
      "Creating `:Chunk` node for chunk ID 2\n"
     ]
    },
    {
     "name": "stderr",
     "output_type": "stream",
     "text": [
      " 20%|██        | 31/155 [02:56<13:39,  6.61s/it]"
     ]
    },
    {
     "name": "stdout",
     "output_type": "stream",
     "text": [
      "Embedding created\n",
      "section number is:23\n",
      "section number is:24.1\n",
      "section number is:24.2\n",
      "section number is:24.2\n"
     ]
    },
    {
     "data": {
      "text/html": [
       "<a href=\"/legislation/05029_01\">Civil Forfeiture Act</a>"
      ],
      "text/plain": [
       "<IPython.core.display.HTML object>"
      ]
     },
     "metadata": {},
     "output_type": "display_data"
    },
    {
     "data": {
      "text/html": [
       "<a href=\"/legislation/05029_01\">Civil Forfeiture Act</a>"
      ],
      "text/plain": [
       "<IPython.core.display.HTML object>"
      ]
     },
     "metadata": {},
     "output_type": "display_data"
    },
    {
     "name": "stdout",
     "output_type": "stream",
     "text": [
      "\n",
      " 1 Unless otherwise provided by another enactment, an order for the disposition of a thing seized may be made by application under this section  a to a Provincial Court judge, in the case of a thing ordered detained by a judge of that court, or   b to a justice in any other case.  \n",
      " 1.1 Subsection (1) of this section does not apply if, under section 14.04 (1) (b) (iv) or 23.01 of the Civil Forfeiture Act, the director under that Act serves notice of forfeiture under Part 3.1 of that Act or notice of intent to commence proceedings, as the case may be, on the responsible official having custody of the thing seized, unless  a that notice is withdrawn under section 14.08 (a) or 23.01 (4) (a) (ii) of that Act, or   b in the case of notice of intent to commence proceedings, the 30 day period referred to in section 23.01 (4) (a) of that Act expires and no proceedings are commenced under section 3 of that Act in relation to the thing seized.  \n",
      " 2 An application under this section may be made as follows:  a by the person from whom the thing was seized, on at least 3 days' notice to the Attorney General, if  i the total period for detention under section 24 has expired, or   ii the judge or justice is satisfied that hardship will result unless the application is allowed to be heard earlier;    b by another person claiming to be lawfully entitled to possession of the thing, at any time on at least 3 days' notice to the Attorney General and to the person from whom the thing was seized;   c by a responsible official as required under subsection (3), on at least 3 days' notice to the person from whom the thing was seized.  \n",
      " 3 Unless an application is made under section 24 (5) (c), the responsible official must make an application under this section if  a the responsible official determines that the continued detention of a thing seized is no longer required, or   b the period for detention has expired and no proceedings have been instituted in which the thing seized may be required.  \n",
      " 4 Subject to subsection (5), on an application under this section, the judge or justice  a must order the thing returned to the person from whom it was seized, if that person is lawfully entitled to its possession,   b must order the thing returned to another person lawfully entitled to it, if this person is known and the person from whom the thing was seized is not lawfully entitled to its possession,   c if an order cannot be made under paragraph (a) or (b) because the thing has already been forfeited and sold or otherwise dealt with under paragraph (d) such that it cannot be returned to the applicant, must order that unless otherwise provided by law the applicant be paid the proceeds of sale or the value of the thing seized, and   d if an order is not made under paragraph (a) or (b), may order that the thing is forfeited to the government, to be disposed of as the Attorney General directs or otherwise dealt with in accordance with the law.  \n",
      " 5 An order may be made under subsection (4) only if the judge or justice is satisfied that  a the total period for detention under section 24 has expired and relevant proceedings have not been instituted, or   b the total period for detention has not expired but the continued detention of the thing seized will not be required for the purpose of an investigation or relevant proceedings.  \n",
      " 6 A person aggrieved by an order under this section may appeal the order to the Supreme Court and, for the purposes of the appeal, sections 103 to 114 apply. \n",
      " 7 Despite anything in this section, a thing must not be returned, forfeited or disposed of under an order under subsection (4) until the later of the following:  a 30 days after the order is made under subsection (4);   b if the order under subsection (4) is appealed, 30 days after the decision on the appeal has been given.  \n",
      " 8 This section does not apply if, in relation to a thing seized, proceedings are commenced under section 3 of the Civil Forfeiture Act or the property is forfeited and disposed of by the director under Part 3.1 of that Act. \n",
      "832\n",
      "got summary\n",
      "Creating `:Chunk` node for chunk ID 0\n",
      "Embedding created\n",
      "Creating `:Chunk` node for chunk ID 1\n"
     ]
    },
    {
     "name": "stderr",
     "output_type": "stream",
     "text": [
      " 23%|██▎       | 35/155 [03:45<15:56,  7.97s/it]"
     ]
    },
    {
     "name": "stdout",
     "output_type": "stream",
     "text": [
      "Embedding created\n",
      "section number is:25\n",
      "section number is:26\n",
      "section number is:27\n",
      "section number is:28\n",
      "section number is:29\n",
      "section number is:30\n",
      "section number is:31\n",
      "section number is:31.01\n",
      "section number is:31.1\n",
      "section number is:32\n",
      "section number is:33\n",
      "section number is:34\n",
      "section number is:35\n",
      "section number is:36\n",
      "section number is:37\n",
      "section number is:38\n",
      "section number is:39\n",
      "section number is:40\n",
      "section number is:41\n",
      "section number is:42\n",
      "section number is:43\n",
      "section number is:44\n",
      "section number is:45\n",
      "section number is:46\n",
      "section number is:47\n",
      "section number is:48\n",
      "section number is:49\n",
      "section number is:50\n",
      "section number is:51\n",
      "section number is:52\n",
      "section number is:53\n",
      "section number is:54\n",
      "section number is:55\n",
      "section number is:56\n",
      "section number is:57\n",
      "section number is:58\n",
      "section number is:59\n",
      "section number is:60\n",
      "section number is:61\n",
      "section number is:62\n",
      "section number is:63\n",
      "section number is:63.1\n",
      "section number is:64\n",
      "section number is:65\n",
      "section number is:66\n",
      "section number is:67\n",
      "section number is:68\n",
      "section number is:69\n",
      "section number is:70\n",
      "section number is:71\n",
      "section number is:72\n",
      "section number is:73\n",
      "section number is:74\n",
      "section number is:75\n",
      "section number is:76\n",
      "section number is:77\n",
      "section number is:78\n",
      "section number is:79\n",
      "section number is:80\n",
      "section number is:81\n",
      "section number is:82\n",
      "section number is:82\n"
     ]
    },
    {
     "data": {
      "text/html": [
       "<a href=\"/legislation/96430_01\">Small Claims Act</a>"
      ],
      "text/plain": [
       "<IPython.core.display.HTML object>"
      ]
     },
     "metadata": {},
     "output_type": "display_data"
    },
    {
     "data": {
      "text/html": [
       "<a href=\"/legislation/96478_01\">Victims of Crime Act</a>"
      ],
      "text/plain": [
       "<IPython.core.display.HTML object>"
      ]
     },
     "metadata": {},
     "output_type": "display_data"
    },
    {
     "data": {
      "text/html": [
       "<a href=\"/legislation/96478_01\">Victims of Crime Act</a>"
      ],
      "text/plain": [
       "<IPython.core.display.HTML object>"
      ]
     },
     "metadata": {},
     "output_type": "display_data"
    },
    {
     "name": "stdout",
     "output_type": "stream",
     "text": [
      "\n",
      " 1 Subject to subsection (7), but despite any other provision of this Act, any other Act, regulation, municipal bylaw or order made by a justice, a justice must not, except under the Small Claims Act, order that a person be imprisoned merely because he or she defaults in paying a fine. \n",
      " 2 If a justice imposes a fine authorized by this or any other Act, the justice, despite this Act or the Act under which the fine is imposed, may order that the fine and the victim surcharge levy that is, under section 8.1 of the Victims of Crime Act, to be paid with that fine, be paid  a subject to subsection (3), at once, or   b at a time, in instalments and subject to terms and conditions the justice considers appropriate.  \n",
      " 3 A justice must not make an order under subsection (2) (a) unless  a the justice is satisfied that the person against whom the fine is imposed has sufficient means and ability to enable the person to pay the fine and the victim surcharge levy that is, under section 8.1 of the Victims of Crime Act, to be paid with that fine, at once,   b on being asked by the justice whether he or she desires time for payment, the person against whom the fine is imposed does not request time, or   c the justice has a special reason, which the justice must give orally or in writing, for requiring that the fine and the victim surcharge levy that is, under section 8.1 of the Victims of Crime Act, to be paid with that fine, be paid at once.  \n",
      " 4 In making an order under subsection (2) (b), the justice must consider any representations made by the person against whom the fine is imposed, and must not make the first instalment payable within 14 days after the date of the order. \n",
      " 5 A justice, on application made at any time by the person against whom a fine is imposed, may amend or vary an order made under subsection (2) (b). \n",
      " 6 If a person fails to pay  a a fine and victim surcharge levy in accordance with an order made under subsection (2), or   b a ticketed amount payable as a result of the person being found guilty of or being deemed to have pleaded guilty to the contravention of an enactment alleged in a violation ticket,  a certificate of a person designated in the regulations may be filed with the Supreme Court or Provincial Court stating  c the date of the conviction or the deemed guilty plea, as the case may be, and the amount of the fine and victim surcharge levy or of the ticketed amount, as the case may be,   d the name of the person required to pay the fine and victim surcharge levy or the ticketed amount, as the case may be,   e the date on which the fine and victim surcharge levy or the ticketed amount, as the case may be, was payable,   f the amount of the fine and victim surcharge levy or of the ticketed amount, as the case may be, remaining unpaid, and   g the amount of interest payable under section 82.1 with respect to the unpaid amount of the fine and victim surcharge levy or of the ticketed amount, as the case may be.  \n",
      " 7 A certificate filed with the Supreme Court or Provincial Court under subsection (6) has the same effect, and proceedings may be taken by a person or a class of persons designated by the Attorney General, as if it were a judgment of the Supreme Court for the recovery of a debt in the amounts referred to in subsection (6) (f) and (g) against the person named in the certificate. \n",
      " 8 A certificate may not be filed under subsection (6)  a with respect to a fine and victim surcharge levy payable in accordance with an order made under subsection (2), more than 10 years after the day on which the order is made, and   b with respect to a ticketed amount referred to in subsection (6) (b), more than 10 years after the day on which the person is found guilty of or is deemed to have pleaded guilty to the contravention of an enactment alleged in the violation ticket.  \n",
      "809\n",
      "got summary\n",
      "Creating `:Chunk` node for chunk ID 0\n",
      "Embedding created\n",
      "Creating `:Chunk` node for chunk ID 1\n"
     ]
    },
    {
     "name": "stderr",
     "output_type": "stream",
     "text": [
      "100%|██████████| 155/155 [04:18<00:00,  1.67s/it]"
     ]
    },
    {
     "name": "stdout",
     "output_type": "stream",
     "text": [
      "Embedding created\n",
      "section number is:83\n",
      "section number is:84\n",
      "section number is:85\n",
      "section number is:86\n",
      "section number is:87\n",
      "section number is:88\n",
      "section number is:89\n",
      "section number is:89.1\n",
      "section number is:89.2\n",
      "section number is:89.3\n",
      "section number is:89.4\n",
      "section number is:89.5\n",
      "section number is:89.6\n",
      "section number is:89.7\n",
      "section number is:89.8\n",
      "section number is:90\n",
      "section number is:91\n",
      "section number is:92\n",
      "section number is:93\n",
      "section number is:94\n",
      "section number is:95\n",
      "section number is:96\n",
      "section number is:97\n",
      "section number is:98\n",
      "section number is:99\n",
      "section number is:100\n",
      "section number is:101\n",
      "section number is:102\n",
      "section number is:103\n",
      "section number is:104\n",
      "section number is:105\n",
      "section number is:106\n",
      "section number is:107\n",
      "section number is:108\n",
      "section number is:109\n",
      "section number is:110\n",
      "section number is:111\n",
      "section number is:112\n",
      "section number is:113\n",
      "section number is:114\n",
      "section number is:115\n",
      "section number is:116\n",
      "section number is:117\n",
      "section number is:118\n",
      "section number is:119\n",
      "section number is:120\n",
      "section number is:121\n",
      "section number is:122\n",
      "section number is:123\n",
      "section number is:124\n",
      "section number is:125\n",
      "section number is:126\n",
      "section number is:127\n",
      "section number is:128\n",
      "section number is:129\n",
      "section number is:130\n",
      "section number is:131\n",
      "section number is:132\n",
      "section number is:133\n"
     ]
    },
    {
     "name": "stderr",
     "output_type": "stream",
     "text": [
      "\n"
     ]
    }
   ],
   "source": [
    "extract_data(soup, 0,  False)"
   ]
  },
  {
   "cell_type": "code",
   "execution_count": null,
   "id": "93849859-2036-45b9-abe2-72df79bcfa86",
   "metadata": {},
   "outputs": [],
   "source": [
    "import google.generativeai as genai\n",
    "\n",
    "genai.configure(api_key=\"\")\n",
    "\n",
    "# Set up the model\n",
    "generation_config = {\n",
    "  \"temperature\": 1,\n",
    "  \"top_p\": 0.95,\n",
    "  \"top_k\": 0,\n",
    "  \"max_output_tokens\": 8192\n",
    "}\n",
    "\n",
    "\n",
    "model = genai.GenerativeModel(model_name=\"gemini-1.5-pro-latest\",\n",
    "                              generation_config=generation_config)\n",
    "\n",
    "chat = model.start_chat(history=[])"
   ]
  },
  {
   "cell_type": "code",
   "execution_count": 161,
   "id": "5604e4f1-b57e-4b27-a2d9-e97b1208460e",
   "metadata": {
    "tags": []
   },
   "outputs": [],
   "source": [
    "summary = chat.send_message(\"what is life?\")"
   ]
  },
  {
   "cell_type": "code",
   "execution_count": 162,
   "id": "8379a92e-22ba-4f41-8c44-1e7b74027ab6",
   "metadata": {
    "tags": []
   },
   "outputs": [
    {
     "name": "stdout",
     "output_type": "stream",
     "text": [
      "\"What is life?\" is a vast and complex question that has captivated philosophers and scientists for centuries.  There's no single, definitive answer, as the concept of life can be explored through various lenses:\n",
      "\n",
      "**Biology:** \n",
      "\n",
      "* **Defining Life:** From a biological standpoint, life is often characterized by a set of properties such as organization, metabolism, growth, adaptation, response to stimuli, and reproduction.  Living organisms maintain homeostasis, meaning they regulate their internal environment to remain stable.\n",
      "* **Origins:** The emergence of life on Earth is a captivating mystery. Leading theories point to abiogenesis, where life arose from non-living matter, potentially in environments like primordial soup or near hydrothermal vents. \n",
      "* **Diversity:** Life on Earth showcases astounding diversity, encompassing simple single-celled organisms to complex multicellular life forms like animals, plants, and fungi. \n",
      "\n",
      "**Philosophy:**\n",
      "\n",
      "* **Meaning and Purpose:** Philosophers grapple with the existential questions surrounding life's meaning and purpose. They explore themes of consciousness, existence, and the nature of reality. Different schools of thought offer diverse perspectives, from nihilism to existentialism to various religious and spiritual interpretations.\n",
      "* **Values and Ethics:** The existence of life raises crucial questions about values, ethics, and morality. It prompts us to consider how we should live, interact with others, and treat all living beings.\n",
      "\n",
      "**Personal Experience:**\n",
      "\n",
      "* **Individuality:** Life is a unique journey for each individual, shaped by personal experiences, relationships, and choices. Our perceptions and interpretations of life are influenced by our backgrounds, cultures, and personal values.\n",
      "* **Growth and Fulfillment:** Many individuals seek meaning in life through personal growth, pursuing goals, contributing to society, and connecting with something larger than themselves. \n",
      "\n",
      "Ultimately, the question \"what is life?\" remains open-ended, inviting continuous exploration and reflection from various perspectives.  Is there a specific aspect of life or a particular perspective that you're most interested in exploring further?\n",
      "\n"
     ]
    }
   ],
   "source": [
    "print(summary.text)"
   ]
  },
  {
   "cell_type": "code",
   "execution_count": 163,
   "id": "470517af-21c7-4e33-8095-7d5578f67c9a",
   "metadata": {
    "tags": []
   },
   "outputs": [
    {
     "name": "stdout",
     "output_type": "stream",
     "text": [
      "The age-old question!\n",
      "Life is a complex and multifaceted concept that has been debated and explored by philosophers, scientists, and many other thinkers throughout human history. Here's a brief overview:\n",
      "Biological perspective:\n",
      "Life refers to the characteristic that distinguishes living organisms (such as animals, plants, and microorganisms) from non-living matter. It encompasses the functional, organizational, and developmental processes that occur within an organism, including growth, reproduction, metabolism, and evolution.\n",
      "Philosophical perspective:\n",
      "Life can be seen as a journey, an experience, or a state of being. It encompasses our individual and collective existence, our consciousness, and our relationships with others and the world around us. Philosophers have long grappled with questions about the meaning, purpose, and value of life.\n",
      "Cultural and personal perspective:\n",
      "Life is a rich tapestry of experiences, emotions, and connections. It's shaped by our cultural backgrounds, beliefs, values, and personal experiences. Each person's life is unique, with its own story, struggles, and triumphs.\n",
      "In summary:\n",
      "Life is a dynamic, multifaceted, and precious gift that encompasses our biological, philosophical, cultural, and personal experiences. It's a journey we embark on from birth to death, filled with wonder, challenges, and opportunities for growth and connection.\n",
      "Would you like me to explore any specific aspects of life further?\n",
      "\n"
     ]
    }
   ],
   "source": [
    "from meta_ai_api import MetaAI\n",
    "ai = MetaAI()\n",
    "response = ai.prompt(message=\"what is life\")\n",
    "print(response[\"message\"])\n"
   ]
  },
  {
   "cell_type": "code",
   "execution_count": 197,
   "id": "eefe46f0-538e-40c6-a8ff-6bab30e99f89",
   "metadata": {
    "tags": []
   },
   "outputs": [
    {
     "name": "stdout",
     "output_type": "stream",
     "text": [
      "yey\n"
     ]
    }
   ],
   "source": [
    "left_sections = [14, 15, 16, 22, 24.2, 82]\n",
    "\n",
    "if float(\"14.2\") not in left_sections:\n",
    "    print(\"yey\")"
   ]
  },
  {
   "cell_type": "code",
   "execution_count": null,
   "id": "a17e1480-0689-4f2c-8a2b-9e0b4bc7505e",
   "metadata": {},
   "outputs": [],
   "source": []
  }
 ],
 "metadata": {
  "kernelspec": {
   "display_name": "Python 3.9",
   "language": "python",
   "name": "python3"
  },
  "language_info": {
   "codemirror_mode": {
    "name": "ipython",
    "version": 3
   },
   "file_extension": ".py",
   "mimetype": "text/x-python",
   "name": "python",
   "nbconvert_exporter": "python",
   "pygments_lexer": "ipython3",
   "version": "3.9.16"
  }
 },
 "nbformat": 4,
 "nbformat_minor": 5
}
