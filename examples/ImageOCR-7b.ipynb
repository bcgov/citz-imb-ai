{
 "cells": [
  {
   "cell_type": "code",
   "execution_count": null,
   "metadata": {},
   "outputs": [],
   "source": [
    "# Install required packages\n",
    "!pip install transformers \n",
    "!pip install einops \n",
    "!pip install torchvision \n",
    "!pip install torch\n",
    "!pip install pillow \n",
    "!pip install accelerate \n",
    "!pip install ipywidgets"
   ]
  },
  {
   "cell_type": "code",
   "execution_count": null,
   "metadata": {},
   "outputs": [],
   "source": [
    "# Import necessary libraries\n",
    "import os\n",
    "import json\n",
    "import torch\n",
    "from transformers import AutoModelForCausalLM, AutoProcessor, GenerationConfig\n",
    "from PIL import Image"
   ]
  },
  {
   "cell_type": "code",
   "execution_count": null,
   "metadata": {},
   "outputs": [],
   "source": [
    "# Load the processor\n",
    "processor = AutoProcessor.from_pretrained(\n",
    "    'allenai/Molmo-7B-D-0924',\n",
    "    trust_remote_code=True,\n",
    "    torch_dtype='auto',\n",
    "    device_map='auto'\n",
    ")\n",
    "\n",
    "# load the model\n",
    "model = AutoModelForCausalLM.from_pretrained(\n",
    "    'allenai/Molmo-7B-D-0924',\n",
    "    trust_remote_code=True,\n",
    "    torch_dtype='auto',\n",
    "    device_map='auto'\n",
    ")"
   ]
  },
  {
   "cell_type": "code",
   "execution_count": null,
   "metadata": {},
   "outputs": [],
   "source": [
    "# Specify the folder containing the images\n",
    "image_folder = 'photos'\n",
    "\n",
    "# Initialize a dictionary to store results\n",
    "results = {}"
   ]
  },
  {
   "cell_type": "code",
   "execution_count": null,
   "metadata": {},
   "outputs": [],
   "source": [
    "# Define function to process a single image\n",
    "def process_image(image_path):\n",
    "    inputs = processor.process(\n",
    "        images=[Image.open(image_path)],\n",
    "        text = \"\"\"Analyze and describe the image in detail. Address the following aspects:\n",
    "\n",
    "1. Main Subject: Identify the primary focus or theme of the image.\n",
    "2. Visual Details: Describe key colors, shapes, and significant visual elements.\n",
    "3. Text Content: Summarize any visible text, highlighting main topics and important points.\n",
    "4. Layout and Structure: Outline how elements are arranged and any notable patterns.\n",
    "5. Symbols and Legends: Explain symbols, legends, or keys present in the image.\n",
    "6. Purpose and Context: Infer the likely purpose, audience, or context of the image.\n",
    "\n",
    "Provide a comprehensive description covering all relevant details observed in the image.\"\"\"\n",
    "    )\n",
    "    inputs = {k: v.to(model.device).unsqueeze(0) for k, v in inputs.items()}\n",
    "    with torch.autocast(device_type=\"cpu\", enabled=True, dtype=torch.bfloat16):\n",
    "          output = model.generate_from_batch(\n",
    "          inputs,\n",
    "          GenerationConfig(max_new_tokens=2000, stop_strings=\"<|endoftext|>\"),\n",
    "          tokenizer=processor.tokenizer\n",
    "    )\n",
    "    generated_tokens = output[0,inputs['input_ids'].size(1):]\n",
    "    return processor.tokenizer.decode(generated_tokens, skip_special_tokens=True)"
   ]
  },
  {
   "cell_type": "code",
   "execution_count": null,
   "metadata": {},
   "outputs": [],
   "source": [
    "# Process all images in the folder\n",
    "for filename in os.listdir(image_folder):\n",
    "    if filename.lower().endswith(('.png', '.jpg', '.jpeg', '.gif', '.bmp')):\n",
    "        image_path = os.path.join(image_folder, filename)\n",
    "        results[filename] = process_image(image_path)\n",
    "        print(f\"Processed: {filename}\")"
   ]
  },
  {
   "cell_type": "code",
   "execution_count": null,
   "metadata": {},
   "outputs": [],
   "source": [
    "# Save results to a JSON file\n",
    "with open('image_descriptions.json', 'w') as f:\n",
    "    json.dump(results, f, indent=4)\n",
    "\n",
    "print(\"All images processed. Results saved to 'image_descriptions.json'\")"
   ]
  }
 ],
 "metadata": {
  "language_info": {
   "name": "python"
  }
 },
 "nbformat": 4,
 "nbformat_minor": 2
}
