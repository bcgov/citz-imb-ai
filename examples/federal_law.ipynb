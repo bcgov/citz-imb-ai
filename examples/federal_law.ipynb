{
 "cells": [
  {
   "cell_type": "code",
   "execution_count": 1,
   "id": "8bf23dbd-2df7-4c17-8a87-f115f4cd6050",
   "metadata": {},
   "outputs": [
    {
     "name": "stderr",
     "output_type": "stream",
     "text": [
      "Package protobuf is installed but has a version conflict:\n",
      "\t(protobuf 3.20.3 (/opt/anaconda3/lib/python3.11/site-packages), Requirement.parse('protobuf>=4.23.2'))\n",
      "\n",
      "This package is optional for trulens_eval so this may not be a problem but if\n",
      "you need to use the related optional features and find there are errors, you\n",
      "will need to resolve the conflict:\n",
      "\n",
      "    ```bash\n",
      "    pip install 'protobuf>=4.23.2'\n",
      "    ```\n",
      "\n",
      "If you are running trulens_eval in a notebook, you may need to restart the\n",
      "kernel after resolving the conflict. If your distribution is in a bad place\n",
      "beyond this package, you may need to reinstall trulens_eval so that all of the\n",
      "dependencies get installed and hopefully corrected:\n",
      "    \n",
      "    ```bash\n",
      "    pip uninstall -y trulens_eval\n",
      "    pip install trulens_eval\n",
      "    ```\n",
      "\n",
      "Package watchdog is installed but has a version conflict:\n",
      "\t(watchdog 2.1.6 (/opt/anaconda3/lib/python3.11/site-packages), Requirement.parse('watchdog>=3.0.0'))\n",
      "\n",
      "This package is optional for trulens_eval so this may not be a problem but if\n",
      "you need to use the related optional features and find there are errors, you\n",
      "will need to resolve the conflict:\n",
      "\n",
      "    ```bash\n",
      "    pip install 'watchdog>=3.0.0'\n",
      "    ```\n",
      "\n",
      "If you are running trulens_eval in a notebook, you may need to restart the\n",
      "kernel after resolving the conflict. If your distribution is in a bad place\n",
      "beyond this package, you may need to reinstall trulens_eval so that all of the\n",
      "dependencies get installed and hopefully corrected:\n",
      "    \n",
      "    ```bash\n",
      "    pip uninstall -y trulens_eval\n",
      "    pip install trulens_eval\n",
      "    ```\n",
      "\n",
      "Package scikit-learn is installed but has a version conflict:\n",
      "\t(scikit-learn 1.2.2 (/opt/anaconda3/lib/python3.11/site-packages), Requirement.parse('scikit-learn>=1.3.1'))\n",
      "\n",
      "This package is optional for trulens_eval so this may not be a problem but if\n",
      "you need to use the related optional features and find there are errors, you\n",
      "will need to resolve the conflict:\n",
      "\n",
      "    ```bash\n",
      "    pip install 'scikit-learn>=1.3.1'\n",
      "    ```\n",
      "\n",
      "If you are running trulens_eval in a notebook, you may need to restart the\n",
      "kernel after resolving the conflict. If your distribution is in a bad place\n",
      "beyond this package, you may need to reinstall trulens_eval so that all of the\n",
      "dependencies get installed and hopefully corrected:\n",
      "    \n",
      "    ```bash\n",
      "    pip uninstall -y trulens_eval\n",
      "    pip install trulens_eval\n",
      "    ```\n",
      "\n",
      "Package nbconvert is installed but has a version conflict:\n",
      "\t(nbconvert 7.10.0 (/opt/anaconda3/lib/python3.11/site-packages), Requirement.parse('nbconvert>=7.14.2'))\n",
      "\n",
      "This package is optional for trulens_eval so this may not be a problem but if\n",
      "you need to use the related optional features and find there are errors, you\n",
      "will need to resolve the conflict:\n",
      "\n",
      "    ```bash\n",
      "    pip install 'nbconvert>=7.14.2'\n",
      "    ```\n",
      "\n",
      "If you are running trulens_eval in a notebook, you may need to restart the\n",
      "kernel after resolving the conflict. If your distribution is in a bad place\n",
      "beyond this package, you may need to reinstall trulens_eval so that all of the\n",
      "dependencies get installed and hopefully corrected:\n",
      "    \n",
      "    ```bash\n",
      "    pip uninstall -y trulens_eval\n",
      "    pip install trulens_eval\n",
      "    ```\n",
      "\n",
      "Package litellm is installed but has a version conflict:\n",
      "\t(litellm 1.34.4 (/opt/anaconda3/lib/python3.11/site-packages), Requirement.parse('litellm<=1.24.0,>=1.11.1'))\n",
      "\n",
      "This package is optional for trulens_eval so this may not be a problem but if\n",
      "you need to use the related optional features and find there are errors, you\n",
      "will need to resolve the conflict:\n",
      "\n",
      "    ```bash\n",
      "    pip install 'litellm<=1.24.0,>=1.11.1'\n",
      "    ```\n",
      "\n",
      "If you are running trulens_eval in a notebook, you may need to restart the\n",
      "kernel after resolving the conflict. If your distribution is in a bad place\n",
      "beyond this package, you may need to reinstall trulens_eval so that all of the\n",
      "dependencies get installed and hopefully corrected:\n",
      "    \n",
      "    ```bash\n",
      "    pip uninstall -y trulens_eval\n",
      "    pip install trulens_eval\n",
      "    ```\n",
      "\n"
     ]
    }
   ],
   "source": [
    "import os\n",
    "from bs4 import BeautifulSoup\n",
    "from langchain_community.graphs import Neo4jGraph\n",
    "from langchain_community.vectorstores import Neo4jVector\n",
    "from langchain.text_splitter import RecursiveCharacterTextSplitter, SentenceTransformersTokenTextSplitter\n",
    "from langchain.chains import RetrievalQAWithSourcesChain\n",
    "import warnings\n",
    "from langchain_community.document_loaders import DirectoryLoader\n",
    "from llama_index.core import SimpleDirectoryReader, StorageContext\n",
    "warnings.filterwarnings(\"ignore\")\n",
    "from langchain_community.embeddings import HuggingFaceEmbeddings\n",
    "from sentence_transformers import CrossEncoder\n",
    "import numpy as np\n",
    "from trulens_eval import Tru\n",
    "from trulens_eval.tru_custom_app import instrument\n",
    "from llmlingua import PromptCompressor\n",
    "import re\n",
    "from IPython.core.display import display, HTML"
   ]
  },
  {
   "cell_type": "code",
   "execution_count": 2,
   "id": "2aef8f41-0920-4a3c-b8ba-cc185335dba7",
   "metadata": {},
   "outputs": [],
   "source": [
    "NEO4J_URI = 'bolt://' + 'localhost' + ':7687'\n",
    "NEO4J_USERNAME = 'neo4j'\n",
    "NEO4J_PASSWORD = '12345678'\n",
    "NEO4J_DATABASE = 'neo4j'\n",
    "\n",
    "kg = Neo4jGraph(\n",
    "    url=NEO4J_URI, username=NEO4J_USERNAME, password=NEO4J_PASSWORD, database=NEO4J_DATABASE\n",
    ")"
   ]
  },
  {
   "cell_type": "markdown",
   "id": "a1a2e162-5f5e-4a67-8e1f-f7c13a65e349",
   "metadata": {
    "jp-MarkdownHeadingCollapsed": true
   },
   "source": [
    "### Grab data from federal law website"
   ]
  },
  {
   "cell_type": "code",
   "execution_count": 214,
   "id": "7ea3370d",
   "metadata": {},
   "outputs": [],
   "source": [
    "\n",
    "\n",
    "def grab_link_from_html(url, element, class_name):\n",
    "    html = requests.get(url).text\n",
    "    soup = BeautifulSoup(html, 'html.parser')\n",
    "    # return the href attribute of all in an array\n",
    "    return [a['href'].split(\"/\")[0] for a in soup.find_all(element, class_=class_name)]"
   ]
  },
  {
   "cell_type": "code",
   "execution_count": 168,
   "id": "00f38b21",
   "metadata": {},
   "outputs": [],
   "source": [
    "# find the link to \"Purpose of the act\" and click\n",
    "\n",
    "def grab_purpose_of_act_url(url):\n",
    "    print(url)\n",
    "    html = requests.get(url).text\n",
    "    soup = BeautifulSoup(html, 'html.parser')\n",
    "    # find spam with value \"Purpose of the act\"\n",
    "    span = soup.find_all('span', string=\"Purpose of Act\")\n",
    "    # grab href of the parent of the span\n",
    "    if span == []:\n",
    "        span = soup.find_all('span', string=\"Short Title\")\n",
    "\n",
    "    return span[0].parent['href']\n",
    "    \n",
    "    "
   ]
  },
  {
   "cell_type": "code",
   "execution_count": null,
   "id": "c6a06d69-255e-418b-a534-f182bcc2bdea",
   "metadata": {},
   "outputs": [],
   "source": [
    "\n",
    "\n",
    "acts_index = [ 'A', 'B', 'C', 'D', 'E', 'F', 'G', 'H', 'I', 'J', 'K', 'L', 'M', 'N', 'O', 'P', 'Q', 'R', 'S', 'T', 'U', 'V', 'W', 'Y']\n",
    "\n",
    "gc_url = \"https://laws-lois.justice.gc.ca/eng/regulations/\" # /acts/ for acts\n",
    "gc_xml_url = \"https://laws-lois.justice.gc.ca/eng/XML/\"\n",
    "\n",
    "for act in acts_index:\n",
    "    act_list_url = gc_url + act + \".html\"\n",
    "    # get all the links within a span class \"objTitle\"\n",
    "    act_tags = grab_link_from_html(act_list_url, 'a', \"TocTitle\")\n",
    "    \n",
    "    for tag in act_tags:\n",
    "        xml_url = gc_xml_url + tag + '.xml'\n",
    "        law_url = gc_url + tag + '/page-1.html'\n",
    "        extract_text_from_xml(xml_url, law_url)\n",
    "    \n",
    "    "
   ]
  },
  {
   "cell_type": "code",
   "execution_count": 289,
   "id": "eaaeb7e4-76f9-4a8b-9d57-b1880e691f89",
   "metadata": {},
   "outputs": [],
   "source": [
    "import urllib\n",
    "def extract_text_from_xml(url, law_url):\n",
    "    response = urllib.request.urlopen(url)\n",
    "    data = response.read()\n",
    "    text = data.decode('utf-8') # a `str`;\n",
    "    soup = BeautifulSoup(text,'xml')\n",
    "    # Find the TitleText element with text \"Purpose of Act\"\n",
    "    title = soup.find(\"ShortTitle\")\n",
    "    description = soup.find(\"LongTitle\")\n",
    "\n",
    "    if title and description:\n",
    "        title = title.text\n",
    "        description = description.text\n",
    "\n",
    "    if not title and description:\n",
    "        title = description.text\n",
    "        description = description.text\n",
    "\n",
    "    if not description and title:\n",
    "        title = title.text\n",
    "        description = ''\n",
    "\n",
    "    \n",
    "\n",
    "    heading = soup.find(\"Heading\", text=\"Purpose of Act\")\n",
    "    if not heading :\n",
    "       heading = soup.find(\"Heading\", text=\"Purpose\")\n",
    "    purpose = ''\n",
    "    if heading:\n",
    "        # Get the next sibling, which should contain the text you want\n",
    "        text_after_title = heading.find_next_sibling()\n",
    "        all_text = text_after_title.find_all(\"Text\")\n",
    "        for i in all_text:\n",
    "            purpose += i.text + ' '\n",
    "\n",
    "    pattern = re.compile(r'[^a-zA-Z0-9]')\n",
    "    \n",
    "    path_to_file = os.path.join(\"path to folder\") + re.sub(pattern, '', title[:50]) + '.json'\n",
    "\n",
    "    if not os.path.isfile(path_to_file):\n",
    "        print(\"writing \" + title + '.json')\n",
    "        with open((path_to_file), 'w') as f:\n",
    "            json.dump({\"title\": title,\"url\": law_url,\"description\":description, \"purpose\": purpose}, f)\n",
    "\n",
    "    else :\n",
    "        print (title, \"Already exists\")\n",
    "    \n"
   ]
  },
  {
   "cell_type": "markdown",
   "id": "1560b1d7-af4b-4c85-af18-5bef517daae6",
   "metadata": {
    "jp-MarkdownHeadingCollapsed": true
   },
   "source": [
    "## dumping data to Neo4j"
   ]
  },
  {
   "cell_type": "code",
   "execution_count": 3,
   "id": "6e158b59-0af2-4c85-a4c4-ad563e8052db",
   "metadata": {},
   "outputs": [],
   "source": [
    "embeddings = HuggingFaceEmbeddings(model_name=\"all-MiniLM-L6-v2\")"
   ]
  },
  {
   "cell_type": "code",
   "execution_count": 4,
   "id": "ba202174-452d-447e-ae66-3a2b017e4f06",
   "metadata": {},
   "outputs": [],
   "source": [
    "text_splitter = RecursiveCharacterTextSplitter(\n",
    "    chunk_size = 1000,\n",
    "    chunk_overlap  = 200,\n",
    "    length_function = len,\n",
    "    separators=[\"\\n\\n\", \"\\n\", \". \", \" \", \"\"],\n",
    ")"
   ]
  },
  {
   "cell_type": "code",
   "execution_count": 13,
   "id": "f0d2f06e-c1e1-459a-9851-bbffc8963b01",
   "metadata": {},
   "outputs": [],
   "source": [
    "merge_chunk_node_query = \"\"\"\n",
    "MERGE(mergedChunk:UpdatedChunk {chunkId: $chunkParam.chunkId})\n",
    "    ON CREATE SET \n",
    "        mergedChunk.chunkSeqId = $chunkParam.chunkSeqId, \n",
    "        mergedChunk.text = $chunkParam.text,\n",
    "        mergedChunk.ActId = $chunkParam.ActId,\n",
    "        mergedChunk.Federal = $chunkParam.Federal,\n",
    "        mergedChunk.Regulation = $chunkParam.Regulation,\n",
    "        mergedChunk.Act_url = $chunkParam.Act_url\n",
    "RETURN mergedChunk\n",
    "\"\"\""
   ]
  },
  {
   "cell_type": "code",
   "execution_count": 14,
   "id": "427804d3-1a70-4f09-9e48-229d8eecf689",
   "metadata": {},
   "outputs": [],
   "source": [
    "create_embeddings = \"\"\"\n",
    "        MATCH (chunk:UpdatedChunk) WHERE\n",
    "        chunk.chunkId = $chunkParam.chunkId\n",
    "        AND chunk.chunkSeqId = $chunkParam.chunkSeqId\n",
    "        AND chunk.ActId = $chunkParam.ActId\n",
    "        AND chunk.Act_url = $chunkParam.Act_url\n",
    "        AND chunk.text = $chunkParam.text\n",
    "        AND chunk.Federal = $chunkParam.Federal\n",
    "         AND chunk.Regulation = $chunkParam.Regulation\n",
    "        AND chunk.textEmbedding is NULL\n",
    "        CALL db.create.setNodeVectorProperty(chunk, \"textEmbedding\", $vector)\n",
    "        RETURN chunk\n",
    "    \"\"\"\n"
   ]
  },
  {
   "cell_type": "code",
   "execution_count": 15,
   "id": "9442221b-1721-4b32-a7fd-a5f7ad5eaa9b",
   "metadata": {},
   "outputs": [],
   "source": [
    "def create_metadata(token_split_texts,title, act_url):\n",
    "    chunks_with_metadata = [] # use this to accumlate chunk records\n",
    "    chunk_seq_id = 0\n",
    "    for chunk in token_split_texts: # only take the first 20 chunks\n",
    "        #form_id = file[file.rindex('/') + 1:file.rindex('.')] # extract form id from file name\n",
    "        # finally, construct a record with metadata and the chunk text\n",
    "        chunks_with_metadata.append({\n",
    "            'text': chunk, \n",
    "            # metadata from looping...\n",
    "            'chunkSeqId': chunk_seq_id,\n",
    "            'chunkId': f'{title}-chunk-{chunk_seq_id:04d}',\n",
    "            'ActId': f'{title}',\n",
    "            'Act_url': f'{act_url}',\n",
    "            'Federal': True,\n",
    "            'Regulation': True\n",
    "            # constructed metadata...\n",
    "            # metadata from file...\n",
    "        })\n",
    "        chunk_seq_id += 1\n",
    "    return chunks_with_metadata"
   ]
  },
  {
   "cell_type": "code",
   "execution_count": 16,
   "id": "609b1e7f-c62a-45e9-9a36-71f10c69dc06",
   "metadata": {},
   "outputs": [],
   "source": [
    "def create_chunks(item_text, title, act_url):\n",
    "    item_text_chunks = text_splitter.split_text(item_text) # split the text into chunks\n",
    "    token_splitter = SentenceTransformersTokenTextSplitter(chunk_overlap=20, tokens_per_chunk=256)\n",
    "    token_split_texts = []\n",
    "    for text in item_text_chunks:\n",
    "        token_split_texts += token_splitter.split_text(text)\n",
    "    meta_data = create_metadata(token_split_texts,title, act_url)    \n",
    "    return meta_data"
   ]
  },
  {
   "cell_type": "code",
   "execution_count": 17,
   "id": "807e2088-cbb5-448c-a2a8-9aeffc7b6ebc",
   "metadata": {},
   "outputs": [],
   "source": [
    "def create_chunk_relationship(act_info):\n",
    "    cypher = \"\"\"\n",
    "  MATCH (from_same_section:UpdatedChunk)\n",
    "  WHERE from_same_section.ActId = $ActParam['ActId']\n",
    "  AND from_same_section.Act_url = $ActParam['Act_url']\n",
    "  WITH from_same_section\n",
    "    ORDER BY from_same_section.chunkSeqId ASC\n",
    "  WITH collect(from_same_section) as section_chunk_list\n",
    "    CALL apoc.nodes.link(\n",
    "        section_chunk_list, \n",
    "        \"NEXT\", \n",
    "        {avoidDuplicates: true}\n",
    "    )  // NEW!!!\n",
    "  RETURN size(section_chunk_list)\n",
    "\"\"\"\n",
    "    kg.query(cypher, params={'ActParam': act_info})"
   ]
  },
  {
   "cell_type": "code",
   "execution_count": 10,
   "id": "606a76e7-6545-4abc-a986-54ab10593b5e",
   "metadata": {},
   "outputs": [],
   "source": [
    "def create_chunk_embeddings(tokens):\n",
    "    for chunk in tokens:\n",
    "        # print(f\"Creating `:Chunk` node for chunk ID {chunk['chunkSeqId']}\")\n",
    "        kg.query(merge_chunk_node_query, \n",
    "            params={\n",
    "                'chunkParam': chunk\n",
    "            })\n",
    "        vector = embeddings.embed_query(chunk['text'])\n",
    "        result = kg.query(create_embeddings, params={'chunkParam':chunk, 'vector':vector})\n",
    "        if result:\n",
    "            print(\"Embedding created\")\n",
    "        else:\n",
    "            print(\"Embedding not created\")\n",
    "    create_chunk_relationship(tokens[0])       "
   ]
  },
  {
   "cell_type": "code",
   "execution_count": 18,
   "id": "b411d859-a132-4236-82ed-c39f6f7a4487",
   "metadata": {},
   "outputs": [],
   "source": [
    "def extract_data(json,  search=False):\n",
    "    title = json['title']\n",
    "    act_url = json['url']\n",
    "    text = json['description'] + '\\n ' + json['purpose']\n",
    "    if json['description'] == \"\" and json['purpose'] == \"\":\n",
    "        text = title\n",
    "    print(title)\n",
    "    token = create_chunks(text, title, act_url)\n",
    "    found = create_chunk_embeddings(token)"
   ]
  },
  {
   "cell_type": "code",
   "execution_count": 19,
   "id": "f1004d66-599d-410d-aa0e-179e8ae9325c",
   "metadata": {},
   "outputs": [
    {
     "name": "stderr",
     "output_type": "stream",
     "text": [
      "Processing Files:   0%|          | 0/1721 [00:00<?, ?it/s]"
     ]
    },
    {
     "name": "stdout",
     "output_type": "stream",
     "text": [
      "Fort William First Nation Sawmill Regulations\n"
     ]
    },
    {
     "name": "stderr",
     "output_type": "stream",
     "text": [
      "Processing Files:   0%|          | 1/1721 [00:01<56:00,  1.95s/it]"
     ]
    },
    {
     "name": "stdout",
     "output_type": "stream",
     "text": [
      "Embedding created\n",
      "Canadian Human Rights Benefit Regulations\n"
     ]
    },
    {
     "name": "stderr",
     "output_type": "stream",
     "text": [
      "Processing Files:   0%|          | 2/1721 [00:03<53:52,  1.88s/it]"
     ]
    },
    {
     "name": "stdout",
     "output_type": "stream",
     "text": [
      "Embedding created\n",
      "British Columbia Milk Order\n"
     ]
    },
    {
     "name": "stderr",
     "output_type": "stream",
     "text": [
      "Processing Files:   0%|          | 3/1721 [00:06<1:02:08,  2.17s/it]"
     ]
    },
    {
     "name": "stdout",
     "output_type": "stream",
     "text": [
      "Embedding created\n",
      "Export of One Cent Bronze Coins Permit\n"
     ]
    },
    {
     "name": "stderr",
     "output_type": "stream",
     "text": [
      "Processing Files:   0%|          | 4/1721 [00:08<1:01:00,  2.13s/it]"
     ]
    },
    {
     "name": "stdout",
     "output_type": "stream",
     "text": [
      "Embedding created\n",
      "Formaldehyde Emissions from Composite Wood Products Regulations\n"
     ]
    },
    {
     "name": "stderr",
     "output_type": "stream",
     "text": [
      "Processing Files:   0%|          | 5/1721 [00:10<1:05:43,  2.30s/it]"
     ]
    },
    {
     "name": "stdout",
     "output_type": "stream",
     "text": [
      "Embedding created\n",
      "Customs Accounting Document Error Remission Order\n"
     ]
    },
    {
     "name": "stderr",
     "output_type": "stream",
     "text": [
      "Processing Files:   0%|          | 6/1721 [00:13<1:03:44,  2.23s/it]"
     ]
    },
    {
     "name": "stdout",
     "output_type": "stream",
     "text": [
      "Embedding created\n",
      "Credit Note and Debit Note Information (GST/HST) Regulations\n"
     ]
    },
    {
     "name": "stderr",
     "output_type": "stream",
     "text": [
      "Processing Files:   0%|          | 7/1721 [00:15<1:01:32,  2.15s/it]"
     ]
    },
    {
     "name": "stdout",
     "output_type": "stream",
     "text": [
      "Embedding created\n",
      "Direction to the CRTC (Ineligibility of Non-Canadians)\n"
     ]
    },
    {
     "name": "stderr",
     "output_type": "stream",
     "text": [
      "Processing Files:   0%|          | 8/1721 [00:17<1:00:01,  2.10s/it]"
     ]
    },
    {
     "name": "stdout",
     "output_type": "stream",
     "text": [
      "Embedding created\n",
      "General Export Permit No. EX 27 — Nuclear-Related Dual-Use Goods\n"
     ]
    },
    {
     "name": "stderr",
     "output_type": "stream",
     "text": [
      "Processing Files:   1%|          | 9/1721 [00:18<57:10,  2.00s/it]  "
     ]
    },
    {
     "name": "stdout",
     "output_type": "stream",
     "text": [
      "Embedding created\n",
      "Approved Breath Analysis Instruments Order\n"
     ]
    },
    {
     "name": "stderr",
     "output_type": "stream",
     "text": [
      "Processing Files:   1%|          | 10/1721 [00:20<56:26,  1.98s/it]"
     ]
    },
    {
     "name": "stdout",
     "output_type": "stream",
     "text": [
      "Embedding created\n",
      "Gros Morne National Park of Canada Timber Harvesting Regulations\n"
     ]
    },
    {
     "name": "stderr",
     "output_type": "stream",
     "text": [
      "Processing Files:   1%|          | 11/1721 [00:22<56:29,  1.98s/it]"
     ]
    },
    {
     "name": "stdout",
     "output_type": "stream",
     "text": [
      "Embedding created\n",
      "DHC Shares Sale Regulations\n"
     ]
    },
    {
     "name": "stderr",
     "output_type": "stream",
     "text": [
      "Processing Files:   1%|          | 12/1721 [00:24<57:45,  2.03s/it]"
     ]
    },
    {
     "name": "stdout",
     "output_type": "stream",
     "text": [
      "Embedding created\n",
      "British Preferential Tariff Direct Shipment Without Transhipment Exemption Order — Hong Kong Special Administrative Region of the People’s Republic of China\n"
     ]
    },
    {
     "name": "stderr",
     "output_type": "stream",
     "text": [
      "Processing Files:   1%|          | 13/1721 [00:26<57:33,  2.02s/it]"
     ]
    },
    {
     "name": "stdout",
     "output_type": "stream",
     "text": [
      "Embedding created\n",
      "Classed Ships Inspection Regulations, 1988\n"
     ]
    },
    {
     "name": "stderr",
     "output_type": "stream",
     "text": [
      "Processing Files:   1%|          | 14/1721 [00:28<57:08,  2.01s/it]"
     ]
    },
    {
     "name": "stdout",
     "output_type": "stream",
     "text": [
      "Embedding created\n",
      "Canadian Payments Association By-law No. 9 — Lynx\n"
     ]
    },
    {
     "name": "stderr",
     "output_type": "stream",
     "text": [
      "Processing Files:   1%|          | 15/1721 [00:30<55:20,  1.95s/it]"
     ]
    },
    {
     "name": "stdout",
     "output_type": "stream",
     "text": [
      "Embedding created\n",
      "Annex Code 9075 Sales Tax Remission Order\n"
     ]
    },
    {
     "name": "stderr",
     "output_type": "stream",
     "text": [
      "Processing Files:   1%|          | 16/1721 [00:32<55:08,  1.94s/it]"
     ]
    },
    {
     "name": "stdout",
     "output_type": "stream",
     "text": [
      "Embedding created\n",
      "Canada Deposit Insurance Corporation Differential Premiums By-law\n"
     ]
    },
    {
     "name": "stderr",
     "output_type": "stream",
     "text": [
      "Processing Files:   1%|          | 17/1721 [00:34<55:01,  1.94s/it]"
     ]
    },
    {
     "name": "stdout",
     "output_type": "stream",
     "text": [
      "Embedding created\n",
      "Garbage Pollution Prevention Regulations\n"
     ]
    },
    {
     "name": "stderr",
     "output_type": "stream",
     "text": [
      "Processing Files:   1%|          | 18/1721 [00:36<54:13,  1.91s/it]"
     ]
    },
    {
     "name": "stdout",
     "output_type": "stream",
     "text": [
      "Embedding created\n",
      "Airport Traffic Regulations\n"
     ]
    },
    {
     "name": "stderr",
     "output_type": "stream",
     "text": [
      "Processing Files:   1%|          | 19/1721 [00:38<56:14,  1.98s/it]"
     ]
    },
    {
     "name": "stdout",
     "output_type": "stream",
     "text": [
      "Embedding created\n",
      "Conditions for Exempted Persons Regulations\n"
     ]
    },
    {
     "name": "stderr",
     "output_type": "stream",
     "text": [
      "Processing Files:   1%|          | 20/1721 [00:40<58:11,  2.05s/it]"
     ]
    },
    {
     "name": "stdout",
     "output_type": "stream",
     "text": [
      "Embedding created\n",
      "Canadian Charter of Rights and Freedoms Examination Regulations\n"
     ]
    },
    {
     "name": "stderr",
     "output_type": "stream",
     "text": [
      "Processing Files:   1%|          | 21/1721 [00:44<1:13:26,  2.59s/it]"
     ]
    },
    {
     "name": "stdout",
     "output_type": "stream",
     "text": [
      "Embedding created\n",
      "Canadian Chicken Marketing Quota Regulations\n"
     ]
    },
    {
     "name": "stderr",
     "output_type": "stream",
     "text": [
      "Processing Files:   1%|▏         | 22/1721 [00:46<1:07:40,  2.39s/it]"
     ]
    },
    {
     "name": "stdout",
     "output_type": "stream",
     "text": [
      "Embedding created\n",
      "AECB Cost Recovery Fees Remission Order, 1997\n"
     ]
    },
    {
     "name": "stderr",
     "output_type": "stream",
     "text": [
      "Processing Files:   1%|▏         | 23/1721 [00:48<1:03:54,  2.26s/it]"
     ]
    },
    {
     "name": "stdout",
     "output_type": "stream",
     "text": [
      "Embedding created\n",
      "Gas Pipeline Uniform Accounting Regulations\n"
     ]
    },
    {
     "name": "stderr",
     "output_type": "stream",
     "text": [
      "Processing Files:   1%|▏         | 24/1721 [00:50<1:02:50,  2.22s/it]"
     ]
    },
    {
     "name": "stdout",
     "output_type": "stream",
     "text": [
      "Embedding created\n",
      "Disclosure of Interest (Authorized Foreign Banks) Regulations\n"
     ]
    },
    {
     "name": "stderr",
     "output_type": "stream",
     "text": [
      "Processing Files:   1%|▏         | 25/1721 [00:52<1:02:33,  2.21s/it]"
     ]
    },
    {
     "name": "stdout",
     "output_type": "stream",
     "text": [
      "Embedding created\n",
      "CHFTA Verification of Origin Regulations\n"
     ]
    },
    {
     "name": "stderr",
     "output_type": "stream",
     "text": [
      "Processing Files:   2%|▏         | 26/1721 [00:54<1:00:08,  2.13s/it]"
     ]
    },
    {
     "name": "stdout",
     "output_type": "stream",
     "text": [
      "Embedding created\n",
      "GM Loan Regulations\n"
     ]
    },
    {
     "name": "stderr",
     "output_type": "stream",
     "text": [
      "Processing Files:   2%|▏         | 27/1721 [00:56<58:44,  2.08s/it]  "
     ]
    },
    {
     "name": "stdout",
     "output_type": "stream",
     "text": [
      "Embedding created\n",
      "Brewery Regulations\n"
     ]
    },
    {
     "name": "stderr",
     "output_type": "stream",
     "text": [
      "Processing Files:   2%|▏         | 28/1721 [00:58<1:00:00,  2.13s/it]"
     ]
    },
    {
     "name": "stdout",
     "output_type": "stream",
     "text": [
      "Embedding created\n",
      "Alaska Marine Lines, Inc. Remission Order\n"
     ]
    },
    {
     "name": "stderr",
     "output_type": "stream",
     "text": [
      "Processing Files:   2%|▏         | 29/1721 [01:01<1:03:07,  2.24s/it]"
     ]
    },
    {
     "name": "stdout",
     "output_type": "stream",
     "text": [
      "Embedding created\n",
      "Gjoa Haven Airport Zoning Regulations\n"
     ]
    },
    {
     "name": "stderr",
     "output_type": "stream",
     "text": [
      "Processing Files:   2%|▏         | 30/1721 [01:03<1:02:23,  2.21s/it]"
     ]
    },
    {
     "name": "stdout",
     "output_type": "stream",
     "text": [
      "Embedding created\n",
      "Critical Habitat of the Westslope Cutthroat Trout (Oncorhynchus clarkii lewisi) Alberta Population Order\n"
     ]
    },
    {
     "name": "stderr",
     "output_type": "stream",
     "text": [
      "Processing Files:   2%|▏         | 31/1721 [01:05<1:02:06,  2.20s/it]"
     ]
    },
    {
     "name": "stdout",
     "output_type": "stream",
     "text": [
      "Embedding created\n",
      "Designating the Advisory Council on the Status of Women as a Portion of the Public Service and Authorizing the President to Exercise and Perform all the Powers and Functions of the Treasury Board in Relation to Personnel Management of the Council\n"
     ]
    },
    {
     "name": "stderr",
     "output_type": "stream",
     "text": [
      "Processing Files:   2%|▏         | 32/1721 [01:07<1:01:18,  2.18s/it]"
     ]
    },
    {
     "name": "stdout",
     "output_type": "stream",
     "text": [
      "Embedding created\n",
      "Customs Duties Accelerated Reduction Order, No. 4\n"
     ]
    },
    {
     "name": "stderr",
     "output_type": "stream",
     "text": [
      "Processing Files:   2%|▏         | 33/1721 [01:09<1:00:11,  2.14s/it]"
     ]
    },
    {
     "name": "stdout",
     "output_type": "stream",
     "text": [
      "Embedding created\n",
      "Associate Judges (Federal Court) Regulations\n"
     ]
    },
    {
     "name": "stderr",
     "output_type": "stream",
     "text": [
      "Processing Files:   2%|▏         | 34/1721 [01:12<59:40,  2.12s/it]  "
     ]
    },
    {
     "name": "stdout",
     "output_type": "stream",
     "text": [
      "Embedding created\n",
      "Affiliated Persons (Trust and Loan Companies) Regulations\n"
     ]
    },
    {
     "name": "stderr",
     "output_type": "stream",
     "text": [
      "Processing Files:   2%|▏         | 35/1721 [01:13<58:05,  2.07s/it]"
     ]
    },
    {
     "name": "stdout",
     "output_type": "stream",
     "text": [
      "Embedding created\n",
      "Defence Materiel Loan Regulations\n"
     ]
    },
    {
     "name": "stderr",
     "output_type": "stream",
     "text": [
      "Processing Files:   2%|▏         | 36/1721 [01:15<57:04,  2.03s/it]"
     ]
    },
    {
     "name": "stdout",
     "output_type": "stream",
     "text": [
      "Embedding created\n",
      "Cheese Stabilization Regulations, 1979-80\n"
     ]
    },
    {
     "name": "stderr",
     "output_type": "stream",
     "text": [
      "Processing Files:   2%|▏         | 37/1721 [01:17<56:55,  2.03s/it]"
     ]
    },
    {
     "name": "stdout",
     "output_type": "stream",
     "text": [
      "Embedding created\n",
      "By-law No. 7 Respecting the Large Value Transfer System\n"
     ]
    },
    {
     "name": "stderr",
     "output_type": "stream",
     "text": [
      "Processing Files:   2%|▏         | 38/1721 [01:19<55:46,  1.99s/it]"
     ]
    },
    {
     "name": "stdout",
     "output_type": "stream",
     "text": [
      "Embedding created\n",
      "Canada Disability Savings Regulations\n"
     ]
    },
    {
     "name": "stderr",
     "output_type": "stream",
     "text": [
      "Processing Files:   2%|▏         | 39/1721 [01:21<54:37,  1.95s/it]"
     ]
    },
    {
     "name": "stdout",
     "output_type": "stream",
     "text": [
      "Embedding created\n",
      "Consular Services Fees Regulations\n"
     ]
    },
    {
     "name": "stderr",
     "output_type": "stream",
     "text": [
      "Processing Files:   2%|▏         | 40/1721 [01:23<54:27,  1.94s/it]"
     ]
    },
    {
     "name": "stdout",
     "output_type": "stream",
     "text": [
      "Embedding created\n",
      "Additional Legislative Powers Designation Order\n"
     ]
    },
    {
     "name": "stderr",
     "output_type": "stream",
     "text": [
      "Processing Files:   2%|▏         | 41/1721 [01:26<59:31,  2.13s/it]"
     ]
    },
    {
     "name": "stdout",
     "output_type": "stream",
     "text": [
      "Embedding created\n",
      "Certain Foreign Marine Carriers Remission Order\n"
     ]
    },
    {
     "name": "stderr",
     "output_type": "stream",
     "text": [
      "Processing Files:   2%|▏         | 42/1721 [01:28<1:01:44,  2.21s/it]"
     ]
    },
    {
     "name": "stdout",
     "output_type": "stream",
     "text": [
      "Embedding created\n",
      "British Columbia Prune-plum Stabilization Regulations, 1983\n"
     ]
    },
    {
     "name": "stderr",
     "output_type": "stream",
     "text": [
      "Processing Files:   2%|▏         | 43/1721 [01:30<1:00:02,  2.15s/it]"
     ]
    },
    {
     "name": "stdout",
     "output_type": "stream",
     "text": [
      "Embedding created\n",
      "Frontier Lands Registration Regulations\n"
     ]
    },
    {
     "name": "stderr",
     "output_type": "stream",
     "text": [
      "Processing Files:   3%|▎         | 44/1721 [01:32<58:31,  2.09s/it]  "
     ]
    },
    {
     "name": "stdout",
     "output_type": "stream",
     "text": [
      "Embedding created\n",
      "Chromium Electroplating, Chromium Anodizing and Reverse Etching Regulations\n"
     ]
    },
    {
     "name": "stderr",
     "output_type": "stream",
     "text": [
      "Processing Files:   3%|▎         | 45/1721 [01:34<58:26,  2.09s/it]"
     ]
    },
    {
     "name": "stdout",
     "output_type": "stream",
     "text": [
      "Embedding created\n",
      "Government Employees Land Acquisition Order, 1994, No. 1\n"
     ]
    },
    {
     "name": "stderr",
     "output_type": "stream",
     "text": [
      "Processing Files:   3%|▎         | 46/1721 [01:36<1:00:01,  2.15s/it]"
     ]
    },
    {
     "name": "stdout",
     "output_type": "stream",
     "text": [
      "Embedding created\n",
      "Goods for Production of Aircraft Components Remission Order No. 2\n"
     ]
    },
    {
     "name": "stderr",
     "output_type": "stream",
     "text": [
      "Processing Files:   3%|▎         | 47/1721 [01:38<57:55,  2.08s/it]  "
     ]
    },
    {
     "name": "stdout",
     "output_type": "stream",
     "text": [
      "Embedding created\n",
      "Alberta Fishery Regulations, 1998\n"
     ]
    },
    {
     "name": "stderr",
     "output_type": "stream",
     "text": [
      "Processing Files:   3%|▎         | 48/1721 [01:41<1:00:08,  2.16s/it]"
     ]
    },
    {
     "name": "stdout",
     "output_type": "stream",
     "text": [
      "Embedding created\n",
      "General Adjustment Assistance Regulations\n"
     ]
    },
    {
     "name": "stderr",
     "output_type": "stream",
     "text": [
      "Processing Files:   3%|▎         | 49/1721 [01:43<57:42,  2.07s/it]  "
     ]
    },
    {
     "name": "stdout",
     "output_type": "stream",
     "text": [
      "Embedding created\n",
      "Cargo, Fumigation and Tackle Regulations\n"
     ]
    },
    {
     "name": "stderr",
     "output_type": "stream",
     "text": [
      "Processing Files:   3%|▎         | 50/1721 [01:45<57:10,  2.05s/it]"
     ]
    },
    {
     "name": "stdout",
     "output_type": "stream",
     "text": [
      "Embedding created\n",
      "Rule of the Court of Queen’s Bench of New Brunswick Respecting Pre-Trial Conferences Under Subsection 553.1(2) of the Criminal Code of Canada\n"
     ]
    },
    {
     "name": "stderr",
     "output_type": "stream",
     "text": [
      "Processing Files:   3%|▎         | 51/1721 [01:47<58:16,  2.09s/it]"
     ]
    },
    {
     "name": "stdout",
     "output_type": "stream",
     "text": [
      "Embedding created\n",
      "Certain Ruminants and Their Products Importation Prohibition Regulations, No. 2\n"
     ]
    },
    {
     "name": "stderr",
     "output_type": "stream",
     "text": [
      "Processing Files:   3%|▎         | 52/1721 [01:49<57:43,  2.08s/it]"
     ]
    },
    {
     "name": "stdout",
     "output_type": "stream",
     "text": [
      "Embedding created\n",
      "Air Services Charges Regulations\n"
     ]
    },
    {
     "name": "stderr",
     "output_type": "stream",
     "text": [
      "Processing Files:   3%|▎         | 53/1721 [01:51<56:58,  2.05s/it]"
     ]
    },
    {
     "name": "stdout",
     "output_type": "stream",
     "text": [
      "Embedding created\n",
      "Aviation Occupational Health and Safety Regulations\n"
     ]
    },
    {
     "name": "stderr",
     "output_type": "stream",
     "text": [
      "Processing Files:   3%|▎         | 54/1721 [01:53<56:57,  2.05s/it]"
     ]
    },
    {
     "name": "stdout",
     "output_type": "stream",
     "text": [
      "Embedding created\n",
      "Crew Accommodation Regulations\n"
     ]
    },
    {
     "name": "stderr",
     "output_type": "stream",
     "text": [
      "Processing Files:   3%|▎         | 55/1721 [01:55<55:04,  1.98s/it]"
     ]
    },
    {
     "name": "stdout",
     "output_type": "stream",
     "text": [
      "Embedding created\n",
      "Disclosure of Interest (Retail Associations) Regulations\n"
     ]
    },
    {
     "name": "stderr",
     "output_type": "stream",
     "text": [
      "Processing Files:   3%|▎         | 56/1721 [01:56<52:46,  1.90s/it]"
     ]
    },
    {
     "name": "stdout",
     "output_type": "stream",
     "text": [
      "Embedding created\n",
      "Borrowing of Defence Materials and Equipment Order\n"
     ]
    },
    {
     "name": "stderr",
     "output_type": "stream",
     "text": [
      "Processing Files:   3%|▎         | 57/1721 [01:58<53:34,  1.93s/it]"
     ]
    },
    {
     "name": "stdout",
     "output_type": "stream",
     "text": [
      "Embedding created\n",
      "Canada Gazette (1978) Special Issue Regulations\n"
     ]
    },
    {
     "name": "stderr",
     "output_type": "stream",
     "text": [
      "Processing Files:   3%|▎         | 58/1721 [02:00<54:49,  1.98s/it]"
     ]
    },
    {
     "name": "stdout",
     "output_type": "stream",
     "text": [
      "Embedding created\n",
      "Canadian Chicken Anti-Dumping Regulations\n"
     ]
    },
    {
     "name": "stderr",
     "output_type": "stream",
     "text": [
      "Processing Files:   3%|▎         | 59/1721 [02:03<59:32,  2.15s/it]"
     ]
    },
    {
     "name": "stdout",
     "output_type": "stream",
     "text": [
      "Embedding created\n",
      "Criminal Procedure Rules of the Supreme Court of the Northwest Territories\n"
     ]
    },
    {
     "name": "stderr",
     "output_type": "stream",
     "text": [
      "Processing Files:   3%|▎         | 60/1721 [02:05<57:46,  2.09s/it]"
     ]
    },
    {
     "name": "stdout",
     "output_type": "stream",
     "text": [
      "Embedding created\n",
      "Critical Habitat of the Round Pigtoe (Pleurobema sintoxia) Order\n"
     ]
    },
    {
     "name": "stderr",
     "output_type": "stream",
     "text": [
      "Processing Files:   4%|▎         | 61/1721 [02:07<58:16,  2.11s/it]"
     ]
    },
    {
     "name": "stdout",
     "output_type": "stream",
     "text": [
      "Embedding created\n",
      "Cape Breton Development Corporation Employees Pre-Retirement Remission Order\n"
     ]
    },
    {
     "name": "stderr",
     "output_type": "stream",
     "text": [
      "Processing Files:   4%|▎         | 62/1721 [02:09<58:52,  2.13s/it]"
     ]
    },
    {
     "name": "stdout",
     "output_type": "stream",
     "text": [
      "Embedding created\n",
      "Canadian Patrol Frigate Project Remission Order\n"
     ]
    },
    {
     "name": "stderr",
     "output_type": "stream",
     "text": [
      "Processing Files:   4%|▎         | 63/1721 [02:11<57:24,  2.08s/it]"
     ]
    },
    {
     "name": "stdout",
     "output_type": "stream",
     "text": [
      "Embedding created\n",
      "Expiry of the Application of Section 12.1 of the Softwood Lumber Products Export Charge Act, 2006 Regulations\n"
     ]
    },
    {
     "name": "stderr",
     "output_type": "stream",
     "text": [
      "Processing Files:   4%|▎         | 64/1721 [02:14<1:05:08,  2.36s/it]"
     ]
    },
    {
     "name": "stdout",
     "output_type": "stream",
     "text": [
      "Embedding created\n",
      "Equivalent Courses (GST/HST) Regulations\n"
     ]
    },
    {
     "name": "stderr",
     "output_type": "stream",
     "text": [
      "Processing Files:   4%|▍         | 65/1721 [02:16<1:01:08,  2.22s/it]"
     ]
    },
    {
     "name": "stdout",
     "output_type": "stream",
     "text": [
      "Embedding created\n",
      "Criminal Rules of the Supreme Court of British Columbia\n"
     ]
    },
    {
     "name": "stderr",
     "output_type": "stream",
     "text": [
      "Processing Files:   4%|▍         | 66/1721 [02:18<58:49,  2.13s/it]  "
     ]
    },
    {
     "name": "stdout",
     "output_type": "stream",
     "text": [
      "Embedding created\n",
      "Formal Documents Regulations\n"
     ]
    },
    {
     "name": "stderr",
     "output_type": "stream",
     "text": [
      "Processing Files:   4%|▍         | 67/1721 [02:20<57:25,  2.08s/it]"
     ]
    },
    {
     "name": "stdout",
     "output_type": "stream",
     "text": [
      "Embedding created\n",
      "Foreign Ports Transhipped Goods Remission Order\n"
     ]
    },
    {
     "name": "stderr",
     "output_type": "stream",
     "text": [
      "Processing Files:   4%|▍         | 68/1721 [02:22<58:47,  2.13s/it]"
     ]
    },
    {
     "name": "stdout",
     "output_type": "stream",
     "text": [
      "Embedding created\n",
      "Evaluation of Impaired Operation (Drugs and Alcohol) Regulations\n"
     ]
    },
    {
     "name": "stderr",
     "output_type": "stream",
     "text": [
      "Processing Files:   4%|▍         | 69/1721 [02:25<1:07:46,  2.46s/it]"
     ]
    },
    {
     "name": "stdout",
     "output_type": "stream",
     "text": [
      "Embedding created\n",
      "Directive to the Canadian Nuclear Safety Commission Regarding the Health of Canadians\n"
     ]
    },
    {
     "name": "stderr",
     "output_type": "stream",
     "text": [
      "Processing Files:   4%|▍         | 70/1721 [02:27<1:03:34,  2.31s/it]"
     ]
    },
    {
     "name": "stdout",
     "output_type": "stream",
     "text": [
      "Embedding created\n",
      "British Columbia Prunes Stabilization Regulations, 1987\n"
     ]
    },
    {
     "name": "stderr",
     "output_type": "stream",
     "text": [
      "Processing Files:   4%|▍         | 71/1721 [02:30<1:01:48,  2.25s/it]"
     ]
    },
    {
     "name": "stdout",
     "output_type": "stream",
     "text": [
      "Embedding created\n",
      "Definition of Settler for the Purpose of Tariff Item No. 9807.00.00 Regulations\n"
     ]
    },
    {
     "name": "stderr",
     "output_type": "stream",
     "text": [
      "Processing Files:   4%|▍         | 72/1721 [02:32<1:00:30,  2.20s/it]"
     ]
    },
    {
     "name": "stdout",
     "output_type": "stream",
     "text": [
      "Embedding created\n",
      "Customs Brokers Licensing Regulations\n"
     ]
    },
    {
     "name": "stderr",
     "output_type": "stream",
     "text": [
      "Processing Files:   4%|▍         | 73/1721 [02:34<58:28,  2.13s/it]  "
     ]
    },
    {
     "name": "stdout",
     "output_type": "stream",
     "text": [
      "Embedding created\n",
      "Advance Payments for Crops Collection Regulations\n"
     ]
    },
    {
     "name": "stderr",
     "output_type": "stream",
     "text": [
      "Processing Files:   4%|▍         | 74/1721 [02:36<1:00:45,  2.21s/it]"
     ]
    },
    {
     "name": "stdout",
     "output_type": "stream",
     "text": [
      "Embedding created\n",
      "Application to Canadian Penitentiary Service Regulations\n"
     ]
    },
    {
     "name": "stderr",
     "output_type": "stream",
     "text": [
      "Processing Files:   4%|▍         | 75/1721 [02:38<1:01:25,  2.24s/it]"
     ]
    },
    {
     "name": "stdout",
     "output_type": "stream",
     "text": [
      "Embedding created\n",
      "Air Canada Pension Plan Funding Regulations, 2014\n"
     ]
    },
    {
     "name": "stderr",
     "output_type": "stream",
     "text": [
      "Processing Files:   4%|▍         | 76/1721 [02:40<1:00:48,  2.22s/it]"
     ]
    },
    {
     "name": "stdout",
     "output_type": "stream",
     "text": [
      "Embedding created\n",
      "Cost of Borrowing (Trust and Loan Companies) Regulations\n"
     ]
    },
    {
     "name": "stderr",
     "output_type": "stream",
     "text": [
      "Processing Files:   4%|▍         | 77/1721 [02:42<58:26,  2.13s/it]  "
     ]
    },
    {
     "name": "stdout",
     "output_type": "stream",
     "text": [
      "Embedding created\n",
      "Airline Guide Catalogue Remission Order\n"
     ]
    },
    {
     "name": "stderr",
     "output_type": "stream",
     "text": [
      "Processing Files:   5%|▍         | 78/1721 [02:44<56:59,  2.08s/it]"
     ]
    },
    {
     "name": "stdout",
     "output_type": "stream",
     "text": [
      "Embedding created\n",
      "Corporate Interrelationships (Banks and Bank Holding Companies) Regulations\n"
     ]
    },
    {
     "name": "stderr",
     "output_type": "stream",
     "text": [
      "Processing Files:   5%|▍         | 79/1721 [02:46<55:19,  2.02s/it]"
     ]
    },
    {
     "name": "stdout",
     "output_type": "stream",
     "text": [
      "Embedding created\n",
      "British Columbia Sport Fishing Regulations, 1996\n"
     ]
    },
    {
     "name": "stderr",
     "output_type": "stream",
     "text": [
      "Processing Files:   5%|▍         | 80/1721 [02:48<54:33,  1.99s/it]"
     ]
    },
    {
     "name": "stdout",
     "output_type": "stream",
     "text": [
      "Embedding created\n",
      "Canada – Newfoundland and Labrador Offshore Marine Installations and Structures Occupational Health and Safety Transitional Regulations\n"
     ]
    },
    {
     "name": "stderr",
     "output_type": "stream",
     "text": [
      "Processing Files:   5%|▍         | 81/1721 [02:50<56:35,  2.07s/it]"
     ]
    },
    {
     "name": "stdout",
     "output_type": "stream",
     "text": [
      "Embedding created\n",
      "Canadian Turkey Marketing Quota Regulations, 1990\n"
     ]
    },
    {
     "name": "stderr",
     "output_type": "stream",
     "text": [
      "Processing Files:   5%|▍         | 82/1721 [02:53<56:43,  2.08s/it]"
     ]
    },
    {
     "name": "stdout",
     "output_type": "stream",
     "text": [
      "Embedding created\n",
      "Great Lakes Fishery Commission Privileges and Immunities Order\n"
     ]
    },
    {
     "name": "stderr",
     "output_type": "stream",
     "text": [
      "Processing Files:   5%|▍         | 83/1721 [02:55<57:29,  2.11s/it]"
     ]
    },
    {
     "name": "stdout",
     "output_type": "stream",
     "text": [
      "Embedding created\n",
      "Fees in Respect of Fingerprinting and Criminal Record Verification (Reclaimed Names) Remission Order\n"
     ]
    },
    {
     "name": "stderr",
     "output_type": "stream",
     "text": [
      "Processing Files:   5%|▍         | 84/1721 [02:57<58:16,  2.14s/it]"
     ]
    },
    {
     "name": "stdout",
     "output_type": "stream",
     "text": [
      "Embedding created\n",
      "Canadian Forces Compulsory Early Superannuation Regulations\n"
     ]
    },
    {
     "name": "stderr",
     "output_type": "stream",
     "text": [
      "Processing Files:   5%|▍         | 85/1721 [02:59<59:08,  2.17s/it]"
     ]
    },
    {
     "name": "stdout",
     "output_type": "stream",
     "text": [
      "Embedding created\n",
      "Corporations Returns Regulations\n"
     ]
    },
    {
     "name": "stderr",
     "output_type": "stream",
     "text": [
      "Processing Files:   5%|▍         | 86/1721 [03:01<58:21,  2.14s/it]"
     ]
    },
    {
     "name": "stdout",
     "output_type": "stream",
     "text": [
      "Embedding created\n",
      "Agriculture and Agri-Food Administrative Monetary Penalties Regulations\n"
     ]
    },
    {
     "name": "stderr",
     "output_type": "stream",
     "text": [
      "Processing Files:   5%|▌         | 87/1721 [03:03<56:04,  2.06s/it]"
     ]
    },
    {
     "name": "stdout",
     "output_type": "stream",
     "text": [
      "Embedding created\n",
      "Apple Stabilization Regulations, 1983 and 1984\n"
     ]
    },
    {
     "name": "stderr",
     "output_type": "stream",
     "text": [
      "Processing Files:   5%|▌         | 88/1721 [03:05<56:32,  2.08s/it]"
     ]
    },
    {
     "name": "stdout",
     "output_type": "stream",
     "text": [
      "Embedding created\n",
      "Coin-operated Devices (Streamlined Accounting Users) Remission Order\n"
     ]
    },
    {
     "name": "stderr",
     "output_type": "stream",
     "text": [
      "Processing Files:   5%|▌         | 89/1721 [03:07<56:29,  2.08s/it]"
     ]
    },
    {
     "name": "stdout",
     "output_type": "stream",
     "text": [
      "Embedding created\n",
      "Canadian Broiler Hatching Egg and Chick Orderly Marketing Regulations\n"
     ]
    },
    {
     "name": "stderr",
     "output_type": "stream",
     "text": [
      "Processing Files:   5%|▌         | 90/1721 [03:09<55:41,  2.05s/it]"
     ]
    },
    {
     "name": "stdout",
     "output_type": "stream",
     "text": [
      "Embedding created\n",
      "Aggregate Financial Exposure (Insurance Companies) Regulations\n"
     ]
    },
    {
     "name": "stderr",
     "output_type": "stream",
     "text": [
      "Processing Files:   5%|▌         | 91/1721 [03:11<54:22,  2.00s/it]"
     ]
    },
    {
     "name": "stdout",
     "output_type": "stream",
     "text": [
      "Embedding created\n",
      "Deposit Insurance Application Fee By-law\n"
     ]
    },
    {
     "name": "stderr",
     "output_type": "stream",
     "text": [
      "Processing Files:   5%|▌         | 92/1721 [03:13<54:44,  2.02s/it]"
     ]
    },
    {
     "name": "stdout",
     "output_type": "stream",
     "text": [
      "Embedding created\n",
      "Exemption from Restrictions on Investments (Trust and Loan Companies) Regulations\n"
     ]
    },
    {
     "name": "stderr",
     "output_type": "stream",
     "text": [
      "Processing Files:   5%|▌         | 93/1721 [03:16<59:03,  2.18s/it]"
     ]
    },
    {
     "name": "stdout",
     "output_type": "stream",
     "text": [
      "Embedding created\n",
      "Equity of a Cooperative Credit Association Regulations\n"
     ]
    },
    {
     "name": "stderr",
     "output_type": "stream",
     "text": [
      "Processing Files:   5%|▌         | 94/1721 [03:18<56:53,  2.10s/it]"
     ]
    },
    {
     "name": "stdout",
     "output_type": "stream",
     "text": [
      "Embedding created\n",
      "Designating the Office of the Co-ordinator, Status of Women as a Department, the Minister of National Health and Welfare as Appropriate Minister and the Co-ordinator as Deputy Head\n"
     ]
    },
    {
     "name": "stderr",
     "output_type": "stream",
     "text": [
      "Processing Files:   6%|▌         | 95/1721 [03:20<55:55,  2.06s/it]"
     ]
    },
    {
     "name": "stdout",
     "output_type": "stream",
     "text": [
      "Embedding created\n",
      "Canadian Forces Laundries Order\n"
     ]
    },
    {
     "name": "stderr",
     "output_type": "stream",
     "text": [
      "Processing Files:   6%|▌         | 96/1721 [03:22<54:05,  2.00s/it]"
     ]
    },
    {
     "name": "stdout",
     "output_type": "stream",
     "text": [
      "Embedding created\n",
      "Energy Efficiency Regulations, 2016\n"
     ]
    },
    {
     "name": "stderr",
     "output_type": "stream",
     "text": [
      "Processing Files:   6%|▌         | 97/1721 [03:24<55:57,  2.07s/it]"
     ]
    },
    {
     "name": "stdout",
     "output_type": "stream",
     "text": [
      "Embedding created\n",
      "Coppermine Airport Zoning Regulations\n"
     ]
    },
    {
     "name": "stderr",
     "output_type": "stream",
     "text": [
      "Processing Files:   6%|▌         | 98/1721 [03:26<54:27,  2.01s/it]"
     ]
    },
    {
     "name": "stdout",
     "output_type": "stream",
     "text": [
      "Embedding created\n",
      "Canada-Chile Free Trade Agreement Fruit and Vegetable Aggregate Quantity Limit Order\n"
     ]
    },
    {
     "name": "stderr",
     "output_type": "stream",
     "text": [
      "Processing Files:   6%|▌         | 99/1721 [03:30<1:14:09,  2.74s/it]"
     ]
    },
    {
     "name": "stdout",
     "output_type": "stream",
     "text": [
      "Embedding created\n",
      "Exclusion List Regulations\n"
     ]
    },
    {
     "name": "stderr",
     "output_type": "stream",
     "text": [
      "Processing Files:   6%|▌         | 100/1721 [03:32<1:08:24,  2.53s/it]"
     ]
    },
    {
     "name": "stdout",
     "output_type": "stream",
     "text": [
      "Embedding created\n",
      "Health of Animals Regulations\n"
     ]
    },
    {
     "name": "stderr",
     "output_type": "stream",
     "text": [
      "Processing Files:   6%|▌         | 101/1721 [03:34<1:04:17,  2.38s/it]"
     ]
    },
    {
     "name": "stdout",
     "output_type": "stream",
     "text": [
      "Embedding created\n",
      "Critical Habitat of the Vananda Creek Limnetic Threespine Stickleback (Gasterosteus aculeatus) Order\n"
     ]
    },
    {
     "name": "stderr",
     "output_type": "stream",
     "text": [
      "Processing Files:   6%|▌         | 102/1721 [03:36<1:00:37,  2.25s/it]"
     ]
    },
    {
     "name": "stdout",
     "output_type": "stream",
     "text": [
      "Embedding created\n",
      "Emergency Measures Regulations\n"
     ]
    },
    {
     "name": "stderr",
     "output_type": "stream",
     "text": [
      "Processing Files:   6%|▌         | 103/1721 [03:38<59:52,  2.22s/it]  "
     ]
    },
    {
     "name": "stdout",
     "output_type": "stream",
     "text": [
      "Embedding created\n",
      "Competition Tribunal Rules\n"
     ]
    },
    {
     "name": "stderr",
     "output_type": "stream",
     "text": [
      "Processing Files:   6%|▌         | 104/1721 [03:40<57:41,  2.14s/it]"
     ]
    },
    {
     "name": "stdout",
     "output_type": "stream",
     "text": [
      "Embedding created\n",
      "Certain Taxpayers Remission Order, 2000-3\n"
     ]
    },
    {
     "name": "stderr",
     "output_type": "stream",
     "text": [
      "Processing Files:   6%|▌         | 105/1721 [03:43<1:01:16,  2.28s/it]"
     ]
    },
    {
     "name": "stdout",
     "output_type": "stream",
     "text": [
      "Embedding created\n",
      "Canada Lands Surveyors Regulations\n"
     ]
    },
    {
     "name": "stderr",
     "output_type": "stream",
     "text": [
      "Processing Files:   6%|▌         | 106/1721 [03:45<58:06,  2.16s/it]  "
     ]
    },
    {
     "name": "stdout",
     "output_type": "stream",
     "text": [
      "Embedding created\n",
      "Citizenship Fees Remission Order\n"
     ]
    },
    {
     "name": "stderr",
     "output_type": "stream",
     "text": [
      "Processing Files:   6%|▌         | 107/1721 [03:47<56:35,  2.10s/it]"
     ]
    },
    {
     "name": "stdout",
     "output_type": "stream",
     "text": [
      "Embedding created\n",
      "Fertilizers Regulations\n"
     ]
    },
    {
     "name": "stderr",
     "output_type": "stream",
     "text": [
      "Processing Files:   6%|▋         | 108/1721 [03:49<56:26,  2.10s/it]"
     ]
    },
    {
     "name": "stdout",
     "output_type": "stream",
     "text": [
      "Embedding created\n",
      "Approved Screening Devices Order\n"
     ]
    },
    {
     "name": "stderr",
     "output_type": "stream",
     "text": [
      "Processing Files:   6%|▋         | 109/1721 [03:51<57:09,  2.13s/it]"
     ]
    },
    {
     "name": "stdout",
     "output_type": "stream",
     "text": [
      "Embedding created\n",
      "Department of Public Works Terms Under Three Months Exclusion Approval Order, 1993\n"
     ]
    },
    {
     "name": "stderr",
     "output_type": "stream",
     "text": [
      "Processing Files:   6%|▋         | 110/1721 [03:53<56:23,  2.10s/it]"
     ]
    },
    {
     "name": "stdout",
     "output_type": "stream",
     "text": [
      "Embedding created\n",
      "Embedding created\n",
      "Fort McKay First Nation Oil Sands Regulations\n"
     ]
    },
    {
     "name": "stderr",
     "output_type": "stream",
     "text": [
      "Processing Files:   6%|▋         | 111/1721 [03:55<54:18,  2.02s/it]"
     ]
    },
    {
     "name": "stdout",
     "output_type": "stream",
     "text": [
      "Embedding created\n",
      "Directions to the CRTC (Direct-to-Home (DTH) Pay-Per-View Television Programming Undertakings) Order\n"
     ]
    },
    {
     "name": "stderr",
     "output_type": "stream",
     "text": [
      "Processing Files:   7%|▋         | 112/1721 [03:57<53:07,  1.98s/it]"
     ]
    },
    {
     "name": "stdout",
     "output_type": "stream",
     "text": [
      "Embedding created\n",
      "CJFTA Rules of Origin for Casual Goods Regulations\n"
     ]
    },
    {
     "name": "stderr",
     "output_type": "stream",
     "text": [
      "Processing Files:   7%|▋         | 113/1721 [03:59<53:09,  1.98s/it]"
     ]
    },
    {
     "name": "stdout",
     "output_type": "stream",
     "text": [
      "Embedding created\n",
      "Certain Refractory Products Remission Order\n"
     ]
    },
    {
     "name": "stderr",
     "output_type": "stream",
     "text": [
      "Processing Files:   7%|▋         | 114/1721 [04:01<53:52,  2.01s/it]"
     ]
    },
    {
     "name": "stdout",
     "output_type": "stream",
     "text": [
      "Embedding created\n",
      "Customs Sufferance Warehouses Regulations\n"
     ]
    },
    {
     "name": "stderr",
     "output_type": "stream",
     "text": [
      "Processing Files:   7%|▋         | 115/1721 [04:03<52:58,  1.98s/it]"
     ]
    },
    {
     "name": "stdout",
     "output_type": "stream",
     "text": [
      "Embedding created\n",
      "Expropriation Act Basic Rate Order\n"
     ]
    },
    {
     "name": "stderr",
     "output_type": "stream",
     "text": [
      "Processing Files:   7%|▋         | 116/1721 [04:05<52:38,  1.97s/it]"
     ]
    },
    {
     "name": "stdout",
     "output_type": "stream",
     "text": [
      "Embedding created\n",
      "Canada–Newfoundland and Labrador Offshore Area Petroleum Operations Framework Regulations\n"
     ]
    },
    {
     "name": "stderr",
     "output_type": "stream",
     "text": [
      "Processing Files:   7%|▋         | 117/1721 [04:07<53:50,  2.01s/it]"
     ]
    },
    {
     "name": "stdout",
     "output_type": "stream",
     "text": [
      "Embedding created\n",
      "British Columbia Court of Appeal Criminal Appeal Rules, 1986\n"
     ]
    },
    {
     "name": "stderr",
     "output_type": "stream",
     "text": [
      "Processing Files:   7%|▋         | 118/1721 [04:09<53:54,  2.02s/it]"
     ]
    },
    {
     "name": "stdout",
     "output_type": "stream",
     "text": [
      "Embedding created\n",
      "CPFTA Tariff Preference Regulations\n"
     ]
    },
    {
     "name": "stderr",
     "output_type": "stream",
     "text": [
      "Processing Files:   7%|▋         | 119/1721 [04:11<52:13,  1.96s/it]"
     ]
    },
    {
     "name": "stdout",
     "output_type": "stream",
     "text": [
      "Embedding created\n",
      "Disposal of Forfeited Goods and Chattels Regulations\n"
     ]
    },
    {
     "name": "stderr",
     "output_type": "stream",
     "text": [
      "Processing Files:   7%|▋         | 120/1721 [04:13<55:07,  2.07s/it]"
     ]
    },
    {
     "name": "stdout",
     "output_type": "stream",
     "text": [
      "Embedding created\n",
      "Allocation Method Order (2014) — Softwood Lumber Products\n"
     ]
    },
    {
     "name": "stderr",
     "output_type": "stream",
     "text": [
      "Processing Files:   7%|▋         | 121/1721 [04:15<57:49,  2.17s/it]"
     ]
    },
    {
     "name": "stdout",
     "output_type": "stream",
     "text": [
      "Embedding created\n",
      "Anchorage Regulations\n"
     ]
    },
    {
     "name": "stderr",
     "output_type": "stream",
     "text": [
      "Processing Files:   7%|▋         | 122/1721 [04:17<56:02,  2.10s/it]"
     ]
    },
    {
     "name": "stdout",
     "output_type": "stream",
     "text": [
      "Embedding created\n",
      "Canada-Nova Scotia Offshore Petroleum Administrative Monetary Penalties Regulations\n"
     ]
    },
    {
     "name": "stderr",
     "output_type": "stream",
     "text": [
      "Processing Files:   7%|▋         | 123/1721 [04:19<55:05,  2.07s/it]"
     ]
    },
    {
     "name": "stdout",
     "output_type": "stream",
     "text": [
      "Embedding created\n",
      "Dauphin Airport Zoning Regulations\n"
     ]
    },
    {
     "name": "stderr",
     "output_type": "stream",
     "text": [
      "Processing Files:   7%|▋         | 124/1721 [04:21<54:22,  2.04s/it]"
     ]
    },
    {
     "name": "stdout",
     "output_type": "stream",
     "text": [
      "Embedding created\n",
      "Dairy Products Marketing Regulations\n"
     ]
    },
    {
     "name": "stderr",
     "output_type": "stream",
     "text": [
      "Processing Files:   7%|▋         | 125/1721 [04:23<52:22,  1.97s/it]"
     ]
    },
    {
     "name": "stdout",
     "output_type": "stream",
     "text": [
      "Embedding created\n",
      "Commercial Loan (Cooperative Credit Associations) Regulations\n"
     ]
    },
    {
     "name": "stderr",
     "output_type": "stream",
     "text": [
      "Processing Files:   7%|▋         | 126/1721 [04:25<52:02,  1.96s/it]"
     ]
    },
    {
     "name": "stdout",
     "output_type": "stream",
     "text": [
      "Embedding created\n",
      "Disclosure of Tax (GST/HST) Regulations\n"
     ]
    },
    {
     "name": "stderr",
     "output_type": "stream",
     "text": [
      "Processing Files:   7%|▋         | 127/1721 [04:27<51:45,  1.95s/it]"
     ]
    },
    {
     "name": "stdout",
     "output_type": "stream",
     "text": [
      "Embedding created\n",
      "Finance Entity Regulations\n"
     ]
    },
    {
     "name": "stderr",
     "output_type": "stream",
     "text": [
      "Processing Files:   7%|▋         | 128/1721 [04:29<51:44,  1.95s/it]"
     ]
    },
    {
     "name": "stdout",
     "output_type": "stream",
     "text": [
      "Embedding created\n",
      "Applications for Authorization under Paragraph 35(2)(b) of the Fisheries Act Regulations\n"
     ]
    },
    {
     "name": "stderr",
     "output_type": "stream",
     "text": [
      "Processing Files:   7%|▋         | 129/1721 [04:31<54:10,  2.04s/it]"
     ]
    },
    {
     "name": "stdout",
     "output_type": "stream",
     "text": [
      "Embedding created\n",
      "Agassiz Correctional Camp, Petawawa Correctional Camp and Gatineau Correctional Camp Lands Proclaimed Penitentiaries\n"
     ]
    },
    {
     "name": "stderr",
     "output_type": "stream",
     "text": [
      "Processing Files:   8%|▊         | 130/1721 [04:33<55:29,  2.09s/it]"
     ]
    },
    {
     "name": "stdout",
     "output_type": "stream",
     "text": [
      "Embedding created\n",
      "B.C. Place Replacement Turf Remission Order, 1995\n"
     ]
    },
    {
     "name": "stderr",
     "output_type": "stream",
     "text": [
      "Processing Files:   8%|▊         | 131/1721 [04:35<53:50,  2.03s/it]"
     ]
    },
    {
     "name": "stdout",
     "output_type": "stream",
     "text": [
      "Embedding created\n",
      "Order Authorizing Air Canada to Apply for Articles of Amendment to Amend its Articles of Incorporation\n"
     ]
    },
    {
     "name": "stderr",
     "output_type": "stream",
     "text": [
      "Processing Files:   8%|▊         | 132/1721 [04:37<52:23,  1.98s/it]"
     ]
    },
    {
     "name": "stdout",
     "output_type": "stream",
     "text": [
      "Embedding created\n",
      "Administrative Monetary Penalties Regulations (International Bridges and Tunnels)\n"
     ]
    },
    {
     "name": "stderr",
     "output_type": "stream",
     "text": [
      "Processing Files:   8%|▊         | 133/1721 [04:39<53:18,  2.01s/it]"
     ]
    },
    {
     "name": "stdout",
     "output_type": "stream",
     "text": [
      "Embedding created\n",
      "Regulations Designating a Body for the Purposes of Paragraph 91(2)(c) of the Immigration and Refugee Protection Act\n"
     ]
    },
    {
     "name": "stderr",
     "output_type": "stream",
     "text": [
      "Processing Files:   8%|▊         | 134/1721 [04:41<53:44,  2.03s/it]"
     ]
    },
    {
     "name": "stdout",
     "output_type": "stream",
     "text": [
      "Embedding created\n",
      "CUSMA Rules of Origin for Casual Goods Regulations\n"
     ]
    },
    {
     "name": "stderr",
     "output_type": "stream",
     "text": [
      "Processing Files:   8%|▊         | 135/1721 [04:43<54:33,  2.06s/it]"
     ]
    },
    {
     "name": "stdout",
     "output_type": "stream",
     "text": [
      "Embedding created\n",
      "Gun Shows Regulations\n"
     ]
    },
    {
     "name": "stderr",
     "output_type": "stream",
     "text": [
      "Processing Files:   8%|▊         | 136/1721 [04:47<1:03:15,  2.39s/it]"
     ]
    },
    {
     "name": "stdout",
     "output_type": "stream",
     "text": [
      "Embedding created\n",
      "Eldorado Nuclear Limited Exemption Order\n"
     ]
    },
    {
     "name": "stderr",
     "output_type": "stream",
     "text": [
      "Processing Files:   8%|▊         | 137/1721 [04:49<1:01:26,  2.33s/it]"
     ]
    },
    {
     "name": "stdout",
     "output_type": "stream",
     "text": [
      "Embedding created\n",
      "Canadian Volunteer Service Medal Order\n"
     ]
    },
    {
     "name": "stderr",
     "output_type": "stream",
     "text": [
      "Processing Files:   8%|▊         | 138/1721 [04:51<58:59,  2.24s/it]  "
     ]
    },
    {
     "name": "stdout",
     "output_type": "stream",
     "text": [
      "Embedding created\n",
      "Canadian Chicken Licensing Regulations\n"
     ]
    },
    {
     "name": "stderr",
     "output_type": "stream",
     "text": [
      "Processing Files:   8%|▊         | 139/1721 [04:53<58:12,  2.21s/it]"
     ]
    },
    {
     "name": "stdout",
     "output_type": "stream",
     "text": [
      "Embedding created\n",
      "Cabbage Stabilization Regulations, 1982-83\n"
     ]
    },
    {
     "name": "stderr",
     "output_type": "stream",
     "text": [
      "Processing Files:   8%|▊         | 140/1721 [04:55<57:07,  2.17s/it]"
     ]
    },
    {
     "name": "stdout",
     "output_type": "stream",
     "text": [
      "Embedding created\n",
      "General Preferential Tariff Withdrawal and Extension (2023 GPT Review) Order\n"
     ]
    },
    {
     "name": "stderr",
     "output_type": "stream",
     "text": [
      "Processing Files:   8%|▊         | 141/1721 [04:57<56:06,  2.13s/it]"
     ]
    },
    {
     "name": "stdout",
     "output_type": "stream",
     "text": [
      "Embedding created\n",
      "Discontinuance and Continuance of Proceedings Order, 1996\n"
     ]
    },
    {
     "name": "stderr",
     "output_type": "stream",
     "text": [
      "Processing Files:   8%|▊         | 142/1721 [04:59<54:21,  2.07s/it]"
     ]
    },
    {
     "name": "stdout",
     "output_type": "stream",
     "text": [
      "Embedding created\n",
      "EEC Aged Cheddar Cheese Export Regulations\n"
     ]
    },
    {
     "name": "stderr",
     "output_type": "stream",
     "text": [
      "Processing Files:   8%|▊         | 143/1721 [05:01<57:56,  2.20s/it]"
     ]
    },
    {
     "name": "stdout",
     "output_type": "stream",
     "text": [
      "Embedding created\n",
      "Accessible Transportation Planning and Reporting Regulations\n"
     ]
    },
    {
     "name": "stderr",
     "output_type": "stream",
     "text": [
      "Processing Files:   8%|▊         | 144/1721 [05:04<57:32,  2.19s/it]"
     ]
    },
    {
     "name": "stdout",
     "output_type": "stream",
     "text": [
      "Embedding created\n",
      "Fort Norman Airport Zoning Regulations\n"
     ]
    },
    {
     "name": "stderr",
     "output_type": "stream",
     "text": [
      "Processing Files:   8%|▊         | 145/1721 [05:05<54:36,  2.08s/it]"
     ]
    },
    {
     "name": "stdout",
     "output_type": "stream",
     "text": [
      "Embedding created\n",
      "First Nations Tax Commissioner Appointment Regulations\n"
     ]
    },
    {
     "name": "stderr",
     "output_type": "stream",
     "text": [
      "Processing Files:   8%|▊         | 146/1721 [05:07<52:32,  2.00s/it]"
     ]
    },
    {
     "name": "stdout",
     "output_type": "stream",
     "text": [
      "Embedding created\n",
      "Cannabis for Medical Purposes Remission Order\n"
     ]
    },
    {
     "name": "stderr",
     "output_type": "stream",
     "text": [
      "Processing Files:   9%|▊         | 147/1721 [05:10<55:15,  2.11s/it]"
     ]
    },
    {
     "name": "stdout",
     "output_type": "stream",
     "text": [
      "Embedding created\n",
      "Canadian Arsenals Limited Pension Protection Regulations\n"
     ]
    },
    {
     "name": "stderr",
     "output_type": "stream",
     "text": [
      "Processing Files:   9%|▊         | 148/1721 [05:11<53:40,  2.05s/it]"
     ]
    },
    {
     "name": "stdout",
     "output_type": "stream",
     "text": [
      "Embedding created\n",
      "Eggplants and Tomatoes Production (Central Saanich) Restriction Regulations\n"
     ]
    },
    {
     "name": "stderr",
     "output_type": "stream",
     "text": [
      "Processing Files:   9%|▊         | 149/1721 [05:13<52:21,  2.00s/it]"
     ]
    },
    {
     "name": "stdout",
     "output_type": "stream",
     "text": [
      "Embedding created\n",
      "Deep Panuke Offshore Production Platform Remission Order, 2007\n"
     ]
    },
    {
     "name": "stderr",
     "output_type": "stream",
     "text": [
      "Processing Files:   9%|▊         | 150/1721 [05:15<51:15,  1.96s/it]"
     ]
    },
    {
     "name": "stdout",
     "output_type": "stream",
     "text": [
      "Embedding created\n",
      "2-Butoxyethanol Regulations\n"
     ]
    },
    {
     "name": "stderr",
     "output_type": "stream",
     "text": [
      "Processing Files:   9%|▉         | 151/1721 [05:17<51:17,  1.96s/it]"
     ]
    },
    {
     "name": "stdout",
     "output_type": "stream",
     "text": [
      "Embedding created\n",
      "Application for Citizenship — Minors Remission Order\n"
     ]
    },
    {
     "name": "stderr",
     "output_type": "stream",
     "text": [
      "Processing Files:   9%|▉         | 152/1721 [05:19<51:01,  1.95s/it]"
     ]
    },
    {
     "name": "stdout",
     "output_type": "stream",
     "text": [
      "Embedding created\n",
      "Distributing Bank and Distributing Bank Holding Company Regulations\n"
     ]
    },
    {
     "name": "stderr",
     "output_type": "stream",
     "text": [
      "Processing Files:   9%|▉         | 153/1721 [05:21<52:22,  2.00s/it]"
     ]
    },
    {
     "name": "stdout",
     "output_type": "stream",
     "text": [
      "Embedding created\n",
      "Aggregate Financial Exposure (Banks) Regulations\n"
     ]
    },
    {
     "name": "stderr",
     "output_type": "stream",
     "text": [
      "Processing Files:   9%|▉         | 154/1721 [05:23<51:56,  1.99s/it]"
     ]
    },
    {
     "name": "stdout",
     "output_type": "stream",
     "text": [
      "Embedding created\n",
      "Canadian Films and Video Tapes Certification Fees Order\n"
     ]
    },
    {
     "name": "stderr",
     "output_type": "stream",
     "text": [
      "Processing Files:   9%|▉         | 155/1721 [05:25<50:46,  1.95s/it]"
     ]
    },
    {
     "name": "stdout",
     "output_type": "stream",
     "text": [
      "Embedding created\n",
      "Government of Jamaica Remission Order\n"
     ]
    },
    {
     "name": "stderr",
     "output_type": "stream",
     "text": [
      "Processing Files:   9%|▉         | 156/1721 [05:27<52:18,  2.01s/it]"
     ]
    },
    {
     "name": "stdout",
     "output_type": "stream",
     "text": [
      "Embedding created\n",
      "Canadian Transportation Agency Designated Provisions Regulations\n"
     ]
    },
    {
     "name": "stderr",
     "output_type": "stream",
     "text": [
      "Processing Files:   9%|▉         | 157/1721 [05:29<52:24,  2.01s/it]"
     ]
    },
    {
     "name": "stdout",
     "output_type": "stream",
     "text": [
      "Embedding created\n",
      "29th Meeting of the Parties to the Montreal Protocol and Associated Meetings Privileges and Immunities Order\n"
     ]
    },
    {
     "name": "stderr",
     "output_type": "stream",
     "text": [
      "Processing Files:   9%|▉         | 158/1721 [05:31<50:20,  1.93s/it]"
     ]
    },
    {
     "name": "stdout",
     "output_type": "stream",
     "text": [
      "Embedding created\n",
      "Governor in Council Authority Delegation Order\n"
     ]
    },
    {
     "name": "stderr",
     "output_type": "stream",
     "text": [
      "Processing Files:   9%|▉         | 159/1721 [05:33<49:21,  1.90s/it]"
     ]
    },
    {
     "name": "stdout",
     "output_type": "stream",
     "text": [
      "Embedding created\n",
      "Regulations Prohibiting Deployments into the Executive Group\n"
     ]
    },
    {
     "name": "stderr",
     "output_type": "stream",
     "text": [
      "Processing Files:   9%|▉         | 160/1721 [05:35<49:47,  1.91s/it]"
     ]
    },
    {
     "name": "stdout",
     "output_type": "stream",
     "text": [
      "Embedding created\n",
      "Administrative Monetary Penalties Regulations (Canadian Energy Regulator)\n"
     ]
    },
    {
     "name": "stderr",
     "output_type": "stream",
     "text": [
      "Processing Files:   9%|▉         | 161/1721 [05:37<50:33,  1.94s/it]"
     ]
    },
    {
     "name": "stdout",
     "output_type": "stream",
     "text": [
      "Embedding created\n",
      "Canada Grain Regulations\n"
     ]
    },
    {
     "name": "stderr",
     "output_type": "stream",
     "text": [
      "Processing Files:   9%|▉         | 162/1721 [05:39<49:14,  1.90s/it]"
     ]
    },
    {
     "name": "stdout",
     "output_type": "stream",
     "text": [
      "Embedding created\n",
      "Canada-United States Nuclear Liability Rules\n"
     ]
    },
    {
     "name": "stderr",
     "output_type": "stream",
     "text": [
      "Processing Files:   9%|▉         | 163/1721 [05:41<50:33,  1.95s/it]"
     ]
    },
    {
     "name": "stdout",
     "output_type": "stream",
     "text": [
      "Embedding created\n",
      "British Columbia HST Regulations\n"
     ]
    },
    {
     "name": "stderr",
     "output_type": "stream",
     "text": [
      "Processing Files:  10%|▉         | 164/1721 [05:43<50:31,  1.95s/it]"
     ]
    },
    {
     "name": "stdout",
     "output_type": "stream",
     "text": [
      "Embedding created\n",
      "Complaint Information (Retail Associations) Regulations\n"
     ]
    },
    {
     "name": "stderr",
     "output_type": "stream",
     "text": [
      "Processing Files:  10%|▉         | 165/1721 [05:44<49:26,  1.91s/it]"
     ]
    },
    {
     "name": "stdout",
     "output_type": "stream",
     "text": [
      "Embedding created\n",
      "Direction Applying the Auditor General Act Sustainable Development Strategy Requirements to Certain Departments\n"
     ]
    },
    {
     "name": "stderr",
     "output_type": "stream",
     "text": [
      "Processing Files:  10%|▉         | 166/1721 [05:46<49:38,  1.92s/it]"
     ]
    },
    {
     "name": "stdout",
     "output_type": "stream",
     "text": [
      "Embedding created\n",
      "Corn Stabilization Regulations, 1977-78\n"
     ]
    },
    {
     "name": "stderr",
     "output_type": "stream",
     "text": [
      "Processing Files:  10%|▉         | 167/1721 [05:48<51:16,  1.98s/it]"
     ]
    },
    {
     "name": "stdout",
     "output_type": "stream",
     "text": [
      "Embedding created\n",
      "Controlled Drugs and Substances Act (Police Enforcement) Regulations\n"
     ]
    },
    {
     "name": "stderr",
     "output_type": "stream",
     "text": [
      "Processing Files:  10%|▉         | 168/1721 [05:50<50:16,  1.94s/it]"
     ]
    },
    {
     "name": "stdout",
     "output_type": "stream",
     "text": [
      "Embedding created\n",
      "British Columbia Egg Order\n"
     ]
    },
    {
     "name": "stderr",
     "output_type": "stream",
     "text": [
      "Processing Files:  10%|▉         | 169/1721 [05:52<50:01,  1.93s/it]"
     ]
    },
    {
     "name": "stdout",
     "output_type": "stream",
     "text": [
      "Embedding created\n",
      "Atlantic Enterprise Loan Insurance Regulations\n"
     ]
    },
    {
     "name": "stderr",
     "output_type": "stream",
     "text": [
      "Processing Files:  10%|▉         | 170/1721 [05:54<52:15,  2.02s/it]"
     ]
    },
    {
     "name": "stdout",
     "output_type": "stream",
     "text": [
      "Embedding created\n",
      "Defence Controlled Access Area Regulations\n"
     ]
    },
    {
     "name": "stderr",
     "output_type": "stream",
     "text": [
      "Processing Files:  10%|▉         | 171/1721 [05:56<50:29,  1.95s/it]"
     ]
    },
    {
     "name": "stdout",
     "output_type": "stream",
     "text": [
      "Embedding created\n",
      "General Export Permit No. 43 — Nuclear Goods and Technology to Certain Destinations\n"
     ]
    },
    {
     "name": "stderr",
     "output_type": "stream",
     "text": [
      "Processing Files:  10%|▉         | 172/1721 [05:58<49:48,  1.93s/it]"
     ]
    },
    {
     "name": "stdout",
     "output_type": "stream",
     "text": [
      "Embedding created\n",
      "Atlantic Fishery Regulations, 1985\n"
     ]
    },
    {
     "name": "stderr",
     "output_type": "stream",
     "text": [
      "Processing Files:  10%|█         | 173/1721 [06:00<51:06,  1.98s/it]"
     ]
    },
    {
     "name": "stdout",
     "output_type": "stream",
     "text": [
      "Embedding created\n",
      "Disclosure of Interest (Banks) Regulations\n"
     ]
    },
    {
     "name": "stderr",
     "output_type": "stream",
     "text": [
      "Processing Files:  10%|█         | 174/1721 [06:02<50:40,  1.97s/it]"
     ]
    },
    {
     "name": "stdout",
     "output_type": "stream",
     "text": [
      "Embedding created\n",
      "Destruction of Paid Instruments Regulations, 1996\n"
     ]
    },
    {
     "name": "stderr",
     "output_type": "stream",
     "text": [
      "Processing Files:  10%|█         | 175/1721 [06:04<50:36,  1.96s/it]"
     ]
    },
    {
     "name": "stdout",
     "output_type": "stream",
     "text": [
      "Embedding created\n",
      "Order Respecting Ex-Gratia Payments to Any Person or Entity that Should Receive those Payments on Behalf of a Deceased Person who was a Chinese Head Tax Payer or who was in a Conjugal Relationship with a Head Tax Payer\n"
     ]
    },
    {
     "name": "stderr",
     "output_type": "stream",
     "text": [
      "Processing Files:  10%|█         | 176/1721 [06:06<49:53,  1.94s/it]"
     ]
    },
    {
     "name": "stdout",
     "output_type": "stream",
     "text": [
      "Embedding created\n",
      "Canadian Hatching Egg Producers Proclamation\n"
     ]
    },
    {
     "name": "stderr",
     "output_type": "stream",
     "text": [
      "Processing Files:  10%|█         | 177/1721 [06:08<52:30,  2.04s/it]"
     ]
    },
    {
     "name": "stdout",
     "output_type": "stream",
     "text": [
      "Embedding created\n",
      "Administrative Monetary Penalties (OSFI) Regulations\n"
     ]
    },
    {
     "name": "stderr",
     "output_type": "stream",
     "text": [
      "Processing Files:  10%|█         | 178/1721 [06:10<52:14,  2.03s/it]"
     ]
    },
    {
     "name": "stdout",
     "output_type": "stream",
     "text": [
      "Embedding created\n",
      "Complaint Information (Trust and Loan Companies) Regulations\n"
     ]
    },
    {
     "name": "stderr",
     "output_type": "stream",
     "text": [
      "Processing Files:  10%|█         | 179/1721 [06:12<52:39,  2.05s/it]"
     ]
    },
    {
     "name": "stdout",
     "output_type": "stream",
     "text": [
      "Embedding created\n",
      "Federal Halocarbon Regulations, 2003\n"
     ]
    },
    {
     "name": "stderr",
     "output_type": "stream",
     "text": [
      "Processing Files:  10%|█         | 180/1721 [06:14<51:07,  1.99s/it]"
     ]
    },
    {
     "name": "stdout",
     "output_type": "stream",
     "text": [
      "Embedding created\n",
      "Charlo Airport Zoning Regulations\n"
     ]
    },
    {
     "name": "stderr",
     "output_type": "stream",
     "text": [
      "Processing Files:  11%|█         | 181/1721 [06:16<50:12,  1.96s/it]"
     ]
    },
    {
     "name": "stdout",
     "output_type": "stream",
     "text": [
      "Embedding created\n",
      "Environmental Emergency Regulations, 2019\n"
     ]
    },
    {
     "name": "stderr",
     "output_type": "stream",
     "text": [
      "Processing Files:  11%|█         | 182/1721 [06:18<49:37,  1.93s/it]"
     ]
    },
    {
     "name": "stdout",
     "output_type": "stream",
     "text": [
      "Embedding created\n",
      "Health Information Custodians in the Province of Ontario Exemption Order\n"
     ]
    },
    {
     "name": "stderr",
     "output_type": "stream",
     "text": [
      "Processing Files:  11%|█         | 183/1721 [06:20<48:48,  1.90s/it]"
     ]
    },
    {
     "name": "stdout",
     "output_type": "stream",
     "text": [
      "Embedding created\n",
      "Corrected Certificates Remission Order\n"
     ]
    },
    {
     "name": "stderr",
     "output_type": "stream",
     "text": [
      "Processing Files:  11%|█         | 184/1721 [06:22<50:09,  1.96s/it]"
     ]
    },
    {
     "name": "stdout",
     "output_type": "stream",
     "text": [
      "Embedding created\n",
      "Access to Cannabis for Medical Purposes Regulations\n"
     ]
    },
    {
     "name": "stderr",
     "output_type": "stream",
     "text": [
      "Processing Files:  11%|█         | 185/1721 [06:24<50:11,  1.96s/it]"
     ]
    },
    {
     "name": "stdout",
     "output_type": "stream",
     "text": [
      "Embedding created\n",
      "Cheese Stabilization Regulations, 1981-82\n"
     ]
    },
    {
     "name": "stderr",
     "output_type": "stream",
     "text": [
      "Processing Files:  11%|█         | 186/1721 [06:26<49:36,  1.94s/it]"
     ]
    },
    {
     "name": "stdout",
     "output_type": "stream",
     "text": [
      "Embedding created\n",
      "Chatham Airport Zoning Regulations\n"
     ]
    },
    {
     "name": "stderr",
     "output_type": "stream",
     "text": [
      "Processing Files:  11%|█         | 187/1721 [06:28<50:10,  1.96s/it]"
     ]
    },
    {
     "name": "stdout",
     "output_type": "stream",
     "text": [
      "Embedding created\n",
      "Canadian Wheat Board Advisory Committee 1994 Election Regulations\n"
     ]
    },
    {
     "name": "stderr",
     "output_type": "stream",
     "text": [
      "Processing Files:  11%|█         | 188/1721 [06:30<52:23,  2.05s/it]"
     ]
    },
    {
     "name": "stdout",
     "output_type": "stream",
     "text": [
      "Embedding created\n",
      "CIFTA Remission Order\n"
     ]
    },
    {
     "name": "stderr",
     "output_type": "stream",
     "text": [
      "Processing Files:  11%|█         | 189/1721 [06:32<51:48,  2.03s/it]"
     ]
    },
    {
     "name": "stdout",
     "output_type": "stream",
     "text": [
      "Embedding created\n",
      "Complaint Information (Authorized Foreign Banks) Regulations\n"
     ]
    },
    {
     "name": "stderr",
     "output_type": "stream",
     "text": [
      "Processing Files:  11%|█         | 190/1721 [06:34<51:58,  2.04s/it]"
     ]
    },
    {
     "name": "stdout",
     "output_type": "stream",
     "text": [
      "Embedding created\n",
      "Designated Classes of Projects Order\n"
     ]
    },
    {
     "name": "stderr",
     "output_type": "stream",
     "text": [
      "Processing Files:  11%|█         | 191/1721 [06:36<51:14,  2.01s/it]"
     ]
    },
    {
     "name": "stdout",
     "output_type": "stream",
     "text": [
      "Embedding created\n",
      "Canada Deposit Insurance Corporation Joint and Trust Account Disclosure By-Law\n"
     ]
    },
    {
     "name": "stderr",
     "output_type": "stream",
     "text": [
      "Processing Files:  11%|█         | 192/1721 [06:38<52:45,  2.07s/it]"
     ]
    },
    {
     "name": "stdout",
     "output_type": "stream",
     "text": [
      "Embedding created\n",
      "13th IAAF World Junior Championships in Athletics Remission Order, 2010\n"
     ]
    },
    {
     "name": "stderr",
     "output_type": "stream",
     "text": [
      "Processing Files:  11%|█         | 193/1721 [06:40<53:04,  2.08s/it]"
     ]
    },
    {
     "name": "stdout",
     "output_type": "stream",
     "text": [
      "Embedding created\n",
      "Complaint Information (Foreign Insurance Companies) Regulations\n"
     ]
    },
    {
     "name": "stderr",
     "output_type": "stream",
     "text": [
      "Processing Files:  11%|█▏        | 194/1721 [06:43<55:01,  2.16s/it]"
     ]
    },
    {
     "name": "stdout",
     "output_type": "stream",
     "text": [
      "Embedding created\n",
      "Dominion Succession Duty (1957) Regulations\n"
     ]
    },
    {
     "name": "stderr",
     "output_type": "stream",
     "text": [
      "Processing Files:  11%|█▏        | 195/1721 [06:46<1:06:22,  2.61s/it]"
     ]
    },
    {
     "name": "stdout",
     "output_type": "stream",
     "text": [
      "Embedding created\n",
      "Financial Security (Electronic Means) Regulations\n"
     ]
    },
    {
     "name": "stderr",
     "output_type": "stream",
     "text": [
      "Processing Files:  11%|█▏        | 196/1721 [06:48<1:02:12,  2.45s/it]"
     ]
    },
    {
     "name": "stdout",
     "output_type": "stream",
     "text": [
      "Embedding created\n",
      "Crown Waiver Order (Northwest Territories)\n"
     ]
    },
    {
     "name": "stderr",
     "output_type": "stream",
     "text": [
      "Processing Files:  11%|█▏        | 197/1721 [06:50<57:24,  2.26s/it]  "
     ]
    },
    {
     "name": "stdout",
     "output_type": "stream",
     "text": [
      "Embedding created\n",
      "Advance Income Tax Ruling Fees Order\n"
     ]
    },
    {
     "name": "stderr",
     "output_type": "stream",
     "text": [
      "Processing Files:  12%|█▏        | 198/1721 [06:52<56:07,  2.21s/it]"
     ]
    },
    {
     "name": "stdout",
     "output_type": "stream",
     "text": [
      "Embedding created\n",
      "Administrative Monetary Penalties (Canada Labour Code) Regulations\n"
     ]
    },
    {
     "name": "stderr",
     "output_type": "stream",
     "text": [
      "Processing Files:  12%|█▏        | 199/1721 [06:54<55:20,  2.18s/it]"
     ]
    },
    {
     "name": "stdout",
     "output_type": "stream",
     "text": [
      "Embedding created\n",
      "Designated Public Office Holder Regulations\n"
     ]
    },
    {
     "name": "stderr",
     "output_type": "stream",
     "text": [
      "Processing Files:  12%|█▏        | 200/1721 [06:56<53:08,  2.10s/it]"
     ]
    },
    {
     "name": "stdout",
     "output_type": "stream",
     "text": [
      "Embedding created\n",
      "Eastern Canada Vessel Traffic Services Zone Regulations\n"
     ]
    },
    {
     "name": "stderr",
     "output_type": "stream",
     "text": [
      "Processing Files:  12%|█▏        | 201/1721 [06:58<51:28,  2.03s/it]"
     ]
    },
    {
     "name": "stdout",
     "output_type": "stream",
     "text": [
      "Embedding created\n",
      "Citizenship Regulations\n"
     ]
    },
    {
     "name": "stderr",
     "output_type": "stream",
     "text": [
      "Processing Files:  12%|█▏        | 202/1721 [07:00<53:46,  2.12s/it]"
     ]
    },
    {
     "name": "stdout",
     "output_type": "stream",
     "text": [
      "Embedding created\n",
      "CPAFTA Rules of Origin Regulations\n"
     ]
    },
    {
     "name": "stderr",
     "output_type": "stream",
     "text": [
      "Processing Files:  12%|█▏        | 203/1721 [07:03<52:50,  2.09s/it]"
     ]
    },
    {
     "name": "stdout",
     "output_type": "stream",
     "text": [
      "Embedding created\n",
      "Allocation Method Order (2015) — Softwood Lumber Products\n"
     ]
    },
    {
     "name": "stderr",
     "output_type": "stream",
     "text": [
      "Processing Files:  12%|█▏        | 204/1721 [07:04<51:56,  2.05s/it]"
     ]
    },
    {
     "name": "stdout",
     "output_type": "stream",
     "text": [
      "Embedding created\n",
      "Order Respecting Ex Gratia Payments to Veterans Involved in Chemical Warfare Agent Testing\n"
     ]
    },
    {
     "name": "stderr",
     "output_type": "stream",
     "text": [
      "Processing Files:  12%|█▏        | 205/1721 [07:06<50:37,  2.00s/it]"
     ]
    },
    {
     "name": "stdout",
     "output_type": "stream",
     "text": [
      "Embedding created\n",
      "Affiliated Persons (Trust and Loan Companies) Regulations\n"
     ]
    },
    {
     "name": "stderr",
     "output_type": "stream",
     "text": [
      "Processing Files:  12%|█▏        | 206/1721 [07:08<50:48,  2.01s/it]"
     ]
    },
    {
     "name": "stdout",
     "output_type": "stream",
     "text": [
      "Embedding not created\n",
      "Export of Substances Under the Rotterdam Convention Regulations\n"
     ]
    },
    {
     "name": "stderr",
     "output_type": "stream",
     "text": [
      "Processing Files:  12%|█▏        | 207/1721 [07:10<51:05,  2.02s/it]"
     ]
    },
    {
     "name": "stdout",
     "output_type": "stream",
     "text": [
      "Embedding created\n",
      "Haiti Deemed Direct Shipment (General Preferential Tariff and Least Developed Country Tariff) Regulations\n"
     ]
    },
    {
     "name": "stderr",
     "output_type": "stream",
     "text": [
      "Processing Files:  12%|█▏        | 208/1721 [07:12<50:54,  2.02s/it]"
     ]
    },
    {
     "name": "stdout",
     "output_type": "stream",
     "text": [
      "Embedding created\n",
      "Regulation of the Court of Québec\n"
     ]
    },
    {
     "name": "stderr",
     "output_type": "stream",
     "text": [
      "Processing Files:  12%|█▏        | 209/1721 [07:14<49:39,  1.97s/it]"
     ]
    },
    {
     "name": "stdout",
     "output_type": "stream",
     "text": [
      "Embedding created\n",
      "Canadian Manufactured Goods Exported Drawback Regulations\n"
     ]
    },
    {
     "name": "stderr",
     "output_type": "stream",
     "text": [
      "Processing Files:  12%|█▏        | 210/1721 [07:16<50:24,  2.00s/it]"
     ]
    },
    {
     "name": "stdout",
     "output_type": "stream",
     "text": [
      "Embedding created\n",
      "Export of Logs Permit\n"
     ]
    },
    {
     "name": "stderr",
     "output_type": "stream",
     "text": [
      "Processing Files:  12%|█▏        | 211/1721 [07:18<50:06,  1.99s/it]"
     ]
    },
    {
     "name": "stdout",
     "output_type": "stream",
     "text": [
      "Embedding created\n",
      "Order Governing the Grant of the Memorial Cross\n"
     ]
    },
    {
     "name": "stderr",
     "output_type": "stream",
     "text": [
      "Processing Files:  12%|█▏        | 212/1721 [07:20<51:05,  2.03s/it]"
     ]
    },
    {
     "name": "stdout",
     "output_type": "stream",
     "text": [
      "Embedding created\n",
      "Customs Bonded Warehouses Regulations\n"
     ]
    },
    {
     "name": "stderr",
     "output_type": "stream",
     "text": [
      "Processing Files:  12%|█▏        | 213/1721 [07:22<49:27,  1.97s/it]"
     ]
    },
    {
     "name": "stdout",
     "output_type": "stream",
     "text": [
      "Embedding created\n",
      "Critical Habitat of the Vananda Creek Benthic Threespine Stickleback (Gasterosteus aculeatus) Order\n"
     ]
    },
    {
     "name": "stderr",
     "output_type": "stream",
     "text": [
      "Processing Files:  12%|█▏        | 214/1721 [07:24<48:16,  1.92s/it]"
     ]
    },
    {
     "name": "stdout",
     "output_type": "stream",
     "text": [
      "Embedding created\n",
      "Hazardous Products (Expansion Gates and Expandable Enclosures) Regulations\n"
     ]
    },
    {
     "name": "stderr",
     "output_type": "stream",
     "text": [
      "Processing Files:  12%|█▏        | 215/1721 [07:26<48:24,  1.93s/it]"
     ]
    },
    {
     "name": "stdout",
     "output_type": "stream",
     "text": [
      "Embedding created\n",
      "Canadian Forces Materiel Remission Order\n"
     ]
    },
    {
     "name": "stderr",
     "output_type": "stream",
     "text": [
      "Processing Files:  13%|█▎        | 216/1721 [07:28<49:24,  1.97s/it]"
     ]
    },
    {
     "name": "stdout",
     "output_type": "stream",
     "text": [
      "Embedding created\n",
      "Canadian Computer Reservation Systems (CRS) Regulations\n"
     ]
    },
    {
     "name": "stderr",
     "output_type": "stream",
     "text": [
      "Processing Files:  13%|█▎        | 217/1721 [07:30<50:35,  2.02s/it]"
     ]
    },
    {
     "name": "stdout",
     "output_type": "stream",
     "text": [
      "Embedding created\n",
      "Order Issuing the General Export Permit No. 40 — Certain Industrial Chemicals\n"
     ]
    },
    {
     "name": "stderr",
     "output_type": "stream",
     "text": [
      "Processing Files:  13%|█▎        | 218/1721 [07:33<54:21,  2.17s/it]"
     ]
    },
    {
     "name": "stdout",
     "output_type": "stream",
     "text": [
      "Embedding created\n",
      "Export Control List Notification Regulations\n"
     ]
    },
    {
     "name": "stderr",
     "output_type": "stream",
     "text": [
      "Processing Files:  13%|█▎        | 219/1721 [07:35<53:40,  2.14s/it]"
     ]
    },
    {
     "name": "stdout",
     "output_type": "stream",
     "text": [
      "Embedding created\n",
      "Proclamation Giving Notice that the Supplementary Agreement to the Agreement on Social Security between Canada and the Federal Republic of Germany Comes Into Force on December 1, 2003\n"
     ]
    },
    {
     "name": "stderr",
     "output_type": "stream",
     "text": [
      "Processing Files:  13%|█▎        | 220/1721 [07:37<51:21,  2.05s/it]"
     ]
    },
    {
     "name": "stdout",
     "output_type": "stream",
     "text": [
      "Embedding created\n",
      "Commercial Loan (Trust and Loan Companies) Regulations\n"
     ]
    },
    {
     "name": "stderr",
     "output_type": "stream",
     "text": [
      "Processing Files:  13%|█▎        | 221/1721 [07:39<50:24,  2.02s/it]"
     ]
    },
    {
     "name": "stdout",
     "output_type": "stream",
     "text": [
      "Embedding created\n",
      "Fort Smith Airport Zoning Regulations\n"
     ]
    },
    {
     "name": "stderr",
     "output_type": "stream",
     "text": [
      "Processing Files:  13%|█▎        | 222/1721 [07:41<52:10,  2.09s/it]"
     ]
    },
    {
     "name": "stdout",
     "output_type": "stream",
     "text": [
      "Embedding created\n",
      "Certain Ships Remission Order, 2010\n"
     ]
    },
    {
     "name": "stderr",
     "output_type": "stream",
     "text": [
      "Processing Files:  13%|█▎        | 223/1721 [07:43<49:59,  2.00s/it]"
     ]
    },
    {
     "name": "stdout",
     "output_type": "stream",
     "text": [
      "Embedding created\n",
      "Allocation Method Order (Beef and Veal)\n"
     ]
    },
    {
     "name": "stderr",
     "output_type": "stream",
     "text": [
      "Processing Files:  13%|█▎        | 224/1721 [07:44<48:21,  1.94s/it]"
     ]
    },
    {
     "name": "stdout",
     "output_type": "stream",
     "text": [
      "Embedding created\n",
      "Benzodiazepines and Other Targeted Substances Regulations\n"
     ]
    },
    {
     "name": "stderr",
     "output_type": "stream",
     "text": [
      "Processing Files:  13%|█▎        | 225/1721 [07:47<50:15,  2.02s/it]"
     ]
    },
    {
     "name": "stdout",
     "output_type": "stream",
     "text": [
      "Embedding created\n",
      "Proclamation Declaring the Agreement on Social Security Between Canada and Antigua and Barbuda in Force January 1, 1994\n"
     ]
    },
    {
     "name": "stderr",
     "output_type": "stream",
     "text": [
      "Processing Files:  13%|█▎        | 226/1721 [07:49<53:04,  2.13s/it]"
     ]
    },
    {
     "name": "stdout",
     "output_type": "stream",
     "text": [
      "Embedding created\n",
      "Firearms Records Regulations (Classification)\n"
     ]
    },
    {
     "name": "stderr",
     "output_type": "stream",
     "text": [
      "Processing Files:  13%|█▎        | 227/1721 [07:51<52:02,  2.09s/it]"
     ]
    },
    {
     "name": "stdout",
     "output_type": "stream",
     "text": [
      "Embedding created\n",
      "Allocation Method Order (2013) — Softwood Lumber Products\n"
     ]
    },
    {
     "name": "stderr",
     "output_type": "stream",
     "text": [
      "Processing Files:  13%|█▎        | 228/1721 [07:53<51:44,  2.08s/it]"
     ]
    },
    {
     "name": "stdout",
     "output_type": "stream",
     "text": [
      "Embedding created\n",
      "Designation of Place of Inspection and Sale\n"
     ]
    },
    {
     "name": "stderr",
     "output_type": "stream",
     "text": [
      "Processing Files:  13%|█▎        | 229/1721 [07:55<52:56,  2.13s/it]"
     ]
    },
    {
     "name": "stdout",
     "output_type": "stream",
     "text": [
      "Embedding created\n",
      "Arctic Council Ministerial Meeting 2015 — Privileges and Immunities Order\n"
     ]
    },
    {
     "name": "stderr",
     "output_type": "stream",
     "text": [
      "Processing Files:  13%|█▎        | 230/1721 [07:57<51:58,  2.09s/it]"
     ]
    },
    {
     "name": "stdout",
     "output_type": "stream",
     "text": [
      "Embedding created\n",
      "Canada-Newfoundland Oil and Gas Spills and Debris Liability Regulations\n"
     ]
    },
    {
     "name": "stderr",
     "output_type": "stream",
     "text": [
      "Processing Files:  13%|█▎        | 231/1721 [08:00<53:59,  2.17s/it]"
     ]
    },
    {
     "name": "stdout",
     "output_type": "stream",
     "text": [
      "Embedding created\n",
      "CKFTA Tariff Preference Regulations\n"
     ]
    },
    {
     "name": "stderr",
     "output_type": "stream",
     "text": [
      "Processing Files:  13%|█▎        | 232/1721 [08:02<51:31,  2.08s/it]"
     ]
    },
    {
     "name": "stdout",
     "output_type": "stream",
     "text": [
      "Embedding created\n",
      "Guardianship of Veterans’ Property Regulations\n"
     ]
    },
    {
     "name": "stderr",
     "output_type": "stream",
     "text": [
      "Processing Files:  14%|█▎        | 233/1721 [08:04<52:06,  2.10s/it]"
     ]
    },
    {
     "name": "stdout",
     "output_type": "stream",
     "text": [
      "Embedding created\n",
      "Duty Free Shop Regulations\n"
     ]
    },
    {
     "name": "stderr",
     "output_type": "stream",
     "text": [
      "Processing Files:  14%|█▎        | 234/1721 [08:06<54:01,  2.18s/it]"
     ]
    },
    {
     "name": "stdout",
     "output_type": "stream",
     "text": [
      "Embedding created\n",
      "General Import Permit No. 80 — Carbon Steel\n"
     ]
    },
    {
     "name": "stderr",
     "output_type": "stream",
     "text": [
      "Processing Files:  14%|█▎        | 235/1721 [08:08<53:33,  2.16s/it]"
     ]
    },
    {
     "name": "stdout",
     "output_type": "stream",
     "text": [
      "Embedding created\n",
      "Hazardous Products (Carpet) Regulations\n"
     ]
    },
    {
     "name": "stderr",
     "output_type": "stream",
     "text": [
      "Processing Files:  14%|█▎        | 236/1721 [08:10<51:18,  2.07s/it]"
     ]
    },
    {
     "name": "stdout",
     "output_type": "stream",
     "text": [
      "Embedding created\n",
      "Canada Oil and Gas Operations Regulations\n"
     ]
    },
    {
     "name": "stderr",
     "output_type": "stream",
     "text": [
      "Processing Files:  14%|█▍        | 237/1721 [08:12<51:52,  2.10s/it]"
     ]
    },
    {
     "name": "stdout",
     "output_type": "stream",
     "text": [
      "Embedding created\n",
      "Formula Refunds Regulations\n"
     ]
    },
    {
     "name": "stderr",
     "output_type": "stream",
     "text": [
      "Processing Files:  14%|█▍        | 238/1721 [08:15<53:02,  2.15s/it]"
     ]
    },
    {
     "name": "stdout",
     "output_type": "stream",
     "text": [
      "Embedding created\n",
      "CPTPP Rules of Origin for Casual Goods Regulations\n"
     ]
    },
    {
     "name": "stderr",
     "output_type": "stream",
     "text": [
      "Processing Files:  14%|█▍        | 239/1721 [08:17<52:10,  2.11s/it]"
     ]
    },
    {
     "name": "stdout",
     "output_type": "stream",
     "text": [
      "Embedding created\n",
      "Electronic Commerce Protection Regulations\n"
     ]
    },
    {
     "name": "stderr",
     "output_type": "stream",
     "text": [
      "Processing Files:  14%|█▍        | 240/1721 [08:19<52:47,  2.14s/it]"
     ]
    },
    {
     "name": "stdout",
     "output_type": "stream",
     "text": [
      "Embedding created\n",
      "Order Prescribing the Fee to be Paid by Foreign Nationals to Participate in an International Youth Exchange Program in Canada\n"
     ]
    },
    {
     "name": "stderr",
     "output_type": "stream",
     "text": [
      "Processing Files:  14%|█▍        | 241/1721 [08:21<51:23,  2.08s/it]"
     ]
    },
    {
     "name": "stdout",
     "output_type": "stream",
     "text": [
      "Embedding created\n",
      "Exported Vessels Remission Order\n"
     ]
    },
    {
     "name": "stderr",
     "output_type": "stream",
     "text": [
      "Processing Files:  14%|█▍        | 242/1721 [08:23<54:36,  2.22s/it]"
     ]
    },
    {
     "name": "stdout",
     "output_type": "stream",
     "text": [
      "Embedding created\n",
      "Exemption List Regulations\n"
     ]
    },
    {
     "name": "stderr",
     "output_type": "stream",
     "text": [
      "Processing Files:  14%|█▍        | 243/1721 [08:25<53:15,  2.16s/it]"
     ]
    },
    {
     "name": "stdout",
     "output_type": "stream",
     "text": [
      "Embedding created\n",
      "General Export Permit No. 44 — Nuclear-Related Dual-Use Goods and Technology to Certain Destinations\n"
     ]
    },
    {
     "name": "stderr",
     "output_type": "stream",
     "text": [
      "Processing Files:  14%|█▍        | 244/1721 [08:29<1:02:49,  2.55s/it]"
     ]
    },
    {
     "name": "stdout",
     "output_type": "stream",
     "text": [
      "Embedding created\n",
      "Breach of Security Safeguards Regulations\n"
     ]
    },
    {
     "name": "stderr",
     "output_type": "stream",
     "text": [
      "Processing Files:  14%|█▍        | 245/1721 [08:31<58:26,  2.38s/it]  "
     ]
    },
    {
     "name": "stdout",
     "output_type": "stream",
     "text": [
      "Embedding created\n",
      "Authorizations Concerning Fish and Fish Habitat Protection Regulations\n"
     ]
    },
    {
     "name": "stderr",
     "output_type": "stream",
     "text": [
      "Processing Files:  14%|█▍        | 246/1721 [08:33<56:23,  2.29s/it]"
     ]
    },
    {
     "name": "stdout",
     "output_type": "stream",
     "text": [
      "Embedding created\n",
      "Gypsum Board Products Anti-dumping Duty Remission Order, 2017\n"
     ]
    },
    {
     "name": "stderr",
     "output_type": "stream",
     "text": [
      "Processing Files:  14%|█▍        | 247/1721 [08:35<55:25,  2.26s/it]"
     ]
    },
    {
     "name": "stdout",
     "output_type": "stream",
     "text": [
      "Embedding created\n",
      "Critical Habitat of the Misty Lake Lentic Threespine Stickleback (Gasterosteus aculeatus) Order\n"
     ]
    },
    {
     "name": "stderr",
     "output_type": "stream",
     "text": [
      "Processing Files:  14%|█▍        | 248/1721 [08:37<52:28,  2.14s/it]"
     ]
    },
    {
     "name": "stdout",
     "output_type": "stream",
     "text": [
      "Embedding created\n",
      "Critical Habitat of the Rayed Bean (Villosa fabalis) Order\n"
     ]
    },
    {
     "name": "stderr",
     "output_type": "stream",
     "text": [
      "Processing Files:  14%|█▍        | 249/1721 [08:39<51:18,  2.09s/it]"
     ]
    },
    {
     "name": "stdout",
     "output_type": "stream",
     "text": [
      "Embedding created\n",
      "CCRFTA Rules of Origin Regulations\n"
     ]
    },
    {
     "name": "stderr",
     "output_type": "stream",
     "text": [
      "Processing Files:  15%|█▍        | 250/1721 [08:41<53:52,  2.20s/it]"
     ]
    },
    {
     "name": "stdout",
     "output_type": "stream",
     "text": [
      "Embedding created\n",
      "Canada Oil and Gas Land Regulations\n"
     ]
    },
    {
     "name": "stderr",
     "output_type": "stream",
     "text": [
      "Processing Files:  15%|█▍        | 251/1721 [08:43<51:55,  2.12s/it]"
     ]
    },
    {
     "name": "stdout",
     "output_type": "stream",
     "text": [
      "Embedding created\n",
      "Cost of Borrowing (Authorized Foreign Banks) Regulations\n"
     ]
    },
    {
     "name": "stderr",
     "output_type": "stream",
     "text": [
      "Processing Files:  15%|█▍        | 252/1721 [08:45<50:17,  2.05s/it]"
     ]
    },
    {
     "name": "stdout",
     "output_type": "stream",
     "text": [
      "Embedding created\n",
      "Commission for Environmental Cooperation Privileges and Immunities in Canada Order\n"
     ]
    },
    {
     "name": "stderr",
     "output_type": "stream",
     "text": [
      "Processing Files:  15%|█▍        | 253/1721 [08:47<49:47,  2.04s/it]"
     ]
    },
    {
     "name": "stdout",
     "output_type": "stream",
     "text": [
      "Embedding created\n",
      "Certified Seed Potatoes Regulations\n"
     ]
    },
    {
     "name": "stderr",
     "output_type": "stream",
     "text": [
      "Processing Files:  15%|█▍        | 254/1721 [08:49<48:41,  1.99s/it]"
     ]
    },
    {
     "name": "stdout",
     "output_type": "stream",
     "text": [
      "Embedding created\n",
      "Rules of the Court of Appeal of Quebec in Criminal Matters\n"
     ]
    },
    {
     "name": "stderr",
     "output_type": "stream",
     "text": [
      "Processing Files:  15%|█▍        | 255/1721 [08:51<47:01,  1.92s/it]"
     ]
    },
    {
     "name": "stdout",
     "output_type": "stream",
     "text": [
      "Embedding created\n",
      "Critical Habitat of the Barrens Willow (Salix jejuna) Order\n"
     ]
    },
    {
     "name": "stderr",
     "output_type": "stream",
     "text": [
      "Processing Files:  15%|█▍        | 256/1721 [08:53<46:56,  1.92s/it]"
     ]
    },
    {
     "name": "stdout",
     "output_type": "stream",
     "text": [
      "Embedding created\n",
      "Accessible Transportation for Persons with Disabilities Regulations\n"
     ]
    },
    {
     "name": "stderr",
     "output_type": "stream",
     "text": [
      "Processing Files:  15%|█▍        | 257/1721 [08:54<45:51,  1.88s/it]"
     ]
    },
    {
     "name": "stdout",
     "output_type": "stream",
     "text": [
      "Embedding created\n",
      "Criminal Proceedings Rules of the Supreme Court of Newfoundland and Labrador\n"
     ]
    },
    {
     "name": "stderr",
     "output_type": "stream",
     "text": [
      "Processing Files:  15%|█▍        | 258/1721 [08:56<46:45,  1.92s/it]"
     ]
    },
    {
     "name": "stdout",
     "output_type": "stream",
     "text": [
      "Embedding created\n",
      "Certification of Countries Granting Equal Copyright Protection Notice\n"
     ]
    },
    {
     "name": "stderr",
     "output_type": "stream",
     "text": [
      "Processing Files:  15%|█▌        | 259/1721 [08:58<46:41,  1.92s/it]"
     ]
    },
    {
     "name": "stdout",
     "output_type": "stream",
     "text": [
      "Embedding created\n",
      "Bait Services Fee Order\n"
     ]
    },
    {
     "name": "stderr",
     "output_type": "stream",
     "text": [
      "Processing Files:  15%|█▌        | 260/1721 [09:01<49:28,  2.03s/it]"
     ]
    },
    {
     "name": "stdout",
     "output_type": "stream",
     "text": [
      "Embedding created\n",
      "Accredited ICAO Missions Remission Order (Part IX of the Excise Tax Act)\n"
     ]
    },
    {
     "name": "stderr",
     "output_type": "stream",
     "text": [
      "Processing Files:  15%|█▌        | 261/1721 [09:03<52:03,  2.14s/it]"
     ]
    },
    {
     "name": "stdout",
     "output_type": "stream",
     "text": [
      "Embedding created\n",
      "Exempt Debt Obligation Transactions (Banks and Bank Holding Companies) Regulations\n"
     ]
    },
    {
     "name": "stderr",
     "output_type": "stream",
     "text": [
      "Processing Files:  15%|█▌        | 262/1721 [09:05<50:51,  2.09s/it]"
     ]
    },
    {
     "name": "stdout",
     "output_type": "stream",
     "text": [
      "Embedding created\n",
      "Blood Regulations\n"
     ]
    },
    {
     "name": "stderr",
     "output_type": "stream",
     "text": [
      "Processing Files:  15%|█▌        | 263/1721 [09:07<49:14,  2.03s/it]"
     ]
    },
    {
     "name": "stdout",
     "output_type": "stream",
     "text": [
      "Embedding created\n",
      "Commissioner’s Standing Orders (Representation), 1997\n"
     ]
    },
    {
     "name": "stderr",
     "output_type": "stream",
     "text": [
      "Processing Files:  15%|█▌        | 264/1721 [09:09<47:30,  1.96s/it]"
     ]
    },
    {
     "name": "stdout",
     "output_type": "stream",
     "text": [
      "Embedding created\n",
      "Class II Nuclear Facilities and Prescribed Equipment Regulations\n"
     ]
    },
    {
     "name": "stderr",
     "output_type": "stream",
     "text": [
      "Processing Files:  15%|█▌        | 265/1721 [09:11<48:17,  1.99s/it]"
     ]
    },
    {
     "name": "stdout",
     "output_type": "stream",
     "text": [
      "Embedding created\n",
      "Consumer Products Containing Lead (Contact with Mouth) Regulations\n"
     ]
    },
    {
     "name": "stderr",
     "output_type": "stream",
     "text": [
      "Processing Files:  15%|█▌        | 266/1721 [09:13<49:12,  2.03s/it]"
     ]
    },
    {
     "name": "stdout",
     "output_type": "stream",
     "text": [
      "Embedding created\n",
      "Cost of Borrowing (Retail Associations) Regulations\n"
     ]
    },
    {
     "name": "stderr",
     "output_type": "stream",
     "text": [
      "Processing Files:  16%|█▌        | 267/1721 [09:15<49:43,  2.05s/it]"
     ]
    },
    {
     "name": "stdout",
     "output_type": "stream",
     "text": [
      "Embedding created\n",
      "Baie Comeau Airport Zoning Regulations\n"
     ]
    },
    {
     "name": "stderr",
     "output_type": "stream",
     "text": [
      "Processing Files:  16%|█▌        | 268/1721 [09:17<51:10,  2.11s/it]"
     ]
    },
    {
     "name": "stdout",
     "output_type": "stream",
     "text": [
      "Embedding created\n",
      "Assessor’s Rules of Procedure\n"
     ]
    },
    {
     "name": "stderr",
     "output_type": "stream",
     "text": [
      "Processing Files:  16%|█▌        | 269/1721 [09:19<49:56,  2.06s/it]"
     ]
    },
    {
     "name": "stdout",
     "output_type": "stream",
     "text": [
      "Embedding created\n",
      "CCOFTA Rules of Origin for Casual Goods Regulations\n"
     ]
    },
    {
     "name": "stderr",
     "output_type": "stream",
     "text": [
      "Processing Files:  16%|█▌        | 270/1721 [09:21<50:44,  2.10s/it]"
     ]
    },
    {
     "name": "stdout",
     "output_type": "stream",
     "text": [
      "Embedding created\n",
      "Firearms Fees Remission Order\n"
     ]
    },
    {
     "name": "stderr",
     "output_type": "stream",
     "text": [
      "Processing Files:  16%|█▌        | 271/1721 [09:23<50:57,  2.11s/it]"
     ]
    },
    {
     "name": "stdout",
     "output_type": "stream",
     "text": [
      "Embedding created\n",
      "Fuel Charge Regulations\n"
     ]
    },
    {
     "name": "stderr",
     "output_type": "stream",
     "text": [
      "Processing Files:  16%|█▌        | 272/1721 [09:25<49:49,  2.06s/it]"
     ]
    },
    {
     "name": "stdout",
     "output_type": "stream",
     "text": [
      "Embedding created\n",
      "Department of External Affairs Terms Under Three Months Exclusion Approval Order, 1993\n"
     ]
    },
    {
     "name": "stderr",
     "output_type": "stream",
     "text": [
      "Processing Files:  16%|█▌        | 273/1721 [09:27<48:00,  1.99s/it]"
     ]
    },
    {
     "name": "stdout",
     "output_type": "stream",
     "text": [
      "Embedding created\n",
      "Crown Corporation Corporate Plan, Budget and Summaries Regulations\n"
     ]
    },
    {
     "name": "stderr",
     "output_type": "stream",
     "text": [
      "Processing Files:  16%|█▌        | 274/1721 [09:30<50:52,  2.11s/it]"
     ]
    },
    {
     "name": "stdout",
     "output_type": "stream",
     "text": [
      "Embedding created\n",
      "Cannabis Fees Order\n"
     ]
    },
    {
     "name": "stderr",
     "output_type": "stream",
     "text": [
      "Processing Files:  16%|█▌        | 275/1721 [09:32<51:09,  2.12s/it]"
     ]
    },
    {
     "name": "stdout",
     "output_type": "stream",
     "text": [
      "Embedding created\n",
      "Administrative Monetary Penalties and Notices (CSA 2001) Regulations\n"
     ]
    },
    {
     "name": "stderr",
     "output_type": "stream",
     "text": [
      "Processing Files:  16%|█▌        | 276/1721 [09:34<49:10,  2.04s/it]"
     ]
    },
    {
     "name": "stdout",
     "output_type": "stream",
     "text": [
      "Embedding created\n",
      "Firearms Licences Regulations\n"
     ]
    },
    {
     "name": "stderr",
     "output_type": "stream",
     "text": [
      "Processing Files:  16%|█▌        | 277/1721 [09:36<48:04,  2.00s/it]"
     ]
    },
    {
     "name": "stdout",
     "output_type": "stream",
     "text": [
      "Embedding created\n",
      "Delegation of Powers (Customs) Order\n"
     ]
    },
    {
     "name": "stderr",
     "output_type": "stream",
     "text": [
      "Processing Files:  16%|█▌        | 278/1721 [09:37<47:29,  1.97s/it]"
     ]
    },
    {
     "name": "stdout",
     "output_type": "stream",
     "text": [
      "Embedding created\n",
      "Consular Fees (Specialized Services) Regulations\n"
     ]
    },
    {
     "name": "stderr",
     "output_type": "stream",
     "text": [
      "Processing Files:  16%|█▌        | 279/1721 [09:40<48:30,  2.02s/it]"
     ]
    },
    {
     "name": "stdout",
     "output_type": "stream",
     "text": [
      "Embedding created\n",
      "Deposit Out of the Normal Course of Events Notification Regulations\n"
     ]
    },
    {
     "name": "stderr",
     "output_type": "stream",
     "text": [
      "Processing Files:  16%|█▋        | 280/1721 [09:42<49:30,  2.06s/it]"
     ]
    },
    {
     "name": "stdout",
     "output_type": "stream",
     "text": [
      "Embedding created\n",
      "Critical Habitat of the Kidneyshell (Ptychobranchus fasciolaris) Order\n"
     ]
    },
    {
     "name": "stderr",
     "output_type": "stream",
     "text": [
      "Processing Files:  16%|█▋        | 281/1721 [09:44<52:59,  2.21s/it]"
     ]
    },
    {
     "name": "stdout",
     "output_type": "stream",
     "text": [
      "Embedding created\n",
      "General Preferential Tariff Withdrawal Order (Republic of Belarus)\n"
     ]
    },
    {
     "name": "stderr",
     "output_type": "stream",
     "text": [
      "Processing Files:  16%|█▋        | 282/1721 [09:46<51:07,  2.13s/it]"
     ]
    },
    {
     "name": "stdout",
     "output_type": "stream",
     "text": [
      "Embedding created\n",
      "Canada–Newfoundland and Labrador Offshore Area Occupational Health and Safety Regulations\n"
     ]
    },
    {
     "name": "stderr",
     "output_type": "stream",
     "text": [
      "Processing Files:  16%|█▋        | 283/1721 [09:48<49:14,  2.05s/it]"
     ]
    },
    {
     "name": "stdout",
     "output_type": "stream",
     "text": [
      "Embedding created\n",
      "Critical Habitat of the Northern Abalone (Haliotis kamtschatkana) Order\n"
     ]
    },
    {
     "name": "stderr",
     "output_type": "stream",
     "text": [
      "Processing Files:  17%|█▋        | 284/1721 [09:50<47:20,  1.98s/it]"
     ]
    },
    {
     "name": "stdout",
     "output_type": "stream",
     "text": [
      "Embedding created\n",
      "CCFTA Remission Order\n"
     ]
    },
    {
     "name": "stderr",
     "output_type": "stream",
     "text": [
      "Processing Files:  17%|█▋        | 285/1721 [09:52<46:02,  1.92s/it]"
     ]
    },
    {
     "name": "stdout",
     "output_type": "stream",
     "text": [
      "Embedding created\n",
      "Defence Materiel and Equipment Loaned to Contractors Order\n"
     ]
    },
    {
     "name": "stderr",
     "output_type": "stream",
     "text": [
      "Processing Files:  17%|█▋        | 286/1721 [09:54<46:44,  1.95s/it]"
     ]
    },
    {
     "name": "stdout",
     "output_type": "stream",
     "text": [
      "Embedding created\n",
      "Canada Emergency Response Benefit and Employment Insurance Emergency Response Benefit Remission Order\n"
     ]
    },
    {
     "name": "stderr",
     "output_type": "stream",
     "text": [
      "Processing Files:  17%|█▋        | 287/1721 [09:57<53:34,  2.24s/it]"
     ]
    },
    {
     "name": "stdout",
     "output_type": "stream",
     "text": [
      "Embedding created\n",
      "Fruit Remission Order, 2008\n"
     ]
    },
    {
     "name": "stderr",
     "output_type": "stream",
     "text": [
      "Processing Files:  17%|█▋        | 288/1721 [09:59<53:02,  2.22s/it]"
     ]
    },
    {
     "name": "stdout",
     "output_type": "stream",
     "text": [
      "Embedding created\n",
      "Harbourfront Remission Order\n"
     ]
    },
    {
     "name": "stderr",
     "output_type": "stream",
     "text": [
      "Processing Files:  17%|█▋        | 289/1721 [10:01<51:44,  2.17s/it]"
     ]
    },
    {
     "name": "stdout",
     "output_type": "stream",
     "text": [
      "Embedding created\n",
      "Form of Deeds Relating to Certain Successions of Cree and Naskapi Beneficiaries Regulations\n"
     ]
    },
    {
     "name": "stderr",
     "output_type": "stream",
     "text": [
      "Processing Files:  17%|█▋        | 290/1721 [10:03<52:35,  2.20s/it]"
     ]
    },
    {
     "name": "stdout",
     "output_type": "stream",
     "text": [
      "Embedding created\n",
      "Bank Holding Company Proposal Regulations\n"
     ]
    },
    {
     "name": "stderr",
     "output_type": "stream",
     "text": [
      "Processing Files:  17%|█▋        | 291/1721 [10:05<50:13,  2.11s/it]"
     ]
    },
    {
     "name": "stdout",
     "output_type": "stream",
     "text": [
      "Embedding created\n",
      "Certificates of Age and Origin for Distilled Spirits Produced or Packaged in Canada Order\n"
     ]
    },
    {
     "name": "stderr",
     "output_type": "stream",
     "text": [
      "Processing Files:  17%|█▋        | 292/1721 [10:07<47:54,  2.01s/it]"
     ]
    },
    {
     "name": "stdout",
     "output_type": "stream",
     "text": [
      "Embedding created\n",
      "Cost of Borrowing (Foreign Insurance Companies) Regulations\n"
     ]
    },
    {
     "name": "stderr",
     "output_type": "stream",
     "text": [
      "Processing Files:  17%|█▋        | 293/1721 [10:09<46:09,  1.94s/it]"
     ]
    },
    {
     "name": "stdout",
     "output_type": "stream",
     "text": [
      "Embedding created\n",
      "Farm Debt Mediation Regulations\n"
     ]
    },
    {
     "name": "stderr",
     "output_type": "stream",
     "text": [
      "Processing Files:  17%|█▋        | 294/1721 [10:11<48:22,  2.03s/it]"
     ]
    },
    {
     "name": "stdout",
     "output_type": "stream",
     "text": [
      "Embedding created\n",
      "Banff National Park of Canada Siksika Nation Castle Mountain Land and Timber Claim Settlement Agreement Rent and Fee Remission Order\n"
     ]
    },
    {
     "name": "stderr",
     "output_type": "stream",
     "text": [
      "Processing Files:  17%|█▋        | 295/1721 [10:13<48:42,  2.05s/it]"
     ]
    },
    {
     "name": "stdout",
     "output_type": "stream",
     "text": [
      "Embedding created\n",
      "Adjudication Division Rules\n"
     ]
    },
    {
     "name": "stderr",
     "output_type": "stream",
     "text": [
      "Processing Files:  17%|█▋        | 296/1721 [10:15<51:51,  2.18s/it]"
     ]
    },
    {
     "name": "stdout",
     "output_type": "stream",
     "text": [
      "Embedding created\n",
      "Certain Fees Relating to Export Certificates Remission Order\n"
     ]
    },
    {
     "name": "stderr",
     "output_type": "stream",
     "text": [
      "Processing Files:  17%|█▋        | 297/1721 [10:17<49:53,  2.10s/it]"
     ]
    },
    {
     "name": "stdout",
     "output_type": "stream",
     "text": [
      "Embedding created\n",
      "Fenner Dunlop (Bracebridge) Inc. Remission Order\n"
     ]
    },
    {
     "name": "stderr",
     "output_type": "stream",
     "text": [
      "Processing Files:  17%|█▋        | 298/1721 [10:19<47:45,  2.01s/it]"
     ]
    },
    {
     "name": "stdout",
     "output_type": "stream",
     "text": [
      "Embedding created\n",
      "Fitness and Amateur Sport Regulations\n"
     ]
    },
    {
     "name": "stderr",
     "output_type": "stream",
     "text": [
      "Processing Files:  17%|█▋        | 299/1721 [10:21<46:56,  1.98s/it]"
     ]
    },
    {
     "name": "stdout",
     "output_type": "stream",
     "text": [
      "Embedding created\n",
      "Adjustment Assistance Benefit Regulations (Footwear and Tanning Workers)\n"
     ]
    },
    {
     "name": "stderr",
     "output_type": "stream",
     "text": [
      "Processing Files:  17%|█▋        | 300/1721 [10:23<46:29,  1.96s/it]"
     ]
    },
    {
     "name": "stdout",
     "output_type": "stream",
     "text": [
      "Embedding created\n",
      "Federal Referendum Fees Tariff\n"
     ]
    },
    {
     "name": "stderr",
     "output_type": "stream",
     "text": [
      "Processing Files:  17%|█▋        | 301/1721 [10:25<47:59,  2.03s/it]"
     ]
    },
    {
     "name": "stdout",
     "output_type": "stream",
     "text": [
      "Embedding created\n",
      "Dangerous Bulk Materials Regulations\n"
     ]
    },
    {
     "name": "stderr",
     "output_type": "stream",
     "text": [
      "Processing Files:  18%|█▊        | 302/1721 [10:27<48:59,  2.07s/it]"
     ]
    },
    {
     "name": "stdout",
     "output_type": "stream",
     "text": [
      "Embedding created\n",
      "Export of Goods for Special and Personal Use Permit\n"
     ]
    },
    {
     "name": "stderr",
     "output_type": "stream",
     "text": [
      "Processing Files:  18%|█▊        | 303/1721 [10:29<48:50,  2.07s/it]"
     ]
    },
    {
     "name": "stdout",
     "output_type": "stream",
     "text": [
      "Embedding created\n",
      "Alexander First Nation Treaty Land Entitlement Remission Order\n"
     ]
    },
    {
     "name": "stderr",
     "output_type": "stream",
     "text": [
      "Processing Files:  18%|█▊        | 304/1721 [10:32<50:56,  2.16s/it]"
     ]
    },
    {
     "name": "stdout",
     "output_type": "stream",
     "text": [
      "Embedding created\n",
      "Canadian Livestock Feed Board Headquarters Regulations\n"
     ]
    },
    {
     "name": "stderr",
     "output_type": "stream",
     "text": [
      "Processing Files:  18%|█▊        | 305/1721 [10:34<50:06,  2.12s/it]"
     ]
    },
    {
     "name": "stdout",
     "output_type": "stream",
     "text": [
      "Embedding created\n",
      "European Space Agency Privileges Order\n"
     ]
    },
    {
     "name": "stderr",
     "output_type": "stream",
     "text": [
      "Processing Files:  18%|█▊        | 306/1721 [10:36<49:54,  2.12s/it]"
     ]
    },
    {
     "name": "stdout",
     "output_type": "stream",
     "text": [
      "Embedding created\n",
      "CKFTA Rules of Origin for Casual Goods Regulations\n"
     ]
    },
    {
     "name": "stderr",
     "output_type": "stream",
     "text": [
      "Processing Files:  18%|█▊        | 307/1721 [10:38<51:00,  2.16s/it]"
     ]
    },
    {
     "name": "stdout",
     "output_type": "stream",
     "text": [
      "Embedding created\n",
      "Food and Drug Regulations\n"
     ]
    },
    {
     "name": "stderr",
     "output_type": "stream",
     "text": [
      "Processing Files:  18%|█▊        | 308/1721 [10:40<49:23,  2.10s/it]"
     ]
    },
    {
     "name": "stdout",
     "output_type": "stream",
     "text": [
      "Embedding created\n",
      "Consolidated Regulations Delivery Regulations\n"
     ]
    },
    {
     "name": "stderr",
     "output_type": "stream",
     "text": [
      "Processing Files:  18%|█▊        | 309/1721 [10:42<48:07,  2.04s/it]"
     ]
    },
    {
     "name": "stdout",
     "output_type": "stream",
     "text": [
      "Embedding created\n",
      "Definition of Local Signal and Distant Signal Regulations\n"
     ]
    },
    {
     "name": "stderr",
     "output_type": "stream",
     "text": [
      "Processing Files:  18%|█▊        | 310/1721 [10:44<48:14,  2.05s/it]"
     ]
    },
    {
     "name": "stdout",
     "output_type": "stream",
     "text": [
      "Embedding created\n",
      "Order Exempting Bands from the Operation of Section 32 of the Indian Act\n"
     ]
    },
    {
     "name": "stderr",
     "output_type": "stream",
     "text": [
      "Processing Files:  18%|█▊        | 311/1721 [10:46<49:52,  2.12s/it]"
     ]
    },
    {
     "name": "stdout",
     "output_type": "stream",
     "text": [
      "Embedding created\n",
      "Emergency Order for the Protection of the Greater Sage-Grouse\n"
     ]
    },
    {
     "name": "stderr",
     "output_type": "stream",
     "text": [
      "Processing Files:  18%|█▊        | 312/1721 [10:48<47:52,  2.04s/it]"
     ]
    },
    {
     "name": "stdout",
     "output_type": "stream",
     "text": [
      "Embedding created\n",
      "Electronic Registers and Ancillary Equipment Incorporated in Metering Assemblies Specifications\n"
     ]
    },
    {
     "name": "stderr",
     "output_type": "stream",
     "text": [
      "Processing Files:  18%|█▊        | 313/1721 [10:50<47:44,  2.03s/it]"
     ]
    },
    {
     "name": "stdout",
     "output_type": "stream",
     "text": [
      "Embedding created\n",
      "Criminal Records Regulations\n"
     ]
    },
    {
     "name": "stderr",
     "output_type": "stream",
     "text": [
      "Processing Files:  18%|█▊        | 314/1721 [10:52<47:42,  2.03s/it]"
     ]
    },
    {
     "name": "stdout",
     "output_type": "stream",
     "text": [
      "Embedding created\n",
      "Hazardous Products (Lighters) Regulations\n"
     ]
    },
    {
     "name": "stderr",
     "output_type": "stream",
     "text": [
      "Processing Files:  18%|█▊        | 315/1721 [10:55<48:43,  2.08s/it]"
     ]
    },
    {
     "name": "stdout",
     "output_type": "stream",
     "text": [
      "Embedding created\n",
      "Commissioner’s Standing Orders (Investigation and Resolution of Harassment Complaints)\n"
     ]
    },
    {
     "name": "stderr",
     "output_type": "stream",
     "text": [
      "Processing Files:  18%|█▊        | 316/1721 [10:56<47:26,  2.03s/it]"
     ]
    },
    {
     "name": "stdout",
     "output_type": "stream",
     "text": [
      "Embedding created\n",
      "Diplomatic Service (Special) Superannuation Regulations, 1988\n"
     ]
    },
    {
     "name": "stderr",
     "output_type": "stream",
     "text": [
      "Processing Files:  18%|█▊        | 317/1721 [10:59<48:25,  2.07s/it]"
     ]
    },
    {
     "name": "stdout",
     "output_type": "stream",
     "text": [
      "Embedding created\n",
      "Allocation Method Order (2012) — Softwood Lumber Products\n"
     ]
    },
    {
     "name": "stderr",
     "output_type": "stream",
     "text": [
      "Processing Files:  18%|█▊        | 318/1721 [11:01<49:33,  2.12s/it]"
     ]
    },
    {
     "name": "stdout",
     "output_type": "stream",
     "text": [
      "Embedding created\n",
      "Cree-Naskapi Band Elections Regulations\n"
     ]
    },
    {
     "name": "stderr",
     "output_type": "stream",
     "text": [
      "Processing Files:  19%|█▊        | 319/1721 [11:03<48:10,  2.06s/it]"
     ]
    },
    {
     "name": "stdout",
     "output_type": "stream",
     "text": [
      "Embedding created\n",
      "Constitution Amendment, 2022 (Saskatchewan Act)\n"
     ]
    },
    {
     "name": "stderr",
     "output_type": "stream",
     "text": [
      "Processing Files:  19%|█▊        | 320/1721 [11:05<47:10,  2.02s/it]"
     ]
    },
    {
     "name": "stdout",
     "output_type": "stream",
     "text": [
      "Embedding created\n",
      "Canadian Payments Association By-law No. 3 — Payment Items and Automated Clearing Settlement System\n"
     ]
    },
    {
     "name": "stderr",
     "output_type": "stream",
     "text": [
      "Processing Files:  19%|█▊        | 321/1721 [11:07<49:54,  2.14s/it]"
     ]
    },
    {
     "name": "stdout",
     "output_type": "stream",
     "text": [
      "Embedding created\n",
      "Airport Personal Property Disposal Regulations\n"
     ]
    },
    {
     "name": "stderr",
     "output_type": "stream",
     "text": [
      "Processing Files:  19%|█▊        | 322/1721 [11:10<54:31,  2.34s/it]"
     ]
    },
    {
     "name": "stdout",
     "output_type": "stream",
     "text": [
      "Embedding created\n",
      "Firearms Registration Certificates Regulations\n"
     ]
    },
    {
     "name": "stderr",
     "output_type": "stream",
     "text": [
      "Processing Files:  19%|█▉        | 323/1721 [11:12<54:59,  2.36s/it]"
     ]
    },
    {
     "name": "stdout",
     "output_type": "stream",
     "text": [
      "Embedding created\n",
      "Calculation of Contribution Rates Regulations\n"
     ]
    },
    {
     "name": "stderr",
     "output_type": "stream",
     "text": [
      "Processing Files:  19%|█▉        | 324/1721 [11:14<52:51,  2.27s/it]"
     ]
    },
    {
     "name": "stdout",
     "output_type": "stream",
     "text": [
      "Embedding created\n",
      "Order Designating Charlottetown, Prince Edward Island as Head Office of the Veterans Review and Appeal Board\n"
     ]
    },
    {
     "name": "stderr",
     "output_type": "stream",
     "text": [
      "Processing Files:  19%|█▉        | 325/1721 [11:16<51:34,  2.22s/it]"
     ]
    },
    {
     "name": "stdout",
     "output_type": "stream",
     "text": [
      "Embedding created\n",
      "Consent for Use of Human Reproductive Material and In Vitro Embryos Regulations\n"
     ]
    },
    {
     "name": "stderr",
     "output_type": "stream",
     "text": [
      "Processing Files:  19%|█▉        | 326/1721 [11:19<51:46,  2.23s/it]"
     ]
    },
    {
     "name": "stdout",
     "output_type": "stream",
     "text": [
      "Embedding created\n",
      "Canola 1988 Period Stabilization Regulations\n"
     ]
    },
    {
     "name": "stderr",
     "output_type": "stream",
     "text": [
      "Processing Files:  19%|█▉        | 327/1721 [11:21<49:35,  2.13s/it]"
     ]
    },
    {
     "name": "stdout",
     "output_type": "stream",
     "text": [
      "Embedding created\n",
      "Canadian Nuclear Safety Commission Rules of Procedure\n"
     ]
    },
    {
     "name": "stderr",
     "output_type": "stream",
     "text": [
      "Processing Files:  19%|█▉        | 328/1721 [11:22<47:34,  2.05s/it]"
     ]
    },
    {
     "name": "stdout",
     "output_type": "stream",
     "text": [
      "Embedding created\n",
      "Defence Maps and Charts Transfer Order\n"
     ]
    },
    {
     "name": "stderr",
     "output_type": "stream",
     "text": [
      "Processing Files:  19%|█▉        | 329/1721 [11:24<45:36,  1.97s/it]"
     ]
    },
    {
     "name": "stdout",
     "output_type": "stream",
     "text": [
      "Embedding created\n",
      "Deficient Postage Regulations\n"
     ]
    },
    {
     "name": "stderr",
     "output_type": "stream",
     "text": [
      "Processing Files:  19%|█▉        | 330/1721 [11:28<1:00:50,  2.62s/it]"
     ]
    },
    {
     "name": "stdout",
     "output_type": "stream",
     "text": [
      "Embedding created\n",
      "Civilian Dental Treatment Regulations\n"
     ]
    },
    {
     "name": "stderr",
     "output_type": "stream",
     "text": [
      "Processing Files:  19%|█▉        | 331/1721 [11:31<57:08,  2.47s/it]  "
     ]
    },
    {
     "name": "stdout",
     "output_type": "stream",
     "text": [
      "Embedding created\n",
      "Edmonton International Airport Zoning Regulations\n"
     ]
    },
    {
     "name": "stderr",
     "output_type": "stream",
     "text": [
      "Processing Files:  19%|█▉        | 332/1721 [11:32<53:27,  2.31s/it]"
     ]
    },
    {
     "name": "stdout",
     "output_type": "stream",
     "text": [
      "Embedding created\n",
      "Ballet Shoes Remission Order\n"
     ]
    },
    {
     "name": "stderr",
     "output_type": "stream",
     "text": [
      "Processing Files:  19%|█▉        | 333/1721 [11:35<55:30,  2.40s/it]"
     ]
    },
    {
     "name": "stdout",
     "output_type": "stream",
     "text": [
      "Embedding created\n",
      "Critical Habitat of the Spotted Wolffish (Anarhichas minor) Order\n"
     ]
    },
    {
     "name": "stderr",
     "output_type": "stream",
     "text": [
      "Processing Files:  19%|█▉        | 334/1721 [11:37<53:52,  2.33s/it]"
     ]
    },
    {
     "name": "stdout",
     "output_type": "stream",
     "text": [
      "Embedding created\n",
      "Order Suspending the Application of Concessions On Imports of Certain Products Originating in the United States\n"
     ]
    },
    {
     "name": "stderr",
     "output_type": "stream",
     "text": [
      "Processing Files:  19%|█▉        | 335/1721 [11:40<53:29,  2.32s/it]"
     ]
    },
    {
     "name": "stdout",
     "output_type": "stream",
     "text": [
      "Embedding created\n",
      "General Export Permit No. Ex. 31 — Peanut Butter\n"
     ]
    },
    {
     "name": "stderr",
     "output_type": "stream",
     "text": [
      "Processing Files:  20%|█▉        | 336/1721 [11:44<1:10:17,  3.05s/it]"
     ]
    },
    {
     "name": "stdout",
     "output_type": "stream",
     "text": [
      "Embedding created\n",
      "Customs Drawback on Toy Skins Regulations\n"
     ]
    },
    {
     "name": "stderr",
     "output_type": "stream",
     "text": [
      "Processing Files:  20%|█▉        | 337/1721 [11:47<1:08:15,  2.96s/it]"
     ]
    },
    {
     "name": "stdout",
     "output_type": "stream",
     "text": [
      "Embedding created\n",
      "Accountable Travel and Moving Advance Regulations (Canadian Forces)\n"
     ]
    },
    {
     "name": "stderr",
     "output_type": "stream",
     "text": [
      "Processing Files:  20%|█▉        | 338/1721 [11:49<1:04:13,  2.79s/it]"
     ]
    },
    {
     "name": "stdout",
     "output_type": "stream",
     "text": [
      "Embedding created\n",
      "2010 Olympic and Paralympic Winter Games Remission Order\n"
     ]
    },
    {
     "name": "stderr",
     "output_type": "stream",
     "text": [
      "Processing Files:  20%|█▉        | 339/1721 [11:51<58:59,  2.56s/it]  "
     ]
    },
    {
     "name": "stdout",
     "output_type": "stream",
     "text": [
      "Embedding created\n",
      "CCRFTA Tariff Preference Regulations\n"
     ]
    },
    {
     "name": "stderr",
     "output_type": "stream",
     "text": [
      "Processing Files:  20%|█▉        | 340/1721 [11:54<1:00:23,  2.62s/it]"
     ]
    },
    {
     "name": "stdout",
     "output_type": "stream",
     "text": [
      "Embedding created\n",
      "Proclamation Declaring the Supplementary Agreement to the Agreement on Social Security between Canada and the Republic of Austria in Force on December 1, 1996\n"
     ]
    },
    {
     "name": "stderr",
     "output_type": "stream",
     "text": [
      "Processing Files:  20%|█▉        | 341/1721 [11:56<57:14,  2.49s/it]  "
     ]
    },
    {
     "name": "stdout",
     "output_type": "stream",
     "text": [
      "Embedding created\n",
      "Aggregate Financial Exposure (Insurance Companies) Regulations\n"
     ]
    },
    {
     "name": "stderr",
     "output_type": "stream",
     "text": [
      "Processing Files:  20%|█▉        | 342/1721 [11:58<54:34,  2.37s/it]"
     ]
    },
    {
     "name": "stdout",
     "output_type": "stream",
     "text": [
      "Embedding not created\n",
      "Allocation Method Order — Turkey and Turkey Products\n"
     ]
    },
    {
     "name": "stderr",
     "output_type": "stream",
     "text": [
      "Processing Files:  20%|█▉        | 343/1721 [12:01<54:12,  2.36s/it]"
     ]
    },
    {
     "name": "stdout",
     "output_type": "stream",
     "text": [
      "Embedding created\n",
      "Crown Corporation Payments Regulations\n"
     ]
    },
    {
     "name": "stderr",
     "output_type": "stream",
     "text": [
      "Processing Files:  20%|█▉        | 344/1721 [12:03<51:30,  2.24s/it]"
     ]
    },
    {
     "name": "stdout",
     "output_type": "stream",
     "text": [
      "Embedding created\n",
      "Order Giving Notice that a Tax Agreement between Canada and the People’s Republic of China came into Force on December 29, 1986\n"
     ]
    },
    {
     "name": "stderr",
     "output_type": "stream",
     "text": [
      "Processing Files:  20%|██        | 345/1721 [12:05<50:11,  2.19s/it]"
     ]
    },
    {
     "name": "stdout",
     "output_type": "stream",
     "text": [
      "Embedding created\n",
      "Federal Sales Tax New Housing Rebate Regulations\n"
     ]
    },
    {
     "name": "stderr",
     "output_type": "stream",
     "text": [
      "Processing Files:  20%|██        | 346/1721 [12:07<50:29,  2.20s/it]"
     ]
    },
    {
     "name": "stdout",
     "output_type": "stream",
     "text": [
      "Embedding created\n",
      "Grand Manan Airport Zoning Regulations\n"
     ]
    },
    {
     "name": "stderr",
     "output_type": "stream",
     "text": [
      "Processing Files:  20%|██        | 347/1721 [12:09<48:00,  2.10s/it]"
     ]
    },
    {
     "name": "stdout",
     "output_type": "stream",
     "text": [
      "Embedding created\n",
      "Carriages and Strollers Regulations\n"
     ]
    },
    {
     "name": "stderr",
     "output_type": "stream",
     "text": [
      "Processing Files:  20%|██        | 348/1721 [12:11<47:00,  2.05s/it]"
     ]
    },
    {
     "name": "stdout",
     "output_type": "stream",
     "text": [
      "Embedding created\n",
      "Government Annuities Regulations\n"
     ]
    },
    {
     "name": "stderr",
     "output_type": "stream",
     "text": [
      "Processing Files:  20%|██        | 349/1721 [12:13<46:32,  2.04s/it]"
     ]
    },
    {
     "name": "stdout",
     "output_type": "stream",
     "text": [
      "Embedding created\n",
      "Canadian Turkey Marketing Agency Proclamation\n"
     ]
    },
    {
     "name": "stderr",
     "output_type": "stream",
     "text": [
      "Processing Files:  20%|██        | 350/1721 [12:15<46:21,  2.03s/it]"
     ]
    },
    {
     "name": "stdout",
     "output_type": "stream",
     "text": [
      "Embedding created\n",
      "Allocation Method Order (2008) – Softwood Lumber Products\n"
     ]
    },
    {
     "name": "stderr",
     "output_type": "stream",
     "text": [
      "Processing Files:  20%|██        | 351/1721 [12:17<44:29,  1.95s/it]"
     ]
    },
    {
     "name": "stdout",
     "output_type": "stream",
     "text": [
      "Embedding created\n",
      "Fingerprinting, Palmprinting and Photography Order\n"
     ]
    },
    {
     "name": "stderr",
     "output_type": "stream",
     "text": [
      "Processing Files:  20%|██        | 352/1721 [12:19<45:54,  2.01s/it]"
     ]
    },
    {
     "name": "stdout",
     "output_type": "stream",
     "text": [
      "Embedding created\n",
      "Bridgestone Remission Order\n"
     ]
    },
    {
     "name": "stderr",
     "output_type": "stream",
     "text": [
      "Processing Files:  21%|██        | 353/1721 [12:21<47:13,  2.07s/it]"
     ]
    },
    {
     "name": "stdout",
     "output_type": "stream",
     "text": [
      "Embedding created\n",
      "Corded Window Coverings Regulations\n"
     ]
    },
    {
     "name": "stderr",
     "output_type": "stream",
     "text": [
      "Processing Files:  21%|██        | 354/1721 [12:23<47:41,  2.09s/it]"
     ]
    },
    {
     "name": "stdout",
     "output_type": "stream",
     "text": [
      "Embedding created\n",
      "Designated Areas Firearms Order\n"
     ]
    },
    {
     "name": "stderr",
     "output_type": "stream",
     "text": [
      "Processing Files:  21%|██        | 355/1721 [12:25<46:44,  2.05s/it]"
     ]
    },
    {
     "name": "stdout",
     "output_type": "stream",
     "text": [
      "Embedding created\n",
      "Health Reform Transfer Regulations\n"
     ]
    },
    {
     "name": "stderr",
     "output_type": "stream",
     "text": [
      "Processing Files:  21%|██        | 356/1721 [12:28<52:33,  2.31s/it]"
     ]
    },
    {
     "name": "stdout",
     "output_type": "stream",
     "text": [
      "Embedding created\n",
      "Fort McMurray Airport Zoning Regulations\n"
     ]
    },
    {
     "name": "stderr",
     "output_type": "stream",
     "text": [
      "Processing Files:  21%|██        | 357/1721 [12:30<48:40,  2.14s/it]"
     ]
    },
    {
     "name": "stdout",
     "output_type": "stream",
     "text": [
      "Embedding created\n",
      "Canadian Agricultural Loans Regulations\n"
     ]
    },
    {
     "name": "stderr",
     "output_type": "stream",
     "text": [
      "Processing Files:  21%|██        | 358/1721 [12:32<46:29,  2.05s/it]"
     ]
    },
    {
     "name": "stdout",
     "output_type": "stream",
     "text": [
      "Embedding created\n",
      "Determination of the Tariff Classification of Sugar, Molasses and Sugar Syrup Regulations\n"
     ]
    },
    {
     "name": "stderr",
     "output_type": "stream",
     "text": [
      "Processing Files:  21%|██        | 359/1721 [12:34<50:18,  2.22s/it]"
     ]
    },
    {
     "name": "stdout",
     "output_type": "stream",
     "text": [
      "Embedding created\n",
      "Candles Regulations\n"
     ]
    },
    {
     "name": "stderr",
     "output_type": "stream",
     "text": [
      "Processing Files:  21%|██        | 360/1721 [12:36<48:34,  2.14s/it]"
     ]
    },
    {
     "name": "stdout",
     "output_type": "stream",
     "text": [
      "Embedding created\n",
      "CEFTA Verification of Origin of Imported Goods Regulations\n"
     ]
    },
    {
     "name": "stderr",
     "output_type": "stream",
     "text": [
      "Processing Files:  21%|██        | 361/1721 [12:38<47:58,  2.12s/it]"
     ]
    },
    {
     "name": "stdout",
     "output_type": "stream",
     "text": [
      "Embedding created\n",
      "Crewing Regulations\n"
     ]
    },
    {
     "name": "stderr",
     "output_type": "stream",
     "text": [
      "Processing Files:  21%|██        | 362/1721 [12:41<51:07,  2.26s/it]"
     ]
    },
    {
     "name": "stdout",
     "output_type": "stream",
     "text": [
      "Embedding created\n",
      "Environmental Violations Administrative Monetary Penalties Regulations\n"
     ]
    },
    {
     "name": "stderr",
     "output_type": "stream",
     "text": [
      "Processing Files:  21%|██        | 363/1721 [12:43<49:59,  2.21s/it]"
     ]
    },
    {
     "name": "stdout",
     "output_type": "stream",
     "text": [
      "Embedding created\n",
      "Glass Doors and Enclosures Regulations\n"
     ]
    },
    {
     "name": "stderr",
     "output_type": "stream",
     "text": [
      "Processing Files:  21%|██        | 364/1721 [12:45<49:53,  2.21s/it]"
     ]
    },
    {
     "name": "stdout",
     "output_type": "stream",
     "text": [
      "Embedding created\n",
      "Exemption from Approval for Certain Investments in Intragroup Service Entities (Bank Act) Regulations\n"
     ]
    },
    {
     "name": "stderr",
     "output_type": "stream",
     "text": [
      "Processing Files:  21%|██        | 365/1721 [12:47<46:59,  2.08s/it]"
     ]
    },
    {
     "name": "stdout",
     "output_type": "stream",
     "text": [
      "Embedding created\n",
      "Regulations Excluding Certain Things from the Definition of “Goods” under the Preclearance Act\n"
     ]
    },
    {
     "name": "stderr",
     "output_type": "stream",
     "text": [
      "Processing Files:  21%|██▏       | 366/1721 [12:50<52:55,  2.34s/it]"
     ]
    },
    {
     "name": "stdout",
     "output_type": "stream",
     "text": [
      "Embedding created\n",
      "Employment Equity Regulations\n"
     ]
    },
    {
     "name": "stderr",
     "output_type": "stream",
     "text": [
      "Processing Files:  21%|██▏       | 367/1721 [12:55<1:09:40,  3.09s/it]"
     ]
    },
    {
     "name": "stdout",
     "output_type": "stream",
     "text": [
      "Embedding created\n",
      "British Columbia Cranberry Order\n"
     ]
    },
    {
     "name": "stderr",
     "output_type": "stream",
     "text": [
      "Processing Files:  21%|██▏       | 368/1721 [12:57<1:05:45,  2.92s/it]"
     ]
    },
    {
     "name": "stdout",
     "output_type": "stream",
     "text": [
      "Embedding created\n",
      "Canadian Payments Association Election of Directors Regulations\n"
     ]
    },
    {
     "name": "stderr",
     "output_type": "stream",
     "text": [
      "Processing Files:  21%|██▏       | 369/1721 [12:59<58:35,  2.60s/it]  "
     ]
    },
    {
     "name": "stdout",
     "output_type": "stream",
     "text": [
      "Embedding created\n",
      "Hampton Place and Taylor Way Remission Order\n"
     ]
    },
    {
     "name": "stderr",
     "output_type": "stream",
     "text": [
      "Processing Files:  21%|██▏       | 370/1721 [13:01<54:31,  2.42s/it]"
     ]
    },
    {
     "name": "stdout",
     "output_type": "stream",
     "text": [
      "Embedding created\n",
      "Commissioner’s Standing Orders (Practice And Procedure)\n"
     ]
    },
    {
     "name": "stderr",
     "output_type": "stream",
     "text": [
      "Processing Files:  22%|██▏       | 371/1721 [13:03<54:25,  2.42s/it]"
     ]
    },
    {
     "name": "stdout",
     "output_type": "stream",
     "text": [
      "Embedding created\n",
      "Accounting for Imported Goods and Payment of Duties Regulations\n"
     ]
    },
    {
     "name": "stderr",
     "output_type": "stream",
     "text": [
      "Processing Files:  22%|██▏       | 372/1721 [13:06<52:24,  2.33s/it]"
     ]
    },
    {
     "name": "stdout",
     "output_type": "stream",
     "text": [
      "Embedding created\n",
      "Federal Halocarbon Regulations, 2022\n"
     ]
    },
    {
     "name": "stderr",
     "output_type": "stream",
     "text": [
      "Processing Files:  22%|██▏       | 373/1721 [13:08<49:48,  2.22s/it]"
     ]
    },
    {
     "name": "stdout",
     "output_type": "stream",
     "text": [
      "Embedding created\n",
      "Canada Gazette Publication Order\n"
     ]
    },
    {
     "name": "stderr",
     "output_type": "stream",
     "text": [
      "Processing Files:  22%|██▏       | 374/1721 [13:10<49:15,  2.19s/it]"
     ]
    },
    {
     "name": "stdout",
     "output_type": "stream",
     "text": [
      "Embedding created\n",
      "Canadian Wheat Board (Interim Operations) Regulations\n"
     ]
    },
    {
     "name": "stderr",
     "output_type": "stream",
     "text": [
      "Processing Files:  22%|██▏       | 375/1721 [13:12<49:33,  2.21s/it]"
     ]
    },
    {
     "name": "stdout",
     "output_type": "stream",
     "text": [
      "Embedding created\n",
      "Dipropylacetic Acid (also known as 2-Propylpentanoic Acid) Remission Order\n"
     ]
    },
    {
     "name": "stderr",
     "output_type": "stream",
     "text": [
      "Processing Files:  22%|██▏       | 376/1721 [13:15<54:40,  2.44s/it]"
     ]
    },
    {
     "name": "stdout",
     "output_type": "stream",
     "text": [
      "Embedding created\n",
      "General Nuclear Safety and Control Regulations\n"
     ]
    },
    {
     "name": "stderr",
     "output_type": "stream",
     "text": [
      "Processing Files:  22%|██▏       | 377/1721 [13:17<51:50,  2.31s/it]"
     ]
    },
    {
     "name": "stdout",
     "output_type": "stream",
     "text": [
      "Embedding created\n",
      "1985 Potatoes Stabilization Regulations\n"
     ]
    },
    {
     "name": "stderr",
     "output_type": "stream",
     "text": [
      "Processing Files:  22%|██▏       | 378/1721 [13:19<49:58,  2.23s/it]"
     ]
    },
    {
     "name": "stdout",
     "output_type": "stream",
     "text": [
      "Embedding created\n",
      "Concentration of Phosphorus in Certain Cleaning Products Regulations\n"
     ]
    },
    {
     "name": "stderr",
     "output_type": "stream",
     "text": [
      "Processing Files:  22%|██▏       | 379/1721 [13:21<47:28,  2.12s/it]"
     ]
    },
    {
     "name": "stdout",
     "output_type": "stream",
     "text": [
      "Embedding created\n",
      "Hazardous Products Regulations\n"
     ]
    },
    {
     "name": "stderr",
     "output_type": "stream",
     "text": [
      "Processing Files:  22%|██▏       | 380/1721 [13:23<48:19,  2.16s/it]"
     ]
    },
    {
     "name": "stdout",
     "output_type": "stream",
     "text": [
      "Embedding created\n",
      "Allocation Method Order (2011) — Softwood Lumber Products\n"
     ]
    },
    {
     "name": "stderr",
     "output_type": "stream",
     "text": [
      "Processing Files:  22%|██▏       | 381/1721 [13:25<49:04,  2.20s/it]"
     ]
    },
    {
     "name": "stdout",
     "output_type": "stream",
     "text": [
      "Embedding created\n",
      "Canadian Retailers Duty Remission Order, 1993\n"
     ]
    },
    {
     "name": "stderr",
     "output_type": "stream",
     "text": [
      "Processing Files:  22%|██▏       | 382/1721 [13:27<47:34,  2.13s/it]"
     ]
    },
    {
     "name": "stdout",
     "output_type": "stream",
     "text": [
      "Embedding created\n",
      "Accountable Education and Travel Advance Regulations (Dependants of Members of the Canadian Forces)\n"
     ]
    },
    {
     "name": "stderr",
     "output_type": "stream",
     "text": [
      "Processing Files:  22%|██▏       | 383/1721 [13:29<46:02,  2.06s/it]"
     ]
    },
    {
     "name": "stdout",
     "output_type": "stream",
     "text": [
      "Embedding created\n",
      "CyberFluor Inc. Shares Acquisition Order\n"
     ]
    },
    {
     "name": "stderr",
     "output_type": "stream",
     "text": [
      "Processing Files:  22%|██▏       | 384/1721 [13:31<44:31,  2.00s/it]"
     ]
    },
    {
     "name": "stdout",
     "output_type": "stream",
     "text": [
      "Embedding created\n",
      "Canadian Hatching Egg Producers Quota Regulations\n"
     ]
    },
    {
     "name": "stderr",
     "output_type": "stream",
     "text": [
      "Processing Files:  22%|██▏       | 385/1721 [13:33<45:22,  2.04s/it]"
     ]
    },
    {
     "name": "stdout",
     "output_type": "stream",
     "text": [
      "Embedding created\n",
      "Hazardous Products (Toys) Regulations\n"
     ]
    },
    {
     "name": "stderr",
     "output_type": "stream",
     "text": [
      "Processing Files:  22%|██▏       | 386/1721 [13:35<45:11,  2.03s/it]"
     ]
    },
    {
     "name": "stdout",
     "output_type": "stream",
     "text": [
      "Embedding created\n",
      "Eligible Mortgage Loan Regulations\n"
     ]
    },
    {
     "name": "stderr",
     "output_type": "stream",
     "text": [
      "Processing Files:  22%|██▏       | 387/1721 [13:37<44:24,  2.00s/it]"
     ]
    },
    {
     "name": "stdout",
     "output_type": "stream",
     "text": [
      "Embedding created\n",
      "Canada Health Transfer, Canada Social Transfer and Wait Times Reduction Transfer Regulations\n"
     ]
    },
    {
     "name": "stderr",
     "output_type": "stream",
     "text": [
      "Processing Files:  23%|██▎       | 388/1721 [13:39<45:16,  2.04s/it]"
     ]
    },
    {
     "name": "stdout",
     "output_type": "stream",
     "text": [
      "Embedding created\n",
      "Direct Shipment (Most-Favoured-Nation Tariff, General Preferential Tariff, General Preferential Tariff Plus, Least Developed Country Tariff, Commonwealth Caribbean Countries Tariff, Australia Tariff and New Zealand Tariff) Regulations\n"
     ]
    },
    {
     "name": "stderr",
     "output_type": "stream",
     "text": [
      "Processing Files:  23%|██▎       | 389/1721 [13:42<49:10,  2.22s/it]"
     ]
    },
    {
     "name": "stdout",
     "output_type": "stream",
     "text": [
      "Embedding created\n",
      "Canadian Broiler Hatching Egg (Interprovincial) Pricing Regulations\n"
     ]
    },
    {
     "name": "stderr",
     "output_type": "stream",
     "text": [
      "Processing Files:  23%|██▎       | 390/1721 [13:44<48:27,  2.18s/it]"
     ]
    },
    {
     "name": "stdout",
     "output_type": "stream",
     "text": [
      "Embedding created\n",
      "Certain Fees in Respect of the Replacement of Identity and Travel Documents (Reclaimed Names) Remission Order\n"
     ]
    },
    {
     "name": "stderr",
     "output_type": "stream",
     "text": [
      "Processing Files:  23%|██▎       | 391/1721 [13:46<47:28,  2.14s/it]"
     ]
    },
    {
     "name": "stdout",
     "output_type": "stream",
     "text": [
      "Embedding created\n",
      "Customs Diplomatic Privileges Regulations\n"
     ]
    },
    {
     "name": "stderr",
     "output_type": "stream",
     "text": [
      "Processing Files:  23%|██▎       | 392/1721 [13:48<46:58,  2.12s/it]"
     ]
    },
    {
     "name": "stdout",
     "output_type": "stream",
     "text": [
      "Embedding created\n",
      "Government Employees Land Acquisition Order, 1995, No. 1\n"
     ]
    },
    {
     "name": "stderr",
     "output_type": "stream",
     "text": [
      "Processing Files:  23%|██▎       | 393/1721 [13:50<45:31,  2.06s/it]"
     ]
    },
    {
     "name": "stdout",
     "output_type": "stream",
     "text": [
      "Embedding created\n",
      "Canada Not-for-profit Corporations Regulations\n"
     ]
    },
    {
     "name": "stderr",
     "output_type": "stream",
     "text": [
      "Processing Files:  23%|██▎       | 394/1721 [13:52<45:35,  2.06s/it]"
     ]
    },
    {
     "name": "stdout",
     "output_type": "stream",
     "text": [
      "Embedding created\n",
      "Firearms Information Regulations (Non-restricted Firearms)\n"
     ]
    },
    {
     "name": "stderr",
     "output_type": "stream",
     "text": [
      "Processing Files:  23%|██▎       | 395/1721 [13:54<45:50,  2.07s/it]"
     ]
    },
    {
     "name": "stdout",
     "output_type": "stream",
     "text": [
      "Embedding created\n",
      "Cheese Stabilization 1980-81 Regulations\n"
     ]
    },
    {
     "name": "stderr",
     "output_type": "stream",
     "text": [
      "Processing Files:  23%|██▎       | 396/1721 [13:56<46:48,  2.12s/it]"
     ]
    },
    {
     "name": "stdout",
     "output_type": "stream",
     "text": [
      "Embedding created\n",
      "CIFTA Rules of Origin Regulations\n"
     ]
    },
    {
     "name": "stderr",
     "output_type": "stream",
     "text": [
      "Processing Files:  23%|██▎       | 397/1721 [13:58<45:25,  2.06s/it]"
     ]
    },
    {
     "name": "stdout",
     "output_type": "stream",
     "text": [
      "Embedding created\n",
      "Calculation of Interest Regulations\n"
     ]
    },
    {
     "name": "stderr",
     "output_type": "stream",
     "text": [
      "Processing Files:  23%|██▎       | 398/1721 [14:01<48:56,  2.22s/it]"
     ]
    },
    {
     "name": "stdout",
     "output_type": "stream",
     "text": [
      "Embedding created\n",
      "Civil Remedies (Trust and Loan Companies) Regulations\n"
     ]
    },
    {
     "name": "stderr",
     "output_type": "stream",
     "text": [
      "Processing Files:  23%|██▎       | 399/1721 [14:03<46:44,  2.12s/it]"
     ]
    },
    {
     "name": "stdout",
     "output_type": "stream",
     "text": [
      "Embedding created\n",
      "Adjustment Assistance Regulations (Textile and Clothing Workers)\n"
     ]
    },
    {
     "name": "stderr",
     "output_type": "stream",
     "text": [
      "Processing Files:  23%|██▎       | 400/1721 [14:05<46:24,  2.11s/it]"
     ]
    },
    {
     "name": "stdout",
     "output_type": "stream",
     "text": [
      "Embedding created\n",
      "Fair Wages and Hours of Labour Regulations\n"
     ]
    },
    {
     "name": "stderr",
     "output_type": "stream",
     "text": [
      "Processing Files:  23%|██▎       | 401/1721 [14:09<58:12,  2.65s/it]"
     ]
    },
    {
     "name": "stdout",
     "output_type": "stream",
     "text": [
      "Embedding created\n",
      "Export Allocations Regulations\n"
     ]
    },
    {
     "name": "stderr",
     "output_type": "stream",
     "text": [
      "Processing Files:  23%|██▎       | 402/1721 [14:11<54:10,  2.46s/it]"
     ]
    },
    {
     "name": "stdout",
     "output_type": "stream",
     "text": [
      "Embedding created\n",
      "Groupe CSL Inc. Acquisition Exemption Order\n"
     ]
    },
    {
     "name": "stderr",
     "output_type": "stream",
     "text": [
      "Processing Files:  23%|██▎       | 403/1721 [14:13<52:03,  2.37s/it]"
     ]
    },
    {
     "name": "stdout",
     "output_type": "stream",
     "text": [
      "Embedding created\n",
      "Assistance Fund (W.V.A. and C.W.A.) Regulations\n"
     ]
    },
    {
     "name": "stderr",
     "output_type": "stream",
     "text": [
      "Processing Files:  23%|██▎       | 404/1721 [14:15<49:40,  2.26s/it]"
     ]
    },
    {
     "name": "stdout",
     "output_type": "stream",
     "text": [
      "Embedding created\n",
      "Aboriginal Communal Fishing Licences Regulations\n"
     ]
    },
    {
     "name": "stderr",
     "output_type": "stream",
     "text": [
      "Processing Files:  24%|██▎       | 405/1721 [14:17<49:26,  2.25s/it]"
     ]
    },
    {
     "name": "stdout",
     "output_type": "stream",
     "text": [
      "Embedding created\n",
      "Allocation Method Order (2009) – Softwood Lumber Products\n"
     ]
    },
    {
     "name": "stderr",
     "output_type": "stream",
     "text": [
      "Processing Files:  24%|██▎       | 406/1721 [14:20<51:56,  2.37s/it]"
     ]
    },
    {
     "name": "stdout",
     "output_type": "stream",
     "text": [
      "Embedding created\n",
      "Division of Judges’ Annuity Benefits Regulations\n"
     ]
    },
    {
     "name": "stderr",
     "output_type": "stream",
     "text": [
      "Processing Files:  24%|██▎       | 407/1721 [14:22<49:34,  2.26s/it]"
     ]
    },
    {
     "name": "stdout",
     "output_type": "stream",
     "text": [
      "Embedding created\n",
      "Customs Duties Accelerated Reduction Order, No. 5\n"
     ]
    },
    {
     "name": "stderr",
     "output_type": "stream",
     "text": [
      "Processing Files:  24%|██▎       | 408/1721 [14:24<47:40,  2.18s/it]"
     ]
    },
    {
     "name": "stdout",
     "output_type": "stream",
     "text": [
      "Embedding created\n",
      "G8 Summit Privileges and Immunities Order, No. 2010-2\n"
     ]
    },
    {
     "name": "stderr",
     "output_type": "stream",
     "text": [
      "Processing Files:  24%|██▍       | 409/1721 [14:27<50:51,  2.33s/it]"
     ]
    },
    {
     "name": "stdout",
     "output_type": "stream",
     "text": [
      "Embedding created\n",
      "Appointment or Deployment of Alternates Regulations\n"
     ]
    },
    {
     "name": "stderr",
     "output_type": "stream",
     "text": [
      "Processing Files:  24%|██▍       | 410/1721 [14:29<51:08,  2.34s/it]"
     ]
    },
    {
     "name": "stdout",
     "output_type": "stream",
     "text": [
      "Embedding created\n",
      "Exit Information Regulations\n"
     ]
    },
    {
     "name": "stderr",
     "output_type": "stream",
     "text": [
      "Processing Files:  24%|██▍       | 411/1721 [14:31<49:00,  2.24s/it]"
     ]
    },
    {
     "name": "stdout",
     "output_type": "stream",
     "text": [
      "Embedding created\n",
      "Order Respecting the Remission of Anti-Dumping and Countervailing Duties on Certain Specialty Sugar Products\n"
     ]
    },
    {
     "name": "stderr",
     "output_type": "stream",
     "text": [
      "Processing Files:  24%|██▍       | 412/1721 [14:33<49:57,  2.29s/it]"
     ]
    },
    {
     "name": "stdout",
     "output_type": "stream",
     "text": [
      "Embedding created\n",
      "Fort Nelson Airport Zoning Regulations\n"
     ]
    },
    {
     "name": "stderr",
     "output_type": "stream",
     "text": [
      "Processing Files:  24%|██▍       | 413/1721 [14:36<48:54,  2.24s/it]"
     ]
    },
    {
     "name": "stdout",
     "output_type": "stream",
     "text": [
      "Embedding created\n",
      "Canada–Nova Scotia Offshore Area Petroleum Operations Framework Regulations\n"
     ]
    },
    {
     "name": "stderr",
     "output_type": "stream",
     "text": [
      "Processing Files:  24%|██▍       | 414/1721 [14:38<50:23,  2.31s/it]"
     ]
    },
    {
     "name": "stdout",
     "output_type": "stream",
     "text": [
      "Embedding created\n",
      "Approved Drug Screening Equipment Order\n"
     ]
    },
    {
     "name": "stderr",
     "output_type": "stream",
     "text": [
      "Processing Files:  24%|██▍       | 415/1721 [14:40<47:55,  2.20s/it]"
     ]
    },
    {
     "name": "stdout",
     "output_type": "stream",
     "text": [
      "Embedding created\n",
      "General Export Permit No. Ex. 18 — Portable Personal Computers and Associated Software\n"
     ]
    },
    {
     "name": "stderr",
     "output_type": "stream",
     "text": [
      "Processing Files:  24%|██▍       | 416/1721 [14:42<46:42,  2.15s/it]"
     ]
    },
    {
     "name": "stdout",
     "output_type": "stream",
     "text": [
      "Embedding created\n",
      "Compensation Regulations\n"
     ]
    },
    {
     "name": "stderr",
     "output_type": "stream",
     "text": [
      "Processing Files:  24%|██▍       | 417/1721 [14:44<46:35,  2.14s/it]"
     ]
    },
    {
     "name": "stdout",
     "output_type": "stream",
     "text": [
      "Embedding created\n",
      "Critical Habitat of the Gattinger’s Agalinis (Agalinis gattingeri) Order\n"
     ]
    },
    {
     "name": "stderr",
     "output_type": "stream",
     "text": [
      "Processing Files:  24%|██▍       | 418/1721 [14:47<48:31,  2.23s/it]"
     ]
    },
    {
     "name": "stdout",
     "output_type": "stream",
     "text": [
      "Embedding created\n",
      "Exemptions from and Modifications to Hours of Work Provisions Regulations\n"
     ]
    },
    {
     "name": "stderr",
     "output_type": "stream",
     "text": [
      "Processing Files:  24%|██▍       | 419/1721 [14:49<50:19,  2.32s/it]"
     ]
    },
    {
     "name": "stdout",
     "output_type": "stream",
     "text": [
      "Embedding created\n",
      "Dakota Tipi Band Council Elections Order\n"
     ]
    },
    {
     "name": "stderr",
     "output_type": "stream",
     "text": [
      "Processing Files:  24%|██▍       | 420/1721 [14:51<47:33,  2.19s/it]"
     ]
    },
    {
     "name": "stdout",
     "output_type": "stream",
     "text": [
      "Embedding created\n",
      "Critical Habitat of the Northern Wolffish (Anarhichas denticulatus) Order\n"
     ]
    },
    {
     "name": "stderr",
     "output_type": "stream",
     "text": [
      "Processing Files:  24%|██▍       | 421/1721 [14:53<45:33,  2.10s/it]"
     ]
    },
    {
     "name": "stdout",
     "output_type": "stream",
     "text": [
      "Embedding created\n",
      "Associate Judges (Tax Court of Canada) Regulations\n"
     ]
    },
    {
     "name": "stderr",
     "output_type": "stream",
     "text": [
      "Processing Files:  25%|██▍       | 422/1721 [14:55<44:56,  2.08s/it]"
     ]
    },
    {
     "name": "stdout",
     "output_type": "stream",
     "text": [
      "Embedding created\n",
      "Conversion from Analog to Digital Television Regulations\n"
     ]
    },
    {
     "name": "stderr",
     "output_type": "stream",
     "text": [
      "Processing Files:  25%|██▍       | 423/1721 [14:57<43:43,  2.02s/it]"
     ]
    },
    {
     "name": "stdout",
     "output_type": "stream",
     "text": [
      "Embedding created\n",
      "CCOFTA Tariff Preference Regulations\n"
     ]
    },
    {
     "name": "stderr",
     "output_type": "stream",
     "text": [
      "Processing Files:  25%|██▍       | 424/1721 [14:59<43:09,  2.00s/it]"
     ]
    },
    {
     "name": "stdout",
     "output_type": "stream",
     "text": [
      "Embedding created\n",
      "Order Designating Certain Countries and Military Service Agencies for the Purposes of Tariff Item No. 9810.00.00\n"
     ]
    },
    {
     "name": "stderr",
     "output_type": "stream",
     "text": [
      "Processing Files:  25%|██▍       | 425/1721 [15:01<45:35,  2.11s/it]"
     ]
    },
    {
     "name": "stdout",
     "output_type": "stream",
     "text": [
      "Embedding created\n",
      "Order Specifying that the Canadian Forces are a Portion of the Public Sector Employing One Hundred or more Employees for the Purpose of Subsection 4(1) of that Act\n"
     ]
    },
    {
     "name": "stderr",
     "output_type": "stream",
     "text": [
      "Processing Files:  25%|██▍       | 426/1721 [15:03<45:09,  2.09s/it]"
     ]
    },
    {
     "name": "stdout",
     "output_type": "stream",
     "text": [
      "Embedding created\n",
      "Canadian Nuclear Safety Commission Cost Recovery Fees Regulations\n"
     ]
    },
    {
     "name": "stderr",
     "output_type": "stream",
     "text": [
      "Processing Files:  25%|██▍       | 427/1721 [15:05<44:44,  2.07s/it]"
     ]
    },
    {
     "name": "stdout",
     "output_type": "stream",
     "text": [
      "Embedding created\n",
      "Regulations Specifying Activities that Do Not Constitute Brokering\n"
     ]
    },
    {
     "name": "stderr",
     "output_type": "stream",
     "text": [
      "Processing Files:  25%|██▍       | 428/1721 [15:08<48:56,  2.27s/it]"
     ]
    },
    {
     "name": "stdout",
     "output_type": "stream",
     "text": [
      "Embedding created\n",
      "Allocation Method Order (2010) — Softwood Lumber Products\n"
     ]
    },
    {
     "name": "stderr",
     "output_type": "stream",
     "text": [
      "Processing Files:  25%|██▍       | 429/1721 [15:10<47:49,  2.22s/it]"
     ]
    },
    {
     "name": "stdout",
     "output_type": "stream",
     "text": [
      "Embedding created\n",
      "Canada Deposit Insurance Corporation Data and System Requirements By-law\n"
     ]
    },
    {
     "name": "stderr",
     "output_type": "stream",
     "text": [
      "Processing Files:  25%|██▍       | 430/1721 [15:12<45:41,  2.12s/it]"
     ]
    },
    {
     "name": "stdout",
     "output_type": "stream",
     "text": [
      "Embedding created\n",
      "Exempt Personal Information Bank Order, No. 14 (CSIS)\n"
     ]
    },
    {
     "name": "stderr",
     "output_type": "stream",
     "text": [
      "Processing Files:  25%|██▌       | 431/1721 [15:14<45:05,  2.10s/it]"
     ]
    },
    {
     "name": "stdout",
     "output_type": "stream",
     "text": [
      "Embedding created\n",
      "CPAFTA Verification of Origin Regulations\n"
     ]
    },
    {
     "name": "stderr",
     "output_type": "stream",
     "text": [
      "Processing Files:  25%|██▌       | 432/1721 [15:16<45:00,  2.10s/it]"
     ]
    },
    {
     "name": "stdout",
     "output_type": "stream",
     "text": [
      "Embedding created\n",
      "Aboriginal Peoples of Canada Adaptations Regulations (Firearms)\n"
     ]
    },
    {
     "name": "stderr",
     "output_type": "stream",
     "text": [
      "Processing Files:  25%|██▌       | 433/1721 [15:18<43:14,  2.01s/it]"
     ]
    },
    {
     "name": "stdout",
     "output_type": "stream",
     "text": [
      "Embedding created\n",
      "Canadian Film Certification Regulations\n"
     ]
    },
    {
     "name": "stderr",
     "output_type": "stream",
     "text": [
      "Processing Files:  25%|██▌       | 434/1721 [15:20<42:39,  1.99s/it]"
     ]
    },
    {
     "name": "stdout",
     "output_type": "stream",
     "text": [
      "Embedding created\n",
      "Atlantic Pilotage Authority Non-compulsory Area Regulations\n"
     ]
    },
    {
     "name": "stderr",
     "output_type": "stream",
     "text": [
      "Processing Files:  25%|██▌       | 435/1721 [15:22<43:16,  2.02s/it]"
     ]
    },
    {
     "name": "stdout",
     "output_type": "stream",
     "text": [
      "Embedding created\n",
      "General Preferential Tariff, General Preferential Tariff Plus and Least Developed Country Tariff Rules of Origin Regulations\n"
     ]
    },
    {
     "name": "stderr",
     "output_type": "stream",
     "text": [
      "Processing Files:  25%|██▌       | 436/1721 [15:24<43:51,  2.05s/it]"
     ]
    },
    {
     "name": "stdout",
     "output_type": "stream",
     "text": [
      "Embedding created\n",
      "General Import Permit No. 8 — Eggs for Personal Use\n"
     ]
    },
    {
     "name": "stderr",
     "output_type": "stream",
     "text": [
      "Processing Files:  25%|██▌       | 437/1721 [15:26<42:17,  1.98s/it]"
     ]
    },
    {
     "name": "stdout",
     "output_type": "stream",
     "text": [
      "Embedding created\n",
      "Gully Marine Protected Area Regulations\n"
     ]
    },
    {
     "name": "stderr",
     "output_type": "stream",
     "text": [
      "Processing Files:  25%|██▌       | 438/1721 [15:28<42:21,  1.98s/it]"
     ]
    },
    {
     "name": "stdout",
     "output_type": "stream",
     "text": [
      "Embedding created\n",
      "Central Registry of Divorce Proceedings Fee Order\n"
     ]
    },
    {
     "name": "stderr",
     "output_type": "stream",
     "text": [
      "Processing Files:  26%|██▌       | 439/1721 [15:30<42:33,  1.99s/it]"
     ]
    },
    {
     "name": "stdout",
     "output_type": "stream",
     "text": [
      "Embedding created\n",
      "Foreign Claims (Hungary) Settlement Regulations\n"
     ]
    },
    {
     "name": "stderr",
     "output_type": "stream",
     "text": [
      "Processing Files:  26%|██▌       | 440/1721 [15:32<43:46,  2.05s/it]"
     ]
    },
    {
     "name": "stdout",
     "output_type": "stream",
     "text": [
      "Embedding created\n",
      "Remission Order Concerning Certain Expenses Incurred as a Result of the Tsunami Disaster of December 26, 2004 in South and Southeast Asia\n"
     ]
    },
    {
     "name": "stderr",
     "output_type": "stream",
     "text": [
      "Processing Files:  26%|██▌       | 441/1721 [15:34<43:24,  2.03s/it]"
     ]
    },
    {
     "name": "stdout",
     "output_type": "stream",
     "text": [
      "Embedding created\n",
      "Hay River Airport Zoning Regulations\n"
     ]
    },
    {
     "name": "stderr",
     "output_type": "stream",
     "text": [
      "Processing Files:  26%|██▌       | 442/1721 [15:36<42:37,  2.00s/it]"
     ]
    },
    {
     "name": "stdout",
     "output_type": "stream",
     "text": [
      "Embedding created\n",
      "Arviat Airport Zoning Regulations\n"
     ]
    },
    {
     "name": "stderr",
     "output_type": "stream",
     "text": [
      "Processing Files:  26%|██▌       | 443/1721 [15:38<42:12,  1.98s/it]"
     ]
    },
    {
     "name": "stdout",
     "output_type": "stream",
     "text": [
      "Embedding created\n",
      "Administrative Monetary Penalties (Consumer Products) Regulations\n"
     ]
    },
    {
     "name": "stderr",
     "output_type": "stream",
     "text": [
      "Processing Files:  26%|██▌       | 444/1721 [15:40<43:45,  2.06s/it]"
     ]
    },
    {
     "name": "stdout",
     "output_type": "stream",
     "text": [
      "Embedding created\n",
      "Administrative and Technical Staff of the Embassy of the United States and Families Duty and Tax Relief Privileges Order\n"
     ]
    },
    {
     "name": "stderr",
     "output_type": "stream",
     "text": [
      "Processing Files:  26%|██▌       | 445/1721 [15:42<44:40,  2.10s/it]"
     ]
    },
    {
     "name": "stdout",
     "output_type": "stream",
     "text": [
      "Embedding created\n",
      "Flying Accidents Compensation Regulations\n"
     ]
    },
    {
     "name": "stderr",
     "output_type": "stream",
     "text": [
      "Processing Files:  26%|██▌       | 446/1721 [15:44<43:06,  2.03s/it]"
     ]
    },
    {
     "name": "stdout",
     "output_type": "stream",
     "text": [
      "Embedding created\n",
      "Critical Habitat of the Roseate Tern (Sterna dougallii) Order\n"
     ]
    },
    {
     "name": "stderr",
     "output_type": "stream",
     "text": [
      "Processing Files:  26%|██▌       | 447/1721 [15:46<42:54,  2.02s/it]"
     ]
    },
    {
     "name": "stdout",
     "output_type": "stream",
     "text": [
      "Embedding created\n",
      "Calculation of Contribution Rates Regulations, 2007\n"
     ]
    },
    {
     "name": "stderr",
     "output_type": "stream",
     "text": [
      "Processing Files:  26%|██▌       | 448/1721 [15:48<42:29,  2.00s/it]"
     ]
    },
    {
     "name": "stdout",
     "output_type": "stream",
     "text": [
      "Embedding created\n",
      "Canadian Greenhouse Gas Offset Credit System Regulations\n"
     ]
    },
    {
     "name": "stderr",
     "output_type": "stream",
     "text": [
      "Processing Files:  26%|██▌       | 449/1721 [15:50<41:42,  1.97s/it]"
     ]
    },
    {
     "name": "stdout",
     "output_type": "stream",
     "text": [
      "Embedding created\n",
      "First Nations Elections Regulations\n"
     ]
    },
    {
     "name": "stderr",
     "output_type": "stream",
     "text": [
      "Processing Files:  26%|██▌       | 450/1721 [15:52<40:56,  1.93s/it]"
     ]
    },
    {
     "name": "stdout",
     "output_type": "stream",
     "text": [
      "Embedding created\n",
      "Defence Clothing and Equipment Loan Order\n"
     ]
    },
    {
     "name": "stderr",
     "output_type": "stream",
     "text": [
      "Processing Files:  26%|██▌       | 451/1721 [15:54<41:11,  1.95s/it]"
     ]
    },
    {
     "name": "stdout",
     "output_type": "stream",
     "text": [
      "Embedding created\n",
      "CPAFTA Tariff Preference Regulations\n"
     ]
    },
    {
     "name": "stderr",
     "output_type": "stream",
     "text": [
      "Processing Files:  26%|██▋       | 452/1721 [15:56<44:02,  2.08s/it]"
     ]
    },
    {
     "name": "stdout",
     "output_type": "stream",
     "text": [
      "Embedding created\n",
      "General Import Permit No. 14 — Margarine for Personal Use\n"
     ]
    },
    {
     "name": "stderr",
     "output_type": "stream",
     "text": [
      "Processing Files:  26%|██▋       | 453/1721 [15:58<43:16,  2.05s/it]"
     ]
    },
    {
     "name": "stdout",
     "output_type": "stream",
     "text": [
      "Embedding created\n",
      "Certificate of Supplementary Protection Regulations\n"
     ]
    },
    {
     "name": "stderr",
     "output_type": "stream",
     "text": [
      "Processing Files:  26%|██▋       | 454/1721 [16:00<42:20,  2.01s/it]"
     ]
    },
    {
     "name": "stdout",
     "output_type": "stream",
     "text": [
      "Embedding created\n",
      "Export Development Canada Exercise of Certain Powers Regulations\n"
     ]
    },
    {
     "name": "stderr",
     "output_type": "stream",
     "text": [
      "Processing Files:  26%|██▋       | 455/1721 [16:02<42:10,  2.00s/it]"
     ]
    },
    {
     "name": "stdout",
     "output_type": "stream",
     "text": [
      "Embedding created\n",
      "Order Declaring an Amnesty Period (2015)\n"
     ]
    },
    {
     "name": "stderr",
     "output_type": "stream",
     "text": [
      "Processing Files:  26%|██▋       | 456/1721 [16:04<42:28,  2.01s/it]"
     ]
    },
    {
     "name": "stdout",
     "output_type": "stream",
     "text": [
      "Embedding created\n",
      "British Columbia Mushroom Marketing (Interprovincial and Export) Regulations\n"
     ]
    },
    {
     "name": "stderr",
     "output_type": "stream",
     "text": [
      "Processing Files:  27%|██▋       | 457/1721 [16:06<44:33,  2.11s/it]"
     ]
    },
    {
     "name": "stdout",
     "output_type": "stream",
     "text": [
      "Embedding created\n",
      "Regulations on the Employment with Statistics Canada for the Purpose of the 2006 Census\n"
     ]
    },
    {
     "name": "stderr",
     "output_type": "stream",
     "text": [
      "Processing Files:  27%|██▋       | 458/1721 [16:09<44:18,  2.10s/it]"
     ]
    },
    {
     "name": "stdout",
     "output_type": "stream",
     "text": [
      "Embedding created\n",
      "Animals of the Sub-family Bovinae and Their Products Importation Prohibition Regulations\n"
     ]
    },
    {
     "name": "stderr",
     "output_type": "stream",
     "text": [
      "Processing Files:  27%|██▋       | 459/1721 [16:11<43:26,  2.07s/it]"
     ]
    },
    {
     "name": "stdout",
     "output_type": "stream",
     "text": [
      "Embedding created\n",
      "Arctic Star Order\n"
     ]
    },
    {
     "name": "stderr",
     "output_type": "stream",
     "text": [
      "Processing Files:  27%|██▋       | 460/1721 [16:12<42:33,  2.03s/it]"
     ]
    },
    {
     "name": "stdout",
     "output_type": "stream",
     "text": [
      "Embedding created\n",
      "Canada Cooperatives Regulations\n"
     ]
    },
    {
     "name": "stderr",
     "output_type": "stream",
     "text": [
      "Processing Files:  27%|██▋       | 461/1721 [16:15<44:38,  2.13s/it]"
     ]
    },
    {
     "name": "stdout",
     "output_type": "stream",
     "text": [
      "Embedding created\n",
      "Electronic Commerce Protection Regulations (CRTC)\n"
     ]
    },
    {
     "name": "stderr",
     "output_type": "stream",
     "text": [
      "Processing Files:  27%|██▋       | 462/1721 [16:17<43:58,  2.10s/it]"
     ]
    },
    {
     "name": "stdout",
     "output_type": "stream",
     "text": [
      "Embedding created\n",
      "British Columbia Vegetable Order\n"
     ]
    },
    {
     "name": "stderr",
     "output_type": "stream",
     "text": [
      "Processing Files:  27%|██▋       | 463/1721 [16:19<45:41,  2.18s/it]"
     ]
    },
    {
     "name": "stdout",
     "output_type": "stream",
     "text": [
      "Embedding created\n",
      "Corporate Interrelationships (Cooperative Credit Associations) Regulations\n"
     ]
    },
    {
     "name": "stderr",
     "output_type": "stream",
     "text": [
      "Processing Files:  27%|██▋       | 464/1721 [16:21<43:33,  2.08s/it]"
     ]
    },
    {
     "name": "stdout",
     "output_type": "stream",
     "text": [
      "Embedding created\n",
      "Gross Revenue Insurance Program Account for the Province of Alberta Remission Order\n"
     ]
    },
    {
     "name": "stderr",
     "output_type": "stream",
     "text": [
      "Processing Files:  27%|██▋       | 465/1721 [16:26<59:07,  2.82s/it]"
     ]
    },
    {
     "name": "stdout",
     "output_type": "stream",
     "text": [
      "Embedding created\n",
      "Expropriation Fees Regulations\n"
     ]
    },
    {
     "name": "stderr",
     "output_type": "stream",
     "text": [
      "Processing Files:  27%|██▋       | 466/1721 [16:28<55:45,  2.67s/it]"
     ]
    },
    {
     "name": "stdout",
     "output_type": "stream",
     "text": [
      "Embedding created\n",
      "Electrolux Remission Order\n"
     ]
    },
    {
     "name": "stderr",
     "output_type": "stream",
     "text": [
      "Processing Files:  27%|██▋       | 467/1721 [16:30<52:34,  2.52s/it]"
     ]
    },
    {
     "name": "stdout",
     "output_type": "stream",
     "text": [
      "Embedding created\n",
      "Foreign Claims (Poland) Settlement Regulations\n"
     ]
    },
    {
     "name": "stderr",
     "output_type": "stream",
     "text": [
      "Processing Files:  27%|██▋       | 468/1721 [16:32<48:45,  2.33s/it]"
     ]
    },
    {
     "name": "stdout",
     "output_type": "stream",
     "text": [
      "Embedding created\n",
      "Defence Services Pension Continuation Regulations\n"
     ]
    },
    {
     "name": "stderr",
     "output_type": "stream",
     "text": [
      "Processing Files:  27%|██▋       | 469/1721 [16:34<47:10,  2.26s/it]"
     ]
    },
    {
     "name": "stdout",
     "output_type": "stream",
     "text": [
      "Embedding created\n",
      "Firearms Marking Regulations\n"
     ]
    },
    {
     "name": "stderr",
     "output_type": "stream",
     "text": [
      "Processing Files:  27%|██▋       | 470/1721 [16:36<44:58,  2.16s/it]"
     ]
    },
    {
     "name": "stdout",
     "output_type": "stream",
     "text": [
      "Embedding created\n",
      "Disclosure of Charges (Authorized Foreign Banks) Regulations\n"
     ]
    },
    {
     "name": "stderr",
     "output_type": "stream",
     "text": [
      "Processing Files:  27%|██▋       | 471/1721 [16:38<45:05,  2.16s/it]"
     ]
    },
    {
     "name": "stdout",
     "output_type": "stream",
     "text": [
      "Embedding created\n",
      "Competency of Operators of Pleasure Craft Regulations\n"
     ]
    },
    {
     "name": "stderr",
     "output_type": "stream",
     "text": [
      "Processing Files:  27%|██▋       | 472/1721 [16:41<46:12,  2.22s/it]"
     ]
    },
    {
     "name": "stdout",
     "output_type": "stream",
     "text": [
      "Embedding created\n",
      "Critical Habitat of the Nooksack Dace (Rhinichthys cataractae ssp.) Order\n"
     ]
    },
    {
     "name": "stderr",
     "output_type": "stream",
     "text": [
      "Processing Files:  27%|██▋       | 473/1721 [16:43<45:58,  2.21s/it]"
     ]
    },
    {
     "name": "stdout",
     "output_type": "stream",
     "text": [
      "Embedding created\n",
      "British Columbia Tree Fruit Order\n"
     ]
    },
    {
     "name": "stderr",
     "output_type": "stream",
     "text": [
      "Processing Files:  28%|██▊       | 474/1721 [16:45<45:19,  2.18s/it]"
     ]
    },
    {
     "name": "stdout",
     "output_type": "stream",
     "text": [
      "Embedding created\n",
      "Critical Habitat of the Northern Madtom (Noturus stigmosus) Order\n"
     ]
    },
    {
     "name": "stderr",
     "output_type": "stream",
     "text": [
      "Processing Files:  28%|██▊       | 475/1721 [16:47<45:47,  2.20s/it]"
     ]
    },
    {
     "name": "stdout",
     "output_type": "stream",
     "text": [
      "Embedding created\n",
      "CHFTA Rules of Origin for Casual Goods Regulations\n"
     ]
    },
    {
     "name": "stderr",
     "output_type": "stream",
     "text": [
      "Processing Files:  28%|██▊       | 476/1721 [16:49<46:02,  2.22s/it]"
     ]
    },
    {
     "name": "stdout",
     "output_type": "stream",
     "text": [
      "Embedding created\n",
      "Factoring Entity Regulations\n"
     ]
    },
    {
     "name": "stderr",
     "output_type": "stream",
     "text": [
      "Processing Files:  28%|██▊       | 477/1721 [16:51<44:06,  2.13s/it]"
     ]
    },
    {
     "name": "stdout",
     "output_type": "stream",
     "text": [
      "Embedding created\n",
      "Billiard Cloth Remission Order, 1996\n"
     ]
    },
    {
     "name": "stderr",
     "output_type": "stream",
     "text": [
      "Processing Files:  28%|██▊       | 478/1721 [16:53<43:20,  2.09s/it]"
     ]
    },
    {
     "name": "stdout",
     "output_type": "stream",
     "text": [
      "Embedding created\n",
      "Canadian Artists And Producers Professional Relations Tribunal Procedural Regulations\n"
     ]
    },
    {
     "name": "stderr",
     "output_type": "stream",
     "text": [
      "Processing Files:  28%|██▊       | 479/1721 [16:55<42:56,  2.07s/it]"
     ]
    },
    {
     "name": "stdout",
     "output_type": "stream",
     "text": [
      "Embedding created\n",
      "African Development Bank Privileges and Immunities Order\n"
     ]
    },
    {
     "name": "stderr",
     "output_type": "stream",
     "text": [
      "Processing Files:  28%|██▊       | 480/1721 [16:57<42:30,  2.05s/it]"
     ]
    },
    {
     "name": "stdout",
     "output_type": "stream",
     "text": [
      "Embedding created\n",
      "Critical Habitat of the Rainbow Smelt (Osmerus mordax) Lake Utopia Small-Bodied Population Order\n"
     ]
    },
    {
     "name": "stderr",
     "output_type": "stream",
     "text": [
      "Processing Files:  28%|██▊       | 481/1721 [16:59<41:50,  2.02s/it]"
     ]
    },
    {
     "name": "stdout",
     "output_type": "stream",
     "text": [
      "Embedding created\n",
      "Ballast Water Control and Management Regulations\n"
     ]
    },
    {
     "name": "stderr",
     "output_type": "stream",
     "text": [
      "Processing Files:  28%|██▊       | 482/1721 [17:01<42:03,  2.04s/it]"
     ]
    },
    {
     "name": "stdout",
     "output_type": "stream",
     "text": [
      "Embedding created\n",
      "Diplomatic (Excise Taxes) Remission Order\n"
     ]
    },
    {
     "name": "stderr",
     "output_type": "stream",
     "text": [
      "Processing Files:  28%|██▊       | 483/1721 [17:03<41:57,  2.03s/it]"
     ]
    },
    {
     "name": "stdout",
     "output_type": "stream",
     "text": [
      "Embedding created\n",
      "Fishing Zones of Canada (Zones 1, 2 and 3) Order\n"
     ]
    },
    {
     "name": "stderr",
     "output_type": "stream",
     "text": [
      "Processing Files:  28%|██▊       | 484/1721 [17:05<41:36,  2.02s/it]"
     ]
    },
    {
     "name": "stdout",
     "output_type": "stream",
     "text": [
      "Embedding created\n",
      "Designating the City of Ottawa as the Place for the Head Office of the Cree-Naskapi Commission\n"
     ]
    },
    {
     "name": "stderr",
     "output_type": "stream",
     "text": [
      "Processing Files:  28%|██▊       | 485/1721 [17:08<42:43,  2.07s/it]"
     ]
    },
    {
     "name": "stdout",
     "output_type": "stream",
     "text": [
      "Embedding created\n",
      "Appointment or Deployment of Alternates Exclusion Approval Order\n"
     ]
    },
    {
     "name": "stderr",
     "output_type": "stream",
     "text": [
      "Processing Files:  28%|██▊       | 486/1721 [17:10<42:36,  2.07s/it]"
     ]
    },
    {
     "name": "stdout",
     "output_type": "stream",
     "text": [
      "Embedding created\n",
      "Canadian Aviation Security Regulations\n"
     ]
    },
    {
     "name": "stderr",
     "output_type": "stream",
     "text": [
      "Processing Files:  28%|██▊       | 487/1721 [17:13<48:34,  2.36s/it]"
     ]
    },
    {
     "name": "stdout",
     "output_type": "stream",
     "text": [
      "Embedding created\n",
      "Coast Guard Radio Station Communications Charges Order, 1994\n"
     ]
    },
    {
     "name": "stderr",
     "output_type": "stream",
     "text": [
      "Processing Files:  28%|██▊       | 488/1721 [17:15<47:19,  2.30s/it]"
     ]
    },
    {
     "name": "stdout",
     "output_type": "stream",
     "text": [
      "Embedding created\n",
      "Automotive Goods Rules of Origin Regulations\n"
     ]
    },
    {
     "name": "stderr",
     "output_type": "stream",
     "text": [
      "Processing Files:  28%|██▊       | 489/1721 [17:17<46:32,  2.27s/it]"
     ]
    },
    {
     "name": "stdout",
     "output_type": "stream",
     "text": [
      "Embedding created\n",
      "Gander Airport Zoning Regulations\n"
     ]
    },
    {
     "name": "stderr",
     "output_type": "stream",
     "text": [
      "Processing Files:  28%|██▊       | 490/1721 [17:19<46:30,  2.27s/it]"
     ]
    },
    {
     "name": "stdout",
     "output_type": "stream",
     "text": [
      "Embedding created\n",
      "Beer Originating in the United States Remission Order, 1993\n"
     ]
    },
    {
     "name": "stderr",
     "output_type": "stream",
     "text": [
      "Processing Files:  29%|██▊       | 491/1721 [17:21<45:54,  2.24s/it]"
     ]
    },
    {
     "name": "stdout",
     "output_type": "stream",
     "text": [
      "Embedding created\n",
      "Alberta Milk Order\n"
     ]
    },
    {
     "name": "stderr",
     "output_type": "stream",
     "text": [
      "Processing Files:  29%|██▊       | 492/1721 [17:23<43:59,  2.15s/it]"
     ]
    },
    {
     "name": "stdout",
     "output_type": "stream",
     "text": [
      "Embedding created\n",
      "Anhydrous Ammonia Bulk Storage Regulations\n"
     ]
    },
    {
     "name": "stderr",
     "output_type": "stream",
     "text": [
      "Processing Files:  29%|██▊       | 493/1721 [17:25<42:43,  2.09s/it]"
     ]
    },
    {
     "name": "stdout",
     "output_type": "stream",
     "text": [
      "Embedding created\n",
      "Brokering Permit Regulations\n"
     ]
    },
    {
     "name": "stderr",
     "output_type": "stream",
     "text": [
      "Processing Files:  29%|██▊       | 494/1721 [17:28<44:30,  2.18s/it]"
     ]
    },
    {
     "name": "stdout",
     "output_type": "stream",
     "text": [
      "Embedding created\n",
      "Declaring the United States to be a Reciprocating Country for Purposes of the Act\n"
     ]
    },
    {
     "name": "stderr",
     "output_type": "stream",
     "text": [
      "Processing Files:  29%|██▉       | 495/1721 [17:30<43:07,  2.11s/it]"
     ]
    },
    {
     "name": "stdout",
     "output_type": "stream",
     "text": [
      "Embedding created\n",
      "Atlantic Region Ferry Remission Order\n"
     ]
    },
    {
     "name": "stderr",
     "output_type": "stream",
     "text": [
      "Processing Files:  29%|██▉       | 496/1721 [17:32<45:00,  2.20s/it]"
     ]
    },
    {
     "name": "stdout",
     "output_type": "stream",
     "text": [
      "Embedding created\n",
      "Astoria River Water Power Regulations\n"
     ]
    },
    {
     "name": "stderr",
     "output_type": "stream",
     "text": [
      "Processing Files:  29%|██▉       | 497/1721 [17:34<43:07,  2.11s/it]"
     ]
    },
    {
     "name": "stdout",
     "output_type": "stream",
     "text": [
      "Embedding created\n",
      "Critical Habitat of the Snuffbox (Epioblasma triquetra) Order\n"
     ]
    },
    {
     "name": "stderr",
     "output_type": "stream",
     "text": [
      "Processing Files:  29%|██▉       | 498/1721 [17:36<42:20,  2.08s/it]"
     ]
    },
    {
     "name": "stdout",
     "output_type": "stream",
     "text": [
      "Embedding created\n",
      "Grade Crossings Regulations\n"
     ]
    },
    {
     "name": "stderr",
     "output_type": "stream",
     "text": [
      "Processing Files:  29%|██▉       | 499/1721 [17:38<41:02,  2.02s/it]"
     ]
    },
    {
     "name": "stdout",
     "output_type": "stream",
     "text": [
      "Embedding created\n",
      "Canada–Nova Scotia Offshore Petroleum Cost Recovery Regulations\n"
     ]
    },
    {
     "name": "stderr",
     "output_type": "stream",
     "text": [
      "Processing Files:  29%|██▉       | 500/1721 [17:40<41:07,  2.02s/it]"
     ]
    },
    {
     "name": "stdout",
     "output_type": "stream",
     "text": [
      "Embedding created\n",
      "Canal Regulations\n"
     ]
    },
    {
     "name": "stderr",
     "output_type": "stream",
     "text": [
      "Processing Files:  29%|██▉       | 501/1721 [17:42<41:25,  2.04s/it]"
     ]
    },
    {
     "name": "stdout",
     "output_type": "stream",
     "text": [
      "Embedding created\n",
      "Consumer Chemicals and Containers Regulations, 2001\n"
     ]
    },
    {
     "name": "stderr",
     "output_type": "stream",
     "text": [
      "Processing Files:  29%|██▉       | 502/1721 [17:44<40:57,  2.02s/it]"
     ]
    },
    {
     "name": "stdout",
     "output_type": "stream",
     "text": [
      "Embedding created\n",
      "Canada Deposit Insurance Corporation Prescribed Practices Premium Surcharge By-law\n"
     ]
    },
    {
     "name": "stderr",
     "output_type": "stream",
     "text": [
      "Processing Files:  29%|██▉       | 503/1721 [17:46<40:27,  1.99s/it]"
     ]
    },
    {
     "name": "stdout",
     "output_type": "stream",
     "text": [
      "Embedding created\n",
      "Code of Professional Conduct for College of Immigration and Citizenship Consultants Licensees\n"
     ]
    },
    {
     "name": "stderr",
     "output_type": "stream",
     "text": [
      "Processing Files:  29%|██▉       | 504/1721 [17:48<40:45,  2.01s/it]"
     ]
    },
    {
     "name": "stdout",
     "output_type": "stream",
     "text": [
      "Embedding created\n",
      "First Nations Rates and Expenditure Laws Timing Regulations\n"
     ]
    },
    {
     "name": "stderr",
     "output_type": "stream",
     "text": [
      "Processing Files:  29%|██▉       | 505/1721 [17:50<40:26,  2.00s/it]"
     ]
    },
    {
     "name": "stdout",
     "output_type": "stream",
     "text": [
      "Embedding created\n",
      "Conference of Defence Ministers of the Americas (CDMA) Privileges and Immunities Order, 2008\n"
     ]
    },
    {
     "name": "stderr",
     "output_type": "stream",
     "text": [
      "Processing Files:  29%|██▉       | 506/1721 [17:52<40:34,  2.00s/it]"
     ]
    },
    {
     "name": "stdout",
     "output_type": "stream",
     "text": [
      "Embedding created\n",
      "Rules of Appeal Practices and Procedures of the Court Martial Appeal Court of Canada\n"
     ]
    },
    {
     "name": "stderr",
     "output_type": "stream",
     "text": [
      "Processing Files:  29%|██▉       | 507/1721 [17:54<41:17,  2.04s/it]"
     ]
    },
    {
     "name": "stdout",
     "output_type": "stream",
     "text": [
      "Embedding created\n",
      "British Columbia Pear Stabilization Regulations, 1983-84\n"
     ]
    },
    {
     "name": "stderr",
     "output_type": "stream",
     "text": [
      "Processing Files:  30%|██▉       | 508/1721 [17:56<41:51,  2.07s/it]"
     ]
    },
    {
     "name": "stdout",
     "output_type": "stream",
     "text": [
      "Embedding created\n",
      "Crown Share Adjustment Payments Regulations\n"
     ]
    },
    {
     "name": "stderr",
     "output_type": "stream",
     "text": [
      "Processing Files:  30%|██▉       | 509/1721 [17:58<41:13,  2.04s/it]"
     ]
    },
    {
     "name": "stdout",
     "output_type": "stream",
     "text": [
      "Embedding created\n",
      "CPAFTA Rules of Origin for Casual Goods Regulations\n"
     ]
    },
    {
     "name": "stderr",
     "output_type": "stream",
     "text": [
      "Processing Files:  30%|██▉       | 510/1721 [18:01<43:58,  2.18s/it]"
     ]
    },
    {
     "name": "stdout",
     "output_type": "stream",
     "text": [
      "Embedding created\n",
      "Certain Commercial Salmon Fishing Licences Fees Remission Order\n"
     ]
    },
    {
     "name": "stderr",
     "output_type": "stream",
     "text": [
      "Processing Files:  30%|██▉       | 511/1721 [18:03<42:17,  2.10s/it]"
     ]
    },
    {
     "name": "stdout",
     "output_type": "stream",
     "text": [
      "Embedding created\n",
      "Critical Habitat of the Black Redhorse (Moxostoma duquesnei) Order\n"
     ]
    },
    {
     "name": "stderr",
     "output_type": "stream",
     "text": [
      "Processing Files:  30%|██▉       | 512/1721 [18:04<41:09,  2.04s/it]"
     ]
    },
    {
     "name": "stdout",
     "output_type": "stream",
     "text": [
      "Embedding created\n",
      "Cooperatives Tariff of Fees\n"
     ]
    },
    {
     "name": "stderr",
     "output_type": "stream",
     "text": [
      "Processing Files:  30%|██▉       | 513/1721 [18:09<54:08,  2.69s/it]"
     ]
    },
    {
     "name": "stdout",
     "output_type": "stream",
     "text": [
      "Embedding created\n",
      "Certain Canada Port Authorities Divestiture Regulations\n"
     ]
    },
    {
     "name": "stderr",
     "output_type": "stream",
     "text": [
      "Processing Files:  30%|██▉       | 514/1721 [18:11<51:28,  2.56s/it]"
     ]
    },
    {
     "name": "stdout",
     "output_type": "stream",
     "text": [
      "Embedding created\n",
      "Definition of “Small Cable Transmission System” Regulations \n"
     ]
    },
    {
     "name": "stderr",
     "output_type": "stream",
     "text": [
      "Processing Files:  30%|██▉       | 515/1721 [18:13<48:22,  2.41s/it]"
     ]
    },
    {
     "name": "stdout",
     "output_type": "stream",
     "text": [
      "Embedding created\n",
      "Fees In Respect of Medical Devices Regulations\n"
     ]
    },
    {
     "name": "stderr",
     "output_type": "stream",
     "text": [
      "Processing Files:  30%|██▉       | 516/1721 [18:15<46:00,  2.29s/it]"
     ]
    },
    {
     "name": "stdout",
     "output_type": "stream",
     "text": [
      "Embedding created\n",
      "Certain Fees in Respect of Travel Document Services and Consular Services (COVID-19 Pandemic) Remission Order\n"
     ]
    },
    {
     "name": "stderr",
     "output_type": "stream",
     "text": [
      "Processing Files:  30%|███       | 517/1721 [18:17<45:05,  2.25s/it]"
     ]
    },
    {
     "name": "stdout",
     "output_type": "stream",
     "text": [
      "Embedding created\n",
      "Disposal at Sea Regulations\n"
     ]
    },
    {
     "name": "stderr",
     "output_type": "stream",
     "text": [
      "Processing Files:  30%|███       | 518/1721 [18:21<54:37,  2.72s/it]"
     ]
    },
    {
     "name": "stdout",
     "output_type": "stream",
     "text": [
      "Embedding created\n",
      "First Nations Assessment Inspection Regulations\n"
     ]
    },
    {
     "name": "stderr",
     "output_type": "stream",
     "text": [
      "Processing Files:  30%|███       | 519/1721 [18:23<49:02,  2.45s/it]"
     ]
    },
    {
     "name": "stdout",
     "output_type": "stream",
     "text": [
      "Embedding created\n",
      "Automatic Firearms Country Control List\n"
     ]
    },
    {
     "name": "stderr",
     "output_type": "stream",
     "text": [
      "Processing Files:  30%|███       | 520/1721 [18:25<48:32,  2.42s/it]"
     ]
    },
    {
     "name": "stdout",
     "output_type": "stream",
     "text": [
      "Embedding created\n",
      "Federal Courts Citizenship, Immigration and Refugee Protection Rules\n"
     ]
    },
    {
     "name": "stderr",
     "output_type": "stream",
     "text": [
      "Processing Files:  30%|███       | 521/1721 [18:27<45:26,  2.27s/it]"
     ]
    },
    {
     "name": "stdout",
     "output_type": "stream",
     "text": [
      "Embedding created\n",
      "Federal Courts Rules\n"
     ]
    },
    {
     "name": "stderr",
     "output_type": "stream",
     "text": [
      "Processing Files:  30%|███       | 522/1721 [18:29<43:30,  2.18s/it]"
     ]
    },
    {
     "name": "stdout",
     "output_type": "stream",
     "text": [
      "Embedding created\n",
      "Regulations Prescribing the Fees to be Paid for a Pest Control Product Application Examination Service Provided by or on behalf of Her Majesty in Right of Canada, for a Right or Privilege to Manufacture or Sell a Pest Control Product in Canada and for Establishing a Maximum Residue Limit in Relation to a Pest Control Product\n"
     ]
    },
    {
     "name": "stderr",
     "output_type": "stream",
     "text": [
      "Processing Files:  30%|███       | 523/1721 [18:31<42:53,  2.15s/it]"
     ]
    },
    {
     "name": "stdout",
     "output_type": "stream",
     "text": [
      "Embedding created\n",
      "Employment Equity Programs Exclusion Approval Order\n"
     ]
    },
    {
     "name": "stderr",
     "output_type": "stream",
     "text": [
      "Processing Files:  30%|███       | 524/1721 [18:33<42:15,  2.12s/it]"
     ]
    },
    {
     "name": "stdout",
     "output_type": "stream",
     "text": [
      "Embedding created\n",
      "Ford New Holland, Inc. Loan Regulations\n"
     ]
    },
    {
     "name": "stderr",
     "output_type": "stream",
     "text": [
      "Processing Files:  31%|███       | 525/1721 [18:35<41:02,  2.06s/it]"
     ]
    },
    {
     "name": "stdout",
     "output_type": "stream",
     "text": [
      "Embedding created\n",
      "British Columbia Rules of Practice Respecting Reduction in the Number of Years of Imprisonment Without Eligibility for Parole\n"
     ]
    },
    {
     "name": "stderr",
     "output_type": "stream",
     "text": [
      "Processing Files:  31%|███       | 526/1721 [18:37<42:11,  2.12s/it]"
     ]
    },
    {
     "name": "stdout",
     "output_type": "stream",
     "text": [
      "Embedding created\n",
      "Firearms Fees Remission Order (Registration Certificate)\n"
     ]
    },
    {
     "name": "stderr",
     "output_type": "stream",
     "text": [
      "Processing Files:  31%|███       | 527/1721 [18:40<44:02,  2.21s/it]"
     ]
    },
    {
     "name": "stdout",
     "output_type": "stream",
     "text": [
      "Embedding created\n",
      "CCRFTA Sugar Aggregate Quantity Limit Order\n"
     ]
    },
    {
     "name": "stderr",
     "output_type": "stream",
     "text": [
      "Processing Files:  31%|███       | 528/1721 [18:42<45:10,  2.27s/it]"
     ]
    },
    {
     "name": "stdout",
     "output_type": "stream",
     "text": [
      "Embedding created\n",
      "Canada – Nova Scotia Offshore Area Diving Operations Safety Transitional Regulations\n"
     ]
    },
    {
     "name": "stderr",
     "output_type": "stream",
     "text": [
      "Processing Files:  31%|███       | 529/1721 [18:44<43:50,  2.21s/it]"
     ]
    },
    {
     "name": "stdout",
     "output_type": "stream",
     "text": [
      "Embedding created\n",
      "Goose Bay Airport Zoning Regulations\n"
     ]
    },
    {
     "name": "stderr",
     "output_type": "stream",
     "text": [
      "Processing Files:  31%|███       | 530/1721 [18:48<52:19,  2.64s/it]"
     ]
    },
    {
     "name": "stdout",
     "output_type": "stream",
     "text": [
      "Embedding created\n",
      "Assessment of Pension Plans Regulations\n"
     ]
    },
    {
     "name": "stderr",
     "output_type": "stream",
     "text": [
      "Processing Files:  31%|███       | 531/1721 [18:50<49:18,  2.49s/it]"
     ]
    },
    {
     "name": "stdout",
     "output_type": "stream",
     "text": [
      "Embedding created\n",
      "Annuities Payable to Survivors and Children of Judges Regulations\n"
     ]
    },
    {
     "name": "stderr",
     "output_type": "stream",
     "text": [
      "Processing Files:  31%|███       | 532/1721 [18:52<46:34,  2.35s/it]"
     ]
    },
    {
     "name": "stdout",
     "output_type": "stream",
     "text": [
      "Embedding created\n",
      "Contractor and Homeowner Course Registration Fees Order\n"
     ]
    },
    {
     "name": "stderr",
     "output_type": "stream",
     "text": [
      "Processing Files:  31%|███       | 533/1721 [18:54<44:11,  2.23s/it]"
     ]
    },
    {
     "name": "stdout",
     "output_type": "stream",
     "text": [
      "Embedding created\n",
      "Collision Regulations\n"
     ]
    },
    {
     "name": "stderr",
     "output_type": "stream",
     "text": [
      "Processing Files:  31%|███       | 534/1721 [18:56<42:22,  2.14s/it]"
     ]
    },
    {
     "name": "stdout",
     "output_type": "stream",
     "text": [
      "Embedding created\n",
      "Golden Nematode Order\n"
     ]
    },
    {
     "name": "stderr",
     "output_type": "stream",
     "text": [
      "Processing Files:  31%|███       | 535/1721 [18:58<42:33,  2.15s/it]"
     ]
    },
    {
     "name": "stdout",
     "output_type": "stream",
     "text": [
      "Embedding created\n",
      "Golden Nematode Compensation Regulations\n"
     ]
    },
    {
     "name": "stderr",
     "output_type": "stream",
     "text": [
      "Processing Files:  31%|███       | 536/1721 [19:01<44:30,  2.25s/it]"
     ]
    },
    {
     "name": "stdout",
     "output_type": "stream",
     "text": [
      "Embedding created\n",
      "Proclamation Giving Notice that the Second Protocol Amending the Convention between Canada and the Republic of Austria for the Avoidance of Double Taxation and the Prevention of Fiscal Evasion with respect to Taxes on Income and on Capital, done at Vienna on December 9, 1976, as amended by the Protocol done at Vienna on June 15, 1999 Came into Force on October 1, 2013\n"
     ]
    },
    {
     "name": "stderr",
     "output_type": "stream",
     "text": [
      "Processing Files:  31%|███       | 537/1721 [19:03<43:57,  2.23s/it]"
     ]
    },
    {
     "name": "stdout",
     "output_type": "stream",
     "text": [
      "Embedding created\n",
      "Allocation Methods Order — Cheese and Cheese Products, Ice Cream, Yogurt, Powdered Buttermilk and Concentrated Milk\n"
     ]
    },
    {
     "name": "stderr",
     "output_type": "stream",
     "text": [
      "Processing Files:  31%|███▏      | 538/1721 [19:05<43:09,  2.19s/it]"
     ]
    },
    {
     "name": "stdout",
     "output_type": "stream",
     "text": [
      "Embedding created\n",
      "Government Employees Compensation Place of Employment Regulations\n"
     ]
    },
    {
     "name": "stderr",
     "output_type": "stream",
     "text": [
      "Processing Files:  31%|███▏      | 539/1721 [19:07<42:10,  2.14s/it]"
     ]
    },
    {
     "name": "stdout",
     "output_type": "stream",
     "text": [
      "Embedding created\n",
      "Entity Member of Group Regulations\n"
     ]
    },
    {
     "name": "stderr",
     "output_type": "stream",
     "text": [
      "Processing Files:  31%|███▏      | 540/1721 [19:09<40:42,  2.07s/it]"
     ]
    },
    {
     "name": "stdout",
     "output_type": "stream",
     "text": [
      "Embedding created\n",
      "Extra-billing and User Charges Information Regulations\n"
     ]
    },
    {
     "name": "stderr",
     "output_type": "stream",
     "text": [
      "Processing Files:  31%|███▏      | 541/1721 [19:10<38:30,  1.96s/it]"
     ]
    },
    {
     "name": "stdout",
     "output_type": "stream",
     "text": [
      "Embedding created\n",
      "Critical Habitat of the Woodland Caribou (Rangifer tarandus caribou) Boreal Population Order\n"
     ]
    },
    {
     "name": "stderr",
     "output_type": "stream",
     "text": [
      "Processing Files:  31%|███▏      | 542/1721 [19:12<37:39,  1.92s/it]"
     ]
    },
    {
     "name": "stdout",
     "output_type": "stream",
     "text": [
      "Embedding created\n",
      "Disclosure of Interest (Trust and Loan Companies) Regulations\n"
     ]
    },
    {
     "name": "stderr",
     "output_type": "stream",
     "text": [
      "Processing Files:  32%|███▏      | 543/1721 [19:14<38:16,  1.95s/it]"
     ]
    },
    {
     "name": "stdout",
     "output_type": "stream",
     "text": [
      "Embedding created\n",
      "Direction to the CRTC (Reservation of Channels for the Distribution of CPAC)\n"
     ]
    },
    {
     "name": "stderr",
     "output_type": "stream",
     "text": [
      "Processing Files:  32%|███▏      | 544/1721 [19:17<40:47,  2.08s/it]"
     ]
    },
    {
     "name": "stdout",
     "output_type": "stream",
     "text": [
      "Embedding created\n",
      "Affiliated Persons (Banks) Regulations\n"
     ]
    },
    {
     "name": "stderr",
     "output_type": "stream",
     "text": [
      "Processing Files:  32%|███▏      | 545/1721 [19:19<42:20,  2.16s/it]"
     ]
    },
    {
     "name": "stdout",
     "output_type": "stream",
     "text": [
      "Embedding created\n",
      "Export of Consumable Stores Supplied to Vessels and Aircraft Permit\n"
     ]
    },
    {
     "name": "stderr",
     "output_type": "stream",
     "text": [
      "Processing Files:  32%|███▏      | 546/1721 [19:21<41:14,  2.11s/it]"
     ]
    },
    {
     "name": "stdout",
     "output_type": "stream",
     "text": [
      "Embedding created\n",
      "Ammonium Nitrate Storage Facilities Regulations\n"
     ]
    },
    {
     "name": "stderr",
     "output_type": "stream",
     "text": [
      "Processing Files:  32%|███▏      | 547/1721 [19:23<40:50,  2.09s/it]"
     ]
    },
    {
     "name": "stdout",
     "output_type": "stream",
     "text": [
      "Embedding created\n",
      "Book Importation Regulations\n"
     ]
    },
    {
     "name": "stderr",
     "output_type": "stream",
     "text": [
      "Processing Files:  32%|███▏      | 548/1721 [19:25<39:43,  2.03s/it]"
     ]
    },
    {
     "name": "stdout",
     "output_type": "stream",
     "text": [
      "Embedding created\n",
      "General Export Permit No. Ex. 29 — Eligible Industial Goods\n"
     ]
    },
    {
     "name": "stderr",
     "output_type": "stream",
     "text": [
      "Processing Files:  32%|███▏      | 549/1721 [19:27<40:20,  2.07s/it]"
     ]
    },
    {
     "name": "stdout",
     "output_type": "stream",
     "text": [
      "Embedding created\n",
      "Canadian Ownership and Control Determination Forms Order, 1985\n"
     ]
    },
    {
     "name": "stderr",
     "output_type": "stream",
     "text": [
      "Processing Files:  32%|███▏      | 550/1721 [19:30<46:17,  2.37s/it]"
     ]
    },
    {
     "name": "stdout",
     "output_type": "stream",
     "text": [
      "Embedding created\n",
      "Deduction for Provincial Rebate (GST/HST) Regulations\n"
     ]
    },
    {
     "name": "stderr",
     "output_type": "stream",
     "text": [
      "Processing Files:  32%|███▏      | 551/1721 [19:35<1:01:46,  3.17s/it]"
     ]
    },
    {
     "name": "stdout",
     "output_type": "stream",
     "text": [
      "Embedding created\n",
      "Baie Comeau Airport Zoning Regulations\n"
     ]
    },
    {
     "name": "stderr",
     "output_type": "stream",
     "text": [
      "Processing Files:  32%|███▏      | 552/1721 [19:37<55:17,  2.84s/it]  "
     ]
    },
    {
     "name": "stdout",
     "output_type": "stream",
     "text": [
      "Embedding not created\n",
      "Dundee Estates Limited Sale Authorization Order\n"
     ]
    },
    {
     "name": "stderr",
     "output_type": "stream",
     "text": [
      "Processing Files:  32%|███▏      | 553/1721 [19:39<49:03,  2.52s/it]"
     ]
    },
    {
     "name": "stdout",
     "output_type": "stream",
     "text": [
      "Embedding created\n",
      "Eastern Townships Wood Producers’ Levies (Interprovincial and Export Trade) Order\n"
     ]
    },
    {
     "name": "stderr",
     "output_type": "stream",
     "text": [
      "Processing Files:  32%|███▏      | 554/1721 [19:41<48:13,  2.48s/it]"
     ]
    },
    {
     "name": "stdout",
     "output_type": "stream",
     "text": [
      "Embedding created\n",
      "Direction to the CRTC (Reservation of Frequencies for Toronto) Order\n"
     ]
    },
    {
     "name": "stderr",
     "output_type": "stream",
     "text": [
      "Processing Files:  32%|███▏      | 555/1721 [19:43<43:33,  2.24s/it]"
     ]
    },
    {
     "name": "stdout",
     "output_type": "stream",
     "text": [
      "Embedding created\n",
      "Freezing Assets of Corrupt Foreign Officials (Tunisia) Regulations\n"
     ]
    },
    {
     "name": "stderr",
     "output_type": "stream",
     "text": [
      "Processing Files:  32%|███▏      | 556/1721 [19:45<43:01,  2.22s/it]"
     ]
    },
    {
     "name": "stdout",
     "output_type": "stream",
     "text": [
      "Embedding created\n",
      "14th IAAF World Half Marathon Championships Remission Order\n"
     ]
    },
    {
     "name": "stderr",
     "output_type": "stream",
     "text": [
      "Processing Files:  32%|███▏      | 557/1721 [19:47<40:23,  2.08s/it]"
     ]
    },
    {
     "name": "stdout",
     "output_type": "stream",
     "text": [
      "Embedding created\n",
      "Domestic Spirits Destroyed Remission Order\n"
     ]
    },
    {
     "name": "stderr",
     "output_type": "stream",
     "text": [
      "Processing Files:  32%|███▏      | 558/1721 [19:49<41:18,  2.13s/it]"
     ]
    },
    {
     "name": "stdout",
     "output_type": "stream",
     "text": [
      "Embedding created\n",
      "Experimental Lakes Area Research Activities Regulations\n"
     ]
    },
    {
     "name": "stderr",
     "output_type": "stream",
     "text": [
      "Processing Files:  32%|███▏      | 559/1721 [19:52<41:51,  2.16s/it]"
     ]
    },
    {
     "name": "stdout",
     "output_type": "stream",
     "text": [
      "Embedding created\n",
      "Discretionary Services Regulations\n"
     ]
    },
    {
     "name": "stderr",
     "output_type": "stream",
     "text": [
      "Processing Files:  33%|███▎      | 560/1721 [19:54<41:25,  2.14s/it]"
     ]
    },
    {
     "name": "stdout",
     "output_type": "stream",
     "text": [
      "Embedding created\n",
      "Fuels Information Regulations, No. 1\n"
     ]
    },
    {
     "name": "stderr",
     "output_type": "stream",
     "text": [
      "Processing Files:  33%|███▎      | 561/1721 [19:55<39:41,  2.05s/it]"
     ]
    },
    {
     "name": "stdout",
     "output_type": "stream",
     "text": [
      "Embedding created\n",
      "British Columbia Turkey Marketing Levies Order\n"
     ]
    },
    {
     "name": "stderr",
     "output_type": "stream",
     "text": [
      "Processing Files:  33%|███▎      | 562/1721 [19:58<39:33,  2.05s/it]"
     ]
    },
    {
     "name": "stdout",
     "output_type": "stream",
     "text": [
      "Embedding created\n",
      "Additional Legislative Powers Designation Order\n"
     ]
    },
    {
     "name": "stderr",
     "output_type": "stream",
     "text": [
      "Processing Files:  33%|███▎      | 563/1721 [20:00<41:02,  2.13s/it]"
     ]
    },
    {
     "name": "stdout",
     "output_type": "stream",
     "text": [
      "Embedding not created\n",
      "Accredited ICAO Missions Remission Order (Part IX of the Excise Tax Act)\n"
     ]
    },
    {
     "name": "stderr",
     "output_type": "stream",
     "text": [
      "Processing Files:  33%|███▎      | 564/1721 [20:02<42:48,  2.22s/it]"
     ]
    },
    {
     "name": "stdout",
     "output_type": "stream",
     "text": [
      "Embedding not created\n",
      "Eligible Financial Contract Regulations (Companies’ Creditors Arrangement Act)\n"
     ]
    },
    {
     "name": "stderr",
     "output_type": "stream",
     "text": [
      "Processing Files:  33%|███▎      | 565/1721 [20:04<42:40,  2.21s/it]"
     ]
    },
    {
     "name": "stdout",
     "output_type": "stream",
     "text": [
      "Embedding created\n",
      "Assessable Activities, Exceptions and Executive Committee Projects Regulations\n"
     ]
    },
    {
     "name": "stderr",
     "output_type": "stream",
     "text": [
      "Processing Files:  33%|███▎      | 566/1721 [20:06<40:50,  2.12s/it]"
     ]
    },
    {
     "name": "stdout",
     "output_type": "stream",
     "text": [
      "Embedding created\n",
      "Allocation Method Order – Softwood Lumber Products\n"
     ]
    },
    {
     "name": "stderr",
     "output_type": "stream",
     "text": [
      "Processing Files:  33%|███▎      | 567/1721 [20:09<45:12,  2.35s/it]"
     ]
    },
    {
     "name": "stdout",
     "output_type": "stream",
     "text": [
      "Embedding created\n",
      "Canada Business Corporations Regulations, 2001\n"
     ]
    },
    {
     "name": "stderr",
     "output_type": "stream",
     "text": [
      "Processing Files:  33%|███▎      | 568/1721 [20:11<43:19,  2.25s/it]"
     ]
    },
    {
     "name": "stdout",
     "output_type": "stream",
     "text": [
      "Embedding created\n",
      "Delegation of Powers (Customs) Regulations\n"
     ]
    },
    {
     "name": "stderr",
     "output_type": "stream",
     "text": [
      "Processing Files:  33%|███▎      | 569/1721 [20:13<42:52,  2.23s/it]"
     ]
    },
    {
     "name": "stdout",
     "output_type": "stream",
     "text": [
      "Embedding created\n",
      "Canadian Payments Association By-law No. 1 — General\n"
     ]
    },
    {
     "name": "stderr",
     "output_type": "stream",
     "text": [
      "Processing Files:  33%|███▎      | 570/1721 [20:16<43:46,  2.28s/it]"
     ]
    },
    {
     "name": "stdout",
     "output_type": "stream",
     "text": [
      "Embedding created\n",
      "Former Members of Parliament Counting of Service Regulations\n"
     ]
    },
    {
     "name": "stderr",
     "output_type": "stream",
     "text": [
      "Processing Files:  33%|███▎      | 571/1721 [20:18<42:35,  2.22s/it]"
     ]
    },
    {
     "name": "stdout",
     "output_type": "stream",
     "text": [
      "Embedding created\n",
      "Exempt Personal Information Bank Order, No. 5 (ND)\n"
     ]
    },
    {
     "name": "stderr",
     "output_type": "stream",
     "text": [
      "Processing Files:  33%|███▎      | 572/1721 [20:20<41:30,  2.17s/it]"
     ]
    },
    {
     "name": "stdout",
     "output_type": "stream",
     "text": [
      "Embedding created\n",
      "Airborne Remote Sensing Services Fees Order, 1989\n"
     ]
    },
    {
     "name": "stderr",
     "output_type": "stream",
     "text": [
      "Processing Files:  33%|███▎      | 573/1721 [20:22<39:22,  2.06s/it]"
     ]
    },
    {
     "name": "stdout",
     "output_type": "stream",
     "text": [
      "Embedding created\n",
      "Assigning the Administration, Management and Control of Certain Lands from the Minister of Indian Affairs and Northern Development to the Minister of the Environment\n"
     ]
    },
    {
     "name": "stderr",
     "output_type": "stream",
     "text": [
      "Processing Files:  33%|███▎      | 574/1721 [20:24<39:40,  2.08s/it]"
     ]
    },
    {
     "name": "stdout",
     "output_type": "stream",
     "text": [
      "Embedding created\n",
      "Administrative Monetary Penalties (Canada Labour Code) Regulations\n"
     ]
    },
    {
     "name": "stderr",
     "output_type": "stream",
     "text": [
      "Processing Files:  33%|███▎      | 575/1721 [20:26<40:09,  2.10s/it]"
     ]
    },
    {
     "name": "stdout",
     "output_type": "stream",
     "text": [
      "Embedding not created\n",
      "First Nation of Nacho Nyak Dun (GST) Remission Order\n"
     ]
    },
    {
     "name": "stderr",
     "output_type": "stream",
     "text": [
      "Processing Files:  33%|███▎      | 576/1721 [20:28<41:26,  2.17s/it]"
     ]
    },
    {
     "name": "stdout",
     "output_type": "stream",
     "text": [
      "Embedding created\n",
      "Customs Duties Accelerated Reduction Order, No. 2\n"
     ]
    },
    {
     "name": "stderr",
     "output_type": "stream",
     "text": [
      "Processing Files:  34%|███▎      | 577/1721 [20:30<39:35,  2.08s/it]"
     ]
    },
    {
     "name": "stdout",
     "output_type": "stream",
     "text": [
      "Embedding created\n",
      "Disclosure of Charges (Banks) Regulations\n"
     ]
    },
    {
     "name": "stderr",
     "output_type": "stream",
     "text": [
      "Processing Files:  34%|███▎      | 578/1721 [20:32<38:41,  2.03s/it]"
     ]
    },
    {
     "name": "stdout",
     "output_type": "stream",
     "text": [
      "Embedding created\n",
      "Federal-Provincial Fiscal Arrangements and Established Programs Financing Regulations, 1977\n"
     ]
    },
    {
     "name": "stderr",
     "output_type": "stream",
     "text": [
      "Processing Files:  34%|███▎      | 579/1721 [20:34<39:50,  2.09s/it]"
     ]
    },
    {
     "name": "stdout",
     "output_type": "stream",
     "text": [
      "Embedding created\n",
      "Debt Write-off Regulations, 1994\n"
     ]
    },
    {
     "name": "stderr",
     "output_type": "stream",
     "text": [
      "Processing Files:  34%|███▎      | 580/1721 [20:36<39:38,  2.08s/it]"
     ]
    },
    {
     "name": "stdout",
     "output_type": "stream",
     "text": [
      "Embedding created\n",
      "Expiry of Sections 10 to 12 and 13 to 15 of the Softwood Lumber Products Export Charge Act, 2006 Regulations\n"
     ]
    },
    {
     "name": "stderr",
     "output_type": "stream",
     "text": [
      "Processing Files:  34%|███▍      | 581/1721 [20:39<39:50,  2.10s/it]"
     ]
    },
    {
     "name": "stdout",
     "output_type": "stream",
     "text": [
      "Embedding created\n",
      "Complaint Information (Banks) Regulations\n"
     ]
    },
    {
     "name": "stderr",
     "output_type": "stream",
     "text": [
      "Processing Files:  34%|███▍      | 582/1721 [20:41<39:02,  2.06s/it]"
     ]
    },
    {
     "name": "stdout",
     "output_type": "stream",
     "text": [
      "Embedding created\n",
      "Contaminated Fuel Regulations \n"
     ]
    },
    {
     "name": "stderr",
     "output_type": "stream",
     "text": [
      "Processing Files:  34%|███▍      | 583/1721 [20:43<39:20,  2.07s/it]"
     ]
    },
    {
     "name": "stdout",
     "output_type": "stream",
     "text": [
      "Embedding created\n",
      "Corporate Interrelationships (Insurance Companies and Insurance Holding Companies) Regulations\n"
     ]
    },
    {
     "name": "stderr",
     "output_type": "stream",
     "text": [
      "Processing Files:  34%|███▍      | 584/1721 [20:45<40:57,  2.16s/it]"
     ]
    },
    {
     "name": "stdout",
     "output_type": "stream",
     "text": [
      "Embedding created\n",
      "Carbonated Beverage Glass Containers Regulations\n"
     ]
    },
    {
     "name": "stderr",
     "output_type": "stream",
     "text": [
      "Processing Files:  34%|███▍      | 585/1721 [20:47<40:59,  2.17s/it]"
     ]
    },
    {
     "name": "stdout",
     "output_type": "stream",
     "text": [
      "Embedding created\n",
      "Equity of an Insurance Company or Insurance Holding Company Regulations\n"
     ]
    },
    {
     "name": "stderr",
     "output_type": "stream",
     "text": [
      "Processing Files:  34%|███▍      | 586/1721 [20:49<39:41,  2.10s/it]"
     ]
    },
    {
     "name": "stdout",
     "output_type": "stream",
     "text": [
      "Embedding created\n",
      "Aveos Pension Plan Regulations\n"
     ]
    },
    {
     "name": "stderr",
     "output_type": "stream",
     "text": [
      "Processing Files:  34%|███▍      | 587/1721 [20:51<40:26,  2.14s/it]"
     ]
    },
    {
     "name": "stdout",
     "output_type": "stream",
     "text": [
      "Embedding created\n",
      "Dominion Atlantic Railway Traffic Rules and Regulations\n"
     ]
    },
    {
     "name": "stderr",
     "output_type": "stream",
     "text": [
      "Processing Files:  34%|███▍      | 588/1721 [20:53<39:31,  2.09s/it]"
     ]
    },
    {
     "name": "stdout",
     "output_type": "stream",
     "text": [
      "Embedding created\n",
      "Administration of Labour Market Development Services Divestiture Regulations\n"
     ]
    },
    {
     "name": "stderr",
     "output_type": "stream",
     "text": [
      "Processing Files:  34%|███▍      | 589/1721 [20:57<45:38,  2.42s/it]"
     ]
    },
    {
     "name": "stdout",
     "output_type": "stream",
     "text": [
      "Embedding created\n",
      "Canadian International Trade Tribunal Rules\n"
     ]
    },
    {
     "name": "stderr",
     "output_type": "stream",
     "text": [
      "Processing Files:  34%|███▍      | 590/1721 [20:59<43:20,  2.30s/it]"
     ]
    },
    {
     "name": "stdout",
     "output_type": "stream",
     "text": [
      "Embedding created\n",
      "Canada Post Corporation Pension Plan Funding Regulations\n"
     ]
    },
    {
     "name": "stderr",
     "output_type": "stream",
     "text": [
      "Processing Files:  34%|███▍      | 591/1721 [21:01<41:31,  2.21s/it]"
     ]
    },
    {
     "name": "stdout",
     "output_type": "stream",
     "text": [
      "Embedding created\n",
      "Fees for Records Regulations\n"
     ]
    },
    {
     "name": "stderr",
     "output_type": "stream",
     "text": [
      "Processing Files:  34%|███▍      | 592/1721 [21:02<39:43,  2.11s/it]"
     ]
    },
    {
     "name": "stdout",
     "output_type": "stream",
     "text": [
      "Embedding created\n",
      "Bank Recapitalization (Bail-in) Conversion Regulations\n"
     ]
    },
    {
     "name": "stderr",
     "output_type": "stream",
     "text": [
      "Processing Files:  34%|███▍      | 593/1721 [21:05<39:25,  2.10s/it]"
     ]
    },
    {
     "name": "stdout",
     "output_type": "stream",
     "text": [
      "Embedding created\n",
      "Egg Regulations\n"
     ]
    },
    {
     "name": "stderr",
     "output_type": "stream",
     "text": [
      "Processing Files:  35%|███▍      | 594/1721 [21:06<38:03,  2.03s/it]"
     ]
    },
    {
     "name": "stdout",
     "output_type": "stream",
     "text": [
      "Embedding created\n",
      "Certain Marine Carriers Remission Order\n"
     ]
    },
    {
     "name": "stderr",
     "output_type": "stream",
     "text": [
      "Processing Files:  35%|███▍      | 595/1721 [21:09<38:33,  2.05s/it]"
     ]
    },
    {
     "name": "stdout",
     "output_type": "stream",
     "text": [
      "Embedding created\n",
      "Deceased or Former Members Dependants Payment Order\n"
     ]
    },
    {
     "name": "stderr",
     "output_type": "stream",
     "text": [
      "Processing Files:  35%|███▍      | 596/1721 [21:10<38:01,  2.03s/it]"
     ]
    },
    {
     "name": "stdout",
     "output_type": "stream",
     "text": [
      "Embedding created\n",
      "European Communities Privileges and Immunities Order\n"
     ]
    },
    {
     "name": "stderr",
     "output_type": "stream",
     "text": [
      "Processing Files:  35%|███▍      | 597/1721 [21:13<38:20,  2.05s/it]"
     ]
    },
    {
     "name": "stdout",
     "output_type": "stream",
     "text": [
      "Embedding created\n",
      "CUKTCA Rules of Origin Regulations\n"
     ]
    },
    {
     "name": "stderr",
     "output_type": "stream",
     "text": [
      "Processing Files:  35%|███▍      | 598/1721 [21:15<42:42,  2.28s/it]"
     ]
    },
    {
     "name": "stdout",
     "output_type": "stream",
     "text": [
      "Embedding created\n",
      "Coal Mining Occupational Health and Safety Regulations\n"
     ]
    },
    {
     "name": "stderr",
     "output_type": "stream",
     "text": [
      "Processing Files:  35%|███▍      | 599/1721 [21:18<41:53,  2.24s/it]"
     ]
    },
    {
     "name": "stdout",
     "output_type": "stream",
     "text": [
      "Embedding created\n",
      "Exemption Regulations (Persons)\n"
     ]
    },
    {
     "name": "stderr",
     "output_type": "stream",
     "text": [
      "Processing Files:  35%|███▍      | 600/1721 [21:20<40:29,  2.17s/it]"
     ]
    },
    {
     "name": "stdout",
     "output_type": "stream",
     "text": [
      "Embedding created\n",
      "First Nations Land Registry Regulations\n"
     ]
    },
    {
     "name": "stderr",
     "output_type": "stream",
     "text": [
      "Processing Files:  35%|███▍      | 601/1721 [21:22<40:12,  2.15s/it]"
     ]
    },
    {
     "name": "stdout",
     "output_type": "stream",
     "text": [
      "Embedding created\n",
      "Access to Funds Regulations\n"
     ]
    },
    {
     "name": "stderr",
     "output_type": "stream",
     "text": [
      "Processing Files:  35%|███▍      | 602/1721 [21:24<39:17,  2.11s/it]"
     ]
    },
    {
     "name": "stdout",
     "output_type": "stream",
     "text": [
      "Embedding created\n",
      "Advance Payments for Crops Guarantee Assignments Regulations\n"
     ]
    },
    {
     "name": "stderr",
     "output_type": "stream",
     "text": [
      "Processing Files:  35%|███▌      | 603/1721 [21:26<39:46,  2.13s/it]"
     ]
    },
    {
     "name": "stdout",
     "output_type": "stream",
     "text": [
      "Embedding created\n",
      "General Export Permit No. 37 — Toxic Chemicals and Precursors to the United States\n"
     ]
    },
    {
     "name": "stderr",
     "output_type": "stream",
     "text": [
      "Processing Files:  35%|███▌      | 604/1721 [21:28<38:56,  2.09s/it]"
     ]
    },
    {
     "name": "stdout",
     "output_type": "stream",
     "text": [
      "Embedding created\n",
      "Adjustment Assistance Benefit Regulations (Footwear and Tanning Workers)\n"
     ]
    },
    {
     "name": "stderr",
     "output_type": "stream",
     "text": [
      "Processing Files:  35%|███▌      | 605/1721 [21:30<38:04,  2.05s/it]"
     ]
    },
    {
     "name": "stdout",
     "output_type": "stream",
     "text": [
      "Embedding not created\n",
      "CJFTA Rules of Origin Regulations\n"
     ]
    },
    {
     "name": "stderr",
     "output_type": "stream",
     "text": [
      "Processing Files:  35%|███▌      | 606/1721 [21:32<37:05,  2.00s/it]"
     ]
    },
    {
     "name": "stdout",
     "output_type": "stream",
     "text": [
      "Embedding created\n",
      "Canada Port Authority Environmental Assessment Regulations\n"
     ]
    },
    {
     "name": "stderr",
     "output_type": "stream",
     "text": [
      "Processing Files:  35%|███▌      | 607/1721 [21:34<41:10,  2.22s/it]"
     ]
    },
    {
     "name": "stdout",
     "output_type": "stream",
     "text": [
      "Embedding created\n",
      "Access to Information Regulations\n"
     ]
    },
    {
     "name": "stderr",
     "output_type": "stream",
     "text": [
      "Processing Files:  35%|███▌      | 608/1721 [21:36<39:20,  2.12s/it]"
     ]
    },
    {
     "name": "stdout",
     "output_type": "stream",
     "text": [
      "Embedding created\n",
      "Exemption from Deposit Insurance By-Law (Prescribed Deposits)\n"
     ]
    },
    {
     "name": "stderr",
     "output_type": "stream",
     "text": [
      "Processing Files:  35%|███▌      | 609/1721 [21:39<40:00,  2.16s/it]"
     ]
    },
    {
     "name": "stdout",
     "output_type": "stream",
     "text": [
      "Embedding created\n",
      "Acquisition of Permanent Resident Status Fee Remission Order\n"
     ]
    },
    {
     "name": "stderr",
     "output_type": "stream",
     "text": [
      "Processing Files:  35%|███▌      | 610/1721 [21:41<42:09,  2.28s/it]"
     ]
    },
    {
     "name": "stdout",
     "output_type": "stream",
     "text": [
      "Embedding created\n",
      "Greenhouse Cucumber Stabilization Regulations, 1980\n"
     ]
    },
    {
     "name": "stderr",
     "output_type": "stream",
     "text": [
      "Processing Files:  36%|███▌      | 611/1721 [21:43<41:25,  2.24s/it]"
     ]
    },
    {
     "name": "stdout",
     "output_type": "stream",
     "text": [
      "Embedding created\n",
      "Critical Habitat of the Pugnose Shiner (Notropis anogenus) Order\n"
     ]
    },
    {
     "name": "stderr",
     "output_type": "stream",
     "text": [
      "Processing Files:  36%|███▌      | 612/1721 [21:45<39:51,  2.16s/it]"
     ]
    },
    {
     "name": "stdout",
     "output_type": "stream",
     "text": [
      "Embedding created\n",
      "Black Lake First Nation Water Power Regulations\n"
     ]
    },
    {
     "name": "stderr",
     "output_type": "stream",
     "text": [
      "Processing Files:  36%|███▌      | 613/1721 [21:47<39:17,  2.13s/it]"
     ]
    },
    {
     "name": "stdout",
     "output_type": "stream",
     "text": [
      "Embedding created\n",
      "CCOFTA Rules of Origin Regulations\n"
     ]
    },
    {
     "name": "stderr",
     "output_type": "stream",
     "text": [
      "Processing Files:  36%|███▌      | 614/1721 [21:49<38:52,  2.11s/it]"
     ]
    },
    {
     "name": "stdout",
     "output_type": "stream",
     "text": [
      "Embedding created\n",
      "Federal Sales Tax Inventory Rebate Regulations\n"
     ]
    },
    {
     "name": "stderr",
     "output_type": "stream",
     "text": [
      "Processing Files:  36%|███▌      | 615/1721 [21:51<37:34,  2.04s/it]"
     ]
    },
    {
     "name": "stdout",
     "output_type": "stream",
     "text": [
      "Embedding created\n",
      "Canadian Egg Marketing Agency Proclamation\n"
     ]
    },
    {
     "name": "stderr",
     "output_type": "stream",
     "text": [
      "Processing Files:  36%|███▌      | 616/1721 [21:53<36:49,  2.00s/it]"
     ]
    },
    {
     "name": "stdout",
     "output_type": "stream",
     "text": [
      "Embedding created\n",
      "Canada–Newfoundland and Labrador Offshore Petroleum Administrative Monetary Penalties Regulations\n"
     ]
    },
    {
     "name": "stderr",
     "output_type": "stream",
     "text": [
      "Processing Files:  36%|███▌      | 617/1721 [21:55<37:30,  2.04s/it]"
     ]
    },
    {
     "name": "stdout",
     "output_type": "stream",
     "text": [
      "Embedding created\n",
      "Canada Corporations Regulations\n"
     ]
    },
    {
     "name": "stderr",
     "output_type": "stream",
     "text": [
      "Processing Files:  36%|███▌      | 618/1721 [21:57<37:16,  2.03s/it]"
     ]
    },
    {
     "name": "stdout",
     "output_type": "stream",
     "text": [
      "Embedding created\n",
      "British Columbia Vegetable Marketing Levies Order\n"
     ]
    },
    {
     "name": "stderr",
     "output_type": "stream",
     "text": [
      "Processing Files:  36%|███▌      | 619/1721 [22:02<50:34,  2.75s/it]"
     ]
    },
    {
     "name": "stdout",
     "output_type": "stream",
     "text": [
      "Embedding created\n",
      "Critical Habitat of the Paxton Lake Limnetic Threespine Stickleback (Gasterosteus aculeatus) Order\n"
     ]
    },
    {
     "name": "stderr",
     "output_type": "stream",
     "text": [
      "Processing Files:  36%|███▌      | 620/1721 [22:04<47:55,  2.61s/it]"
     ]
    },
    {
     "name": "stdout",
     "output_type": "stream",
     "text": [
      "Embedding created\n",
      "Regulations Defining “Advertising Revenues”\n"
     ]
    },
    {
     "name": "stderr",
     "output_type": "stream",
     "text": [
      "Processing Files:  36%|███▌      | 621/1721 [22:07<48:14,  2.63s/it]"
     ]
    },
    {
     "name": "stdout",
     "output_type": "stream",
     "text": [
      "Embedding created\n",
      "Direction to the CRTC (Reservation of Cable Channels)\n"
     ]
    },
    {
     "name": "stderr",
     "output_type": "stream",
     "text": [
      "Processing Files:  36%|███▌      | 622/1721 [22:09<44:12,  2.41s/it]"
     ]
    },
    {
     "name": "stdout",
     "output_type": "stream",
     "text": [
      "Embedding created\n",
      "Fort Resolution Airport Zoning Regulations\n"
     ]
    },
    {
     "name": "stderr",
     "output_type": "stream",
     "text": [
      "Processing Files:  36%|███▌      | 623/1721 [22:11<44:18,  2.42s/it]"
     ]
    },
    {
     "name": "stdout",
     "output_type": "stream",
     "text": [
      "Embedding created\n",
      "Communications Security Establishment Appointments Regulations\n"
     ]
    },
    {
     "name": "stderr",
     "output_type": "stream",
     "text": [
      "Processing Files:  36%|███▋      | 624/1721 [22:13<41:17,  2.26s/it]"
     ]
    },
    {
     "name": "stdout",
     "output_type": "stream",
     "text": [
      "Embedding created\n",
      "Cartierville Airport Zoning Regulations\n"
     ]
    },
    {
     "name": "stderr",
     "output_type": "stream",
     "text": [
      "Processing Files:  36%|███▋      | 625/1721 [22:15<39:35,  2.17s/it]"
     ]
    },
    {
     "name": "stdout",
     "output_type": "stream",
     "text": [
      "Embedding created\n",
      "Courier Imports Remission Order\n"
     ]
    },
    {
     "name": "stderr",
     "output_type": "stream",
     "text": [
      "Processing Files:  36%|███▋      | 626/1721 [22:17<39:42,  2.18s/it]"
     ]
    },
    {
     "name": "stdout",
     "output_type": "stream",
     "text": [
      "Embedding created\n",
      "Alberta Hog Order\n"
     ]
    },
    {
     "name": "stderr",
     "output_type": "stream",
     "text": [
      "Processing Files:  36%|███▋      | 627/1721 [22:19<37:56,  2.08s/it]"
     ]
    },
    {
     "name": "stdout",
     "output_type": "stream",
     "text": [
      "Embedding created\n",
      "Cree-Naskapi Land Registry Regulations\n"
     ]
    },
    {
     "name": "stderr",
     "output_type": "stream",
     "text": [
      "Processing Files:  36%|███▋      | 628/1721 [22:21<37:49,  2.08s/it]"
     ]
    },
    {
     "name": "stdout",
     "output_type": "stream",
     "text": [
      "Embedding created\n",
      "Certain Hidden Valley Golf Resort Association Members Remission Order\n"
     ]
    },
    {
     "name": "stderr",
     "output_type": "stream",
     "text": [
      "Processing Files:  37%|███▋      | 629/1721 [22:23<38:22,  2.11s/it]"
     ]
    },
    {
     "name": "stdout",
     "output_type": "stream",
     "text": [
      "Embedding created\n",
      "Annuities Agents Pension Regulations\n"
     ]
    },
    {
     "name": "stderr",
     "output_type": "stream",
     "text": [
      "Processing Files:  37%|███▋      | 630/1721 [22:25<39:14,  2.16s/it]"
     ]
    },
    {
     "name": "stdout",
     "output_type": "stream",
     "text": [
      "Embedding created\n",
      "Canada Shipping Act Gold Franc Conversion Regulations\n"
     ]
    },
    {
     "name": "stderr",
     "output_type": "stream",
     "text": [
      "Processing Files:  37%|███▋      | 631/1721 [22:28<41:13,  2.27s/it]"
     ]
    },
    {
     "name": "stdout",
     "output_type": "stream",
     "text": [
      "Embedding created\n",
      "Department of Forestry Terms Under Six Months Regulations, 1989\n"
     ]
    },
    {
     "name": "stderr",
     "output_type": "stream",
     "text": [
      "Processing Files:  37%|███▋      | 632/1721 [22:30<39:20,  2.17s/it]"
     ]
    },
    {
     "name": "stdout",
     "output_type": "stream",
     "text": [
      "Embedding created\n",
      "Exemption from Deposit Insurance By-law (Exemption Fee)\n"
     ]
    },
    {
     "name": "stderr",
     "output_type": "stream",
     "text": [
      "Processing Files:  37%|███▋      | 633/1721 [22:32<37:46,  2.08s/it]"
     ]
    },
    {
     "name": "stdout",
     "output_type": "stream",
     "text": [
      "Embedding created\n",
      "Blainville Motor Vehicle Test Centre Benefit Eligibility Protection Regulations\n"
     ]
    },
    {
     "name": "stderr",
     "output_type": "stream",
     "text": [
      "Processing Files:  37%|███▋      | 634/1721 [22:34<36:42,  2.03s/it]"
     ]
    },
    {
     "name": "stdout",
     "output_type": "stream",
     "text": [
      "Embedding created\n",
      "Automotive Parts Tariff Removal Order, 1988\n"
     ]
    },
    {
     "name": "stderr",
     "output_type": "stream",
     "text": [
      "Processing Files:  37%|███▋      | 635/1721 [22:36<38:23,  2.12s/it]"
     ]
    },
    {
     "name": "stdout",
     "output_type": "stream",
     "text": [
      "Embedding created\n",
      "CPFTA Rules of Origin for Casual Goods Regulations\n"
     ]
    },
    {
     "name": "stderr",
     "output_type": "stream",
     "text": [
      "Processing Files:  37%|███▋      | 636/1721 [22:38<38:52,  2.15s/it]"
     ]
    },
    {
     "name": "stdout",
     "output_type": "stream",
     "text": [
      "Embedding created\n",
      "Critical Habitat of the Spotted Gar (Lepisosteus oculatus) Order\n"
     ]
    },
    {
     "name": "stderr",
     "output_type": "stream",
     "text": [
      "Processing Files:  37%|███▋      | 637/1721 [22:41<40:02,  2.22s/it]"
     ]
    },
    {
     "name": "stdout",
     "output_type": "stream",
     "text": [
      "Embedding created\n",
      "Designating the Judges of Her Majesty’s Court of Queen’s Bench for Manitoba to Exercise all the Functions and Powers of a Judge Under the Act\n"
     ]
    },
    {
     "name": "stderr",
     "output_type": "stream",
     "text": [
      "Processing Files:  37%|███▋      | 638/1721 [22:43<43:12,  2.39s/it]"
     ]
    },
    {
     "name": "stdout",
     "output_type": "stream",
     "text": [
      "Embedding created\n",
      "Disposal at Sea Permit Fee Regulations\n"
     ]
    },
    {
     "name": "stderr",
     "output_type": "stream",
     "text": [
      "Processing Files:  37%|███▋      | 639/1721 [22:46<42:02,  2.33s/it]"
     ]
    },
    {
     "name": "stdout",
     "output_type": "stream",
     "text": [
      "Embedding created\n",
      "Emergency Protection Orders Regulations\n"
     ]
    },
    {
     "name": "stderr",
     "output_type": "stream",
     "text": [
      "Processing Files:  37%|███▋      | 640/1721 [22:50<53:55,  2.99s/it]"
     ]
    },
    {
     "name": "stdout",
     "output_type": "stream",
     "text": [
      "Embedding created\n",
      "Barley 1987 Period Stabilization Regulations\n"
     ]
    },
    {
     "name": "stderr",
     "output_type": "stream",
     "text": [
      "Processing Files:  37%|███▋      | 641/1721 [22:52<48:41,  2.71s/it]"
     ]
    },
    {
     "name": "stdout",
     "output_type": "stream",
     "text": [
      "Embedding created\n",
      "Global Fund Replenishment Conference — Privileges and Immunities Order\n"
     ]
    },
    {
     "name": "stderr",
     "output_type": "stream",
     "text": [
      "Processing Files:  37%|███▋      | 642/1721 [22:55<46:47,  2.60s/it]"
     ]
    },
    {
     "name": "stdout",
     "output_type": "stream",
     "text": [
      "Embedding created\n",
      "Charcoal Regulations\n"
     ]
    },
    {
     "name": "stderr",
     "output_type": "stream",
     "text": [
      "Processing Files:  37%|███▋      | 643/1721 [22:56<42:55,  2.39s/it]"
     ]
    },
    {
     "name": "stdout",
     "output_type": "stream",
     "text": [
      "Embedding created\n",
      "Certain Unauthorized Reimbursements Made Under the Public Service Health Care Plan Remission Order\n"
     ]
    },
    {
     "name": "stderr",
     "output_type": "stream",
     "text": [
      "Processing Files:  37%|███▋      | 644/1721 [22:58<39:28,  2.20s/it]"
     ]
    },
    {
     "name": "stdout",
     "output_type": "stream",
     "text": [
      "Embedding created\n",
      "Critical Habitat of the Fawnsfoot (Truncilla donaciformis) Order\n"
     ]
    },
    {
     "name": "stderr",
     "output_type": "stream",
     "text": [
      "Processing Files:  37%|███▋      | 645/1721 [23:00<39:05,  2.18s/it]"
     ]
    },
    {
     "name": "stdout",
     "output_type": "stream",
     "text": [
      "Embedding created\n",
      "CIFTA Rules of Origin for Casual Goods Regulations\n"
     ]
    },
    {
     "name": "stderr",
     "output_type": "stream",
     "text": [
      "Processing Files:  38%|███▊      | 646/1721 [23:02<38:25,  2.15s/it]"
     ]
    },
    {
     "name": "stdout",
     "output_type": "stream",
     "text": [
      "Embedding created\n",
      "Challenges Annual Forum — Privileges and Immunities Order\n"
     ]
    },
    {
     "name": "stderr",
     "output_type": "stream",
     "text": [
      "Processing Files:  38%|███▊      | 647/1721 [23:04<37:49,  2.11s/it]"
     ]
    },
    {
     "name": "stdout",
     "output_type": "stream",
     "text": [
      "Embedding created\n",
      "Certification of Origin of Goods Exported to a Free Trade Partner Regulations\n"
     ]
    },
    {
     "name": "stderr",
     "output_type": "stream",
     "text": [
      "Processing Files:  38%|███▊      | 648/1721 [23:07<39:37,  2.22s/it]"
     ]
    },
    {
     "name": "stdout",
     "output_type": "stream",
     "text": [
      "Embedding created\n",
      "Baie Verte Mines Inc. Regulations\n"
     ]
    },
    {
     "name": "stderr",
     "output_type": "stream",
     "text": [
      "Processing Files:  38%|███▊      | 649/1721 [23:09<39:35,  2.22s/it]"
     ]
    },
    {
     "name": "stdout",
     "output_type": "stream",
     "text": [
      "Embedding created\n",
      "Aquatic Invasive Species Regulations\n"
     ]
    },
    {
     "name": "stderr",
     "output_type": "stream",
     "text": [
      "Processing Files:  38%|███▊      | 650/1721 [23:12<41:28,  2.32s/it]"
     ]
    },
    {
     "name": "stdout",
     "output_type": "stream",
     "text": [
      "Embedding created\n",
      "Canada Health and Social Transfer Regulations\n"
     ]
    },
    {
     "name": "stderr",
     "output_type": "stream",
     "text": [
      "Processing Files:  38%|███▊      | 651/1721 [23:14<40:59,  2.30s/it]"
     ]
    },
    {
     "name": "stdout",
     "output_type": "stream",
     "text": [
      "Embedding created\n",
      "Canadian Security Intelligence Service Act Deputy Heads of the Public Service of Canada Order\n"
     ]
    },
    {
     "name": "stderr",
     "output_type": "stream",
     "text": [
      "Processing Files:  38%|███▊      | 652/1721 [23:16<39:58,  2.24s/it]"
     ]
    },
    {
     "name": "stdout",
     "output_type": "stream",
     "text": [
      "Embedding created\n",
      "Consolidated Computer Inc. Regulations\n"
     ]
    },
    {
     "name": "stderr",
     "output_type": "stream",
     "text": [
      "Processing Files:  38%|███▊      | 653/1721 [23:18<37:58,  2.13s/it]"
     ]
    },
    {
     "name": "stdout",
     "output_type": "stream",
     "text": [
      "Embedding created\n",
      "Certain Areas Covered With Water Proclaimed Public Harbours Effective January 1, 1980\n"
     ]
    },
    {
     "name": "stderr",
     "output_type": "stream",
     "text": [
      "Processing Files:  38%|███▊      | 654/1721 [23:20<38:26,  2.16s/it]"
     ]
    },
    {
     "name": "stdout",
     "output_type": "stream",
     "text": [
      "Embedding created\n",
      "Court of Queen’s Bench for Saskatchewan Summary Conviction Appeal Rules\n"
     ]
    },
    {
     "name": "stderr",
     "output_type": "stream",
     "text": [
      "Processing Files:  38%|███▊      | 655/1721 [23:22<37:24,  2.11s/it]"
     ]
    },
    {
     "name": "stdout",
     "output_type": "stream",
     "text": [
      "Embedding created\n",
      "Decision Body Time Periods and Consultation Regulations\n"
     ]
    },
    {
     "name": "stderr",
     "output_type": "stream",
     "text": [
      "Processing Files:  38%|███▊      | 656/1721 [23:24<36:58,  2.08s/it]"
     ]
    },
    {
     "name": "stdout",
     "output_type": "stream",
     "text": [
      "Embedding created\n",
      "Children’s Special Allowance Regulations\n"
     ]
    },
    {
     "name": "stderr",
     "output_type": "stream",
     "text": [
      "Processing Files:  38%|███▊      | 657/1721 [23:26<36:02,  2.03s/it]"
     ]
    },
    {
     "name": "stdout",
     "output_type": "stream",
     "text": [
      "Embedding created\n",
      "Artists’ Representatives (GST/HST) Regulations\n"
     ]
    },
    {
     "name": "stderr",
     "output_type": "stream",
     "text": [
      "Processing Files:  38%|███▊      | 658/1721 [23:28<35:25,  2.00s/it]"
     ]
    },
    {
     "name": "stdout",
     "output_type": "stream",
     "text": [
      "Embedding created\n",
      "Explosives Regulations, 2013\n"
     ]
    },
    {
     "name": "stderr",
     "output_type": "stream",
     "text": [
      "Processing Files:  38%|███▊      | 659/1721 [23:30<35:08,  1.99s/it]"
     ]
    },
    {
     "name": "stdout",
     "output_type": "stream",
     "text": [
      "Embedding created\n",
      "Exemption for Public Notices or Documents (Insurance Companies and Insurance Holding Companies) Regulations\n"
     ]
    },
    {
     "name": "stderr",
     "output_type": "stream",
     "text": [
      "Processing Files:  38%|███▊      | 660/1721 [23:32<35:52,  2.03s/it]"
     ]
    },
    {
     "name": "stdout",
     "output_type": "stream",
     "text": [
      "Embedding created\n",
      "Dominion Water Power Regulations\n"
     ]
    },
    {
     "name": "stderr",
     "output_type": "stream",
     "text": [
      "Processing Files:  38%|███▊      | 661/1721 [23:34<36:09,  2.05s/it]"
     ]
    },
    {
     "name": "stdout",
     "output_type": "stream",
     "text": [
      "Embedding created\n",
      "Canada Deposit Insurance Corporation Notice Regulations (Compensation in Respect of the Restructuring of Federal Member Institutions)\n"
     ]
    },
    {
     "name": "stderr",
     "output_type": "stream",
     "text": [
      "Processing Files:  38%|███▊      | 662/1721 [23:36<35:37,  2.02s/it]"
     ]
    },
    {
     "name": "stdout",
     "output_type": "stream",
     "text": [
      "Embedding created\n",
      "Order Respecting the Remission of Anti-dumping Duties on Automotive Galvannealed Coil Steel\n"
     ]
    },
    {
     "name": "stderr",
     "output_type": "stream",
     "text": [
      "Processing Files:  39%|███▊      | 663/1721 [23:38<34:36,  1.96s/it]"
     ]
    },
    {
     "name": "stdout",
     "output_type": "stream",
     "text": [
      "Embedding created\n",
      "CJFTA Tariff Preference Regulations\n"
     ]
    },
    {
     "name": "stderr",
     "output_type": "stream",
     "text": [
      "Processing Files:  39%|███▊      | 664/1721 [23:40<36:24,  2.07s/it]"
     ]
    },
    {
     "name": "stdout",
     "output_type": "stream",
     "text": [
      "Embedding created\n",
      "2015 Pan American and Parapan American Games Remission Order\n"
     ]
    },
    {
     "name": "stderr",
     "output_type": "stream",
     "text": [
      "Processing Files:  39%|███▊      | 665/1721 [23:42<35:29,  2.02s/it]"
     ]
    },
    {
     "name": "stdout",
     "output_type": "stream",
     "text": [
      "Embedding created\n",
      "First Nations Assessment Appeal Regulations\n"
     ]
    },
    {
     "name": "stderr",
     "output_type": "stream",
     "text": [
      "Processing Files:  39%|███▊      | 666/1721 [23:44<35:32,  2.02s/it]"
     ]
    },
    {
     "name": "stdout",
     "output_type": "stream",
     "text": [
      "Embedding created\n",
      "Citizenship Regulations, No. 2\n"
     ]
    },
    {
     "name": "stderr",
     "output_type": "stream",
     "text": [
      "Processing Files:  39%|███▉      | 667/1721 [23:47<38:01,  2.16s/it]"
     ]
    },
    {
     "name": "stdout",
     "output_type": "stream",
     "text": [
      "Embedding created\n",
      "Gross Revenue Insurance Plan Account for the Province of Manitoba Remission Order\n"
     ]
    },
    {
     "name": "stderr",
     "output_type": "stream",
     "text": [
      "Processing Files:  39%|███▉      | 668/1721 [23:49<39:03,  2.23s/it]"
     ]
    },
    {
     "name": "stdout",
     "output_type": "stream",
     "text": [
      "Embedding created\n",
      "Air Transportation Tax Order, 1995\n"
     ]
    },
    {
     "name": "stderr",
     "output_type": "stream",
     "text": [
      "Processing Files:  39%|███▉      | 669/1721 [23:51<37:47,  2.16s/it]"
     ]
    },
    {
     "name": "stdout",
     "output_type": "stream",
     "text": [
      "Embedding created\n",
      "Foreign Extraterritorial Measures (United States) Order, 1992\n"
     ]
    },
    {
     "name": "stderr",
     "output_type": "stream",
     "text": [
      "Processing Files:  39%|███▉      | 670/1721 [23:54<44:28,  2.54s/it]"
     ]
    },
    {
     "name": "stdout",
     "output_type": "stream",
     "text": [
      "Embedding created\n",
      "Goods and Services Tax Builders Remission Order\n"
     ]
    },
    {
     "name": "stderr",
     "output_type": "stream",
     "text": [
      "Processing Files:  39%|███▉      | 671/1721 [23:56<41:23,  2.37s/it]"
     ]
    },
    {
     "name": "stdout",
     "output_type": "stream",
     "text": [
      "Embedding created\n",
      "Canada Oil and Gas Operations Financial Requirements Regulations\n"
     ]
    },
    {
     "name": "stderr",
     "output_type": "stream",
     "text": [
      "Processing Files:  39%|███▉      | 672/1721 [23:59<41:23,  2.37s/it]"
     ]
    },
    {
     "name": "stdout",
     "output_type": "stream",
     "text": [
      "Embedding created\n",
      "Canada Deposit Insurance Corporation Deposit Insurance Information By-law\n"
     ]
    },
    {
     "name": "stderr",
     "output_type": "stream",
     "text": [
      "Processing Files:  39%|███▉      | 673/1721 [24:01<38:25,  2.20s/it]"
     ]
    },
    {
     "name": "stdout",
     "output_type": "stream",
     "text": [
      "Embedding created\n",
      "Borrowing (Property and Casualty Companies and Marine Companies) Regulations\n"
     ]
    },
    {
     "name": "stderr",
     "output_type": "stream",
     "text": [
      "Processing Files:  39%|███▉      | 674/1721 [24:03<37:18,  2.14s/it]"
     ]
    },
    {
     "name": "stdout",
     "output_type": "stream",
     "text": [
      "Embedding created\n",
      "Brandon Airport Zoning Regulations\n"
     ]
    },
    {
     "name": "stderr",
     "output_type": "stream",
     "text": [
      "Processing Files:  39%|███▉      | 675/1721 [24:05<37:14,  2.14s/it]"
     ]
    },
    {
     "name": "stdout",
     "output_type": "stream",
     "text": [
      "Embedding created\n",
      "Fees in Respect of Drugs and Medical Devices Order\n",
      "Embedding created\n",
      "Embedding created\n"
     ]
    },
    {
     "name": "stderr",
     "output_type": "stream",
     "text": [
      "Processing Files:  39%|███▉      | 676/1721 [24:07<39:48,  2.29s/it]"
     ]
    },
    {
     "name": "stdout",
     "output_type": "stream",
     "text": [
      "Embedding created\n",
      "Embedding created\n",
      "Canadian Energy Regulator Onshore Pipeline Regulations\n"
     ]
    },
    {
     "name": "stderr",
     "output_type": "stream",
     "text": [
      "Processing Files:  39%|███▉      | 677/1721 [24:10<41:05,  2.36s/it]"
     ]
    },
    {
     "name": "stdout",
     "output_type": "stream",
     "text": [
      "Embedding created\n",
      "Designated Provisions Regulations — Transportation Information (Canada Transportation Act)\n"
     ]
    },
    {
     "name": "stderr",
     "output_type": "stream",
     "text": [
      "Processing Files:  39%|███▉      | 678/1721 [24:13<42:23,  2.44s/it]"
     ]
    },
    {
     "name": "stdout",
     "output_type": "stream",
     "text": [
      "Embedding created\n",
      "Guidelines Respecting Control in Fact for the Purpose of Section 377.2 of the Bank Act\n"
     ]
    },
    {
     "name": "stderr",
     "output_type": "stream",
     "text": [
      "Processing Files:  39%|███▉      | 679/1721 [24:14<39:29,  2.27s/it]"
     ]
    },
    {
     "name": "stdout",
     "output_type": "stream",
     "text": [
      "Embedding created\n",
      "Canada–Newfoundland and Labrador Offshore Area Registration Regulations\n"
     ]
    },
    {
     "name": "stderr",
     "output_type": "stream",
     "text": [
      "Processing Files:  40%|███▉      | 680/1721 [24:16<38:30,  2.22s/it]"
     ]
    },
    {
     "name": "stdout",
     "output_type": "stream",
     "text": [
      "Embedding created\n",
      "Hazardous Products (Cellulose Insulation) Regulations\n"
     ]
    },
    {
     "name": "stderr",
     "output_type": "stream",
     "text": [
      "Processing Files:  40%|███▉      | 681/1721 [24:19<39:05,  2.26s/it]"
     ]
    },
    {
     "name": "stdout",
     "output_type": "stream",
     "text": [
      "Embedding created\n",
      "Endeavour Hydrothermal Vents Marine Protected Area Regulations\n"
     ]
    },
    {
     "name": "stderr",
     "output_type": "stream",
     "text": [
      "Processing Files:  40%|███▉      | 682/1721 [24:21<38:02,  2.20s/it]"
     ]
    },
    {
     "name": "stdout",
     "output_type": "stream",
     "text": [
      "Embedding created\n",
      "Designation of Regulatory Provisions for Purposes of Enforcement (Canada Wildlife Act) Regulations\n"
     ]
    },
    {
     "name": "stderr",
     "output_type": "stream",
     "text": [
      "Processing Files:  40%|███▉      | 683/1721 [24:23<37:18,  2.16s/it]"
     ]
    },
    {
     "name": "stdout",
     "output_type": "stream",
     "text": [
      "Embedding created\n",
      "Direction Respecting Tarmac Delays of Three Hours or Less\n"
     ]
    },
    {
     "name": "stderr",
     "output_type": "stream",
     "text": [
      "Processing Files:  40%|███▉      | 684/1721 [24:25<36:34,  2.12s/it]"
     ]
    },
    {
     "name": "stdout",
     "output_type": "stream",
     "text": [
      "Embedding created\n",
      "Regulations Prescribing Exclusions from Certain Definitions of the Criminal Code (International Sporting Competition Handguns)\n"
     ]
    },
    {
     "name": "stderr",
     "output_type": "stream",
     "text": [
      "Processing Files:  40%|███▉      | 685/1721 [24:27<35:31,  2.06s/it]"
     ]
    },
    {
     "name": "stdout",
     "output_type": "stream",
     "text": [
      "Embedding created\n",
      "Civilian Crews on Auxiliary Vessels Direction\n"
     ]
    },
    {
     "name": "stderr",
     "output_type": "stream",
     "text": [
      "Processing Files:  40%|███▉      | 686/1721 [24:29<36:32,  2.12s/it]"
     ]
    },
    {
     "name": "stdout",
     "output_type": "stream",
     "text": [
      "Embedding created\n",
      "Carrier Exemption Regulations\n"
     ]
    },
    {
     "name": "stderr",
     "output_type": "stream",
     "text": [
      "Processing Files:  40%|███▉      | 687/1721 [24:31<37:26,  2.17s/it]"
     ]
    },
    {
     "name": "stdout",
     "output_type": "stream",
     "text": [
      "Embedding created\n",
      "Export and Import of Hazardous Waste and Hazardous Recyclable Material Regulations\n"
     ]
    },
    {
     "name": "stderr",
     "output_type": "stream",
     "text": [
      "Processing Files:  40%|███▉      | 688/1721 [24:33<35:35,  2.07s/it]"
     ]
    },
    {
     "name": "stdout",
     "output_type": "stream",
     "text": [
      "Embedding created\n",
      "Glazed Ceramics and Glassware Regulations\n"
     ]
    },
    {
     "name": "stderr",
     "output_type": "stream",
     "text": [
      "Processing Files:  40%|████      | 689/1721 [24:35<34:41,  2.02s/it]"
     ]
    },
    {
     "name": "stdout",
     "output_type": "stream",
     "text": [
      "Embedding created\n",
      "Canada Oil and Gas Operations Administrative Monetary Penalties Regulations\n"
     ]
    },
    {
     "name": "stderr",
     "output_type": "stream",
     "text": [
      "Processing Files:  40%|████      | 690/1721 [24:37<35:18,  2.06s/it]"
     ]
    },
    {
     "name": "stdout",
     "output_type": "stream",
     "text": [
      "Embedding created\n",
      "CPFTA Verification of Origin Regulations\n"
     ]
    },
    {
     "name": "stderr",
     "output_type": "stream",
     "text": [
      "Processing Files:  40%|████      | 691/1721 [24:39<34:37,  2.02s/it]"
     ]
    },
    {
     "name": "stdout",
     "output_type": "stream",
     "text": [
      "Embedding created\n",
      "Agents’ Accounting for Imported Goods and Payment of Duties Regulations\n"
     ]
    },
    {
     "name": "stderr",
     "output_type": "stream",
     "text": [
      "Processing Files:  40%|████      | 692/1721 [24:41<35:31,  2.07s/it]"
     ]
    },
    {
     "name": "stdout",
     "output_type": "stream",
     "text": [
      "Embedding created\n",
      "Authority to Sell Veterinary Drugs Fees Regulations\n"
     ]
    },
    {
     "name": "stderr",
     "output_type": "stream",
     "text": [
      "Processing Files:  40%|████      | 693/1721 [24:44<36:28,  2.13s/it]"
     ]
    },
    {
     "name": "stdout",
     "output_type": "stream",
     "text": [
      "Embedding created\n",
      "Expansion Gates and Expandable Enclosures Regulations\n"
     ]
    },
    {
     "name": "stderr",
     "output_type": "stream",
     "text": [
      "Processing Files:  40%|████      | 694/1721 [24:48<46:48,  2.73s/it]"
     ]
    },
    {
     "name": "stdout",
     "output_type": "stream",
     "text": [
      "Embedding created\n",
      "Baie Verte Mines Inc. Regulations, 1985\n"
     ]
    },
    {
     "name": "stderr",
     "output_type": "stream",
     "text": [
      "Processing Files:  40%|████      | 695/1721 [24:50<42:38,  2.49s/it]"
     ]
    },
    {
     "name": "stdout",
     "output_type": "stream",
     "text": [
      "Embedding created\n",
      "Commonwealth of Learning, an Agency, Privileges and Immunities Order, 1988\n"
     ]
    },
    {
     "name": "stderr",
     "output_type": "stream",
     "text": [
      "Processing Files:  40%|████      | 696/1721 [24:52<41:10,  2.41s/it]"
     ]
    },
    {
     "name": "stdout",
     "output_type": "stream",
     "text": [
      "Embedding created\n",
      "Canadian Telecommunications Common Carrier Ownership and Control Regulations\n"
     ]
    },
    {
     "name": "stderr",
     "output_type": "stream",
     "text": [
      "Processing Files:  40%|████      | 697/1721 [24:54<38:27,  2.25s/it]"
     ]
    },
    {
     "name": "stdout",
     "output_type": "stream",
     "text": [
      "Embedding created\n",
      "General Import Permit No. 193 — Roses\n"
     ]
    },
    {
     "name": "stderr",
     "output_type": "stream",
     "text": [
      "Processing Files:  41%|████      | 698/1721 [24:56<36:49,  2.16s/it]"
     ]
    },
    {
     "name": "stdout",
     "output_type": "stream",
     "text": [
      "Embedding created\n",
      "Definition of “Small Retransmission Systems” Regulations\n"
     ]
    },
    {
     "name": "stderr",
     "output_type": "stream",
     "text": [
      "Processing Files:  41%|████      | 699/1721 [24:58<36:41,  2.15s/it]"
     ]
    },
    {
     "name": "stdout",
     "output_type": "stream",
     "text": [
      "Embedding created\n",
      "Apricot Stabilization Regulations, 1977\n"
     ]
    },
    {
     "name": "stderr",
     "output_type": "stream",
     "text": [
      "Processing Files:  41%|████      | 700/1721 [25:01<38:59,  2.29s/it]"
     ]
    },
    {
     "name": "stdout",
     "output_type": "stream",
     "text": [
      "Embedding created\n",
      "Brewery Departmental Regulations\n"
     ]
    },
    {
     "name": "stderr",
     "output_type": "stream",
     "text": [
      "Processing Files:  41%|████      | 701/1721 [25:03<39:28,  2.32s/it]"
     ]
    },
    {
     "name": "stdout",
     "output_type": "stream",
     "text": [
      "Embedding created\n",
      "Canadian Vickers Dry Dock Regulations\n"
     ]
    },
    {
     "name": "stderr",
     "output_type": "stream",
     "text": [
      "Processing Files:  41%|████      | 702/1721 [25:05<40:11,  2.37s/it]"
     ]
    },
    {
     "name": "stdout",
     "output_type": "stream",
     "text": [
      "Embedding created\n",
      "Certain Marine Carriers Remission Order, 2011\n"
     ]
    },
    {
     "name": "stderr",
     "output_type": "stream",
     "text": [
      "Processing Files:  41%|████      | 703/1721 [25:08<38:38,  2.28s/it]"
     ]
    },
    {
     "name": "stdout",
     "output_type": "stream",
     "text": [
      "Embedding created\n",
      "Critical Habitat of the Round Hickorynut (Obovaria subrotunda) Order\n"
     ]
    },
    {
     "name": "stderr",
     "output_type": "stream",
     "text": [
      "Processing Files:  41%|████      | 704/1721 [25:10<39:31,  2.33s/it]"
     ]
    },
    {
     "name": "stdout",
     "output_type": "stream",
     "text": [
      "Embedding created\n",
      "Bottled Domestic Spirits Remission Order\n"
     ]
    },
    {
     "name": "stderr",
     "output_type": "stream",
     "text": [
      "Processing Files:  41%|████      | 705/1721 [25:12<38:10,  2.25s/it]"
     ]
    },
    {
     "name": "stdout",
     "output_type": "stream",
     "text": [
      "Embedding created\n",
      "Acquisition of Permanent Resident Status Fee Remission Order\n"
     ]
    },
    {
     "name": "stderr",
     "output_type": "stream",
     "text": [
      "Processing Files:  41%|████      | 706/1721 [25:14<37:10,  2.20s/it]"
     ]
    },
    {
     "name": "stdout",
     "output_type": "stream",
     "text": [
      "Embedding not created\n",
      "Duties Relief Regulations\n"
     ]
    },
    {
     "name": "stderr",
     "output_type": "stream",
     "text": [
      "Processing Files:  41%|████      | 707/1721 [25:16<36:14,  2.14s/it]"
     ]
    },
    {
     "name": "stdout",
     "output_type": "stream",
     "text": [
      "Embedding created\n",
      "ACOA Loan Insurance Regulations\n"
     ]
    },
    {
     "name": "stderr",
     "output_type": "stream",
     "text": [
      "Processing Files:  41%|████      | 708/1721 [25:18<34:36,  2.05s/it]"
     ]
    },
    {
     "name": "stdout",
     "output_type": "stream",
     "text": [
      "Embedding created\n",
      "Order Respecting the First Legislative Assembly of Nunavut\n"
     ]
    },
    {
     "name": "stderr",
     "output_type": "stream",
     "text": [
      "Processing Files:  41%|████      | 709/1721 [25:20<33:13,  1.97s/it]"
     ]
    },
    {
     "name": "stdout",
     "output_type": "stream",
     "text": [
      "Embedding created\n",
      "Alberta Potato Marketing Levies (Interprovincial and Export) Order\n"
     ]
    },
    {
     "name": "stderr",
     "output_type": "stream",
     "text": [
      "Processing Files:  41%|████▏     | 710/1721 [25:22<33:29,  1.99s/it]"
     ]
    },
    {
     "name": "stdout",
     "output_type": "stream",
     "text": [
      "Embedding created\n",
      "Eligible Financial Contract Regulations (Canada Deposit Insurance Corporation Act)\n"
     ]
    },
    {
     "name": "stderr",
     "output_type": "stream",
     "text": [
      "Processing Files:  41%|████▏     | 711/1721 [25:24<33:32,  1.99s/it]"
     ]
    },
    {
     "name": "stdout",
     "output_type": "stream",
     "text": [
      "Embedding created\n",
      "Demonstration Aircraft Remission Order\n"
     ]
    },
    {
     "name": "stderr",
     "output_type": "stream",
     "text": [
      "Processing Files:  41%|████▏     | 712/1721 [25:26<34:21,  2.04s/it]"
     ]
    },
    {
     "name": "stdout",
     "output_type": "stream",
     "text": [
      "Embedding created\n",
      "Customs Duties Accelerated Reduction Order, No. 3\n"
     ]
    },
    {
     "name": "stderr",
     "output_type": "stream",
     "text": [
      "Processing Files:  41%|████▏     | 713/1721 [25:28<33:35,  2.00s/it]"
     ]
    },
    {
     "name": "stdout",
     "output_type": "stream",
     "text": [
      "Embedding created\n",
      "Dairy Products Regulations\n"
     ]
    },
    {
     "name": "stderr",
     "output_type": "stream",
     "text": [
      "Processing Files:  41%|████▏     | 714/1721 [25:30<32:53,  1.96s/it]"
     ]
    },
    {
     "name": "stdout",
     "output_type": "stream",
     "text": [
      "Embedding created\n",
      "Government Airport Concession Operations Regulations\n"
     ]
    },
    {
     "name": "stderr",
     "output_type": "stream",
     "text": [
      "Processing Files:  42%|████▏     | 715/1721 [25:32<33:05,  1.97s/it]"
     ]
    },
    {
     "name": "stdout",
     "output_type": "stream",
     "text": [
      "Embedding created\n",
      "Class I Nuclear Facilities Regulations\n"
     ]
    },
    {
     "name": "stderr",
     "output_type": "stream",
     "text": [
      "Processing Files:  42%|████▏     | 716/1721 [25:34<32:11,  1.92s/it]"
     ]
    },
    {
     "name": "stdout",
     "output_type": "stream",
     "text": [
      "Embedding created\n",
      "Order Varying Decision No. 712-W-1993 of the National Transportation Agency\n"
     ]
    },
    {
     "name": "stderr",
     "output_type": "stream",
     "text": [
      "Processing Files:  42%|████▏     | 717/1721 [25:35<32:19,  1.93s/it]"
     ]
    },
    {
     "name": "stdout",
     "output_type": "stream",
     "text": [
      "Embedding created\n",
      "Canadian Forces Employment Equity Regulations\n"
     ]
    },
    {
     "name": "stderr",
     "output_type": "stream",
     "text": [
      "Processing Files:  42%|████▏     | 718/1721 [25:37<31:36,  1.89s/it]"
     ]
    },
    {
     "name": "stdout",
     "output_type": "stream",
     "text": [
      "Embedding created\n",
      "Certain Fees in Respect of the Issuance of Passports (2017 British Columbia Forest Fires) Remission Order\n"
     ]
    },
    {
     "name": "stderr",
     "output_type": "stream",
     "text": [
      "Processing Files:  42%|████▏     | 719/1721 [25:40<33:42,  2.02s/it]"
     ]
    },
    {
     "name": "stdout",
     "output_type": "stream",
     "text": [
      "Embedding created\n",
      "Ferry Cable Regulations\n"
     ]
    },
    {
     "name": "stderr",
     "output_type": "stream",
     "text": [
      "Processing Files:  42%|████▏     | 720/1721 [25:41<33:09,  1.99s/it]"
     ]
    },
    {
     "name": "stdout",
     "output_type": "stream",
     "text": [
      "Embedding created\n",
      "Air Canada Pension Plan Solvency Deficiency Funding Regulations\n"
     ]
    },
    {
     "name": "stderr",
     "output_type": "stream",
     "text": [
      "Processing Files:  42%|████▏     | 721/1721 [25:44<35:05,  2.11s/it]"
     ]
    },
    {
     "name": "stdout",
     "output_type": "stream",
     "text": [
      "Embedding created\n",
      "Feed Grain Transportation and Storage Assistance Regulations\n"
     ]
    },
    {
     "name": "stderr",
     "output_type": "stream",
     "text": [
      "Processing Files:  42%|████▏     | 722/1721 [25:46<34:13,  2.06s/it]"
     ]
    },
    {
     "name": "stdout",
     "output_type": "stream",
     "text": [
      "Embedding created\n",
      "Charitable Food Donations Anti-dumping and Countervailing Duty Remission Order\n"
     ]
    },
    {
     "name": "stderr",
     "output_type": "stream",
     "text": [
      "Processing Files:  42%|████▏     | 723/1721 [25:48<33:13,  2.00s/it]"
     ]
    },
    {
     "name": "stdout",
     "output_type": "stream",
     "text": [
      "Embedding created\n",
      "Department of Social Development Regulations\n"
     ]
    },
    {
     "name": "stderr",
     "output_type": "stream",
     "text": [
      "Processing Files:  42%|████▏     | 724/1721 [25:50<33:05,  1.99s/it]"
     ]
    },
    {
     "name": "stdout",
     "output_type": "stream",
     "text": [
      "Embedding created\n",
      "Canada Oil and Gas Certificate of Fitness Regulations\n"
     ]
    },
    {
     "name": "stderr",
     "output_type": "stream",
     "text": [
      "Processing Files:  42%|████▏     | 725/1721 [25:52<34:14,  2.06s/it]"
     ]
    },
    {
     "name": "stdout",
     "output_type": "stream",
     "text": [
      "Embedding created\n",
      "Chlor-Alkali Mercury Release Regulations\n"
     ]
    },
    {
     "name": "stderr",
     "output_type": "stream",
     "text": [
      "Processing Files:  42%|████▏     | 726/1721 [25:54<33:31,  2.02s/it]"
     ]
    },
    {
     "name": "stdout",
     "output_type": "stream",
     "text": [
      "Embedding created\n",
      "Annual Statement (Cooperative Credit Associations) Regulations\n"
     ]
    },
    {
     "name": "stderr",
     "output_type": "stream",
     "text": [
      "Processing Files:  42%|████▏     | 727/1721 [25:57<37:14,  2.25s/it]"
     ]
    },
    {
     "name": "stdout",
     "output_type": "stream",
     "text": [
      "Embedding created\n",
      "Accountable Education and Travel Advance Regulations (Dependants of Members of the Canadian Forces)\n"
     ]
    },
    {
     "name": "stderr",
     "output_type": "stream",
     "text": [
      "Processing Files:  42%|████▏     | 728/1721 [25:59<35:47,  2.16s/it]"
     ]
    },
    {
     "name": "stdout",
     "output_type": "stream",
     "text": [
      "Embedding not created\n",
      "Continuation of Amalgamated or Merged Corporations Regulations\n"
     ]
    },
    {
     "name": "stderr",
     "output_type": "stream",
     "text": [
      "Processing Files:  42%|████▏     | 729/1721 [26:01<35:15,  2.13s/it]"
     ]
    },
    {
     "name": "stdout",
     "output_type": "stream",
     "text": [
      "Embedding created\n",
      "CEFTA Rules of Origin for Casual Goods Regulations\n"
     ]
    },
    {
     "name": "stderr",
     "output_type": "stream",
     "text": [
      "Processing Files:  42%|████▏     | 730/1721 [26:03<35:58,  2.18s/it]"
     ]
    },
    {
     "name": "stdout",
     "output_type": "stream",
     "text": [
      "Embedding created\n",
      "Chesterfield Inlet Airport Zoning Regulations\n"
     ]
    },
    {
     "name": "stderr",
     "output_type": "stream",
     "text": [
      "Processing Files:  42%|████▏     | 731/1721 [26:05<34:29,  2.09s/it]"
     ]
    },
    {
     "name": "stdout",
     "output_type": "stream",
     "text": [
      "Embedding created\n",
      "Regulations Prescribing Antique Firearms\n"
     ]
    },
    {
     "name": "stderr",
     "output_type": "stream",
     "text": [
      "Processing Files:  43%|████▎     | 732/1721 [26:07<34:53,  2.12s/it]"
     ]
    },
    {
     "name": "stdout",
     "output_type": "stream",
     "text": [
      "Embedding created\n",
      "CCRFTA Sugar Aggregate Quantity Limit Remission Order\n"
     ]
    },
    {
     "name": "stderr",
     "output_type": "stream",
     "text": [
      "Processing Files:  43%|████▎     | 733/1721 [26:09<34:13,  2.08s/it]"
     ]
    },
    {
     "name": "stdout",
     "output_type": "stream",
     "text": [
      "Embedding created\n",
      "160900 Canada Inc. Acquisition Exemption Order\n"
     ]
    },
    {
     "name": "stderr",
     "output_type": "stream",
     "text": [
      "Processing Files:  43%|████▎     | 734/1721 [26:11<34:34,  2.10s/it]"
     ]
    },
    {
     "name": "stdout",
     "output_type": "stream",
     "text": [
      "Embedding created\n",
      "Food Research and Development Centre Fees Order\n"
     ]
    },
    {
     "name": "stderr",
     "output_type": "stream",
     "text": [
      "Processing Files:  43%|████▎     | 735/1721 [26:13<33:45,  2.05s/it]"
     ]
    },
    {
     "name": "stdout",
     "output_type": "stream",
     "text": [
      "Embedding created\n",
      "Aids to Navigation Protection Regulations\n"
     ]
    },
    {
     "name": "stderr",
     "output_type": "stream",
     "text": [
      "Processing Files:  43%|████▎     | 736/1721 [26:15<34:00,  2.07s/it]"
     ]
    },
    {
     "name": "stdout",
     "output_type": "stream",
     "text": [
      "Embedding created\n",
      "Canadian Forces Grievance Board Rules of Procedure (Review of a Grievance by Way of a Hearing)\n"
     ]
    },
    {
     "name": "stderr",
     "output_type": "stream",
     "text": [
      "Processing Files:  43%|████▎     | 737/1721 [26:17<34:11,  2.09s/it]"
     ]
    },
    {
     "name": "stdout",
     "output_type": "stream",
     "text": [
      "Embedding created\n",
      "Broadcast Technical Data Services Fees Order\n"
     ]
    },
    {
     "name": "stderr",
     "output_type": "stream",
     "text": [
      "Processing Files:  43%|████▎     | 738/1721 [26:19<32:59,  2.01s/it]"
     ]
    },
    {
     "name": "stdout",
     "output_type": "stream",
     "text": [
      "Embedding created\n",
      "Canadian Cultural Property Export Control List\n"
     ]
    },
    {
     "name": "stderr",
     "output_type": "stream",
     "text": [
      "Processing Files:  43%|████▎     | 739/1721 [26:21<33:17,  2.03s/it]"
     ]
    },
    {
     "name": "stdout",
     "output_type": "stream",
     "text": [
      "Embedding created\n",
      "Comprehensive Study List Regulations\n"
     ]
    },
    {
     "name": "stderr",
     "output_type": "stream",
     "text": [
      "Processing Files:  43%|████▎     | 740/1721 [26:23<32:48,  2.01s/it]"
     ]
    },
    {
     "name": "stdout",
     "output_type": "stream",
     "text": [
      "Embedding created\n",
      "Canada Deposit Insurance Corporation Resolution Planning By-law\n"
     ]
    },
    {
     "name": "stderr",
     "output_type": "stream",
     "text": [
      "Processing Files:  43%|████▎     | 741/1721 [26:25<33:07,  2.03s/it]"
     ]
    },
    {
     "name": "stdout",
     "output_type": "stream",
     "text": [
      "Embedding created\n",
      "Exemption Regulations (Consumer Products)\n"
     ]
    },
    {
     "name": "stderr",
     "output_type": "stream",
     "text": [
      "Processing Files:  43%|████▎     | 742/1721 [26:27<32:20,  1.98s/it]"
     ]
    },
    {
     "name": "stdout",
     "output_type": "stream",
     "text": [
      "Embedding created\n",
      "Comox Airport Zoning Regulations\n"
     ]
    },
    {
     "name": "stderr",
     "output_type": "stream",
     "text": [
      "Processing Files:  43%|████▎     | 743/1721 [26:30<34:39,  2.13s/it]"
     ]
    },
    {
     "name": "stdout",
     "output_type": "stream",
     "text": [
      "Embedding created\n",
      "Canada – European Union Tariff Withdrawal Order (United Kingdom)\n"
     ]
    },
    {
     "name": "stderr",
     "output_type": "stream",
     "text": [
      "Processing Files:  43%|████▎     | 744/1721 [26:32<35:50,  2.20s/it]"
     ]
    },
    {
     "name": "stdout",
     "output_type": "stream",
     "text": [
      "Embedding created\n",
      "Canada Industrial Relations Board Regulations, 2012\n"
     ]
    },
    {
     "name": "stderr",
     "output_type": "stream",
     "text": [
      "Processing Files:  43%|████▎     | 745/1721 [26:34<34:31,  2.12s/it]"
     ]
    },
    {
     "name": "stdout",
     "output_type": "stream",
     "text": [
      "Embedding created\n",
      "Canola 1989 Period Stabilization Regulations\n"
     ]
    },
    {
     "name": "stderr",
     "output_type": "stream",
     "text": [
      "Processing Files:  43%|████▎     | 746/1721 [26:36<34:37,  2.13s/it]"
     ]
    },
    {
     "name": "stdout",
     "output_type": "stream",
     "text": [
      "Embedding created\n",
      "Board of Steamship Inspection Scale of Fees\n"
     ]
    },
    {
     "name": "stderr",
     "output_type": "stream",
     "text": [
      "Processing Files:  43%|████▎     | 747/1721 [26:38<34:03,  2.10s/it]"
     ]
    },
    {
     "name": "stdout",
     "output_type": "stream",
     "text": [
      "Embedding created\n",
      "Circumstances for Excluding Periods from Time Limits Regulations\n"
     ]
    },
    {
     "name": "stderr",
     "output_type": "stream",
     "text": [
      "Processing Files:  43%|████▎     | 748/1721 [26:40<33:26,  2.06s/it]"
     ]
    },
    {
     "name": "stdout",
     "output_type": "stream",
     "text": [
      "Embedding created\n",
      "Equity of a Trust and Loan Company Regulations\n"
     ]
    },
    {
     "name": "stderr",
     "output_type": "stream",
     "text": [
      "Processing Files:  44%|████▎     | 749/1721 [26:42<33:51,  2.09s/it]"
     ]
    },
    {
     "name": "stdout",
     "output_type": "stream",
     "text": [
      "Embedding created\n",
      "Regulations Respecting Applications for Ministerial Review — Miscarriages of Justice\n"
     ]
    },
    {
     "name": "stderr",
     "output_type": "stream",
     "text": [
      "Processing Files:  44%|████▎     | 750/1721 [26:44<32:37,  2.02s/it]"
     ]
    },
    {
     "name": "stdout",
     "output_type": "stream",
     "text": [
      "Embedding created\n",
      "Ginn and Company (Canada) and GLC Publishers Limited Acquisition of Shares Order\n"
     ]
    },
    {
     "name": "stderr",
     "output_type": "stream",
     "text": [
      "Processing Files:  44%|████▎     | 751/1721 [26:46<32:53,  2.03s/it]"
     ]
    },
    {
     "name": "stdout",
     "output_type": "stream",
     "text": [
      "Embedding created\n",
      "Establishment Licence Fees Remission Order (Indication of an Activity in respect of a COVID-19 Drug)\n"
     ]
    },
    {
     "name": "stderr",
     "output_type": "stream",
     "text": [
      "Processing Files:  44%|████▎     | 752/1721 [26:48<32:51,  2.03s/it]"
     ]
    },
    {
     "name": "stdout",
     "output_type": "stream",
     "text": [
      "Embedding created\n",
      "Canadian Peacekeeping Service Medal Award Regulations\n"
     ]
    },
    {
     "name": "stderr",
     "output_type": "stream",
     "text": [
      "Processing Files:  44%|████▍     | 753/1721 [26:50<31:31,  1.95s/it]"
     ]
    },
    {
     "name": "stdout",
     "output_type": "stream",
     "text": [
      "Embedding created\n",
      "Financial Consumer Agency of Canada Assessment of Financial Institutions Regulations\n"
     ]
    },
    {
     "name": "stderr",
     "output_type": "stream",
     "text": [
      "Processing Files:  44%|████▍     | 754/1721 [26:52<33:12,  2.06s/it]"
     ]
    },
    {
     "name": "stdout",
     "output_type": "stream",
     "text": [
      "Embedding created\n",
      "Clean Fuel Regulations\n"
     ]
    },
    {
     "name": "stderr",
     "output_type": "stream",
     "text": [
      "Processing Files:  44%|████▍     | 755/1721 [26:54<32:41,  2.03s/it]"
     ]
    },
    {
     "name": "stdout",
     "output_type": "stream",
     "text": [
      "Embedding created\n",
      "Critical Habitat of the Harbour Seal Lacs des Loups Marins subspecies (Phoca vitulina mellonae) Order\n"
     ]
    },
    {
     "name": "stderr",
     "output_type": "stream",
     "text": [
      "Processing Files:  44%|████▍     | 756/1721 [26:57<34:10,  2.13s/it]"
     ]
    },
    {
     "name": "stdout",
     "output_type": "stream",
     "text": [
      "Embedding created\n",
      "Bagotville Airport Zoning Regulations\n"
     ]
    },
    {
     "name": "stderr",
     "output_type": "stream",
     "text": [
      "Processing Files:  44%|████▍     | 757/1721 [26:59<34:12,  2.13s/it]"
     ]
    },
    {
     "name": "stdout",
     "output_type": "stream",
     "text": [
      "Embedding created\n",
      "Canadian Egg Licensing Regulations, 1987\n"
     ]
    },
    {
     "name": "stderr",
     "output_type": "stream",
     "text": [
      "Processing Files:  44%|████▍     | 758/1721 [27:01<33:18,  2.08s/it]"
     ]
    },
    {
     "name": "stdout",
     "output_type": "stream",
     "text": [
      "Embedding created\n",
      "Financing Secured by Other Revenues Regulations\n"
     ]
    },
    {
     "name": "stderr",
     "output_type": "stream",
     "text": [
      "Processing Files:  44%|████▍     | 759/1721 [27:03<33:26,  2.09s/it]"
     ]
    },
    {
     "name": "stdout",
     "output_type": "stream",
     "text": [
      "Embedding created\n",
      "Ferry-Boats Remission Order, 2016\n"
     ]
    },
    {
     "name": "stderr",
     "output_type": "stream",
     "text": [
      "Processing Files:  44%|████▍     | 760/1721 [27:05<32:41,  2.04s/it]"
     ]
    },
    {
     "name": "stdout",
     "output_type": "stream",
     "text": [
      "Embedding created\n",
      "Faro Airport Zoning Regulations\n"
     ]
    },
    {
     "name": "stderr",
     "output_type": "stream",
     "text": [
      "Processing Files:  44%|████▍     | 761/1721 [27:06<31:32,  1.97s/it]"
     ]
    },
    {
     "name": "stdout",
     "output_type": "stream",
     "text": [
      "Embedding created\n",
      "Appropriation Act No. 1, 1977, Leasing Regulations\n"
     ]
    },
    {
     "name": "stderr",
     "output_type": "stream",
     "text": [
      "Processing Files:  44%|████▍     | 762/1721 [27:09<32:11,  2.01s/it]"
     ]
    },
    {
     "name": "stdout",
     "output_type": "stream",
     "text": [
      "Embedding created\n",
      "European Space Agency Privileges and Immunities Order\n"
     ]
    },
    {
     "name": "stderr",
     "output_type": "stream",
     "text": [
      "Processing Files:  44%|████▍     | 763/1721 [27:11<33:54,  2.12s/it]"
     ]
    },
    {
     "name": "stdout",
     "output_type": "stream",
     "text": [
      "Embedding created\n",
      "Fees for the Addition of an Observation to or for the Replacement of Travel Documents, Permanent Resident Cards and Citizenship Certificates Remission Order\n"
     ]
    },
    {
     "name": "stderr",
     "output_type": "stream",
     "text": [
      "Processing Files:  44%|████▍     | 764/1721 [27:13<34:29,  2.16s/it]"
     ]
    },
    {
     "name": "stdout",
     "output_type": "stream",
     "text": [
      "Embedding created\n",
      "Amalgamations and Windings-Up Continuation (GST/HST) Regulations\n"
     ]
    },
    {
     "name": "stderr",
     "output_type": "stream",
     "text": [
      "Processing Files:  44%|████▍     | 765/1721 [27:15<34:50,  2.19s/it]"
     ]
    },
    {
     "name": "stdout",
     "output_type": "stream",
     "text": [
      "Embedding created\n",
      "Apple Stabilization Regulations, 1982-83\n"
     ]
    },
    {
     "name": "stderr",
     "output_type": "stream",
     "text": [
      "Processing Files:  45%|████▍     | 766/1721 [27:18<34:45,  2.18s/it]"
     ]
    },
    {
     "name": "stdout",
     "output_type": "stream",
     "text": [
      "Embedding created\n",
      "Alberta Rules of Practice Respecting Reduction in the Number of Years of Imprisonment without Eligibility for Parole\n"
     ]
    },
    {
     "name": "stderr",
     "output_type": "stream",
     "text": [
      "Processing Files:  45%|████▍     | 767/1721 [27:20<33:55,  2.13s/it]"
     ]
    },
    {
     "name": "stdout",
     "output_type": "stream",
     "text": [
      "Embedding created\n",
      "Fishery (General) Regulations\n"
     ]
    },
    {
     "name": "stderr",
     "output_type": "stream",
     "text": [
      "Processing Files:  45%|████▍     | 768/1721 [27:22<34:58,  2.20s/it]"
     ]
    },
    {
     "name": "stdout",
     "output_type": "stream",
     "text": [
      "Embedding created\n",
      "Canadian Human Rights Tribunal Rules of Procedure, 2021\n"
     ]
    },
    {
     "name": "stderr",
     "output_type": "stream",
     "text": [
      "Processing Files:  45%|████▍     | 769/1721 [27:24<35:01,  2.21s/it]"
     ]
    },
    {
     "name": "stdout",
     "output_type": "stream",
     "text": [
      "Embedding created\n",
      "Canada Cycle and Motor Company Limited Enterprise Development Regulations\n"
     ]
    },
    {
     "name": "stderr",
     "output_type": "stream",
     "text": [
      "Processing Files:  45%|████▍     | 770/1721 [27:26<34:05,  2.15s/it]"
     ]
    },
    {
     "name": "stdout",
     "output_type": "stream",
     "text": [
      "Embedding created\n",
      "Handling of Carloads of Explosives on Railway Trackage Regulations\n"
     ]
    },
    {
     "name": "stderr",
     "output_type": "stream",
     "text": [
      "Processing Files:  45%|████▍     | 771/1721 [27:28<32:47,  2.07s/it]"
     ]
    },
    {
     "name": "stdout",
     "output_type": "stream",
     "text": [
      "Embedding created\n",
      "Ballast Water Regulations\n"
     ]
    },
    {
     "name": "stderr",
     "output_type": "stream",
     "text": [
      "Processing Files:  45%|████▍     | 772/1721 [27:30<32:24,  2.05s/it]"
     ]
    },
    {
     "name": "stdout",
     "output_type": "stream",
     "text": [
      "Embedding created\n",
      "Order Governing the Grant of the Memorial Cross (Canadian Forces)\n"
     ]
    },
    {
     "name": "stderr",
     "output_type": "stream",
     "text": [
      "Processing Files:  45%|████▍     | 773/1721 [27:32<33:10,  2.10s/it]"
     ]
    },
    {
     "name": "stdout",
     "output_type": "stream",
     "text": [
      "Embedding created\n",
      "Explosives Regulations\n"
     ]
    },
    {
     "name": "stderr",
     "output_type": "stream",
     "text": [
      "Processing Files:  45%|████▍     | 774/1721 [27:35<33:54,  2.15s/it]"
     ]
    },
    {
     "name": "stdout",
     "output_type": "stream",
     "text": [
      "Embedding created\n",
      "Accessible Transportation Planning and Reporting Regulations\n"
     ]
    },
    {
     "name": "stderr",
     "output_type": "stream",
     "text": [
      "Processing Files:  45%|████▌     | 775/1721 [27:37<32:55,  2.09s/it]"
     ]
    },
    {
     "name": "stdout",
     "output_type": "stream",
     "text": [
      "Embedding not created\n",
      "Annual Statement (Trust and Loan Companies) Regulations\n"
     ]
    },
    {
     "name": "stderr",
     "output_type": "stream",
     "text": [
      "Processing Files:  45%|████▌     | 776/1721 [27:39<32:27,  2.06s/it]"
     ]
    },
    {
     "name": "stdout",
     "output_type": "stream",
     "text": [
      "Embedding created\n",
      "Disclosure on Continuance Regulations (Federal Credit Unions)\n"
     ]
    },
    {
     "name": "stderr",
     "output_type": "stream",
     "text": [
      "Processing Files:  45%|████▌     | 777/1721 [27:41<31:54,  2.03s/it]"
     ]
    },
    {
     "name": "stdout",
     "output_type": "stream",
     "text": [
      "Embedding created\n",
      "Air Canada Pension Plan Funding Regulations, 2009\n"
     ]
    },
    {
     "name": "stderr",
     "output_type": "stream",
     "text": [
      "Processing Files:  45%|████▌     | 778/1721 [27:42<30:52,  1.96s/it]"
     ]
    },
    {
     "name": "stdout",
     "output_type": "stream",
     "text": [
      "Embedding created\n",
      "Air Cushion Vehicle Regulations\n"
     ]
    },
    {
     "name": "stderr",
     "output_type": "stream",
     "text": [
      "Processing Files:  45%|████▌     | 779/1721 [27:44<30:28,  1.94s/it]"
     ]
    },
    {
     "name": "stdout",
     "output_type": "stream",
     "text": [
      "Embedding created\n",
      "Going-Private Transaction (Insurance Companies and Insurance Holding Companies) Regulations\n"
     ]
    },
    {
     "name": "stderr",
     "output_type": "stream",
     "text": [
      "Processing Files:  45%|████▌     | 780/1721 [27:47<32:20,  2.06s/it]"
     ]
    },
    {
     "name": "stdout",
     "output_type": "stream",
     "text": [
      "Embedding created\n",
      "Federal Mobile PCB Treatment and Destruction Regulations\n"
     ]
    },
    {
     "name": "stderr",
     "output_type": "stream",
     "text": [
      "Processing Files:  45%|████▌     | 781/1721 [27:49<36:21,  2.32s/it]"
     ]
    },
    {
     "name": "stdout",
     "output_type": "stream",
     "text": [
      "Embedding created\n",
      "Cannabis Exemption (Food and Drugs Act) Regulations\n"
     ]
    },
    {
     "name": "stderr",
     "output_type": "stream",
     "text": [
      "Processing Files:  45%|████▌     | 782/1721 [27:52<36:44,  2.35s/it]"
     ]
    },
    {
     "name": "stdout",
     "output_type": "stream",
     "text": [
      "Embedding created\n",
      "Critical Habitat of the Paxton Lake Benthic Threespine Stickleback (Gasterosteus aculeatus) Order\n"
     ]
    },
    {
     "name": "stderr",
     "output_type": "stream",
     "text": [
      "Processing Files:  45%|████▌     | 783/1721 [27:54<36:43,  2.35s/it]"
     ]
    },
    {
     "name": "stdout",
     "output_type": "stream",
     "text": [
      "Embedding created\n",
      "G8 Summit Privileges and Immunities Order, 2002\n"
     ]
    },
    {
     "name": "stderr",
     "output_type": "stream",
     "text": [
      "Processing Files:  46%|████▌     | 784/1721 [27:57<36:28,  2.34s/it]"
     ]
    },
    {
     "name": "stdout",
     "output_type": "stream",
     "text": [
      "Embedding created\n",
      "Complaint Information (Canadian Insurance Companies) Regulations\n"
     ]
    },
    {
     "name": "stderr",
     "output_type": "stream",
     "text": [
      "Processing Files:  46%|████▌     | 785/1721 [27:59<37:00,  2.37s/it]"
     ]
    },
    {
     "name": "stdout",
     "output_type": "stream",
     "text": [
      "Embedding created\n",
      "Former Members of Parliament Elections for Joint and Survivor Benefits Regulations\n"
     ]
    },
    {
     "name": "stderr",
     "output_type": "stream",
     "text": [
      "Processing Files:  46%|████▌     | 786/1721 [28:01<35:02,  2.25s/it]"
     ]
    },
    {
     "name": "stdout",
     "output_type": "stream",
     "text": [
      "Embedding created\n",
      "Cree-Naskapi Long-Term Borrowing Regulations, 1986\n"
     ]
    },
    {
     "name": "stderr",
     "output_type": "stream",
     "text": [
      "Processing Files:  46%|████▌     | 787/1721 [28:03<33:24,  2.15s/it]"
     ]
    },
    {
     "name": "stdout",
     "output_type": "stream",
     "text": [
      "Embedding created\n",
      "Access to Information Act Officers or Employees of the Atomic Energy Control Board Designation Order\n"
     ]
    },
    {
     "name": "stderr",
     "output_type": "stream",
     "text": [
      "Processing Files:  46%|████▌     | 788/1721 [28:05<33:47,  2.17s/it]"
     ]
    },
    {
     "name": "stdout",
     "output_type": "stream",
     "text": [
      "Embedding created\n",
      "Fish Inspection Regulations\n"
     ]
    },
    {
     "name": "stderr",
     "output_type": "stream",
     "text": [
      "Processing Files:  46%|████▌     | 789/1721 [28:07<33:03,  2.13s/it]"
     ]
    },
    {
     "name": "stdout",
     "output_type": "stream",
     "text": [
      "Embedding created\n",
      "Broadcasting Distribution Regulations\n"
     ]
    },
    {
     "name": "stderr",
     "output_type": "stream",
     "text": [
      "Processing Files:  46%|████▌     | 790/1721 [28:09<32:24,  2.09s/it]"
     ]
    },
    {
     "name": "stdout",
     "output_type": "stream",
     "text": [
      "Embedding created\n",
      "Aggregate Financial Exposure (Trust and Loan Companies) Regulations\n"
     ]
    },
    {
     "name": "stderr",
     "output_type": "stream",
     "text": [
      "Processing Files:  46%|████▌     | 791/1721 [28:11<31:46,  2.05s/it]"
     ]
    },
    {
     "name": "stdout",
     "output_type": "stream",
     "text": [
      "Embedding created\n",
      "Agassiz Correctional Camp, Petawawa Correctional Camp and Gatineau Correctional Camp Lands Proclaimed Penitentiaries\n"
     ]
    },
    {
     "name": "stderr",
     "output_type": "stream",
     "text": [
      "Processing Files:  46%|████▌     | 792/1721 [28:14<34:55,  2.26s/it]"
     ]
    },
    {
     "name": "stdout",
     "output_type": "stream",
     "text": [
      "Embedding not created\n",
      "Footwear and Tanning Industries Assistance Regulations\n"
     ]
    },
    {
     "name": "stderr",
     "output_type": "stream",
     "text": [
      "Processing Files:  46%|████▌     | 793/1721 [28:16<33:43,  2.18s/it]"
     ]
    },
    {
     "name": "stdout",
     "output_type": "stream",
     "text": [
      "Embedding created\n",
      "Exemption Order No. 1, 1997 (Sending of Notices and Documents)\n"
     ]
    },
    {
     "name": "stderr",
     "output_type": "stream",
     "text": [
      "Processing Files:  46%|████▌     | 794/1721 [28:18<32:45,  2.12s/it]"
     ]
    },
    {
     "name": "stdout",
     "output_type": "stream",
     "text": [
      "Embedding created\n",
      "Atlantic Pilotage Authority Regulations\n"
     ]
    },
    {
     "name": "stderr",
     "output_type": "stream",
     "text": [
      "Processing Files:  46%|████▌     | 795/1721 [28:20<31:47,  2.06s/it]"
     ]
    },
    {
     "name": "stdout",
     "output_type": "stream",
     "text": [
      "Embedding created\n",
      "Declarations Regulations (Chemical Weapons Convention)\n"
     ]
    },
    {
     "name": "stderr",
     "output_type": "stream",
     "text": [
      "Processing Files:  46%|████▋     | 796/1721 [28:22<32:09,  2.09s/it]"
     ]
    },
    {
     "name": "stdout",
     "output_type": "stream",
     "text": [
      "Embedding created\n",
      "Brokering Control List\n"
     ]
    },
    {
     "name": "stderr",
     "output_type": "stream",
     "text": [
      "Processing Files:  46%|████▋     | 797/1721 [28:24<31:53,  2.07s/it]"
     ]
    },
    {
     "name": "stdout",
     "output_type": "stream",
     "text": [
      "Embedding created\n",
      "Airport Transfer Regulations\n"
     ]
    },
    {
     "name": "stderr",
     "output_type": "stream",
     "text": [
      "Processing Files:  46%|████▋     | 798/1721 [28:26<30:51,  2.01s/it]"
     ]
    },
    {
     "name": "stdout",
     "output_type": "stream",
     "text": [
      "Embedding created\n",
      "Regulations Respecting Compulsory Insurance for Ships Carrying Passengers\n"
     ]
    },
    {
     "name": "stderr",
     "output_type": "stream",
     "text": [
      "Processing Files:  46%|████▋     | 799/1721 [28:28<31:00,  2.02s/it]"
     ]
    },
    {
     "name": "stdout",
     "output_type": "stream",
     "text": [
      "Embedding created\n",
      "Exemption from Deposit Insurance By-law (Foreign Currency Deposits)\n"
     ]
    },
    {
     "name": "stderr",
     "output_type": "stream",
     "text": [
      "Processing Files:  46%|████▋     | 800/1721 [28:30<31:12,  2.03s/it]"
     ]
    },
    {
     "name": "stdout",
     "output_type": "stream",
     "text": [
      "Embedding created\n",
      "Guitar Parts Remission Order, 1994\n"
     ]
    },
    {
     "name": "stderr",
     "output_type": "stream",
     "text": [
      "Processing Files:  47%|████▋     | 801/1721 [28:32<30:40,  2.00s/it]"
     ]
    },
    {
     "name": "stdout",
     "output_type": "stream",
     "text": [
      "Embedding created\n",
      "Experts on Missions for the Organization for the Prohibition of Chemical Weapons Privileges and Immunities in Canada Order\n"
     ]
    },
    {
     "name": "stderr",
     "output_type": "stream",
     "text": [
      "Processing Files:  47%|████▋     | 802/1721 [28:34<30:45,  2.01s/it]"
     ]
    },
    {
     "name": "stdout",
     "output_type": "stream",
     "text": [
      "Embedding created\n",
      "Computer Generated Mailing List Remission Order\n"
     ]
    },
    {
     "name": "stderr",
     "output_type": "stream",
     "text": [
      "Processing Files:  47%|████▋     | 803/1721 [28:36<31:00,  2.03s/it]"
     ]
    },
    {
     "name": "stdout",
     "output_type": "stream",
     "text": [
      "Embedding created\n",
      "Order Extending the Application of Section 14 of that Act for a Period of Five Years\n"
     ]
    },
    {
     "name": "stderr",
     "output_type": "stream",
     "text": [
      "Processing Files:  47%|████▋     | 804/1721 [28:38<29:46,  1.95s/it]"
     ]
    },
    {
     "name": "stdout",
     "output_type": "stream",
     "text": [
      "Embedding created\n",
      "Canadian Payments Association Reporting Requirements Regulations\n"
     ]
    },
    {
     "name": "stderr",
     "output_type": "stream",
     "text": [
      "Processing Files:  47%|████▋     | 805/1721 [28:40<29:52,  1.96s/it]"
     ]
    },
    {
     "name": "stdout",
     "output_type": "stream",
     "text": [
      "Embedding created\n",
      "Distributing Trust and Loan Company Regulations\n"
     ]
    },
    {
     "name": "stderr",
     "output_type": "stream",
     "text": [
      "Processing Files:  47%|████▋     | 806/1721 [28:42<29:37,  1.94s/it]"
     ]
    },
    {
     "name": "stdout",
     "output_type": "stream",
     "text": [
      "Embedding created\n",
      "Electronic Alternatives Regulations for the Purposes of Subsection 254(1) of the Canada Labour Code\n"
     ]
    },
    {
     "name": "stderr",
     "output_type": "stream",
     "text": [
      "Processing Files:  47%|████▋     | 807/1721 [28:44<30:23,  1.99s/it]"
     ]
    },
    {
     "name": "stdout",
     "output_type": "stream",
     "text": [
      "Embedding created\n",
      "Boating Restriction Regulations\n"
     ]
    },
    {
     "name": "stderr",
     "output_type": "stream",
     "text": [
      "Processing Files:  47%|████▋     | 808/1721 [28:46<30:17,  1.99s/it]"
     ]
    },
    {
     "name": "stdout",
     "output_type": "stream",
     "text": [
      "Embedding created\n",
      "Electricity and Gas Inspection Regulations\n"
     ]
    },
    {
     "name": "stderr",
     "output_type": "stream",
     "text": [
      "Processing Files:  47%|████▋     | 809/1721 [28:48<30:14,  1.99s/it]"
     ]
    },
    {
     "name": "stdout",
     "output_type": "stream",
     "text": [
      "Embedding created\n",
      "Crown Corporations Involved in the Provision of Commercial Loans Environmental Assessment Regulations\n"
     ]
    },
    {
     "name": "stderr",
     "output_type": "stream",
     "text": [
      "Processing Files:  47%|████▋     | 810/1721 [28:52<41:19,  2.72s/it]"
     ]
    },
    {
     "name": "stdout",
     "output_type": "stream",
     "text": [
      "Embedding created\n",
      "Educational Program, Work and Other Subject-matter Record-keeping Regulations\n"
     ]
    },
    {
     "name": "stderr",
     "output_type": "stream",
     "text": [
      "Processing Files:  47%|████▋     | 811/1721 [28:54<38:11,  2.52s/it]"
     ]
    },
    {
     "name": "stdout",
     "output_type": "stream",
     "text": [
      "Embedding created\n",
      "Credit Business Practices (Trust and Loan Companies, Retail Associations, Canadian Insurance Companies and Foreign Insurance Companies) Regulations\n"
     ]
    },
    {
     "name": "stderr",
     "output_type": "stream",
     "text": [
      "Processing Files:  47%|████▋     | 812/1721 [28:56<34:54,  2.30s/it]"
     ]
    },
    {
     "name": "stdout",
     "output_type": "stream",
     "text": [
      "Embedding created\n",
      "Direction to the CRTC (Ineligibility to Hold Broadcasting Licences)\n"
     ]
    },
    {
     "name": "stderr",
     "output_type": "stream",
     "text": [
      "Processing Files:  47%|████▋     | 813/1721 [28:58<33:18,  2.20s/it]"
     ]
    },
    {
     "name": "stdout",
     "output_type": "stream",
     "text": [
      "Embedding created\n",
      "Canada Student Financial Assistance Regulations\n"
     ]
    },
    {
     "name": "stderr",
     "output_type": "stream",
     "text": [
      "Processing Files:  47%|████▋     | 814/1721 [29:00<33:16,  2.20s/it]"
     ]
    },
    {
     "name": "stdout",
     "output_type": "stream",
     "text": [
      "Embedding created\n",
      "Gasoline and Gasoline Blend Dispensing Flow Rate Regulations\n"
     ]
    },
    {
     "name": "stderr",
     "output_type": "stream",
     "text": [
      "Processing Files:  47%|████▋     | 815/1721 [29:02<32:20,  2.14s/it]"
     ]
    },
    {
     "name": "stdout",
     "output_type": "stream",
     "text": [
      "Embedding created\n",
      "Foreign Institutions Subject to the Canadian Residency Requirements Regulations (Insurance Companies)\n"
     ]
    },
    {
     "name": "stderr",
     "output_type": "stream",
     "text": [
      "Processing Files:  47%|████▋     | 816/1721 [29:04<30:48,  2.04s/it]"
     ]
    },
    {
     "name": "stdout",
     "output_type": "stream",
     "text": [
      "Embedding created\n",
      "Coastal Fisheries Protection Regulations\n"
     ]
    },
    {
     "name": "stderr",
     "output_type": "stream",
     "text": [
      "Processing Files:  47%|████▋     | 817/1721 [29:06<29:53,  1.98s/it]"
     ]
    },
    {
     "name": "stdout",
     "output_type": "stream",
     "text": [
      "Embedding created\n",
      "Atlantic Pilotage Tariff Regulations — Newfoundland and Labrador Non-Compulsory Areas\n"
     ]
    },
    {
     "name": "stderr",
     "output_type": "stream",
     "text": [
      "Processing Files:  48%|████▊     | 818/1721 [29:08<31:22,  2.08s/it]"
     ]
    },
    {
     "name": "stdout",
     "output_type": "stream",
     "text": [
      "Embedding created\n",
      "Canadian Passport Order\n"
     ]
    },
    {
     "name": "stderr",
     "output_type": "stream",
     "text": [
      "Processing Files:  48%|████▊     | 819/1721 [29:10<32:18,  2.15s/it]"
     ]
    },
    {
     "name": "stdout",
     "output_type": "stream",
     "text": [
      "Embedding created\n",
      "Coral Harbour Airport Zoning Regulations\n"
     ]
    },
    {
     "name": "stderr",
     "output_type": "stream",
     "text": [
      "Processing Files:  48%|████▊     | 820/1721 [29:13<32:58,  2.20s/it]"
     ]
    },
    {
     "name": "stdout",
     "output_type": "stream",
     "text": [
      "Embedding created\n",
      "Age Guidelines\n"
     ]
    },
    {
     "name": "stderr",
     "output_type": "stream",
     "text": [
      "Processing Files:  48%|████▊     | 821/1721 [29:16<36:10,  2.41s/it]"
     ]
    },
    {
     "name": "stdout",
     "output_type": "stream",
     "text": [
      "Embedding created\n",
      "CCRFTA Rules of Origin for Casual Goods Regulations\n"
     ]
    },
    {
     "name": "stderr",
     "output_type": "stream",
     "text": [
      "Processing Files:  48%|████▊     | 822/1721 [29:18<35:44,  2.39s/it]"
     ]
    },
    {
     "name": "stdout",
     "output_type": "stream",
     "text": [
      "Embedding created\n",
      "Canada Production Insurance Regulations\n"
     ]
    },
    {
     "name": "stderr",
     "output_type": "stream",
     "text": [
      "Processing Files:  48%|████▊     | 823/1721 [29:20<32:46,  2.19s/it]"
     ]
    },
    {
     "name": "stdout",
     "output_type": "stream",
     "text": [
      "Embedding created\n",
      "Canada Student Loans Regulations\n"
     ]
    },
    {
     "name": "stderr",
     "output_type": "stream",
     "text": [
      "Processing Files:  48%|████▊     | 824/1721 [29:22<31:50,  2.13s/it]"
     ]
    },
    {
     "name": "stdout",
     "output_type": "stream",
     "text": [
      "Embedding created\n",
      "Employment Insurance (Fishing) Regulations\n"
     ]
    },
    {
     "name": "stderr",
     "output_type": "stream",
     "text": [
      "Processing Files:  48%|████▊     | 825/1721 [29:24<31:53,  2.14s/it]"
     ]
    },
    {
     "name": "stdout",
     "output_type": "stream",
     "text": [
      "Embedding created\n",
      "Canada Pension Plan (Social Insurance Numbers) Regulations\n"
     ]
    },
    {
     "name": "stderr",
     "output_type": "stream",
     "text": [
      "Processing Files:  48%|████▊     | 826/1721 [29:26<31:10,  2.09s/it]"
     ]
    },
    {
     "name": "stdout",
     "output_type": "stream",
     "text": [
      "Embedding created\n",
      "Electronic Documents (Trust and Loan Companies) Regulations\n"
     ]
    },
    {
     "name": "stderr",
     "output_type": "stream",
     "text": [
      "Processing Files:  48%|████▊     | 827/1721 [29:28<30:37,  2.06s/it]"
     ]
    },
    {
     "name": "stdout",
     "output_type": "stream",
     "text": [
      "Embedding created\n",
      "Export of Substances on the Export Control List Regulations\n"
     ]
    },
    {
     "name": "stderr",
     "output_type": "stream",
     "text": [
      "Processing Files:  48%|████▊     | 828/1721 [29:30<32:34,  2.19s/it]"
     ]
    },
    {
     "name": "stdout",
     "output_type": "stream",
     "text": [
      "Embedding created\n",
      "Atomic Energy Control Board Cost Recovery Fees Remission Order\n"
     ]
    },
    {
     "name": "stderr",
     "output_type": "stream",
     "text": [
      "Processing Files:  48%|████▊     | 829/1721 [29:32<31:49,  2.14s/it]"
     ]
    },
    {
     "name": "stdout",
     "output_type": "stream",
     "text": [
      "Embedding created\n",
      "Financial Consumer Agency of Canada Designated Violations Regulations\n"
     ]
    },
    {
     "name": "stderr",
     "output_type": "stream",
     "text": [
      "Processing Files:  48%|████▊     | 830/1721 [29:34<30:59,  2.09s/it]"
     ]
    },
    {
     "name": "stdout",
     "output_type": "stream",
     "text": [
      "Embedding created\n",
      "Commission for Environmental Cooperation (Director) Remission Order (Part IX of the Excise Tax Act)\n"
     ]
    },
    {
     "name": "stderr",
     "output_type": "stream",
     "text": [
      "Processing Files:  48%|████▊     | 831/1721 [29:36<30:19,  2.04s/it]"
     ]
    },
    {
     "name": "stdout",
     "output_type": "stream",
     "text": [
      "Embedding created\n",
      "Designation of Countries (Standards Council of Canada) Order\n"
     ]
    },
    {
     "name": "stderr",
     "output_type": "stream",
     "text": [
      "Processing Files:  48%|████▊     | 832/1721 [29:38<29:55,  2.02s/it]"
     ]
    },
    {
     "name": "stdout",
     "output_type": "stream",
     "text": [
      "Embedding created\n",
      "Commissioner’s Standing Orders (Conduct)\n"
     ]
    },
    {
     "name": "stderr",
     "output_type": "stream",
     "text": [
      "Processing Files:  48%|████▊     | 833/1721 [29:40<30:26,  2.06s/it]"
     ]
    },
    {
     "name": "stdout",
     "output_type": "stream",
     "text": [
      "Embedding created\n",
      "Emergency Order for the Protection of the Western Chorus Frog (Great Lakes / St. Lawrence — Canadian Shield Population)\n"
     ]
    },
    {
     "name": "stderr",
     "output_type": "stream",
     "text": [
      "Processing Files:  48%|████▊     | 834/1721 [29:42<30:24,  2.06s/it]"
     ]
    },
    {
     "name": "stdout",
     "output_type": "stream",
     "text": [
      "Embedding created\n",
      "Cold Lake Airport Zoning Regulations\n"
     ]
    },
    {
     "name": "stderr",
     "output_type": "stream",
     "text": [
      "Processing Files:  49%|████▊     | 835/1721 [29:45<31:26,  2.13s/it]"
     ]
    },
    {
     "name": "stdout",
     "output_type": "stream",
     "text": [
      "Embedding created\n",
      "Fire and Boat Drills Regulations\n"
     ]
    },
    {
     "name": "stderr",
     "output_type": "stream",
     "text": [
      "Processing Files:  49%|████▊     | 836/1721 [29:47<30:27,  2.06s/it]"
     ]
    },
    {
     "name": "stdout",
     "output_type": "stream",
     "text": [
      "Embedding created\n",
      "Financial Leasing Entity Regulations\n"
     ]
    },
    {
     "name": "stderr",
     "output_type": "stream",
     "text": [
      "Processing Files:  49%|████▊     | 837/1721 [29:49<30:22,  2.06s/it]"
     ]
    },
    {
     "name": "stdout",
     "output_type": "stream",
     "text": [
      "Embedding created\n",
      "Accessible Canada Regulations\n"
     ]
    },
    {
     "name": "stderr",
     "output_type": "stream",
     "text": [
      "Processing Files:  49%|████▊     | 838/1721 [29:50<29:21,  1.99s/it]"
     ]
    },
    {
     "name": "stdout",
     "output_type": "stream",
     "text": [
      "Embedding created\n",
      "Canada Industrial Relations Remuneration Regulations\n"
     ]
    },
    {
     "name": "stderr",
     "output_type": "stream",
     "text": [
      "Processing Files:  49%|████▉     | 839/1721 [29:53<31:23,  2.14s/it]"
     ]
    },
    {
     "name": "stdout",
     "output_type": "stream",
     "text": [
      "Embedding created\n",
      "Canadian Broiler Hatching Egg Marketing Levies Order\n"
     ]
    },
    {
     "name": "stderr",
     "output_type": "stream",
     "text": [
      "Processing Files:  49%|████▉     | 840/1721 [29:55<31:20,  2.13s/it]"
     ]
    },
    {
     "name": "stdout",
     "output_type": "stream",
     "text": [
      "Embedding created\n",
      "CRTC Rules of Procedure\n"
     ]
    },
    {
     "name": "stderr",
     "output_type": "stream",
     "text": [
      "Processing Files:  49%|████▉     | 841/1721 [29:57<30:48,  2.10s/it]"
     ]
    },
    {
     "name": "stdout",
     "output_type": "stream",
     "text": [
      "Embedding created\n",
      "Cinematographic Works (Right to Remuneration) Regulations\n"
     ]
    },
    {
     "name": "stderr",
     "output_type": "stream",
     "text": [
      "Processing Files:  49%|████▉     | 842/1721 [29:59<30:06,  2.05s/it]"
     ]
    },
    {
     "name": "stdout",
     "output_type": "stream",
     "text": [
      "Embedding created\n",
      "Order Respecting the Remission of Fiscal Stabilization Overpayments Made to Certain Provinces Under the Federal-Provincial Fiscal Arrangements Act\n"
     ]
    },
    {
     "name": "stderr",
     "output_type": "stream",
     "text": [
      "Processing Files:  49%|████▉     | 843/1721 [30:01<30:41,  2.10s/it]"
     ]
    },
    {
     "name": "stdout",
     "output_type": "stream",
     "text": [
      "Embedding created\n",
      "Export and Import Permits and Certificates Fees Order\n"
     ]
    },
    {
     "name": "stderr",
     "output_type": "stream",
     "text": [
      "Processing Files:  49%|████▉     | 844/1721 [30:04<32:50,  2.25s/it]"
     ]
    },
    {
     "name": "stdout",
     "output_type": "stream",
     "text": [
      "Embedding created\n",
      "Controlled Access Zone Order (Halifax, Esquimalt and Nanoose Harbours)\n"
     ]
    },
    {
     "name": "stderr",
     "output_type": "stream",
     "text": [
      "Processing Files:  49%|████▉     | 845/1721 [30:06<32:14,  2.21s/it]"
     ]
    },
    {
     "name": "stdout",
     "output_type": "stream",
     "text": [
      "Embedding created\n",
      "Beef Cattle Research, Market Development and Promotion Levies Order\n"
     ]
    },
    {
     "name": "stderr",
     "output_type": "stream",
     "text": [
      "Processing Files:  49%|████▉     | 846/1721 [30:08<33:51,  2.32s/it]"
     ]
    },
    {
     "name": "stdout",
     "output_type": "stream",
     "text": [
      "Embedding created\n",
      "Order Fixing the Boundaries of the Town of Banff in Banff National Park and Adding a Description of the Boundaries as Schedule IV to the Act\n"
     ]
    },
    {
     "name": "stderr",
     "output_type": "stream",
     "text": [
      "Processing Files:  49%|████▉     | 847/1721 [30:11<33:11,  2.28s/it]"
     ]
    },
    {
     "name": "stdout",
     "output_type": "stream",
     "text": [
      "Embedding created\n",
      "CUKTCA Tariff Preference Regulations\n"
     ]
    },
    {
     "name": "stderr",
     "output_type": "stream",
     "text": [
      "Processing Files:  49%|████▉     | 848/1721 [30:13<33:29,  2.30s/it]"
     ]
    },
    {
     "name": "stdout",
     "output_type": "stream",
     "text": [
      "Embedding created\n",
      "Administrative Monetary Penalties (Canada Marine Act) Regulations\n"
     ]
    },
    {
     "name": "stderr",
     "output_type": "stream",
     "text": [
      "Processing Files:  49%|████▉     | 849/1721 [30:15<33:02,  2.27s/it]"
     ]
    },
    {
     "name": "stdout",
     "output_type": "stream",
     "text": [
      "Embedding created\n",
      "Canada Small Business Financing (Establishment and Operation of Capital Leasing Pilot Project) Regulations\n"
     ]
    },
    {
     "name": "stderr",
     "output_type": "stream",
     "text": [
      "Processing Files:  49%|████▉     | 850/1721 [30:17<32:36,  2.25s/it]"
     ]
    },
    {
     "name": "stdout",
     "output_type": "stream",
     "text": [
      "Embedding created\n",
      "Government Employees Compensation Regulations\n"
     ]
    },
    {
     "name": "stderr",
     "output_type": "stream",
     "text": [
      "Processing Files:  49%|████▉     | 851/1721 [30:20<32:33,  2.25s/it]"
     ]
    },
    {
     "name": "stdout",
     "output_type": "stream",
     "text": [
      "Embedding created\n",
      "Order Declaring an Amnesty Period (2014)\n"
     ]
    },
    {
     "name": "stderr",
     "output_type": "stream",
     "text": [
      "Processing Files:  50%|████▉     | 852/1721 [30:22<32:51,  2.27s/it]"
     ]
    },
    {
     "name": "stdout",
     "output_type": "stream",
     "text": [
      "Embedding created\n",
      "Canola Stabilization Regulations, 1986\n"
     ]
    },
    {
     "name": "stderr",
     "output_type": "stream",
     "text": [
      "Processing Files:  50%|████▉     | 853/1721 [30:24<31:09,  2.15s/it]"
     ]
    },
    {
     "name": "stdout",
     "output_type": "stream",
     "text": [
      "Embedding created\n",
      "Accountable Advances Regulations\n"
     ]
    },
    {
     "name": "stderr",
     "output_type": "stream",
     "text": [
      "Processing Files:  50%|████▉     | 854/1721 [30:26<30:39,  2.12s/it]"
     ]
    },
    {
     "name": "stdout",
     "output_type": "stream",
     "text": [
      "Embedding created\n",
      "Excise Act Licence Fees Regulations\n"
     ]
    },
    {
     "name": "stderr",
     "output_type": "stream",
     "text": [
      "Processing Files:  50%|████▉     | 855/1721 [30:28<31:31,  2.18s/it]"
     ]
    },
    {
     "name": "stdout",
     "output_type": "stream",
     "text": [
      "Embedding created\n",
      "General Import Permit No. 19\n"
     ]
    },
    {
     "name": "stderr",
     "output_type": "stream",
     "text": [
      "Processing Files:  50%|████▉     | 856/1721 [30:31<32:20,  2.24s/it]"
     ]
    },
    {
     "name": "stdout",
     "output_type": "stream",
     "text": [
      "Embedding created\n",
      "British Columbia Forestry Revitalization Remission Order\n"
     ]
    },
    {
     "name": "stderr",
     "output_type": "stream",
     "text": [
      "Processing Files:  50%|████▉     | 857/1721 [30:32<30:15,  2.10s/it]"
     ]
    },
    {
     "name": "stdout",
     "output_type": "stream",
     "text": [
      "Embedding created\n",
      "Cheese Stabilization Regulations, 1983-84\n"
     ]
    },
    {
     "name": "stderr",
     "output_type": "stream",
     "text": [
      "Processing Files:  50%|████▉     | 858/1721 [30:35<30:26,  2.12s/it]"
     ]
    },
    {
     "name": "stdout",
     "output_type": "stream",
     "text": [
      "Embedding created\n",
      "Cooperative Vereniging International Post Corporation U.A. Acquisition of Shares Order\n"
     ]
    },
    {
     "name": "stderr",
     "output_type": "stream",
     "text": [
      "Processing Files:  50%|████▉     | 859/1721 [30:37<30:17,  2.11s/it]"
     ]
    },
    {
     "name": "stdout",
     "output_type": "stream",
     "text": [
      "Embedding created\n",
      "Apricot Stabilization Regulations, 1982\n"
     ]
    },
    {
     "name": "stderr",
     "output_type": "stream",
     "text": [
      "Processing Files:  50%|████▉     | 860/1721 [30:39<30:02,  2.09s/it]"
     ]
    },
    {
     "name": "stdout",
     "output_type": "stream",
     "text": [
      "Embedding created\n",
      "Canadian Wheat Board Direction Order\n"
     ]
    },
    {
     "name": "stderr",
     "output_type": "stream",
     "text": [
      "Processing Files:  50%|█████     | 861/1721 [30:41<30:14,  2.11s/it]"
     ]
    },
    {
     "name": "stdout",
     "output_type": "stream",
     "text": [
      "Embedding created\n",
      "Goods for Ships and Aircraft (Excise) Drawback Regulations\n"
     ]
    },
    {
     "name": "stderr",
     "output_type": "stream",
     "text": [
      "Processing Files:  50%|█████     | 862/1721 [30:44<34:25,  2.40s/it]"
     ]
    },
    {
     "name": "stdout",
     "output_type": "stream",
     "text": [
      "Embedding created\n",
      "Cribs and Cradles Regulations\n"
     ]
    },
    {
     "name": "stderr",
     "output_type": "stream",
     "text": [
      "Processing Files:  50%|█████     | 863/1721 [30:46<33:39,  2.35s/it]"
     ]
    },
    {
     "name": "stdout",
     "output_type": "stream",
     "text": [
      "Embedding created\n",
      "Games of Chance (GST/HST) Regulations\n"
     ]
    },
    {
     "name": "stderr",
     "output_type": "stream",
     "text": [
      "Processing Files:  50%|█████     | 864/1721 [30:48<31:33,  2.21s/it]"
     ]
    },
    {
     "name": "stdout",
     "output_type": "stream",
     "text": [
      "Embedding created\n",
      "Fish Health Protection Regulations\n"
     ]
    },
    {
     "name": "stderr",
     "output_type": "stream",
     "text": [
      "Processing Files:  50%|█████     | 865/1721 [30:50<31:17,  2.19s/it]"
     ]
    },
    {
     "name": "stdout",
     "output_type": "stream",
     "text": [
      "Embedding created\n",
      "Advance Payments for Crops Regulations\n"
     ]
    },
    {
     "name": "stderr",
     "output_type": "stream",
     "text": [
      "Processing Files:  50%|█████     | 866/1721 [30:52<31:30,  2.21s/it]"
     ]
    },
    {
     "name": "stdout",
     "output_type": "stream",
     "text": [
      "Embedding created\n",
      "Ash-Free Zone Regulations\n"
     ]
    },
    {
     "name": "stderr",
     "output_type": "stream",
     "text": [
      "Processing Files:  50%|█████     | 867/1721 [30:55<32:01,  2.25s/it]"
     ]
    },
    {
     "name": "stdout",
     "output_type": "stream",
     "text": [
      "Embedding created\n",
      "Consolidated Computer Inc. Adjustment Assistance Regulations\n"
     ]
    },
    {
     "name": "stderr",
     "output_type": "stream",
     "text": [
      "Processing Files:  50%|█████     | 868/1721 [30:57<32:29,  2.28s/it]"
     ]
    },
    {
     "name": "stdout",
     "output_type": "stream",
     "text": [
      "Embedding created\n",
      "Order Respecting Ex-Gratia Payments to Chinese Head Tax Payers\n"
     ]
    },
    {
     "name": "stderr",
     "output_type": "stream",
     "text": [
      "Processing Files:  50%|█████     | 869/1721 [30:59<31:12,  2.20s/it]"
     ]
    },
    {
     "name": "stdout",
     "output_type": "stream",
     "text": [
      "Embedding created\n",
      "Controlled Goods Regulations\n"
     ]
    },
    {
     "name": "stderr",
     "output_type": "stream",
     "text": [
      "Processing Files:  51%|█████     | 870/1721 [31:01<31:42,  2.24s/it]"
     ]
    },
    {
     "name": "stdout",
     "output_type": "stream",
     "text": [
      "Embedding created\n",
      "Canada Customs and Revenue Agency Regulations, No. 2\n"
     ]
    },
    {
     "name": "stderr",
     "output_type": "stream",
     "text": [
      "Processing Files:  51%|█████     | 871/1721 [31:03<30:41,  2.17s/it]"
     ]
    },
    {
     "name": "stdout",
     "output_type": "stream",
     "text": [
      "Embedding created\n",
      "Exchange Rate (Authorized Foreign Banks) Regulations\n"
     ]
    },
    {
     "name": "stderr",
     "output_type": "stream",
     "text": [
      "Processing Files:  51%|█████     | 872/1721 [31:06<33:31,  2.37s/it]"
     ]
    },
    {
     "name": "stdout",
     "output_type": "stream",
     "text": [
      "Embedding created\n",
      "Fair Wages Policy Order\n"
     ]
    },
    {
     "name": "stderr",
     "output_type": "stream",
     "text": [
      "Processing Files:  51%|█████     | 873/1721 [31:08<32:34,  2.31s/it]"
     ]
    },
    {
     "name": "stdout",
     "output_type": "stream",
     "text": [
      "Embedding created\n",
      "Dogfish Exemption Notice\n"
     ]
    },
    {
     "name": "stderr",
     "output_type": "stream",
     "text": [
      "Processing Files:  51%|█████     | 874/1721 [31:10<31:19,  2.22s/it]"
     ]
    },
    {
     "name": "stdout",
     "output_type": "stream",
     "text": [
      "Embedding created\n",
      "Expiry of Section 12.2 of the Softwood Lumber Products Export Charge Act, 2006 Regulations\n"
     ]
    },
    {
     "name": "stderr",
     "output_type": "stream",
     "text": [
      "Processing Files:  51%|█████     | 875/1721 [31:13<32:40,  2.32s/it]"
     ]
    },
    {
     "name": "stdout",
     "output_type": "stream",
     "text": [
      "Embedding created\n",
      "Hazardous Products (Tents) Regulations\n"
     ]
    },
    {
     "name": "stderr",
     "output_type": "stream",
     "text": [
      "Processing Files:  51%|█████     | 876/1721 [31:15<30:30,  2.17s/it]"
     ]
    },
    {
     "name": "stdout",
     "output_type": "stream",
     "text": [
      "Embedding created\n",
      "Critical Habitat of the Bull Trout (Salvelinus confluentus) Saskatchewan-Nelson Rivers Populations Order\n"
     ]
    },
    {
     "name": "stderr",
     "output_type": "stream",
     "text": [
      "Processing Files:  51%|█████     | 877/1721 [31:17<30:29,  2.17s/it]"
     ]
    },
    {
     "name": "stdout",
     "output_type": "stream",
     "text": [
      "Embedding created\n",
      "Bagotville Airport Zoning Regulations\n"
     ]
    },
    {
     "name": "stderr",
     "output_type": "stream",
     "text": [
      "Processing Files:  51%|█████     | 878/1721 [31:19<29:46,  2.12s/it]"
     ]
    },
    {
     "name": "stdout",
     "output_type": "stream",
     "text": [
      "Embedding not created\n",
      "Regulations Exempting Departments and Parent Crown Corporations from the Requirements of Subsections 65.1(1) and 131.1(1) of the Financial Administration Act\n"
     ]
    },
    {
     "name": "stderr",
     "output_type": "stream",
     "text": [
      "Processing Files:  51%|█████     | 879/1721 [31:21<29:17,  2.09s/it]"
     ]
    },
    {
     "name": "stdout",
     "output_type": "stream",
     "text": [
      "Embedding created\n",
      "Financial Transactions and Reports Analysis Centre of Canada Assessment of Expenses Regulations\n"
     ]
    },
    {
     "name": "stderr",
     "output_type": "stream",
     "text": [
      "Processing Files:  51%|█████     | 880/1721 [31:23<29:59,  2.14s/it]"
     ]
    },
    {
     "name": "stdout",
     "output_type": "stream",
     "text": [
      "Embedding created\n",
      "Cheese Stabilization Regulations, 1984-85\n"
     ]
    },
    {
     "name": "stderr",
     "output_type": "stream",
     "text": [
      "Processing Files:  51%|█████     | 881/1721 [31:26<32:55,  2.35s/it]"
     ]
    },
    {
     "name": "stdout",
     "output_type": "stream",
     "text": [
      "Embedding created\n",
      "Accessible Canada Regulations\n"
     ]
    },
    {
     "name": "stderr",
     "output_type": "stream",
     "text": [
      "Processing Files:  51%|█████     | 882/1721 [31:28<31:41,  2.27s/it]"
     ]
    },
    {
     "name": "stdout",
     "output_type": "stream",
     "text": [
      "Embedding not created\n",
      "Critical Habitat of the Rocky Mountain Sculpin (Cottus sp.) Eastslope Populations Order\n"
     ]
    },
    {
     "name": "stderr",
     "output_type": "stream",
     "text": [
      "Processing Files:  51%|█████▏    | 883/1721 [31:30<30:59,  2.22s/it]"
     ]
    },
    {
     "name": "stdout",
     "output_type": "stream",
     "text": [
      "Embedding created\n",
      "Commissioner’s Standing Orders (General Administration)\n"
     ]
    },
    {
     "name": "stderr",
     "output_type": "stream",
     "text": [
      "Processing Files:  51%|█████▏    | 884/1721 [31:33<30:57,  2.22s/it]"
     ]
    },
    {
     "name": "stdout",
     "output_type": "stream",
     "text": [
      "Embedding created\n",
      "Fees in Respect of Mail Regulations\n"
     ]
    },
    {
     "name": "stderr",
     "output_type": "stream",
     "text": [
      "Processing Files:  51%|█████▏    | 885/1721 [31:34<29:43,  2.13s/it]"
     ]
    },
    {
     "name": "stdout",
     "output_type": "stream",
     "text": [
      "Embedding created\n",
      "Baker Lake Airport Zoning Regulations\n"
     ]
    },
    {
     "name": "stderr",
     "output_type": "stream",
     "text": [
      "Processing Files:  51%|█████▏    | 886/1721 [31:37<30:27,  2.19s/it]"
     ]
    },
    {
     "name": "stdout",
     "output_type": "stream",
     "text": [
      "Embedding created\n",
      "Bank Recapitalization (Bail-in) Issuance Regulations\n"
     ]
    },
    {
     "name": "stderr",
     "output_type": "stream",
     "text": [
      "Processing Files:  52%|█████▏    | 887/1721 [31:39<29:14,  2.10s/it]"
     ]
    },
    {
     "name": "stdout",
     "output_type": "stream",
     "text": [
      "Embedding created\n",
      "Regulations Respecting Fees for the Review of Arrangements Involving Transportation Undertakings Providing Air Services\n"
     ]
    },
    {
     "name": "stderr",
     "output_type": "stream",
     "text": [
      "Processing Files:  52%|█████▏    | 888/1721 [31:41<28:42,  2.07s/it]"
     ]
    },
    {
     "name": "stdout",
     "output_type": "stream",
     "text": [
      "Embedding created\n",
      "Order Discontinuing the Canada Revenue Agency Annual Report to Parliament\n"
     ]
    },
    {
     "name": "stderr",
     "output_type": "stream",
     "text": [
      "Processing Files:  52%|█████▏    | 889/1721 [31:43<27:36,  1.99s/it]"
     ]
    },
    {
     "name": "stdout",
     "output_type": "stream",
     "text": [
      "Embedding created\n",
      "Export Control List\n"
     ]
    },
    {
     "name": "stderr",
     "output_type": "stream",
     "text": [
      "Processing Files:  52%|█████▏    | 890/1721 [31:44<27:06,  1.96s/it]"
     ]
    },
    {
     "name": "stdout",
     "output_type": "stream",
     "text": [
      "Embedding created\n",
      "Canadian International Trade Tribunal Regulations\n"
     ]
    },
    {
     "name": "stderr",
     "output_type": "stream",
     "text": [
      "Processing Files:  52%|█████▏    | 891/1721 [31:46<26:37,  1.92s/it]"
     ]
    },
    {
     "name": "stdout",
     "output_type": "stream",
     "text": [
      "Embedding created\n",
      "CIFTA Remission Order, 2003\n"
     ]
    },
    {
     "name": "stderr",
     "output_type": "stream",
     "text": [
      "Processing Files:  52%|█████▏    | 892/1721 [31:49<28:21,  2.05s/it]"
     ]
    },
    {
     "name": "stdout",
     "output_type": "stream",
     "text": [
      "Embedding created\n",
      "Canadian Press Pension Plan Solvency Deficiency Funding Regulations\n"
     ]
    },
    {
     "name": "stderr",
     "output_type": "stream",
     "text": [
      "Processing Files:  52%|█████▏    | 893/1721 [31:51<28:29,  2.07s/it]"
     ]
    },
    {
     "name": "stdout",
     "output_type": "stream",
     "text": [
      "Embedding created\n",
      "Environmental Studies Research Fund Regions Regulations\n"
     ]
    },
    {
     "name": "stderr",
     "output_type": "stream",
     "text": [
      "Processing Files:  52%|█████▏    | 894/1721 [31:53<27:36,  2.00s/it]"
     ]
    },
    {
     "name": "stdout",
     "output_type": "stream",
     "text": [
      "Embedding created\n",
      "General Preferential Tariff Reduction Order, No. 1\n"
     ]
    },
    {
     "name": "stderr",
     "output_type": "stream",
     "text": [
      "Processing Files:  52%|█████▏    | 895/1721 [31:55<27:30,  2.00s/it]"
     ]
    },
    {
     "name": "stdout",
     "output_type": "stream",
     "text": [
      "Embedding created\n",
      "Access to Information Act Heads of Government Institutions Designation Order\n"
     ]
    },
    {
     "name": "stderr",
     "output_type": "stream",
     "text": [
      "Processing Files:  52%|█████▏    | 896/1721 [31:57<27:26,  2.00s/it]"
     ]
    },
    {
     "name": "stdout",
     "output_type": "stream",
     "text": [
      "Embedding created\n",
      "Canada Turkey Marketing Levies Order\n"
     ]
    },
    {
     "name": "stderr",
     "output_type": "stream",
     "text": [
      "Processing Files:  52%|█████▏    | 897/1721 [31:59<29:04,  2.12s/it]"
     ]
    },
    {
     "name": "stdout",
     "output_type": "stream",
     "text": [
      "Embedding created\n",
      "Goods Imported for Certification Remission Order\n"
     ]
    },
    {
     "name": "stderr",
     "output_type": "stream",
     "text": [
      "Processing Files:  52%|█████▏    | 898/1721 [32:01<29:27,  2.15s/it]"
     ]
    },
    {
     "name": "stdout",
     "output_type": "stream",
     "text": [
      "Embedding created\n",
      "Australia Tariff and New Zealand Tariff Rules of Origin Regulations\n"
     ]
    },
    {
     "name": "stderr",
     "output_type": "stream",
     "text": [
      "Processing Files:  52%|█████▏    | 899/1721 [32:03<30:04,  2.19s/it]"
     ]
    },
    {
     "name": "stdout",
     "output_type": "stream",
     "text": [
      "Embedding created\n",
      "Exempt Personal Information Bank Order, No. 25 (RCMP)\n"
     ]
    },
    {
     "name": "stderr",
     "output_type": "stream",
     "text": [
      "Processing Files:  52%|█████▏    | 900/1721 [32:05<29:28,  2.15s/it]"
     ]
    },
    {
     "name": "stdout",
     "output_type": "stream",
     "text": [
      "Embedding created\n",
      "Administration and Enforcement (Assisted Human Reproduction Act) Regulations\n"
     ]
    },
    {
     "name": "stderr",
     "output_type": "stream",
     "text": [
      "Processing Files:  52%|█████▏    | 901/1721 [32:08<28:52,  2.11s/it]"
     ]
    },
    {
     "name": "stdout",
     "output_type": "stream",
     "text": [
      "Embedding created\n",
      "Denim Apparel Fabrics Remission Order\n"
     ]
    },
    {
     "name": "stderr",
     "output_type": "stream",
     "text": [
      "Processing Files:  52%|█████▏    | 902/1721 [32:10<31:57,  2.34s/it]"
     ]
    },
    {
     "name": "stdout",
     "output_type": "stream",
     "text": [
      "Embedding created\n",
      "Agriculture and Fishing Property (GST/HST) Regulations\n"
     ]
    },
    {
     "name": "stderr",
     "output_type": "stream",
     "text": [
      "Processing Files:  52%|█████▏    | 903/1721 [32:13<31:43,  2.33s/it]"
     ]
    },
    {
     "name": "stdout",
     "output_type": "stream",
     "text": [
      "Embedding created\n",
      "Fire Detection and Extinguishing Equipment Regulations\n"
     ]
    },
    {
     "name": "stderr",
     "output_type": "stream",
     "text": [
      "Processing Files:  53%|█████▎    | 904/1721 [32:15<30:24,  2.23s/it]"
     ]
    },
    {
     "name": "stdout",
     "output_type": "stream",
     "text": [
      "Embedding created\n",
      "CKFTA Rules of Origin Regulations\n"
     ]
    },
    {
     "name": "stderr",
     "output_type": "stream",
     "text": [
      "Processing Files:  53%|█████▎    | 905/1721 [32:17<29:28,  2.17s/it]"
     ]
    },
    {
     "name": "stdout",
     "output_type": "stream",
     "text": [
      "Embedding created\n",
      "Government and Long-Term Corporate Debt Obligations Remission Order\n"
     ]
    },
    {
     "name": "stderr",
     "output_type": "stream",
     "text": [
      "Processing Files:  53%|█████▎    | 906/1721 [32:19<30:51,  2.27s/it]"
     ]
    },
    {
     "name": "stdout",
     "output_type": "stream",
     "text": [
      "Embedding created\n",
      "Abatement of Duties Payable Regulations\n"
     ]
    },
    {
     "name": "stderr",
     "output_type": "stream",
     "text": [
      "Processing Files:  53%|█████▎    | 907/1721 [32:23<37:11,  2.74s/it]"
     ]
    },
    {
     "name": "stdout",
     "output_type": "stream",
     "text": [
      "Embedding created\n",
      "Cheticamp/Grand Etang Fishermen’s Co-operative Society Limited Regulations\n"
     ]
    },
    {
     "name": "stderr",
     "output_type": "stream",
     "text": [
      "Processing Files:  53%|█████▎    | 908/1721 [32:25<33:38,  2.48s/it]"
     ]
    },
    {
     "name": "stdout",
     "output_type": "stream",
     "text": [
      "Embedding created\n",
      "Aquaculture Activities Regulations\n"
     ]
    },
    {
     "name": "stderr",
     "output_type": "stream",
     "text": [
      "Processing Files:  53%|█████▎    | 909/1721 [32:28<34:53,  2.58s/it]"
     ]
    },
    {
     "name": "stdout",
     "output_type": "stream",
     "text": [
      "Embedding created\n",
      "Canada Occupational Health and Safety Regulations\n"
     ]
    },
    {
     "name": "stderr",
     "output_type": "stream",
     "text": [
      "Processing Files:  53%|█████▎    | 910/1721 [32:31<36:28,  2.70s/it]"
     ]
    },
    {
     "name": "stdout",
     "output_type": "stream",
     "text": [
      "Embedding created\n",
      "Administrative Monetary Penalties (Canada Marine Act) Regulations\n"
     ]
    },
    {
     "name": "stderr",
     "output_type": "stream",
     "text": [
      "Processing Files:  53%|█████▎    | 911/1721 [32:33<33:38,  2.49s/it]"
     ]
    },
    {
     "name": "stdout",
     "output_type": "stream",
     "text": [
      "Embedding not created\n",
      "Form of Instrument of Cession Regulations\n"
     ]
    },
    {
     "name": "stderr",
     "output_type": "stream",
     "text": [
      "Processing Files:  53%|█████▎    | 912/1721 [32:35<33:18,  2.47s/it]"
     ]
    },
    {
     "name": "stdout",
     "output_type": "stream",
     "text": [
      "Embedding created\n",
      "Alberta Egg Marketing Levies Order\n"
     ]
    },
    {
     "name": "stderr",
     "output_type": "stream",
     "text": [
      "Processing Files:  53%|█████▎    | 913/1721 [32:38<33:46,  2.51s/it]"
     ]
    },
    {
     "name": "stdout",
     "output_type": "stream",
     "text": [
      "Embedding created\n",
      "Department of National Defence Terms Under Three Months Exclusion Approval Order, 1992\n"
     ]
    },
    {
     "name": "stderr",
     "output_type": "stream",
     "text": [
      "Processing Files:  53%|█████▎    | 914/1721 [32:41<37:33,  2.79s/it]"
     ]
    },
    {
     "name": "stdout",
     "output_type": "stream",
     "text": [
      "Embedding created\n",
      "Designated Employees Pension Protection Regulations\n"
     ]
    },
    {
     "name": "stderr",
     "output_type": "stream",
     "text": [
      "Processing Files:  53%|█████▎    | 915/1721 [32:46<46:25,  3.46s/it]"
     ]
    },
    {
     "name": "stdout",
     "output_type": "stream",
     "text": [
      "Embedding created\n",
      "Convention Refugee Determination Division Rules\n"
     ]
    },
    {
     "name": "stderr",
     "output_type": "stream",
     "text": [
      "Processing Files:  53%|█████▎    | 916/1721 [32:50<46:28,  3.46s/it]"
     ]
    },
    {
     "name": "stdout",
     "output_type": "stream",
     "text": [
      "Embedding created\n",
      "Airport Vehicle Parking Charges Regulations\n"
     ]
    },
    {
     "name": "stderr",
     "output_type": "stream",
     "text": [
      "Processing Files:  53%|█████▎    | 917/1721 [32:53<46:07,  3.44s/it]"
     ]
    },
    {
     "name": "stdout",
     "output_type": "stream",
     "text": [
      "Embedding created\n",
      "Fort Frances Airport Zoning Regulations\n"
     ]
    },
    {
     "name": "stderr",
     "output_type": "stream",
     "text": [
      "Processing Files:  53%|█████▎    | 918/1721 [32:55<40:24,  3.02s/it]"
     ]
    },
    {
     "name": "stdout",
     "output_type": "stream",
     "text": [
      "Embedding created\n",
      "Broadcasting Licence Fee Regulations, 1997\n"
     ]
    },
    {
     "name": "stderr",
     "output_type": "stream",
     "text": [
      "Processing Files:  53%|█████▎    | 919/1721 [32:57<37:32,  2.81s/it]"
     ]
    },
    {
     "name": "stdout",
     "output_type": "stream",
     "text": [
      "Embedding created\n",
      "Calgary International Airport Zoning Regulations\n"
     ]
    },
    {
     "name": "stderr",
     "output_type": "stream",
     "text": [
      "Processing Files:  53%|█████▎    | 920/1721 [33:00<34:32,  2.59s/it]"
     ]
    },
    {
     "name": "stdout",
     "output_type": "stream",
     "text": [
      "Embedding created\n",
      "General Export Permit No. 12 — United States Origin Goods\n"
     ]
    },
    {
     "name": "stderr",
     "output_type": "stream",
     "text": [
      "Processing Files:  54%|█████▎    | 921/1721 [33:02<34:29,  2.59s/it]"
     ]
    },
    {
     "name": "stdout",
     "output_type": "stream",
     "text": [
      "Embedding created\n",
      "Proclamation Giving Notice that the Protocol Amending the Convention between Canada and Australia Came into Force on December 18, 2002\n"
     ]
    },
    {
     "name": "stderr",
     "output_type": "stream",
     "text": [
      "Processing Files:  54%|█████▎    | 922/1721 [33:05<34:58,  2.63s/it]"
     ]
    },
    {
     "name": "stdout",
     "output_type": "stream",
     "text": [
      "Embedding created\n",
      "Communications Security Establishment Regulations\n"
     ]
    },
    {
     "name": "stderr",
     "output_type": "stream",
     "text": [
      "Processing Files:  54%|█████▎    | 923/1721 [33:07<33:35,  2.53s/it]"
     ]
    },
    {
     "name": "stdout",
     "output_type": "stream",
     "text": [
      "Embedding created\n",
      "Hazardous Products (Crocidolite Asbestos) Regulations\n"
     ]
    },
    {
     "name": "stderr",
     "output_type": "stream",
     "text": [
      "Processing Files:  54%|█████▎    | 924/1721 [33:09<30:55,  2.33s/it]"
     ]
    },
    {
     "name": "stdout",
     "output_type": "stream",
     "text": [
      "Embedding created\n",
      "Counting of Service by Former Members of the Senate or House of Commons Regulations\n"
     ]
    },
    {
     "name": "stderr",
     "output_type": "stream",
     "text": [
      "Processing Files:  54%|█████▎    | 925/1721 [33:11<29:59,  2.26s/it]"
     ]
    },
    {
     "name": "stdout",
     "output_type": "stream",
     "text": [
      "Embedding created\n",
      "Determination, Re-determination and Further Re-determination of Origin, Tariff Classification and Value for Duty Regulations\n"
     ]
    },
    {
     "name": "stderr",
     "output_type": "stream",
     "text": [
      "Processing Files:  54%|█████▍    | 926/1721 [33:13<29:03,  2.19s/it]"
     ]
    },
    {
     "name": "stdout",
     "output_type": "stream",
     "text": [
      "Embedding created\n",
      "Form of Proxy (Banks and Bank Holding Companies) Regulations\n"
     ]
    },
    {
     "name": "stderr",
     "output_type": "stream",
     "text": [
      "Processing Files:  54%|█████▍    | 927/1721 [33:16<32:00,  2.42s/it]"
     ]
    },
    {
     "name": "stdout",
     "output_type": "stream",
     "text": [
      "Embedding created\n",
      "Eligible Financial Contract General Rules (Bankruptcy and Insolvency Act)\n"
     ]
    },
    {
     "name": "stderr",
     "output_type": "stream",
     "text": [
      "Processing Files:  54%|█████▍    | 928/1721 [33:18<31:53,  2.41s/it]"
     ]
    },
    {
     "name": "stdout",
     "output_type": "stream",
     "text": [
      "Embedding created\n",
      "Designer Remission Order, 2001\n"
     ]
    },
    {
     "name": "stderr",
     "output_type": "stream",
     "text": [
      "Processing Files:  54%|█████▍    | 929/1721 [33:21<32:18,  2.45s/it]"
     ]
    },
    {
     "name": "stdout",
     "output_type": "stream",
     "text": [
      "Embedding created\n",
      "Air Transportation Tax Remission Order\n"
     ]
    },
    {
     "name": "stderr",
     "output_type": "stream",
     "text": [
      "Processing Files:  54%|█████▍    | 930/1721 [33:23<30:41,  2.33s/it]"
     ]
    },
    {
     "name": "stdout",
     "output_type": "stream",
     "text": [
      "Embedding created\n",
      "Order Extending the Application of the Freezing Assets of Corrupt Foreign Officials (Tunisia) Regulations\n"
     ]
    },
    {
     "name": "stderr",
     "output_type": "stream",
     "text": [
      "Processing Files:  54%|█████▍    | 931/1721 [33:25<30:28,  2.31s/it]"
     ]
    },
    {
     "name": "stdout",
     "output_type": "stream",
     "text": [
      "Embedding created\n",
      "CPTPP Remission Order\n"
     ]
    },
    {
     "name": "stderr",
     "output_type": "stream",
     "text": [
      "Processing Files:  54%|█████▍    | 932/1721 [33:28<32:41,  2.49s/it]"
     ]
    },
    {
     "name": "stdout",
     "output_type": "stream",
     "text": [
      "Embedding created\n",
      "Designating the Minister of Justice and the President of the Treasury Board as Ministers for Purposes of Certain Sections of the Act\n"
     ]
    },
    {
     "name": "stderr",
     "output_type": "stream",
     "text": [
      "Processing Files:  54%|█████▍    | 933/1721 [33:31<35:25,  2.70s/it]"
     ]
    },
    {
     "name": "stdout",
     "output_type": "stream",
     "text": [
      "Embedding created\n",
      "Rules of Procedure for Boards of Review\n"
     ]
    },
    {
     "name": "stderr",
     "output_type": "stream",
     "text": [
      "Processing Files:  54%|█████▍    | 934/1721 [33:33<32:31,  2.48s/it]"
     ]
    },
    {
     "name": "stdout",
     "output_type": "stream",
     "text": [
      "Embedding created\n",
      "Area Control List\n"
     ]
    },
    {
     "name": "stderr",
     "output_type": "stream",
     "text": [
      "Processing Files:  54%|█████▍    | 935/1721 [33:36<31:34,  2.41s/it]"
     ]
    },
    {
     "name": "stdout",
     "output_type": "stream",
     "text": [
      "Embedding created\n",
      "Exempt Personal Information Bank Order, No. 13 (RCMP)\n"
     ]
    },
    {
     "name": "stderr",
     "output_type": "stream",
     "text": [
      "Processing Files:  54%|█████▍    | 936/1721 [33:38<30:17,  2.32s/it]"
     ]
    },
    {
     "name": "stdout",
     "output_type": "stream",
     "text": [
      "Embedding created\n",
      "DNA Identification Regulations\n"
     ]
    },
    {
     "name": "stderr",
     "output_type": "stream",
     "text": [
      "Processing Files:  54%|█████▍    | 937/1721 [33:40<29:18,  2.24s/it]"
     ]
    },
    {
     "name": "stdout",
     "output_type": "stream",
     "text": [
      "Embedding created\n",
      "Armed Forces Postal Regulations\n"
     ]
    },
    {
     "name": "stderr",
     "output_type": "stream",
     "text": [
      "Processing Files:  55%|█████▍    | 938/1721 [33:42<31:02,  2.38s/it]"
     ]
    },
    {
     "name": "stdout",
     "output_type": "stream",
     "text": [
      "Embedding created\n",
      "Churchill Airport Zoning Regulations\n"
     ]
    },
    {
     "name": "stderr",
     "output_type": "stream",
     "text": [
      "Processing Files:  55%|█████▍    | 939/1721 [33:45<32:05,  2.46s/it]"
     ]
    },
    {
     "name": "stdout",
     "output_type": "stream",
     "text": [
      "Embedding created\n",
      "Certain Russian Goods Remission Order\n"
     ]
    },
    {
     "name": "stderr",
     "output_type": "stream",
     "text": [
      "Processing Files:  55%|█████▍    | 940/1721 [33:47<30:30,  2.34s/it]"
     ]
    },
    {
     "name": "stdout",
     "output_type": "stream",
     "text": [
      "Embedding created\n",
      "Administrative Monetary Penalties Regulations (International Bridges and Tunnels)\n"
     ]
    },
    {
     "name": "stderr",
     "output_type": "stream",
     "text": [
      "Processing Files:  55%|█████▍    | 941/1721 [33:49<28:39,  2.20s/it]"
     ]
    },
    {
     "name": "stdout",
     "output_type": "stream",
     "text": [
      "Embedding not created\n",
      "General Import Permit No. 83 — Aluminum Products\n"
     ]
    },
    {
     "name": "stderr",
     "output_type": "stream",
     "text": [
      "Processing Files:  55%|█████▍    | 942/1721 [33:51<27:23,  2.11s/it]"
     ]
    },
    {
     "name": "stdout",
     "output_type": "stream",
     "text": [
      "Embedding created\n",
      "Cosmetic Regulations\n"
     ]
    },
    {
     "name": "stderr",
     "output_type": "stream",
     "text": [
      "Processing Files:  55%|█████▍    | 943/1721 [33:53<26:34,  2.05s/it]"
     ]
    },
    {
     "name": "stdout",
     "output_type": "stream",
     "text": [
      "Embedding created\n",
      "General Import Permit No. 3 — Wheat and Wheat Products and Barley and Barley Products for Personal Use\n"
     ]
    },
    {
     "name": "stderr",
     "output_type": "stream",
     "text": [
      "Processing Files:  55%|█████▍    | 944/1721 [33:55<26:36,  2.05s/it]"
     ]
    },
    {
     "name": "stdout",
     "output_type": "stream",
     "text": [
      "Embedding created\n",
      "Canada Post Corporation Withdrawal Regulations\n"
     ]
    },
    {
     "name": "stderr",
     "output_type": "stream",
     "text": [
      "Processing Files:  55%|█████▍    | 945/1721 [33:57<27:05,  2.09s/it]"
     ]
    },
    {
     "name": "stdout",
     "output_type": "stream",
     "text": [
      "Embedding created\n",
      "Capacity Plates and Conformity Plates Charges Order\n"
     ]
    },
    {
     "name": "stderr",
     "output_type": "stream",
     "text": [
      "Processing Files:  55%|█████▍    | 946/1721 [33:59<26:26,  2.05s/it]"
     ]
    },
    {
     "name": "stdout",
     "output_type": "stream",
     "text": [
      "Embedding created\n",
      "Family Support Orders and Agreements Garnishment Regulations\n"
     ]
    },
    {
     "name": "stderr",
     "output_type": "stream",
     "text": [
      "Processing Files:  55%|█████▌    | 947/1721 [34:01<27:50,  2.16s/it]"
     ]
    },
    {
     "name": "stdout",
     "output_type": "stream",
     "text": [
      "Embedding created\n",
      "Free Trade Agreement Advance Rulings Regulations\n"
     ]
    },
    {
     "name": "stderr",
     "output_type": "stream",
     "text": [
      "Processing Files:  55%|█████▌    | 948/1721 [34:04<28:27,  2.21s/it]"
     ]
    },
    {
     "name": "stdout",
     "output_type": "stream",
     "text": [
      "Embedding created\n",
      "Baker Lake Airport Zoning Regulations\n"
     ]
    },
    {
     "name": "stderr",
     "output_type": "stream",
     "text": [
      "Processing Files:  55%|█████▌    | 949/1721 [34:06<27:36,  2.15s/it]"
     ]
    },
    {
     "name": "stdout",
     "output_type": "stream",
     "text": [
      "Embedding not created\n",
      "Proclamation Declaring the Agreement Between Canada and France on Social Security in Force Effective January 13, 1981\n"
     ]
    },
    {
     "name": "stderr",
     "output_type": "stream",
     "text": [
      "Processing Files:  55%|█████▌    | 950/1721 [34:08<26:17,  2.05s/it]"
     ]
    },
    {
     "name": "stdout",
     "output_type": "stream",
     "text": [
      "Embedding created\n",
      "CPTPP Tariff Preference Regulations\n"
     ]
    },
    {
     "name": "stderr",
     "output_type": "stream",
     "text": [
      "Processing Files:  55%|█████▌    | 951/1721 [34:10<25:56,  2.02s/it]"
     ]
    },
    {
     "name": "stdout",
     "output_type": "stream",
     "text": [
      "Embedding created\n",
      "Regulations Respecting Anti-Competitive Acts of Persons Operating a Domestic Service\n"
     ]
    },
    {
     "name": "stderr",
     "output_type": "stream",
     "text": [
      "Processing Files:  55%|█████▌    | 952/1721 [34:12<26:43,  2.09s/it]"
     ]
    },
    {
     "name": "stdout",
     "output_type": "stream",
     "text": [
      "Embedding created\n",
      "Akwesasne Residents Remission Order\n"
     ]
    },
    {
     "name": "stderr",
     "output_type": "stream",
     "text": [
      "Processing Files:  55%|█████▌    | 953/1721 [34:16<33:12,  2.59s/it]"
     ]
    },
    {
     "name": "stdout",
     "output_type": "stream",
     "text": [
      "Embedding created\n",
      "Cheese Stabilization Regulations, 1982-83\n"
     ]
    },
    {
     "name": "stderr",
     "output_type": "stream",
     "text": [
      "Processing Files:  55%|█████▌    | 954/1721 [34:18<32:08,  2.51s/it]"
     ]
    },
    {
     "name": "stdout",
     "output_type": "stream",
     "text": [
      "Embedding created\n",
      "Electronic Filing and Provision of Information (GST/HST) Regulations\n"
     ]
    },
    {
     "name": "stderr",
     "output_type": "stream",
     "text": [
      "Processing Files:  55%|█████▌    | 955/1721 [34:20<29:48,  2.34s/it]"
     ]
    },
    {
     "name": "stdout",
     "output_type": "stream",
     "text": [
      "Embedding created\n",
      "Canadian Forces Superannuation Special Election Regulations\n"
     ]
    },
    {
     "name": "stderr",
     "output_type": "stream",
     "text": [
      "Processing Files:  56%|█████▌    | 956/1721 [34:22<28:40,  2.25s/it]"
     ]
    },
    {
     "name": "stdout",
     "output_type": "stream",
     "text": [
      "Embedding created\n",
      "Canadian Broiler Hatching Egg and Chick Licensing Regulations\n"
     ]
    },
    {
     "name": "stderr",
     "output_type": "stream",
     "text": [
      "Processing Files:  56%|█████▌    | 957/1721 [34:24<28:49,  2.26s/it]"
     ]
    },
    {
     "name": "stdout",
     "output_type": "stream",
     "text": [
      "Embedding created\n",
      "Canadian Beef Cattle Research, Market Development and Promotion Agency Proclamation\n"
     ]
    },
    {
     "name": "stderr",
     "output_type": "stream",
     "text": [
      "Processing Files:  56%|█████▌    | 958/1721 [34:26<28:32,  2.24s/it]"
     ]
    },
    {
     "name": "stdout",
     "output_type": "stream",
     "text": [
      "Embedding created\n",
      "CPFTA Rules of Origin Regulations\n"
     ]
    },
    {
     "name": "stderr",
     "output_type": "stream",
     "text": [
      "Processing Files:  56%|█████▌    | 959/1721 [34:28<27:04,  2.13s/it]"
     ]
    },
    {
     "name": "stdout",
     "output_type": "stream",
     "text": [
      "Embedding created\n",
      "Clyde River Airport Zoning Regulations\n"
     ]
    },
    {
     "name": "stderr",
     "output_type": "stream",
     "text": [
      "Processing Files:  56%|█████▌    | 960/1721 [34:30<26:54,  2.12s/it]"
     ]
    },
    {
     "name": "stdout",
     "output_type": "stream",
     "text": [
      "Embedding created\n",
      "Critical Habitat of Atlantic Whitefish (Coregonus huntsmani) Order\n"
     ]
    },
    {
     "name": "stderr",
     "output_type": "stream",
     "text": [
      "Processing Files:  56%|█████▌    | 961/1721 [34:32<26:37,  2.10s/it]"
     ]
    },
    {
     "name": "stdout",
     "output_type": "stream",
     "text": [
      "Embedding created\n",
      "Critical Habitat of the Salamander Mussel (Simpsonaias ambigua) Order\n"
     ]
    },
    {
     "name": "stderr",
     "output_type": "stream",
     "text": [
      "Processing Files:  56%|█████▌    | 962/1721 [34:34<26:11,  2.07s/it]"
     ]
    },
    {
     "name": "stdout",
     "output_type": "stream",
     "text": [
      "Embedding created\n",
      "General Preferential Tariff Withdrawal (Certain Automotive Goods) Order\n"
     ]
    },
    {
     "name": "stderr",
     "output_type": "stream",
     "text": [
      "Processing Files:  56%|█████▌    | 963/1721 [34:36<26:12,  2.08s/it]"
     ]
    },
    {
     "name": "stdout",
     "output_type": "stream",
     "text": [
      "Embedding created\n",
      "Canadian Egg Marketing Levies Order\n"
     ]
    },
    {
     "name": "stderr",
     "output_type": "stream",
     "text": [
      "Processing Files:  56%|█████▌    | 964/1721 [34:38<25:18,  2.01s/it]"
     ]
    },
    {
     "name": "stdout",
     "output_type": "stream",
     "text": [
      "Embedding created\n",
      "Face Protectors for Ice Hockey and Box Lacrosse Players Regulations\n"
     ]
    },
    {
     "name": "stderr",
     "output_type": "stream",
     "text": [
      "Processing Files:  56%|█████▌    | 965/1721 [34:41<26:57,  2.14s/it]"
     ]
    },
    {
     "name": "stdout",
     "output_type": "stream",
     "text": [
      "Embedding created\n",
      "Regulations Respecting Excise Licences and Registrations\n"
     ]
    },
    {
     "name": "stderr",
     "output_type": "stream",
     "text": [
      "Processing Files:  56%|█████▌    | 966/1721 [34:43<26:22,  2.10s/it]"
     ]
    },
    {
     "name": "stdout",
     "output_type": "stream",
     "text": [
      "Embedding created\n",
      "Canadian Exploration Expense Remission Order\n"
     ]
    },
    {
     "name": "stderr",
     "output_type": "stream",
     "text": [
      "Processing Files:  56%|█████▌    | 967/1721 [34:45<25:42,  2.05s/it]"
     ]
    },
    {
     "name": "stdout",
     "output_type": "stream",
     "text": [
      "Embedding created\n",
      "Assessment of Financial Institutions Regulations, 2001\n"
     ]
    },
    {
     "name": "stderr",
     "output_type": "stream",
     "text": [
      "Processing Files:  56%|█████▌    | 968/1721 [34:47<24:55,  1.99s/it]"
     ]
    },
    {
     "name": "stdout",
     "output_type": "stream",
     "text": [
      "Embedding created\n",
      "Greenhouse Gas Emissions Information Production Order\n"
     ]
    },
    {
     "name": "stderr",
     "output_type": "stream",
     "text": [
      "Processing Files:  56%|█████▋    | 969/1721 [34:49<26:16,  2.10s/it]"
     ]
    },
    {
     "name": "stdout",
     "output_type": "stream",
     "text": [
      "Embedding created\n",
      "Administrative Monetary Penalties Regulations (Canadian Energy Regulator)\n"
     ]
    },
    {
     "name": "stderr",
     "output_type": "stream",
     "text": [
      "Processing Files:  56%|█████▋    | 970/1721 [34:51<25:24,  2.03s/it]"
     ]
    },
    {
     "name": "stdout",
     "output_type": "stream",
     "text": [
      "Embedding not created\n",
      "Calculation of Default Contribution Rates Regulations\n"
     ]
    },
    {
     "name": "stderr",
     "output_type": "stream",
     "text": [
      "Processing Files:  56%|█████▋    | 971/1721 [34:53<25:00,  2.00s/it]"
     ]
    },
    {
     "name": "stdout",
     "output_type": "stream",
     "text": [
      "Embedding created\n",
      "Critical Habitat of the Threehorn Wartyback (Obliquaria reflexa) Order\n"
     ]
    },
    {
     "name": "stderr",
     "output_type": "stream",
     "text": [
      "Processing Files:  56%|█████▋    | 972/1721 [34:55<25:04,  2.01s/it]"
     ]
    },
    {
     "name": "stdout",
     "output_type": "stream",
     "text": [
      "Embedding created\n",
      "Asbestos Mines and Mills Release Regulations\n"
     ]
    },
    {
     "name": "stderr",
     "output_type": "stream",
     "text": [
      "Processing Files:  57%|█████▋    | 973/1721 [34:57<27:34,  2.21s/it]"
     ]
    },
    {
     "name": "stdout",
     "output_type": "stream",
     "text": [
      "Embedding created\n",
      "Court of Queen’s Bench of Alberta Criminal Procedure Rules\n"
     ]
    },
    {
     "name": "stderr",
     "output_type": "stream",
     "text": [
      "Processing Files:  57%|█████▋    | 974/1721 [34:59<26:45,  2.15s/it]"
     ]
    },
    {
     "name": "stdout",
     "output_type": "stream",
     "text": [
      "Embedding created\n",
      "Champagne and Aishihik First Nations (GST) Remission Order\n"
     ]
    },
    {
     "name": "stderr",
     "output_type": "stream",
     "text": [
      "Processing Files:  57%|█████▋    | 975/1721 [35:01<26:14,  2.11s/it]"
     ]
    },
    {
     "name": "stdout",
     "output_type": "stream",
     "text": [
      "Embedding created\n",
      "Hazardous Products (Children’s Sleepwear) Regulations\n"
     ]
    },
    {
     "name": "stderr",
     "output_type": "stream",
     "text": [
      "Processing Files:  57%|█████▋    | 976/1721 [35:04<26:06,  2.10s/it]"
     ]
    },
    {
     "name": "stdout",
     "output_type": "stream",
     "text": [
      "Embedding created\n",
      "Calculation of Contribution Rates Regulations, 2021\n"
     ]
    },
    {
     "name": "stderr",
     "output_type": "stream",
     "text": [
      "Processing Files:  57%|█████▋    | 977/1721 [35:06<26:54,  2.17s/it]"
     ]
    },
    {
     "name": "stdout",
     "output_type": "stream",
     "text": [
      "Embedding created\n",
      "Critical Habitat of the Copper Redhorse (Moxostoma hubbsi) Order\n"
     ]
    },
    {
     "name": "stderr",
     "output_type": "stream",
     "text": [
      "Processing Files:  57%|█████▋    | 978/1721 [35:08<26:22,  2.13s/it]"
     ]
    },
    {
     "name": "stdout",
     "output_type": "stream",
     "text": [
      "Embedding created\n",
      "Administration of Labour Market Development Services Divestiture Regulations\n"
     ]
    },
    {
     "name": "stderr",
     "output_type": "stream",
     "text": [
      "Processing Files:  57%|█████▋    | 979/1721 [35:10<27:35,  2.23s/it]"
     ]
    },
    {
     "name": "stdout",
     "output_type": "stream",
     "text": [
      "Embedding not created\n",
      "Chlor-Alkali Mercury Liquid Effluent Regulations\n"
     ]
    },
    {
     "name": "stderr",
     "output_type": "stream",
     "text": [
      "Processing Files:  57%|█████▋    | 980/1721 [35:13<27:42,  2.24s/it]"
     ]
    },
    {
     "name": "stdout",
     "output_type": "stream",
     "text": [
      "Embedding created\n",
      "Greenhouse Tomato Stabilization Regulations, 1981\n"
     ]
    },
    {
     "name": "stderr",
     "output_type": "stream",
     "text": [
      "Processing Files:  57%|█████▋    | 981/1721 [35:16<30:36,  2.48s/it]"
     ]
    },
    {
     "name": "stdout",
     "output_type": "stream",
     "text": [
      "Embedding created\n",
      "Canada Deposit Insurance Corporation Application for Deposit Insurance By-law\n"
     ]
    },
    {
     "name": "stderr",
     "output_type": "stream",
     "text": [
      "Processing Files:  57%|█████▋    | 982/1721 [35:18<29:04,  2.36s/it]"
     ]
    },
    {
     "name": "stdout",
     "output_type": "stream",
     "text": [
      "Embedding created\n",
      "Automobile Operating Expense Benefit (GST/HST) Regulations\n"
     ]
    },
    {
     "name": "stderr",
     "output_type": "stream",
     "text": [
      "Processing Files:  57%|█████▋    | 983/1721 [35:20<29:49,  2.42s/it]"
     ]
    },
    {
     "name": "stdout",
     "output_type": "stream",
     "text": [
      "Embedding created\n",
      "Copyright Board Rules of Practice and Procedure\n"
     ]
    },
    {
     "name": "stderr",
     "output_type": "stream",
     "text": [
      "Processing Files:  57%|█████▋    | 984/1721 [35:23<30:37,  2.49s/it]"
     ]
    },
    {
     "name": "stdout",
     "output_type": "stream",
     "text": [
      "Embedding created\n",
      "Assignment of Crown Debt Regulations\n"
     ]
    },
    {
     "name": "stderr",
     "output_type": "stream",
     "text": [
      "Processing Files:  57%|█████▋    | 985/1721 [35:25<29:26,  2.40s/it]"
     ]
    },
    {
     "name": "stdout",
     "output_type": "stream",
     "text": [
      "Embedding created\n",
      "General Export Permit No. 45 — Cryptography for the Development or Production of a Product\n"
     ]
    },
    {
     "name": "stderr",
     "output_type": "stream",
     "text": [
      "Processing Files:  57%|█████▋    | 986/1721 [35:27<28:57,  2.36s/it]"
     ]
    },
    {
     "name": "stdout",
     "output_type": "stream",
     "text": [
      "Embedding created\n",
      "Canada–Nova Scotia Offshore Area Occupational Health and Safety Regulations\n"
     ]
    },
    {
     "name": "stderr",
     "output_type": "stream",
     "text": [
      "Processing Files:  57%|█████▋    | 987/1721 [35:30<29:22,  2.40s/it]"
     ]
    },
    {
     "name": "stdout",
     "output_type": "stream",
     "text": [
      "Embedding created\n",
      "Age Guidelines\n"
     ]
    },
    {
     "name": "stderr",
     "output_type": "stream",
     "text": [
      "Processing Files:  57%|█████▋    | 988/1721 [35:32<27:41,  2.27s/it]"
     ]
    },
    {
     "name": "stdout",
     "output_type": "stream",
     "text": [
      "Embedding not created\n",
      "Canola 1987 Period Stabilization Regulations\n"
     ]
    },
    {
     "name": "stderr",
     "output_type": "stream",
     "text": [
      "Processing Files:  57%|█████▋    | 989/1721 [35:34<26:39,  2.19s/it]"
     ]
    },
    {
     "name": "stdout",
     "output_type": "stream",
     "text": [
      "Embedding created\n",
      "Dakota Tipi Band Council Method of Election Regulations\n"
     ]
    },
    {
     "name": "stderr",
     "output_type": "stream",
     "text": [
      "Processing Files:  58%|█████▊    | 990/1721 [35:36<26:10,  2.15s/it]"
     ]
    },
    {
     "name": "stdout",
     "output_type": "stream",
     "text": [
      "Embedding created\n",
      "General Import Permit No. 6 — Roses for Personal Use\n"
     ]
    },
    {
     "name": "stderr",
     "output_type": "stream",
     "text": [
      "Processing Files:  58%|█████▊    | 991/1721 [35:38<25:19,  2.08s/it]"
     ]
    },
    {
     "name": "stdout",
     "output_type": "stream",
     "text": [
      "Embedding created\n",
      "Customs Drawback Shirting Fabrics Regulations\n"
     ]
    },
    {
     "name": "stderr",
     "output_type": "stream",
     "text": [
      "Processing Files:  58%|█████▊    | 992/1721 [35:41<27:42,  2.28s/it]"
     ]
    },
    {
     "name": "stdout",
     "output_type": "stream",
     "text": [
      "Embedding created\n",
      "Canadian Payments Association By-law No. 6 — Compliance\n"
     ]
    },
    {
     "name": "stderr",
     "output_type": "stream",
     "text": [
      "Processing Files:  58%|█████▊    | 993/1721 [35:43<26:56,  2.22s/it]"
     ]
    },
    {
     "name": "stdout",
     "output_type": "stream",
     "text": [
      "Embedding created\n",
      "Hatchery Exclusion Regulations\n"
     ]
    },
    {
     "name": "stderr",
     "output_type": "stream",
     "text": [
      "Processing Files:  58%|█████▊    | 994/1721 [35:45<25:55,  2.14s/it]"
     ]
    },
    {
     "name": "stdout",
     "output_type": "stream",
     "text": [
      "Embedding created\n",
      "East Coast and Great Lakes Shipping Employees Hours of Work Regulations, 1985\n"
     ]
    },
    {
     "name": "stderr",
     "output_type": "stream",
     "text": [
      "Processing Files:  58%|█████▊    | 995/1721 [35:47<25:07,  2.08s/it]"
     ]
    },
    {
     "name": "stdout",
     "output_type": "stream",
     "text": [
      "Embedding created\n",
      "CEFTA Verification of Origin of Exported Goods Regulations\n"
     ]
    },
    {
     "name": "stderr",
     "output_type": "stream",
     "text": [
      "Processing Files:  58%|█████▊    | 996/1721 [35:49<25:38,  2.12s/it]"
     ]
    },
    {
     "name": "stdout",
     "output_type": "stream",
     "text": [
      "Embedding created\n",
      "Excise Duty Indexing Ratio Regulations\n"
     ]
    },
    {
     "name": "stderr",
     "output_type": "stream",
     "text": [
      "Processing Files:  58%|█████▊    | 997/1721 [35:51<24:57,  2.07s/it]"
     ]
    },
    {
     "name": "stdout",
     "output_type": "stream",
     "text": [
      "Embedding created\n",
      "2017 Toronto Invictus Games Remission Order\n"
     ]
    },
    {
     "name": "stderr",
     "output_type": "stream",
     "text": [
      "Processing Files:  58%|█████▊    | 998/1721 [35:53<24:38,  2.05s/it]"
     ]
    },
    {
     "name": "stdout",
     "output_type": "stream",
     "text": [
      "Embedding created\n",
      "Compensation for Certain Birds Destroyed in British Columbia (Avian Influenza) Regulations\n"
     ]
    },
    {
     "name": "stderr",
     "output_type": "stream",
     "text": [
      "Processing Files:  58%|█████▊    | 999/1721 [35:55<24:17,  2.02s/it]"
     ]
    },
    {
     "name": "stdout",
     "output_type": "stream",
     "text": [
      "Embedding created\n",
      "British Columbia Sex Offender Information Registration Regulations\n"
     ]
    },
    {
     "name": "stderr",
     "output_type": "stream",
     "text": [
      "Processing Files:  58%|█████▊    | 1000/1721 [35:57<24:28,  2.04s/it]"
     ]
    },
    {
     "name": "stdout",
     "output_type": "stream",
     "text": [
      "Embedding created\n",
      "Administrative and Technical Staff of the Embassy of the United States and Families Duty and Tax Relief Privileges Order\n"
     ]
    },
    {
     "name": "stderr",
     "output_type": "stream",
     "text": [
      "Processing Files:  58%|█████▊    | 1001/1721 [35:59<24:34,  2.05s/it]"
     ]
    },
    {
     "name": "stdout",
     "output_type": "stream",
     "text": [
      "Embedding not created\n",
      "Federal Provincial Fiscal Arrangements Regulations\n"
     ]
    },
    {
     "name": "stderr",
     "output_type": "stream",
     "text": [
      "Processing Files:  58%|█████▊    | 1002/1721 [36:01<24:41,  2.06s/it]"
     ]
    },
    {
     "name": "stdout",
     "output_type": "stream",
     "text": [
      "Embedding created\n",
      "General Import Permit No. 7 — Turkeys and Turkey Products for Personal Use\n"
     ]
    },
    {
     "name": "stderr",
     "output_type": "stream",
     "text": [
      "Processing Files:  58%|█████▊    | 1003/1721 [36:03<24:15,  2.03s/it]"
     ]
    },
    {
     "name": "stdout",
     "output_type": "stream",
     "text": [
      "Embedding created\n",
      "Currency Exchange for Customs Valuation Regulations\n"
     ]
    },
    {
     "name": "stderr",
     "output_type": "stream",
     "text": [
      "Processing Files:  58%|█████▊    | 1004/1721 [36:05<24:05,  2.02s/it]"
     ]
    },
    {
     "name": "stdout",
     "output_type": "stream",
     "text": [
      "Embedding created\n",
      "Fiscal Equalization Payments Regulations, 1992\n"
     ]
    },
    {
     "name": "stderr",
     "output_type": "stream",
     "text": [
      "Processing Files:  58%|█████▊    | 1005/1721 [36:07<24:34,  2.06s/it]"
     ]
    },
    {
     "name": "stdout",
     "output_type": "stream",
     "text": [
      "Embedding created\n",
      "Disclosure of Charges (Retail Associations) Regulations\n"
     ]
    },
    {
     "name": "stderr",
     "output_type": "stream",
     "text": [
      "Processing Files:  58%|█████▊    | 1006/1721 [36:10<26:09,  2.19s/it]"
     ]
    },
    {
     "name": "stdout",
     "output_type": "stream",
     "text": [
      "Embedding created\n",
      "Atlantic Pilotage Authority Pension Regulations\n"
     ]
    },
    {
     "name": "stderr",
     "output_type": "stream",
     "text": [
      "Processing Files:  59%|█████▊    | 1007/1721 [36:12<26:47,  2.25s/it]"
     ]
    },
    {
     "name": "stdout",
     "output_type": "stream",
     "text": [
      "Embedding created\n",
      "Critical Habitat of the Speckled Dace (Rhinichthys osculus) Order\n"
     ]
    },
    {
     "name": "stderr",
     "output_type": "stream",
     "text": [
      "Processing Files:  59%|█████▊    | 1008/1721 [36:14<25:29,  2.15s/it]"
     ]
    },
    {
     "name": "stdout",
     "output_type": "stream",
     "text": [
      "Embedding created\n",
      "Adjustment of Certain Fees in Respect of Publication in the Canada Gazette for the 2019–2020 and 2020–2021 Fiscal Years Remission Order\n"
     ]
    },
    {
     "name": "stderr",
     "output_type": "stream",
     "text": [
      "Processing Files:  59%|█████▊    | 1009/1721 [36:16<25:46,  2.17s/it]"
     ]
    },
    {
     "name": "stdout",
     "output_type": "stream",
     "text": [
      "Embedding created\n",
      "Administrative Monetary Penalties (Motor Vehicle Safety) Regulations\n"
     ]
    },
    {
     "name": "stderr",
     "output_type": "stream",
     "text": [
      "Processing Files:  59%|█████▊    | 1010/1721 [36:18<25:11,  2.13s/it]"
     ]
    },
    {
     "name": "stdout",
     "output_type": "stream",
     "text": [
      "Embedding created\n",
      "Employment Insurance Regulations\n"
     ]
    },
    {
     "name": "stderr",
     "output_type": "stream",
     "text": [
      "Processing Files:  59%|█████▊    | 1011/1721 [36:20<24:39,  2.08s/it]"
     ]
    },
    {
     "name": "stdout",
     "output_type": "stream",
     "text": [
      "Embedding created\n",
      "Goodyear Remission Order\n"
     ]
    },
    {
     "name": "stderr",
     "output_type": "stream",
     "text": [
      "Processing Files:  59%|█████▉    | 1012/1721 [36:22<24:48,  2.10s/it]"
     ]
    },
    {
     "name": "stdout",
     "output_type": "stream",
     "text": [
      "Embedding created\n",
      "Rules of Practice in Criminal Matters in the Court of Appeal of Quebec\n"
     ]
    },
    {
     "name": "stderr",
     "output_type": "stream",
     "text": [
      "Processing Files:  59%|█████▉    | 1013/1721 [36:24<24:02,  2.04s/it]"
     ]
    },
    {
     "name": "stdout",
     "output_type": "stream",
     "text": [
      "Embedding created\n",
      "Commercial Samples Remission Order\n"
     ]
    },
    {
     "name": "stderr",
     "output_type": "stream",
     "text": [
      "Processing Files:  59%|█████▉    | 1014/1721 [36:26<23:40,  2.01s/it]"
     ]
    },
    {
     "name": "stdout",
     "output_type": "stream",
     "text": [
      "Embedding created\n",
      "Commercial Vehicle Drivers Hours of Service Regulations\n"
     ]
    },
    {
     "name": "stderr",
     "output_type": "stream",
     "text": [
      "Processing Files:  59%|█████▉    | 1015/1721 [36:28<23:38,  2.01s/it]"
     ]
    },
    {
     "name": "stdout",
     "output_type": "stream",
     "text": [
      "Embedding created\n",
      "Agricultural Product Priority Claim (Banks) Regulations\n"
     ]
    },
    {
     "name": "stderr",
     "output_type": "stream",
     "text": [
      "Processing Files:  59%|█████▉    | 1016/1721 [36:31<25:18,  2.15s/it]"
     ]
    },
    {
     "name": "stdout",
     "output_type": "stream",
     "text": [
      "Embedding created\n",
      "Exemption Order for Certain Licences, Authorizations and Documents (Bull Trout (Saskatchewan-Nelson Rivers Populations))\n"
     ]
    },
    {
     "name": "stderr",
     "output_type": "stream",
     "text": [
      "Processing Files:  59%|█████▉    | 1017/1721 [36:33<25:17,  2.16s/it]"
     ]
    },
    {
     "name": "stdout",
     "output_type": "stream",
     "text": [
      "Embedding created\n",
      "Aggregate Financial Exposure (Banks) Regulations\n"
     ]
    },
    {
     "name": "stderr",
     "output_type": "stream",
     "text": [
      "Processing Files:  59%|█████▉    | 1018/1721 [36:34<23:51,  2.04s/it]"
     ]
    },
    {
     "name": "stdout",
     "output_type": "stream",
     "text": [
      "Embedding not created\n",
      "Commission for Environmental Cooperation Remission Order (Part IX of the Excise Tax Act)\n"
     ]
    },
    {
     "name": "stderr",
     "output_type": "stream",
     "text": [
      "Processing Files:  59%|█████▉    | 1019/1721 [36:37<24:35,  2.10s/it]"
     ]
    },
    {
     "name": "stdout",
     "output_type": "stream",
     "text": [
      "Embedding created\n",
      "Cannabis Tracking System Order\n"
     ]
    },
    {
     "name": "stderr",
     "output_type": "stream",
     "text": [
      "Processing Files:  59%|█████▉    | 1020/1721 [36:39<24:03,  2.06s/it]"
     ]
    },
    {
     "name": "stdout",
     "output_type": "stream",
     "text": [
      "Embedding created\n",
      "Equal Wages Guidelines, 1986\n"
     ]
    },
    {
     "name": "stderr",
     "output_type": "stream",
     "text": [
      "Processing Files:  59%|█████▉    | 1021/1721 [36:43<30:15,  2.59s/it]"
     ]
    },
    {
     "name": "stdout",
     "output_type": "stream",
     "text": [
      "Embedding created\n",
      "Computer Carrier Media Remission Order\n"
     ]
    },
    {
     "name": "stderr",
     "output_type": "stream",
     "text": [
      "Processing Files:  59%|█████▉    | 1022/1721 [36:45<28:07,  2.41s/it]"
     ]
    },
    {
     "name": "stdout",
     "output_type": "stream",
     "text": [
      "Embedding created\n",
      "First Nations Local Revenue Law Review Regulations\n"
     ]
    },
    {
     "name": "stderr",
     "output_type": "stream",
     "text": [
      "Processing Files:  59%|█████▉    | 1023/1721 [36:47<26:47,  2.30s/it]"
     ]
    },
    {
     "name": "stdout",
     "output_type": "stream",
     "text": [
      "Embedding created\n",
      "Charitable Goods Remission Order\n"
     ]
    },
    {
     "name": "stderr",
     "output_type": "stream",
     "text": [
      "Processing Files:  60%|█████▉    | 1024/1721 [36:50<29:04,  2.50s/it]"
     ]
    },
    {
     "name": "stdout",
     "output_type": "stream",
     "text": [
      "Embedding created\n",
      "Application of Defence Services Pension Act to Special Force\n"
     ]
    },
    {
     "name": "stderr",
     "output_type": "stream",
     "text": [
      "Processing Files:  60%|█████▉    | 1025/1721 [36:51<26:57,  2.32s/it]"
     ]
    },
    {
     "name": "stdout",
     "output_type": "stream",
     "text": [
      "Embedding created\n",
      "Certain Emergency Response Benefits Remission Order\n"
     ]
    },
    {
     "name": "stderr",
     "output_type": "stream",
     "text": [
      "Processing Files:  60%|█████▉    | 1026/1721 [36:54<28:44,  2.48s/it]"
     ]
    },
    {
     "name": "stdout",
     "output_type": "stream",
     "text": [
      "Embedding created\n",
      "Commissioner’s Standing Orders (Disciplinary Action)\n"
     ]
    },
    {
     "name": "stderr",
     "output_type": "stream",
     "text": [
      "Processing Files:  60%|█████▉    | 1027/1721 [36:56<27:35,  2.39s/it]"
     ]
    },
    {
     "name": "stdout",
     "output_type": "stream",
     "text": [
      "Embedding created\n",
      "Canada Gazette Publication Order, 2014\n"
     ]
    },
    {
     "name": "stderr",
     "output_type": "stream",
     "text": [
      "Processing Files:  60%|█████▉    | 1028/1721 [36:59<28:13,  2.44s/it]"
     ]
    },
    {
     "name": "stdout",
     "output_type": "stream",
     "text": [
      "Embedding created\n",
      "Hazardous Materials Information Review Act Appeal Board Procedures Regulations\n"
     ]
    },
    {
     "name": "stderr",
     "output_type": "stream",
     "text": [
      "Processing Files:  60%|█████▉    | 1029/1721 [37:01<27:12,  2.36s/it]"
     ]
    },
    {
     "name": "stdout",
     "output_type": "stream",
     "text": [
      "Embedding created\n",
      "Hazardous Products (Infant Feeding Bottle Nipples) Regulations\n"
     ]
    },
    {
     "name": "stderr",
     "output_type": "stream",
     "text": [
      "Processing Files:  60%|█████▉    | 1030/1721 [37:03<26:09,  2.27s/it]"
     ]
    },
    {
     "name": "stdout",
     "output_type": "stream",
     "text": [
      "Embedding created\n",
      "Agencies’ Orders and Regulations Approval Order\n"
     ]
    },
    {
     "name": "stderr",
     "output_type": "stream",
     "text": [
      "Processing Files:  60%|█████▉    | 1031/1721 [37:06<27:31,  2.39s/it]"
     ]
    },
    {
     "name": "stdout",
     "output_type": "stream",
     "text": [
      "Embedding created\n",
      "Exported Motor Vehicles Drawback Regulations\n"
     ]
    },
    {
     "name": "stderr",
     "output_type": "stream",
     "text": [
      "Processing Files:  60%|█████▉    | 1032/1721 [37:08<27:57,  2.43s/it]"
     ]
    },
    {
     "name": "stdout",
     "output_type": "stream",
     "text": [
      "Embedding created\n",
      "Camp Ipperwash Indian Settlement Remission Order, 2003\n"
     ]
    },
    {
     "name": "stderr",
     "output_type": "stream",
     "text": [
      "Processing Files:  60%|██████    | 1033/1721 [37:11<28:10,  2.46s/it]"
     ]
    },
    {
     "name": "stdout",
     "output_type": "stream",
     "text": [
      "Embedding created\n",
      "DOMCO Remission Order No. 2\n"
     ]
    },
    {
     "name": "stderr",
     "output_type": "stream",
     "text": [
      "Processing Files:  60%|██████    | 1034/1721 [37:13<27:23,  2.39s/it]"
     ]
    },
    {
     "name": "stdout",
     "output_type": "stream",
     "text": [
      "Embedding created\n",
      "Disability Tax Credit Promoters Restrictions Regulations\n"
     ]
    },
    {
     "name": "stderr",
     "output_type": "stream",
     "text": [
      "Processing Files:  60%|██████    | 1035/1721 [37:16<28:32,  2.50s/it]"
     ]
    },
    {
     "name": "stdout",
     "output_type": "stream",
     "text": [
      "Embedding created\n",
      "Order Establishing Criteria Related to Certain Offences Listed in the Schedule to the Expungement of Historically Unjust Convictions Act\n"
     ]
    },
    {
     "name": "stderr",
     "output_type": "stream",
     "text": [
      "Processing Files:  60%|██████    | 1036/1721 [37:18<27:52,  2.44s/it]"
     ]
    },
    {
     "name": "stdout",
     "output_type": "stream",
     "text": [
      "Embedding created\n",
      "Coal Mining Safety Commission Regulations\n"
     ]
    },
    {
     "name": "stderr",
     "output_type": "stream",
     "text": [
      "Processing Files:  60%|██████    | 1037/1721 [37:20<25:33,  2.24s/it]"
     ]
    },
    {
     "name": "stdout",
     "output_type": "stream",
     "text": [
      "Embedding created\n",
      "Coloured Bean Stabilization Regulations, 1982-83\n"
     ]
    },
    {
     "name": "stderr",
     "output_type": "stream",
     "text": [
      "Processing Files:  60%|██████    | 1038/1721 [37:23<27:44,  2.44s/it]"
     ]
    },
    {
     "name": "stdout",
     "output_type": "stream",
     "text": [
      "Embedding created\n",
      "Boundary Bay Airport Zoning Regulations\n"
     ]
    },
    {
     "name": "stderr",
     "output_type": "stream",
     "text": [
      "Processing Files:  60%|██████    | 1039/1721 [37:25<26:03,  2.29s/it]"
     ]
    },
    {
     "name": "stdout",
     "output_type": "stream",
     "text": [
      "Embedding created\n",
      "General Import Permit No. 81 — Specialty Steel Products\n"
     ]
    },
    {
     "name": "stderr",
     "output_type": "stream",
     "text": [
      "Processing Files:  60%|██████    | 1040/1721 [37:27<25:45,  2.27s/it]"
     ]
    },
    {
     "name": "stdout",
     "output_type": "stream",
     "text": [
      "Embedding created\n",
      "Commission for Environmental Cooperation (Executive Director) Remission Order (Part IX of the Excise Tax Act)\n"
     ]
    },
    {
     "name": "stderr",
     "output_type": "stream",
     "text": [
      "Processing Files:  60%|██████    | 1041/1721 [37:29<25:34,  2.26s/it]"
     ]
    },
    {
     "name": "stdout",
     "output_type": "stream",
     "text": [
      "Embedding created\n",
      "Delegation of Powers (VLA) Regulations\n"
     ]
    },
    {
     "name": "stderr",
     "output_type": "stream",
     "text": [
      "Processing Files:  61%|██████    | 1042/1721 [37:31<24:18,  2.15s/it]"
     ]
    },
    {
     "name": "stdout",
     "output_type": "stream",
     "text": [
      "Embedding created\n",
      "General Export Permit No. 41 — Dual-use Goods and Technology to Certain Destinations\n"
     ]
    },
    {
     "name": "stderr",
     "output_type": "stream",
     "text": [
      "Processing Files:  61%|██████    | 1043/1721 [37:33<23:58,  2.12s/it]"
     ]
    },
    {
     "name": "stdout",
     "output_type": "stream",
     "text": [
      "Embedding created\n",
      "Cross-border Currency and Monetary Instruments Reporting Regulations\n"
     ]
    },
    {
     "name": "stderr",
     "output_type": "stream",
     "text": [
      "Processing Files:  61%|██████    | 1044/1721 [37:35<24:04,  2.13s/it]"
     ]
    },
    {
     "name": "stdout",
     "output_type": "stream",
     "text": [
      "Embedding created\n",
      "Converted Company Ownership Regulations\n"
     ]
    },
    {
     "name": "stderr",
     "output_type": "stream",
     "text": [
      "Processing Files:  61%|██████    | 1045/1721 [37:38<24:56,  2.21s/it]"
     ]
    },
    {
     "name": "stdout",
     "output_type": "stream",
     "text": [
      "Embedding created\n",
      "DNA Data Bank Advisory Committee Regulations\n"
     ]
    },
    {
     "name": "stderr",
     "output_type": "stream",
     "text": [
      "Processing Files:  61%|██████    | 1046/1721 [37:40<25:02,  2.23s/it]"
     ]
    },
    {
     "name": "stdout",
     "output_type": "stream",
     "text": [
      "Embedding created\n",
      "Critical Habitat of the Atlantic Salmon (Salmo salar) Inner Bay of Fundy Population Order\n"
     ]
    },
    {
     "name": "stderr",
     "output_type": "stream",
     "text": [
      "Processing Files:  61%|██████    | 1047/1721 [37:42<25:24,  2.26s/it]"
     ]
    },
    {
     "name": "stdout",
     "output_type": "stream",
     "text": [
      "Embedding created\n",
      "Canada-Nova Scotia Offshore Petroleum Financial Requirements Regulations\n"
     ]
    },
    {
     "name": "stderr",
     "output_type": "stream",
     "text": [
      "Processing Files:  61%|██████    | 1048/1721 [37:45<24:55,  2.22s/it]"
     ]
    },
    {
     "name": "stdout",
     "output_type": "stream",
     "text": [
      "Embedding created\n",
      "Order Amending the Schedule to the Customs Tariff (Conditions for Special Provisions for the Purposes of the United States Tariff (UST))\n"
     ]
    },
    {
     "name": "stderr",
     "output_type": "stream",
     "text": [
      "Processing Files:  61%|██████    | 1049/1721 [37:47<25:39,  2.29s/it]"
     ]
    },
    {
     "name": "stdout",
     "output_type": "stream",
     "text": [
      "Embedding created\n",
      "Canadian Pork Promotion-Research Agency Proclamation\n"
     ]
    },
    {
     "name": "stderr",
     "output_type": "stream",
     "text": [
      "Processing Files:  61%|██████    | 1050/1721 [37:49<24:39,  2.21s/it]"
     ]
    },
    {
     "name": "stdout",
     "output_type": "stream",
     "text": [
      "Embedding created\n",
      "Canadian Payments Association Membership Requirements Regulations\n"
     ]
    },
    {
     "name": "stderr",
     "output_type": "stream",
     "text": [
      "Processing Files:  61%|██████    | 1051/1721 [37:51<24:19,  2.18s/it]"
     ]
    },
    {
     "name": "stdout",
     "output_type": "stream",
     "text": [
      "Embedding created\n",
      "Deposit Type Instruments Regulations\n"
     ]
    },
    {
     "name": "stderr",
     "output_type": "stream",
     "text": [
      "Processing Files:  61%|██████    | 1052/1721 [37:53<23:59,  2.15s/it]"
     ]
    },
    {
     "name": "stdout",
     "output_type": "stream",
     "text": [
      "Embedding created\n",
      "Advance Payments for Crops Collection Regulations\n"
     ]
    },
    {
     "name": "stderr",
     "output_type": "stream",
     "text": [
      "Processing Files:  61%|██████    | 1053/1721 [37:55<23:12,  2.08s/it]"
     ]
    },
    {
     "name": "stdout",
     "output_type": "stream",
     "text": [
      "Embedding not created\n",
      "Divestiture of Service Transitional Coverage Regulations\n"
     ]
    },
    {
     "name": "stderr",
     "output_type": "stream",
     "text": [
      "Processing Files:  61%|██████    | 1054/1721 [37:58<24:15,  2.18s/it]"
     ]
    },
    {
     "name": "stdout",
     "output_type": "stream",
     "text": [
      "Embedding created\n",
      "Fort St. John Airport Zoning Regulations\n"
     ]
    },
    {
     "name": "stderr",
     "output_type": "stream",
     "text": [
      "Processing Files:  61%|██████▏   | 1055/1721 [38:00<23:35,  2.12s/it]"
     ]
    },
    {
     "name": "stdout",
     "output_type": "stream",
     "text": [
      "Embedding created\n",
      "Exporters’ and Producers’ Records Regulations\n"
     ]
    },
    {
     "name": "stderr",
     "output_type": "stream",
     "text": [
      "Processing Files:  61%|██████▏   | 1056/1721 [38:02<24:13,  2.19s/it]"
     ]
    },
    {
     "name": "stdout",
     "output_type": "stream",
     "text": [
      "Embedding created\n",
      "CHFTA Sugar Aggregate Quantity Limit Order\n"
     ]
    },
    {
     "name": "stderr",
     "output_type": "stream",
     "text": [
      "Processing Files:  61%|██████▏   | 1057/1721 [38:04<23:57,  2.16s/it]"
     ]
    },
    {
     "name": "stdout",
     "output_type": "stream",
     "text": [
      "Embedding created\n",
      "General Export Permit No. 47 — Export of Arms Trade Treaty Items to the United States\n"
     ]
    },
    {
     "name": "stderr",
     "output_type": "stream",
     "text": [
      "Processing Files:  61%|██████▏   | 1058/1721 [38:06<23:21,  2.11s/it]"
     ]
    },
    {
     "name": "stdout",
     "output_type": "stream",
     "text": [
      "Embedding created\n",
      "Credit Enhancement Fund Use Regulations\n"
     ]
    },
    {
     "name": "stderr",
     "output_type": "stream",
     "text": [
      "Processing Files:  62%|██████▏   | 1059/1721 [38:08<22:45,  2.06s/it]"
     ]
    },
    {
     "name": "stdout",
     "output_type": "stream",
     "text": [
      "Embedding created\n",
      "General Import Permit No. 1 — Dairy Products for Personal Use\n"
     ]
    },
    {
     "name": "stderr",
     "output_type": "stream",
     "text": [
      "Processing Files:  62%|██████▏   | 1060/1721 [38:10<22:38,  2.05s/it]"
     ]
    },
    {
     "name": "stdout",
     "output_type": "stream",
     "text": [
      "Embedding created\n",
      "General Load Line Rules\n"
     ]
    },
    {
     "name": "stderr",
     "output_type": "stream",
     "text": [
      "Processing Files:  62%|██████▏   | 1061/1721 [38:12<22:23,  2.03s/it]"
     ]
    },
    {
     "name": "stdout",
     "output_type": "stream",
     "text": [
      "Embedding created\n",
      "Exemption from Restrictions on Investments (Cooperative Credit Associations) Regulations\n"
     ]
    },
    {
     "name": "stderr",
     "output_type": "stream",
     "text": [
      "Processing Files:  62%|██████▏   | 1062/1721 [38:14<23:15,  2.12s/it]"
     ]
    },
    {
     "name": "stdout",
     "output_type": "stream",
     "text": [
      "Embedding created\n",
      "Boat and Fire Drill and Means of Exit Regulations\n"
     ]
    },
    {
     "name": "stderr",
     "output_type": "stream",
     "text": [
      "Processing Files:  62%|██████▏   | 1063/1721 [38:16<22:29,  2.05s/it]"
     ]
    },
    {
     "name": "stdout",
     "output_type": "stream",
     "text": [
      "Embedding created\n",
      "Establishment Licensing Fees (Veterinary Drugs) Regulations\n"
     ]
    },
    {
     "name": "stderr",
     "output_type": "stream",
     "text": [
      "Processing Files:  62%|██████▏   | 1064/1721 [38:18<22:03,  2.01s/it]"
     ]
    },
    {
     "name": "stdout",
     "output_type": "stream",
     "text": [
      "Embedding created\n",
      "Fresh Fruits and Vegetables (United States Tariff) Import Regulations\n"
     ]
    },
    {
     "name": "stderr",
     "output_type": "stream",
     "text": [
      "Processing Files:  62%|██████▏   | 1065/1721 [38:20<21:56,  2.01s/it]"
     ]
    },
    {
     "name": "stdout",
     "output_type": "stream",
     "text": [
      "Embedding created\n",
      "Affiliated Persons (Insurance Companies) Regulations\n"
     ]
    },
    {
     "name": "stderr",
     "output_type": "stream",
     "text": [
      "Processing Files:  62%|██████▏   | 1066/1721 [38:22<22:22,  2.05s/it]"
     ]
    },
    {
     "name": "stdout",
     "output_type": "stream",
     "text": [
      "Embedding created\n",
      "Foreign Vessel Fishing Regulations\n"
     ]
    },
    {
     "name": "stderr",
     "output_type": "stream",
     "text": [
      "Processing Files:  62%|██████▏   | 1067/1721 [38:24<22:22,  2.05s/it]"
     ]
    },
    {
     "name": "stdout",
     "output_type": "stream",
     "text": [
      "Embedding created\n",
      "Companies’ Creditors Arrangement Regulations\n"
     ]
    },
    {
     "name": "stderr",
     "output_type": "stream",
     "text": [
      "Processing Files:  62%|██████▏   | 1068/1721 [38:26<21:38,  1.99s/it]"
     ]
    },
    {
     "name": "stdout",
     "output_type": "stream",
     "text": [
      "Embedding created\n",
      "Canada Oil and Gas Production and Conservation Regulations\n"
     ]
    },
    {
     "name": "stderr",
     "output_type": "stream",
     "text": [
      "Processing Files:  62%|██████▏   | 1069/1721 [38:28<22:07,  2.04s/it]"
     ]
    },
    {
     "name": "stdout",
     "output_type": "stream",
     "text": [
      "Embedding created\n",
      "Regulations Respecting Applications for Permits for Disposal at Sea\n"
     ]
    },
    {
     "name": "stderr",
     "output_type": "stream",
     "text": [
      "Processing Files:  62%|██████▏   | 1070/1721 [38:31<22:41,  2.09s/it]"
     ]
    },
    {
     "name": "stdout",
     "output_type": "stream",
     "text": [
      "Embedding created\n",
      "Critical Habitat of the Northern Bottlenose Whale (Hyperoodon ampullatus) Scotian Shelf Population Order\n"
     ]
    },
    {
     "name": "stderr",
     "output_type": "stream",
     "text": [
      "Processing Files:  62%|██████▏   | 1071/1721 [38:33<23:09,  2.14s/it]"
     ]
    },
    {
     "name": "stdout",
     "output_type": "stream",
     "text": [
      "Embedding created\n",
      "General Import Permit No. 100 — Eligible Agriculture Goods\n"
     ]
    },
    {
     "name": "stderr",
     "output_type": "stream",
     "text": [
      "Processing Files:  62%|██████▏   | 1072/1721 [38:35<22:34,  2.09s/it]"
     ]
    },
    {
     "name": "stdout",
     "output_type": "stream",
     "text": [
      "Embedding created\n",
      "Critical Habitat of the Spring Cisco (Coregonus sp.) Order\n"
     ]
    },
    {
     "name": "stderr",
     "output_type": "stream",
     "text": [
      "Processing Files:  62%|██████▏   | 1073/1721 [38:37<23:32,  2.18s/it]"
     ]
    },
    {
     "name": "stdout",
     "output_type": "stream",
     "text": [
      "Embedding created\n",
      "First Nations Election Cancellation and Postponement Regulations (Prevention of Diseases)\n"
     ]
    },
    {
     "name": "stderr",
     "output_type": "stream",
     "text": [
      "Processing Files:  62%|██████▏   | 1074/1721 [38:39<23:11,  2.15s/it]"
     ]
    },
    {
     "name": "stdout",
     "output_type": "stream",
     "text": [
      "Embedding created\n",
      "Assigning to the Minister of the Environment, the Administration, Management and Control of Certain Public Lands\n"
     ]
    },
    {
     "name": "stderr",
     "output_type": "stream",
     "text": [
      "Processing Files:  62%|██████▏   | 1075/1721 [38:42<23:46,  2.21s/it]"
     ]
    },
    {
     "name": "stdout",
     "output_type": "stream",
     "text": [
      "Embedding created\n",
      "Deer Lake Airport Zoning Regulations\n"
     ]
    },
    {
     "name": "stderr",
     "output_type": "stream",
     "text": [
      "Processing Files:  63%|██████▎   | 1076/1721 [38:44<23:12,  2.16s/it]"
     ]
    },
    {
     "name": "stdout",
     "output_type": "stream",
     "text": [
      "Embedding created\n",
      "Distilled Spirits for Bottling in Bond Remission Order\n"
     ]
    },
    {
     "name": "stderr",
     "output_type": "stream",
     "text": [
      "Processing Files:  63%|██████▎   | 1077/1721 [38:45<22:18,  2.08s/it]"
     ]
    },
    {
     "name": "stdout",
     "output_type": "stream",
     "text": [
      "Embedding created\n",
      "Critical Habitat of the Northern Riffleshell (Epioblasma torulosa rangiana) Order\n"
     ]
    },
    {
     "name": "stderr",
     "output_type": "stream",
     "text": [
      "Processing Files:  63%|██████▎   | 1078/1721 [38:47<21:36,  2.02s/it]"
     ]
    },
    {
     "name": "stdout",
     "output_type": "stream",
     "text": [
      "Embedding created\n",
      "Designating the Civil Aviation Tribunal as a Department; the Minister of Transport as Appropriate Minister for Purposes of the Financial Administration Act and as Minister for Purposes of Section 31 of the Aeronautics Act\n"
     ]
    },
    {
     "name": "stderr",
     "output_type": "stream",
     "text": [
      "Processing Files:  63%|██████▎   | 1079/1721 [38:50<23:48,  2.22s/it]"
     ]
    },
    {
     "name": "stdout",
     "output_type": "stream",
     "text": [
      "Embedding created\n",
      "Canada Labour Standards Regulations\n"
     ]
    },
    {
     "name": "stderr",
     "output_type": "stream",
     "text": [
      "Processing Files:  63%|██████▎   | 1080/1721 [38:52<23:39,  2.21s/it]"
     ]
    },
    {
     "name": "stdout",
     "output_type": "stream",
     "text": [
      "Embedding created\n",
      "Authorizations to Carry Restricted Firearms and Certain Handguns Regulations\n"
     ]
    },
    {
     "name": "stderr",
     "output_type": "stream",
     "text": [
      "Processing Files:  63%|██████▎   | 1081/1721 [38:54<22:41,  2.13s/it]"
     ]
    },
    {
     "name": "stdout",
     "output_type": "stream",
     "text": [
      "Embedding created\n",
      "Advertising Material Remission Order\n"
     ]
    },
    {
     "name": "stderr",
     "output_type": "stream",
     "text": [
      "Processing Files:  63%|██████▎   | 1082/1721 [38:57<24:14,  2.28s/it]"
     ]
    },
    {
     "name": "stdout",
     "output_type": "stream",
     "text": [
      "Embedding created\n",
      "Drug Evaluation Fees Regulations\n"
     ]
    },
    {
     "name": "stderr",
     "output_type": "stream",
     "text": [
      "Processing Files:  63%|██████▎   | 1083/1721 [38:59<22:49,  2.15s/it]"
     ]
    },
    {
     "name": "stdout",
     "output_type": "stream",
     "text": [
      "Embedding created\n",
      "Critical Habitat of the Coastrange Sculpin (Cottus aleuticus) Cultus Population Order\n"
     ]
    },
    {
     "name": "stderr",
     "output_type": "stream",
     "text": [
      "Processing Files:  63%|██████▎   | 1084/1721 [39:01<22:10,  2.09s/it]"
     ]
    },
    {
     "name": "stdout",
     "output_type": "stream",
     "text": [
      "Embedding created\n",
      "Burlington Canal Regulations\n"
     ]
    },
    {
     "name": "stderr",
     "output_type": "stream",
     "text": [
      "Processing Files:  63%|██████▎   | 1085/1721 [39:03<21:46,  2.05s/it]"
     ]
    },
    {
     "name": "stdout",
     "output_type": "stream",
     "text": [
      "Embedding created\n",
      "African Union Privileges and Immunities Order\n"
     ]
    },
    {
     "name": "stderr",
     "output_type": "stream",
     "text": [
      "Processing Files:  63%|██████▎   | 1086/1721 [39:05<21:47,  2.06s/it]"
     ]
    },
    {
     "name": "stdout",
     "output_type": "stream",
     "text": [
      "Embedding created\n",
      "Carrot Stabilization Regulations, 1982-83\n"
     ]
    },
    {
     "name": "stderr",
     "output_type": "stream",
     "text": [
      "Processing Files:  63%|██████▎   | 1087/1721 [39:07<21:56,  2.08s/it]"
     ]
    },
    {
     "name": "stdout",
     "output_type": "stream",
     "text": [
      "Embedding created\n",
      "Caribbean Development Bank Privileges and Immunities Order\n"
     ]
    },
    {
     "name": "stderr",
     "output_type": "stream",
     "text": [
      "Processing Files:  63%|██████▎   | 1088/1721 [39:09<21:42,  2.06s/it]"
     ]
    },
    {
     "name": "stdout",
     "output_type": "stream",
     "text": [
      "Embedding created\n",
      "Canadian Heraldic Authority Fee Order\n"
     ]
    },
    {
     "name": "stderr",
     "output_type": "stream",
     "text": [
      "Processing Files:  63%|██████▎   | 1089/1721 [39:11<21:09,  2.01s/it]"
     ]
    },
    {
     "name": "stdout",
     "output_type": "stream",
     "text": [
      "Embedding created\n",
      "Credit Information (Insurance Companies) Regulations\n"
     ]
    },
    {
     "name": "stderr",
     "output_type": "stream",
     "text": [
      "Processing Files:  63%|██████▎   | 1090/1721 [39:13<21:20,  2.03s/it]"
     ]
    },
    {
     "name": "stdout",
     "output_type": "stream",
     "text": [
      "Embedding created\n",
      "CUFTA Rules of Origin Regulations\n"
     ]
    },
    {
     "name": "stderr",
     "output_type": "stream",
     "text": [
      "Processing Files:  63%|██████▎   | 1091/1721 [39:15<22:20,  2.13s/it]"
     ]
    },
    {
     "name": "stdout",
     "output_type": "stream",
     "text": [
      "Embedding created\n",
      "Accounting for Imported Goods and Payment of Duties Regulations\n"
     ]
    },
    {
     "name": "stderr",
     "output_type": "stream",
     "text": [
      "Processing Files:  63%|██████▎   | 1092/1721 [39:17<22:44,  2.17s/it]"
     ]
    },
    {
     "name": "stdout",
     "output_type": "stream",
     "text": [
      "Embedding not created\n",
      "Customs Tariff Remission Order, 1979\n"
     ]
    },
    {
     "name": "stderr",
     "output_type": "stream",
     "text": [
      "Processing Files:  64%|██████▎   | 1093/1721 [39:20<23:50,  2.28s/it]"
     ]
    },
    {
     "name": "stdout",
     "output_type": "stream",
     "text": [
      "Embedding created\n",
      "Exemption from Restrictions on Investments (Insurance Companies, Insurance Holding Companies and Societies) Regulations\n"
     ]
    },
    {
     "name": "stderr",
     "output_type": "stream",
     "text": [
      "Processing Files:  64%|██████▎   | 1094/1721 [39:22<22:53,  2.19s/it]"
     ]
    },
    {
     "name": "stdout",
     "output_type": "stream",
     "text": [
      "Embedding created\n",
      "Cambridge Bay Airport Zoning Regulations\n"
     ]
    },
    {
     "name": "stderr",
     "output_type": "stream",
     "text": [
      "Processing Files:  64%|██████▎   | 1095/1721 [39:24<22:47,  2.18s/it]"
     ]
    },
    {
     "name": "stdout",
     "output_type": "stream",
     "text": [
      "Embedding created\n",
      "CCFTA Rules of Origin Regulations\n"
     ]
    },
    {
     "name": "stderr",
     "output_type": "stream",
     "text": [
      "Processing Files:  64%|██████▎   | 1096/1721 [39:26<23:08,  2.22s/it]"
     ]
    },
    {
     "name": "stdout",
     "output_type": "stream",
     "text": [
      "Embedding created\n",
      "Defence Floating Equipment Rental Order\n"
     ]
    },
    {
     "name": "stderr",
     "output_type": "stream",
     "text": [
      "Processing Files:  64%|██████▎   | 1097/1721 [39:28<21:45,  2.09s/it]"
     ]
    },
    {
     "name": "stdout",
     "output_type": "stream",
     "text": [
      "Embedding created\n",
      "First Nations Oil and Gas and Moneys Management Voting Regulations\n"
     ]
    },
    {
     "name": "stderr",
     "output_type": "stream",
     "text": [
      "Processing Files:  64%|██████▍   | 1098/1721 [39:30<20:57,  2.02s/it]"
     ]
    },
    {
     "name": "stdout",
     "output_type": "stream",
     "text": [
      "Embedding created\n",
      "Canada-Nova Scotia Oil and Gas Spills and Debris Liability Regulations\n"
     ]
    },
    {
     "name": "stderr",
     "output_type": "stream",
     "text": [
      "Processing Files:  64%|██████▍   | 1099/1721 [39:32<21:25,  2.07s/it]"
     ]
    },
    {
     "name": "stdout",
     "output_type": "stream",
     "text": [
      "Embedding created\n",
      "British Columbia Turkey Order\n"
     ]
    },
    {
     "name": "stderr",
     "output_type": "stream",
     "text": [
      "Processing Files:  64%|██████▍   | 1100/1721 [39:34<21:42,  2.10s/it]"
     ]
    },
    {
     "name": "stdout",
     "output_type": "stream",
     "text": [
      "Embedding created\n",
      "Game Declared in Danger of Becoming Extinct\n"
     ]
    },
    {
     "name": "stderr",
     "output_type": "stream",
     "text": [
      "Processing Files:  64%|██████▍   | 1101/1721 [39:36<21:19,  2.06s/it]"
     ]
    },
    {
     "name": "stdout",
     "output_type": "stream",
     "text": [
      "Embedding created\n",
      "Advance Payments for Crops Guarantee Assignments Regulations\n"
     ]
    },
    {
     "name": "stderr",
     "output_type": "stream",
     "text": [
      "Processing Files:  64%|██████▍   | 1102/1721 [39:38<20:43,  2.01s/it]"
     ]
    },
    {
     "name": "stdout",
     "output_type": "stream",
     "text": [
      "Embedding not created\n",
      "Critical Habitat of the Silver Shiner (Notropis photogenis) Order\n"
     ]
    },
    {
     "name": "stderr",
     "output_type": "stream",
     "text": [
      "Processing Files:  64%|██████▍   | 1103/1721 [39:42<27:23,  2.66s/it]"
     ]
    },
    {
     "name": "stdout",
     "output_type": "stream",
     "text": [
      "Embedding created\n",
      "AECL Tandem Accelerator Superconducting Cyclotron Complex Remission Order\n"
     ]
    },
    {
     "name": "stderr",
     "output_type": "stream",
     "text": [
      "Processing Files:  64%|██████▍   | 1104/1721 [39:44<25:13,  2.45s/it]"
     ]
    },
    {
     "name": "stdout",
     "output_type": "stream",
     "text": [
      "Embedding created\n",
      "Canada Emergency Student Benefit Regulations\n"
     ]
    },
    {
     "name": "stderr",
     "output_type": "stream",
     "text": [
      "Processing Files:  64%|██████▍   | 1105/1721 [39:50<33:51,  3.30s/it]"
     ]
    },
    {
     "name": "stdout",
     "output_type": "stream",
     "text": [
      "Embedding created\n",
      "B.C. Tree Fruit Export Regulations\n"
     ]
    },
    {
     "name": "stderr",
     "output_type": "stream",
     "text": [
      "Processing Files:  64%|██████▍   | 1106/1721 [39:52<32:20,  3.15s/it]"
     ]
    },
    {
     "name": "stdout",
     "output_type": "stream",
     "text": [
      "Embedding created\n",
      "Canadian Transportation Agency General Rules\n"
     ]
    },
    {
     "name": "stderr",
     "output_type": "stream",
     "text": [
      "Processing Files:  64%|██████▍   | 1107/1721 [39:54<28:12,  2.76s/it]"
     ]
    },
    {
     "name": "stdout",
     "output_type": "stream",
     "text": [
      "Embedding created\n",
      "Civil Service Insurance Regulations\n"
     ]
    },
    {
     "name": "stderr",
     "output_type": "stream",
     "text": [
      "Processing Files:  64%|██████▍   | 1108/1721 [39:56<25:48,  2.53s/it]"
     ]
    },
    {
     "name": "stdout",
     "output_type": "stream",
     "text": [
      "Embedding created\n",
      "Blouses and Shirts Remission Order\n"
     ]
    },
    {
     "name": "stderr",
     "output_type": "stream",
     "text": [
      "Processing Files:  64%|██████▍   | 1109/1721 [39:58<23:44,  2.33s/it]"
     ]
    },
    {
     "name": "stdout",
     "output_type": "stream",
     "text": [
      "Embedding created\n",
      "Aboriginal Peoples of Canada Adaptations Regulations (Firearms)\n"
     ]
    },
    {
     "name": "stderr",
     "output_type": "stream",
     "text": [
      "Processing Files:  64%|██████▍   | 1110/1721 [40:00<23:04,  2.27s/it]"
     ]
    },
    {
     "name": "stdout",
     "output_type": "stream",
     "text": [
      "Embedding not created\n",
      "2014 Summit on Maternal, Newborn and Child Health — Privileges and Immunities Order\n"
     ]
    },
    {
     "name": "stderr",
     "output_type": "stream",
     "text": [
      "Processing Files:  65%|██████▍   | 1111/1721 [40:02<22:34,  2.22s/it]"
     ]
    },
    {
     "name": "stdout",
     "output_type": "stream",
     "text": [
      "Embedding created\n",
      "Canada Small Business Financing Regulations\n"
     ]
    },
    {
     "name": "stderr",
     "output_type": "stream",
     "text": [
      "Processing Files:  65%|██████▍   | 1112/1721 [40:04<21:50,  2.15s/it]"
     ]
    },
    {
     "name": "stdout",
     "output_type": "stream",
     "text": [
      "Embedding created\n",
      "Commissioner’s Standing Orders (Qualifications)\n"
     ]
    },
    {
     "name": "stderr",
     "output_type": "stream",
     "text": [
      "Processing Files:  65%|██████▍   | 1113/1721 [40:06<20:57,  2.07s/it]"
     ]
    },
    {
     "name": "stdout",
     "output_type": "stream",
     "text": [
      "Embedding created\n",
      "Baie Verte Mines Inc. Regulations\n"
     ]
    },
    {
     "name": "stderr",
     "output_type": "stream",
     "text": [
      "Processing Files:  65%|██████▍   | 1114/1721 [40:08<21:09,  2.09s/it]"
     ]
    },
    {
     "name": "stdout",
     "output_type": "stream",
     "text": [
      "Embedding not created\n",
      "Corn 1987 Period Stabilization Regulations\n"
     ]
    },
    {
     "name": "stderr",
     "output_type": "stream",
     "text": [
      "Processing Files:  65%|██████▍   | 1115/1721 [40:11<21:50,  2.16s/it]"
     ]
    },
    {
     "name": "stdout",
     "output_type": "stream",
     "text": [
      "Embedding created\n",
      "Agricultural Product Priority Claim (Banks) Regulations\n"
     ]
    },
    {
     "name": "stderr",
     "output_type": "stream",
     "text": [
      "Processing Files:  65%|██████▍   | 1116/1721 [40:13<21:58,  2.18s/it]"
     ]
    },
    {
     "name": "stdout",
     "output_type": "stream",
     "text": [
      "Embedding not created\n",
      "Canadian National Railway Company Wholly-Owned Subsidiaries Incorporation Authorization Order, 1990\n"
     ]
    },
    {
     "name": "stderr",
     "output_type": "stream",
     "text": [
      "Processing Files:  65%|██████▍   | 1117/1721 [40:15<21:15,  2.11s/it]"
     ]
    },
    {
     "name": "stdout",
     "output_type": "stream",
     "text": [
      "Embedding created\n",
      "Hazardous Materials Information Review Regulations\n"
     ]
    },
    {
     "name": "stderr",
     "output_type": "stream",
     "text": [
      "Processing Files:  65%|██████▍   | 1118/1721 [40:17<20:49,  2.07s/it]"
     ]
    },
    {
     "name": "stdout",
     "output_type": "stream",
     "text": [
      "Embedding created\n",
      "Additional Canada Pension Plan Sustainability Regulations\n"
     ]
    },
    {
     "name": "stderr",
     "output_type": "stream",
     "text": [
      "Processing Files:  65%|██████▌   | 1119/1721 [40:19<21:18,  2.12s/it]"
     ]
    },
    {
     "name": "stdout",
     "output_type": "stream",
     "text": [
      "Embedding created\n",
      "Authorizations to Transport Restricted Firearms and Prohibited Firearms Regulations\n"
     ]
    },
    {
     "name": "stderr",
     "output_type": "stream",
     "text": [
      "Processing Files:  65%|██████▌   | 1120/1721 [40:21<21:16,  2.12s/it]"
     ]
    },
    {
     "name": "stdout",
     "output_type": "stream",
     "text": [
      "Embedding created\n",
      "China Direct Shipment Condition Exemption Order\n"
     ]
    },
    {
     "name": "stderr",
     "output_type": "stream",
     "text": [
      "Processing Files:  65%|██████▌   | 1121/1721 [40:23<20:23,  2.04s/it]"
     ]
    },
    {
     "name": "stdout",
     "output_type": "stream",
     "text": [
      "Embedding created\n",
      "Agricultural Marketing Programs Regulations\n"
     ]
    },
    {
     "name": "stderr",
     "output_type": "stream",
     "text": [
      "Processing Files:  65%|██████▌   | 1122/1721 [40:25<20:29,  2.05s/it]"
     ]
    },
    {
     "name": "stdout",
     "output_type": "stream",
     "text": [
      "Embedding created\n",
      "Aircraft (International Service) Remission Order\n"
     ]
    },
    {
     "name": "stderr",
     "output_type": "stream",
     "text": [
      "Processing Files:  65%|██████▌   | 1123/1721 [40:27<20:30,  2.06s/it]"
     ]
    },
    {
     "name": "stdout",
     "output_type": "stream",
     "text": [
      "Embedding created\n",
      "CCRFTA Non-entitlement to Preference Regulations\n"
     ]
    },
    {
     "name": "stderr",
     "output_type": "stream",
     "text": [
      "Processing Files:  65%|██████▌   | 1124/1721 [40:29<20:18,  2.04s/it]"
     ]
    },
    {
     "name": "stdout",
     "output_type": "stream",
     "text": [
      "Embedding created\n",
      "Fort McPherson Airport Zoning Regulations\n"
     ]
    },
    {
     "name": "stderr",
     "output_type": "stream",
     "text": [
      "Processing Files:  65%|██████▌   | 1125/1721 [40:32<21:33,  2.17s/it]"
     ]
    },
    {
     "name": "stdout",
     "output_type": "stream",
     "text": [
      "Embedding created\n",
      "Customs Duties Accelerated Reduction Order, No. 1\n"
     ]
    },
    {
     "name": "stderr",
     "output_type": "stream",
     "text": [
      "Processing Files:  65%|██████▌   | 1126/1721 [40:34<20:46,  2.09s/it]"
     ]
    },
    {
     "name": "stdout",
     "output_type": "stream",
     "text": [
      "Embedding created\n",
      "Banking Industry Commission-paid Salespeople Hours of Work Regulations\n"
     ]
    },
    {
     "name": "stderr",
     "output_type": "stream",
     "text": [
      "Processing Files:  65%|██████▌   | 1127/1721 [40:36<20:26,  2.06s/it]"
     ]
    },
    {
     "name": "stdout",
     "output_type": "stream",
     "text": [
      "Embedding created\n",
      "Denial of Licences for Family Orders and Agreements Enforcement Regulations\n"
     ]
    },
    {
     "name": "stderr",
     "output_type": "stream",
     "text": [
      "Processing Files:  66%|██████▌   | 1128/1721 [40:38<20:06,  2.03s/it]"
     ]
    },
    {
     "name": "stdout",
     "output_type": "stream",
     "text": [
      "Embedding created\n",
      "CIFTA Tariff Preference Regulations\n"
     ]
    },
    {
     "name": "stderr",
     "output_type": "stream",
     "text": [
      "Processing Files:  66%|██████▌   | 1129/1721 [40:40<19:57,  2.02s/it]"
     ]
    },
    {
     "name": "stdout",
     "output_type": "stream",
     "text": [
      "Embedding created\n",
      "Order Declaring an Amnesty Period\n"
     ]
    },
    {
     "name": "stderr",
     "output_type": "stream",
     "text": [
      "Processing Files:  66%|██████▌   | 1130/1721 [40:42<22:04,  2.24s/it]"
     ]
    },
    {
     "name": "stdout",
     "output_type": "stream",
     "text": [
      "Embedding created\n",
      "Atomic Energy of Canada Limited Authorization Order, 1988\n"
     ]
    },
    {
     "name": "stderr",
     "output_type": "stream",
     "text": [
      "Processing Files:  66%|██████▌   | 1131/1721 [40:44<21:11,  2.15s/it]"
     ]
    },
    {
     "name": "stdout",
     "output_type": "stream",
     "text": [
      "Embedding created\n",
      "Fisheries Improvement Loans Regulations\n"
     ]
    },
    {
     "name": "stderr",
     "output_type": "stream",
     "text": [
      "Processing Files:  66%|██████▌   | 1132/1721 [40:46<20:26,  2.08s/it]"
     ]
    },
    {
     "name": "stdout",
     "output_type": "stream",
     "text": [
      "Embedding created\n",
      "Canadian Radio-television and Telecommunications Commission Accessibility Reporting Regulations\n"
     ]
    },
    {
     "name": "stderr",
     "output_type": "stream",
     "text": [
      "Processing Files:  66%|██████▌   | 1133/1721 [40:48<20:43,  2.12s/it]"
     ]
    },
    {
     "name": "stdout",
     "output_type": "stream",
     "text": [
      "Embedding created\n",
      "Access to Funds Regulations\n"
     ]
    },
    {
     "name": "stderr",
     "output_type": "stream",
     "text": [
      "Processing Files:  66%|██████▌   | 1134/1721 [40:50<20:32,  2.10s/it]"
     ]
    },
    {
     "name": "stdout",
     "output_type": "stream",
     "text": [
      "Embedding not created\n",
      "Canadian Orders, Decorations and Medals Directive, 1998\n"
     ]
    },
    {
     "name": "stderr",
     "output_type": "stream",
     "text": [
      "Processing Files:  66%|██████▌   | 1135/1721 [40:52<20:16,  2.08s/it]"
     ]
    },
    {
     "name": "stdout",
     "output_type": "stream",
     "text": [
      "Embedding created\n",
      "Critical Habitat of the Eastern Sand Darter (Ammocrypta pellucida) Ontario Populations Order\n"
     ]
    },
    {
     "name": "stderr",
     "output_type": "stream",
     "text": [
      "Processing Files:  66%|██████▌   | 1136/1721 [40:55<21:12,  2.17s/it]"
     ]
    },
    {
     "name": "stdout",
     "output_type": "stream",
     "text": [
      "Embedding created\n",
      "Asian Development Bank Privileges and Immunities Order\n"
     ]
    },
    {
     "name": "stderr",
     "output_type": "stream",
     "text": [
      "Processing Files:  66%|██████▌   | 1137/1721 [40:57<20:38,  2.12s/it]"
     ]
    },
    {
     "name": "stdout",
     "output_type": "stream",
     "text": [
      "Embedding created\n",
      "American Consumption of Softwood Lumber Products Regulations\n"
     ]
    },
    {
     "name": "stderr",
     "output_type": "stream",
     "text": [
      "Processing Files:  66%|██████▌   | 1138/1721 [40:59<21:18,  2.19s/it]"
     ]
    },
    {
     "name": "stdout",
     "output_type": "stream",
     "text": [
      "Embedding created\n",
      "Certain Foreign Extraterritorial Measures (United States) Order, 2014\n"
     ]
    },
    {
     "name": "stderr",
     "output_type": "stream",
     "text": [
      "Processing Files:  66%|██████▌   | 1139/1721 [41:01<20:42,  2.13s/it]"
     ]
    },
    {
     "name": "stdout",
     "output_type": "stream",
     "text": [
      "Embedding created\n",
      "Government Contracts Regulations\n"
     ]
    },
    {
     "name": "stderr",
     "output_type": "stream",
     "text": [
      "Processing Files:  66%|██████▌   | 1140/1721 [41:03<20:14,  2.09s/it]"
     ]
    },
    {
     "name": "stdout",
     "output_type": "stream",
     "text": [
      "Embedding created\n",
      "Cranbrook Airport Zoning Regulations\n"
     ]
    },
    {
     "name": "stderr",
     "output_type": "stream",
     "text": [
      "Processing Files:  66%|██████▋   | 1141/1721 [41:05<20:02,  2.07s/it]"
     ]
    },
    {
     "name": "stdout",
     "output_type": "stream",
     "text": [
      "Embedding created\n",
      "CCOFTA Verification of Origin Regulations\n"
     ]
    },
    {
     "name": "stderr",
     "output_type": "stream",
     "text": [
      "Processing Files:  66%|██████▋   | 1142/1721 [41:07<19:41,  2.04s/it]"
     ]
    },
    {
     "name": "stdout",
     "output_type": "stream",
     "text": [
      "Embedding created\n",
      "Accountable Advances Regulations\n"
     ]
    },
    {
     "name": "stderr",
     "output_type": "stream",
     "text": [
      "Processing Files:  66%|██████▋   | 1143/1721 [41:09<19:53,  2.07s/it]"
     ]
    },
    {
     "name": "stdout",
     "output_type": "stream",
     "text": [
      "Embedding not created\n",
      "Regulations Establishing Conditions for Making Regulations Under Subsection 36(5.2) of the Fisheries Act\n"
     ]
    },
    {
     "name": "stderr",
     "output_type": "stream",
     "text": [
      "Processing Files:  66%|██████▋   | 1144/1721 [41:11<19:14,  2.00s/it]"
     ]
    },
    {
     "name": "stdout",
     "output_type": "stream",
     "text": [
      "Embedding created\n",
      "Environmental Response Arrangements Regulations\n"
     ]
    },
    {
     "name": "stderr",
     "output_type": "stream",
     "text": [
      "Processing Files:  67%|██████▋   | 1145/1721 [41:13<18:52,  1.97s/it]"
     ]
    },
    {
     "name": "stdout",
     "output_type": "stream",
     "text": [
      "Embedding created\n",
      "Enterprise Development Regulations\n"
     ]
    },
    {
     "name": "stderr",
     "output_type": "stream",
     "text": [
      "Processing Files:  67%|██████▋   | 1146/1721 [41:15<19:05,  1.99s/it]"
     ]
    },
    {
     "name": "stdout",
     "output_type": "stream",
     "text": [
      "Embedding created\n",
      "Asbestos Products Regulations\n"
     ]
    },
    {
     "name": "stderr",
     "output_type": "stream",
     "text": [
      "Processing Files:  67%|██████▋   | 1147/1721 [41:17<19:34,  2.05s/it]"
     ]
    },
    {
     "name": "stdout",
     "output_type": "stream",
     "text": [
      "Embedding created\n",
      "Compensation for Destroyed Animals Regulations\n"
     ]
    },
    {
     "name": "stderr",
     "output_type": "stream",
     "text": [
      "Processing Files:  67%|██████▋   | 1148/1721 [41:19<19:25,  2.03s/it]"
     ]
    },
    {
     "name": "stdout",
     "output_type": "stream",
     "text": [
      "Embedding created\n",
      "By-laws of the College of Patent Agents and Trademark Agents (Board)\n"
     ]
    },
    {
     "name": "stderr",
     "output_type": "stream",
     "text": [
      "Processing Files:  67%|██████▋   | 1149/1721 [41:21<19:18,  2.02s/it]"
     ]
    },
    {
     "name": "stdout",
     "output_type": "stream",
     "text": [
      "Embedding created\n",
      "Arctic Shipping Pollution Prevention Regulations\n"
     ]
    },
    {
     "name": "stderr",
     "output_type": "stream",
     "text": [
      "Processing Files:  67%|██████▋   | 1150/1721 [41:23<18:54,  1.99s/it]"
     ]
    },
    {
     "name": "stdout",
     "output_type": "stream",
     "text": [
      "Embedding created\n",
      "Administrative Monetary Penalties (Motor Vehicle Safety) Regulations\n"
     ]
    },
    {
     "name": "stderr",
     "output_type": "stream",
     "text": [
      "Processing Files:  67%|██████▋   | 1151/1721 [41:25<18:27,  1.94s/it]"
     ]
    },
    {
     "name": "stdout",
     "output_type": "stream",
     "text": [
      "Embedding not created\n",
      "Dangerous Goods Shipping Regulations\n"
     ]
    },
    {
     "name": "stderr",
     "output_type": "stream",
     "text": [
      "Processing Files:  67%|██████▋   | 1152/1721 [41:27<18:20,  1.93s/it]"
     ]
    },
    {
     "name": "stdout",
     "output_type": "stream",
     "text": [
      "Embedding created\n",
      "European Union Surtax Order\n"
     ]
    },
    {
     "name": "stderr",
     "output_type": "stream",
     "text": [
      "Processing Files:  67%|██████▋   | 1153/1721 [41:29<18:12,  1.92s/it]"
     ]
    },
    {
     "name": "stdout",
     "output_type": "stream",
     "text": [
      "Embedding created\n",
      "Canadian Egg Marketing Agency Quota Regulations, 1986\n"
     ]
    },
    {
     "name": "stderr",
     "output_type": "stream",
     "text": [
      "Processing Files:  67%|██████▋   | 1154/1721 [41:31<18:29,  1.96s/it]"
     ]
    },
    {
     "name": "stdout",
     "output_type": "stream",
     "text": [
      "Embedding created\n",
      "Apple Stabilization Regulations, 1980\n"
     ]
    },
    {
     "name": "stderr",
     "output_type": "stream",
     "text": [
      "Processing Files:  67%|██████▋   | 1155/1721 [41:34<21:29,  2.28s/it]"
     ]
    },
    {
     "name": "stdout",
     "output_type": "stream",
     "text": [
      "Embedding created\n",
      "Alberta Turkey Marketing Levies Order\n"
     ]
    },
    {
     "name": "stderr",
     "output_type": "stream",
     "text": [
      "Processing Files:  67%|██████▋   | 1156/1721 [41:36<21:13,  2.25s/it]"
     ]
    },
    {
     "name": "stdout",
     "output_type": "stream",
     "text": [
      "Embedding created\n",
      "Additional Canada Pension Plan Sustainability Regulations\n"
     ]
    },
    {
     "name": "stderr",
     "output_type": "stream",
     "text": [
      "Processing Files:  67%|██████▋   | 1157/1721 [41:38<20:04,  2.14s/it]"
     ]
    },
    {
     "name": "stdout",
     "output_type": "stream",
     "text": [
      "Embedding not created\n",
      "Exemption for Public Notices or Documents (Banks and Bank Holding Companies) Regulations\n"
     ]
    },
    {
     "name": "stderr",
     "output_type": "stream",
     "text": [
      "Processing Files:  67%|██████▋   | 1158/1721 [41:40<19:52,  2.12s/it]"
     ]
    },
    {
     "name": "stdout",
     "output_type": "stream",
     "text": [
      "Embedding created\n",
      "Regulation Adapting the Canada Elections Act for the Purposes of a Referendum\n"
     ]
    },
    {
     "name": "stderr",
     "output_type": "stream",
     "text": [
      "Processing Files:  67%|██████▋   | 1159/1721 [41:42<19:24,  2.07s/it]"
     ]
    },
    {
     "name": "stdout",
     "output_type": "stream",
     "text": [
      "Embedding created\n",
      "Feeds Regulations, 1983\n"
     ]
    },
    {
     "name": "stderr",
     "output_type": "stream",
     "text": [
      "Processing Files:  67%|██████▋   | 1160/1721 [41:44<18:57,  2.03s/it]"
     ]
    },
    {
     "name": "stdout",
     "output_type": "stream",
     "text": [
      "Embedding created\n",
      "Canadian Pork Promotion-Research Levies Order\n"
     ]
    },
    {
     "name": "stderr",
     "output_type": "stream",
     "text": [
      "Processing Files:  67%|██████▋   | 1161/1721 [41:46<19:20,  2.07s/it]"
     ]
    },
    {
     "name": "stdout",
     "output_type": "stream",
     "text": [
      "Embedding created\n",
      "Order Declaring an Amnesty Period (2020)\n"
     ]
    },
    {
     "name": "stderr",
     "output_type": "stream",
     "text": [
      "Processing Files:  68%|██████▊   | 1162/1721 [41:48<19:48,  2.13s/it]"
     ]
    },
    {
     "name": "stdout",
     "output_type": "stream",
     "text": [
      "Embedding created\n",
      "Foreign Claims (Bulgaria) Settlement Regulations\n"
     ]
    },
    {
     "name": "stderr",
     "output_type": "stream",
     "text": [
      "Processing Files:  68%|██████▊   | 1163/1721 [41:50<19:43,  2.12s/it]"
     ]
    },
    {
     "name": "stdout",
     "output_type": "stream",
     "text": [
      "Embedding created\n",
      "Aircraft Objects Regulations\n"
     ]
    },
    {
     "name": "stderr",
     "output_type": "stream",
     "text": [
      "Processing Files:  68%|██████▊   | 1164/1721 [41:52<19:12,  2.07s/it]"
     ]
    },
    {
     "name": "stdout",
     "output_type": "stream",
     "text": [
      "Embedding created\n",
      "Establishing Timelines for Comprehensive Studies Regulations\n"
     ]
    },
    {
     "name": "stderr",
     "output_type": "stream",
     "text": [
      "Processing Files:  68%|██████▊   | 1165/1721 [41:54<18:42,  2.02s/it]"
     ]
    },
    {
     "name": "stdout",
     "output_type": "stream",
     "text": [
      "Embedding created\n",
      "British Columbia Hog Order\n"
     ]
    },
    {
     "name": "stderr",
     "output_type": "stream",
     "text": [
      "Processing Files:  68%|██████▊   | 1166/1721 [41:56<18:57,  2.05s/it]"
     ]
    },
    {
     "name": "stdout",
     "output_type": "stream",
     "text": [
      "Embedding created\n",
      "CETA Tariff Preference Regulations\n"
     ]
    },
    {
     "name": "stderr",
     "output_type": "stream",
     "text": [
      "Processing Files:  68%|██████▊   | 1167/1721 [41:59<18:56,  2.05s/it]"
     ]
    },
    {
     "name": "stdout",
     "output_type": "stream",
     "text": [
      "Embedding created\n",
      "Direction Respecting Flight Cancellations for Situations Outside of a Carrier’s Control\n"
     ]
    },
    {
     "name": "stderr",
     "output_type": "stream",
     "text": [
      "Processing Files:  68%|██████▊   | 1168/1721 [42:00<18:35,  2.02s/it]"
     ]
    },
    {
     "name": "stdout",
     "output_type": "stream",
     "text": [
      "Embedding created\n",
      "CETA Rules of Origin Regulations\n"
     ]
    },
    {
     "name": "stderr",
     "output_type": "stream",
     "text": [
      "Processing Files:  68%|██████▊   | 1169/1721 [42:02<18:07,  1.97s/it]"
     ]
    },
    {
     "name": "stdout",
     "output_type": "stream",
     "text": [
      "Embedding created\n",
      "Determination of Country of Origin for the Purpose of Marking Goods (CUSMA Countries) Regulations\n"
     ]
    },
    {
     "name": "stderr",
     "output_type": "stream",
     "text": [
      "Processing Files:  68%|██████▊   | 1170/1721 [42:04<17:43,  1.93s/it]"
     ]
    },
    {
     "name": "stdout",
     "output_type": "stream",
     "text": [
      "Embedding created\n",
      "Canadian Egg Anti-dumping Pricing Regulations\n"
     ]
    },
    {
     "name": "stderr",
     "output_type": "stream",
     "text": [
      "Processing Files:  68%|██████▊   | 1171/1721 [42:06<18:31,  2.02s/it]"
     ]
    },
    {
     "name": "stdout",
     "output_type": "stream",
     "text": [
      "Embedding created\n",
      "Electronic Documents (Insurance and Insurance Holding Companies) Regulations\n"
     ]
    },
    {
     "name": "stderr",
     "output_type": "stream",
     "text": [
      "Processing Files:  68%|██████▊   | 1172/1721 [42:08<17:59,  1.97s/it]"
     ]
    },
    {
     "name": "stdout",
     "output_type": "stream",
     "text": [
      "Embedding created\n",
      "General Import Permit No. 108 — CWC Toxic Chemicals and Precursors\n"
     ]
    },
    {
     "name": "stderr",
     "output_type": "stream",
     "text": [
      "Processing Files:  68%|██████▊   | 1173/1721 [42:11<19:11,  2.10s/it]"
     ]
    },
    {
     "name": "stdout",
     "output_type": "stream",
     "text": [
      "Embedding created\n",
      "Alpine Joe Sportswear Remission Order, 1998\n"
     ]
    },
    {
     "name": "stderr",
     "output_type": "stream",
     "text": [
      "Processing Files:  68%|██████▊   | 1174/1721 [42:13<19:10,  2.10s/it]"
     ]
    },
    {
     "name": "stdout",
     "output_type": "stream",
     "text": [
      "Embedding created\n",
      "Energy Conservation Equipment Exemption Regulations\n"
     ]
    },
    {
     "name": "stderr",
     "output_type": "stream",
     "text": [
      "Processing Files:  68%|██████▊   | 1175/1721 [42:15<19:13,  2.11s/it]"
     ]
    },
    {
     "name": "stdout",
     "output_type": "stream",
     "text": [
      "Embedding created\n",
      "Conference of American Armies Privileges and Immunities Order\n"
     ]
    },
    {
     "name": "stderr",
     "output_type": "stream",
     "text": [
      "Processing Files:  68%|██████▊   | 1176/1721 [42:17<19:17,  2.12s/it]"
     ]
    },
    {
     "name": "stdout",
     "output_type": "stream",
     "text": [
      "Embedding created\n",
      "Export Permits Regulations\n"
     ]
    },
    {
     "name": "stderr",
     "output_type": "stream",
     "text": [
      "Processing Files:  68%|██████▊   | 1177/1721 [42:19<18:35,  2.05s/it]"
     ]
    },
    {
     "name": "stdout",
     "output_type": "stream",
     "text": [
      "Embedding created\n",
      "Rules of the Board of Arbitration (Agriculture and Agri-Food)\n"
     ]
    },
    {
     "name": "stderr",
     "output_type": "stream",
     "text": [
      "Processing Files:  68%|██████▊   | 1178/1721 [42:21<18:03,  2.00s/it]"
     ]
    },
    {
     "name": "stdout",
     "output_type": "stream",
     "text": [
      "Embedding created\n",
      "AECB Cost Recovery Fees Remission Order, 1997\n"
     ]
    },
    {
     "name": "stderr",
     "output_type": "stream",
     "text": [
      "Processing Files:  69%|██████▊   | 1179/1721 [42:23<18:48,  2.08s/it]"
     ]
    },
    {
     "name": "stdout",
     "output_type": "stream",
     "text": [
      "Embedding not created\n",
      "Abbotsford Airport Zoning Regulations\n"
     ]
    },
    {
     "name": "stderr",
     "output_type": "stream",
     "text": [
      "Processing Files:  69%|██████▊   | 1180/1721 [42:26<20:03,  2.22s/it]"
     ]
    },
    {
     "name": "stdout",
     "output_type": "stream",
     "text": [
      "Embedding created\n",
      "Application of Regulations made under paragraph 33(1)(m) or (n) of the Northwest Territories Waters Act in Nunavut Order\n"
     ]
    },
    {
     "name": "stderr",
     "output_type": "stream",
     "text": [
      "Processing Files:  69%|██████▊   | 1181/1721 [42:28<19:22,  2.15s/it]"
     ]
    },
    {
     "name": "stdout",
     "output_type": "stream",
     "text": [
      "Embedding created\n",
      "General Preferential Tariff Withdrawal Order (Bulgaria and Romania)\n"
     ]
    },
    {
     "name": "stderr",
     "output_type": "stream",
     "text": [
      "Processing Files:  69%|██████▊   | 1182/1721 [42:30<19:56,  2.22s/it]"
     ]
    },
    {
     "name": "stdout",
     "output_type": "stream",
     "text": [
      "Embedding created\n",
      "First Nations Taxation Enforcement Regulations\n"
     ]
    },
    {
     "name": "stderr",
     "output_type": "stream",
     "text": [
      "Processing Files:  69%|██████▊   | 1183/1721 [42:32<20:13,  2.26s/it]"
     ]
    },
    {
     "name": "stdout",
     "output_type": "stream",
     "text": [
      "Embedding created\n",
      "Asian Long-horned Beetle Compensation Regulations\n"
     ]
    },
    {
     "name": "stderr",
     "output_type": "stream",
     "text": [
      "Processing Files:  69%|██████▉   | 1184/1721 [42:34<19:14,  2.15s/it]"
     ]
    },
    {
     "name": "stdout",
     "output_type": "stream",
     "text": [
      "Embedding created\n",
      "Equity of a Bank or a Bank Holding Company Regulations\n"
     ]
    },
    {
     "name": "stderr",
     "output_type": "stream",
     "text": [
      "Processing Files:  69%|██████▉   | 1185/1721 [42:36<19:05,  2.14s/it]"
     ]
    },
    {
     "name": "stdout",
     "output_type": "stream",
     "text": [
      "Embedding created\n",
      "Appointment of Women in the Department of Indian Affairs and Northern Development (Employment Equity Program) Regulations\n"
     ]
    },
    {
     "name": "stderr",
     "output_type": "stream",
     "text": [
      "Processing Files:  69%|██████▉   | 1186/1721 [42:38<18:39,  2.09s/it]"
     ]
    },
    {
     "name": "stdout",
     "output_type": "stream",
     "text": [
      "Embedding created\n",
      "African Development Fund Privileges and Immunities Order\n"
     ]
    },
    {
     "name": "stderr",
     "output_type": "stream",
     "text": [
      "Processing Files:  69%|██████▉   | 1187/1721 [42:40<18:04,  2.03s/it]"
     ]
    },
    {
     "name": "stdout",
     "output_type": "stream",
     "text": [
      "Embedding created\n",
      "Apprentice Loans Regulations\n"
     ]
    },
    {
     "name": "stderr",
     "output_type": "stream",
     "text": [
      "Processing Files:  69%|██████▉   | 1188/1721 [42:43<18:48,  2.12s/it]"
     ]
    },
    {
     "name": "stdout",
     "output_type": "stream",
     "text": [
      "Embedding created\n",
      "Proclamation Giving Notice of the Coming into Force on October 6, 2004 of the Convention Between Canada and Belgium for the Avoidance of Double Taxation\n"
     ]
    },
    {
     "name": "stderr",
     "output_type": "stream",
     "text": [
      "Processing Files:  69%|██████▉   | 1189/1721 [42:45<18:49,  2.12s/it]"
     ]
    },
    {
     "name": "stdout",
     "output_type": "stream",
     "text": [
      "Embedding created\n",
      "Central Registry of Divorce Proceedings Regulations\n"
     ]
    },
    {
     "name": "stderr",
     "output_type": "stream",
     "text": [
      "Processing Files:  69%|██████▉   | 1190/1721 [42:47<18:57,  2.14s/it]"
     ]
    },
    {
     "name": "stdout",
     "output_type": "stream",
     "text": [
      "Embedding created\n",
      "General Export Permit No. EX. 16 — Egg Products\n"
     ]
    },
    {
     "name": "stderr",
     "output_type": "stream",
     "text": [
      "Processing Files:  69%|██████▉   | 1191/1721 [42:49<19:16,  2.18s/it]"
     ]
    },
    {
     "name": "stdout",
     "output_type": "stream",
     "text": [
      "Embedding created\n",
      "Certain Road Vehicle Supply Remission Order\n"
     ]
    },
    {
     "name": "stderr",
     "output_type": "stream",
     "text": [
      "Processing Files:  69%|██████▉   | 1192/1721 [42:52<20:41,  2.35s/it]"
     ]
    },
    {
     "name": "stdout",
     "output_type": "stream",
     "text": [
      "Embedding created\n",
      "Conditions of Carriage Regulations\n"
     ]
    },
    {
     "name": "stderr",
     "output_type": "stream",
     "text": [
      "Processing Files:  69%|██████▉   | 1193/1721 [42:54<19:29,  2.22s/it]"
     ]
    },
    {
     "name": "stdout",
     "output_type": "stream",
     "text": [
      "Embedding created\n",
      "Access to Basic Banking Services Regulations\n"
     ]
    },
    {
     "name": "stderr",
     "output_type": "stream",
     "text": [
      "Processing Files:  69%|██████▉   | 1194/1721 [42:56<18:54,  2.15s/it]"
     ]
    },
    {
     "name": "stdout",
     "output_type": "stream",
     "text": [
      "Embedding created\n",
      "Canada Recovery Benefits Regulations\n"
     ]
    },
    {
     "name": "stderr",
     "output_type": "stream",
     "text": [
      "Processing Files:  69%|██████▉   | 1195/1721 [42:58<18:20,  2.09s/it]"
     ]
    },
    {
     "name": "stdout",
     "output_type": "stream",
     "text": [
      "Embedding created\n",
      "Allocation Methods Order — Hatching Eggs, Live Broilers, Eggs and Egg Products\n"
     ]
    },
    {
     "name": "stderr",
     "output_type": "stream",
     "text": [
      "Processing Files:  69%|██████▉   | 1196/1721 [43:00<17:39,  2.02s/it]"
     ]
    },
    {
     "name": "stdout",
     "output_type": "stream",
     "text": [
      "Embedding created\n",
      "Gasoline Regulations\n"
     ]
    },
    {
     "name": "stderr",
     "output_type": "stream",
     "text": [
      "Processing Files:  70%|██████▉   | 1197/1721 [43:02<19:25,  2.22s/it]"
     ]
    },
    {
     "name": "stdout",
     "output_type": "stream",
     "text": [
      "Embedding created\n",
      "Hazardous Products (Matches) Regulations\n"
     ]
    },
    {
     "name": "stderr",
     "output_type": "stream",
     "text": [
      "Processing Files:  70%|██████▉   | 1198/1721 [43:04<19:13,  2.20s/it]"
     ]
    },
    {
     "name": "stdout",
     "output_type": "stream",
     "text": [
      "Embedding created\n",
      "Firearms Fees Remission Order (Licenses)\n"
     ]
    },
    {
     "name": "stderr",
     "output_type": "stream",
     "text": [
      "Processing Files:  70%|██████▉   | 1199/1721 [43:06<18:23,  2.11s/it]"
     ]
    },
    {
     "name": "stdout",
     "output_type": "stream",
     "text": [
      "Embedding created\n",
      "Enhanced Survivor Annuity Regulations\n"
     ]
    },
    {
     "name": "stderr",
     "output_type": "stream",
     "text": [
      "Processing Files:  70%|██████▉   | 1200/1721 [43:08<17:55,  2.06s/it]"
     ]
    },
    {
     "name": "stdout",
     "output_type": "stream",
     "text": [
      "Embedding created\n",
      "Air Transportation Tax Regulations, 1992\n"
     ]
    },
    {
     "name": "stderr",
     "output_type": "stream",
     "text": [
      "Processing Files:  70%|██████▉   | 1201/1721 [43:10<17:58,  2.07s/it]"
     ]
    },
    {
     "name": "stdout",
     "output_type": "stream",
     "text": [
      "Embedding created\n",
      "CITEL Meetings Privileges and Immunities Order\n"
     ]
    },
    {
     "name": "stderr",
     "output_type": "stream",
     "text": [
      "Processing Files:  70%|██████▉   | 1202/1721 [43:13<18:06,  2.09s/it]"
     ]
    },
    {
     "name": "stdout",
     "output_type": "stream",
     "text": [
      "Embedding created\n",
      "Dominion Succession Duty Regulations\n"
     ]
    },
    {
     "name": "stderr",
     "output_type": "stream",
     "text": [
      "Processing Files:  70%|██████▉   | 1203/1721 [43:15<19:18,  2.24s/it]"
     ]
    },
    {
     "name": "stdout",
     "output_type": "stream",
     "text": [
      "Embedding created\n",
      "Campbell River Airport Zoning Regulations\n"
     ]
    },
    {
     "name": "stderr",
     "output_type": "stream",
     "text": [
      "Processing Files:  70%|██████▉   | 1204/1721 [43:17<18:15,  2.12s/it]"
     ]
    },
    {
     "name": "stdout",
     "output_type": "stream",
     "text": [
      "Embedding created\n",
      "Order Respecting Ex-Gratia Payments to Persons who were in Conjugal Relationships with now Deceased Chinese Head Tax Payers or to Designated Beneficiaries\n"
     ]
    },
    {
     "name": "stderr",
     "output_type": "stream",
     "text": [
      "Processing Files:  70%|███████   | 1205/1721 [43:19<17:51,  2.08s/it]"
     ]
    },
    {
     "name": "stdout",
     "output_type": "stream",
     "text": [
      "Embedding created\n",
      "Alternative Fuels Regulations\n"
     ]
    },
    {
     "name": "stderr",
     "output_type": "stream",
     "text": [
      "Processing Files:  70%|███████   | 1206/1721 [43:21<17:29,  2.04s/it]"
     ]
    },
    {
     "name": "stdout",
     "output_type": "stream",
     "text": [
      "Embedding created\n",
      "Commercial Loan (Insurance Companies, Societies, Insurance Holding Companies and Foreign Companies) Regulations\n"
     ]
    },
    {
     "name": "stderr",
     "output_type": "stream",
     "text": [
      "Processing Files:  70%|███████   | 1207/1721 [43:23<17:58,  2.10s/it]"
     ]
    },
    {
     "name": "stdout",
     "output_type": "stream",
     "text": [
      "Embedding created\n",
      "ACOA Loan Insurance Regulations\n"
     ]
    },
    {
     "name": "stderr",
     "output_type": "stream",
     "text": [
      "Processing Files:  70%|███████   | 1208/1721 [43:25<17:54,  2.09s/it]"
     ]
    },
    {
     "name": "stdout",
     "output_type": "stream",
     "text": [
      "Embedding not created\n",
      "Bank of Canada Notes Regulations\n"
     ]
    },
    {
     "name": "stderr",
     "output_type": "stream",
     "text": [
      "Processing Files:  70%|███████   | 1209/1721 [43:27<17:56,  2.10s/it]"
     ]
    },
    {
     "name": "stdout",
     "output_type": "stream",
     "text": [
      "Embedding created\n",
      "Defence Survival Training Indemnity Order\n"
     ]
    },
    {
     "name": "stderr",
     "output_type": "stream",
     "text": [
      "Processing Files:  70%|███████   | 1210/1721 [43:29<17:09,  2.01s/it]"
     ]
    },
    {
     "name": "stdout",
     "output_type": "stream",
     "text": [
      "Embedding created\n",
      "Fresh Fruit and Vegetable Regulations\n"
     ]
    },
    {
     "name": "stderr",
     "output_type": "stream",
     "text": [
      "Processing Files:  70%|███████   | 1211/1721 [43:31<16:50,  1.98s/it]"
     ]
    },
    {
     "name": "stdout",
     "output_type": "stream",
     "text": [
      "Embedding created\n",
      "Civil Remedies (Cooperative Credit Associations) Regulations\n"
     ]
    },
    {
     "name": "stderr",
     "output_type": "stream",
     "text": [
      "Processing Files:  70%|███████   | 1212/1721 [43:33<17:40,  2.08s/it]"
     ]
    },
    {
     "name": "stdout",
     "output_type": "stream",
     "text": [
      "Embedding created\n",
      "Exemption from Deposit Insurance By-law (Notice to Depositors)\n"
     ]
    },
    {
     "name": "stderr",
     "output_type": "stream",
     "text": [
      "Processing Files:  70%|███████   | 1213/1721 [43:36<18:29,  2.18s/it]"
     ]
    },
    {
     "name": "stdout",
     "output_type": "stream",
     "text": [
      "Embedding created\n",
      "Energy Monitoring Regulations, 2006\n"
     ]
    },
    {
     "name": "stderr",
     "output_type": "stream",
     "text": [
      "Processing Files:  71%|███████   | 1214/1721 [43:39<20:24,  2.42s/it]"
     ]
    },
    {
     "name": "stdout",
     "output_type": "stream",
     "text": [
      "Embedding created\n",
      "Conditions of Transferring Firearms and Other Weapons Regulations\n"
     ]
    },
    {
     "name": "stderr",
     "output_type": "stream",
     "text": [
      "Processing Files:  71%|███████   | 1215/1721 [43:42<21:36,  2.56s/it]"
     ]
    },
    {
     "name": "stdout",
     "output_type": "stream",
     "text": [
      "Embedding created\n",
      "Going-Private Transaction (Banks and Bank Holding Companies) Regulations\n"
     ]
    },
    {
     "name": "stderr",
     "output_type": "stream",
     "text": [
      "Processing Files:  71%|███████   | 1216/1721 [43:44<20:10,  2.40s/it]"
     ]
    },
    {
     "name": "stdout",
     "output_type": "stream",
     "text": [
      "Embedding created\n",
      "Corporate Interrelationships (Trust and Loan Companies) Regulations\n"
     ]
    },
    {
     "name": "stderr",
     "output_type": "stream",
     "text": [
      "Processing Files:  71%|███████   | 1217/1721 [43:46<20:22,  2.43s/it]"
     ]
    },
    {
     "name": "stdout",
     "output_type": "stream",
     "text": [
      "Embedding created\n",
      "Canadian Egg Pricing (Interprovincial and Export) Regulations\n"
     ]
    },
    {
     "name": "stderr",
     "output_type": "stream",
     "text": [
      "Processing Files:  71%|███████   | 1218/1721 [43:48<20:09,  2.40s/it]"
     ]
    },
    {
     "name": "stdout",
     "output_type": "stream",
     "text": [
      "Embedding created\n",
      "Eskasoni Band Council Method of Election Regulations\n"
     ]
    },
    {
     "name": "stderr",
     "output_type": "stream",
     "text": [
      "Processing Files:  71%|███████   | 1219/1721 [43:50<18:53,  2.26s/it]"
     ]
    },
    {
     "name": "stdout",
     "output_type": "stream",
     "text": [
      "Embedding created\n",
      "Canada’s 2018 G7 Presidency Privileges and Immunities Order\n"
     ]
    },
    {
     "name": "stderr",
     "output_type": "stream",
     "text": [
      "Processing Files:  71%|███████   | 1220/1721 [43:52<17:54,  2.14s/it]"
     ]
    },
    {
     "name": "stdout",
     "output_type": "stream",
     "text": [
      "Embedding created\n",
      "Regulations Excluding Certain Government Ships from the Application of the Canada Shipping Act\n"
     ]
    },
    {
     "name": "stderr",
     "output_type": "stream",
     "text": [
      "Processing Files:  71%|███████   | 1221/1721 [43:54<17:08,  2.06s/it]"
     ]
    },
    {
     "name": "stdout",
     "output_type": "stream",
     "text": [
      "Embedding created\n",
      "Commonwealth Secretariat Privileges and Immunities Order\n"
     ]
    },
    {
     "name": "stderr",
     "output_type": "stream",
     "text": [
      "Processing Files:  71%|███████   | 1222/1721 [43:57<18:24,  2.21s/it]"
     ]
    },
    {
     "name": "stdout",
     "output_type": "stream",
     "text": [
      "Embedding created\n",
      "General Export Permit No. 39 — Mass Market Cryptographic Software\n"
     ]
    },
    {
     "name": "stderr",
     "output_type": "stream",
     "text": [
      "Processing Files:  71%|███████   | 1223/1721 [43:59<18:21,  2.21s/it]"
     ]
    },
    {
     "name": "stdout",
     "output_type": "stream",
     "text": [
      "Embedding created\n",
      "CCFTA Rules of Origin for Casual Goods Regulations\n"
     ]
    },
    {
     "name": "stderr",
     "output_type": "stream",
     "text": [
      "Processing Files:  71%|███████   | 1224/1721 [44:01<18:21,  2.22s/it]"
     ]
    },
    {
     "name": "stdout",
     "output_type": "stream",
     "text": [
      "Embedding created\n",
      "Financial Consumer Protection Framework Regulations\n"
     ]
    },
    {
     "name": "stderr",
     "output_type": "stream",
     "text": [
      "Processing Files:  71%|███████   | 1225/1721 [44:03<18:20,  2.22s/it]"
     ]
    },
    {
     "name": "stdout",
     "output_type": "stream",
     "text": [
      "Embedding created\n",
      "First Nations Oil And Gas Environmental Assessment Regulations\n"
     ]
    },
    {
     "name": "stderr",
     "output_type": "stream",
     "text": [
      "Processing Files:  71%|███████   | 1226/1721 [44:06<19:02,  2.31s/it]"
     ]
    },
    {
     "name": "stdout",
     "output_type": "stream",
     "text": [
      "Embedding created\n",
      "CUSMA Tariff Preference Regulations\n"
     ]
    },
    {
     "name": "stderr",
     "output_type": "stream",
     "text": [
      "Processing Files:  71%|███████▏  | 1227/1721 [44:08<18:19,  2.23s/it]"
     ]
    },
    {
     "name": "stdout",
     "output_type": "stream",
     "text": [
      "Embedding created\n",
      "Crown Corporation General Regulations, 1995\n"
     ]
    },
    {
     "name": "stderr",
     "output_type": "stream",
     "text": [
      "Processing Files:  71%|███████▏  | 1228/1721 [44:10<18:05,  2.20s/it]"
     ]
    },
    {
     "name": "stdout",
     "output_type": "stream",
     "text": [
      "Embedding created\n",
      "Clinical Trials for Medical Devices and Drugs Relating to COVID-19 Regulations\n"
     ]
    },
    {
     "name": "stderr",
     "output_type": "stream",
     "text": [
      "Processing Files:  71%|███████▏  | 1229/1721 [44:12<18:28,  2.25s/it]"
     ]
    },
    {
     "name": "stdout",
     "output_type": "stream",
     "text": [
      "Embedding created\n",
      "Egmont Group of Financial Intelligence Units Privileges and Immunities Order\n"
     ]
    },
    {
     "name": "stderr",
     "output_type": "stream",
     "text": [
      "Processing Files:  71%|███████▏  | 1230/1721 [44:16<21:15,  2.60s/it]"
     ]
    },
    {
     "name": "stdout",
     "output_type": "stream",
     "text": [
      "Embedding created\n",
      "Esquimalt Graving Dock Regulations\n"
     ]
    },
    {
     "name": "stderr",
     "output_type": "stream",
     "text": [
      "Processing Files:  72%|███████▏  | 1231/1721 [44:18<21:01,  2.57s/it]"
     ]
    },
    {
     "name": "stdout",
     "output_type": "stream",
     "text": [
      "Embedding created\n",
      "Annual Statement (Insurance Companies and Insurance Holding Companies) Regulations\n"
     ]
    },
    {
     "name": "stderr",
     "output_type": "stream",
     "text": [
      "Processing Files:  72%|███████▏  | 1232/1721 [44:20<19:55,  2.44s/it]"
     ]
    },
    {
     "name": "stdout",
     "output_type": "stream",
     "text": [
      "Embedding created\n",
      "Court of Queen’s Bench for Alberta Summary Conviction Appeal Rules\n"
     ]
    },
    {
     "name": "stderr",
     "output_type": "stream",
     "text": [
      "Processing Files:  72%|███████▏  | 1233/1721 [44:22<18:49,  2.31s/it]"
     ]
    },
    {
     "name": "stdout",
     "output_type": "stream",
     "text": [
      "Embedding created\n",
      "Hazardous Products (Mattresses) Regulations\n"
     ]
    },
    {
     "name": "stderr",
     "output_type": "stream",
     "text": [
      "Processing Files:  72%|███████▏  | 1234/1721 [44:26<20:40,  2.55s/it]"
     ]
    },
    {
     "name": "stdout",
     "output_type": "stream",
     "text": [
      "Embedding created\n",
      "Federal-Provincial Reciprocal Taxation Agreements Payment Regulations\n"
     ]
    },
    {
     "name": "stderr",
     "output_type": "stream",
     "text": [
      "Processing Files:  72%|███████▏  | 1235/1721 [44:28<21:14,  2.62s/it]"
     ]
    },
    {
     "name": "stdout",
     "output_type": "stream",
     "text": [
      "Embedding created\n",
      "Exceptions for Educational Institutions, Libraries, Archives and Museums Regulations\n"
     ]
    },
    {
     "name": "stderr",
     "output_type": "stream",
     "text": [
      "Processing Files:  72%|███████▏  | 1236/1721 [44:31<20:54,  2.59s/it]"
     ]
    },
    {
     "name": "stdout",
     "output_type": "stream",
     "text": [
      "Embedding created\n",
      "Chilliwack Airport Zoning Regulations\n"
     ]
    },
    {
     "name": "stderr",
     "output_type": "stream",
     "text": [
      "Processing Files:  72%|███████▏  | 1237/1721 [44:33<20:01,  2.48s/it]"
     ]
    },
    {
     "name": "stdout",
     "output_type": "stream",
     "text": [
      "Embedding created\n",
      "Administrative Monetary Penalties (Consumer Products) Regulations\n"
     ]
    },
    {
     "name": "stderr",
     "output_type": "stream",
     "text": [
      "Processing Files:  72%|███████▏  | 1238/1721 [44:36<19:47,  2.46s/it]"
     ]
    },
    {
     "name": "stdout",
     "output_type": "stream",
     "text": [
      "Embedding not created\n",
      "Anguniaqvia niqiqyuam Marine Protected Areas Regulations\n"
     ]
    },
    {
     "name": "stderr",
     "output_type": "stream",
     "text": [
      "Processing Files:  72%|███████▏  | 1239/1721 [44:38<20:02,  2.49s/it]"
     ]
    },
    {
     "name": "stdout",
     "output_type": "stream",
     "text": [
      "Embedding created\n",
      "Exclusion Approval Order for Certain Employees and Certain Positions (Air Traffic Control Group), 1989\n"
     ]
    },
    {
     "name": "stderr",
     "output_type": "stream",
     "text": [
      "Processing Files:  72%|███████▏  | 1240/1721 [44:41<20:10,  2.52s/it]"
     ]
    },
    {
     "name": "stdout",
     "output_type": "stream",
     "text": [
      "Embedding created\n",
      "Critical Habitat of the Salish Sucker (Catostomus catostomus ssp.) Order\n"
     ]
    },
    {
     "name": "stderr",
     "output_type": "stream",
     "text": [
      "Processing Files:  72%|███████▏  | 1241/1721 [44:43<19:22,  2.42s/it]"
     ]
    },
    {
     "name": "stdout",
     "output_type": "stream",
     "text": [
      "Embedding created\n",
      "Dangerous Chemicals and Noxious Liquid Substances Regulations\n"
     ]
    },
    {
     "name": "stderr",
     "output_type": "stream",
     "text": [
      "Processing Files:  72%|███████▏  | 1242/1721 [44:46<20:40,  2.59s/it]"
     ]
    },
    {
     "name": "stdout",
     "output_type": "stream",
     "text": [
      "Embedding created\n",
      "Export Charges for Certain Dairy Products Regulations\n"
     ]
    },
    {
     "name": "stderr",
     "output_type": "stream",
     "text": [
      "Processing Files:  72%|███████▏  | 1243/1721 [44:48<19:00,  2.39s/it]"
     ]
    },
    {
     "name": "stdout",
     "output_type": "stream",
     "text": [
      "Embedding created\n",
      "General Export Permit No. 46 — Cryptography for Use by Certain Consignees\n"
     ]
    },
    {
     "name": "stderr",
     "output_type": "stream",
     "text": [
      "Processing Files:  72%|███████▏  | 1244/1721 [44:50<17:52,  2.25s/it]"
     ]
    },
    {
     "name": "stdout",
     "output_type": "stream",
     "text": [
      "Embedding created\n",
      "Exposed and Processed Film and Recorded Video Tape Remission Order\n"
     ]
    },
    {
     "name": "stderr",
     "output_type": "stream",
     "text": [
      "Processing Files:  72%|███████▏  | 1245/1721 [44:52<19:01,  2.40s/it]"
     ]
    },
    {
     "name": "stdout",
     "output_type": "stream",
     "text": [
      "Embedding created\n",
      "Regulations Prescribing Alternative Means of Publication (Foreign Companies)\n"
     ]
    },
    {
     "name": "stderr",
     "output_type": "stream",
     "text": [
      "Processing Files:  72%|███████▏  | 1246/1721 [44:55<18:37,  2.35s/it]"
     ]
    },
    {
     "name": "stdout",
     "output_type": "stream",
     "text": [
      "Embedding created\n",
      "Coin-Operated Devices Remission Order\n"
     ]
    },
    {
     "name": "stderr",
     "output_type": "stream",
     "text": [
      "Processing Files:  72%|███████▏  | 1247/1721 [44:57<17:58,  2.28s/it]"
     ]
    },
    {
     "name": "stdout",
     "output_type": "stream",
     "text": [
      "Embedding created\n",
      "Proclamation Giving Notice that the Agreement on Social Security between Canada and Australia Comes into Force on January 1, 2003\n"
     ]
    },
    {
     "name": "stderr",
     "output_type": "stream",
     "text": [
      "Processing Files:  73%|███████▎  | 1248/1721 [44:59<17:23,  2.21s/it]"
     ]
    },
    {
     "name": "stdout",
     "output_type": "stream",
     "text": [
      "Embedding created\n",
      "Corporations and Labour Unions Returns Act Regulations\n"
     ]
    },
    {
     "name": "stderr",
     "output_type": "stream",
     "text": [
      "Processing Files:  73%|███████▎  | 1249/1721 [45:01<17:01,  2.16s/it]"
     ]
    },
    {
     "name": "stdout",
     "output_type": "stream",
     "text": [
      "Embedding created\n",
      "Critical Habitat of the Rainbow Trout (Oncorhynchus mykiss) Athabasca River Populations Order\n"
     ]
    },
    {
     "name": "stderr",
     "output_type": "stream",
     "text": [
      "Processing Files:  73%|███████▎  | 1250/1721 [45:03<16:46,  2.14s/it]"
     ]
    },
    {
     "name": "stdout",
     "output_type": "stream",
     "text": [
      "Embedding created\n",
      "Electronic Documents and Electronic Information Regulations\n"
     ]
    },
    {
     "name": "stderr",
     "output_type": "stream",
     "text": [
      "Processing Files:  73%|███████▎  | 1251/1721 [45:05<17:02,  2.18s/it]"
     ]
    },
    {
     "name": "stdout",
     "output_type": "stream",
     "text": [
      "Embedding created\n",
      "Canadian Turkey Anti-dumping Regulations\n"
     ]
    },
    {
     "name": "stderr",
     "output_type": "stream",
     "text": [
      "Processing Files:  73%|███████▎  | 1252/1721 [45:09<20:46,  2.66s/it]"
     ]
    },
    {
     "name": "stdout",
     "output_type": "stream",
     "text": [
      "Embedding created\n",
      "Department of Forestry Terms Under Three Months Regulations, 1993\n"
     ]
    },
    {
     "name": "stderr",
     "output_type": "stream",
     "text": [
      "Processing Files:  73%|███████▎  | 1253/1721 [45:11<19:23,  2.49s/it]"
     ]
    },
    {
     "name": "stdout",
     "output_type": "stream",
     "text": [
      "Embedding created\n",
      "Canada Education Savings Regulations\n"
     ]
    },
    {
     "name": "stderr",
     "output_type": "stream",
     "text": [
      "Processing Files:  73%|███████▎  | 1254/1721 [45:13<18:35,  2.39s/it]"
     ]
    },
    {
     "name": "stdout",
     "output_type": "stream",
     "text": [
      "Embedding created\n",
      "Canada Pension Plan Investment Board Regulations\n"
     ]
    },
    {
     "name": "stderr",
     "output_type": "stream",
     "text": [
      "Processing Files:  73%|███████▎  | 1255/1721 [45:16<18:23,  2.37s/it]"
     ]
    },
    {
     "name": "stdout",
     "output_type": "stream",
     "text": [
      "Embedding created\n",
      "Code of Professional Conduct for Patent Agents and Trademark Agents Regulations\n"
     ]
    },
    {
     "name": "stderr",
     "output_type": "stream",
     "text": [
      "Processing Files:  73%|███████▎  | 1256/1721 [45:18<18:26,  2.38s/it]"
     ]
    },
    {
     "name": "stdout",
     "output_type": "stream",
     "text": [
      "Embedding created\n",
      "Canada Turkey Marketing Producers Levy Order\n"
     ]
    },
    {
     "name": "stderr",
     "output_type": "stream",
     "text": [
      "Processing Files:  73%|███████▎  | 1257/1721 [45:20<17:00,  2.20s/it]"
     ]
    },
    {
     "name": "stdout",
     "output_type": "stream",
     "text": [
      "Embedding created\n",
      "Export Inspection and Certification Exemption Regulations\n"
     ]
    },
    {
     "name": "stderr",
     "output_type": "stream",
     "text": [
      "Processing Files:  73%|███████▎  | 1258/1721 [45:22<16:25,  2.13s/it]"
     ]
    },
    {
     "name": "stdout",
     "output_type": "stream",
     "text": [
      "Embedding created\n",
      "Canadian Ownership and Control Determination Regulations, 1984\n"
     ]
    },
    {
     "name": "stderr",
     "output_type": "stream",
     "text": [
      "Processing Files:  73%|███████▎  | 1259/1721 [45:24<15:58,  2.07s/it]"
     ]
    },
    {
     "name": "stdout",
     "output_type": "stream",
     "text": [
      "Embedding created\n",
      "Regulations Clarifying the Application of Provisions of the Convention on the Privileges and Immunities of the United Nations\n"
     ]
    },
    {
     "name": "stderr",
     "output_type": "stream",
     "text": [
      "Processing Files:  73%|███████▎  | 1260/1721 [45:26<15:28,  2.01s/it]"
     ]
    },
    {
     "name": "stdout",
     "output_type": "stream",
     "text": [
      "Embedding created\n",
      "Energy Administration Act Sections 53 to 65 Non-application Order, 1986\n"
     ]
    },
    {
     "name": "stderr",
     "output_type": "stream",
     "text": [
      "Processing Files:  73%|███████▎  | 1261/1721 [45:28<15:48,  2.06s/it]"
     ]
    },
    {
     "name": "stdout",
     "output_type": "stream",
     "text": [
      "Embedding created\n",
      "Firearms Fees Regulations\n"
     ]
    },
    {
     "name": "stderr",
     "output_type": "stream",
     "text": [
      "Processing Files:  73%|███████▎  | 1262/1721 [45:30<15:26,  2.02s/it]"
     ]
    },
    {
     "name": "stdout",
     "output_type": "stream",
     "text": [
      "Embedding created\n",
      "Disposal at Sea Permit Application Regulations\n"
     ]
    },
    {
     "name": "stderr",
     "output_type": "stream",
     "text": [
      "Processing Files:  73%|███████▎  | 1263/1721 [45:32<16:04,  2.11s/it]"
     ]
    },
    {
     "name": "stdout",
     "output_type": "stream",
     "text": [
      "Embedding created\n",
      "Canadian Pacific Railway Traffic Rules and Regulations\n"
     ]
    },
    {
     "name": "stderr",
     "output_type": "stream",
     "text": [
      "Processing Files:  73%|███████▎  | 1264/1721 [45:34<15:22,  2.02s/it]"
     ]
    },
    {
     "name": "stdout",
     "output_type": "stream",
     "text": [
      "Embedding created\n",
      "Canadian Wheat Board Contingency Fund Regulations\n"
     ]
    },
    {
     "name": "stderr",
     "output_type": "stream",
     "text": [
      "Processing Files:  74%|███████▎  | 1265/1721 [45:36<16:18,  2.14s/it]"
     ]
    },
    {
     "name": "stdout",
     "output_type": "stream",
     "text": [
      "Embedding created\n",
      "Electronic Payments Regulations\n"
     ]
    },
    {
     "name": "stderr",
     "output_type": "stream",
     "text": [
      "Processing Files:  74%|███████▎  | 1266/1721 [45:38<15:54,  2.10s/it]"
     ]
    },
    {
     "name": "stdout",
     "output_type": "stream",
     "text": [
      "Embedding created\n",
      "Canadian Arsenals Pension Regulations\n"
     ]
    },
    {
     "name": "stderr",
     "output_type": "stream",
     "text": [
      "Processing Files:  74%|███████▎  | 1267/1721 [45:40<15:30,  2.05s/it]"
     ]
    },
    {
     "name": "stdout",
     "output_type": "stream",
     "text": [
      "Embedding created\n",
      "Federal Elections Fees Tariff\n"
     ]
    },
    {
     "name": "stderr",
     "output_type": "stream",
     "text": [
      "Processing Files:  74%|███████▎  | 1268/1721 [45:42<15:25,  2.04s/it]"
     ]
    },
    {
     "name": "stdout",
     "output_type": "stream",
     "text": [
      "Embedding created\n",
      "Distributing Cooperative Credit Association Regulations\n"
     ]
    },
    {
     "name": "stderr",
     "output_type": "stream",
     "text": [
      "Processing Files:  74%|███████▎  | 1269/1721 [45:44<15:07,  2.01s/it]"
     ]
    },
    {
     "name": "stdout",
     "output_type": "stream",
     "text": [
      "Embedding created\n",
      "Foreign Claims (Cuba) Settlement Regulations\n"
     ]
    },
    {
     "name": "stderr",
     "output_type": "stream",
     "text": [
      "Processing Files:  74%|███████▍  | 1270/1721 [45:46<15:15,  2.03s/it]"
     ]
    },
    {
     "name": "stdout",
     "output_type": "stream",
     "text": [
      "Embedding created\n",
      "Canada-CARICOM Summit 2023 Privileges and Immunities Order\n"
     ]
    },
    {
     "name": "stderr",
     "output_type": "stream",
     "text": [
      "Processing Files:  74%|███████▍  | 1271/1721 [45:48<14:44,  1.96s/it]"
     ]
    },
    {
     "name": "stdout",
     "output_type": "stream",
     "text": [
      "Embedding created\n",
      "Critical Habitat of the Fernald’s Braya (Braya fernaldii) Order\n"
     ]
    },
    {
     "name": "stderr",
     "output_type": "stream",
     "text": [
      "Processing Files:  74%|███████▍  | 1272/1721 [45:54<22:56,  3.07s/it]"
     ]
    },
    {
     "name": "stdout",
     "output_type": "stream",
     "text": [
      "Embedding created\n",
      "Disclosure on Account Opening by Telephone Request (Authorized Foreign Banks) Regulations\n"
     ]
    },
    {
     "name": "stderr",
     "output_type": "stream",
     "text": [
      "Processing Files:  74%|███████▍  | 1273/1721 [45:56<20:36,  2.76s/it]"
     ]
    },
    {
     "name": "stdout",
     "output_type": "stream",
     "text": [
      "Embedding created\n",
      "Bolster and Sideframe Remission Order\n"
     ]
    },
    {
     "name": "stderr",
     "output_type": "stream",
     "text": [
      "Processing Files:  74%|███████▍  | 1274/1721 [45:58<19:13,  2.58s/it]"
     ]
    },
    {
     "name": "stdout",
     "output_type": "stream",
     "text": [
      "Embedding created\n",
      "Direction to the Canadian Radio-television and Telecommunications Commission Respecting the Implementation of the Canada–United States–Mexico Agreement\n"
     ]
    },
    {
     "name": "stderr",
     "output_type": "stream",
     "text": [
      "Processing Files:  74%|███████▍  | 1275/1721 [46:00<18:04,  2.43s/it]"
     ]
    },
    {
     "name": "stdout",
     "output_type": "stream",
     "text": [
      "Embedding created\n",
      "Regulations Respecting the Election of Directors of The Canadian Wheat Board\n"
     ]
    },
    {
     "name": "stderr",
     "output_type": "stream",
     "text": [
      "Processing Files:  74%|███████▍  | 1276/1721 [46:02<17:36,  2.37s/it]"
     ]
    },
    {
     "name": "stdout",
     "output_type": "stream",
     "text": [
      "Embedding created\n",
      "Canadian Nuclear Safety Commission By-laws\n"
     ]
    },
    {
     "name": "stderr",
     "output_type": "stream",
     "text": [
      "Processing Files:  74%|███████▍  | 1277/1721 [46:05<18:10,  2.46s/it]"
     ]
    },
    {
     "name": "stdout",
     "output_type": "stream",
     "text": [
      "Embedding created\n",
      "Certain Flights Charge and Tax Remission Order\n"
     ]
    },
    {
     "name": "stderr",
     "output_type": "stream",
     "text": [
      "Processing Files:  74%|███████▍  | 1278/1721 [46:07<16:57,  2.30s/it]"
     ]
    },
    {
     "name": "stdout",
     "output_type": "stream",
     "text": [
      "Embedding created\n",
      "Gros Morne National Park of Canada Snowshoe Hare Regulations\n"
     ]
    },
    {
     "name": "stderr",
     "output_type": "stream",
     "text": [
      "Processing Files:  74%|███████▍  | 1279/1721 [46:09<16:31,  2.24s/it]"
     ]
    },
    {
     "name": "stdout",
     "output_type": "stream",
     "text": [
      "Embedding created\n",
      "Carriage by Air Act Gold Franc Conversion Regulations\n"
     ]
    },
    {
     "name": "stderr",
     "output_type": "stream",
     "text": [
      "Processing Files:  74%|███████▍  | 1280/1721 [46:11<16:11,  2.20s/it]"
     ]
    },
    {
     "name": "stdout",
     "output_type": "stream",
     "text": [
      "Embedding created\n",
      "Distributing Company and Distributing Insurance Holding Company Regulations\n"
     ]
    },
    {
     "name": "stderr",
     "output_type": "stream",
     "text": [
      "Processing Files:  74%|███████▍  | 1281/1721 [46:13<16:48,  2.29s/it]"
     ]
    },
    {
     "name": "stdout",
     "output_type": "stream",
     "text": [
      "Embedding created\n",
      "Civil Remedies (Insurance Companies and Insurance Holding Companies) Regulations\n"
     ]
    },
    {
     "name": "stderr",
     "output_type": "stream",
     "text": [
      "Processing Files:  74%|███████▍  | 1282/1721 [46:16<17:09,  2.34s/it]"
     ]
    },
    {
     "name": "stdout",
     "output_type": "stream",
     "text": [
      "Embedding created\n",
      "Regulations Respecting the Customs Duty Payable on Woollen Fabrics Originating in Commonwealth Countries\n"
     ]
    },
    {
     "name": "stderr",
     "output_type": "stream",
     "text": [
      "Processing Files:  75%|███████▍  | 1283/1721 [46:18<16:11,  2.22s/it]"
     ]
    },
    {
     "name": "stdout",
     "output_type": "stream",
     "text": [
      "Embedding created\n",
      "Canadian Forces Dental Treatment by Civilians Regulations\n"
     ]
    },
    {
     "name": "stderr",
     "output_type": "stream",
     "text": [
      "Processing Files:  75%|███████▍  | 1284/1721 [46:21<17:26,  2.39s/it]"
     ]
    },
    {
     "name": "stdout",
     "output_type": "stream",
     "text": [
      "Embedding created\n",
      "Cost of Borrowing (Canadian Insurance Companies) Regulations\n"
     ]
    },
    {
     "name": "stderr",
     "output_type": "stream",
     "text": [
      "Processing Files:  75%|███████▍  | 1285/1721 [46:23<16:34,  2.28s/it]"
     ]
    },
    {
     "name": "stdout",
     "output_type": "stream",
     "text": [
      "Embedding created\n",
      "Canadian Aviation Regulations\n"
     ]
    },
    {
     "name": "stderr",
     "output_type": "stream",
     "text": [
      "Processing Files:  75%|███████▍  | 1286/1721 [46:24<15:26,  2.13s/it]"
     ]
    },
    {
     "name": "stdout",
     "output_type": "stream",
     "text": [
      "Embedding created\n",
      "Aviation Occupational Safety and Health Regulations\n"
     ]
    },
    {
     "name": "stderr",
     "output_type": "stream",
     "text": [
      "Processing Files:  75%|███████▍  | 1287/1721 [46:26<14:53,  2.06s/it]"
     ]
    },
    {
     "name": "stdout",
     "output_type": "stream",
     "text": [
      "Embedding created\n",
      "Greenhouse Cucumber Stabilization Regulations, 1979\n"
     ]
    },
    {
     "name": "stderr",
     "output_type": "stream",
     "text": [
      "Processing Files:  75%|███████▍  | 1288/1721 [46:28<14:37,  2.03s/it]"
     ]
    },
    {
     "name": "stdout",
     "output_type": "stream",
     "text": [
      "Embedding created\n",
      "Employment Equity Programs Regulations\n"
     ]
    },
    {
     "name": "stderr",
     "output_type": "stream",
     "text": [
      "Processing Files:  75%|███████▍  | 1289/1721 [46:30<14:21,  1.99s/it]"
     ]
    },
    {
     "name": "stdout",
     "output_type": "stream",
     "text": [
      "Embedding created\n",
      "Closely Related Corporations (GST/HST) Regulations\n"
     ]
    },
    {
     "name": "stderr",
     "output_type": "stream",
     "text": [
      "Processing Files:  75%|███████▍  | 1290/1721 [46:32<14:33,  2.03s/it]"
     ]
    },
    {
     "name": "stdout",
     "output_type": "stream",
     "text": [
      "Embedding created\n",
      "Cribs, Cradles and Bassinets Regulations\n"
     ]
    },
    {
     "name": "stderr",
     "output_type": "stream",
     "text": [
      "Processing Files:  75%|███████▌  | 1291/1721 [46:34<14:41,  2.05s/it]"
     ]
    },
    {
     "name": "stdout",
     "output_type": "stream",
     "text": [
      "Embedding created\n",
      "Hazardous Products (Kettles) Regulations\n"
     ]
    },
    {
     "name": "stderr",
     "output_type": "stream",
     "text": [
      "Processing Files:  75%|███████▌  | 1292/1721 [46:37<16:36,  2.32s/it]"
     ]
    },
    {
     "name": "stdout",
     "output_type": "stream",
     "text": [
      "Embedding created\n",
      "Algoma Central Railway Traffic Rules and Regulations\n"
     ]
    },
    {
     "name": "stderr",
     "output_type": "stream",
     "text": [
      "Processing Files:  75%|███████▌  | 1293/1721 [46:39<15:58,  2.24s/it]"
     ]
    },
    {
     "name": "stdout",
     "output_type": "stream",
     "text": [
      "Embedding created\n",
      "Directions to the CRTC (Direct-to-Home (DTH) Satellite Distribution Undertakings) Order\n"
     ]
    },
    {
     "name": "stderr",
     "output_type": "stream",
     "text": [
      "Processing Files:  75%|███████▌  | 1294/1721 [46:41<15:14,  2.14s/it]"
     ]
    },
    {
     "name": "stdout",
     "output_type": "stream",
     "text": [
      "Embedding created\n",
      "Exported Dairy Products Assistance Payments Order\n"
     ]
    },
    {
     "name": "stderr",
     "output_type": "stream",
     "text": [
      "Processing Files:  75%|███████▌  | 1295/1721 [46:45<17:32,  2.47s/it]"
     ]
    },
    {
     "name": "stdout",
     "output_type": "stream",
     "text": [
      "Embedding created\n",
      "CUKTCA Rules of Origin for Casual Goods Regulations\n"
     ]
    },
    {
     "name": "stderr",
     "output_type": "stream",
     "text": [
      "Processing Files:  75%|███████▌  | 1296/1721 [46:47<16:31,  2.33s/it]"
     ]
    },
    {
     "name": "stdout",
     "output_type": "stream",
     "text": [
      "Embedding created\n",
      "Order Respecting Ex Gratia Payments to Workers Involved in Chalk River Nuclear Decontamination\n"
     ]
    },
    {
     "name": "stderr",
     "output_type": "stream",
     "text": [
      "Processing Files:  75%|███████▌  | 1297/1721 [46:49<16:13,  2.29s/it]"
     ]
    },
    {
     "name": "stdout",
     "output_type": "stream",
     "text": [
      "Embedding created\n",
      "Critical Habitat of the Lilliput (Toxolasma parvum) Order\n"
     ]
    },
    {
     "name": "stderr",
     "output_type": "stream",
     "text": [
      "Processing Files:  75%|███████▌  | 1298/1721 [46:51<15:45,  2.24s/it]"
     ]
    },
    {
     "name": "stdout",
     "output_type": "stream",
     "text": [
      "Embedding created\n",
      "Critical Habitat of the Misty Lake Lotic Threespine Stickleback (Gasterosteus aculeatus) Order\n"
     ]
    },
    {
     "name": "stderr",
     "output_type": "stream",
     "text": [
      "Processing Files:  75%|███████▌  | 1299/1721 [46:53<15:27,  2.20s/it]"
     ]
    },
    {
     "name": "stdout",
     "output_type": "stream",
     "text": [
      "Embedding created\n",
      "Export Permits Regulations (Softwood Lumber Products 2015)\n"
     ]
    },
    {
     "name": "stderr",
     "output_type": "stream",
     "text": [
      "Processing Files:  76%|███████▌  | 1300/1721 [46:55<15:13,  2.17s/it]"
     ]
    },
    {
     "name": "stdout",
     "output_type": "stream",
     "text": [
      "Embedding created\n",
      "Administrative Monetary Penalties and Notices (CSA 2001) Regulations\n"
     ]
    },
    {
     "name": "stderr",
     "output_type": "stream",
     "text": [
      "Processing Files:  76%|███████▌  | 1301/1721 [46:57<15:09,  2.17s/it]"
     ]
    },
    {
     "name": "stdout",
     "output_type": "stream",
     "text": [
      "Embedding not created\n",
      "General Import Permit No. 13 — Beef and Veal for Personal Use\n"
     ]
    },
    {
     "name": "stderr",
     "output_type": "stream",
     "text": [
      "Processing Files:  76%|███████▌  | 1302/1721 [46:59<15:10,  2.17s/it]"
     ]
    },
    {
     "name": "stdout",
     "output_type": "stream",
     "text": [
      "Embedding created\n",
      "Access to Cannabis for Medical Purposes Regulations\n"
     ]
    },
    {
     "name": "stderr",
     "output_type": "stream",
     "text": [
      "Processing Files:  76%|███████▌  | 1303/1721 [47:02<15:47,  2.27s/it]"
     ]
    },
    {
     "name": "stdout",
     "output_type": "stream",
     "text": [
      "Embedding not created\n",
      "Affiliated Persons (Insurance Companies) Regulations\n"
     ]
    },
    {
     "name": "stderr",
     "output_type": "stream",
     "text": [
      "Processing Files:  76%|███████▌  | 1304/1721 [47:04<15:28,  2.23s/it]"
     ]
    },
    {
     "name": "stdout",
     "output_type": "stream",
     "text": [
      "Embedding not created\n",
      "Apple Stabilization 1977 Regulations\n"
     ]
    },
    {
     "name": "stderr",
     "output_type": "stream",
     "text": [
      "Processing Files:  76%|███████▌  | 1305/1721 [47:06<14:46,  2.13s/it]"
     ]
    },
    {
     "name": "stdout",
     "output_type": "stream",
     "text": [
      "Embedding created\n",
      "Electronic Documents (Banks and Bank Holding Companies) Regulations \n"
     ]
    },
    {
     "name": "stderr",
     "output_type": "stream",
     "text": [
      "Processing Files:  76%|███████▌  | 1306/1721 [47:08<14:55,  2.16s/it]"
     ]
    },
    {
     "name": "stdout",
     "output_type": "stream",
     "text": [
      "Embedding created\n",
      "Cost Recovery Regulations\n"
     ]
    },
    {
     "name": "stderr",
     "output_type": "stream",
     "text": [
      "Processing Files:  76%|███████▌  | 1307/1721 [47:10<14:37,  2.12s/it]"
     ]
    },
    {
     "name": "stdout",
     "output_type": "stream",
     "text": [
      "Embedding created\n",
      "Frontier Lands Petroleum Royalty Regulations\n"
     ]
    },
    {
     "name": "stderr",
     "output_type": "stream",
     "text": [
      "Processing Files:  76%|███████▌  | 1308/1721 [47:13<15:03,  2.19s/it]"
     ]
    },
    {
     "name": "stdout",
     "output_type": "stream",
     "text": [
      "Embedding created\n",
      "Cannabis Regulations\n"
     ]
    },
    {
     "name": "stderr",
     "output_type": "stream",
     "text": [
      "Processing Files:  76%|███████▌  | 1309/1721 [47:16<17:57,  2.61s/it]"
     ]
    },
    {
     "name": "stdout",
     "output_type": "stream",
     "text": [
      "Embedding created\n",
      "Children of Deceased Veterans Education Assistance Regulations\n"
     ]
    },
    {
     "name": "stderr",
     "output_type": "stream",
     "text": [
      "Processing Files:  76%|███████▌  | 1310/1721 [47:18<16:46,  2.45s/it]"
     ]
    },
    {
     "name": "stdout",
     "output_type": "stream",
     "text": [
      "Embedding created\n",
      "Export of Specimens Permit\n"
     ]
    },
    {
     "name": "stderr",
     "output_type": "stream",
     "text": [
      "Processing Files:  76%|███████▌  | 1311/1721 [47:20<15:42,  2.30s/it]"
     ]
    },
    {
     "name": "stdout",
     "output_type": "stream",
     "text": [
      "Embedding created\n",
      "Certain Chloroprene Sheets Remission Order\n"
     ]
    },
    {
     "name": "stderr",
     "output_type": "stream",
     "text": [
      "Processing Files:  76%|███████▌  | 1312/1721 [47:23<15:48,  2.32s/it]"
     ]
    },
    {
     "name": "stdout",
     "output_type": "stream",
     "text": [
      "Embedding created\n",
      "General Export Permit No. EX. 15 — Eggs\n"
     ]
    },
    {
     "name": "stderr",
     "output_type": "stream",
     "text": [
      "Processing Files:  76%|███████▋  | 1313/1721 [47:25<15:14,  2.24s/it]"
     ]
    },
    {
     "name": "stdout",
     "output_type": "stream",
     "text": [
      "Embedding created\n",
      "CRTC Telecommunications Rules of Procedure\n"
     ]
    },
    {
     "name": "stderr",
     "output_type": "stream",
     "text": [
      "Processing Files:  76%|███████▋  | 1314/1721 [47:26<14:28,  2.13s/it]"
     ]
    },
    {
     "name": "stdout",
     "output_type": "stream",
     "text": [
      "Embedding created\n",
      "Defence Services Pension Part V Regulations\n"
     ]
    },
    {
     "name": "stderr",
     "output_type": "stream",
     "text": [
      "Processing Files:  76%|███████▋  | 1315/1721 [47:29<14:27,  2.14s/it]"
     ]
    },
    {
     "name": "stdout",
     "output_type": "stream",
     "text": [
      "Embedding created\n",
      "Exemption for Public Notices or Documents (Cooperative Credit Associations) Regulations\n"
     ]
    },
    {
     "name": "stderr",
     "output_type": "stream",
     "text": [
      "Processing Files:  76%|███████▋  | 1316/1721 [47:31<13:53,  2.06s/it]"
     ]
    },
    {
     "name": "stdout",
     "output_type": "stream",
     "text": [
      "Embedding created\n",
      "Federal Public Sector Labour Relations Regulations\n"
     ]
    },
    {
     "name": "stderr",
     "output_type": "stream",
     "text": [
      "Processing Files:  77%|███████▋  | 1317/1721 [47:32<13:42,  2.04s/it]"
     ]
    },
    {
     "name": "stdout",
     "output_type": "stream",
     "text": [
      "Embedding created\n",
      "Customs and Excise Human Rights Investigation Regulations\n"
     ]
    },
    {
     "name": "stderr",
     "output_type": "stream",
     "text": [
      "Processing Files:  77%|███████▋  | 1318/1721 [47:34<13:12,  1.97s/it]"
     ]
    },
    {
     "name": "stdout",
     "output_type": "stream",
     "text": [
      "Embedding created\n",
      "Civil Remedies (Banks and Bank Holding Companies) Regulations\n"
     ]
    },
    {
     "name": "stderr",
     "output_type": "stream",
     "text": [
      "Processing Files:  77%|███████▋  | 1319/1721 [47:36<12:59,  1.94s/it]"
     ]
    },
    {
     "name": "stdout",
     "output_type": "stream",
     "text": [
      "Embedding created\n",
      "Proclamation Amending the Agreement on Social Security Between Canada and the Republic of Finland in Force January 1, 1997\n"
     ]
    },
    {
     "name": "stderr",
     "output_type": "stream",
     "text": [
      "Processing Files:  77%|███████▋  | 1320/1721 [47:38<13:16,  1.99s/it]"
     ]
    },
    {
     "name": "stdout",
     "output_type": "stream",
     "text": [
      "Embedding created\n",
      "Canadian Bill of Rights Examination Regulations\n"
     ]
    },
    {
     "name": "stderr",
     "output_type": "stream",
     "text": [
      "Processing Files:  77%|███████▋  | 1321/1721 [47:40<13:04,  1.96s/it]"
     ]
    },
    {
     "name": "stdout",
     "output_type": "stream",
     "text": [
      "Embedding created\n",
      "Exemption from Restrictions on Investments (Banks, Bank Holding Companies and Foreign Banks) Regulations\n"
     ]
    },
    {
     "name": "stderr",
     "output_type": "stream",
     "text": [
      "Processing Files:  77%|███████▋  | 1322/1721 [47:42<13:02,  1.96s/it]"
     ]
    },
    {
     "name": "stdout",
     "output_type": "stream",
     "text": [
      "Embedding created\n",
      "Gillam Airport Zoning Regulations\n"
     ]
    },
    {
     "name": "stderr",
     "output_type": "stream",
     "text": [
      "Processing Files:  77%|███████▋  | 1323/1721 [47:44<13:04,  1.97s/it]"
     ]
    },
    {
     "name": "stdout",
     "output_type": "stream",
     "text": [
      "Embedding created\n",
      "Flammable Liquids Bulk Storage Regulations\n"
     ]
    },
    {
     "name": "stderr",
     "output_type": "stream",
     "text": [
      "Processing Files:  77%|███████▋  | 1324/1721 [47:46<13:47,  2.08s/it]"
     ]
    },
    {
     "name": "stdout",
     "output_type": "stream",
     "text": [
      "Embedding created\n",
      "Blood Drug Concentration Regulations\n"
     ]
    },
    {
     "name": "stderr",
     "output_type": "stream",
     "text": [
      "Processing Files:  77%|███████▋  | 1325/1721 [47:49<14:09,  2.15s/it]"
     ]
    },
    {
     "name": "stdout",
     "output_type": "stream",
     "text": [
      "Embedding created\n",
      "Great Lakes Pilotage Tariff Regulations\n"
     ]
    },
    {
     "name": "stderr",
     "output_type": "stream",
     "text": [
      "Processing Files:  77%|███████▋  | 1326/1721 [47:51<13:49,  2.10s/it]"
     ]
    },
    {
     "name": "stdout",
     "output_type": "stream",
     "text": [
      "Embedding created\n",
      "Fruit Remission Order, 2011\n"
     ]
    },
    {
     "name": "stderr",
     "output_type": "stream",
     "text": [
      "Processing Files:  77%|███████▋  | 1327/1721 [47:53<13:53,  2.11s/it]"
     ]
    },
    {
     "name": "stdout",
     "output_type": "stream",
     "text": [
      "Embedding created\n",
      "General Preferential Tariff and Least Developed Country Tariff Rules of Origin Regulations\n"
     ]
    },
    {
     "name": "stderr",
     "output_type": "stream",
     "text": [
      "Processing Files:  77%|███████▋  | 1328/1721 [47:55<14:46,  2.25s/it]"
     ]
    },
    {
     "name": "stdout",
     "output_type": "stream",
     "text": [
      "Embedding created\n",
      "Federal Child Support Guidelines\n"
     ]
    },
    {
     "name": "stderr",
     "output_type": "stream",
     "text": [
      "Processing Files:  77%|███████▋  | 1329/1721 [47:58<14:26,  2.21s/it]"
     ]
    },
    {
     "name": "stdout",
     "output_type": "stream",
     "text": [
      "Embedding created\n",
      "Criminal Proceedings Rules of the Manitoba Court of Queen’s Bench\n"
     ]
    },
    {
     "name": "stderr",
     "output_type": "stream",
     "text": [
      "Processing Files:  77%|███████▋  | 1330/1721 [48:00<14:22,  2.21s/it]"
     ]
    },
    {
     "name": "stdout",
     "output_type": "stream",
     "text": [
      "Embedding created\n",
      "Exclusion Approval Order for certain persons and certain positions (Air Traffic Control Group), 1991\n"
     ]
    },
    {
     "name": "stderr",
     "output_type": "stream",
     "text": [
      "Processing Files:  77%|███████▋  | 1331/1721 [48:02<14:05,  2.17s/it]"
     ]
    },
    {
     "name": "stdout",
     "output_type": "stream",
     "text": [
      "Embedding created\n",
      "Cruiser Remission Order\n"
     ]
    },
    {
     "name": "stderr",
     "output_type": "stream",
     "text": [
      "Processing Files:  77%|███████▋  | 1332/1721 [48:04<14:20,  2.21s/it]"
     ]
    },
    {
     "name": "stdout",
     "output_type": "stream",
     "text": [
      "Embedding created\n",
      "Canada Deposit Insurance Corporation Eligible Financial Contracts By-law\n"
     ]
    },
    {
     "name": "stderr",
     "output_type": "stream",
     "text": [
      "Processing Files:  77%|███████▋  | 1333/1721 [48:06<13:48,  2.14s/it]"
     ]
    },
    {
     "name": "stdout",
     "output_type": "stream",
     "text": [
      "Embedding created\n",
      "CATSA Aerodrome Designation Regulations\n"
     ]
    },
    {
     "name": "stderr",
     "output_type": "stream",
     "text": [
      "Processing Files:  78%|███████▊  | 1334/1721 [48:08<13:46,  2.13s/it]"
     ]
    },
    {
     "name": "stdout",
     "output_type": "stream",
     "text": [
      "Embedding created\n",
      "Gilbert Bay Marine Protected Area Regulations\n"
     ]
    },
    {
     "name": "stderr",
     "output_type": "stream",
     "text": [
      "Processing Files:  78%|███████▊  | 1335/1721 [48:11<14:50,  2.31s/it]"
     ]
    },
    {
     "name": "stdout",
     "output_type": "stream",
     "text": [
      "Embedding created\n",
      "Canada Development Investment Corporation Registered Office Relocation Order\n"
     ]
    },
    {
     "name": "stderr",
     "output_type": "stream",
     "text": [
      "Processing Files:  78%|███████▊  | 1336/1721 [48:13<14:57,  2.33s/it]"
     ]
    },
    {
     "name": "stdout",
     "output_type": "stream",
     "text": [
      "Embedding created\n",
      "Exempt Classes of Foreign Banks Regulations\n"
     ]
    },
    {
     "name": "stderr",
     "output_type": "stream",
     "text": [
      "Processing Files:  78%|███████▊  | 1337/1721 [48:15<14:28,  2.26s/it]"
     ]
    },
    {
     "name": "stdout",
     "output_type": "stream",
     "text": [
      "Embedding created\n",
      "Bait Services Fee Order\n"
     ]
    },
    {
     "name": "stderr",
     "output_type": "stream",
     "text": [
      "Processing Files:  78%|███████▊  | 1338/1721 [48:17<13:36,  2.13s/it]"
     ]
    },
    {
     "name": "stdout",
     "output_type": "stream",
     "text": [
      "Embedding not created\n",
      "Broadcasting Industry Commission Salesmen Hours of Work Regulations\n"
     ]
    },
    {
     "name": "stderr",
     "output_type": "stream",
     "text": [
      "Processing Files:  78%|███████▊  | 1339/1721 [48:19<13:35,  2.13s/it]"
     ]
    },
    {
     "name": "stdout",
     "output_type": "stream",
     "text": [
      "Embedding created\n",
      "Fiscal Equalization Payments Regulations, 1994\n"
     ]
    },
    {
     "name": "stderr",
     "output_type": "stream",
     "text": [
      "Processing Files:  78%|███████▊  | 1340/1721 [48:22<13:29,  2.12s/it]"
     ]
    },
    {
     "name": "stdout",
     "output_type": "stream",
     "text": [
      "Embedding created\n",
      "General Import Permit No. 2 — Chickens and Chicken Products for Personal Use\n"
     ]
    },
    {
     "name": "stderr",
     "output_type": "stream",
     "text": [
      "Processing Files:  78%|███████▊  | 1341/1721 [48:24<13:54,  2.20s/it]"
     ]
    },
    {
     "name": "stdout",
     "output_type": "stream",
     "text": [
      "Embedding created\n",
      "Gasoline Excise Tax Regulations\n"
     ]
    },
    {
     "name": "stderr",
     "output_type": "stream",
     "text": [
      "Processing Files:  78%|███████▊  | 1342/1721 [48:26<13:24,  2.12s/it]"
     ]
    },
    {
     "name": "stdout",
     "output_type": "stream",
     "text": [
      "Embedding created\n",
      "Fort Simpson Airport Zoning Regulations\n"
     ]
    },
    {
     "name": "stderr",
     "output_type": "stream",
     "text": [
      "Processing Files:  78%|███████▊  | 1343/1721 [48:28<12:49,  2.03s/it]"
     ]
    },
    {
     "name": "stdout",
     "output_type": "stream",
     "text": [
      "Embedding created\n",
      "Canada Oil and Gas Drilling Regulations\n"
     ]
    },
    {
     "name": "stderr",
     "output_type": "stream",
     "text": [
      "Processing Files:  78%|███████▊  | 1344/1721 [48:31<15:20,  2.44s/it]"
     ]
    },
    {
     "name": "stdout",
     "output_type": "stream",
     "text": [
      "Embedding created\n",
      "Basin Head Marine Protected Area Regulations\n"
     ]
    },
    {
     "name": "stderr",
     "output_type": "stream",
     "text": [
      "Processing Files:  78%|███████▊  | 1345/1721 [48:33<14:34,  2.33s/it]"
     ]
    },
    {
     "name": "stdout",
     "output_type": "stream",
     "text": [
      "Embedding created\n",
      "Commissioner’s Standing Orders (Grievances and Appeals)\n"
     ]
    },
    {
     "name": "stderr",
     "output_type": "stream",
     "text": [
      "Processing Files:  78%|███████▊  | 1346/1721 [48:35<14:01,  2.24s/it]"
     ]
    },
    {
     "name": "stdout",
     "output_type": "stream",
     "text": [
      "Embedding created\n",
      "Regulations Respecting the Fees for the Examination of Instruments and the Provision of Tables\n"
     ]
    },
    {
     "name": "stderr",
     "output_type": "stream",
     "text": [
      "Processing Files:  78%|███████▊  | 1347/1721 [48:38<14:14,  2.28s/it]"
     ]
    },
    {
     "name": "stdout",
     "output_type": "stream",
     "text": [
      "Embedding created\n",
      "Entity Associated with a Foreign Bank Regulations\n"
     ]
    },
    {
     "name": "stderr",
     "output_type": "stream",
     "text": [
      "Processing Files:  78%|███████▊  | 1348/1721 [48:40<14:01,  2.25s/it]"
     ]
    },
    {
     "name": "stdout",
     "output_type": "stream",
     "text": [
      "Embedding created\n",
      "Grosse Isle, P.Q., Prohibited Place Order\n"
     ]
    },
    {
     "name": "stderr",
     "output_type": "stream",
     "text": [
      "Processing Files:  78%|███████▊  | 1349/1721 [48:42<13:20,  2.15s/it]"
     ]
    },
    {
     "name": "stdout",
     "output_type": "stream",
     "text": [
      "Embedding created\n",
      "Agencies’ Orders and Regulations Approval Order\n"
     ]
    },
    {
     "name": "stderr",
     "output_type": "stream",
     "text": [
      "Processing Files:  78%|███████▊  | 1350/1721 [48:44<12:48,  2.07s/it]"
     ]
    },
    {
     "name": "stdout",
     "output_type": "stream",
     "text": [
      "Embedding not created\n",
      "African Development Bank Privileges and Immunities Order\n"
     ]
    },
    {
     "name": "stderr",
     "output_type": "stream",
     "text": [
      "Processing Files:  79%|███████▊  | 1351/1721 [48:46<13:09,  2.13s/it]"
     ]
    },
    {
     "name": "stdout",
     "output_type": "stream",
     "text": [
      "Embedding not created\n",
      "Canadian Transportation Agency Rules (Dispute Proceedings and Certain Rules Applicable to All Proceedings)\n"
     ]
    },
    {
     "name": "stderr",
     "output_type": "stream",
     "text": [
      "Processing Files:  79%|███████▊  | 1352/1721 [48:48<12:47,  2.08s/it]"
     ]
    },
    {
     "name": "stdout",
     "output_type": "stream",
     "text": [
      "Embedding created\n",
      "FAO Privileges and Immunities Order\n"
     ]
    },
    {
     "name": "stderr",
     "output_type": "stream",
     "text": [
      "Processing Files:  79%|███████▊  | 1353/1721 [48:50<12:56,  2.11s/it]"
     ]
    },
    {
     "name": "stdout",
     "output_type": "stream",
     "text": [
      "Embedding created\n",
      "General Export Permit No. Ex. 30 — Certain Industrial Goods to Eligible Countries and Territories\n"
     ]
    },
    {
     "name": "stderr",
     "output_type": "stream",
     "text": [
      "Processing Files:  79%|███████▊  | 1354/1721 [48:52<12:59,  2.13s/it]"
     ]
    },
    {
     "name": "stdout",
     "output_type": "stream",
     "text": [
      "Embedding created\n",
      "G20 Summit Privileges and Immunities Order, 2010\n"
     ]
    },
    {
     "name": "stderr",
     "output_type": "stream",
     "text": [
      "Processing Files:  79%|███████▊  | 1355/1721 [48:54<12:43,  2.09s/it]"
     ]
    },
    {
     "name": "stdout",
     "output_type": "stream",
     "text": [
      "Embedding created\n",
      "Hazardous Products (Charcoal) Regulations\n"
     ]
    },
    {
     "name": "stderr",
     "output_type": "stream",
     "text": [
      "Processing Files:  79%|███████▉  | 1356/1721 [48:56<12:25,  2.04s/it]"
     ]
    },
    {
     "name": "stdout",
     "output_type": "stream",
     "text": [
      "Embedding created\n",
      "Government Employees Land Acquisition Order, 1996, No. 1\n"
     ]
    },
    {
     "name": "stderr",
     "output_type": "stream",
     "text": [
      "Processing Files:  79%|███████▉  | 1357/1721 [48:58<12:17,  2.03s/it]"
     ]
    },
    {
     "name": "stdout",
     "output_type": "stream",
     "text": [
      "Embedding created\n",
      "Critical Habitat of the Western Chorus Frog (Pseudacris triseriata) Great Lakes / St. Lawrence – Canadian Shield Population Order\n"
     ]
    },
    {
     "name": "stderr",
     "output_type": "stream",
     "text": [
      "Processing Files:  79%|███████▉  | 1358/1721 [49:00<11:58,  1.98s/it]"
     ]
    },
    {
     "name": "stdout",
     "output_type": "stream",
     "text": [
      "Embedding created\n",
      "Electronic Documents (Cooperative Credit Associations) Regulations\n"
     ]
    },
    {
     "name": "stderr",
     "output_type": "stream",
     "text": [
      "Processing Files:  79%|███████▉  | 1359/1721 [49:02<11:43,  1.94s/it]"
     ]
    },
    {
     "name": "stdout",
     "output_type": "stream",
     "text": [
      "Embedding created\n",
      "Adjudication Division Rules\n"
     ]
    },
    {
     "name": "stderr",
     "output_type": "stream",
     "text": [
      "Processing Files:  79%|███████▉  | 1360/1721 [49:04<11:28,  1.91s/it]"
     ]
    },
    {
     "name": "stdout",
     "output_type": "stream",
     "text": [
      "Embedding not created\n",
      "General Import Permit No. 20 — Wheat and Wheat Products and Barley and Barley Products\n"
     ]
    },
    {
     "name": "stderr",
     "output_type": "stream",
     "text": [
      "Processing Files:  79%|███████▉  | 1361/1721 [49:06<11:28,  1.91s/it]"
     ]
    },
    {
     "name": "stdout",
     "output_type": "stream",
     "text": [
      "Embedding created\n",
      "Freezing Assets of Corrupt Foreign Officials (Ukraine) Regulations\n"
     ]
    },
    {
     "name": "stderr",
     "output_type": "stream",
     "text": [
      "Processing Files:  79%|███████▉  | 1362/1721 [49:08<11:36,  1.94s/it]"
     ]
    },
    {
     "name": "stdout",
     "output_type": "stream",
     "text": [
      "Embedding created\n",
      "Rules of the Court of Appeal of Alberta as to Criminal Appeals\n"
     ]
    },
    {
     "name": "stderr",
     "output_type": "stream",
     "text": [
      "Processing Files:  79%|███████▉  | 1363/1721 [49:10<12:07,  2.03s/it]"
     ]
    },
    {
     "name": "stdout",
     "output_type": "stream",
     "text": [
      "Embedding created\n",
      "College of Patent Agents and Trademark Agents Regulations\n"
     ]
    },
    {
     "name": "stderr",
     "output_type": "stream",
     "text": [
      "Processing Files:  79%|███████▉  | 1364/1721 [49:12<12:44,  2.14s/it]"
     ]
    },
    {
     "name": "stdout",
     "output_type": "stream",
     "text": [
      "Embedding created\n",
      "Federal Book Rebate (GST/HST) Regulations\n"
     ]
    },
    {
     "name": "stderr",
     "output_type": "stream",
     "text": [
      "Processing Files:  79%|███████▉  | 1365/1721 [49:14<12:06,  2.04s/it]"
     ]
    },
    {
     "name": "stdout",
     "output_type": "stream",
     "text": [
      "Embedding created\n",
      "Fort Liard Airport Zoning Regulations\n"
     ]
    },
    {
     "name": "stderr",
     "output_type": "stream",
     "text": [
      "Processing Files:  79%|███████▉  | 1366/1721 [49:16<11:40,  1.97s/it]"
     ]
    },
    {
     "name": "stdout",
     "output_type": "stream",
     "text": [
      "Embedding created\n",
      "Allowance Exclusion Order\n"
     ]
    },
    {
     "name": "stderr",
     "output_type": "stream",
     "text": [
      "Processing Files:  79%|███████▉  | 1367/1721 [49:18<11:25,  1.94s/it]"
     ]
    },
    {
     "name": "stdout",
     "output_type": "stream",
     "text": [
      "Embedding created\n",
      "Chicken Farmers of Canada Proclamation\n"
     ]
    },
    {
     "name": "stderr",
     "output_type": "stream",
     "text": [
      "Processing Files:  79%|███████▉  | 1368/1721 [49:20<11:32,  1.96s/it]"
     ]
    },
    {
     "name": "stdout",
     "output_type": "stream",
     "text": [
      "Embedding created\n",
      "Cheque Holding Policy Disclosure (Banks) Regulations\n"
     ]
    },
    {
     "name": "stderr",
     "output_type": "stream",
     "text": [
      "Processing Files:  80%|███████▉  | 1369/1721 [49:22<11:22,  1.94s/it]"
     ]
    },
    {
     "name": "stdout",
     "output_type": "stream",
     "text": [
      "Embedding created\n",
      "Customs Duties Accelerated Reduction Order, No. 6\n"
     ]
    },
    {
     "name": "stderr",
     "output_type": "stream",
     "text": [
      "Processing Files:  80%|███████▉  | 1370/1721 [49:24<12:01,  2.05s/it]"
     ]
    },
    {
     "name": "stdout",
     "output_type": "stream",
     "text": [
      "Embedding created\n",
      "Fees in Respect of Dealer’s Licences Regulations\n"
     ]
    },
    {
     "name": "stderr",
     "output_type": "stream",
     "text": [
      "Processing Files:  80%|███████▉  | 1371/1721 [49:26<12:16,  2.11s/it]"
     ]
    },
    {
     "name": "stdout",
     "output_type": "stream",
     "text": [
      "Embedding created\n",
      "Charlottetown Airport Zoning Regulations\n"
     ]
    },
    {
     "name": "stderr",
     "output_type": "stream",
     "text": [
      "Processing Files:  80%|███████▉  | 1372/1721 [49:28<11:54,  2.05s/it]"
     ]
    },
    {
     "name": "stdout",
     "output_type": "stream",
     "text": [
      "Embedding created\n",
      "Canada Post Systems Management Limited Incorporation Authorization Order\n"
     ]
    },
    {
     "name": "stderr",
     "output_type": "stream",
     "text": [
      "Processing Files:  80%|███████▉  | 1373/1721 [49:30<12:10,  2.10s/it]"
     ]
    },
    {
     "name": "stdout",
     "output_type": "stream",
     "text": [
      "Embedding created\n",
      "Export of Sugar Permit\n"
     ]
    },
    {
     "name": "stderr",
     "output_type": "stream",
     "text": [
      "Processing Files:  80%|███████▉  | 1374/1721 [49:32<12:24,  2.14s/it]"
     ]
    },
    {
     "name": "stdout",
     "output_type": "stream",
     "text": [
      "Embedding created\n",
      "British Columbia Interior Vegetable Marketing Board (Interprovincial and Export) Regulations\n"
     ]
    },
    {
     "name": "stderr",
     "output_type": "stream",
     "text": [
      "Processing Files:  80%|███████▉  | 1375/1721 [49:35<12:45,  2.21s/it]"
     ]
    },
    {
     "name": "stdout",
     "output_type": "stream",
     "text": [
      "Embedding created\n",
      "Construction Starts Fee Order\n"
     ]
    },
    {
     "name": "stderr",
     "output_type": "stream",
     "text": [
      "Processing Files:  80%|███████▉  | 1376/1721 [49:37<12:33,  2.18s/it]"
     ]
    },
    {
     "name": "stdout",
     "output_type": "stream",
     "text": [
      "Embedding created\n",
      "Alberta Sex Offender Information Registration Regulations\n"
     ]
    },
    {
     "name": "stderr",
     "output_type": "stream",
     "text": [
      "Processing Files:  80%|████████  | 1377/1721 [49:39<12:26,  2.17s/it]"
     ]
    },
    {
     "name": "stdout",
     "output_type": "stream",
     "text": [
      "Embedding created\n",
      "Denatured and Specially Denatured Alcohol Regulations\n"
     ]
    },
    {
     "name": "stderr",
     "output_type": "stream",
     "text": [
      "Processing Files:  80%|████████  | 1378/1721 [49:41<11:50,  2.07s/it]"
     ]
    },
    {
     "name": "stdout",
     "output_type": "stream",
     "text": [
      "Embedding created\n",
      "Canadian Wheat Board Regulations\n"
     ]
    },
    {
     "name": "stderr",
     "output_type": "stream",
     "text": [
      "Processing Files:  80%|████████  | 1379/1721 [49:43<11:33,  2.03s/it]"
     ]
    },
    {
     "name": "stdout",
     "output_type": "stream",
     "text": [
      "Embedding created\n",
      "Alberta Chicken Order\n"
     ]
    },
    {
     "name": "stderr",
     "output_type": "stream",
     "text": [
      "Processing Files:  80%|████████  | 1380/1721 [49:45<11:23,  2.00s/it]"
     ]
    },
    {
     "name": "stdout",
     "output_type": "stream",
     "text": [
      "Embedding created\n",
      "Great Lakes Pilotage Regulations\n"
     ]
    },
    {
     "name": "stderr",
     "output_type": "stream",
     "text": [
      "Processing Files:  80%|████████  | 1381/1721 [49:47<11:12,  1.98s/it]"
     ]
    },
    {
     "name": "stdout",
     "output_type": "stream",
     "text": [
      "Embedding created\n",
      "Domestic Ferries Security Regulations\n"
     ]
    },
    {
     "name": "stderr",
     "output_type": "stream",
     "text": [
      "Processing Files:  80%|████████  | 1382/1721 [49:49<11:22,  2.01s/it]"
     ]
    },
    {
     "name": "stdout",
     "output_type": "stream",
     "text": [
      "Embedding created\n",
      "FIFA Men's U-20 World Cup Canada 2007 Remission Order\n"
     ]
    },
    {
     "name": "stderr",
     "output_type": "stream",
     "text": [
      "Processing Files:  80%|████████  | 1383/1721 [49:51<11:35,  2.06s/it]"
     ]
    },
    {
     "name": "stdout",
     "output_type": "stream",
     "text": [
      "Embedding created\n",
      "Department of Forestry Terms Under Three Months Exclusion Approval Order, 1993\n"
     ]
    },
    {
     "name": "stderr",
     "output_type": "stream",
     "text": [
      "Processing Files:  80%|████████  | 1384/1721 [49:53<11:19,  2.02s/it]"
     ]
    },
    {
     "name": "stdout",
     "output_type": "stream",
     "text": [
      "Embedding created\n",
      "Aboriginal Communal Fishing Licences Regulations\n"
     ]
    },
    {
     "name": "stderr",
     "output_type": "stream",
     "text": [
      "Processing Files:  80%|████████  | 1385/1721 [49:55<11:25,  2.04s/it]"
     ]
    },
    {
     "name": "stdout",
     "output_type": "stream",
     "text": [
      "Embedding not created\n",
      "CCFTA Remission Order, 2003\n"
     ]
    },
    {
     "name": "stderr",
     "output_type": "stream",
     "text": [
      "Processing Files:  81%|████████  | 1386/1721 [49:57<11:56,  2.14s/it]"
     ]
    },
    {
     "name": "stdout",
     "output_type": "stream",
     "text": [
      "Embedding created\n",
      "Certain Fees Paid or Payable for the Acquisition of Permanent Resident Status, Travel Document Services and Consular Services (Resettlement from Afghanistan) Remission Order\n"
     ]
    },
    {
     "name": "stderr",
     "output_type": "stream",
     "text": [
      "Processing Files:  81%|████████  | 1387/1721 [49:59<11:34,  2.08s/it]"
     ]
    },
    {
     "name": "stdout",
     "output_type": "stream",
     "text": [
      "Embedding created\n",
      "B.C. Tree Fruit Export Regulations\n"
     ]
    },
    {
     "name": "stderr",
     "output_type": "stream",
     "text": [
      "Processing Files:  81%|████████  | 1388/1721 [50:02<11:56,  2.15s/it]"
     ]
    },
    {
     "name": "stdout",
     "output_type": "stream",
     "text": [
      "Embedding not created\n",
      "British Columbia Turkey Marketing Board (Interprovincial and Export) Order\n"
     ]
    },
    {
     "name": "stderr",
     "output_type": "stream",
     "text": [
      "Processing Files:  81%|████████  | 1389/1721 [50:03<11:19,  2.05s/it]"
     ]
    },
    {
     "name": "stdout",
     "output_type": "stream",
     "text": [
      "Embedding created\n",
      "Regulations Designating Certain Countries for the Purposes of Tariff Item No. 9810.00.00, 1999-1\n"
     ]
    },
    {
     "name": "stderr",
     "output_type": "stream",
     "text": [
      "Processing Files:  81%|████████  | 1390/1721 [50:06<11:32,  2.09s/it]"
     ]
    },
    {
     "name": "stdout",
     "output_type": "stream",
     "text": [
      "Embedding created\n",
      "General Preferential Tariff Withdrawal Order (Certain Countries Acceding to the European Union)\n"
     ]
    },
    {
     "name": "stderr",
     "output_type": "stream",
     "text": [
      "Processing Files:  81%|████████  | 1391/1721 [50:08<11:26,  2.08s/it]"
     ]
    },
    {
     "name": "stdout",
     "output_type": "stream",
     "text": [
      "Embedding created\n",
      "Order Designating British Columbia for the Purposes of the Criminal Interest Rate Provisions of the Criminal Code\n"
     ]
    },
    {
     "name": "stderr",
     "output_type": "stream",
     "text": [
      "Processing Files:  81%|████████  | 1392/1721 [50:10<11:13,  2.05s/it]"
     ]
    },
    {
     "name": "stdout",
     "output_type": "stream",
     "text": [
      "Embedding created\n",
      "Affiliated Persons (Banks) Regulations\n"
     ]
    },
    {
     "name": "stderr",
     "output_type": "stream",
     "text": [
      "Processing Files:  81%|████████  | 1393/1721 [50:12<11:23,  2.08s/it]"
     ]
    },
    {
     "name": "stdout",
     "output_type": "stream",
     "text": [
      "Embedding not created\n",
      "Cigarette Ignition Propensity (Consumer Products) Regulations\n"
     ]
    },
    {
     "name": "stderr",
     "output_type": "stream",
     "text": [
      "Processing Files:  81%|████████  | 1394/1721 [50:14<10:53,  2.00s/it]"
     ]
    },
    {
     "name": "stdout",
     "output_type": "stream",
     "text": [
      "Embedding created\n",
      "Details of Maps, Plans, Profiles, Drawings, Specifications and Books of Reference Regulations\n"
     ]
    },
    {
     "name": "stderr",
     "output_type": "stream",
     "text": [
      "Processing Files:  81%|████████  | 1395/1721 [50:16<10:54,  2.01s/it]"
     ]
    },
    {
     "name": "stdout",
     "output_type": "stream",
     "text": [
      "Embedding created\n",
      "Canada Assistance Plan (British Columbia) Remission Order\n"
     ]
    },
    {
     "name": "stderr",
     "output_type": "stream",
     "text": [
      "Processing Files:  81%|████████  | 1396/1721 [50:18<10:38,  1.96s/it]"
     ]
    },
    {
     "name": "stdout",
     "output_type": "stream",
     "text": [
      "Embedding created\n",
      "Designated Provisions (Customs) Regulations\n"
     ]
    },
    {
     "name": "stderr",
     "output_type": "stream",
     "text": [
      "Processing Files:  81%|████████  | 1397/1721 [50:20<10:55,  2.02s/it]"
     ]
    },
    {
     "name": "stdout",
     "output_type": "stream",
     "text": [
      "Embedding created\n",
      "Federal Registration of Storage Tank Systems for Petroleum Products and Allied Petroleum Products on Federal Lands or Aboriginal Lands Regulations\n"
     ]
    },
    {
     "name": "stderr",
     "output_type": "stream",
     "text": [
      "Processing Files:  81%|████████  | 1398/1721 [50:22<10:45,  2.00s/it]"
     ]
    },
    {
     "name": "stdout",
     "output_type": "stream",
     "text": [
      "Embedding created\n",
      "Aggregate Financial Exposure (Trust and Loan Companies) Regulations\n"
     ]
    },
    {
     "name": "stderr",
     "output_type": "stream",
     "text": [
      "Processing Files:  81%|████████▏ | 1399/1721 [50:23<10:23,  1.94s/it]"
     ]
    },
    {
     "name": "stdout",
     "output_type": "stream",
     "text": [
      "Embedding not created\n",
      "Dryden Airport Zoning Regulations\n"
     ]
    },
    {
     "name": "stderr",
     "output_type": "stream",
     "text": [
      "Processing Files:  81%|████████▏ | 1400/1721 [50:26<10:52,  2.03s/it]"
     ]
    },
    {
     "name": "stdout",
     "output_type": "stream",
     "text": [
      "Embedding created\n",
      "Regulations Prescribing Certain Firearms and Other Weapons, Components and Parts of Weapons, Accessories, Cartridge Magazines, Ammunition and Projectiles as Prohibited or Restricted\n"
     ]
    },
    {
     "name": "stderr",
     "output_type": "stream",
     "text": [
      "Processing Files:  81%|████████▏ | 1401/1721 [50:28<11:02,  2.07s/it]"
     ]
    },
    {
     "name": "stdout",
     "output_type": "stream",
     "text": [
      "Embedding created\n",
      "Arctic Waters Experimental Pollution Regulations, 1978\n"
     ]
    },
    {
     "name": "stderr",
     "output_type": "stream",
     "text": [
      "Processing Files:  81%|████████▏ | 1402/1721 [50:30<10:46,  2.03s/it]"
     ]
    },
    {
     "name": "stdout",
     "output_type": "stream",
     "text": [
      "Embedding created\n",
      "Corded Window Covering Products Regulations\n"
     ]
    },
    {
     "name": "stderr",
     "output_type": "stream",
     "text": [
      "Processing Files:  82%|████████▏ | 1403/1721 [50:32<11:04,  2.09s/it]"
     ]
    },
    {
     "name": "stdout",
     "output_type": "stream",
     "text": [
      "Embedding created\n",
      "Access to Basic Banking Services Regulations\n"
     ]
    },
    {
     "name": "stderr",
     "output_type": "stream",
     "text": [
      "Processing Files:  82%|████████▏ | 1404/1721 [50:34<11:03,  2.09s/it]"
     ]
    },
    {
     "name": "stdout",
     "output_type": "stream",
     "text": [
      "Embedding not created\n",
      "Canada Oil and Gas Geophysical Operations Regulations\n"
     ]
    },
    {
     "name": "stderr",
     "output_type": "stream",
     "text": [
      "Processing Files:  82%|████████▏ | 1405/1721 [50:37<11:40,  2.22s/it]"
     ]
    },
    {
     "name": "stdout",
     "output_type": "stream",
     "text": [
      "Embedding created\n",
      "Consumer Packaging and Labelling Regulations\n"
     ]
    },
    {
     "name": "stderr",
     "output_type": "stream",
     "text": [
      "Processing Files:  82%|████████▏ | 1406/1721 [50:39<11:16,  2.15s/it]"
     ]
    },
    {
     "name": "stdout",
     "output_type": "stream",
     "text": [
      "Embedding created\n",
      "Fondation québécoise du cancer Inc. Remission Order\n"
     ]
    },
    {
     "name": "stderr",
     "output_type": "stream",
     "text": [
      "Processing Files:  82%|████████▏ | 1407/1721 [50:41<11:09,  2.13s/it]"
     ]
    },
    {
     "name": "stdout",
     "output_type": "stream",
     "text": [
      "Embedding created\n",
      "Access to Information Act Heads of Government Institutions Designation Order\n"
     ]
    },
    {
     "name": "stderr",
     "output_type": "stream",
     "text": [
      "Processing Files:  82%|████████▏ | 1408/1721 [50:43<11:00,  2.11s/it]"
     ]
    },
    {
     "name": "stdout",
     "output_type": "stream",
     "text": [
      "Embedding not created\n",
      "Critical Habitat of Carmine Shiner (Notropis percobromus) Order\n"
     ]
    },
    {
     "name": "stderr",
     "output_type": "stream",
     "text": [
      "Processing Files:  82%|████████▏ | 1409/1721 [50:45<11:01,  2.12s/it]"
     ]
    },
    {
     "name": "stdout",
     "output_type": "stream",
     "text": [
      "Embedding created\n",
      "Cigarette Ignition Propensity Regulations\n"
     ]
    },
    {
     "name": "stderr",
     "output_type": "stream",
     "text": [
      "Processing Files:  82%|████████▏ | 1410/1721 [50:47<11:02,  2.13s/it]"
     ]
    },
    {
     "name": "stdout",
     "output_type": "stream",
     "text": [
      "Embedding created\n",
      "Rules of the Court of Appeals for the Northwest Territories as to A. Criminal Appeals B. Bail on Appeals\n"
     ]
    },
    {
     "name": "stderr",
     "output_type": "stream",
     "text": [
      "Processing Files:  82%|████████▏ | 1411/1721 [50:50<12:13,  2.36s/it]"
     ]
    },
    {
     "name": "stdout",
     "output_type": "stream",
     "text": [
      "Embedding created\n",
      "Canadian Energy Regulator Processing Plant Regulations\n"
     ]
    },
    {
     "name": "stderr",
     "output_type": "stream",
     "text": [
      "Processing Files:  82%|████████▏ | 1412/1721 [50:53<12:38,  2.45s/it]"
     ]
    },
    {
     "name": "stdout",
     "output_type": "stream",
     "text": [
      "Embedding created\n",
      "Aluminerie de Bécancour Remission Order\n"
     ]
    },
    {
     "name": "stderr",
     "output_type": "stream",
     "text": [
      "Processing Files:  82%|████████▏ | 1413/1721 [50:55<11:51,  2.31s/it]"
     ]
    },
    {
     "name": "stdout",
     "output_type": "stream",
     "text": [
      "Embedding created\n",
      "Export Permits Regulations (Non-strategic Products)\n"
     ]
    },
    {
     "name": "stderr",
     "output_type": "stream",
     "text": [
      "Processing Files:  82%|████████▏ | 1414/1721 [50:57<11:32,  2.26s/it]"
     ]
    },
    {
     "name": "stdout",
     "output_type": "stream",
     "text": [
      "Embedding created\n",
      "Order Respecting the Remission of Equalization Overpayments Made to Certain Provinces under the Federal-Provincial Fiscal Arrangements Act\n"
     ]
    },
    {
     "name": "stderr",
     "output_type": "stream",
     "text": [
      "Processing Files:  82%|████████▏ | 1415/1721 [50:59<11:37,  2.28s/it]"
     ]
    },
    {
     "name": "stdout",
     "output_type": "stream",
     "text": [
      "Embedding created\n",
      "Administrative Monetary Penalties (OSFI) Regulations\n"
     ]
    },
    {
     "name": "stderr",
     "output_type": "stream",
     "text": [
      "Processing Files:  82%|████████▏ | 1416/1721 [51:01<11:44,  2.31s/it]"
     ]
    },
    {
     "name": "stdout",
     "output_type": "stream",
     "text": [
      "Embedding not created\n",
      "Remission Order in Respect of Goods Under the Customs Duties Reduction or Removal Order, 1988\n"
     ]
    },
    {
     "name": "stderr",
     "output_type": "stream",
     "text": [
      "Processing Files:  82%|████████▏ | 1417/1721 [51:05<13:14,  2.61s/it]"
     ]
    },
    {
     "name": "stdout",
     "output_type": "stream",
     "text": [
      "Embedding created\n",
      "Regulations Defining Certain Expressions for the Purpose of Section 21.1 of the Foreign Publishers Advertising Services Act\n"
     ]
    },
    {
     "name": "stderr",
     "output_type": "stream",
     "text": [
      "Processing Files:  82%|████████▏ | 1418/1721 [51:07<12:17,  2.43s/it]"
     ]
    },
    {
     "name": "stdout",
     "output_type": "stream",
     "text": [
      "Embedding created\n",
      "Agriculture and Agri-Food Administrative Monetary Penalties Regulations\n"
     ]
    },
    {
     "name": "stderr",
     "output_type": "stream",
     "text": [
      "Processing Files:  82%|████████▏ | 1419/1721 [51:09<11:44,  2.33s/it]"
     ]
    },
    {
     "name": "stdout",
     "output_type": "stream",
     "text": [
      "Embedding not created\n",
      "British Columbia Tree Fruit Pooling Regulations\n"
     ]
    },
    {
     "name": "stderr",
     "output_type": "stream",
     "text": [
      "Processing Files:  83%|████████▎ | 1420/1721 [51:11<11:45,  2.34s/it]"
     ]
    },
    {
     "name": "stdout",
     "output_type": "stream",
     "text": [
      "Embedding created\n",
      "Designated Provisions Regulations\n"
     ]
    },
    {
     "name": "stderr",
     "output_type": "stream",
     "text": [
      "Processing Files:  83%|████████▎ | 1421/1721 [51:13<11:21,  2.27s/it]"
     ]
    },
    {
     "name": "stdout",
     "output_type": "stream",
     "text": [
      "Embedding created\n",
      "B.C. Place Replacement Turf Remission Order, 1995\n"
     ]
    },
    {
     "name": "stderr",
     "output_type": "stream",
     "text": [
      "Processing Files:  83%|████████▎ | 1422/1721 [51:15<10:59,  2.21s/it]"
     ]
    },
    {
     "name": "stdout",
     "output_type": "stream",
     "text": [
      "Embedding not created\n",
      "Government Property Traffic Regulations\n"
     ]
    },
    {
     "name": "stderr",
     "output_type": "stream",
     "text": [
      "Processing Files:  83%|████████▎ | 1423/1721 [51:17<10:29,  2.11s/it]"
     ]
    },
    {
     "name": "stdout",
     "output_type": "stream",
     "text": [
      "Embedding created\n",
      "Charter Flights Airport Facilities Reservation Regulations\n"
     ]
    },
    {
     "name": "stderr",
     "output_type": "stream",
     "text": [
      "Processing Files:  83%|████████▎ | 1424/1721 [51:19<10:02,  2.03s/it]"
     ]
    },
    {
     "name": "stdout",
     "output_type": "stream",
     "text": [
      "Embedding created\n",
      "Critical Habitat of the Striped Bass (Morone saxatilis) St. Lawrence River Population Order\n"
     ]
    },
    {
     "name": "stderr",
     "output_type": "stream",
     "text": [
      "Processing Files:  83%|████████▎ | 1425/1721 [51:21<10:22,  2.10s/it]"
     ]
    },
    {
     "name": "stdout",
     "output_type": "stream",
     "text": [
      "Embedding created\n",
      "Barley Stabilization Regulations, 1977-78\n"
     ]
    },
    {
     "name": "stderr",
     "output_type": "stream",
     "text": [
      "Processing Files:  83%|████████▎ | 1426/1721 [51:23<10:12,  2.08s/it]"
     ]
    },
    {
     "name": "stdout",
     "output_type": "stream",
     "text": [
      "Embedding created\n",
      "Fishing and Recreational Harbours Regulations\n"
     ]
    },
    {
     "name": "stderr",
     "output_type": "stream",
     "text": [
      "Processing Files:  83%|████████▎ | 1427/1721 [51:25<09:50,  2.01s/it]"
     ]
    },
    {
     "name": "stdout",
     "output_type": "stream",
     "text": [
      "Embedding created\n",
      "Order Extending the Time for the Assessment of the Status of Wildlife Species\n"
     ]
    },
    {
     "name": "stderr",
     "output_type": "stream",
     "text": [
      "Processing Files:  83%|████████▎ | 1428/1721 [51:27<09:38,  1.97s/it]"
     ]
    },
    {
     "name": "stdout",
     "output_type": "stream",
     "text": [
      "Embedding created\n",
      "Air Passenger Protection Regulations\n"
     ]
    },
    {
     "name": "stderr",
     "output_type": "stream",
     "text": [
      "Processing Files:  83%|████████▎ | 1429/1721 [51:29<09:31,  1.96s/it]"
     ]
    },
    {
     "name": "stdout",
     "output_type": "stream",
     "text": [
      "Embedding created\n",
      "Commissioner’s Standing Orders (Dispute Resolution Process for Promotions and Job Requirements)\n"
     ]
    },
    {
     "name": "stderr",
     "output_type": "stream",
     "text": [
      "Processing Files:  83%|████████▎ | 1430/1721 [51:31<09:39,  1.99s/it]"
     ]
    },
    {
     "name": "stdout",
     "output_type": "stream",
     "text": [
      "Embedding created\n",
      "Hazardous Products (Child Restraint Systems) Regulations\n"
     ]
    },
    {
     "name": "stderr",
     "output_type": "stream",
     "text": [
      "Processing Files:  83%|████████▎ | 1431/1721 [51:33<09:38,  2.00s/it]"
     ]
    },
    {
     "name": "stdout",
     "output_type": "stream",
     "text": [
      "Embedding created\n",
      "Air Pollution Regulations\n"
     ]
    },
    {
     "name": "stderr",
     "output_type": "stream",
     "text": [
      "Processing Files:  83%|████████▎ | 1432/1721 [51:35<09:44,  2.02s/it]"
     ]
    },
    {
     "name": "stdout",
     "output_type": "stream",
     "text": [
      "Embedding created\n",
      "Halifax International Airport Zoning Regulations\n"
     ]
    },
    {
     "name": "stderr",
     "output_type": "stream",
     "text": [
      "Processing Files:  83%|████████▎ | 1433/1721 [51:37<09:55,  2.07s/it]"
     ]
    },
    {
     "name": "stdout",
     "output_type": "stream",
     "text": [
      "Embedding created\n",
      "Banc-des-Américains Marine Protected Area Regulations\n"
     ]
    },
    {
     "name": "stderr",
     "output_type": "stream",
     "text": [
      "Processing Files:  83%|████████▎ | 1434/1721 [51:39<09:53,  2.07s/it]"
     ]
    },
    {
     "name": "stdout",
     "output_type": "stream",
     "text": [
      "Embedding created\n",
      "Canada Customs and Revenue Agency Regulations\n"
     ]
    },
    {
     "name": "stderr",
     "output_type": "stream",
     "text": [
      "Processing Files:  83%|████████▎ | 1435/1721 [51:42<09:54,  2.08s/it]"
     ]
    },
    {
     "name": "stdout",
     "output_type": "stream",
     "text": [
      "Embedding created\n",
      "British Columbia Mushroom Order\n"
     ]
    },
    {
     "name": "stderr",
     "output_type": "stream",
     "text": [
      "Processing Files:  83%|████████▎ | 1436/1721 [51:44<09:45,  2.05s/it]"
     ]
    },
    {
     "name": "stdout",
     "output_type": "stream",
     "text": [
      "Embedding created\n",
      "Contraventions Regulations\n"
     ]
    },
    {
     "name": "stderr",
     "output_type": "stream",
     "text": [
      "Processing Files:  83%|████████▎ | 1437/1721 [51:45<09:32,  2.02s/it]"
     ]
    },
    {
     "name": "stdout",
     "output_type": "stream",
     "text": [
      "Embedding created\n",
      "Disclosure of Charges (Trust and Loan Companies) Regulations\n"
     ]
    },
    {
     "name": "stderr",
     "output_type": "stream",
     "text": [
      "Processing Files:  84%|████████▎ | 1438/1721 [51:47<09:26,  2.00s/it]"
     ]
    },
    {
     "name": "stdout",
     "output_type": "stream",
     "text": [
      "Embedding created\n",
      "Abatement of Duties Payable Regulations\n"
     ]
    },
    {
     "name": "stderr",
     "output_type": "stream",
     "text": [
      "Processing Files:  84%|████████▎ | 1439/1721 [51:50<09:34,  2.04s/it]"
     ]
    },
    {
     "name": "stdout",
     "output_type": "stream",
     "text": [
      "Embedding not created\n",
      "Exemption for Public Notices or Documents (Trust and Loan Companies) Regulations\n"
     ]
    },
    {
     "name": "stderr",
     "output_type": "stream",
     "text": [
      "Processing Files:  84%|████████▎ | 1440/1721 [51:52<09:26,  2.02s/it]"
     ]
    },
    {
     "name": "stdout",
     "output_type": "stream",
     "text": [
      "Embedding created\n",
      "Consolidated Computer Inc. Enterprise Development Regulations\n"
     ]
    },
    {
     "name": "stderr",
     "output_type": "stream",
     "text": [
      "Processing Files:  84%|████████▎ | 1441/1721 [51:54<09:33,  2.05s/it]"
     ]
    },
    {
     "name": "stdout",
     "output_type": "stream",
     "text": [
      "Embedding created\n",
      "Canada Turkey Marketing Processors Levy Order\n"
     ]
    },
    {
     "name": "stderr",
     "output_type": "stream",
     "text": [
      "Processing Files:  84%|████████▍ | 1442/1721 [51:55<09:12,  1.98s/it]"
     ]
    },
    {
     "name": "stdout",
     "output_type": "stream",
     "text": [
      "Embedding created\n",
      "Food and Agricultural Organization Remission Order\n"
     ]
    },
    {
     "name": "stderr",
     "output_type": "stream",
     "text": [
      "Processing Files:  84%|████████▍ | 1443/1721 [51:57<09:05,  1.96s/it]"
     ]
    },
    {
     "name": "stdout",
     "output_type": "stream",
     "text": [
      "Embedding created\n",
      "Accountable Travel and Moving Advance Regulations (Canadian Forces)\n"
     ]
    },
    {
     "name": "stderr",
     "output_type": "stream",
     "text": [
      "Processing Files:  84%|████████▍ | 1444/1721 [51:59<09:04,  1.97s/it]"
     ]
    },
    {
     "name": "stdout",
     "output_type": "stream",
     "text": [
      "Embedding not created\n",
      "Assigning to the Minister of the Environment the Administration, Management and Control of Certain Public Lands\n"
     ]
    },
    {
     "name": "stderr",
     "output_type": "stream",
     "text": [
      "Processing Files:  84%|████████▍ | 1445/1721 [52:01<09:04,  1.97s/it]"
     ]
    },
    {
     "name": "stdout",
     "output_type": "stream",
     "text": [
      "Embedding created\n",
      "Canadian Chicken Marketing Levies Order\n"
     ]
    },
    {
     "name": "stderr",
     "output_type": "stream",
     "text": [
      "Processing Files:  84%|████████▍ | 1446/1721 [52:04<09:23,  2.05s/it]"
     ]
    },
    {
     "name": "stdout",
     "output_type": "stream",
     "text": [
      "Embedding created\n",
      "Diplomatic, Consular and International Organizations’ Property Grants Order\n"
     ]
    },
    {
     "name": "stderr",
     "output_type": "stream",
     "text": [
      "Processing Files:  84%|████████▍ | 1447/1721 [52:05<09:07,  2.00s/it]"
     ]
    },
    {
     "name": "stdout",
     "output_type": "stream",
     "text": [
      "Embedding created\n",
      "Foreign Claims (Czechoslovakia) Settlement Regulations\n"
     ]
    },
    {
     "name": "stderr",
     "output_type": "stream",
     "text": [
      "Processing Files:  84%|████████▍ | 1448/1721 [52:08<09:22,  2.06s/it]"
     ]
    },
    {
     "name": "stdout",
     "output_type": "stream",
     "text": [
      "Embedding created\n",
      "Energy Efficiency Regulations\n"
     ]
    },
    {
     "name": "stderr",
     "output_type": "stream",
     "text": [
      "Processing Files:  84%|████████▍ | 1449/1721 [52:10<09:12,  2.03s/it]"
     ]
    },
    {
     "name": "stdout",
     "output_type": "stream",
     "text": [
      "Embedding created\n",
      "Atomic Energy of Canada Limited Pension Regulations\n"
     ]
    },
    {
     "name": "stderr",
     "output_type": "stream",
     "text": [
      "Processing Files:  84%|████████▍ | 1450/1721 [52:12<09:34,  2.12s/it]"
     ]
    },
    {
     "name": "stdout",
     "output_type": "stream",
     "text": [
      "Embedding created\n",
      "Foreign Companies Prescribed Transactions Regulations\n"
     ]
    },
    {
     "name": "stderr",
     "output_type": "stream",
     "text": [
      "Processing Files:  84%|████████▍ | 1451/1721 [52:14<09:12,  2.05s/it]"
     ]
    },
    {
     "name": "stdout",
     "output_type": "stream",
     "text": [
      "Embedding created\n",
      "Great Lakes Sewage Pollution Prevention Regulations\n"
     ]
    },
    {
     "name": "stderr",
     "output_type": "stream",
     "text": [
      "Processing Files:  84%|████████▍ | 1452/1721 [52:16<09:00,  2.01s/it]"
     ]
    },
    {
     "name": "stdout",
     "output_type": "stream",
     "text": [
      "Embedding created\n",
      "Canada Travelling Exhibitions Indemnification Regulations\n"
     ]
    },
    {
     "name": "stderr",
     "output_type": "stream",
     "text": [
      "Processing Files:  84%|████████▍ | 1453/1721 [52:18<08:57,  2.00s/it]"
     ]
    },
    {
     "name": "stdout",
     "output_type": "stream",
     "text": [
      "Embedding created\n",
      "Criminal Rules of the Ontario Court of Justice\n"
     ]
    },
    {
     "name": "stderr",
     "output_type": "stream",
     "text": [
      "Processing Files:  84%|████████▍ | 1454/1721 [52:20<08:50,  1.99s/it]"
     ]
    },
    {
     "name": "stdout",
     "output_type": "stream",
     "text": [
      "Embedding created\n",
      "Eligible Financial Contract Regulations (Winding-up and Restructuring Act)\n"
     ]
    },
    {
     "name": "stderr",
     "output_type": "stream",
     "text": [
      "Processing Files:  85%|████████▍ | 1455/1721 [52:22<08:36,  1.94s/it]"
     ]
    },
    {
     "name": "stdout",
     "output_type": "stream",
     "text": [
      "Embedding created\n",
      "Atlantic Pilotage Tariff Regulations, 1996\n"
     ]
    },
    {
     "name": "stderr",
     "output_type": "stream",
     "text": [
      "Processing Files:  85%|████████▍ | 1456/1721 [52:23<08:25,  1.91s/it]"
     ]
    },
    {
     "name": "stdout",
     "output_type": "stream",
     "text": [
      "Embedding created\n",
      "Consumer Products Containing Lead Regulations\n"
     ]
    },
    {
     "name": "stderr",
     "output_type": "stream",
     "text": [
      "Processing Files:  85%|████████▍ | 1457/1721 [52:25<08:31,  1.94s/it]"
     ]
    },
    {
     "name": "stdout",
     "output_type": "stream",
     "text": [
      "Embedding created\n",
      "CCFTA Textile and Apparel Extension of Benefit Order\n"
     ]
    },
    {
     "name": "stderr",
     "output_type": "stream",
     "text": [
      "Processing Files:  85%|████████▍ | 1458/1721 [52:27<08:22,  1.91s/it]"
     ]
    },
    {
     "name": "stdout",
     "output_type": "stream",
     "text": [
      "Embedding created\n",
      "Chrysler Canada Ltd. Regulations, 1982\n"
     ]
    },
    {
     "name": "stderr",
     "output_type": "stream",
     "text": [
      "Processing Files:  85%|████████▍ | 1459/1721 [52:29<08:22,  1.92s/it]"
     ]
    },
    {
     "name": "stdout",
     "output_type": "stream",
     "text": [
      "Embedding created\n",
      "Canada Communication Group Divestiture Regulations\n"
     ]
    },
    {
     "name": "stderr",
     "output_type": "stream",
     "text": [
      "Processing Files:  85%|████████▍ | 1460/1721 [52:31<08:32,  1.96s/it]"
     ]
    },
    {
     "name": "stdout",
     "output_type": "stream",
     "text": [
      "Embedding created\n",
      "Gwaii Haanas National Park Reserve Order\n"
     ]
    },
    {
     "name": "stderr",
     "output_type": "stream",
     "text": [
      "Processing Files:  85%|████████▍ | 1461/1721 [52:34<09:23,  2.17s/it]"
     ]
    },
    {
     "name": "stdout",
     "output_type": "stream",
     "text": [
      "Embedding created\n",
      "Critical Habitats of the Northeast Pacific Northern and Southern Resident Populations of the Killer Whale (Orcinus orca) Order\n"
     ]
    },
    {
     "name": "stderr",
     "output_type": "stream",
     "text": [
      "Processing Files:  85%|████████▍ | 1462/1721 [52:36<08:57,  2.08s/it]"
     ]
    },
    {
     "name": "stdout",
     "output_type": "stream",
     "text": [
      "Embedding created\n",
      "Arctic Shipping Safety and Pollution Prevention Regulations\n"
     ]
    },
    {
     "name": "stderr",
     "output_type": "stream",
     "text": [
      "Processing Files:  85%|████████▌ | 1463/1721 [52:38<09:16,  2.16s/it]"
     ]
    },
    {
     "name": "stdout",
     "output_type": "stream",
     "text": [
      "Embedding created\n",
      "CEFTA Rules of Origin Regulations\n"
     ]
    },
    {
     "name": "stderr",
     "output_type": "stream",
     "text": [
      "Processing Files:  85%|████████▌ | 1464/1721 [52:40<08:54,  2.08s/it]"
     ]
    },
    {
     "name": "stdout",
     "output_type": "stream",
     "text": [
      "Embedding created\n",
      "Front End Wheel Loader Remission Order\n"
     ]
    },
    {
     "name": "stderr",
     "output_type": "stream",
     "text": [
      "Processing Files:  85%|████████▌ | 1465/1721 [52:42<08:56,  2.10s/it]"
     ]
    },
    {
     "name": "stdout",
     "output_type": "stream",
     "text": [
      "Embedding created\n",
      "Farm Equipment Income Tax and Canada Pension Contributions Remission Order\n"
     ]
    },
    {
     "name": "stderr",
     "output_type": "stream",
     "text": [
      "Processing Files:  85%|████████▌ | 1466/1721 [52:44<09:09,  2.15s/it]"
     ]
    },
    {
     "name": "stdout",
     "output_type": "stream",
     "text": [
      "Embedding created\n",
      "Electronic Heated Tobacco Products Remission Order\n"
     ]
    },
    {
     "name": "stderr",
     "output_type": "stream",
     "text": [
      "Processing Files:  85%|████████▌ | 1467/1721 [52:47<09:05,  2.15s/it]"
     ]
    },
    {
     "name": "stdout",
     "output_type": "stream",
     "text": [
      "Embedding created\n",
      "Canada Federal Court Reports Distribution Order\n"
     ]
    },
    {
     "name": "stderr",
     "output_type": "stream",
     "text": [
      "Processing Files:  85%|████████▌ | 1468/1721 [52:49<09:03,  2.15s/it]"
     ]
    },
    {
     "name": "stdout",
     "output_type": "stream",
     "text": [
      "Embedding created\n",
      "Critical Habitat of the Western Silvery Minnow (Hybognathus argyritis) Order\n"
     ]
    },
    {
     "name": "stderr",
     "output_type": "stream",
     "text": [
      "Processing Files:  85%|████████▌ | 1469/1721 [52:50<08:34,  2.04s/it]"
     ]
    },
    {
     "name": "stdout",
     "output_type": "stream",
     "text": [
      "Embedding created\n",
      "Export Permit (Steel Monitoring) Regulations\n"
     ]
    },
    {
     "name": "stderr",
     "output_type": "stream",
     "text": [
      "Processing Files:  85%|████████▌ | 1470/1721 [52:53<08:31,  2.04s/it]"
     ]
    },
    {
     "name": "stdout",
     "output_type": "stream",
     "text": [
      "Embedding created\n",
      "Regulations Respecting the Coordination by Federal Authorities of Environmental Assessment Procedures and Requirements\n"
     ]
    },
    {
     "name": "stderr",
     "output_type": "stream",
     "text": [
      "Processing Files:  85%|████████▌ | 1471/1721 [52:54<08:17,  1.99s/it]"
     ]
    },
    {
     "name": "stdout",
     "output_type": "stream",
     "text": [
      "Embedding created\n",
      "Defence Materiel Loan or Transfer for Test and Evaluation Regulations\n"
     ]
    },
    {
     "name": "stderr",
     "output_type": "stream",
     "text": [
      "Processing Files:  86%|████████▌ | 1472/1721 [52:57<08:46,  2.12s/it]"
     ]
    },
    {
     "name": "stdout",
     "output_type": "stream",
     "text": [
      "Embedding created\n",
      "Ancillary Activities (Insurance Companies, Canadian Societies and Insurance Holding Companies) Regulations\n"
     ]
    },
    {
     "name": "stderr",
     "output_type": "stream",
     "text": [
      "Processing Files:  86%|████████▌ | 1473/1721 [52:59<08:29,  2.05s/it]"
     ]
    },
    {
     "name": "stdout",
     "output_type": "stream",
     "text": [
      "Embedding created\n",
      "Albania and the Sultanate of Oman Goods Remission Order\n"
     ]
    },
    {
     "name": "stderr",
     "output_type": "stream",
     "text": [
      "Processing Files:  86%|████████▌ | 1474/1721 [53:01<08:13,  2.00s/it]"
     ]
    },
    {
     "name": "stdout",
     "output_type": "stream",
     "text": [
      "Embedding created\n",
      "Bowie Seamount Marine Protected Area Regulations\n"
     ]
    },
    {
     "name": "stderr",
     "output_type": "stream",
     "text": [
      "Processing Files:  86%|████████▌ | 1475/1721 [53:03<08:23,  2.05s/it]"
     ]
    },
    {
     "name": "stdout",
     "output_type": "stream",
     "text": [
      "Embedding created\n",
      "Charges for Services Provided by the Office of the Superintendent of Financial Institutions Regulations 2002\n"
     ]
    },
    {
     "name": "stderr",
     "output_type": "stream",
     "text": [
      "Processing Files:  86%|████████▌ | 1476/1721 [53:05<08:48,  2.16s/it]"
     ]
    },
    {
     "name": "stdout",
     "output_type": "stream",
     "text": [
      "Embedding created\n",
      "Critical Habitat of the Killer Whale (Orcinus orca) Northeast Pacific Northern Resident Population Order\n"
     ]
    },
    {
     "name": "stderr",
     "output_type": "stream",
     "text": [
      "Processing Files:  86%|████████▌ | 1477/1721 [53:07<08:23,  2.06s/it]"
     ]
    },
    {
     "name": "stdout",
     "output_type": "stream",
     "text": [
      "Embedding created\n",
      "Canadian Aviation Security Regulations, 2012\n"
     ]
    },
    {
     "name": "stderr",
     "output_type": "stream",
     "text": [
      "Processing Files:  86%|████████▌ | 1478/1721 [53:09<08:29,  2.09s/it]"
     ]
    },
    {
     "name": "stdout",
     "output_type": "stream",
     "text": [
      "Embedding created\n",
      "Children’s Jewellery Regulations\n"
     ]
    },
    {
     "name": "stderr",
     "output_type": "stream",
     "text": [
      "Processing Files:  86%|████████▌ | 1479/1721 [53:11<08:29,  2.10s/it]"
     ]
    },
    {
     "name": "stdout",
     "output_type": "stream",
     "text": [
      "Embedding created\n",
      "Definition of Promotion Regulations\n"
     ]
    },
    {
     "name": "stderr",
     "output_type": "stream",
     "text": [
      "Processing Files:  86%|████████▌ | 1480/1721 [53:14<08:37,  2.15s/it]"
     ]
    },
    {
     "name": "stdout",
     "output_type": "stream",
     "text": [
      "Embedding created\n",
      "Critical Habitat of the Pugnose Minnow (Opsopoeodus emiliae) Order\n"
     ]
    },
    {
     "name": "stderr",
     "output_type": "stream",
     "text": [
      "Processing Files:  86%|████████▌ | 1481/1721 [53:16<08:50,  2.21s/it]"
     ]
    },
    {
     "name": "stdout",
     "output_type": "stream",
     "text": [
      "Embedding created\n",
      "Canadian Turkey Licensing Regulations\n"
     ]
    },
    {
     "name": "stderr",
     "output_type": "stream",
     "text": [
      "Processing Files:  86%|████████▌ | 1482/1721 [53:18<08:37,  2.16s/it]"
     ]
    },
    {
     "name": "stdout",
     "output_type": "stream",
     "text": [
      "Embedding created\n",
      "Order Respecting Ex Gratia Payments to Veterans and Science and Technology Workers Involved in Nuclear Weapons Testing or Nuclear Decontamination\n"
     ]
    },
    {
     "name": "stderr",
     "output_type": "stream",
     "text": [
      "Processing Files:  86%|████████▌ | 1483/1721 [53:20<08:23,  2.11s/it]"
     ]
    },
    {
     "name": "stdout",
     "output_type": "stream",
     "text": [
      "Embedding created\n",
      "Grande Prairie Airport Zoning Regulations\n"
     ]
    },
    {
     "name": "stderr",
     "output_type": "stream",
     "text": [
      "Processing Files:  86%|████████▌ | 1484/1721 [53:22<08:31,  2.16s/it]"
     ]
    },
    {
     "name": "stdout",
     "output_type": "stream",
     "text": [
      "Embedding created\n",
      "Order Approving Blood Sample Containers\n"
     ]
    },
    {
     "name": "stderr",
     "output_type": "stream",
     "text": [
      "Processing Files:  86%|████████▋ | 1485/1721 [53:24<08:19,  2.12s/it]"
     ]
    },
    {
     "name": "stdout",
     "output_type": "stream",
     "text": [
      "Embedding created\n",
      "Critical Habitat of the White Sturgeon (Acipenser transmontanus) Kootenay River Population Order\n"
     ]
    },
    {
     "name": "stderr",
     "output_type": "stream",
     "text": [
      "Processing Files:  86%|████████▋ | 1486/1721 [53:27<09:12,  2.35s/it]"
     ]
    },
    {
     "name": "stdout",
     "output_type": "stream",
     "text": [
      "Embedding created\n",
      "Adjustment Assistance Regulations (Textile and Clothing Workers)\n"
     ]
    },
    {
     "name": "stderr",
     "output_type": "stream",
     "text": [
      "Processing Files:  86%|████████▋ | 1487/1721 [53:29<08:57,  2.30s/it]"
     ]
    },
    {
     "name": "stdout",
     "output_type": "stream",
     "text": [
      "Embedding not created\n",
      "CRTC Tariff Regulations\n"
     ]
    },
    {
     "name": "stderr",
     "output_type": "stream",
     "text": [
      "Processing Files:  86%|████████▋ | 1488/1721 [53:31<08:47,  2.27s/it]"
     ]
    },
    {
     "name": "stdout",
     "output_type": "stream",
     "text": [
      "Embedding created\n",
      "Annual Statement (Banks and Bank Holding Companies) Regulations\n"
     ]
    },
    {
     "name": "stderr",
     "output_type": "stream",
     "text": [
      "Processing Files:  87%|████████▋ | 1489/1721 [53:33<08:19,  2.15s/it]"
     ]
    },
    {
     "name": "stdout",
     "output_type": "stream",
     "text": [
      "Embedding created\n",
      "Cedar Point-Christian Island Ferry Fees Regulations\n"
     ]
    },
    {
     "name": "stderr",
     "output_type": "stream",
     "text": [
      "Processing Files:  87%|████████▋ | 1490/1721 [53:35<07:56,  2.06s/it]"
     ]
    },
    {
     "name": "stdout",
     "output_type": "stream",
     "text": [
      "Embedding created\n",
      "Access to Information Act Officers or Employees of the Atomic Energy Control Board Designation Order\n"
     ]
    },
    {
     "name": "stderr",
     "output_type": "stream",
     "text": [
      "Processing Files:  87%|████████▋ | 1491/1721 [53:37<07:48,  2.04s/it]"
     ]
    },
    {
     "name": "stdout",
     "output_type": "stream",
     "text": [
      "Embedding not created\n",
      "Canadian Energy Regulator Pipeline Damage Prevention Regulations – Authorizations\n"
     ]
    },
    {
     "name": "stderr",
     "output_type": "stream",
     "text": [
      "Processing Files:  87%|████████▋ | 1492/1721 [53:39<07:31,  1.97s/it]"
     ]
    },
    {
     "name": "stdout",
     "output_type": "stream",
     "text": [
      "Embedding created\n",
      "Commissioner’s Standing Orders (Classification Redress Process for Members)\n"
     ]
    },
    {
     "name": "stderr",
     "output_type": "stream",
     "text": [
      "Processing Files:  87%|████████▋ | 1493/1721 [53:41<07:27,  1.96s/it]"
     ]
    },
    {
     "name": "stdout",
     "output_type": "stream",
     "text": [
      "Embedding created\n",
      "Department of Employment and Social Development Regulations\n"
     ]
    },
    {
     "name": "stderr",
     "output_type": "stream",
     "text": [
      "Processing Files:  87%|████████▋ | 1494/1721 [53:43<07:39,  2.02s/it]"
     ]
    },
    {
     "name": "stdout",
     "output_type": "stream",
     "text": [
      "Embedding created\n",
      "Hall Beach Airport Zoning Regulations\n"
     ]
    },
    {
     "name": "stderr",
     "output_type": "stream",
     "text": [
      "Processing Files:  87%|████████▋ | 1495/1721 [53:45<07:32,  2.00s/it]"
     ]
    },
    {
     "name": "stdout",
     "output_type": "stream",
     "text": [
      "Embedding created\n",
      "Edmonton Garrison Heliport Zoning Regulations\n"
     ]
    },
    {
     "name": "stderr",
     "output_type": "stream",
     "text": [
      "Processing Files:  87%|████████▋ | 1496/1721 [53:47<07:54,  2.11s/it]"
     ]
    },
    {
     "name": "stdout",
     "output_type": "stream",
     "text": [
      "Embedding created\n",
      "Forfeited Property Sharing Regulations\n"
     ]
    },
    {
     "name": "stderr",
     "output_type": "stream",
     "text": [
      "Processing Files:  87%|████████▋ | 1497/1721 [53:50<08:18,  2.22s/it]"
     ]
    },
    {
     "name": "stdout",
     "output_type": "stream",
     "text": [
      "Embedding created\n",
      "Criminal Appeal Rules\n"
     ]
    },
    {
     "name": "stderr",
     "output_type": "stream",
     "text": [
      "Processing Files:  87%|████████▋ | 1498/1721 [53:52<07:55,  2.13s/it]"
     ]
    },
    {
     "name": "stdout",
     "output_type": "stream",
     "text": [
      "Embedding created\n",
      "CEFTA Tariff Preference Regulations\n"
     ]
    },
    {
     "name": "stderr",
     "output_type": "stream",
     "text": [
      "Processing Files:  87%|████████▋ | 1499/1721 [53:54<07:38,  2.07s/it]"
     ]
    },
    {
     "name": "stdout",
     "output_type": "stream",
     "text": [
      "Embedding created\n",
      "Ammonium Nitrate and Fuel Oil Order\n"
     ]
    },
    {
     "name": "stderr",
     "output_type": "stream",
     "text": [
      "Processing Files:  87%|████████▋ | 1500/1721 [53:56<07:26,  2.02s/it]"
     ]
    },
    {
     "name": "stdout",
     "output_type": "stream",
     "text": [
      "Embedding created\n",
      "Defence Production and Development Sharing Remission Order\n"
     ]
    },
    {
     "name": "stderr",
     "output_type": "stream",
     "text": [
      "Processing Files:  87%|████████▋ | 1501/1721 [53:58<07:15,  1.98s/it]"
     ]
    },
    {
     "name": "stdout",
     "output_type": "stream",
     "text": [
      "Embedding created\n",
      "Cannabis Act (Police Enforcement) Regulations\n"
     ]
    },
    {
     "name": "stderr",
     "output_type": "stream",
     "text": [
      "Processing Files:  87%|████████▋ | 1502/1721 [54:00<07:13,  1.98s/it]"
     ]
    },
    {
     "name": "stdout",
     "output_type": "stream",
     "text": [
      "Embedding created\n",
      "Abbotsford Airport Zoning Regulations\n"
     ]
    },
    {
     "name": "stderr",
     "output_type": "stream",
     "text": [
      "Processing Files:  87%|████████▋ | 1503/1721 [54:01<07:05,  1.95s/it]"
     ]
    },
    {
     "name": "stdout",
     "output_type": "stream",
     "text": [
      "Embedding not created\n",
      "Foreign Claims (Romania) Settlement Regulations\n"
     ]
    },
    {
     "name": "stderr",
     "output_type": "stream",
     "text": [
      "Processing Files:  87%|████████▋ | 1504/1721 [54:04<07:21,  2.04s/it]"
     ]
    },
    {
     "name": "stdout",
     "output_type": "stream",
     "text": [
      "Embedding created\n",
      "Order Giving Notice of Decisions not to add Certain Species to the List of Endangered Species\n"
     ]
    },
    {
     "name": "stderr",
     "output_type": "stream",
     "text": [
      "Processing Files:  87%|████████▋ | 1505/1721 [54:06<07:15,  2.02s/it]"
     ]
    },
    {
     "name": "stdout",
     "output_type": "stream",
     "text": [
      "Embedding created\n",
      "Definition of “Wireless Transmission System” Regulations\n"
     ]
    },
    {
     "name": "stderr",
     "output_type": "stream",
     "text": [
      "Processing Files:  88%|████████▊ | 1506/1721 [54:07<06:57,  1.94s/it]"
     ]
    },
    {
     "name": "stdout",
     "output_type": "stream",
     "text": [
      "Embedding created\n",
      "Direct Shipment of Goods Regulations\n"
     ]
    },
    {
     "name": "stderr",
     "output_type": "stream",
     "text": [
      "Processing Files:  88%|████████▊ | 1507/1721 [54:09<06:58,  1.96s/it]"
     ]
    },
    {
     "name": "stdout",
     "output_type": "stream",
     "text": [
      "Embedding created\n",
      "Application of Provincial Laws Regulations\n"
     ]
    },
    {
     "name": "stderr",
     "output_type": "stream",
     "text": [
      "Processing Files:  88%|████████▊ | 1508/1721 [54:12<07:12,  2.03s/it]"
     ]
    },
    {
     "name": "stdout",
     "output_type": "stream",
     "text": [
      "Embedding created\n",
      "Environmental Assessment Review Panel Service Charges Order\n"
     ]
    },
    {
     "name": "stderr",
     "output_type": "stream",
     "text": [
      "Processing Files:  88%|████████▊ | 1509/1721 [54:14<07:10,  2.03s/it]"
     ]
    },
    {
     "name": "stdout",
     "output_type": "stream",
     "text": [
      "Embedding created\n",
      "AECL Tandem Accelerator Superconducting Cyclotron Complex Remission Order\n"
     ]
    },
    {
     "name": "stderr",
     "output_type": "stream",
     "text": [
      "Processing Files:  88%|████████▊ | 1510/1721 [54:16<07:03,  2.01s/it]"
     ]
    },
    {
     "name": "stdout",
     "output_type": "stream",
     "text": [
      "Embedding not created\n",
      "Grand River Railway Traffic Rules and Regulations\n"
     ]
    },
    {
     "name": "stderr",
     "output_type": "stream",
     "text": [
      "Processing Files:  88%|████████▊ | 1511/1721 [54:18<07:21,  2.10s/it]"
     ]
    },
    {
     "name": "stdout",
     "output_type": "stream",
     "text": [
      "Embedding created\n",
      "Confederation Bridge Area Provincial (P.E.I.) Laws Application Regulations\n"
     ]
    },
    {
     "name": "stderr",
     "output_type": "stream",
     "text": [
      "Processing Files:  88%|████████▊ | 1512/1721 [54:20<07:14,  2.08s/it]"
     ]
    },
    {
     "name": "stdout",
     "output_type": "stream",
     "text": [
      "Embedding created\n",
      "Federal Real Property and Federal Immovables Regulations\n"
     ]
    },
    {
     "name": "stderr",
     "output_type": "stream",
     "text": [
      "Processing Files:  88%|████████▊ | 1513/1721 [54:22<07:04,  2.04s/it]"
     ]
    },
    {
     "name": "stdout",
     "output_type": "stream",
     "text": [
      "Embedding created\n",
      "Canadian International Trade Tribunal Procurement Inquiry Regulations\n"
     ]
    },
    {
     "name": "stderr",
     "output_type": "stream",
     "text": [
      "Processing Files:  88%|████████▊ | 1514/1721 [54:24<07:02,  2.04s/it]"
     ]
    },
    {
     "name": "stdout",
     "output_type": "stream",
     "text": [
      "Embedding created\n",
      "Automotive Manufacturing Assistance Regulations\n"
     ]
    },
    {
     "name": "stderr",
     "output_type": "stream",
     "text": [
      "Processing Files:  88%|████████▊ | 1515/1721 [54:26<06:53,  2.01s/it]"
     ]
    },
    {
     "name": "stdout",
     "output_type": "stream",
     "text": [
      "Embedding created\n",
      "CUSMA Rules of Origin Regulations\n"
     ]
    },
    {
     "name": "stderr",
     "output_type": "stream",
     "text": [
      "Processing Files:  88%|████████▊ | 1516/1721 [54:28<06:39,  1.95s/it]"
     ]
    },
    {
     "name": "stdout",
     "output_type": "stream",
     "text": [
      "Embedding created\n",
      "Children’s Sleepwear Regulations\n"
     ]
    },
    {
     "name": "stderr",
     "output_type": "stream",
     "text": [
      "Processing Files:  88%|████████▊ | 1517/1721 [54:30<07:06,  2.09s/it]"
     ]
    },
    {
     "name": "stdout",
     "output_type": "stream",
     "text": [
      "Embedding created\n",
      "Flin Flon Airport Zoning Regulations\n"
     ]
    },
    {
     "name": "stderr",
     "output_type": "stream",
     "text": [
      "Processing Files:  88%|████████▊ | 1518/1721 [54:33<07:32,  2.23s/it]"
     ]
    },
    {
     "name": "stdout",
     "output_type": "stream",
     "text": [
      "Embedding created\n",
      "Alberta Egg Order\n"
     ]
    },
    {
     "name": "stderr",
     "output_type": "stream",
     "text": [
      "Processing Files:  88%|████████▊ | 1519/1721 [54:35<07:10,  2.13s/it]"
     ]
    },
    {
     "name": "stdout",
     "output_type": "stream",
     "text": [
      "Embedding created\n",
      "Canadian Forces Special Election Regulations\n"
     ]
    },
    {
     "name": "stderr",
     "output_type": "stream",
     "text": [
      "Processing Files:  88%|████████▊ | 1520/1721 [54:37<07:22,  2.20s/it]"
     ]
    },
    {
     "name": "stdout",
     "output_type": "stream",
     "text": [
      "Embedding created\n",
      "E.S. Fox Limited Remission Order\n"
     ]
    },
    {
     "name": "stderr",
     "output_type": "stream",
     "text": [
      "Processing Files:  88%|████████▊ | 1521/1721 [54:39<07:16,  2.18s/it]"
     ]
    },
    {
     "name": "stdout",
     "output_type": "stream",
     "text": [
      "Embedding created\n",
      "CPFTA Sugar Aggregate Quantity Limit Order\n"
     ]
    },
    {
     "name": "stderr",
     "output_type": "stream",
     "text": [
      "Processing Files:  88%|████████▊ | 1522/1721 [54:41<07:00,  2.11s/it]"
     ]
    },
    {
     "name": "stdout",
     "output_type": "stream",
     "text": [
      "Embedding created\n",
      "CCFTA Tariff Preference Regulations\n"
     ]
    },
    {
     "name": "stderr",
     "output_type": "stream",
     "text": [
      "Processing Files:  88%|████████▊ | 1523/1721 [54:43<06:49,  2.07s/it]"
     ]
    },
    {
     "name": "stdout",
     "output_type": "stream",
     "text": [
      "Embedding created\n",
      "Canadian Industrial Renewal Regulations\n"
     ]
    },
    {
     "name": "stderr",
     "output_type": "stream",
     "text": [
      "Processing Files:  89%|████████▊ | 1524/1721 [54:45<06:51,  2.09s/it]"
     ]
    },
    {
     "name": "stdout",
     "output_type": "stream",
     "text": [
      "Embedding created\n",
      "Canada Pension Plan Regulations\n"
     ]
    },
    {
     "name": "stderr",
     "output_type": "stream",
     "text": [
      "Processing Files:  89%|████████▊ | 1525/1721 [54:47<06:56,  2.12s/it]"
     ]
    },
    {
     "name": "stdout",
     "output_type": "stream",
     "text": [
      "Embedding created\n",
      "Farm Improvement Loans Regulations\n"
     ]
    },
    {
     "name": "stderr",
     "output_type": "stream",
     "text": [
      "Processing Files:  89%|████████▊ | 1526/1721 [54:49<06:41,  2.06s/it]"
     ]
    },
    {
     "name": "stdout",
     "output_type": "stream",
     "text": [
      "Embedding created\n",
      "Department of Forestry Terms Under Six Months Exclusion Approval Order, 1989\n"
     ]
    },
    {
     "name": "stderr",
     "output_type": "stream",
     "text": [
      "Processing Files:  89%|████████▊ | 1527/1721 [54:51<06:31,  2.02s/it]"
     ]
    },
    {
     "name": "stdout",
     "output_type": "stream",
     "text": [
      "Embedding created\n",
      "Federal Public Sector Labour Relations Act Separate Agency Designation Order\n"
     ]
    },
    {
     "name": "stderr",
     "output_type": "stream",
     "text": [
      "Processing Files:  89%|████████▉ | 1528/1721 [54:53<06:35,  2.05s/it]"
     ]
    },
    {
     "name": "stdout",
     "output_type": "stream",
     "text": [
      "Embedding created\n",
      "General Pilotage Regulations\n"
     ]
    },
    {
     "name": "stderr",
     "output_type": "stream",
     "text": [
      "Processing Files:  89%|████████▉ | 1529/1721 [54:55<06:23,  1.99s/it]"
     ]
    },
    {
     "name": "stdout",
     "output_type": "stream",
     "text": [
      "Embedding created\n",
      "Canada Oil and Gas Diving Regulations\n"
     ]
    },
    {
     "name": "stderr",
     "output_type": "stream",
     "text": [
      "Processing Files:  89%|████████▉ | 1530/1721 [54:57<06:15,  1.97s/it]"
     ]
    },
    {
     "name": "stdout",
     "output_type": "stream",
     "text": [
      "Embedding created\n",
      "Order Declaring an Amnesty Period (2006)\n"
     ]
    },
    {
     "name": "stderr",
     "output_type": "stream",
     "text": [
      "Processing Files:  89%|████████▉ | 1531/1721 [54:59<06:17,  1.99s/it]"
     ]
    },
    {
     "name": "stdout",
     "output_type": "stream",
     "text": [
      "Embedding created\n",
      "Credit for Provincial Relief (HST) Regulations\n"
     ]
    },
    {
     "name": "stderr",
     "output_type": "stream",
     "text": [
      "Processing Files:  89%|████████▉ | 1532/1721 [55:01<06:27,  2.05s/it]"
     ]
    },
    {
     "name": "stdout",
     "output_type": "stream",
     "text": [
      "Embedding created\n",
      "General Excise and Sales Tax Regulations\n"
     ]
    },
    {
     "name": "stderr",
     "output_type": "stream",
     "text": [
      "Processing Files:  89%|████████▉ | 1533/1721 [55:03<06:36,  2.11s/it]"
     ]
    },
    {
     "name": "stdout",
     "output_type": "stream",
     "text": [
      "Embedding created\n",
      "Alberta Court of Queen’s Bench Rules Respecting Pre-Trial Conferences\n"
     ]
    },
    {
     "name": "stderr",
     "output_type": "stream",
     "text": [
      "Processing Files:  89%|████████▉ | 1534/1721 [55:06<06:32,  2.10s/it]"
     ]
    },
    {
     "name": "stdout",
     "output_type": "stream",
     "text": [
      "Embedding created\n",
      "Chicken Farmers of Canada Delegation of Authority Order\n"
     ]
    },
    {
     "name": "stderr",
     "output_type": "stream",
     "text": [
      "Processing Files:  89%|████████▉ | 1535/1721 [55:08<06:26,  2.08s/it]"
     ]
    },
    {
     "name": "stdout",
     "output_type": "stream",
     "text": [
      "Embedding created\n",
      "Foreign Ownership of Land Regulations\n"
     ]
    },
    {
     "name": "stderr",
     "output_type": "stream",
     "text": [
      "Processing Files:  89%|████████▉ | 1536/1721 [55:10<06:17,  2.04s/it]"
     ]
    },
    {
     "name": "stdout",
     "output_type": "stream",
     "text": [
      "Embedding created\n",
      "Aklavik Airport Zoning Regulations\n"
     ]
    },
    {
     "name": "stderr",
     "output_type": "stream",
     "text": [
      "Processing Files:  89%|████████▉ | 1537/1721 [55:12<06:30,  2.12s/it]"
     ]
    },
    {
     "name": "stdout",
     "output_type": "stream",
     "text": [
      "Embedding created\n",
      "Health Care Services (GST/HST) Regulations\n"
     ]
    },
    {
     "name": "stderr",
     "output_type": "stream",
     "text": [
      "Processing Files:  89%|████████▉ | 1538/1721 [55:14<06:34,  2.16s/it]"
     ]
    },
    {
     "name": "stdout",
     "output_type": "stream",
     "text": [
      "Embedding created\n",
      "Eskasoni Band Council Elections Order\n"
     ]
    },
    {
     "name": "stderr",
     "output_type": "stream",
     "text": [
      "Processing Files:  89%|████████▉ | 1539/1721 [55:16<06:40,  2.20s/it]"
     ]
    },
    {
     "name": "stdout",
     "output_type": "stream",
     "text": [
      "Embedding created\n",
      "General Preferential Tariff Withdrawal Order (2013 GPT Review)\n"
     ]
    },
    {
     "name": "stderr",
     "output_type": "stream",
     "text": [
      "Processing Files:  89%|████████▉ | 1540/1721 [55:19<06:45,  2.24s/it]"
     ]
    },
    {
     "name": "stdout",
     "output_type": "stream",
     "text": [
      "Embedding created\n",
      "Bankruptcy and Insolvency General Rules\n"
     ]
    },
    {
     "name": "stderr",
     "output_type": "stream",
     "text": [
      "Processing Files:  90%|████████▉ | 1541/1721 [55:21<06:19,  2.11s/it]"
     ]
    },
    {
     "name": "stdout",
     "output_type": "stream",
     "text": [
      "Embedding created\n",
      "General Export Permit No. Ex. 82 — Carbon Steel Products\n"
     ]
    },
    {
     "name": "stderr",
     "output_type": "stream",
     "text": [
      "Processing Files:  90%|████████▉ | 1542/1721 [55:22<06:06,  2.05s/it]"
     ]
    },
    {
     "name": "stdout",
     "output_type": "stream",
     "text": [
      "Embedding created\n",
      "Foreign Aircraft Servicing Equipment Remission Order, 1992\n"
     ]
    },
    {
     "name": "stderr",
     "output_type": "stream",
     "text": [
      "Processing Files:  90%|████████▉ | 1543/1721 [55:25<06:24,  2.16s/it]"
     ]
    },
    {
     "name": "stdout",
     "output_type": "stream",
     "text": [
      "Embedding created\n",
      "Cost of Borrowing (Banks) Regulations\n"
     ]
    },
    {
     "name": "stderr",
     "output_type": "stream",
     "text": [
      "Processing Files:  90%|████████▉ | 1544/1721 [55:27<06:10,  2.09s/it]"
     ]
    },
    {
     "name": "stdout",
     "output_type": "stream",
     "text": [
      "Embedding created\n",
      "Federal Prompt Payment for Construction Work Regulations (Criteria, Time Limits, Interest and Circumstances)\n"
     ]
    },
    {
     "name": "stderr",
     "output_type": "stream",
     "text": [
      "Processing Files:  90%|████████▉ | 1545/1721 [55:29<05:52,  2.00s/it]"
     ]
    },
    {
     "name": "stdout",
     "output_type": "stream",
     "text": [
      "Embedding created\n",
      "Foreign Bank Representative Offices Regulations\n"
     ]
    },
    {
     "name": "stderr",
     "output_type": "stream",
     "text": [
      "Processing Files:  90%|████████▉ | 1546/1721 [55:30<05:43,  1.97s/it]"
     ]
    },
    {
     "name": "stdout",
     "output_type": "stream",
     "text": [
      "Embedding created\n",
      "Greenwood Airport Zoning Regulations\n"
     ]
    },
    {
     "name": "stderr",
     "output_type": "stream",
     "text": [
      "Processing Files:  90%|████████▉ | 1547/1721 [55:32<05:38,  1.95s/it]"
     ]
    },
    {
     "name": "stdout",
     "output_type": "stream",
     "text": [
      "Embedding created\n",
      "Corporation de chauffage urbain de Montréal (CCUM) Incorporation and Sale Authorization Order\n"
     ]
    },
    {
     "name": "stderr",
     "output_type": "stream",
     "text": [
      "Processing Files:  90%|████████▉ | 1548/1721 [55:34<05:39,  1.96s/it]"
     ]
    },
    {
     "name": "stdout",
     "output_type": "stream",
     "text": [
      "Embedding created\n",
      "Baie Verte Mines Inc. Regulations, 1985\n"
     ]
    },
    {
     "name": "stderr",
     "output_type": "stream",
     "text": [
      "Processing Files:  90%|█████████ | 1549/1721 [55:36<05:42,  1.99s/it]"
     ]
    },
    {
     "name": "stdout",
     "output_type": "stream",
     "text": [
      "Embedding not created\n",
      "Excise Duties on Cannabis Regulations\n"
     ]
    },
    {
     "name": "stderr",
     "output_type": "stream",
     "text": [
      "Processing Files:  90%|█████████ | 1550/1721 [55:38<05:39,  1.99s/it]"
     ]
    },
    {
     "name": "stdout",
     "output_type": "stream",
     "text": [
      "Embedding created\n",
      "Gore Bay Airport Zoning Regulations\n"
     ]
    },
    {
     "name": "stderr",
     "output_type": "stream",
     "text": [
      "Processing Files:  90%|█████████ | 1551/1721 [55:41<05:47,  2.04s/it]"
     ]
    },
    {
     "name": "stdout",
     "output_type": "stream",
     "text": [
      "Embedding created\n",
      "CHFTA Tariff Preference Regulations\n"
     ]
    },
    {
     "name": "stderr",
     "output_type": "stream",
     "text": [
      "Processing Files:  90%|█████████ | 1552/1721 [55:42<05:35,  1.98s/it]"
     ]
    },
    {
     "name": "stdout",
     "output_type": "stream",
     "text": [
      "Embedding created\n",
      "Exemption Regulations (Beef and Veal Imports)\n"
     ]
    },
    {
     "name": "stderr",
     "output_type": "stream",
     "text": [
      "Processing Files:  90%|█████████ | 1553/1721 [55:44<05:26,  1.95s/it]"
     ]
    },
    {
     "name": "stdout",
     "output_type": "stream",
     "text": [
      "Embedding created\n",
      "Determining that the Canada Development Corporation Need Not Apply for a Certificate of Continuance Under the Act\n"
     ]
    },
    {
     "name": "stderr",
     "output_type": "stream",
     "text": [
      "Processing Files:  90%|█████████ | 1554/1721 [55:46<05:35,  2.01s/it]"
     ]
    },
    {
     "name": "stdout",
     "output_type": "stream",
     "text": [
      "Embedding created\n",
      "CHFTA Rules of Origin Regulations\n"
     ]
    },
    {
     "name": "stderr",
     "output_type": "stream",
     "text": [
      "Processing Files:  90%|█████████ | 1555/1721 [55:48<05:34,  2.02s/it]"
     ]
    },
    {
     "name": "stdout",
     "output_type": "stream",
     "text": [
      "Embedding created\n",
      "Fourth Session of the Intergovernmental Negotiating Committee on Plastic Pollution (Ottawa 2024 – INC-4) Privileges and Immunities Order\n"
     ]
    },
    {
     "name": "stderr",
     "output_type": "stream",
     "text": [
      "Processing Files:  90%|█████████ | 1556/1721 [55:50<05:28,  1.99s/it]"
     ]
    },
    {
     "name": "stdout",
     "output_type": "stream",
     "text": [
      "Embedding created\n",
      "Alberta Equivalency Order\n"
     ]
    },
    {
     "name": "stderr",
     "output_type": "stream",
     "text": [
      "Processing Files:  90%|█████████ | 1557/1721 [55:53<05:43,  2.10s/it]"
     ]
    },
    {
     "name": "stdout",
     "output_type": "stream",
     "text": [
      "Embedding created\n",
      "Canada Industrial Relations Regulations\n"
     ]
    },
    {
     "name": "stderr",
     "output_type": "stream",
     "text": [
      "Processing Files:  91%|█████████ | 1558/1721 [55:55<05:36,  2.07s/it]"
     ]
    },
    {
     "name": "stdout",
     "output_type": "stream",
     "text": [
      "Embedding created\n",
      "Development Tax and Redevelopment Tax Grant Regulations\n"
     ]
    },
    {
     "name": "stderr",
     "output_type": "stream",
     "text": [
      "Processing Files:  91%|█████████ | 1559/1721 [55:57<05:45,  2.13s/it]"
     ]
    },
    {
     "name": "stdout",
     "output_type": "stream",
     "text": [
      "Embedding created\n",
      "Regulations Exempting Certain Goods From the Application of Subsection 118(1) of the Customs Tariff\n"
     ]
    },
    {
     "name": "stderr",
     "output_type": "stream",
     "text": [
      "Processing Files:  91%|█████████ | 1560/1721 [55:59<05:39,  2.11s/it]"
     ]
    },
    {
     "name": "stdout",
     "output_type": "stream",
     "text": [
      "Embedding created\n",
      "Access to Information Act Extension Order, No. 1\n"
     ]
    },
    {
     "name": "stderr",
     "output_type": "stream",
     "text": [
      "Processing Files:  91%|█████████ | 1561/1721 [56:01<05:46,  2.17s/it]"
     ]
    },
    {
     "name": "stdout",
     "output_type": "stream",
     "text": [
      "Embedding created\n",
      "Canadian National Railway Passenger Train Travel Rules and Regulations\n"
     ]
    },
    {
     "name": "stderr",
     "output_type": "stream",
     "text": [
      "Processing Files:  91%|█████████ | 1562/1721 [56:03<05:37,  2.12s/it]"
     ]
    },
    {
     "name": "stdout",
     "output_type": "stream",
     "text": [
      "Embedding created\n",
      "Canadian Judicial Council Inquiries and Investigations By-laws\n"
     ]
    },
    {
     "name": "stderr",
     "output_type": "stream",
     "text": [
      "Processing Files:  91%|█████████ | 1563/1721 [56:05<05:31,  2.10s/it]"
     ]
    },
    {
     "name": "stdout",
     "output_type": "stream",
     "text": [
      "Embedding created\n",
      "Grain Cargo Regulations\n"
     ]
    },
    {
     "name": "stderr",
     "output_type": "stream",
     "text": [
      "Processing Files:  91%|█████████ | 1564/1721 [56:08<05:35,  2.14s/it]"
     ]
    },
    {
     "name": "stdout",
     "output_type": "stream",
     "text": [
      "Embedding created\n",
      "Controlled Products Regulations\n"
     ]
    },
    {
     "name": "stderr",
     "output_type": "stream",
     "text": [
      "Processing Files:  91%|█████████ | 1565/1721 [56:10<05:19,  2.05s/it]"
     ]
    },
    {
     "name": "stdout",
     "output_type": "stream",
     "text": [
      "Embedding created\n",
      "CJFTA Verification of Origin Regulations\n"
     ]
    },
    {
     "name": "stderr",
     "output_type": "stream",
     "text": [
      "Processing Files:  91%|█████████ | 1566/1721 [56:12<05:17,  2.05s/it]"
     ]
    },
    {
     "name": "stdout",
     "output_type": "stream",
     "text": [
      "Embedding created\n",
      "Criminal Procedure Rules of the Court of Queen’s Bench of New Brunswick\n"
     ]
    },
    {
     "name": "stderr",
     "output_type": "stream",
     "text": [
      "Processing Files:  91%|█████████ | 1567/1721 [56:13<05:09,  2.01s/it]"
     ]
    },
    {
     "name": "stdout",
     "output_type": "stream",
     "text": [
      "Embedding created\n",
      "Charts and Nautical Publications Regulations, 1995\n"
     ]
    },
    {
     "name": "stderr",
     "output_type": "stream",
     "text": [
      "Processing Files:  91%|█████████ | 1568/1721 [56:16<05:20,  2.09s/it]"
     ]
    },
    {
     "name": "stdout",
     "output_type": "stream",
     "text": [
      "Embedding created\n",
      "Commissioner’s Standing Orders (Employment Requirements)\n"
     ]
    },
    {
     "name": "stderr",
     "output_type": "stream",
     "text": [
      "Processing Files:  91%|█████████ | 1569/1721 [56:18<05:32,  2.18s/it]"
     ]
    },
    {
     "name": "stdout",
     "output_type": "stream",
     "text": [
      "Embedding created\n",
      "Regulations Excluding Certain Indictable Offences from the Definition of “Designated Offence”\n"
     ]
    },
    {
     "name": "stderr",
     "output_type": "stream",
     "text": [
      "Processing Files:  91%|█████████ | 1570/1721 [56:20<05:30,  2.19s/it]"
     ]
    },
    {
     "name": "stdout",
     "output_type": "stream",
     "text": [
      "Embedding created\n",
      "CETA Rules of Origin for Casual Goods Regulations\n"
     ]
    },
    {
     "name": "stderr",
     "output_type": "stream",
     "text": [
      "Processing Files:  91%|█████████▏| 1571/1721 [56:22<05:20,  2.13s/it]"
     ]
    },
    {
     "name": "stdout",
     "output_type": "stream",
     "text": [
      "Embedding created\n",
      "Environmental Emergency Regulations\n"
     ]
    },
    {
     "name": "stderr",
     "output_type": "stream",
     "text": [
      "Processing Files:  91%|█████████▏| 1572/1721 [56:24<05:08,  2.07s/it]"
     ]
    },
    {
     "name": "stdout",
     "output_type": "stream",
     "text": [
      "Embedding created\n",
      "Alberta Hog Marketing Levies Order\n"
     ]
    },
    {
     "name": "stderr",
     "output_type": "stream",
     "text": [
      "Processing Files:  91%|█████████▏| 1573/1721 [56:26<05:00,  2.03s/it]"
     ]
    },
    {
     "name": "stdout",
     "output_type": "stream",
     "text": [
      "Embedding created\n",
      "Fabricated Industrial Steel Components Anti-dumping and Countervailing Duty Remission Order\n"
     ]
    },
    {
     "name": "stderr",
     "output_type": "stream",
     "text": [
      "Processing Files:  91%|█████████▏| 1574/1721 [56:28<04:57,  2.03s/it]"
     ]
    },
    {
     "name": "stdout",
     "output_type": "stream",
     "text": [
      "Embedding created\n",
      "CCRFTA Verification of Origin Regulations\n"
     ]
    },
    {
     "name": "stderr",
     "output_type": "stream",
     "text": [
      "Processing Files:  92%|█████████▏| 1575/1721 [56:30<04:56,  2.03s/it]"
     ]
    },
    {
     "name": "stdout",
     "output_type": "stream",
     "text": [
      "Embedding created\n",
      "African Union Privileges and Immunities Order\n"
     ]
    },
    {
     "name": "stderr",
     "output_type": "stream",
     "text": [
      "Processing Files:  92%|█████████▏| 1576/1721 [56:32<04:55,  2.04s/it]"
     ]
    },
    {
     "name": "stdout",
     "output_type": "stream",
     "text": [
      "Embedding not created\n",
      "Execution of Purchase of Property Documents Regulations\n"
     ]
    },
    {
     "name": "stderr",
     "output_type": "stream",
     "text": [
      "Processing Files:  92%|█████████▏| 1577/1721 [56:34<04:51,  2.02s/it]"
     ]
    },
    {
     "name": "stdout",
     "output_type": "stream",
     "text": [
      "Embedding created\n",
      "Chlorine Tank Car Unloading Facilities Regulations\n"
     ]
    },
    {
     "name": "stderr",
     "output_type": "stream",
     "text": [
      "Processing Files:  92%|█████████▏| 1578/1721 [56:36<04:52,  2.04s/it]"
     ]
    },
    {
     "name": "stdout",
     "output_type": "stream",
     "text": [
      "Embedding created\n",
      "G8 Summit Privileges and Immunities Order, 2010\n"
     ]
    },
    {
     "name": "stderr",
     "output_type": "stream",
     "text": [
      "Processing Files:  92%|█████████▏| 1579/1721 [56:38<04:46,  2.02s/it]"
     ]
    },
    {
     "name": "stdout",
     "output_type": "stream",
     "text": [
      "Embedding created\n",
      "Critical Habitat of the Cerulean Warbler (Setophaga cerulea) Order\n"
     ]
    },
    {
     "name": "stderr",
     "output_type": "stream",
     "text": [
      "Processing Files:  92%|█████████▏| 1580/1721 [56:40<04:35,  1.96s/it]"
     ]
    },
    {
     "name": "stdout",
     "output_type": "stream",
     "text": [
      "Embedding created\n",
      "Canadian Forces Base Shearwater Airfield Zoning Regulations\n"
     ]
    },
    {
     "name": "stderr",
     "output_type": "stream",
     "text": [
      "Processing Files:  92%|█████████▏| 1581/1721 [56:42<04:44,  2.03s/it]"
     ]
    },
    {
     "name": "stdout",
     "output_type": "stream",
     "text": [
      "Embedding created\n",
      "Advance Payments for Crops Regulations\n"
     ]
    },
    {
     "name": "stderr",
     "output_type": "stream",
     "text": [
      "Processing Files:  92%|█████████▏| 1582/1721 [56:44<04:39,  2.01s/it]"
     ]
    },
    {
     "name": "stdout",
     "output_type": "stream",
     "text": [
      "Embedding not created\n",
      "Certain Goods Remission Order (COVID-19)\n"
     ]
    },
    {
     "name": "stderr",
     "output_type": "stream",
     "text": [
      "Processing Files:  92%|█████████▏| 1583/1721 [56:46<04:38,  2.02s/it]"
     ]
    },
    {
     "name": "stdout",
     "output_type": "stream",
     "text": [
      "Embedding created\n",
      "Regulations Adapting the Employment Equity Act in Respect of the Canadian Security Intelligence Service\n"
     ]
    },
    {
     "name": "stderr",
     "output_type": "stream",
     "text": [
      "Processing Files:  92%|█████████▏| 1584/1721 [56:49<04:44,  2.08s/it]"
     ]
    },
    {
     "name": "stdout",
     "output_type": "stream",
     "text": [
      "Embedding created\n",
      "Broadcasting Fees Regulations\n"
     ]
    },
    {
     "name": "stderr",
     "output_type": "stream",
     "text": [
      "Processing Files:  92%|█████████▏| 1585/1721 [56:51<04:39,  2.05s/it]"
     ]
    },
    {
     "name": "stdout",
     "output_type": "stream",
     "text": [
      "Embedding created\n",
      "CUFTA Tariff Preference Regulations\n"
     ]
    },
    {
     "name": "stderr",
     "output_type": "stream",
     "text": [
      "Processing Files:  92%|█████████▏| 1586/1721 [56:54<05:50,  2.59s/it]"
     ]
    },
    {
     "name": "stdout",
     "output_type": "stream",
     "text": [
      "Embedding created\n",
      "Certain Fees in Respect of the Issuance and Replacement of Identity and Travel Documents (Crash of Ukraine International Airlines Flight PS752) Remission Order\n"
     ]
    },
    {
     "name": "stderr",
     "output_type": "stream",
     "text": [
      "Processing Files:  92%|█████████▏| 1587/1721 [56:57<05:25,  2.43s/it]"
     ]
    },
    {
     "name": "stdout",
     "output_type": "stream",
     "text": [
      "Embedding created\n",
      "Coffin or Casket Remission Order\n"
     ]
    },
    {
     "name": "stderr",
     "output_type": "stream",
     "text": [
      "Processing Files:  92%|█████████▏| 1588/1721 [56:58<05:02,  2.28s/it]"
     ]
    },
    {
     "name": "stdout",
     "output_type": "stream",
     "text": [
      "Embedding created\n",
      "Fiscal Equalization Payments Regulations, 1999\n"
     ]
    },
    {
     "name": "stderr",
     "output_type": "stream",
     "text": [
      "Processing Files:  92%|█████████▏| 1589/1721 [57:01<04:54,  2.23s/it]"
     ]
    },
    {
     "name": "stdout",
     "output_type": "stream",
     "text": [
      "Embedding created\n",
      "Gallantry Awards Order\n"
     ]
    },
    {
     "name": "stderr",
     "output_type": "stream",
     "text": [
      "Processing Files:  92%|█████████▏| 1590/1721 [57:03<04:44,  2.17s/it]"
     ]
    },
    {
     "name": "stdout",
     "output_type": "stream",
     "text": [
      "Embedding created\n",
      "Canada Oil and Gas Installations Regulations\n"
     ]
    },
    {
     "name": "stderr",
     "output_type": "stream",
     "text": [
      "Processing Files:  92%|█████████▏| 1591/1721 [57:05<04:34,  2.11s/it]"
     ]
    },
    {
     "name": "stdout",
     "output_type": "stream",
     "text": [
      "Embedding created\n",
      "Discretionary Interest By-Law\n"
     ]
    },
    {
     "name": "stderr",
     "output_type": "stream",
     "text": [
      "Processing Files:  93%|█████████▎| 1592/1721 [57:07<04:32,  2.11s/it]"
     ]
    },
    {
     "name": "stdout",
     "output_type": "stream",
     "text": [
      "Embedding created\n",
      "Commissioner’s Standing Orders (Grievances)\n"
     ]
    },
    {
     "name": "stderr",
     "output_type": "stream",
     "text": [
      "Processing Files:  93%|█████████▎| 1593/1721 [57:08<04:18,  2.02s/it]"
     ]
    },
    {
     "name": "stdout",
     "output_type": "stream",
     "text": [
      "Embedding created\n",
      "Canada – Nova Scotia Offshore Marine Installations and Structures Occupational Health and Safety Transitional Regulations \n"
     ]
    },
    {
     "name": "stderr",
     "output_type": "stream",
     "text": [
      "Processing Files:  93%|█████████▎| 1594/1721 [57:10<04:08,  1.95s/it]"
     ]
    },
    {
     "name": "stdout",
     "output_type": "stream",
     "text": [
      "Embedding created\n",
      "Hatchery Regulations\n"
     ]
    },
    {
     "name": "stderr",
     "output_type": "stream",
     "text": [
      "Processing Files:  93%|█████████▎| 1595/1721 [57:13<04:21,  2.07s/it]"
     ]
    },
    {
     "name": "stdout",
     "output_type": "stream",
     "text": [
      "Embedding created\n",
      "Order Rescinding Decision No. 618-W-2005 of the Canadian Transportation Agency\n"
     ]
    },
    {
     "name": "stderr",
     "output_type": "stream",
     "text": [
      "Processing Files:  93%|█████████▎| 1596/1721 [57:15<04:19,  2.07s/it]"
     ]
    },
    {
     "name": "stdout",
     "output_type": "stream",
     "text": [
      "Embedding created\n",
      "Excise Tax Indexing Ratio Regulations\n"
     ]
    },
    {
     "name": "stderr",
     "output_type": "stream",
     "text": [
      "Processing Files:  93%|█████████▎| 1597/1721 [57:17<04:11,  2.03s/it]"
     ]
    },
    {
     "name": "stdout",
     "output_type": "stream",
     "text": [
      "Embedding created\n",
      "Regulations Respecting Employment Related to Mines at the Donkin Coal Block\n"
     ]
    },
    {
     "name": "stderr",
     "output_type": "stream",
     "text": [
      "Processing Files:  93%|█████████▎| 1598/1721 [57:19<04:13,  2.06s/it]"
     ]
    },
    {
     "name": "stdout",
     "output_type": "stream",
     "text": [
      "Embedding created\n",
      "Antarctic Environmental Protection Regulations\n"
     ]
    },
    {
     "name": "stderr",
     "output_type": "stream",
     "text": [
      "Processing Files:  93%|█████████▎| 1599/1721 [57:21<04:06,  2.02s/it]"
     ]
    },
    {
     "name": "stdout",
     "output_type": "stream",
     "text": [
      "Embedding created\n",
      "Canada – Newfoundland and Labrador Offshore Area Diving Operations Safety Transitional Regulations\n"
     ]
    },
    {
     "name": "stderr",
     "output_type": "stream",
     "text": [
      "Processing Files:  93%|█████████▎| 1600/1721 [57:23<04:11,  2.08s/it]"
     ]
    },
    {
     "name": "stdout",
     "output_type": "stream",
     "text": [
      "Embedding created\n",
      "Access to Information Act Extension Order, No. 1\n"
     ]
    },
    {
     "name": "stderr",
     "output_type": "stream",
     "text": [
      "Processing Files:  93%|█████████▎| 1601/1721 [57:25<04:00,  2.00s/it]"
     ]
    },
    {
     "name": "stdout",
     "output_type": "stream",
     "text": [
      "Embedding not created\n",
      "Canadian Tourism Commission Divestiture Regulations\n"
     ]
    },
    {
     "name": "stderr",
     "output_type": "stream",
     "text": [
      "Processing Files:  93%|█████████▎| 1602/1721 [57:27<03:53,  1.97s/it]"
     ]
    },
    {
     "name": "stdout",
     "output_type": "stream",
     "text": [
      "Embedding created\n",
      "Federal Credit Union Conversion Regulations\n"
     ]
    },
    {
     "name": "stderr",
     "output_type": "stream",
     "text": [
      "Processing Files:  93%|█████████▎| 1603/1721 [57:31<05:15,  2.68s/it]"
     ]
    },
    {
     "name": "stdout",
     "output_type": "stream",
     "text": [
      "Embedding created\n",
      "Critical Habitat of the Western Brook Lamprey (Lampetra richardsoni) Morrison Creek Population Order\n"
     ]
    },
    {
     "name": "stderr",
     "output_type": "stream",
     "text": [
      "Processing Files:  93%|█████████▎| 1604/1721 [57:33<04:44,  2.43s/it]"
     ]
    },
    {
     "name": "stdout",
     "output_type": "stream",
     "text": [
      "Embedding created\n",
      "Foreign Claims (People’s Republic of China) Settlement Regulations\n"
     ]
    },
    {
     "name": "stderr",
     "output_type": "stream",
     "text": [
      "Processing Files:  93%|█████████▎| 1605/1721 [57:35<04:29,  2.32s/it]"
     ]
    },
    {
     "name": "stdout",
     "output_type": "stream",
     "text": [
      "Embedding created\n",
      "CUFTA Rules of Origin for Casual Goods Regulations\n"
     ]
    },
    {
     "name": "stderr",
     "output_type": "stream",
     "text": [
      "Processing Files:  93%|█████████▎| 1606/1721 [57:38<04:49,  2.51s/it]"
     ]
    },
    {
     "name": "stdout",
     "output_type": "stream",
     "text": [
      "Embedding created\n",
      "Australia and New Zealand Tariff Preference Maintenance Order\n"
     ]
    },
    {
     "name": "stderr",
     "output_type": "stream",
     "text": [
      "Processing Files:  93%|█████████▎| 1607/1721 [57:40<04:21,  2.29s/it]"
     ]
    },
    {
     "name": "stdout",
     "output_type": "stream",
     "text": [
      "Embedding created\n",
      "Domestic Wine Spirits Remission Order\n"
     ]
    },
    {
     "name": "stderr",
     "output_type": "stream",
     "text": [
      "Processing Files:  93%|█████████▎| 1608/1721 [57:41<04:02,  2.15s/it]"
     ]
    },
    {
     "name": "stdout",
     "output_type": "stream",
     "text": [
      "Embedding created\n",
      "Access to Information Regulations\n"
     ]
    },
    {
     "name": "stderr",
     "output_type": "stream",
     "text": [
      "Processing Files:  93%|█████████▎| 1609/1721 [57:43<03:56,  2.12s/it]"
     ]
    },
    {
     "name": "stdout",
     "output_type": "stream",
     "text": [
      "Embedding not created\n",
      "Farm Debt Secured Creditors Notice Regulations\n"
     ]
    },
    {
     "name": "stderr",
     "output_type": "stream",
     "text": [
      "Processing Files:  94%|█████████▎| 1610/1721 [57:45<03:51,  2.09s/it]"
     ]
    },
    {
     "name": "stdout",
     "output_type": "stream",
     "text": [
      "Embedding created\n",
      "Estates Regulations\n"
     ]
    },
    {
     "name": "stderr",
     "output_type": "stream",
     "text": [
      "Processing Files:  94%|█████████▎| 1611/1721 [57:48<03:54,  2.13s/it]"
     ]
    },
    {
     "name": "stdout",
     "output_type": "stream",
     "text": [
      "Embedding created\n",
      "Burwash Airport Zoning Regulations\n"
     ]
    },
    {
     "name": "stderr",
     "output_type": "stream",
     "text": [
      "Processing Files:  94%|█████████▎| 1612/1721 [57:50<03:45,  2.07s/it]"
     ]
    },
    {
     "name": "stdout",
     "output_type": "stream",
     "text": [
      "Embedding created\n",
      "Advertising Material Remission Order\n"
     ]
    },
    {
     "name": "stderr",
     "output_type": "stream",
     "text": [
      "Processing Files:  94%|█████████▎| 1613/1721 [57:52<03:48,  2.12s/it]"
     ]
    },
    {
     "name": "stdout",
     "output_type": "stream",
     "text": [
      "Embedding not created\n",
      "Energy Monitoring Regulations\n"
     ]
    },
    {
     "name": "stderr",
     "output_type": "stream",
     "text": [
      "Processing Files:  94%|█████████▍| 1614/1721 [57:54<03:41,  2.07s/it]"
     ]
    },
    {
     "name": "stdout",
     "output_type": "stream",
     "text": [
      "Embedding created\n",
      "Determining that Telesat Canada Need Not Apply for a Certificate of Continuance Under the Act\n"
     ]
    },
    {
     "name": "stderr",
     "output_type": "stream",
     "text": [
      "Processing Files:  94%|█████████▍| 1615/1721 [57:56<03:37,  2.05s/it]"
     ]
    },
    {
     "name": "stdout",
     "output_type": "stream",
     "text": [
      "Embedding created\n",
      "General Export Permit No. 38 — CWC Toxic Chemical and Precursor Mixtures\n"
     ]
    },
    {
     "name": "stderr",
     "output_type": "stream",
     "text": [
      "Processing Files:  94%|█████████▍| 1616/1721 [57:58<03:32,  2.03s/it]"
     ]
    },
    {
     "name": "stdout",
     "output_type": "stream",
     "text": [
      "Embedding created\n",
      "Benzene in Gasoline Regulations\n"
     ]
    },
    {
     "name": "stderr",
     "output_type": "stream",
     "text": [
      "Processing Files:  94%|█████████▍| 1617/1721 [58:00<03:45,  2.17s/it]"
     ]
    },
    {
     "name": "stdout",
     "output_type": "stream",
     "text": [
      "Embedding created\n",
      "American Bases in Newfoundland Remission Order, 1990\n"
     ]
    },
    {
     "name": "stderr",
     "output_type": "stream",
     "text": [
      "Processing Files:  94%|█████████▍| 1618/1721 [58:02<03:36,  2.10s/it]"
     ]
    },
    {
     "name": "stdout",
     "output_type": "stream",
     "text": [
      "Embedding created\n",
      "Fruit and Vegetable Remission Order, 2003\n"
     ]
    },
    {
     "name": "stderr",
     "output_type": "stream",
     "text": [
      "Processing Files:  94%|█████████▍| 1619/1721 [58:04<03:31,  2.07s/it]"
     ]
    },
    {
     "name": "stdout",
     "output_type": "stream",
     "text": [
      "Embedding created\n",
      "Garnishment and Attachment Regulations\n"
     ]
    },
    {
     "name": "stderr",
     "output_type": "stream",
     "text": [
      "Processing Files:  94%|█████████▍| 1620/1721 [58:06<03:26,  2.04s/it]"
     ]
    },
    {
     "name": "stdout",
     "output_type": "stream",
     "text": [
      "Embedding created\n",
      "Fredericton Airport Zoning Regulations\n"
     ]
    },
    {
     "name": "stderr",
     "output_type": "stream",
     "text": [
      "Processing Files:  94%|█████████▍| 1621/1721 [58:08<03:22,  2.03s/it]"
     ]
    },
    {
     "name": "stdout",
     "output_type": "stream",
     "text": [
      "Embedding created\n",
      "Copyright Regulations\n"
     ]
    },
    {
     "name": "stderr",
     "output_type": "stream",
     "text": [
      "Processing Files:  94%|█████████▍| 1622/1721 [58:10<03:18,  2.00s/it]"
     ]
    },
    {
     "name": "stdout",
     "output_type": "stream",
     "text": [
      "Embedding created\n",
      "Fishing Zones of Canada (Zone 6) Order\n"
     ]
    },
    {
     "name": "stderr",
     "output_type": "stream",
     "text": [
      "Processing Files:  94%|█████████▍| 1623/1721 [58:12<03:10,  1.95s/it]"
     ]
    },
    {
     "name": "stdout",
     "output_type": "stream",
     "text": [
      "Embedding created\n",
      "Cheque Issue Regulations, 1997\n"
     ]
    },
    {
     "name": "stderr",
     "output_type": "stream",
     "text": [
      "Processing Files:  94%|█████████▍| 1624/1721 [58:14<03:23,  2.10s/it]"
     ]
    },
    {
     "name": "stdout",
     "output_type": "stream",
     "text": [
      "Embedding created\n",
      "African Development Fund Privileges and Immunities Order\n"
     ]
    },
    {
     "name": "stderr",
     "output_type": "stream",
     "text": [
      "Processing Files:  94%|█████████▍| 1625/1721 [58:17<03:33,  2.23s/it]"
     ]
    },
    {
     "name": "stdout",
     "output_type": "stream",
     "text": [
      "Embedding not created\n",
      "Corrections and Conditional Release Regulations\n"
     ]
    },
    {
     "name": "stderr",
     "output_type": "stream",
     "text": [
      "Processing Files:  94%|█████████▍| 1626/1721 [58:19<03:22,  2.13s/it]"
     ]
    },
    {
     "name": "stdout",
     "output_type": "stream",
     "text": [
      "Embedding created\n",
      "Cultural Property Export Regulations\n"
     ]
    },
    {
     "name": "stderr",
     "output_type": "stream",
     "text": [
      "Processing Files:  95%|█████████▍| 1627/1721 [58:21<03:20,  2.13s/it]"
     ]
    },
    {
     "name": "stdout",
     "output_type": "stream",
     "text": [
      "Embedding created\n",
      "Fish Toxicant Regulations\n"
     ]
    },
    {
     "name": "stderr",
     "output_type": "stream",
     "text": [
      "Processing Files:  95%|█████████▍| 1628/1721 [58:23<03:09,  2.04s/it]"
     ]
    },
    {
     "name": "stdout",
     "output_type": "stream",
     "text": [
      "Embedding created\n",
      "Air Transportation Regulations\n"
     ]
    },
    {
     "name": "stderr",
     "output_type": "stream",
     "text": [
      "Processing Files:  95%|█████████▍| 1629/1721 [58:25<03:04,  2.01s/it]"
     ]
    },
    {
     "name": "stdout",
     "output_type": "stream",
     "text": [
      "Embedding created\n",
      "Order Designating Alberta for the Purposes of the Criminal Interest Rate Provisions of the Criminal Code\n"
     ]
    },
    {
     "name": "stderr",
     "output_type": "stream",
     "text": [
      "Processing Files:  95%|█████████▍| 1630/1721 [58:28<03:26,  2.26s/it]"
     ]
    },
    {
     "name": "stdout",
     "output_type": "stream",
     "text": [
      "Embedding created\n",
      "Goods Imported and Exported Refund and Drawback Regulations\n"
     ]
    },
    {
     "name": "stderr",
     "output_type": "stream",
     "text": [
      "Processing Files:  95%|█████████▍| 1631/1721 [58:30<03:39,  2.44s/it]"
     ]
    },
    {
     "name": "stdout",
     "output_type": "stream",
     "text": [
      "Embedding created\n",
      "Chlorobiphenyls Regulations\n"
     ]
    },
    {
     "name": "stderr",
     "output_type": "stream",
     "text": [
      "Processing Files:  95%|█████████▍| 1632/1721 [58:32<03:24,  2.30s/it]"
     ]
    },
    {
     "name": "stdout",
     "output_type": "stream",
     "text": [
      "Embedding created\n",
      "Agents’ Accounting for Imported Goods and Payment of Duties Regulations\n"
     ]
    },
    {
     "name": "stderr",
     "output_type": "stream",
     "text": [
      "Processing Files:  95%|█████████▍| 1633/1721 [58:35<03:18,  2.26s/it]"
     ]
    },
    {
     "name": "stdout",
     "output_type": "stream",
     "text": [
      "Embedding not created\n",
      "Environmental Response Regulations\n"
     ]
    },
    {
     "name": "stderr",
     "output_type": "stream",
     "text": [
      "Processing Files:  95%|█████████▍| 1634/1721 [58:37<03:16,  2.25s/it]"
     ]
    },
    {
     "name": "stdout",
     "output_type": "stream",
     "text": [
      "Embedding created\n",
      "Federal Authorities Regulations\n"
     ]
    },
    {
     "name": "stderr",
     "output_type": "stream",
     "text": [
      "Processing Files:  95%|█████████▌| 1635/1721 [58:39<03:03,  2.14s/it]"
     ]
    },
    {
     "name": "stdout",
     "output_type": "stream",
     "text": [
      "Embedding created\n",
      "Administration and Enforcement (Assisted Human Reproduction Act) Regulations\n"
     ]
    },
    {
     "name": "stderr",
     "output_type": "stream",
     "text": [
      "Processing Files:  95%|█████████▌| 1636/1721 [58:41<03:02,  2.15s/it]"
     ]
    },
    {
     "name": "stdout",
     "output_type": "stream",
     "text": [
      "Embedding not created\n",
      "Fishing Zones of Canada (Zones 4 and 5) Order\n"
     ]
    },
    {
     "name": "stderr",
     "output_type": "stream",
     "text": [
      "Processing Files:  95%|█████████▌| 1637/1721 [58:43<03:10,  2.27s/it]"
     ]
    },
    {
     "name": "stdout",
     "output_type": "stream",
     "text": [
      "Embedding created\n",
      "Critical Habitat of the Lake Chubsucker (Erimyzon sucetta) Order\n"
     ]
    },
    {
     "name": "stderr",
     "output_type": "stream",
     "text": [
      "Processing Files:  95%|█████████▌| 1638/1721 [58:46<03:04,  2.22s/it]"
     ]
    },
    {
     "name": "stdout",
     "output_type": "stream",
     "text": [
      "Embedding created\n",
      "Gatineau Region Wood Producers’ Levy (Interprovincial and Export Trade) Order\n"
     ]
    },
    {
     "name": "stderr",
     "output_type": "stream",
     "text": [
      "Processing Files:  95%|█████████▌| 1639/1721 [58:48<03:00,  2.20s/it]"
     ]
    },
    {
     "name": "stdout",
     "output_type": "stream",
     "text": [
      "Embedding created\n",
      "Customs Controlled Areas Regulations\n"
     ]
    },
    {
     "name": "stderr",
     "output_type": "stream",
     "text": [
      "Processing Files:  95%|█████████▌| 1640/1721 [58:50<02:54,  2.15s/it]"
     ]
    },
    {
     "name": "stdout",
     "output_type": "stream",
     "text": [
      "Embedding created\n",
      "Cape Dorset Airport Zoning Regulations\n"
     ]
    },
    {
     "name": "stderr",
     "output_type": "stream",
     "text": [
      "Processing Files:  95%|█████████▌| 1641/1721 [58:52<02:46,  2.08s/it]"
     ]
    },
    {
     "name": "stdout",
     "output_type": "stream",
     "text": [
      "Embedding created\n",
      "CIFTA Verification of Origin Regulations\n"
     ]
    },
    {
     "name": "stderr",
     "output_type": "stream",
     "text": [
      "Processing Files:  95%|█████████▌| 1642/1721 [58:54<02:39,  2.01s/it]"
     ]
    },
    {
     "name": "stdout",
     "output_type": "stream",
     "text": [
      "Embedding created\n",
      "Proclamation Declaring the Reciprocal Agreement on Social Security Between Canada and Australia in Force September 1, 1989\n"
     ]
    },
    {
     "name": "stderr",
     "output_type": "stream",
     "text": [
      "Processing Files:  95%|█████████▌| 1643/1721 [58:55<02:32,  1.95s/it]"
     ]
    },
    {
     "name": "stdout",
     "output_type": "stream",
     "text": [
      "Embedding created\n",
      "Arctic Waters Pollution Prevention Regulations\n"
     ]
    },
    {
     "name": "stderr",
     "output_type": "stream",
     "text": [
      "Processing Files:  96%|█████████▌| 1644/1721 [58:57<02:31,  1.97s/it]"
     ]
    },
    {
     "name": "stdout",
     "output_type": "stream",
     "text": [
      "Embedding created\n",
      "First Nations Property Assessment and Taxation (Railway Rights-of-Way) Regulations\n"
     ]
    },
    {
     "name": "stderr",
     "output_type": "stream",
     "text": [
      "Processing Files:  96%|█████████▌| 1645/1721 [58:59<02:27,  1.95s/it]"
     ]
    },
    {
     "name": "stdout",
     "output_type": "stream",
     "text": [
      "Embedding created\n",
      "Agricultural Marketing Programs Regulations\n"
     ]
    },
    {
     "name": "stderr",
     "output_type": "stream",
     "text": [
      "Processing Files:  96%|█████████▌| 1646/1721 [59:01<02:24,  1.92s/it]"
     ]
    },
    {
     "name": "stdout",
     "output_type": "stream",
     "text": [
      "Embedding not created\n",
      "Assets (Foreign Companies) Regulations\n"
     ]
    },
    {
     "name": "stderr",
     "output_type": "stream",
     "text": [
      "Processing Files:  96%|█████████▌| 1647/1721 [59:03<02:24,  1.95s/it]"
     ]
    },
    {
     "name": "stdout",
     "output_type": "stream",
     "text": [
      "Embedding created\n",
      "Hazardous Products (Booster Cushions) Regulations\n"
     ]
    },
    {
     "name": "stderr",
     "output_type": "stream",
     "text": [
      "Processing Files:  96%|█████████▌| 1648/1721 [59:05<02:21,  1.94s/it]"
     ]
    },
    {
     "name": "stdout",
     "output_type": "stream",
     "text": [
      "Embedding created\n",
      "Goods Imported and Exported Drawback Regulations\n"
     ]
    },
    {
     "name": "stderr",
     "output_type": "stream",
     "text": [
      "Processing Files:  96%|█████████▌| 1649/1721 [59:07<02:17,  1.92s/it]"
     ]
    },
    {
     "name": "stdout",
     "output_type": "stream",
     "text": [
      "Embedding created\n",
      "Cross-border Movement of Hazardous Waste and Hazardous Recyclable Material Regulations\n"
     ]
    },
    {
     "name": "stderr",
     "output_type": "stream",
     "text": [
      "Processing Files:  96%|█████████▌| 1650/1721 [59:09<02:16,  1.92s/it]"
     ]
    },
    {
     "name": "stdout",
     "output_type": "stream",
     "text": [
      "Embedding created\n",
      "Complaints (Banks, Authorized Foreign Banks and External Complaints Bodies) Regulations\n"
     ]
    },
    {
     "name": "stderr",
     "output_type": "stream",
     "text": [
      "Processing Files:  96%|█████████▌| 1651/1721 [59:11<02:12,  1.90s/it]"
     ]
    },
    {
     "name": "stdout",
     "output_type": "stream",
     "text": [
      "Embedding created\n",
      "Critical Habitat of the Beluga Whale (Delphinapterus leucas) St. Lawrence Estuary Population Order\n"
     ]
    },
    {
     "name": "stderr",
     "output_type": "stream",
     "text": [
      "Processing Files:  96%|█████████▌| 1652/1721 [59:13<02:12,  1.92s/it]"
     ]
    },
    {
     "name": "stdout",
     "output_type": "stream",
     "text": [
      "Embedding created\n",
      "Regulations Specifying Activities that Do Not Constitute Brokering\n"
     ]
    },
    {
     "name": "stderr",
     "output_type": "stream",
     "text": [
      "Processing Files:  96%|█████████▌| 1653/1721 [59:14<02:07,  1.88s/it]"
     ]
    },
    {
     "name": "stdout",
     "output_type": "stream",
     "text": [
      "Embedding not created\n",
      "Criminal Proceedings Rules for the Superior Court of Justice (Ontario)\n"
     ]
    },
    {
     "name": "stderr",
     "output_type": "stream",
     "text": [
      "Processing Files:  96%|█████████▌| 1654/1721 [59:16<02:06,  1.89s/it]"
     ]
    },
    {
     "name": "stdout",
     "output_type": "stream",
     "text": [
      "Embedding created\n",
      "Regulations Prescribing Circumstances for Granting Waivers Pursuant to Section 147 of the Act\n"
     ]
    },
    {
     "name": "stderr",
     "output_type": "stream",
     "text": [
      "Processing Files:  96%|█████████▌| 1655/1721 [59:18<02:03,  1.87s/it]"
     ]
    },
    {
     "name": "stdout",
     "output_type": "stream",
     "text": [
      "Embedding created\n",
      "Fishing Vessel Safety Regulations\n"
     ]
    },
    {
     "name": "stderr",
     "output_type": "stream",
     "text": [
      "Processing Files:  96%|█████████▌| 1656/1721 [59:20<02:03,  1.90s/it]"
     ]
    },
    {
     "name": "stdout",
     "output_type": "stream",
     "text": [
      "Embedding created\n",
      "Earlton Airport Zoning Regulations\n"
     ]
    },
    {
     "name": "stderr",
     "output_type": "stream",
     "text": [
      "Processing Files:  96%|█████████▋| 1657/1721 [59:22<02:08,  2.01s/it]"
     ]
    },
    {
     "name": "stdout",
     "output_type": "stream",
     "text": [
      "Embedding created\n",
      "Alberta Potato Order\n"
     ]
    },
    {
     "name": "stderr",
     "output_type": "stream",
     "text": [
      "Processing Files:  96%|█████████▋| 1658/1721 [59:24<02:06,  2.00s/it]"
     ]
    },
    {
     "name": "stdout",
     "output_type": "stream",
     "text": [
      "Embedding created\n",
      "Critical Habitat of the Vancouver Lamprey (Entosphenus macrostomus) Order\n"
     ]
    },
    {
     "name": "stderr",
     "output_type": "stream",
     "text": [
      "Processing Files:  96%|█████████▋| 1659/1721 [59:27<02:12,  2.13s/it]"
     ]
    },
    {
     "name": "stdout",
     "output_type": "stream",
     "text": [
      "Embedding created\n",
      "Canadian Payments Association By-Law No. 2 — Finance\n"
     ]
    },
    {
     "name": "stderr",
     "output_type": "stream",
     "text": [
      "Processing Files:  96%|█████████▋| 1660/1721 [59:29<02:04,  2.04s/it]"
     ]
    },
    {
     "name": "stdout",
     "output_type": "stream",
     "text": [
      "Embedding created\n",
      "Remission Order of Federal Administrative Fees Paid or Payable by the Yukon and the Northwest Territories\n"
     ]
    },
    {
     "name": "stderr",
     "output_type": "stream",
     "text": [
      "Processing Files:  97%|█████████▋| 1661/1721 [59:31<02:01,  2.02s/it]"
     ]
    },
    {
     "name": "stdout",
     "output_type": "stream",
     "text": [
      "Embedding created\n",
      "General Preferential Tariff Reduction Order, 1996\n"
     ]
    },
    {
     "name": "stderr",
     "output_type": "stream",
     "text": [
      "Processing Files:  97%|█████████▋| 1662/1721 [59:33<02:00,  2.04s/it]"
     ]
    },
    {
     "name": "stdout",
     "output_type": "stream",
     "text": [
      "Embedding created\n",
      "Critical Habitat of the Hotwater Physa (Physella wrighti) Order\n"
     ]
    },
    {
     "name": "stderr",
     "output_type": "stream",
     "text": [
      "Processing Files:  97%|█████████▋| 1663/1721 [59:35<01:58,  2.04s/it]"
     ]
    },
    {
     "name": "stdout",
     "output_type": "stream",
     "text": [
      "Embedding created\n",
      "Export and Import of Rough Diamonds Regulations\n"
     ]
    },
    {
     "name": "stderr",
     "output_type": "stream",
     "text": [
      "Processing Files:  97%|█████████▋| 1664/1721 [59:37<01:57,  2.06s/it]"
     ]
    },
    {
     "name": "stdout",
     "output_type": "stream",
     "text": [
      "Embedding created\n",
      "Diplomatic Motor Vehicle Diversion Remission Order\n"
     ]
    },
    {
     "name": "stderr",
     "output_type": "stream",
     "text": [
      "Processing Files:  97%|█████████▋| 1665/1721 [59:39<01:52,  2.00s/it]"
     ]
    },
    {
     "name": "stdout",
     "output_type": "stream",
     "text": [
      "Embedding created\n",
      "Going-Private Transaction (Trust and Loan Companies) Regulations\n"
     ]
    },
    {
     "name": "stderr",
     "output_type": "stream",
     "text": [
      "Processing Files:  97%|█████████▋| 1666/1721 [59:41<01:50,  2.01s/it]"
     ]
    },
    {
     "name": "stdout",
     "output_type": "stream",
     "text": [
      "Embedding created\n",
      "C.O.T.C. Pension Regulations\n"
     ]
    },
    {
     "name": "stderr",
     "output_type": "stream",
     "text": [
      "Processing Files:  97%|█████████▋| 1667/1721 [59:43<01:46,  1.97s/it]"
     ]
    },
    {
     "name": "stdout",
     "output_type": "stream",
     "text": [
      "Embedding created\n",
      "Hamilton Airport Zoning Regulations\n"
     ]
    },
    {
     "name": "stderr",
     "output_type": "stream",
     "text": [
      "Processing Files:  97%|█████████▋| 1668/1721 [59:44<01:42,  1.94s/it]"
     ]
    },
    {
     "name": "stdout",
     "output_type": "stream",
     "text": [
      "Embedding created\n",
      "Critical Habitat of the North Atlantic Right Whale (Eubalaena glacialis) Order\n"
     ]
    },
    {
     "name": "stderr",
     "output_type": "stream",
     "text": [
      "Processing Files:  97%|█████████▋| 1669/1721 [59:47<01:42,  1.96s/it]"
     ]
    },
    {
     "name": "stdout",
     "output_type": "stream",
     "text": [
      "Embedding created\n",
      "General Brokering Permit No. 1\n"
     ]
    },
    {
     "name": "stderr",
     "output_type": "stream",
     "text": [
      "Processing Files:  97%|█████████▋| 1670/1721 [59:49<01:41,  1.99s/it]"
     ]
    },
    {
     "name": "stdout",
     "output_type": "stream",
     "text": [
      "Embedding created\n",
      "Commissioner’s Standing Orders (Public Complaints)\n"
     ]
    },
    {
     "name": "stderr",
     "output_type": "stream",
     "text": [
      "Processing Files:  97%|█████████▋| 1671/1721 [59:51<01:41,  2.03s/it]"
     ]
    },
    {
     "name": "stdout",
     "output_type": "stream",
     "text": [
      "Embedding created\n",
      "Financial Services and Financial Institutions (GST/HST) Regulations\n"
     ]
    },
    {
     "name": "stderr",
     "output_type": "stream",
     "text": [
      "Processing Files:  97%|█████████▋| 1672/1721 [59:52<01:36,  1.96s/it]"
     ]
    },
    {
     "name": "stdout",
     "output_type": "stream",
     "text": [
      "Embedding created\n",
      "Crown Liability and Proceedings (Provincial Court) Regulations\n"
     ]
    },
    {
     "name": "stderr",
     "output_type": "stream",
     "text": [
      "Processing Files:  97%|█████████▋| 1673/1721 [59:55<01:41,  2.12s/it]"
     ]
    },
    {
     "name": "stdout",
     "output_type": "stream",
     "text": [
      "Embedding created\n",
      "Divestiture Regulations for Former Employees of Atomic Energy of Canada Limited (CANDU Reactor Division)\n"
     ]
    },
    {
     "name": "stderr",
     "output_type": "stream",
     "text": [
      "Processing Files:  97%|█████████▋| 1674/1721 [59:57<01:35,  2.03s/it]"
     ]
    },
    {
     "name": "stdout",
     "output_type": "stream",
     "text": [
      "Embedding created\n",
      "Broadcasting Information Regulations, 1993\n"
     ]
    },
    {
     "name": "stderr",
     "output_type": "stream",
     "text": [
      "Processing Files:  97%|█████████▋| 1675/1721 [59:59<01:39,  2.16s/it]"
     ]
    },
    {
     "name": "stdout",
     "output_type": "stream",
     "text": [
      "Embedding created\n",
      "Critical Habitat of the Atlantic Mud-piddock (Barnea truncata) Order\n"
     ]
    },
    {
     "name": "stderr",
     "output_type": "stream",
     "text": [
      "Processing Files:  97%|█████████▋| 1676/1721 [1:00:01<01:33,  2.07s/it]"
     ]
    },
    {
     "name": "stdout",
     "output_type": "stream",
     "text": [
      "Embedding created\n",
      "Adjustment of Certain Fees in Respect of Publication in the Canada Gazette for the 2019–2020 and 2020–2021 Fiscal Years Remission Order\n"
     ]
    },
    {
     "name": "stderr",
     "output_type": "stream",
     "text": [
      "Processing Files:  97%|█████████▋| 1677/1721 [1:00:03<01:32,  2.11s/it]"
     ]
    },
    {
     "name": "stdout",
     "output_type": "stream",
     "text": [
      "Embedding not created\n",
      "Fruit Remission Order, 2006\n"
     ]
    },
    {
     "name": "stderr",
     "output_type": "stream",
     "text": [
      "Processing Files:  98%|█████████▊| 1678/1721 [1:00:05<01:30,  2.11s/it]"
     ]
    },
    {
     "name": "stdout",
     "output_type": "stream",
     "text": [
      "Embedding created\n",
      "Blouses, Shirts and Co-Ordinates Remission Order, 1998\n"
     ]
    },
    {
     "name": "stderr",
     "output_type": "stream",
     "text": [
      "Processing Files:  98%|█████████▊| 1679/1721 [1:00:08<01:36,  2.29s/it]"
     ]
    },
    {
     "name": "stdout",
     "output_type": "stream",
     "text": [
      "Embedding created\n",
      "Notice Establishing Criteria Respecting Facilities and Persons and Publishing Measures\n"
     ]
    },
    {
     "name": "stderr",
     "output_type": "stream",
     "text": [
      "Processing Files:  98%|█████████▊| 1680/1721 [1:00:10<01:30,  2.21s/it]"
     ]
    },
    {
     "name": "stdout",
     "output_type": "stream",
     "text": [
      "Embedding created\n",
      "Exclusion List Regulations, 2007\n"
     ]
    },
    {
     "name": "stderr",
     "output_type": "stream",
     "text": [
      "Processing Files:  98%|█████████▊| 1681/1721 [1:00:12<01:27,  2.19s/it]"
     ]
    },
    {
     "name": "stdout",
     "output_type": "stream",
     "text": [
      "Embedding created\n",
      "Canada Oil and Gas Drilling and Production Regulations\n"
     ]
    },
    {
     "name": "stderr",
     "output_type": "stream",
     "text": [
      "Processing Files:  98%|█████████▊| 1682/1721 [1:00:14<01:24,  2.17s/it]"
     ]
    },
    {
     "name": "stdout",
     "output_type": "stream",
     "text": [
      "Embedding created\n",
      "Eastport Marine Protected Areas Regulations\n"
     ]
    },
    {
     "name": "stderr",
     "output_type": "stream",
     "text": [
      "Processing Files:  98%|█████████▊| 1683/1721 [1:00:17<01:21,  2.16s/it]"
     ]
    },
    {
     "name": "stdout",
     "output_type": "stream",
     "text": [
      "Embedding created\n",
      "British Columbia Peach Stabilization Regulations, 1983\n"
     ]
    },
    {
     "name": "stderr",
     "output_type": "stream",
     "text": [
      "Processing Files:  98%|█████████▊| 1684/1721 [1:00:19<01:20,  2.17s/it]"
     ]
    },
    {
     "name": "stdout",
     "output_type": "stream",
     "text": [
      "Embedding created\n",
      "Goods for Emergency Use Remission Order\n"
     ]
    },
    {
     "name": "stderr",
     "output_type": "stream",
     "text": [
      "Processing Files:  98%|█████████▊| 1685/1721 [1:00:21<01:17,  2.15s/it]"
     ]
    },
    {
     "name": "stdout",
     "output_type": "stream",
     "text": [
      "Embedding created\n",
      "Order Varying CTC Abandonment Orders Respecting the Avonlea Subdivision Between Parry and Avonlea\n"
     ]
    },
    {
     "name": "stderr",
     "output_type": "stream",
     "text": [
      "Processing Files:  98%|█████████▊| 1686/1721 [1:00:23<01:17,  2.22s/it]"
     ]
    },
    {
     "name": "stdout",
     "output_type": "stream",
     "text": [
      "Embedding created\n",
      "Foreign Organizations Remission Order, 1983\n"
     ]
    },
    {
     "name": "stderr",
     "output_type": "stream",
     "text": [
      "Processing Files:  98%|█████████▊| 1687/1721 [1:00:25<01:12,  2.14s/it]"
     ]
    },
    {
     "name": "stdout",
     "output_type": "stream",
     "text": [
      "Embedding created\n",
      "Regulations Exempting Goods of Chile from the Application of Anti-dumping Measures\n"
     ]
    },
    {
     "name": "stderr",
     "output_type": "stream",
     "text": [
      "Processing Files:  98%|█████████▊| 1688/1721 [1:00:28<01:13,  2.23s/it]"
     ]
    },
    {
     "name": "stdout",
     "output_type": "stream",
     "text": [
      "Embedding created\n",
      "Canada Post Systems Management Limited Authorization Order, 1990\n"
     ]
    },
    {
     "name": "stderr",
     "output_type": "stream",
     "text": [
      "Processing Files:  98%|█████████▊| 1689/1721 [1:00:30<01:09,  2.18s/it]"
     ]
    },
    {
     "name": "stdout",
     "output_type": "stream",
     "text": [
      "Embedding created\n",
      "Canada Deposit Insurance Corporation Co-owned and Trust Deposit Disclosure By-law\n"
     ]
    },
    {
     "name": "stderr",
     "output_type": "stream",
     "text": [
      "Processing Files:  98%|█████████▊| 1690/1721 [1:00:32<01:08,  2.20s/it]"
     ]
    },
    {
     "name": "stdout",
     "output_type": "stream",
     "text": [
      "Embedding created\n",
      "GST Federal Government Departments Remission Order\n"
     ]
    },
    {
     "name": "stderr",
     "output_type": "stream",
     "text": [
      "Processing Files:  98%|█████████▊| 1691/1721 [1:00:34<01:04,  2.16s/it]"
     ]
    },
    {
     "name": "stdout",
     "output_type": "stream",
     "text": [
      "Embedding created\n",
      "Haisla Nation Liquefied Natural Gas Facility Regulations\n"
     ]
    },
    {
     "name": "stderr",
     "output_type": "stream",
     "text": [
      "Processing Files:  98%|█████████▊| 1692/1721 [1:00:36<01:00,  2.10s/it]"
     ]
    },
    {
     "name": "stdout",
     "output_type": "stream",
     "text": [
      "Embedding created\n",
      "Debt Reserve Funds Replenishment Regulations\n"
     ]
    },
    {
     "name": "stderr",
     "output_type": "stream",
     "text": [
      "Processing Files:  98%|█████████▊| 1693/1721 [1:00:38<00:59,  2.13s/it]"
     ]
    },
    {
     "name": "stdout",
     "output_type": "stream",
     "text": [
      "Embedding created\n",
      "Commonwealth Caribbean Countries Tariff Rules of Origin Regulations\n"
     ]
    },
    {
     "name": "stderr",
     "output_type": "stream",
     "text": [
      "Processing Files:  98%|█████████▊| 1694/1721 [1:00:40<00:55,  2.06s/it]"
     ]
    },
    {
     "name": "stdout",
     "output_type": "stream",
     "text": [
      "Embedding created\n",
      "Firearms Records Regulations\n"
     ]
    },
    {
     "name": "stderr",
     "output_type": "stream",
     "text": [
      "Processing Files:  98%|█████████▊| 1695/1721 [1:00:42<00:55,  2.14s/it]"
     ]
    },
    {
     "name": "stdout",
     "output_type": "stream",
     "text": [
      "Embedding created\n",
      "Communications Security Establishment Exclusion of Positions and Employees Approval Order\n"
     ]
    },
    {
     "name": "stderr",
     "output_type": "stream",
     "text": [
      "Processing Files:  99%|█████████▊| 1696/1721 [1:00:44<00:52,  2.12s/it]"
     ]
    },
    {
     "name": "stdout",
     "output_type": "stream",
     "text": [
      "Embedding created\n",
      "Defence Research Board Employees Regulations\n"
     ]
    },
    {
     "name": "stderr",
     "output_type": "stream",
     "text": [
      "Processing Files:  99%|█████████▊| 1697/1721 [1:00:46<00:50,  2.08s/it]"
     ]
    },
    {
     "name": "stdout",
     "output_type": "stream",
     "text": [
      "Embedding created\n",
      "Advance Income Tax Ruling Fees Order\n"
     ]
    },
    {
     "name": "stderr",
     "output_type": "stream",
     "text": [
      "Processing Files:  99%|█████████▊| 1698/1721 [1:00:48<00:47,  2.05s/it]"
     ]
    },
    {
     "name": "stdout",
     "output_type": "stream",
     "text": [
      "Embedding not created\n",
      "Cellulose Fibre Insulation Regulations\n"
     ]
    },
    {
     "name": "stderr",
     "output_type": "stream",
     "text": [
      "Processing Files:  99%|█████████▊| 1699/1721 [1:00:51<00:45,  2.06s/it]"
     ]
    },
    {
     "name": "stdout",
     "output_type": "stream",
     "text": [
      "Embedding created\n",
      "First Nations Tax Commission Review Procedures Regulations\n"
     ]
    },
    {
     "name": "stderr",
     "output_type": "stream",
     "text": [
      "Processing Files:  99%|█████████▉| 1700/1721 [1:00:52<00:42,  2.01s/it]"
     ]
    },
    {
     "name": "stdout",
     "output_type": "stream",
     "text": [
      "Embedding created\n",
      "Canadian Forces Superannuation Regulations\n"
     ]
    },
    {
     "name": "stderr",
     "output_type": "stream",
     "text": [
      "Processing Files:  99%|█████████▉| 1701/1721 [1:00:54<00:40,  2.02s/it]"
     ]
    },
    {
     "name": "stdout",
     "output_type": "stream",
     "text": [
      "Embedding created\n",
      "Exemption from Deposit Insurance By-law (Interest on Deposits)\n"
     ]
    },
    {
     "name": "stderr",
     "output_type": "stream",
     "text": [
      "Processing Files:  99%|█████████▉| 1702/1721 [1:00:57<00:38,  2.02s/it]"
     ]
    },
    {
     "name": "stdout",
     "output_type": "stream",
     "text": [
      "Embedding created\n",
      "Accessible Transportation for Persons with Disabilities Regulations\n"
     ]
    },
    {
     "name": "stderr",
     "output_type": "stream",
     "text": [
      "Processing Files:  99%|█████████▉| 1703/1721 [1:00:59<00:36,  2.02s/it]"
     ]
    },
    {
     "name": "stdout",
     "output_type": "stream",
     "text": [
      "Embedding not created\n",
      "Exploitation of the Donkin Coal Block (Natural Resources) Regulations\n"
     ]
    },
    {
     "name": "stderr",
     "output_type": "stream",
     "text": [
      "Processing Files:  99%|█████████▉| 1704/1721 [1:01:00<00:33,  1.99s/it]"
     ]
    },
    {
     "name": "stdout",
     "output_type": "stream",
     "text": [
      "Embedding created\n",
      "Emergency Economic Measures Order\n"
     ]
    },
    {
     "name": "stderr",
     "output_type": "stream",
     "text": [
      "Processing Files:  99%|█████████▉| 1705/1721 [1:01:03<00:32,  2.05s/it]"
     ]
    },
    {
     "name": "stdout",
     "output_type": "stream",
     "text": [
      "Embedding created\n",
      "Goods Imported by Designated Foreign Countries, Military Service Agencies and Institutions (Tariff Item No. 9810.00.00) Regulations\n"
     ]
    },
    {
     "name": "stderr",
     "output_type": "stream",
     "text": [
      "Processing Files:  99%|█████████▉| 1706/1721 [1:01:04<00:29,  1.99s/it]"
     ]
    },
    {
     "name": "stdout",
     "output_type": "stream",
     "text": [
      "Embedding created\n",
      "British Columbia Indemnity Interest Remission Order (HST)\n"
     ]
    },
    {
     "name": "stderr",
     "output_type": "stream",
     "text": [
      "Processing Files:  99%|█████████▉| 1707/1721 [1:01:06<00:27,  1.93s/it]"
     ]
    },
    {
     "name": "stdout",
     "output_type": "stream",
     "text": [
      "Embedding created\n",
      "Hazardous Products (Pacifiers) Regulations\n"
     ]
    },
    {
     "name": "stderr",
     "output_type": "stream",
     "text": [
      "Processing Files:  99%|█████████▉| 1708/1721 [1:01:08<00:24,  1.88s/it]"
     ]
    },
    {
     "name": "stdout",
     "output_type": "stream",
     "text": [
      "Embedding created\n",
      "Domestic Bonds of Canada Regulations\n"
     ]
    },
    {
     "name": "stderr",
     "output_type": "stream",
     "text": [
      "Processing Files:  99%|█████████▉| 1709/1721 [1:01:10<00:22,  1.91s/it]"
     ]
    },
    {
     "name": "stdout",
     "output_type": "stream",
     "text": [
      "Embedding created\n",
      "Dawson Creek Airport Zoning Regulations\n"
     ]
    },
    {
     "name": "stderr",
     "output_type": "stream",
     "text": [
      "Processing Files:  99%|█████████▉| 1710/1721 [1:01:12<00:20,  1.90s/it]"
     ]
    },
    {
     "name": "stdout",
     "output_type": "stream",
     "text": [
      "Embedding created\n",
      "19th Meeting of the Parties to the Montreal Protocol Privileges and Immunities Order\n"
     ]
    },
    {
     "name": "stderr",
     "output_type": "stream",
     "text": [
      "Processing Files:  99%|█████████▉| 1711/1721 [1:01:14<00:19,  1.92s/it]"
     ]
    },
    {
     "name": "stdout",
     "output_type": "stream",
     "text": [
      "Embedding created\n",
      "Award Regulations\n"
     ]
    },
    {
     "name": "stderr",
     "output_type": "stream",
     "text": [
      "Processing Files:  99%|█████████▉| 1712/1721 [1:01:16<00:19,  2.13s/it]"
     ]
    },
    {
     "name": "stdout",
     "output_type": "stream",
     "text": [
      "Embedding created\n",
      "British Columbia Chicken Order\n"
     ]
    },
    {
     "name": "stderr",
     "output_type": "stream",
     "text": [
      "Processing Files: 100%|█████████▉| 1713/1721 [1:01:19<00:17,  2.17s/it]"
     ]
    },
    {
     "name": "stdout",
     "output_type": "stream",
     "text": [
      "Embedding created\n",
      "Beef Calf Stabilization Regulations\n"
     ]
    },
    {
     "name": "stderr",
     "output_type": "stream",
     "text": [
      "Processing Files: 100%|█████████▉| 1714/1721 [1:01:21<00:15,  2.18s/it]"
     ]
    },
    {
     "name": "stdout",
     "output_type": "stream",
     "text": [
      "Embedding created\n",
      "Canada Turkey Marketing Levies Order (2019)\n"
     ]
    },
    {
     "name": "stderr",
     "output_type": "stream",
     "text": [
      "Processing Files: 100%|█████████▉| 1715/1721 [1:01:23<00:12,  2.15s/it]"
     ]
    },
    {
     "name": "stdout",
     "output_type": "stream",
     "text": [
      "Embedding created\n",
      "Fees Paid for the Provision of Services in Relation to an Assessment from the Department of Employment and Social Development Remission Order\n"
     ]
    },
    {
     "name": "stderr",
     "output_type": "stream",
     "text": [
      "Processing Files: 100%|█████████▉| 1716/1721 [1:01:25<00:10,  2.11s/it]"
     ]
    },
    {
     "name": "stdout",
     "output_type": "stream",
     "text": [
      "Embedding created\n",
      "C.N.R. Company Exemption Order\n"
     ]
    },
    {
     "name": "stderr",
     "output_type": "stream",
     "text": [
      "Processing Files: 100%|█████████▉| 1717/1721 [1:01:28<00:08,  2.22s/it]"
     ]
    },
    {
     "name": "stdout",
     "output_type": "stream",
     "text": [
      "Embedding created\n",
      "Certain Unauthorized Payments in Respect of Travel Expenses and Other Expenses, Allowances and Benefits (Canadian Forces) Remission Order\n"
     ]
    },
    {
     "name": "stderr",
     "output_type": "stream",
     "text": [
      "Processing Files: 100%|█████████▉| 1718/1721 [1:01:29<00:06,  2.13s/it]"
     ]
    },
    {
     "name": "stdout",
     "output_type": "stream",
     "text": [
      "Embedding created\n",
      "Alberta Turkey Order\n"
     ]
    },
    {
     "name": "stderr",
     "output_type": "stream",
     "text": [
      "Processing Files: 100%|█████████▉| 1719/1721 [1:01:32<00:04,  2.19s/it]"
     ]
    },
    {
     "name": "stdout",
     "output_type": "stream",
     "text": [
      "Embedding created\n",
      "CPTPP Rules of Origin Regulations\n"
     ]
    },
    {
     "name": "stderr",
     "output_type": "stream",
     "text": [
      "Processing Files: 100%|█████████▉| 1720/1721 [1:01:34<00:02,  2.22s/it]"
     ]
    },
    {
     "name": "stdout",
     "output_type": "stream",
     "text": [
      "Embedding created\n",
      "Diversion of Imported Goods Exemption Regulations\n"
     ]
    },
    {
     "name": "stderr",
     "output_type": "stream",
     "text": [
      "Processing Files: 100%|██████████| 1721/1721 [1:01:36<00:00,  2.15s/it]"
     ]
    },
    {
     "name": "stdout",
     "output_type": "stream",
     "text": [
      "Embedding created\n"
     ]
    },
    {
     "name": "stderr",
     "output_type": "stream",
     "text": [
      "\n"
     ]
    }
   ],
   "source": [
    "import time\n",
    "from tqdm import tqdm\n",
    "from threading import Thread\n",
    "folder_path = \"Full Path to the folder\"\n",
    "\n",
    "num_files = len(os.listdir(folder_path))  # Count files for progress bar\n",
    "\n",
    "with tqdm(total=num_files, desc=\"Processing Files\") as pbar:\n",
    "    for filename in os.listdir(folder_path):\n",
    "        file_path = os.path.join(folder_path, filename)\n",
    "        with open(file_path, \"r\") as file:\n",
    "            data = json.load(file)\n",
    "            extract_data(data)\n",
    "        pbar.update(1)\n"
   ]
  },
  {
   "cell_type": "code",
   "execution_count": null,
   "id": "f441b9ad-cd41-4743-9d82-ae3710a0d3e1",
   "metadata": {},
   "outputs": [],
   "source": []
  }
 ],
 "metadata": {
  "kernelspec": {
   "display_name": "Python 3 (ipykernel)",
   "language": "python",
   "name": "python3"
  },
  "language_info": {
   "codemirror_mode": {
    "name": "ipython",
    "version": 3
   },
   "file_extension": ".py",
   "mimetype": "text/x-python",
   "name": "python",
   "nbconvert_exporter": "python",
   "pygments_lexer": "ipython3",
   "version": "3.11.7"
  }
 },
 "nbformat": 4,
 "nbformat_minor": 5
}
