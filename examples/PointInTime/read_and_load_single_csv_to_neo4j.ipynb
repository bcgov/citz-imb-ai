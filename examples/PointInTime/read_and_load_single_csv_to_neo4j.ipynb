{
 "cells": [
  {
   "cell_type": "markdown",
   "id": "ee24458d-bed1-437a-90ab-c2fcce2975cf",
   "metadata": {},
   "source": [
    "### 📘 **Description**\n",
    "\n",
    "This notebook demonstrates how to load a single annotated CSV file into a Neo4j graph database using Python and LangChain. It includes steps to:\n",
    "\n",
    "* Read the CSV into a Pandas DataFrame\n",
    "* Connect to Neo4j using environment variables\n",
    "* Create a snapshot metadata node\n",
    "* Upload each row of the CSV as a node in Neo4j using Cypher\n",
    "\n",
    "The CSV is assumed to contain legislative or regulatory text data with fields such as `act_title`, `title`, `content`, `tokens`, and other metadata.\n"
   ]
  },
  {
   "cell_type": "code",
   "execution_count": 3,
   "id": "04bb229b-5101-4f0c-80c7-f9ee43bbbb0c",
   "metadata": {},
   "outputs": [],
   "source": [
    "import os"
   ]
  },
  {
   "cell_type": "code",
   "execution_count": 4,
   "id": "0ab76bf5-c007-4204-be1d-9847bd1814f4",
   "metadata": {},
   "outputs": [
    {
     "data": {
      "text/html": [
       "<div>\n",
       "<style scoped>\n",
       "    .dataframe tbody tr th:only-of-type {\n",
       "        vertical-align: middle;\n",
       "    }\n",
       "\n",
       "    .dataframe tbody tr th {\n",
       "        vertical-align: top;\n",
       "    }\n",
       "\n",
       "    .dataframe thead th {\n",
       "        text-align: right;\n",
       "    }\n",
       "</style>\n",
       "<table border=\"1\" class=\"dataframe\">\n",
       "  <thead>\n",
       "    <tr style=\"text-align: right;\">\n",
       "      <th></th>\n",
       "      <th>act_title</th>\n",
       "      <th>reg_title</th>\n",
       "      <th>title</th>\n",
       "      <th>content</th>\n",
       "      <th>url</th>\n",
       "      <th>section_url</th>\n",
       "      <th>section_id</th>\n",
       "      <th>section_number</th>\n",
       "      <th>source_rank</th>\n",
       "      <th>timestamp</th>\n",
       "      <th>tokens</th>\n",
       "      <th>token_chunks</th>\n",
       "    </tr>\n",
       "  </thead>\n",
       "  <tbody>\n",
       "    <tr>\n",
       "      <th>0</th>\n",
       "      <td>Advanced Education Statute Repeal Act</td>\n",
       "      <td>NaN</td>\n",
       "      <td>Repeal</td>\n",
       "      <td>The Public Education Flexibility and Choice Ac...</td>\n",
       "      <td>https://www.bclaws.gov.bc.ca/civix/document/id...</td>\n",
       "      <td>d2e1021</td>\n",
       "      <td>NaN</td>\n",
       "      <td>1</td>\n",
       "      <td>0</td>\n",
       "      <td>2025-04-08T20:18:14.933593</td>\n",
       "      <td>[{'word': 'the', 'token_values': [1996]}, {'wo...</td>\n",
       "      <td>[[101, 1996, 2270, 2495, 16991, 1998, 3601, 25...</td>\n",
       "    </tr>\n",
       "    <tr>\n",
       "      <th>1</th>\n",
       "      <td>Restricting Public Consumption of Illegal Subs...</td>\n",
       "      <td>NaN</td>\n",
       "      <td>Not in force</td>\n",
       "      <td>[Not in force.]</td>\n",
       "      <td>https://www.bclaws.gov.bc.ca/civix/document/id...</td>\n",
       "      <td>d1e20</td>\n",
       "      <td>NaN</td>\n",
       "      <td>1-11</td>\n",
       "      <td>0</td>\n",
       "      <td>2025-04-08T20:18:14.935211</td>\n",
       "      <td>[{'word': '', 'token_values': []}, {'word': '[...</td>\n",
       "      <td>[[101, 1031, 2025, 1999, 2486, 1012, 1033, 102...</td>\n",
       "    </tr>\n",
       "    <tr>\n",
       "      <th>2</th>\n",
       "      <td>South Coast British Columbia Transportation Au...</td>\n",
       "      <td>NaN</td>\n",
       "      <td>Not in force</td>\n",
       "      <td>[Not in force.]</td>\n",
       "      <td>https://www.bclaws.gov.bc.ca/civix/document/id...</td>\n",
       "      <td>d1e21</td>\n",
       "      <td>NaN</td>\n",
       "      <td>1-8</td>\n",
       "      <td>0</td>\n",
       "      <td>2025-04-08T20:18:14.936212</td>\n",
       "      <td>[{'word': '', 'token_values': []}, {'word': '[...</td>\n",
       "      <td>[[101, 1031, 2025, 1999, 2486, 1012, 1033, 102...</td>\n",
       "    </tr>\n",
       "    <tr>\n",
       "      <th>3</th>\n",
       "      <td>Insurance for Crops Act</td>\n",
       "      <td>NaN</td>\n",
       "      <td>Agreements with Canada</td>\n",
       "      <td>The minister, for the government, may enter in...</td>\n",
       "      <td>https://www.bclaws.gov.bc.ca/civix/document/id...</td>\n",
       "      <td>d2e15</td>\n",
       "      <td>NaN</td>\n",
       "      <td>1</td>\n",
       "      <td>0</td>\n",
       "      <td>2025-04-08T20:18:14.936834</td>\n",
       "      <td>[{'word': 'the', 'token_values': [1996]}, {'wo...</td>\n",
       "      <td>[[101, 1996, 2704, 1010, 2005, 1996, 2231, 101...</td>\n",
       "    </tr>\n",
       "    <tr>\n",
       "      <th>4</th>\n",
       "      <td>Commercial Liens Act</td>\n",
       "      <td>NaN</td>\n",
       "      <td>Not in force</td>\n",
       "      <td>[Not in force.]</td>\n",
       "      <td>https://www.bclaws.gov.bc.ca/civix/document/id...</td>\n",
       "      <td>d1e26</td>\n",
       "      <td>NaN</td>\n",
       "      <td>1-62</td>\n",
       "      <td>0</td>\n",
       "      <td>2025-04-08T20:18:14.937473</td>\n",
       "      <td>[{'word': '', 'token_values': []}, {'word': '[...</td>\n",
       "      <td>[[101, 1031, 2025, 1999, 2486, 1012, 1033, 102...</td>\n",
       "    </tr>\n",
       "  </tbody>\n",
       "</table>\n",
       "</div>"
      ],
      "text/plain": [
       "                                           act_title reg_title  \\\n",
       "0              Advanced Education Statute Repeal Act       NaN   \n",
       "1  Restricting Public Consumption of Illegal Subs...       NaN   \n",
       "2  South Coast British Columbia Transportation Au...       NaN   \n",
       "3                            Insurance for Crops Act       NaN   \n",
       "4                               Commercial Liens Act       NaN   \n",
       "\n",
       "                    title                                            content  \\\n",
       "0                  Repeal  The Public Education Flexibility and Choice Ac...   \n",
       "1            Not in force                                    [Not in force.]   \n",
       "2            Not in force                                    [Not in force.]   \n",
       "3  Agreements with Canada  The minister, for the government, may enter in...   \n",
       "4            Not in force                                    [Not in force.]   \n",
       "\n",
       "                                                 url section_url  section_id  \\\n",
       "0  https://www.bclaws.gov.bc.ca/civix/document/id...     d2e1021         NaN   \n",
       "1  https://www.bclaws.gov.bc.ca/civix/document/id...       d1e20         NaN   \n",
       "2  https://www.bclaws.gov.bc.ca/civix/document/id...       d1e21         NaN   \n",
       "3  https://www.bclaws.gov.bc.ca/civix/document/id...       d2e15         NaN   \n",
       "4  https://www.bclaws.gov.bc.ca/civix/document/id...       d1e26         NaN   \n",
       "\n",
       "  section_number  source_rank                   timestamp  \\\n",
       "0              1            0  2025-04-08T20:18:14.933593   \n",
       "1           1-11            0  2025-04-08T20:18:14.935211   \n",
       "2            1-8            0  2025-04-08T20:18:14.936212   \n",
       "3              1            0  2025-04-08T20:18:14.936834   \n",
       "4           1-62            0  2025-04-08T20:18:14.937473   \n",
       "\n",
       "                                              tokens  \\\n",
       "0  [{'word': 'the', 'token_values': [1996]}, {'wo...   \n",
       "1  [{'word': '', 'token_values': []}, {'word': '[...   \n",
       "2  [{'word': '', 'token_values': []}, {'word': '[...   \n",
       "3  [{'word': 'the', 'token_values': [1996]}, {'wo...   \n",
       "4  [{'word': '', 'token_values': []}, {'word': '[...   \n",
       "\n",
       "                                        token_chunks  \n",
       "0  [[101, 1996, 2270, 2495, 16991, 1998, 3601, 25...  \n",
       "1  [[101, 1031, 2025, 1999, 2486, 1012, 1033, 102...  \n",
       "2  [[101, 1031, 2025, 1999, 2486, 1012, 1033, 102...  \n",
       "3  [[101, 1996, 2704, 1010, 2005, 1996, 2231, 101...  \n",
       "4  [[101, 1031, 2025, 1999, 2486, 1012, 1033, 102...  "
      ]
     },
     "execution_count": 4,
     "metadata": {},
     "output_type": "execute_result"
    }
   ],
   "source": [
    "# Step 1: Install required packages (uncomment if needed)\n",
    "# !pip install pandas neo4j\n",
    "\n",
    "# Step 2: Load CSV\n",
    "import pandas as pd\n",
    "\n",
    "csv_path = \"rank_0_batch_1000.csv\"  # Adjust this path\n",
    "df = pd.read_csv(csv_path)\n",
    "df.head()\n"
   ]
  },
  {
   "cell_type": "code",
   "execution_count": 5,
   "id": "afa075f9-bcf5-46e3-a9e2-bc6ec00de176",
   "metadata": {},
   "outputs": [
    {
     "name": "stdout",
     "output_type": "stream",
     "text": [
      "bolt://neo4j:7687\n",
      "neo4j\n"
     ]
    }
   ],
   "source": [
    "NEO4J_URI = 'bolt://' + os.getenv('NEO4J_HOST') + ':7687'\n",
    "NEO4J_USERNAME = os.getenv('NEO4J_USER')\n",
    "NEO4J_PASSWORD = os.getenv('NEO4J_PASSWORD')\n",
    "NEO4J_DATABASE = 'neo4j' #os.getenv('NEO4J_DB')\n",
    "print(NEO4J_URI)\n",
    "print(NEO4J_DATABASE)"
   ]
  },
  {
   "cell_type": "code",
   "execution_count": 6,
   "id": "2c0fc897-f560-4457-9c19-ec8cae257ddc",
   "metadata": {},
   "outputs": [],
   "source": [
    "from langchain_community.graphs import Neo4jGraph\n",
    "from langchain_community.vectorstores import Neo4jVector"
   ]
  },
  {
   "cell_type": "code",
   "execution_count": 7,
   "id": "a9608369-c357-4916-a7c5-1d433dc0d194",
   "metadata": {},
   "outputs": [
    {
     "name": "stderr",
     "output_type": "stream",
     "text": [
      "/tmp/ipykernel_19/336443517.py:1: LangChainDeprecationWarning: The class `Neo4jGraph` was deprecated in LangChain 0.3.8 and will be removed in 1.0. An updated version of the class exists in the :class:`~langchain-neo4j package and should be used instead. To use it run `pip install -U :class:`~langchain-neo4j` and import as `from :class:`~langchain_neo4j import Neo4jGraph``.\n",
      "  kg = Neo4jGraph(\n"
     ]
    }
   ],
   "source": [
    "kg = Neo4jGraph(\n",
    "    url=NEO4J_URI, username=NEO4J_USERNAME, password=NEO4J_PASSWORD, database=NEO4J_DATABASE\n",
    ")"
   ]
  },
  {
   "cell_type": "code",
   "execution_count": 44,
   "id": "c60eb8a8-0582-4544-9fa7-7fa7bf7539cb",
   "metadata": {},
   "outputs": [],
   "source": [
    "point_in_time_ts = \"consol_42\"  # Replace with actual timestamp"
   ]
  },
  {
   "cell_type": "code",
   "execution_count": 7,
   "id": "04fbeae9-e860-4a6e-b815-21076c590f1f",
   "metadata": {},
   "outputs": [
    {
     "data": {
      "text/plain": [
       "[{'p': {'timestamp': 'consol_42'}}]"
      ]
     },
     "execution_count": 7,
     "metadata": {},
     "output_type": "execute_result"
    }
   ],
   "source": [
    "kg.query(\"\"\"\n",
    "MERGE (p:PointInTime {timestamp: $timestamp})\n",
    "RETURN p\n",
    "\"\"\", params={\"timestamp\": point_in_time_ts})"
   ]
  },
  {
   "cell_type": "code",
   "execution_count": 11,
   "id": "cf7d94a4-2574-46cf-b4f1-30e998dcb6f5",
   "metadata": {},
   "outputs": [],
   "source": [
    "cypher = \"\"\"\n",
    "LOAD CSV WITH HEADERS FROM 'file:///consolidation/rank_0_batch_1000.csv' AS row\n",
    "CALL {\n",
    "  WITH row\n",
    "  MERGE (p:PointInTime {timestamp: row.timestamp})\n",
    "  CREATE (s:Section {\n",
    "    act_title: row.act_title,\n",
    "    reg_title: row.reg_title,\n",
    "    title: row.title,\n",
    "    content: row.content,\n",
    "    url: row.url,\n",
    "    section_url: row.section_url,\n",
    "    section_id: row.section_id,\n",
    "    section_number: row.section_number,\n",
    "    source_rank: toInteger(row.source_rank),\n",
    "    timestamp: row.timestamp\n",
    "  })\n",
    "  MERGE (s)-[:RECORDED_AT]->(p)\n",
    "  RETURN row.section_id AS sid\n",
    "} IN TRANSACTIONS OF 500 ROWS\n",
    "ON ERROR CONTINUE\n",
    "REPORT STATUS AS s\n",
    "WITH sid, s WHERE s.errorMessage IS NOT NULL\n",
    "RETURN sid, s\n",
    "\"\"\""
   ]
  },
  {
   "cell_type": "code",
   "execution_count": null,
   "id": "e4e190de-d05a-4ee0-8463-d608c9b522c3",
   "metadata": {},
   "outputs": [],
   "source": [
    "kg.query(cypher)"
   ]
  },
  {
   "cell_type": "code",
   "execution_count": 10,
   "id": "8a68a2aa-493a-437d-a1f1-77983dd155cf",
   "metadata": {},
   "outputs": [
    {
     "data": {
      "text/plain": [
       "1000"
      ]
     },
     "execution_count": 10,
     "metadata": {},
     "output_type": "execute_result"
    }
   ],
   "source": [
    "len(df)"
   ]
  },
  {
   "cell_type": "code",
   "execution_count": 12,
   "id": "14a754ec-a220-4acf-862c-7c9dc5e7f0e8",
   "metadata": {},
   "outputs": [],
   "source": [
    "cypher = \"\"\"\n",
    "LOAD CSV WITH HEADERS FROM 'file:///consolidation/rank_0_thread_10_embeddings.csv' AS row\n",
    "CALL (row) {\n",
    "  WITH row\n",
    "  CREATE (s:consolidation_42_act { \n",
    "  })\n",
    "  SET\n",
    "      s.title = row.title,\n",
    "      s.content = row.content,\n",
    "      s.act_title = row.act_title,\n",
    "      s.reg_title = row.reg_title,\n",
    "      s.url = row.url,\n",
    "      s.section_number = row.section_number,\n",
    "      s.source_rank = toInteger(row.source_rank),\n",
    "      s.timestamp = row.timestamp,\n",
    "      s.snapshot_id = 42,\n",
    "      s.snapshot_date = date(\"2024-12-31\"),\n",
    "      s.tokens = row.tokens,\n",
    "      s.token_chunks = row.token_chunk,\n",
    "      s.embedding = row.embedding\n",
    "} IN 1 CONCURRENT TRANSACTIONS OF 500 ROWS\n",
    "\"\"\""
   ]
  },
  {
   "cell_type": "code",
   "execution_count": 13,
   "id": "b2315287-2161-4248-b41e-749832b3efa2",
   "metadata": {},
   "outputs": [
    {
     "data": {
      "text/plain": [
       "[]"
      ]
     },
     "execution_count": 13,
     "metadata": {},
     "output_type": "execute_result"
    }
   ],
   "source": [
    "kg.query(cypher)"
   ]
  },
  {
   "cell_type": "code",
   "execution_count": null,
   "id": "ec34558a-e16f-4de0-8702-6a9b868b14e7",
   "metadata": {},
   "outputs": [],
   "source": []
  }
 ],
 "metadata": {
  "kernelspec": {
   "display_name": "Python 3 (ipykernel)",
   "language": "python",
   "name": "python3"
  },
  "language_info": {
   "codemirror_mode": {
    "name": "ipython",
    "version": 3
   },
   "file_extension": ".py",
   "mimetype": "text/x-python",
   "name": "python",
   "nbconvert_exporter": "python",
   "pygments_lexer": "ipython3",
   "version": "3.11.11"
  }
 },
 "nbformat": 4,
 "nbformat_minor": 5
}
