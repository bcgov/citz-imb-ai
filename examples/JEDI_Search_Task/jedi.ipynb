{
 "cells": [
  {
   "cell_type": "code",
   "execution_count": 3,
   "metadata": {},
   "outputs": [
    {
     "name": "stdout",
     "output_type": "stream",
     "text": [
      "Requirement already satisfied: boto3 in /usr/local/lib/python3.11/site-packages (1.38.24)\n",
      "Requirement already satisfied: botocore<1.39.0,>=1.38.24 in /usr/local/lib/python3.11/site-packages (from boto3) (1.38.24)\n",
      "Requirement already satisfied: jmespath<2.0.0,>=0.7.1 in /usr/local/lib/python3.11/site-packages (from boto3) (1.0.1)\n",
      "Requirement already satisfied: s3transfer<0.14.0,>=0.13.0 in /usr/local/lib/python3.11/site-packages (from boto3) (0.13.0)\n",
      "Requirement already satisfied: python-dateutil<3.0.0,>=2.1 in /usr/local/lib/python3.11/site-packages (from botocore<1.39.0,>=1.38.24->boto3) (2.9.0.post0)\n",
      "Requirement already satisfied: urllib3!=2.2.0,<3,>=1.25.4 in /usr/local/lib/python3.11/site-packages (from botocore<1.39.0,>=1.38.24->boto3) (2.3.0)\n",
      "Requirement already satisfied: six>=1.5 in /usr/local/lib/python3.11/site-packages (from python-dateutil<3.0.0,>=2.1->botocore<1.39.0,>=1.38.24->boto3) (1.17.0)\n",
      "\u001b[33mWARNING: Running pip as the 'root' user can result in broken permissions and conflicting behaviour with the system package manager, possibly rendering your system unusable. It is recommended to use a virtual environment instead: https://pip.pypa.io/warnings/venv. Use the --root-user-action option if you know what you are doing and want to suppress this warning.\u001b[0m\u001b[33m\n",
      "\u001b[0m\n",
      "\u001b[1m[\u001b[0m\u001b[34;49mnotice\u001b[0m\u001b[1;39;49m]\u001b[0m\u001b[39;49m A new release of pip is available: \u001b[0m\u001b[31;49m25.0.1\u001b[0m\u001b[39;49m -> \u001b[0m\u001b[32;49m25.1.1\u001b[0m\n",
      "\u001b[1m[\u001b[0m\u001b[34;49mnotice\u001b[0m\u001b[1;39;49m]\u001b[0m\u001b[39;49m To update, run: \u001b[0m\u001b[32;49mpip install --upgrade pip\u001b[0m\n",
      "Note: you may need to restart the kernel to use updated packages.\n"
     ]
    }
   ],
   "source": [
    "%pip install boto3"
   ]
  },
  {
   "cell_type": "code",
   "execution_count": 4,
   "metadata": {},
   "outputs": [],
   "source": [
    "# Generate Terms Related to Query\n",
    "question = \"Identify all British Columbia regulations that contain clauses that specify how the regulation applies to goods or services originating outside the province\""
   ]
  },
  {
   "cell_type": "code",
   "execution_count": 1,
   "metadata": {},
   "outputs": [
    {
     "name": "stdout",
     "output_type": "stream",
     "text": [
      "14055 nodes found\n"
     ]
    }
   ],
   "source": [
    "# Get nodes with text that match the above terms.\n",
    "from JEDI_Search_Task.Neo4jRetrieval import Neo4jRetrieval\n",
    "\n",
    "NEO4J_URI = \"bolt://\" + \"neo4j:7687\" \n",
    "NEO4J_USERNAME = \"admin\"  \n",
    "NEO4J_PASSWORD = \"admin\" \n",
    "\n",
    "# TODO: Remove this and replace with terms from previous step\n",
    "terms = [\"trade\", \"provincial law\", \"commerce\", \"regulation\", \"market\"]\n",
    "\n",
    "neo4j_worker = Neo4jRetrieval(NEO4J_URI, NEO4J_USERNAME, NEO4J_PASSWORD)\n",
    "nodes = neo4j_worker.search_many(terms)\n",
    "print(len(nodes), \"nodes found\")\n",
    "neo4j_worker.close()"
   ]
  },
  {
   "cell_type": "code",
   "execution_count": 5,
   "metadata": {},
   "outputs": [],
   "source": [
    "import os\n",
    "from JEDI_Search_Task.BedrockQuery import BedrockQuery\n",
    "\n",
    "# Replace this with updated keys if necessary\n",
    "AWS_ACCESS_KEY_ID = os.getenv(\"AWS_ACCESS_KEY_ID\")\n",
    "AWS_SECRET_ACCESS_KEY =  os.getenv(\"AWS_SECRET_ACCESS_KEY\")\n",
    "bedrock = BedrockQuery(AWS_ACCESS_KEY_ID, AWS_SECRET_ACCESS_KEY)"
   ]
  },
  {
   "cell_type": "code",
   "execution_count": 2,
   "metadata": {},
   "outputs": [
    {
     "name": "stdout",
     "output_type": "stream",
     "text": [
      "14055 related nodes found\n"
     ]
    }
   ],
   "source": [
    "import json\n",
    "from concurrent.futures import ThreadPoolExecutor\n",
    "\n",
    "\n",
    "def create_prompt(question, node):\n",
    "  return f\"\"\"\n",
    "    Your task is to determine if the following object is related to the question: \"{question}\".\n",
    "\n",
    "    Object: {node}\n",
    "\n",
    "    If the object is related, \"1\". If it is not related, \"0\".\n",
    "    Do not return any explanation, just the number.\n",
    "\n",
    "    For example:\n",
    "    Question: \"What is the capital of France?\"\n",
    "    Object: {{ \"text\": \"Paris is the capital of France.\" }}\n",
    "    Response: 1\n",
    "    \"\"\"\n",
    "\n",
    "# Filter out nodes that are not related to the query using LLM.\n",
    "# For each node, decide if it is related to the query.\n",
    "related_nodes = []\n",
    "\n",
    "def add_or_dispose(node):\n",
    "     # Use an LLM to determine if the node is relevant.\n",
    "    prompt = create_prompt(question, node)\n",
    "    bedrock_response = bedrock.get_response(prompt)\n",
    "    try:\n",
    "        if int(bedrock_response.strip()):\n",
    "            related_nodes.append(node)\n",
    "            print(\"good\",node.get(\"text\"))\n",
    "        else:\n",
    "            print(\"bad\", node.get(\"text\"))\n",
    "    except:\n",
    "        pass\n",
    "    \n",
    "with ThreadPoolExecutor(4) as executor:\n",
    "  executor.map(add_or_dispose, nodes)\n",
    "   \n",
    "print(len(related_nodes), \"related nodes found\")\n",
    "# Save the related nodes to a file.\n",
    "with open(\"related_nodes.jsonl\", \"w\") as f:\n",
    "    for node in related_nodes:\n",
    "        f.write(json.dumps(node) + \"\\n\")"
   ]
  },
  {
   "cell_type": "code",
   "execution_count": 6,
   "metadata": {},
   "outputs": [
    {
     "name": "stdout",
     "output_type": "stream",
     "text": [
      "Report generated:\n",
      "Here's the table outlining the documents and sections found, formatted in Markdown:\n",
      "\n",
      "| Document | Section Number |\n",
      "|----------|----------------|\n",
      "| Clean Energy Act | 2 |\n",
      "| Clean Energy Act | 28 |\n",
      "| Clean Energy Act | 29 |\n",
      "| Coastal Ferry Act | 5 |\n",
      "| Coastal Ferry Act | 6 |\n",
      "| Coastal Ferry Act | 7 |\n",
      "| Coastal Ferry Act | 11 |\n",
      "| Coastal Ferry Act | 26 |\n",
      "| Adult Guardianship Act | 46 |\n",
      "| An Act to Incorporate the Greater Vancouver Sewerage and Drainage District | 7B |\n",
      "| Animal Health Act | 1 |\n",
      "| Animal Health Act | 59 |\n",
      "| Animal Health Act | 93 |\n",
      "| BC-Alcan Northern Development Fund Act | 7 |\n",
      "| British Columbia Railway Act | 6 |\n",
      "| British Columbia Transit Act | 6 |\n",
      "| Business Corporations Act | 1 |\n",
      "| Business Corporations Act | 184 |\n",
      "| Business Practices and Consumer Protection Act | 19 |\n",
      "| Business Practices and Consumer Protection Act | 21 |\n",
      "| Business Practices and Consumer Protection Act | 142.1 |\n",
      "| Business Practices and Consumer Protection Act | 209 |\n",
      "| College and Institute Act | 1 |\n",
      "| College and Institute Act | 40 |\n",
      "| College and Institute Act | 47 |\n",
      "| College and Institute Act | 48 |\n",
      "| College and Institute Act | 49 |\n",
      "| Community Charter | 61 |\n",
      "| Community Services Labour Relations Act | 1 |\n",
      "| Community Services Labour Relations Act | 2 |\n",
      "| Community Services Labour Relations Act | 4 |\n",
      "| Coroners Act | 21 |\n",
      "| Court Jurisdiction and Proceedings Transfer Act | 10 |\n",
      "| Court Order Enforcement Act | 71 |\n",
      "| Credit Union Incorporation Act | 88 |\n",
      "| Emergency Communications Corporations Act | 11 |\n",
      "| Emergency Health Services Act | 5.6 |\n",
      "| Emergency and Disaster Management Act | 157 |\n",
      "| Employee Investment Act | 1 |\n",
      "| Employment Standards Act | 1 |\n",
      "| Employment Standards Act | 22 |\n",
      "| Employment Standards Act | 64 |\n",
      "| Employment Standards Act | 67 |\n",
      "| Employment Standards Act | 95 |\n",
      "| Enforcement of Canadian Judgments and Decrees Act | 1 |\n",
      "| Enforcement of Canadian Judgments and Decrees Act | 1.1 |\n",
      "| Enforcement of Canadian Judgments and Decrees Act | 4 |\n",
      "| Enforcement of Canadian Judgments and Decrees Act | 5 |\n",
      "| Enforcement of Canadian Judgments and Decrees Act | 6 |\n",
      "| Enforcement of Canadian Judgments and Decrees Act | 7 |\n",
      "| Environmental Management Act | 14 |\n",
      "| Environmental Management Act | 21 |\n",
      "| Environmental Management Act | 22 |\n",
      "| Environmental Management Act | 26 |\n",
      "| Environmental Management Act | 31 |\n",
      "| Environmental Management Act | 32 |\n",
      "| Environmental Management Act | 77 |\n",
      "| Environmental Management Act | 91.11 |\n",
      "| Environmental Management Act | 91.31 |\n",
      "| Environmental Management Act | 131 |\n",
      "| Environmental Management Act | 138 |\n",
      "| Evidence Act | 63 |\n",
      "| Financial Disclosure Act | 1 |\n",
      "| Financial Institutions Act | 245 |\n",
      "| Fire Services Act | 1 |\n",
      "| Fire Services Act | 47 |\n",
      "| Fire and Police Services Collective Bargaining Act | 1 |\n",
      "| Fire and Police Services Collective Bargaining Act | 3 |\n",
      "| Firearm Act | 2 |\n",
      "| Fishing Collective Bargaining Act | 1 |\n",
      "| Fishing Collective Bargaining Act | 4 |\n"
     ]
    }
   ],
   "source": [
    "# Generate report with the remaining information.\n",
    "# Load nodes from file\n",
    "with open(\"related_nodes.jsonl\", \"r\") as f:\n",
    "    related_nodes = [json.loads(line) for line in f]\n",
    "    related_nodes = related_nodes[:100]  # Limit to the first 100 nodes for brevity TODO: Remove limit\n",
    "    formatted_nodes = [{\"document\": node.get(\"regId\") or node.get(\"actId\"), \"section_number\": node.get(\"sectionNumber\")} for node in related_nodes]\n",
    "    # Create a report with the remaining information.\n",
    "    prompt = f\"\"\"\n",
    "    You are a report generator. You take a list of document titles and section numbers and generate a table to outline them all.\n",
    "\n",
    "    Given this list of nodes, generate a table that outlines the documents and sections found.\n",
    "    The table should have two columns: Document and Section Number.\n",
    "    The Document column should contain the document title, and the Section Number column should contain the section number.\n",
    "    Do not repeat the same combination of document and section number.\n",
    "    The table should be formatted in Markdown.\n",
    "    Here is the list of nodes:\n",
    "    {json.dumps(formatted_nodes, indent=2)}\n",
    "    \"\"\"\n",
    "    bedrock_response = bedrock.get_response(prompt)\n",
    "    print(\"Report generated:\")\n",
    "    print(bedrock_response.strip())\n"
   ]
  },
  {
   "cell_type": "code",
   "execution_count": null,
   "metadata": {},
   "outputs": [],
   "source": []
  }
 ],
 "metadata": {
  "kernelspec": {
   "display_name": "Python 3 (ipykernel)",
   "language": "python",
   "name": "python3"
  },
  "language_info": {
   "codemirror_mode": {
    "name": "ipython",
    "version": 3
   },
   "file_extension": ".py",
   "mimetype": "text/x-python",
   "name": "python",
   "nbconvert_exporter": "python",
   "pygments_lexer": "ipython3",
   "version": "3.11.11"
  }
 },
 "nbformat": 4,
 "nbformat_minor": 2
}
