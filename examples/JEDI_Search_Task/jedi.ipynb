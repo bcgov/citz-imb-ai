{
 "cells": [
  {
   "cell_type": "code",
   "execution_count": null,
   "metadata": {},
   "outputs": [],
   "source": [
    "# Generate Terms Related to Query"
   ]
  },
  {
   "cell_type": "code",
   "execution_count": 3,
   "metadata": {},
   "outputs": [
    {
     "name": "stdout",
     "output_type": "stream",
     "text": [
      "14055 nodes found\n"
     ]
    }
   ],
   "source": [
    "# Get nodes with text that match the above terms.\n",
    "from JEDI_Search_Task.Neo4jRetrieval import Neo4jRetrieval\n",
    "\n",
    "NEO4J_URI = \"bolt://\" + \"neo4j:7687\" \n",
    "NEO4J_USERNAME = \"admin\"  \n",
    "NEO4J_PASSWORD = \"admin\" \n",
    "\n",
    "# TODO: Remove this and replace with terms from previous step\n",
    "terms = [\"trade\", \"provincial law\", \"commerce\", \"regulation\", \"market\"]\n",
    "\n",
    "neo4j_worker = Neo4jRetrieval(NEO4J_URI, NEO4J_USERNAME, NEO4J_PASSWORD)\n",
    "nodes = neo4j_worker.search_many(terms)\n",
    "print(len(nodes), \"nodes found\")\n",
    "neo4j_worker.close()"
   ]
  },
  {
   "cell_type": "code",
   "execution_count": 2,
   "metadata": {},
   "outputs": [],
   "source": [
    "# Filter out nodes that are not related to the query using LLM."
   ]
  },
  {
   "cell_type": "code",
   "execution_count": null,
   "metadata": {},
   "outputs": [],
   "source": [
    "# Generate report with the remaining information."
   ]
  }
 ],
 "metadata": {
  "kernelspec": {
   "display_name": "Python 3 (ipykernel)",
   "language": "python",
   "name": "python3"
  },
  "language_info": {
   "codemirror_mode": {
    "name": "ipython",
    "version": 3
   },
   "file_extension": ".py",
   "mimetype": "text/x-python",
   "name": "python",
   "nbconvert_exporter": "python",
   "pygments_lexer": "ipython3",
   "version": "3.11.11"
  }
 },
 "nbformat": 4,
 "nbformat_minor": 2
}
