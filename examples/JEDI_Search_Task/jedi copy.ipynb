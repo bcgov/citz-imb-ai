{
 "cells": [
  {
   "cell_type": "markdown",
   "metadata": {},
   "source": [
    "#### 1. Setup and Configuration"
   ]
  },
  {
   "cell_type": "code",
   "execution_count": null,
   "metadata": {},
   "outputs": [],
   "source": [
    "%pip install boto3\n",
    "\n",
    "import os\n",
    "import json\n",
    "from concurrent.futures import ThreadPoolExecutor\n",
    "from JEDI_Search_Task.Neo4jRetrieval import Neo4jRetrieval\n",
    "from JEDI_Search_Task.BedrockQuery import BedrockQuery\n",
    "\n",
    "# Define the search question\n",
    "question = \"Identify all British Columbia regulations that contain clauses that specify how the regulation applies to goods or services originating outside the province\"\n",
    "\n",
    "# Neo4j Configuration\n",
    "NEO4J_URI = \"bolt://neo4j:7687\"\n",
    "NEO4J_USERNAME = \"admin\"\n",
    "NEO4J_PASSWORD = \"admin\"\n",
    "\n",
    "# AWS Bedrock Configuration\n",
    "AWS_ACCESS_KEY_ID = os.getenv(\"AWS_ACCESS_KEY_ID\")\n",
    "AWS_SECRET_ACCESS_KEY = os.getenv(\"AWS_SECRET_ACCESS_KEY\")\n",
    "bedrock = BedrockQuery(AWS_ACCESS_KEY_ID, AWS_SECRET_ACCESS_KEY)"
   ]
  },
  {
   "cell_type": "markdown",
   "metadata": {},
   "source": [
    "#### 2. Generate Initial Terms from User Query"
   ]
  },
  {
   "cell_type": "code",
   "execution_count": null,
   "metadata": {},
   "outputs": [],
   "source": [
    "def generate_initial_terms(query):\n",
    "    prompt = f\"\"\"\n",
    "    Given the following legal search query, generate a list of 8-12 relevant search terms that would help identify regulations with clauses about goods/services from outside the province.\n",
    "    \n",
    "    Query: \"{query}\"\n",
    "    \n",
    "    Focus on terms related to:\n",
    "    - Jurisdictional scope and territorial application\n",
    "    - Cross-border commerce and trade\n",
    "    - Provincial regulatory authority\n",
    "    - Goods and services classification\n",
    "    \n",
    "    Return the terms as a Python list format only, no explanations.\n",
    "    Example format: [\"term1\", \"term2\", \"term3\"]\n",
    "    \"\"\"\n",
    "    \n",
    "    response = bedrock.get_response(prompt)\n",
    "    try:\n",
    "        import ast\n",
    "        terms = ast.literal_eval(response.strip())\n",
    "        return terms\n",
    "    except:\n",
    "        return [\"interprovincial\", \"extraprovincial\", \"out-of-province\", \"territorial\", \"jurisdiction\"]\n",
    "\n",
    "initial_terms = generate_initial_terms(question)\n",
    "print(\"Initial terms:\", initial_terms)"
   ]
  },
  {
   "cell_type": "markdown",
   "metadata": {},
   "source": [
    "#### 3. Refine and Expand Terms"
   ]
  },
  {
   "cell_type": "code",
   "execution_count": null,
   "metadata": {},
   "outputs": [],
   "source": [
    "def refine_terms(initial_terms):\n",
    "    refined_terms = []\n",
    "    \n",
    "    for term in initial_terms:\n",
    "        expand_prompt = f\"\"\"\n",
    "        Given the search term \"{term}\" in the context of British Columbia regulations about goods/services from outside the province, generate 2-3 closely related legal terms or synonyms.\n",
    "        \n",
    "        Focus on:\n",
    "        - Legal terminology variations\n",
    "        - Regulatory language alternatives\n",
    "        - Jurisdictional concepts\n",
    "        \n",
    "        Return the terms as a Python list format only, no explanations.\n",
    "        Example format: [\"term1\", \"term2\", \"term3\"]\n",
    "        \"\"\"\n",
    "        \n",
    "        response = bedrock.get_response(expand_prompt)\n",
    "        try:\n",
    "            new_terms = [term.strip().strip('\"').strip(\"'\") for term in response.split(\",\")]\n",
    "            refined_terms.extend(new_terms)\n",
    "        except:\n",
    "            refined_terms.append(term)\n",
    "    \n",
    "    # Remove duplicates and combine with original terms\n",
    "    all_terms = list(set(initial_terms + refined_terms))\n",
    "    return all_terms\n",
    "\n",
    "refined_terms = refine_terms(initial_terms)\n",
    "print(\"Refined terms:\", refined_terms)\n",
    "print(f\"Total terms: {len(refined_terms)}\")"
   ]
  },
  {
   "cell_type": "markdown",
   "metadata": {},
   "source": [
    "#### 4. Search Neo4j Database for Matching Nodes"
   ]
  },
  {
   "cell_type": "code",
   "execution_count": null,
   "metadata": {},
   "outputs": [],
   "source": [
    "# Use the generated terms for searching\n",
    "terms = refined_terms\n",
    "\n",
    "neo4j_worker = Neo4jRetrieval(NEO4J_URI, NEO4J_USERNAME, NEO4J_PASSWORD)\n",
    "nodes = neo4j_worker.search_many(terms)\n",
    "print(f\"{len(nodes)} nodes found using generated terms\")\n",
    "neo4j_worker.close()"
   ]
  },
  {
   "cell_type": "markdown",
   "metadata": {},
   "source": [
    "#### 5. Define Relevance Assessment Function"
   ]
  },
  {
   "cell_type": "code",
   "execution_count": null,
   "metadata": {},
   "outputs": [],
   "source": [
    "def create_prompt(question, node):\n",
    "    prompt = f\"\"\"\n",
    "    Question: {question}\n",
    "    \n",
    "    Text: {node.get('text', '')}\n",
    "    \n",
    "    Does this text contain information relevant to the question? \n",
    "    Specifically, does it describe how regulations apply to goods or services from outside British Columbia?\n",
    "    \n",
    "    Respond with only 1 for yes or 0 for no.\n",
    "    \"\"\"\n",
    "    return prompt"
   ]
  },
  {
   "cell_type": "markdown",
   "metadata": {},
   "source": [
    "#### 6. Filter Nodes for Relevance Using LLM"
   ]
  },
  {
   "cell_type": "code",
   "execution_count": null,
   "metadata": {},
   "outputs": [],
   "source": [
    "related_nodes = []\n",
    "\n",
    "def add_or_dispose(node):\n",
    "    # Use LLM to determine if the node is relevant\n",
    "    prompt = create_prompt(question, node)\n",
    "    bedrock_response = bedrock.get_response(prompt)\n",
    "    try:\n",
    "        if int(bedrock_response.strip()):\n",
    "            related_nodes.append(node)\n",
    "            print(\"Relevant:\", node.get(\"text\")[:100] + \"...\")\n",
    "        else:\n",
    "            print(\"Not relevant:\", node.get(\"text\")[:50] + \"...\")\n",
    "    except:\n",
    "        pass\n",
    "\n",
    "# Process nodes in parallel\n",
    "with ThreadPoolExecutor(4) as executor:\n",
    "    executor.map(add_or_dispose, nodes)\n",
    "   \n",
    "print(f\"{len(related_nodes)} relevant nodes found\")"
   ]
  },
  {
   "cell_type": "markdown",
   "metadata": {},
   "source": [
    "#### 7. Save Relevant Nodes to File"
   ]
  },
  {
   "cell_type": "code",
   "execution_count": null,
   "metadata": {},
   "outputs": [],
   "source": [
    "# Save the related nodes for later use\n",
    "with open(\"related_nodes.jsonl\", \"w\") as f:\n",
    "    for node in related_nodes:\n",
    "        f.write(json.dumps(node) + \"\\n\")\n",
    "\n",
    "print(\"Relevant nodes saved to related_nodes.jsonl\")"
   ]
  },
  {
   "cell_type": "markdown",
   "metadata": {},
   "source": [
    "#### 8. Generate Final Report"
   ]
  },
  {
   "cell_type": "code",
   "execution_count": null,
   "metadata": {},
   "outputs": [],
   "source": [
    "# Load nodes from file (if needed)\n",
    "with open(\"related_nodes.jsonl\", \"r\") as f:\n",
    "    related_nodes = [json.loads(line) for line in f]\n",
    "    related_nodes = related_nodes[:100]  # Limit for demonstration\n",
    "    \n",
    "    formatted_nodes = [{\n",
    "        \"document\": node.get(\"regId\") or node.get(\"actId\"), \n",
    "        \"section_number\": node.get(\"sectionNumber\")\n",
    "    } for node in related_nodes]\n",
    "    \n",
    "    # Generate report table\n",
    "    prompt = f\"\"\"\n",
    "    You are a report generator. Generate a table outlining BC regulations with clauses about out-of-province goods/services.\n",
    "    \n",
    "    Create a Markdown table with two columns: Document and Section Number.\n",
    "    Do not repeat the same combination of document and section number.\n",
    "    \n",
    "    Here is the data:\n",
    "    {json.dumps(formatted_nodes, indent=2)}\n",
    "    \"\"\"\n",
    "    \n",
    "    bedrock_response = bedrock.get_response(prompt)\n",
    "    print(\"Final Report:\")\n",
    "    print(\"=\" * 50)\n",
    "    print(bedrock_response.strip())"
   ]
  }
 ],
 "metadata": {
  "kernelspec": {
   "display_name": "Python 3",
   "language": "python",
   "name": "python3"
  },
  "language_info": {
   "codemirror_mode": {
    "name": "ipython",
    "version": 3
   },
   "file_extension": ".py",
   "mimetype": "text/x-python",
   "name": "python",
   "nbconvert_exporter": "python",
   "pygments_lexer": "ipython3",
   "version": "3.13.1"
  }
 },
 "nbformat": 4,
 "nbformat_minor": 2
}
