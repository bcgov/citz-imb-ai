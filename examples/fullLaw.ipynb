{
 "cells": [
  {
   "cell_type": "code",
   "execution_count": null,
   "id": "4103da2e-c12a-45a6-89f4-65665bb24559",
   "metadata": {},
   "outputs": [],
   "source": [
    "%pip install langchainhub \n",
    "%pip isntall bs4\n",
    "%pip install openllm\n",
    "%pip install trulens-eval==0.25.1\n",
    "%pip install accelerator\n",
    "%pip install litellm\n",
    "%pip install \"ipython>=8.12.0\" \"ipywidgets>=8.0.6\"\n",
    "%pip install \"ipython\"\n",
    "%pip install unstructured    "
   ]
  },
  {
   "cell_type": "code",
   "execution_count": null,
   "id": "c50b8ea2-80be-4396-952c-6c2ca2d4d4cb",
   "metadata": {},
   "outputs": [],
   "source": [
    "#Do the migration\n",
    "import os\n",
    "from langchain_community.embeddings import HuggingFaceEmbeddings\n",
    "\n",
    "from langchain.docstore.document import Document\n",
    "from langchain_community.document_loaders import TextLoader\n",
    "from langchain_community.vectorstores.pgvector import PGVector\n",
    "from langchain_text_splitters import CharacterTextSplitter\n",
    "from langchain_community.document_loaders import DirectoryLoader\n",
    "from llama_index.core import SimpleDirectoryReader, StorageContext\n",
    "from sqlalchemy import make_url\n",
    "from llama_index.core import SimpleDirectoryReader, StorageContext\n",
    "from llama_index.core import VectorStoreIndex\n",
    "from llama_index.vector_stores.postgres import PGVectorStore\n",
    "from llama_index.core import Settings"
   ]
  },
  {
   "cell_type": "code",
   "execution_count": null,
   "id": "e536eae0-66da-4169-9b69-bb4338ec7164",
   "metadata": {},
   "outputs": [],
   "source": [
    "POSTGRES_USER = os.getenv('POSTGRES_USER')\n",
    "POSTGRES_PASSWORD = os.getenv('POSTGRES_PASSWORD')\n",
    "POSTGRES_DB = os.getenv('POSTGRES_DB')\n",
    "POSTGRES_PORT = os.getenv('POSTGRES_PORT')\n",
    "POSTGRES_HOST = os.getenv('POSTGRES_HOST')\n",
    "\n",
    "\n",
    "CONNECTION_STRING = f'postgresql+psycopg2://{POSTGRES_USER}:{POSTGRES_PASSWORD}@{POSTGRES_HOST}:{POSTGRES_PORT}/{POSTGRES_DB}'"
   ]
  },
  {
   "cell_type": "code",
   "execution_count": null,
   "id": "92630bfa-9ca7-433e-9364-49a88068a0d9",
   "metadata": {},
   "outputs": [],
   "source": [
    "##################### EXAMPLE EMBEDDINGS ############################\n",
    "embeddings = HuggingFaceEmbeddings(model_name=\"all-MiniLM-L6-v2\")\n",
    "text = \"This is a test document.\"\n",
    "query_result = embeddings.embed_query(text)\n",
    "doc_result = embeddings.embed_documents([text, \"This is not a test document.\"])"
   ]
  },
  {
   "cell_type": "code",
   "execution_count": null,
   "id": "feed5729-b637-4c04-880f-6647c46cd816",
   "metadata": {},
   "outputs": [],
   "source": [
    "documents = SimpleDirectoryReader(\"./Acts\").load_data()"
   ]
  },
  {
   "cell_type": "code",
   "execution_count": null,
   "id": "55cc9856-a4fb-49d4-9b5e-c491a815692d",
   "metadata": {},
   "outputs": [],
   "source": [
    "print((len(documents)))"
   ]
  },
  {
   "cell_type": "code",
   "execution_count": null,
   "id": "972f3888-79a0-4a9c-9c07-388f7c1fe804",
   "metadata": {},
   "outputs": [],
   "source": [
    "#loader = DirectoryLoader(\"./Acts\")\n",
    "#documents = loader.load()"
   ]
  },
  {
   "cell_type": "code",
   "execution_count": null,
   "id": "5c95569b-09e6-4e8b-b320-25a1acd467e5",
   "metadata": {},
   "outputs": [],
   "source": [
    "url = make_url(CONNECTION_STRING)\n",
    "Settings.embed_model = HuggingFaceEmbeddings(model_name=\"all-MiniLM-L6-v2\")"
   ]
  },
  {
   "cell_type": "code",
   "execution_count": null,
   "id": "9d84de0b-5fcd-476f-a219-ead7e4d10f5d",
   "metadata": {},
   "outputs": [],
   "source": [
    "vector_store = PGVectorStore.from_params(\n",
    "    database=POSTGRES_DB,\n",
    "    host=url.host,\n",
    "    password=url.password,\n",
    "    port=url.port,\n",
    "    user=url.username,\n",
    "    table_name=\"Acts\",\n",
    "    embed_dim=384,  # openai embedding dimension\n",
    ")"
   ]
  },
  {
   "cell_type": "code",
   "execution_count": null,
   "id": "cb6aa198-02ef-4d41-86be-88be6414393f",
   "metadata": {},
   "outputs": [],
   "source": [
    "from llama_index.core.node_parser import SentenceSplitter"
   ]
  },
  {
   "cell_type": "code",
   "execution_count": null,
   "id": "d4b21387-5814-45a9-a3e9-0d6c9a306da0",
   "metadata": {},
   "outputs": [],
   "source": [
    "text_parser = SentenceSplitter(\n",
    "    chunk_size=512,\n",
    "    # separator=\" \",\n",
    ")"
   ]
  },
  {
   "cell_type": "code",
   "execution_count": null,
   "id": "555228cc-2a8a-470f-8e08-fb43596402b5",
   "metadata": {},
   "outputs": [],
   "source": [
    "text_chunks = []\n",
    "# maintain relationship with source doc index, to help inject doc metadata in (3)\n",
    "doc_idxs = []\n",
    "for doc_idx, doc in enumerate(documents):\n",
    "    cur_text_chunks = text_parser.split_text(doc.text)\n",
    "    text_chunks.extend(cur_text_chunks)\n",
    "    doc_idxs.extend([doc_idx] * len(cur_text_chunks))"
   ]
  },
  {
   "cell_type": "code",
   "execution_count": null,
   "id": "e10a210c-7b19-400b-bda4-981619591cba",
   "metadata": {},
   "outputs": [],
   "source": [
    "print(len(doc_idxs))"
   ]
  },
  {
   "cell_type": "code",
   "execution_count": null,
   "id": "575027bc-4f98-481e-aac4-dde2195f5034",
   "metadata": {},
   "outputs": [],
   "source": [
    "from llama_index.core.schema import TextNode\n",
    "nodes = []\n",
    "for idx, text_chunk in enumerate(text_chunks):\n",
    "    node = TextNode(\n",
    "        text=text_chunk,\n",
    "    )\n",
    "    src_doc = documents[doc_idxs[idx]]\n",
    "    node.metadata = src_doc.metadata\n",
    "    nodes.append(node)"
   ]
  },
  {
   "cell_type": "code",
   "execution_count": null,
   "id": "2f094fcf-f90e-421f-bf88-71474c980488",
   "metadata": {},
   "outputs": [],
   "source": [
    "for node in nodes:\n",
    "    node_embedding = Settings.embed_model.get_text_embedding(\n",
    "        node.get_content(metadata_mode=\"all\")\n",
    "    )\n",
    "    node.embedding = node_embedding"
   ]
  },
  {
   "cell_type": "code",
   "execution_count": null,
   "id": "55281ed4-ca25-4c6e-b31b-43ecf2f7ed50",
   "metadata": {},
   "outputs": [],
   "source": [
    "vector_store.add(nodes)"
   ]
  },
  {
   "cell_type": "code",
   "execution_count": null,
   "id": "4fb02871-7a2d-4fd3-8edb-f0b75db9c10a",
   "metadata": {},
   "outputs": [],
   "source": [
    "query_str = \"I've been served with an eviction notice by my landlord. How much notice are they required to give me under the law?\""
   ]
  },
  {
   "cell_type": "code",
   "execution_count": null,
   "id": "14ff55de-bcb6-490d-a46a-0b2684b113d4",
   "metadata": {},
   "outputs": [],
   "source": [
    "query_embedding = Settings.embed_model.get_query_embedding(query_str)"
   ]
  },
  {
   "cell_type": "code",
   "execution_count": null,
   "id": "6a3870ff-66e2-4850-b493-e1a9ce37bf17",
   "metadata": {},
   "outputs": [],
   "source": [
    "# construct vector store query\n",
    "from llama_index.core.vector_stores import VectorStoreQuery\n",
    "\n",
    "query_mode = \"default\"\n",
    "# query_mode = \"sparse\"\n",
    "# query_mode = \"hybrid\"\n",
    "\n",
    "vector_store_query = VectorStoreQuery(\n",
    "    query_embedding=query_embedding, similarity_top_k=2, mode=query_mode\n",
    ")"
   ]
  },
  {
   "cell_type": "code",
   "execution_count": null,
   "id": "36917a53-80b9-4e97-b2f1-de5fcb1ecad8",
   "metadata": {},
   "outputs": [],
   "source": [
    "# returns a VectorStoreQueryResult\n",
    "query_result = vector_store.query(vector_store_query)\n",
    "print(query_result.nodes[0].get_content())"
   ]
  },
  {
   "cell_type": "code",
   "execution_count": null,
   "id": "3dd1f3fd-0925-438a-bdd2-226b4c39d2a2",
   "metadata": {},
   "outputs": [],
   "source": [
    "def retrieval(query_str):\n",
    "    query_embedding = Settings.embed_model.get_query_embedding(query_str)\n",
    "    query_mode = \"default\"\n",
    "    # query_mode = \"sparse\"\n",
    "    # query_mode = \"hybrid\"\n",
    "    \n",
    "    vector_store_query = VectorStoreQuery(\n",
    "        query_embedding=query_embedding, similarity_top_k=2, mode=query_mode\n",
    "    )\n",
    "    query_result = vector_store.query(vector_store_query)\n",
    "    #print(query_result.nodes[0].get_content())\n",
    "    return query_result.nodes[0].get_content()\n"
   ]
  },
  {
   "cell_type": "code",
   "execution_count": null,
   "id": "3e664b1c-9953-47bf-8731-0dc0d28ae112",
   "metadata": {},
   "outputs": [],
   "source": [
    "from trulens_eval import Tru\n",
    "from trulens_eval.tru_custom_app import instrument\n",
    "TRULENS_USER = os.getenv('TRULENS_USER')\n",
    "TRULENS_PASSWORD = os.getenv('TRULENS_PASSWORD')\n",
    "TRULENS_DB = os.getenv('TRULENS_DB')\n",
    "TRULENS_PORT = os.getenv('TRULENS_PORT')\n",
    "TRULENS_HOST = os.getenv('TRULENS_HOST')\n",
    "\n",
    "TRULENS_CONNECTION_STRING = f'postgresql+psycopg2://{TRULENS_USER}:{TRULENS_PASSWORD}@{TRULENS_HOST}:{TRULENS_PORT}/{TRULENS_DB}'\n",
    "tru = Tru(database_url=TRULENS_CONNECTION_STRING)"
   ]
  },
  {
   "cell_type": "code",
   "execution_count": null,
   "id": "a8444b07-f2e4-442c-b977-3fca917c439e",
   "metadata": {},
   "outputs": [],
   "source": [
    "tru.reset_database()"
   ]
  },
  {
   "cell_type": "code",
   "execution_count": null,
   "id": "76b064c3-de01-4d3c-b13f-f838dee737f0",
   "metadata": {},
   "outputs": [],
   "source": [
    "import openllm\n",
    "\n",
    "llm = openllm.LLM(\n",
    "    \"google/flan-t5-small\",\n",
    "    temperature=0.94,\n",
    "    repetition_penalty=1.2,\n",
    "\n",
    ")"
   ]
  },
  {
   "cell_type": "code",
   "execution_count": null,
   "id": "87a05683-65c1-4c12-9219-82a45ed7dd1b",
   "metadata": {},
   "outputs": [],
   "source": [
    "import asyncio\n",
    "\n",
    "import nest_asyncio\n",
    "\n",
    "\n",
    "\n",
    "nest_asyncio.apply()\n",
    "\n",
    "\n",
    "async def main(query):\n",
    "  previous_texts = ''  \n",
    "  async for gen in llm.generate_iterator(query, max_new_tokens=128):\n",
    "      print(gen.outputs[0].text, flush=True, end='')\n",
    "      previous_texts += gen.outputs[0].text\n",
    "  return previous_texts\n",
    "\n",
    "\n",
    "asyncio.run(main(\"what is tenancy act. Please explain\"))"
   ]
  },
  {
   "cell_type": "code",
   "execution_count": null,
   "id": "ee8ce360-88a5-4faf-a803-9e6e3fb838ce",
   "metadata": {},
   "outputs": [],
   "source": [
    "class RAG_from_scratch:\n",
    "    @instrument\n",
    "    def retrieve(self, query: str) -> list:\n",
    "        \"\"\"\n",
    "        Retrieve relevant text from vector store.\n",
    "        \"\"\"\n",
    "        return retrieval(query)\n",
    "\n",
    "    @instrument\n",
    "    def generate_completion(self, query: str, context_str: list) -> str:\n",
    "        \"\"\"\n",
    "        Generate answer from context.\n",
    "        \"\"\"\n",
    "        messages=f\"We have provided context information below. \\n\" \\\n",
    "            f\"---------------------\\n\" \\\n",
    "            f\"{context_str}\" \\\n",
    "            f\"\\n---------------------\\n\" \\\n",
    "            f\"Given this information, please answer the question: {query}\"\n",
    "        print(messages)\n",
    "        completion = asyncio.run(main(messages))\n",
    "        return completion\n",
    "\n",
    "    @instrument\n",
    "    def query(self, query: str) -> str:\n",
    "        context_str = self.retrieve(query)\n",
    "        completion = self.generate_completion(query, context_str)\n",
    "        return completion\n",
    "\n",
    "rag = RAG_from_scratch()"
   ]
  },
  {
   "cell_type": "code",
   "execution_count": null,
   "id": "3269779c-29e6-4167-98ba-1973002e828f",
   "metadata": {},
   "outputs": [],
   "source": [
    "\n",
    "rag.query(\"When was the University of Washington founded?\")\n",
    "\n"
   ]
  },
  {
   "cell_type": "code",
   "execution_count": null,
   "id": "937e04ff-69ec-4903-a6ab-8b5fb25463ff",
   "metadata": {},
   "outputs": [],
   "source": [
    "from trulens_eval import TruCustomApp\n",
    "tru_rag = TruCustomApp(rag,\n",
    "    app_id = 'RAG v1',\n",
    "    #feedbacks = [f_groundedness, f_answer_relevance, f_context_relevance]\n",
    "    )\n"
   ]
  },
  {
   "cell_type": "code",
   "execution_count": null,
   "id": "3ad244cf-08be-458c-a6dc-cccacd2b4027",
   "metadata": {},
   "outputs": [],
   "source": [
    "with tru_rag as recording:\n",
    "    rag.query(\"I've been served with an eviction notice by my landlord. How much notice are they required to give me under the law?\")"
   ]
  },
  {
   "cell_type": "code",
   "execution_count": null,
   "id": "ecff5be7-faa4-408d-af10-a7a40e613f44",
   "metadata": {},
   "outputs": [],
   "source": [
    "from ipywidgets import Button, HBox, VBox\n",
    "from IPython.display import display\n",
    "\n",
    "thumbs_up_button = Button(description='👍')\n",
    "thumbs_down_button = Button(description='👎')\n",
    "\n",
    "human_feedback = None\n",
    "\n",
    "def on_thumbs_up_button_clicked(b):\n",
    "    global human_feedback\n",
    "    human_feedback = 1\n",
    "\n",
    "def on_thumbs_down_button_clicked(b):\n",
    "    global human_feedback\n",
    "    human_feedback = 0\n",
    "\n",
    "thumbs_up_button.on_click(on_thumbs_up_button_clicked)\n",
    "thumbs_down_button.on_click(on_thumbs_down_button_clicked)\n",
    "\n",
    "HBox([thumbs_up_button, thumbs_down_button])"
   ]
  },
  {
   "cell_type": "code",
   "execution_count": null,
   "id": "0d3e51f2-9dd5-4430-906e-06ee0a1ec479",
   "metadata": {},
   "outputs": [],
   "source": [
    "record = recording.get()\n",
    "print(human_feedback)\n",
    "tru.add_feedback(\n",
    "    name=\"Human Feedack\",\n",
    "    record_id=record.record_id,\n",
    "    app_id=tru_rag.app_id,\n",
    "    result=human_feedback\n",
    ")"
   ]
  },
  {
   "cell_type": "code",
   "execution_count": null,
   "id": "7eb32a04-0c58-497d-bdfd-00dfdd534ede",
   "metadata": {},
   "outputs": [],
   "source": [
    "records, feedback = tru.get_records_and_feedback(app_ids=[])\n",
    "records.tail(5)"
   ]
  },
  {
   "cell_type": "code",
   "execution_count": null,
   "id": "cd2e4b6e-e8ba-4426-87b5-166b1ce79423",
   "metadata": {},
   "outputs": [],
   "source": [
    "\n",
    "tru.get_leaderboard(app_ids=[\"RAG v1\"])"
   ]
  },
  {
   "cell_type": "code",
   "execution_count": null,
   "id": "20fdfded-6ad3-42fa-833b-f2d22bac4039",
   "metadata": {},
   "outputs": [],
   "source": [
    "tru.run_dashboard(address='0.0.0.0', force=True)"
   ]
  },
  {
   "cell_type": "code",
   "execution_count": null,
   "id": "b043f9e8-253d-4fab-a784-70a83fbb337e",
   "metadata": {},
   "outputs": [],
   "source": [
    "\n",
    "\n",
    "tru.get_leaderboard(app_ids=[tru_rag.app_id])\n"
   ]
  },
  {
   "cell_type": "code",
   "execution_count": null,
   "id": "07930115-d1e1-43cd-af31-8df69de2a4c8",
   "metadata": {},
   "outputs": [],
   "source": []
  },
  {
   "cell_type": "code",
   "execution_count": null,
   "id": "ca229704-064f-4015-b6b7-858019b42911",
   "metadata": {},
   "outputs": [],
   "source": []
  }
 ],
 "metadata": {
  "kernelspec": {
   "display_name": "Python 3 (ipykernel)",
   "language": "python",
   "name": "python3"
  },
  "language_info": {
   "codemirror_mode": {
    "name": "ipython",
    "version": 3
   },
   "file_extension": ".py",
   "mimetype": "text/x-python",
   "name": "python",
   "nbconvert_exporter": "python",
   "pygments_lexer": "ipython3",
   "version": "3.11.7"
  }
 },
 "nbformat": 4,
 "nbformat_minor": 5
}
