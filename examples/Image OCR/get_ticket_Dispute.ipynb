{
 "cells": [
  {
   "cell_type": "code",
   "execution_count": null,
   "id": "0e491b3a-7ce4-4f92-ac70-2a20afadc689",
   "metadata": {},
   "outputs": [],
   "source": [
    "import os\n",
    "from bs4 import BeautifulSoup\n",
    "from langchain_community.graphs import Neo4jGraph\n",
    "from langchain_community.vectorstores import Neo4jVector\n",
    "from langchain.text_splitter import RecursiveCharacterTextSplitter, SentenceTransformersTokenTextSplitter\n",
    "from langchain.chains import RetrievalQAWithSourcesChain\n",
    "import warnings\n",
    "from langchain_community.document_loaders import DirectoryLoader\n",
    "from llama_index.core import SimpleDirectoryReader, StorageContext\n",
    "warnings.filterwarnings(\"ignore\")\n",
    "from langchain_community.embeddings import HuggingFaceEmbeddings\n",
    "from sentence_transformers import CrossEncoder\n",
    "import numpy as np\n",
    "from trulens_eval import Tru\n",
    "from trulens_eval.tru_custom_app import instrument\n",
    "from llmlingua import PromptCompressor\n",
    "import re\n",
    "from IPython.core.display import display, HTML\n",
    "import json"
   ]
  },
  {
   "cell_type": "code",
   "execution_count": null,
   "id": "c784b192-92c7-4467-bd28-6982229f1373",
   "metadata": {},
   "outputs": [],
   "source": [
    "embeddings = HuggingFaceEmbeddings(model_name=\"all-MiniLM-L6-v2\")"
   ]
  },
  {
   "cell_type": "code",
   "execution_count": null,
   "id": "9b08e8a0-dc9f-4a00-8393-a8c6ba7aef81",
   "metadata": {},
   "outputs": [],
   "source": [
    "text_splitter = RecursiveCharacterTextSplitter(\n",
    "    chunk_size = 1000,\n",
    "    chunk_overlap  = 200,\n",
    "    length_function = len,\n",
    "    separators=[\"\\n\\n\", \"\\n\", \". \", \" \", \"\"],\n",
    ")"
   ]
  },
  {
   "cell_type": "code",
   "execution_count": null,
   "id": "e3b94436-2224-4634-b343-767287e3bc74",
   "metadata": {},
   "outputs": [],
   "source": [
    "NEO4J_URI = 'bolt://' + os.getenv('NEO4J_HOST') + ':7687'\n",
    "NEO4J_USERNAME = os.getenv('NEO4J_USER')\n",
    "NEO4J_PASSWORD = os.getenv('NEO4J_PASSWORD')\n",
    "NEO4J_DATABASE = 'neo4j' #os.getenv('NEO4J_DB')\n",
    "print(NEO4J_URI)\n",
    "print(NEO4J_DATABASE)"
   ]
  },
  {
   "cell_type": "code",
   "execution_count": null,
   "id": "06131605-b6d7-4241-91b0-57e746ce6894",
   "metadata": {},
   "outputs": [],
   "source": [
    "kg = Neo4jGraph(\n",
    "    url=NEO4J_URI, username=NEO4J_USERNAME, password=NEO4J_PASSWORD, database=NEO4J_DATABASE\n",
    ")"
   ]
  },
  {
   "cell_type": "markdown",
   "id": "1f3333f9",
   "metadata": {},
   "source": [
    "## Downlaod the data whch should be in a json format "
   ]
  },
  {
   "cell_type": "code",
   "execution_count": null,
   "id": "d902c790-fdd3-496d-8262-a44a68fa1bca",
   "metadata": {},
   "outputs": [],
   "source": [
    "file_metadata = lambda x: {\"filename\": x}\n",
    "graphic_documents = SimpleDirectoryReader(\"./graphicdata\",file_metadata=file_metadata).load_data()"
   ]
  },
  {
   "cell_type": "code",
   "execution_count": null,
   "id": "40cfd514-f830-4423-9f71-cdab8e093007",
   "metadata": {},
   "outputs": [],
   "source": [
    "print(graphic_documents[0].get_text())"
   ]
  },
  {
   "cell_type": "code",
   "execution_count": null,
   "id": "27514e61-7dbb-45a7-9732-8173d5ba029a",
   "metadata": {},
   "outputs": [],
   "source": [
    "merge_chunk_node_query = \"\"\"\n",
    "MERGE(mergedChunk:UpdatedChunk {chunkId: $chunkParam.chunkId})\n",
    "    ON CREATE SET \n",
    "        mergedChunk.chunkSeqId = $chunkParam.chunkSeqId, \n",
    "        mergedChunk.text = $chunkParam.text,\n",
    "        mergedChunk.ActId = $chunkParam.ActId,\n",
    "        mergedChunk.sectionName = $chunkParam.sectionName,\n",
    "        mergedChunk.url = $chunkParam.url,\n",
    "        mergedChunk.regulationinfo = $chunkParam.regulationinfo,\n",
    "        mergedChunk.regulationSeqId = $chunkParam.regulationSeqId,\n",
    "        mergedChunk.parentRetrieval = $chunkParam.parentRetrieval,\n",
    "        mergedChunk.formtitle = $chunkParam.formtitle,\n",
    "        mergedChunk.RegId = $chunkParam.RegId\n",
    "RETURN mergedChunk\n",
    "\"\"\""
   ]
  },
  {
   "cell_type": "code",
   "execution_count": null,
   "id": "4ef76588-a143-4f97-91d7-6e6019dce3ca",
   "metadata": {},
   "outputs": [],
   "source": [
    "create_embeddings = \"\"\"\n",
    "        MATCH (chunk:UpdatedChunk) WHERE\n",
    "        chunk.chunkId = $chunkParam.chunkId\n",
    "        AND chunk.chunkSeqId = $chunkParam.chunkSeqId\n",
    "        AND chunk.ActId = $chunkParam.ActId\n",
    "        AND chunk.sectionName = $chunkParam.sectionName\n",
    "        AND chunk.text = $chunkParam.text\n",
    "        AND chunk.regulationinfo = $chunkParam.regulationinfo\n",
    "        AND chunk.regulationSeqId = $chunkParam.regulationSeqId\n",
    "        AND chunk.url = $chunkParam.url\n",
    "        AND chunk.formtitle = $chunkParam.formtitle\n",
    "        AND chunk.textEmbedding is NULL\n",
    "        CALL db.create.setNodeVectorProperty(chunk, \"textEmbedding\", $vector)\n",
    "        RETURN chunk\n",
    "    \"\"\""
   ]
  },
  {
   "cell_type": "code",
   "execution_count": null,
   "id": "4a79d7f2-dff6-4eec-99b3-d0d8dd1c033b",
   "metadata": {},
   "outputs": [],
   "source": [
    "def create_chunk_relationship(act_info):\n",
    "    cypher = \"\"\"\n",
    "  MATCH (from_same_section:UpdatedChunk)\n",
    "  WHERE from_same_section.ActId = $ActParam['ActId']\n",
    "  AND from_same_section.sectionName = $ActParam['sectionName']\n",
    "  AND from_same_section.RegId = $ActParam['RegId']\n",
    "  AND from_same_section.url = $ActParam['url']\n",
    "  AND from_same_section.formtitle = $ActParam['formtitle']\n",
    "  AND from_same_section.regulationSeqId = $ActParam['regulationSeqId']\n",
    "  WITH from_same_section\n",
    "    ORDER BY from_same_section.chunkSeqId ASC\n",
    "  WITH collect(from_same_section) as section_chunk_list\n",
    "    CALL apoc.nodes.link(\n",
    "        section_chunk_list, \n",
    "        \"NEXT\", \n",
    "        {avoidDuplicates: true}\n",
    "    )  // NEW!!!\n",
    "  RETURN size(section_chunk_list)\n",
    "\"\"\"\n",
    "    kg.query(cypher, params={'ActParam': act_info})"
   ]
  },
  {
   "cell_type": "code",
   "execution_count": null,
   "id": "f8383b53-d0d8-4ac8-b04d-7a6de2818233",
   "metadata": {},
   "outputs": [],
   "source": [
    "def create_chunk_embeddings(tokens):\n",
    "    for chunk in tokens:\n",
    "        print(f\"Creating `:Chunk` node for chunk ID {chunk['chunkSeqId']}\")\n",
    "        kg.query(merge_chunk_node_query, \n",
    "            params={\n",
    "                'chunkParam': chunk\n",
    "            })\n",
    "        vector = embeddings.embed_query(chunk['text'])\n",
    "        result = kg.query(create_embeddings, params={'chunkParam':chunk, 'vector':vector})\n",
    "        if result:\n",
    "            print(\"Embedding created\")\n",
    "        else:\n",
    "            print(result)\n",
    "            print(\"Embedding not created\")\n",
    "    create_chunk_relationship(tokens[0])   "
   ]
  },
  {
   "cell_type": "code",
   "execution_count": null,
   "id": "14afa778-1e85-48de-9f03-6ca2e394126c",
   "metadata": {},
   "outputs": [],
   "source": [
    "def create_metadata(token_split_texts,title, section_heading, regulationinfo, url, regid, seq_id, formtitle):\n",
    "    chunks_with_metadata = [] # use this to accumlate chunk records\n",
    "    chunk_seq_id = 0\n",
    "    for chunk in token_split_texts: # only take the first 20 chunks\n",
    "        #form_id = file[file.rindex('/') + 1:file.rindex('.')] # extract form id from file name\n",
    "        # finally, construct a record with metadata and the chunk text\n",
    "        chunks_with_metadata.append({\n",
    "            'text': chunk, \n",
    "            # metadata from looping...\n",
    "            'chunkSeqId': chunk_seq_id,\n",
    "            'chunkId': f'{title}-{regid}-chunk-{section_heading}-{chunk_seq_id:04d}',\n",
    "            'ActId': f'{title}',\n",
    "            'RegId': f'{regid}',\n",
    "            'sectionName':f'{section_heading}',\n",
    "            'url':f'{url}',\n",
    "            'regulationinfo': f'{regulationinfo}',\n",
    "            'regulationSeqId': seq_id,\n",
    "            'parentRetrieval': True,\n",
    "            'formtitle':formtitle\n",
    "            # constructed metadata...\n",
    "            # metadata from file...\n",
    "        })\n",
    "        chunk_seq_id += 1\n",
    "    return chunks_with_metadata"
   ]
  },
  {
   "cell_type": "raw",
   "id": "c6279031-6f5c-4c60-adf5-30dfa751a3fd",
   "metadata": {},
   "source": [
    "def create_chunks(item_text, title, section_heading, section_id):\n",
    "    item_text_chunks = text_splitter.split_text(item_text) # split the text into chunks\n",
    "    token_splitter = SentenceTransformersTokenTextSplitter(chunk_overlap=20, tokens_per_chunk=256)\n",
    "    token_split_texts = []\n",
    "    for text in item_text_chunks:\n",
    "        token_split_texts += token_splitter.split_text(text)\n",
    "    meta_data = create_metadata(token_split_texts,title, section_heading, section_id)    \n",
    "    return meta_data"
   ]
  },
  {
   "cell_type": "code",
   "execution_count": null,
   "id": "0b552f0f-9a07-43f6-b383-c56f7b464238",
   "metadata": {},
   "outputs": [],
   "source": [
    "for index, graphic_document in enumerate(graphic_documents):\n",
    "    #print(json.loads(graphic_document.get_text()))\n",
    "    json_obj = json.loads(graphic_document.get_text())\n",
    "    url = json_obj['Url']\n",
    "    title = json_obj['Title']\n",
    "    regulation_info = json_obj['RegulationInfo']\n",
    "    description = json_obj['Description']\n",
    "    actid = json_obj['ActId']\n",
    "    regid = json_obj['RegulationId']\n",
    "    text = json_obj['Text']\n",
    "    parent_retrieval = \"\"\n",
    "    if len(text):\n",
    "        #sectionfn(text)\n",
    "        #break         \n",
    "        for section_index, section in enumerate(text):\n",
    "            sectiontitle = section['Title']\n",
    "            #print(sectiontitle)\n",
    "            if len(section['Description']):\n",
    "                for subsection_index, subsection in enumerate(section['Description']):\n",
    "                    subsectiontitle = subsection['Title']\n",
    "                    subsectiondescription = subsection['Description']\n",
    "                    if sectiontitle == subsectiontitle:\n",
    "                        #print(sectiontitle + ' \\n' + subsectiondescription)\n",
    "                        item_text = sectiontitle + ' \\n' + subsectiondescription \n",
    "                        #create_chunks\n",
    "                    else:\n",
    "                        item_text = sectiontitle + ': '+ subsectiontitle + ' \\n' + subsectiondescription\n",
    "                        #print(sectiontitle + ': '+ subsectiontitle + ' \\n' + subsectiondescription)\n",
    "                    print(\"\\n\\n\")\n",
    "                    item_text_chunks = text_splitter.split_text(item_text) # split the text into chunks\n",
    "                    token_splitter = SentenceTransformersTokenTextSplitter(chunk_overlap=20, tokens_per_chunk=256)\n",
    "                    token_split_texts = []\n",
    "                    for text in item_text_chunks:\n",
    "                        token_split_texts += token_splitter.split_text(text)\n",
    "                    print(token_split_texts)\n",
    "                    token = create_metadata(token_split_texts, actid, subsectiontitle, regulation_info, url, regid, subsection_index, title)\n",
    "                    print(token)\n",
    "                    create_chunk_embeddings(token)\n",
    "                    parent_retrieval += item_text + \"\\n\\n\"\n",
    "                    #meta_data = create_metadata(token_split_texts,title, section_heading, section_id) \n",
    "            #print(section)\n",
    "    #print(text)"
   ]
  },
  {
   "cell_type": "code",
   "execution_count": null,
   "id": "9b528732-8fbe-44fd-b5f2-11b38c932a4c",
   "metadata": {},
   "outputs": [],
   "source": [
    "#Create Parent Chunk\n",
    "def create_parent_form_node(form_info):\n",
    "    cypher = \"\"\"\n",
    "        MERGE (mergedChunk:form {formtitle: $chunkParam.Title })\n",
    "          ON CREATE SET\n",
    "        mergedChunk.text = $chunkParam.text,\n",
    "        mergedChunk.url = $chunkParam.url,\n",
    "        mergedChunk.regulationinfo = $chunkParam.regulationinfo,\n",
    "        mergedChunk.formtitle = $chunkParam.Title,\n",
    "        mergedChunk.RegId = $chunkParam.RegId,\n",
    "        mergedChunk.LawId = $chunkParam.ActId\n",
    "            \"\"\"\n",
    "    kg.query(cypher, params={'chunkParam': form_info})"
   ]
  },
  {
   "cell_type": "code",
   "execution_count": null,
   "id": "a7ba96ee-617a-4cac-8401-f88a10e59486",
   "metadata": {},
   "outputs": [],
   "source": [
    "def connect_form_parentNode():\n",
    "    cypher = \"\"\"\n",
    "      MATCH (c:UpdatedChunk), (f:form)\n",
    "        WHERE c.formtitle = f.formtitle\n",
    "        AND c.chunkSeqId = 0\n",
    "      MERGE (c)-[newRelationship:PARENT]->(f)\n",
    "      MERGE (f)-[newRelationship2:CHILD]->(c)\n",
    "      RETURN count(newRelationship)\n",
    "    \"\"\"\n",
    "    kg.query(cypher)"
   ]
  },
  {
   "cell_type": "code",
   "execution_count": null,
   "id": "8cbebb9e-7922-4544-a5a6-77cc01dac3d9",
   "metadata": {},
   "outputs": [],
   "source": [
    "print(json_obj['ActId'])"
   ]
  },
  {
   "cell_type": "code",
   "execution_count": null,
   "id": "7c469edc-d3c9-4896-abf7-cc9d8055ab23",
   "metadata": {},
   "outputs": [],
   "source": [
    "json_obj['Url']\n",
    "json_obj['Title']\n",
    "json_obj['RegulationInfo']\n",
    "json_obj['Description']\n",
    "json_obj['ActId']\n",
    "json_obj['RegulationId']\n",
    "json_obj['text'] = parent_retrieval\n",
    "create_parent_form_node(json_obj)\n",
    "connect_form_parentNode()\n",
    "print(parent_retrieval)"
   ]
  },
  {
   "cell_type": "code",
   "execution_count": null,
   "id": "7d7d67ff-600c-49ac-98e1-0eeec3447a60",
   "metadata": {},
   "outputs": [],
   "source": [
    "def get_parent_query(node):\n",
    "    query = \"\"\"\n",
    "    MATCH (n:UpdatedChunk)-[:PARENT]->(p)\n",
    "    WHERE elementId(n) contains $node.elementId\n",
    "    return p.text as text\n",
    "    \"\"\"\n",
    "    print(node['elementId'])\n",
    "    return kg.query(query, params={'node': node})"
   ]
  },
  {
   "cell_type": "code",
   "execution_count": null,
   "id": "b2360504-b502-4d26-bf3a-6db870de7e12",
   "metadata": {},
   "outputs": [],
   "source": [
    "def neo4j_vector_search(question, index_name):\n",
    "  \"\"\"Search for similar nodes using the Neo4j vector index\"\"\"\n",
    "  query_embedding = embeddings.embed_query(question)  \n",
    "  vector_search_query = \"\"\"\n",
    "    CALL db.index.vector.queryNodes($index_name, $top_k, $question) yield node, score\n",
    "        RETURN elementId(node) AS elementId, score, node.ActId, node.sectionId, node.sectionName, node.parentRetrieval AS parentretrieval, node.url, node.formtitle, node.text AS text, node.RegId AS Regulations, node.textEmbedding AS embedding\n",
    "  \"\"\"\n",
    "  similar = kg.query(vector_search_query, \n",
    "                     params={\n",
    "                      'question': query_embedding, \n",
    "                      'index_name':index_name, \n",
    "                      'top_k': 10})\n",
    "  return similar"
   ]
  },
  {
   "cell_type": "code",
   "execution_count": null,
   "id": "e67f5a90-9c2b-4dc3-afc7-bf3d86fa3da2",
   "metadata": {},
   "outputs": [],
   "source": [
    "query = 'How to dispute a ticket?' \n",
    "#vector = embeddings.embed_query(query)\n",
    "search_results = neo4j_vector_search(query, 'Acts_Updatedchunks')\n",
    "print(search_results)"
   ]
  },
  {
   "cell_type": "code",
   "execution_count": null,
   "id": "d2f6f2ef-1d74-4b41-a303-0df7feeced47",
   "metadata": {},
   "outputs": [],
   "source": [
    "def get_parent(search_retrieval):\n",
    "    if search_retrieval['parentretrieval']:\n",
    "        print(\"parent retrieval\")\n",
    "        parent = get_parent_query(search_retrieval)\n",
    "        print(parent[0]['text'])\n",
    "        return"
   ]
  },
  {
   "cell_type": "code",
   "execution_count": null,
   "id": "c35c92d6-a812-4fa5-80f3-44757cd4e7a9",
   "metadata": {},
   "outputs": [],
   "source": [
    "def search_result_output(search_results):\n",
    "    for index, result in enumerate(search_results):\n",
    "        print(result['score'])\n",
    "        #print(result)\n",
    "        print(result['node.ActId'])\n",
    "        print(result['node.sectionName'])\n",
    "        print(result['node.sectionId'])\n",
    "        if (result['node.url']):\n",
    "            print(result['node.url'])\n",
    "        if (result['Regulations']):\n",
    "            print(f\"Regulation: {result['Regulations']}\")\n",
    "        if (result['node.formtitle']):\n",
    "            print(f\"Form title: {result['node.formtitle']}\")\n",
    "        print(result['text'])\n",
    "        \n",
    "        get_parent(result)\n",
    "        print(\"\\n\\n\")\n",
    "search_result_output(search_results)"
   ]
  },
  {
   "cell_type": "markdown",
   "id": "bf66f740-2f55-4e31-bc4b-14e60c0a39ed",
   "metadata": {},
   "source": [
    "[\n",
    "    {\n",
    "        \"title\": \"how to pay\",\n",
    "        \"subsection\": [\n",
    "            {\n",
    "                \"title\":\"\",\n",
    "                \"Desctiption\": \"\"\n",
    "            },\n",
    "            {\n",
    "                \"title\":\"\",\n",
    "                \"subsection\": [\n",
    "                     \"title\": \"\"       \n",
    "                ]\n",
    "            }\n",
    "        ]  \n",
    "    },\n",
    "    {\n",
    "        \"title\":\"how to dispute\": \"\"\n",
    "    }\n",
    "]"
   ]
  },
  {
   "cell_type": "code",
   "execution_count": null,
   "id": "4f6758f7-e30d-40b8-8901-359502d132e5",
   "metadata": {},
   "outputs": [],
   "source": [
    "query = 'How to dispute a ticket?' \n",
    "#vector = embeddings.embed_query(query)\n",
    "search_results = neo4j_vector_search(query, 'Acts_Updatedchunks')"
   ]
  },
  {
   "cell_type": "code",
   "execution_count": null,
   "id": "66b6e931-1fdc-41d7-97fc-36d8d76c07a5",
   "metadata": {},
   "outputs": [],
   "source": [
    "get_parent(search)"
   ]
  }
 ],
 "metadata": {
  "kernelspec": {
   "display_name": "Python 3 (ipykernel)",
   "language": "python",
   "name": "python3"
  },
  "language_info": {
   "codemirror_mode": {
    "name": "ipython",
    "version": 3
   },
   "file_extension": ".py",
   "mimetype": "text/x-python",
   "name": "python",
   "nbconvert_exporter": "python",
   "pygments_lexer": "ipython3",
   "version": "3.11.8"
  }
 },
 "nbformat": 4,
 "nbformat_minor": 5
}
