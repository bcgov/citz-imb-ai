{
 "cells": [
  {
   "cell_type": "markdown",
   "id": "d9fba9c6-5185-4f67-b1c9-15607f600a41",
   "metadata": {},
   "source": [
    "# AI Filtering Nodes from User Prompt\n",
    "\n",
    "This workbook is a proof of concept for how an AI can be used to modify Neo4j queries.\n",
    "\n",
    "The goal is to more accurately return the correct subset of nodes based on the user's query.\n",
    "\n",
    "If they ask for a specific parameter, such as searching within a single Act or within a timeframe, only those nodes will be included in the similarity comparison. \n",
    "\n",
    "The flow of information happens in this order:\n",
    "1. User's prompt is analyzed by the AI, which extracts key information into a JSON object.\n",
    "2. That object is then used to build WHERE clauses for the Neo4j query.\n",
    "3. The query is used to obtain the nodes which most closely resemble the user's query\n",
    "\n",
    "At this point, the regular workflow where the selected nodes are passed to Bedrock to form the response can continue, but it is not covered in this workbook."
   ]
  },
  {
   "cell_type": "code",
   "execution_count": null,
   "id": "40c79a8e-383a-41c2-9a35-d220fc5bef2e",
   "metadata": {},
   "outputs": [],
   "source": [
    "%pip install langchain_community\n",
    "%pip install neo4j\n",
    "%pip install sentence-transformers\n",
    "%pip install transformers\n",
    "%pip install boto3\n",
    "%pip install botocore"
   ]
  },
  {
   "cell_type": "code",
   "execution_count": null,
   "id": "a9c986ff-4521-442f-be6f-682ee0b272cf",
   "metadata": {},
   "outputs": [],
   "source": [
    "import os\n",
    "import json\n",
    "from langchain_community.graphs import Neo4jGraph\n",
    "from langchain_community.embeddings import HuggingFaceEmbeddings\n",
    "\n",
    "# If using bedrock for initial processing\n",
    "import boto3\n",
    "from botocore.config import Config\n"
   ]
  },
  {
   "cell_type": "code",
   "execution_count": null,
   "id": "61deccd2-1248-4130-bf81-103a3ad62c6c",
   "metadata": {},
   "outputs": [],
   "source": [
    "# Standard Bedrock session setup\n",
    "AWS_ACCESS_KEY_ID = os.getenv(\"AWS_ACCESS_KEY_ID\")\n",
    "AWS_SECRET_ACCESS_KEY = os.getenv(\"AWS_SECRET_ACCESS_KEY\")\n",
    "\n",
    "session = boto3.Session(\n",
    "    aws_access_key_id=AWS_ACCESS_KEY_ID,\n",
    "    aws_secret_access_key=AWS_SECRET_ACCESS_KEY,\n",
    ")\n",
    "\n",
    "# Default retry mode is legacy otherwise\n",
    "config = Config(\n",
    "  retries = {\n",
    "    'max_attempts': 3,\n",
    "    'mode': 'standard'\n",
    "  }\n",
    ")\n",
    "bedrock_runtime = session.client(\"bedrock-runtime\", region_name=\"us-east-1\", config=config)"
   ]
  },
  {
   "cell_type": "code",
   "execution_count": null,
   "id": "859f9e74-cf39-421e-8d1c-72e24c6bf747",
   "metadata": {},
   "outputs": [],
   "source": [
    "# Define access to model in Bedrock\n",
    "# In this case, claude 3.5 sonnet.\n",
    "def get_claude_kwargs(prompt):\n",
    "    kwargs = {\n",
    "        \"modelId\": \"anthropic.claude-3-5-sonnet-20240620-v1:0\",\n",
    "        \"contentType\": \"application/json\",\n",
    "        \"accept\": \"application/json\",\n",
    "        \"body\": json.dumps(\n",
    "            {\n",
    "                \"anthropic_version\": \"bedrock-2023-05-31\",\n",
    "                \"max_tokens\": 5000,\n",
    "                \"messages\": [\n",
    "                    {\"role\": \"user\", \"content\": [{\"type\": \"text\", \"text\": prompt}]}\n",
    "                ],\n",
    "            }\n",
    "        ),\n",
    "    }\n",
    "    return kwargs"
   ]
  },
  {
   "cell_type": "code",
   "execution_count": null,
   "id": "2647f7bc-52e9-4029-9cab-e52ae62de67b",
   "metadata": {},
   "outputs": [],
   "source": [
    "# Wrapper to get response from AWS and return only the text content\n",
    "def get_agent_response(prompt):\n",
    "    kwargs = get_claude_kwargs(prompt)\n",
    "    response = bedrock_runtime.invoke_model(**kwargs)\n",
    "    response_body = json.loads(response.get(\"body\").read())\n",
    "    return response_body[\"content\"][0][\"text\"]"
   ]
  },
  {
   "cell_type": "code",
   "execution_count": null,
   "id": "c9dbb2be-fabc-4f97-bd64-b6c73812bb30",
   "metadata": {},
   "outputs": [],
   "source": [
    "# Function that allows for connection to Neo4j\n",
    "def neo4j():\n",
    "    NEO4J_URI = \"bolt://citz-imb-ai-neo4j-svc:7687\"\n",
    "    NEO4J_USERNAME = os.getenv(\"NEO4J_USER\")\n",
    "    NEO4J_PASSWORD = os.getenv(\"NEO4J_PASSWORD\")\n",
    "    NEO4J_DB = os.getenv(\"NEO4J_DB\")\n",
    "    conn = Neo4jGraph(\n",
    "        url=NEO4J_URI,\n",
    "        username=NEO4J_USERNAME,\n",
    "        password=NEO4J_PASSWORD,\n",
    "        database='neo4j',\n",
    "    )\n",
    "    return conn"
   ]
  },
  {
   "cell_type": "code",
   "execution_count": null,
   "id": "a7e13014-e099-4d89-8884-812860b06aec",
   "metadata": {},
   "outputs": [],
   "source": [
    "# A function that builds portions of a WHERE clause based on the filter\n",
    "# To start, only the act_ids metadata is used, but this could be expanded for many parameters.\n",
    "def build_metadata_filters(metadata_filter):\n",
    "    filter_list = []\n",
    "    for key, value in metadata_filter.items():\n",
    "        match key:\n",
    "            case \"act_ids\":\n",
    "                filter_list.append(f\"n.ActId IN {str(value)}\")\n",
    "                break\n",
    "            case default:\n",
    "                break\n",
    "    return filter_list"
   ]
  },
  {
   "cell_type": "code",
   "execution_count": null,
   "id": "120dab17-b90e-4663-a1d8-1a244039045f",
   "metadata": {},
   "outputs": [],
   "source": [
    "# Use Neo4j to obtain all possible Acts. This prevents the AI from creating acts from thin air.\n",
    "db = neo4j()\n",
    "\n",
    "print(db.query(f\"return gds.version()\"))\n",
    "\n",
    "all_acts_query_result = db.query(\"\"\"\n",
    " MATCH (node:UpdatedChunk) \n",
    " RETURN DISTINCT node.ActId\n",
    "\"\"\")\n",
    "\n",
    "# Only collect the Act names from the returned objects.\n",
    "valid_act_ids = []\n",
    "for obj in all_acts_query_result:\n",
    "    valid_act_ids.append(obj[\"node.ActId\"])\n",
    "\n",
    "print(valid_act_ids)"
   ]
  },
  {
   "cell_type": "code",
   "execution_count": null,
   "id": "0e707ca9-cfb7-46ad-84a9-bdc42badd074",
   "metadata": {},
   "outputs": [],
   "source": [
    "# Sample Question\n",
    "question = \"What does the Motor Vehicle Act say about seatbelts?\"\n",
    "\n",
    "# Prompt is designed to produce a usable JSON object.\n",
    "# Three examples are given to help with accuracy. \n",
    "# If additional parameters are needed, this prompt could be altered to include them.\n",
    "prompt = f\"\"\"\n",
    "You receive user prompts on BC Laws and help identify filtering criteria.\n",
    "If the user's prompt mentions an Act, identify it within a JSON object in a list called act_ids.\n",
    "Only return the JSON object in the output.\n",
    "\n",
    "Examples: \n",
    "Question: What does the Motor Vehicle Act say about seatbelts? Output: {{ \"act_ids\": [\"Motor Vehicle Act\"] }}\n",
    "Question: Does the Class Act have any info about chairs? Output: {{ \"act_ids\": [\"Class Act\"] }}\n",
    "Question: I want to know how many M&Ms I can fit in my mouth. Check the Health and Safety Act and the Motor Vehicle Act. Output: {{ \"act_ids\": [\"Health and Safety Act\", \"Motor Vehicle Act\"] }}\n",
    "\n",
    "These are the valid act IDs: {valid_act_ids}\n",
    "This is the user's question: {question}\n",
    "\"\"\"\n",
    "# Get the AI's response, which should just be a JSON object.\n",
    "ai_response = get_agent_response(prompt)\n",
    "print(ai_response)"
   ]
  },
  {
   "cell_type": "code",
   "execution_count": null,
   "id": "1683d5ca-672f-4d65-847e-a50095eae144",
   "metadata": {},
   "outputs": [],
   "source": [
    "# Try/except here in case the ai_response isn't valid JSON\n",
    "try:\n",
    "    metadata_filter = json.loads(ai_response)\n",
    "    filter_list = build_metadata_filters(metadata_filter)\n",
    "    joined_filter = \"WHERE \" + \" AND \".join(filter_list) if len(filter_list) > 0 else \"\"\n",
    "except:\n",
    "    joined_filter = \"\"\n",
    "\n",
    "print(joined_filter)"
   ]
  },
  {
   "cell_type": "code",
   "execution_count": null,
   "id": "10f15a01-072a-46e2-9777-b9d0f0bf2577",
   "metadata": {},
   "outputs": [],
   "source": [
    "# Create embedding of question for similarity search\n",
    "embeddings = HuggingFaceEmbeddings(model_name=\"all-MiniLM-L6-v2\")\n",
    "question_embedding = embeddings.embed_query(question)\n",
    "\n",
    "# Query to get nodes based on similarity. Only considers the nodes defined by the created WHERE clause\n",
    "get_nodes = f\"\"\"\n",
    "MATCH (n:UpdatedChunk)\n",
    "{joined_filter}\n",
    "WITH n, gds.similarity.cosine(n.textEmbedding, {question_embedding}) AS similarity\n",
    "RETURN n, similarity\n",
    "ORDER BY similarity DESC\n",
    "LIMIT 10\n",
    "\"\"\"\n",
    "\n",
    "result = db.query(get_nodes)\n",
    "print(result)"
   ]
  }
 ],
 "metadata": {
  "kernelspec": {
   "display_name": "Python 3 (ipykernel)",
   "language": "python",
   "name": "python3"
  },
  "language_info": {
   "codemirror_mode": {
    "name": "ipython",
    "version": 3
   },
   "file_extension": ".py",
   "mimetype": "text/x-python",
   "name": "python",
   "nbconvert_exporter": "python",
   "pygments_lexer": "ipython3",
   "version": "3.11.10"
  }
 },
 "nbformat": 4,
 "nbformat_minor": 5
}
