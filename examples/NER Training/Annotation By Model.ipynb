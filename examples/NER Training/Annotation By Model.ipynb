{
 "cells": [
  {
   "cell_type": "code",
   "execution_count": 6,
   "id": "997fff91-dc1c-4ba6-9747-a6316ba78b57",
   "metadata": {},
   "outputs": [
    {
     "name": "stdout",
     "output_type": "stream",
     "text": [
      "Requirement already satisfied: transformers in /usr/local/lib/python3.11/site-packages (4.46.1)\n",
      "Requirement already satisfied: filelock in /usr/local/lib/python3.11/site-packages (from transformers) (3.16.1)\n",
      "Requirement already satisfied: huggingface-hub<1.0,>=0.23.2 in /usr/local/lib/python3.11/site-packages (from transformers) (0.26.2)\n",
      "Requirement already satisfied: numpy>=1.17 in /usr/local/lib/python3.11/site-packages (from transformers) (1.26.4)\n",
      "Requirement already satisfied: packaging>=20.0 in /usr/local/lib/python3.11/site-packages (from transformers) (24.1)\n",
      "Requirement already satisfied: pyyaml>=5.1 in /usr/local/lib/python3.11/site-packages (from transformers) (6.0.2)\n",
      "Requirement already satisfied: regex!=2019.12.17 in /usr/local/lib/python3.11/site-packages (from transformers) (2024.9.11)\n",
      "Requirement already satisfied: requests in /usr/local/lib/python3.11/site-packages (from transformers) (2.32.3)\n",
      "Requirement already satisfied: safetensors>=0.4.1 in /usr/local/lib/python3.11/site-packages (from transformers) (0.4.5)\n",
      "Requirement already satisfied: tokenizers<0.21,>=0.20 in /usr/local/lib/python3.11/site-packages (from transformers) (0.20.1)\n",
      "Requirement already satisfied: tqdm>=4.27 in /usr/local/lib/python3.11/site-packages (from transformers) (4.66.6)\n",
      "Requirement already satisfied: fsspec>=2023.5.0 in /usr/local/lib/python3.11/site-packages (from huggingface-hub<1.0,>=0.23.2->transformers) (2024.10.0)\n",
      "Requirement already satisfied: typing-extensions>=3.7.4.3 in /usr/local/lib/python3.11/site-packages (from huggingface-hub<1.0,>=0.23.2->transformers) (4.12.2)\n",
      "Requirement already satisfied: charset-normalizer<4,>=2 in /usr/local/lib/python3.11/site-packages (from requests->transformers) (3.4.0)\n",
      "Requirement already satisfied: idna<4,>=2.5 in /usr/local/lib/python3.11/site-packages (from requests->transformers) (3.10)\n",
      "Requirement already satisfied: urllib3<3,>=1.21.1 in /usr/local/lib/python3.11/site-packages (from requests->transformers) (2.2.3)\n",
      "Requirement already satisfied: certifi>=2017.4.17 in /usr/local/lib/python3.11/site-packages (from requests->transformers) (2024.8.30)\n",
      "\u001b[33mWARNING: Running pip as the 'root' user can result in broken permissions and conflicting behaviour with the system package manager, possibly rendering your system unusable.It is recommended to use a virtual environment instead: https://pip.pypa.io/warnings/venv. Use the --root-user-action option if you know what you are doing and want to suppress this warning.\u001b[0m\u001b[33m\n",
      "\u001b[0mNote: you may need to restart the kernel to use updated packages.\n"
     ]
    }
   ],
   "source": [
    "%pip install transformers"
   ]
  },
  {
   "cell_type": "code",
   "execution_count": 39,
   "id": "68490c9c-4fad-4205-9819-a2f4b079979c",
   "metadata": {},
   "outputs": [],
   "source": [
    "# intializing tokenizer with help of bert model\n",
    "from transformers import BertTokenizer\n",
    "\n",
    "tokenizer = BertTokenizer.from_pretrained(\"bert-base-uncased\")"
   ]
  },
  {
   "cell_type": "code",
   "execution_count": 47,
   "id": "92ec5bb5-5686-40b9-af91-fe30c012b077",
   "metadata": {},
   "outputs": [
    {
     "name": "stdout",
     "output_type": "stream",
     "text": [
      "[{'entity': 'O', 'score': 0.8759803, 'index': 1, 'word': 'this', 'start': None, 'end': None}, {'entity': 'O', 'score': 0.8878505, 'index': 2, 'word': 'can', 'start': None, 'end': None}, {'entity': 'O', 'score': 0.8599593, 'index': 3, 'word': 'be', 'start': None, 'end': None}, {'entity': 'O', 'score': 0.8849033, 'index': 4, 'word': 'found', 'start': None, 'end': None}, {'entity': 'O', 'score': 0.8826641, 'index': 5, 'word': 'in', 'start': None, 'end': None}, {'entity': 'O', 'score': 0.75712746, 'index': 6, 'word': 'section', 'start': None, 'end': None}, {'entity': 'O', 'score': 0.8356861, 'index': 7, 'word': '14', 'start': None, 'end': None}, {'entity': 'O', 'score': 0.64340854, 'index': 8, 'word': '.', 'start': None, 'end': None}, {'entity': 'O', 'score': 0.74121857, 'index': 9, 'word': '07', 'start': None, 'end': None}, {'entity': 'O', 'score': 0.8888443, 'index': 10, 'word': 'in', 'start': None, 'end': None}, {'entity': 'O', 'score': 0.8757697, 'index': 11, 'word': 'this', 'start': None, 'end': None}, {'entity': 'O', 'score': 0.888764, 'index': 12, 'word': 'act', 'start': None, 'end': None}, {'entity': 'O', 'score': 0.808883, 'index': 13, 'word': '.', 'start': None, 'end': None}]\n"
     ]
    }
   ],
   "source": [
    "import json\n",
    "\n",
    "config = json.load(open(\"exported_models/fine_tuned_ner_model/config.json\"))\n",
    "label_list = [\"O\", \"B_REF_IN\", \"I_REF_IN\"]\n",
    "id2label = {\n",
    "    str(i): label for i,label in enumerate(label_list)\n",
    "}\n",
    "label2id = {\n",
    "    label: str(i) for i,label in enumerate(label_list)\n",
    "}\n",
    "config[\"id2label\"] = id2label\n",
    "config[\"label2id\"] = label2id\n",
    "json.dump(config, open(\"exported_models/fine_tuned_ner_model/config.json\",\"w\"), indent=2)\n",
    "     \n",
    "from transformers import AutoModelForTokenClassification     # This class is responsible for load model into memory\n",
    "\n",
    "model_fine_tuned = AutoModelForTokenClassification.from_pretrained(\"exported_models/fine_tuned_ner_model\")\n",
    "     \n",
    "from transformers import pipeline\n",
    "     \n",
    "nlp = pipeline(\"ner\",model=model_fine_tuned,tokenizer=tokenizer,ignore_labels=[]) # ignore_labels is [\"0\"] by default\n",
    "example = \"This can be found in section 14.07 in this act.\"\n",
    "ner_results = nlp(example)\n",
    "print(ner_results)"
   ]
  },
  {
   "cell_type": "code",
   "execution_count": null,
   "id": "6b0bd544-e3c6-4a6c-995f-2a97222d9827",
   "metadata": {},
   "outputs": [],
   "source": []
  }
 ],
 "metadata": {
  "kernelspec": {
   "display_name": "Python 3 (ipykernel)",
   "language": "python",
   "name": "python3"
  },
  "language_info": {
   "codemirror_mode": {
    "name": "ipython",
    "version": 3
   },
   "file_extension": ".py",
   "mimetype": "text/x-python",
   "name": "python",
   "nbconvert_exporter": "python",
   "pygments_lexer": "ipython3",
   "version": "3.11.10"
  }
 },
 "nbformat": 4,
 "nbformat_minor": 5
}
