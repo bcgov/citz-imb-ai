{
 "cells": [
  {
   "cell_type": "markdown",
   "metadata": {},
   "source": [
    "# Annotation by Bedrock\n",
    "\n",
    "This notebook attempts to leverage AWS Bedrock to assist with the creation of NER training data.\n",
    "\n",
    "Input data must have been formatted prior to use. It should match this format:\n",
    "```json\n",
    "{\"meta\": {\"identity\": 73955, \"sectionId\": \"12\", \"sectionName\": \"Repealed\", \"ActId\": \"Civil Forfeiture Act\"}, \"text\": \"repealed 12 [ repealed 2023 - 13 - 11. ]\", \"label\": []}\n",
    "```\n",
    "Output data will be similar but will include label values like this:\n",
    "```js\n",
    "[[61, 67, 'REF_IN'],\n",
    " [123, 124, 'REF_IN']]\n",
    "```\n",
    "Have the AWS ENVs populated prior to starting to Jupyter Notebook.\n"
   ]
  },
  {
   "cell_type": "code",
   "execution_count": null,
   "metadata": {},
   "outputs": [],
   "source": [
    "%pip install boto3\n",
    "%pip install botocore"
   ]
  },
  {
   "cell_type": "code",
   "execution_count": 4,
   "metadata": {},
   "outputs": [],
   "source": [
    "import boto3\n",
    "from botocore.config import Config\n",
    "import json\n",
    "import os"
   ]
  },
  {
   "cell_type": "code",
   "execution_count": 5,
   "metadata": {},
   "outputs": [],
   "source": [
    "AWS_ACCESS_KEY_ID = os.getenv(\"AWS_ACCESS_KEY_ID\")\n",
    "AWS_SECRET_ACCESS_KEY = os.getenv(\"AWS_SECRET_ACCESS_KEY\")\n",
    "\n",
    "session = boto3.Session(\n",
    "    aws_access_key_id=AWS_ACCESS_KEY_ID,\n",
    "    aws_secret_access_key=AWS_SECRET_ACCESS_KEY,\n",
    ")\n",
    "\n",
    "# Default retry mode is legacy otherwise\n",
    "config = Config(\n",
    "  retries = {\n",
    "    'max_attempts': 3,\n",
    "    'mode': 'standard'\n",
    "  }\n",
    ")\n",
    "bedrock_runtime = session.client(\"bedrock-runtime\", region_name=\"us-east-1\", config=config)"
   ]
  },
  {
   "cell_type": "code",
   "execution_count": 6,
   "metadata": {},
   "outputs": [],
   "source": [
    "# Define access to model in Bedrock\n",
    "# In this case, claude 3.5 sonnet.\n",
    "def get_claude_kwargs(prompt):\n",
    "    kwargs = {\n",
    "        \"modelId\": \"anthropic.claude-3-5-sonnet-20240620-v1:0\",\n",
    "        \"contentType\": \"application/json\",\n",
    "        \"accept\": \"application/json\",\n",
    "        \"body\": json.dumps(\n",
    "            {\n",
    "                \"anthropic_version\": \"bedrock-2023-05-31\",\n",
    "                \"max_tokens\": 5000,\n",
    "                \"messages\": [\n",
    "                    {\"role\": \"user\", \"content\": [{\"type\": \"text\", \"text\": prompt}]}\n",
    "                ],\n",
    "            }\n",
    "        ),\n",
    "    }\n",
    "    return kwargs"
   ]
  },
  {
   "cell_type": "code",
   "execution_count": 7,
   "metadata": {},
   "outputs": [],
   "source": [
    "# Wrapper to get response from AWS and return only the text content\n",
    "def get_agent_response(prompt):\n",
    "    kwargs = get_claude_kwargs(prompt)\n",
    "    response = bedrock_runtime.invoke_model(**kwargs)\n",
    "    response_body = json.loads(response.get(\"body\").read())\n",
    "    return response_body[\"content\"][0][\"text\"]"
   ]
  },
  {
   "cell_type": "code",
   "execution_count": 8,
   "metadata": {},
   "outputs": [],
   "source": [
    "import re\n",
    "\n",
    "# Helper function to return only a part that matches our labeling syntax.\n",
    "# If no labels found, returns None\n",
    "def extract_labels(result):\n",
    "  list = re.search(r\"\\[\\[\\d+, \\d+, [\\\"\\'][A-Z_]+[\\\"\\']](?:, \\[\\d+, \\d+, [\\\"\\'][A-Z_]+[\\\"\\']])*]\", result)\n",
    "  if (list != None):\n",
    "    labels_str = list.group()\n",
    "    # Convert from string to JSON-usable object. Cannot have single-quotes for JSON.\n",
    "    labels = json.loads(labels_str.replace(\"'\", '\"'))\n",
    "    return labels\n",
    "  else:\n",
    "    return None\n",
    "  "
   ]
  },
  {
   "cell_type": "code",
   "execution_count": 9,
   "metadata": {},
   "outputs": [
    {
     "ename": "FileNotFoundError",
     "evalue": "[Errno 2] No such file or directory: './NER Training/doccano_export.jsonl'",
     "output_type": "error",
     "traceback": [
      "\u001b[0;31m---------------------------------------------------------------------------\u001b[0m",
      "\u001b[0;31mFileNotFoundError\u001b[0m                         Traceback (most recent call last)",
      "Cell \u001b[0;32mIn[9], line 5\u001b[0m\n\u001b[1;32m      3\u001b[0m max_examples \u001b[38;5;241m=\u001b[39m \u001b[38;5;241m10\u001b[39m\n\u001b[1;32m      4\u001b[0m examples_added \u001b[38;5;241m=\u001b[39m \u001b[38;5;241m0\u001b[39m\n\u001b[0;32m----> 5\u001b[0m \u001b[38;5;28;01mwith\u001b[39;00m \u001b[38;5;28;43mopen\u001b[39;49m\u001b[43m(\u001b[49m\u001b[38;5;124;43m\"\u001b[39;49m\u001b[38;5;124;43m./NER Training/doccano_export.jsonl\u001b[39;49m\u001b[38;5;124;43m\"\u001b[39;49m\u001b[43m,\u001b[49m\u001b[43m \u001b[49m\u001b[38;5;124;43m\"\u001b[39;49m\u001b[38;5;124;43mr\u001b[39;49m\u001b[38;5;124;43m\"\u001b[39;49m\u001b[43m)\u001b[49m \u001b[38;5;28;01mas\u001b[39;00m \u001b[38;5;28minput\u001b[39m:\n\u001b[1;32m      6\u001b[0m   \u001b[38;5;28;01mfor\u001b[39;00m index, line \u001b[38;5;129;01min\u001b[39;00m \u001b[38;5;28menumerate\u001b[39m(\u001b[38;5;28minput\u001b[39m):\n\u001b[1;32m      7\u001b[0m     \u001b[38;5;28;01mif\u001b[39;00m examples_added \u001b[38;5;241m>\u001b[39m max_examples:\n",
      "File \u001b[0;32m/usr/local/lib/python3.11/site-packages/IPython/core/interactiveshell.py:324\u001b[0m, in \u001b[0;36m_modified_open\u001b[0;34m(file, *args, **kwargs)\u001b[0m\n\u001b[1;32m    317\u001b[0m \u001b[38;5;28;01mif\u001b[39;00m file \u001b[38;5;129;01min\u001b[39;00m {\u001b[38;5;241m0\u001b[39m, \u001b[38;5;241m1\u001b[39m, \u001b[38;5;241m2\u001b[39m}:\n\u001b[1;32m    318\u001b[0m     \u001b[38;5;28;01mraise\u001b[39;00m \u001b[38;5;167;01mValueError\u001b[39;00m(\n\u001b[1;32m    319\u001b[0m         \u001b[38;5;124mf\u001b[39m\u001b[38;5;124m\"\u001b[39m\u001b[38;5;124mIPython won\u001b[39m\u001b[38;5;124m'\u001b[39m\u001b[38;5;124mt let you open fd=\u001b[39m\u001b[38;5;132;01m{\u001b[39;00mfile\u001b[38;5;132;01m}\u001b[39;00m\u001b[38;5;124m by default \u001b[39m\u001b[38;5;124m\"\u001b[39m\n\u001b[1;32m    320\u001b[0m         \u001b[38;5;124m\"\u001b[39m\u001b[38;5;124mas it is likely to crash IPython. If you know what you are doing, \u001b[39m\u001b[38;5;124m\"\u001b[39m\n\u001b[1;32m    321\u001b[0m         \u001b[38;5;124m\"\u001b[39m\u001b[38;5;124myou can use builtins\u001b[39m\u001b[38;5;124m'\u001b[39m\u001b[38;5;124m open.\u001b[39m\u001b[38;5;124m\"\u001b[39m\n\u001b[1;32m    322\u001b[0m     )\n\u001b[0;32m--> 324\u001b[0m \u001b[38;5;28;01mreturn\u001b[39;00m \u001b[43mio_open\u001b[49m\u001b[43m(\u001b[49m\u001b[43mfile\u001b[49m\u001b[43m,\u001b[49m\u001b[43m \u001b[49m\u001b[38;5;241;43m*\u001b[39;49m\u001b[43margs\u001b[49m\u001b[43m,\u001b[49m\u001b[43m \u001b[49m\u001b[38;5;241;43m*\u001b[39;49m\u001b[38;5;241;43m*\u001b[39;49m\u001b[43mkwargs\u001b[49m\u001b[43m)\u001b[49m\n",
      "\u001b[0;31mFileNotFoundError\u001b[0m: [Errno 2] No such file or directory: './NER Training/doccano_export.jsonl'"
     ]
    }
   ],
   "source": [
    "# Build examples to provide to AWS based off of previously annotated texts\n",
    "examples = []\n",
    "max_examples = 10\n",
    "examples_added = 0\n",
    "with open(\"./NER Training/doccano_export.jsonl\", \"r\") as input:\n",
    "  for index, line in enumerate(input):\n",
    "    if examples_added > max_examples:\n",
    "      break\n",
    "    obj = json.loads(line)\n",
    "    line_text = obj[\"text\"]\n",
    "    label = obj[\"label\"]\n",
    "    if len(label) > 0:\n",
    "      examples.append((line_text, label))\n",
    "      examples_added += 1\n",
    "\n",
    "# Contains the prompt used to query Bedrock\n",
    "# Gets answer, extracts labels, and returns result\n",
    "def ask_bedrock_for_ner(text):\n",
    "  prompt = (\n",
    "  \"\"\"\n",
    "  Help me complete this NER task.\n",
    "\n",
    "  I have this tag: REF_IN\n",
    "\n",
    "  Every time there is a reference to a section within the same act, I need to receive the starting and ending position of the numerical act id. \n",
    "\n",
    "  I would like the results to use the following format:\n",
    "  [[starting index, ending index, label]]\n",
    "\n",
    "  For example, in the phrase \"Please refer to section 12.5\" The act id to label is \"12. 5\" and the result would be [24, 28, \"REF_IN\"]\n",
    "  In the phrase, \"According to section 3,\" the act id to label is \"3\" and the result would be [21, 22, \"REF_IN\"]\n",
    "\n",
    "  When there are multiple instances in a text, they should be in a list based on their order of occurrence.\n",
    "  For example, in the sentence \"Subject to sections 14. 04 to 14. 10\" the result should be [[20, 26, \"REF_IN\"],[30, 36, \"REF_IN\"]]\n",
    "\n",
    "  Basically, every time you see the word section or sections, lable the numbers that immediately follow.\n",
    "\n",
    "  Only return the label array.\n",
    "\n",
    "  Here is a list of tuples with the original text and the correct label array:\n",
    "  \"\"\"\n",
    "  f\"{examples}\\n\"\n",
    "\n",
    "  \"You try this task with the following prompt:\\n\"\n",
    "  f\"{text}\"\n",
    "  )\n",
    "  answer = get_agent_response(prompt)\n",
    "  labels = extract_labels(answer)\n",
    "  return labels\n"
   ]
  },
  {
   "cell_type": "code",
   "execution_count": 8,
   "metadata": {},
   "outputs": [
    {
     "ename": "NameError",
     "evalue": "name 'ask_bedrock_for_ner' is not defined",
     "output_type": "error",
     "traceback": [
      "\u001b[0;31m---------------------------------------------------------------------------\u001b[0m",
      "\u001b[0;31mNameError\u001b[0m                                 Traceback (most recent call last)",
      "Cell \u001b[0;32mIn[8], line 6\u001b[0m\n\u001b[1;32m      1\u001b[0m \u001b[38;5;66;03m# Example of how this is used\u001b[39;00m\n\u001b[1;32m      2\u001b[0m sample_text \u001b[38;5;241m=\u001b[39m \u001b[38;5;124m\"\"\"\u001b[39m\n\u001b[1;32m      3\u001b[0m \u001b[38;5;124m3 despite subsection ( 2 ) of this section, if under section 14. 08 ( a ) the director commences proceedings under section 3 in relation to the subject property, the public body entitled to maintain possession of the subject property under section 14. 05 continues to be entitled to maintain possession of that property until expiry of the 30 day period described in section 14. 05 ( a ). 4 this part does not apply in relation to property if the property is the subject of an order of a court establishing a right of possession in that property with a person other than the public body or authorizing a person other than the public body to have or take possession of that property\u001b[39m\n\u001b[1;32m      4\u001b[0m \u001b[38;5;124m\"\"\"\u001b[39m\n\u001b[0;32m----> 6\u001b[0m result \u001b[38;5;241m=\u001b[39m \u001b[43mask_bedrock_for_ner\u001b[49m(sample_text)\n\u001b[1;32m      7\u001b[0m \u001b[38;5;28mprint\u001b[39m(result)\n",
      "\u001b[0;31mNameError\u001b[0m: name 'ask_bedrock_for_ner' is not defined"
     ]
    }
   ],
   "source": [
    "# Example of how this is used\n",
    "sample_text = \"\"\"\n",
    "3 despite subsection ( 2 ) of this section, if under section 14. 08 ( a ) the director commences proceedings under section 3 in relation to the subject property, the public body entitled to maintain possession of the subject property under section 14. 05 continues to be entitled to maintain possession of that property until expiry of the 30 day period described in section 14. 05 ( a ). 4 this part does not apply in relation to property if the property is the subject of an order of a court establishing a right of possession in that property with a person other than the public body or authorizing a person other than the public body to have or take possession of that property\n",
    "\"\"\"\n",
    "\n",
    "result = ask_bedrock_for_ner(sample_text)\n",
    "print(result)"
   ]
  },
  {
   "cell_type": "code",
   "execution_count": 9,
   "metadata": {},
   "outputs": [
    {
     "ename": "FileNotFoundError",
     "evalue": "[Errno 2] No such file or directory: './NER Training/doccano_import_small.jsonl'",
     "output_type": "error",
     "traceback": [
      "\u001b[0;31m---------------------------------------------------------------------------\u001b[0m",
      "\u001b[0;31mFileNotFoundError\u001b[0m                         Traceback (most recent call last)",
      "Cell \u001b[0;32mIn[9], line 8\u001b[0m\n\u001b[1;32m      5\u001b[0m semaphore \u001b[38;5;241m=\u001b[39m threading\u001b[38;5;241m.\u001b[39mBoundedSemaphore(CONCURRENCY_LIMIT)\n\u001b[1;32m      7\u001b[0m \u001b[38;5;66;03m# Open input example (should be format of Doccano export)\u001b[39;00m\n\u001b[0;32m----> 8\u001b[0m \u001b[38;5;28;01mwith\u001b[39;00m \u001b[38;5;28;43mopen\u001b[39;49m\u001b[43m(\u001b[49m\u001b[38;5;124;43m\"\u001b[39;49m\u001b[38;5;124;43m./NER Training/doccano_import_small.jsonl\u001b[39;49m\u001b[38;5;124;43m\"\u001b[39;49m\u001b[43m,\u001b[49m\u001b[43m \u001b[49m\u001b[38;5;124;43m\"\u001b[39;49m\u001b[38;5;124;43mr\u001b[39;49m\u001b[38;5;124;43m\"\u001b[39;49m\u001b[43m)\u001b[49m \u001b[38;5;28;01mas\u001b[39;00m \u001b[38;5;28minput\u001b[39m:\n\u001b[1;32m      9\u001b[0m   \u001b[38;5;66;03m# Create/overwrite output file\u001b[39;00m\n\u001b[1;32m     10\u001b[0m   \u001b[38;5;28;01mwith\u001b[39;00m \u001b[38;5;28mopen\u001b[39m(\u001b[38;5;124m\"\u001b[39m\u001b[38;5;124m./NER Training/bedrock_annotation_output.jsonl\u001b[39m\u001b[38;5;124m\"\u001b[39m, \u001b[38;5;124m\"\u001b[39m\u001b[38;5;124mw\u001b[39m\u001b[38;5;124m\"\u001b[39m) \u001b[38;5;28;01mas\u001b[39;00m output:\n\u001b[1;32m     11\u001b[0m     \u001b[38;5;28;01mfor\u001b[39;00m index, line \u001b[38;5;129;01min\u001b[39;00m \u001b[38;5;28menumerate\u001b[39m(\u001b[38;5;28minput\u001b[39m):\n\u001b[1;32m     12\u001b[0m       \u001b[38;5;66;03m# Use semaphore to keep requests under concurrency limit\u001b[39;00m\n",
      "File \u001b[0;32m/usr/local/lib/python3.11/site-packages/IPython/core/interactiveshell.py:324\u001b[0m, in \u001b[0;36m_modified_open\u001b[0;34m(file, *args, **kwargs)\u001b[0m\n\u001b[1;32m    317\u001b[0m \u001b[38;5;28;01mif\u001b[39;00m file \u001b[38;5;129;01min\u001b[39;00m {\u001b[38;5;241m0\u001b[39m, \u001b[38;5;241m1\u001b[39m, \u001b[38;5;241m2\u001b[39m}:\n\u001b[1;32m    318\u001b[0m     \u001b[38;5;28;01mraise\u001b[39;00m \u001b[38;5;167;01mValueError\u001b[39;00m(\n\u001b[1;32m    319\u001b[0m         \u001b[38;5;124mf\u001b[39m\u001b[38;5;124m\"\u001b[39m\u001b[38;5;124mIPython won\u001b[39m\u001b[38;5;124m'\u001b[39m\u001b[38;5;124mt let you open fd=\u001b[39m\u001b[38;5;132;01m{\u001b[39;00mfile\u001b[38;5;132;01m}\u001b[39;00m\u001b[38;5;124m by default \u001b[39m\u001b[38;5;124m\"\u001b[39m\n\u001b[1;32m    320\u001b[0m         \u001b[38;5;124m\"\u001b[39m\u001b[38;5;124mas it is likely to crash IPython. If you know what you are doing, \u001b[39m\u001b[38;5;124m\"\u001b[39m\n\u001b[1;32m    321\u001b[0m         \u001b[38;5;124m\"\u001b[39m\u001b[38;5;124myou can use builtins\u001b[39m\u001b[38;5;124m'\u001b[39m\u001b[38;5;124m open.\u001b[39m\u001b[38;5;124m\"\u001b[39m\n\u001b[1;32m    322\u001b[0m     )\n\u001b[0;32m--> 324\u001b[0m \u001b[38;5;28;01mreturn\u001b[39;00m \u001b[43mio_open\u001b[49m\u001b[43m(\u001b[49m\u001b[43mfile\u001b[49m\u001b[43m,\u001b[49m\u001b[43m \u001b[49m\u001b[38;5;241;43m*\u001b[39;49m\u001b[43margs\u001b[49m\u001b[43m,\u001b[49m\u001b[43m \u001b[49m\u001b[38;5;241;43m*\u001b[39;49m\u001b[38;5;241;43m*\u001b[39;49m\u001b[43mkwargs\u001b[49m\u001b[43m)\u001b[49m\n",
      "\u001b[0;31mFileNotFoundError\u001b[0m: [Errno 2] No such file or directory: './NER Training/doccano_import_small.jsonl'"
     ]
    }
   ],
   "source": [
    "import threading\n",
    "\n",
    "# Replace this with your known concurrency limit\n",
    "CONCURRENCY_LIMIT = 10\n",
    "semaphore = threading.BoundedSemaphore(CONCURRENCY_LIMIT)\n",
    "\n",
    "# Open input example (should be format of Doccano export)\n",
    "with open(\"./NER Training/doccano_import_small.jsonl\", \"r\") as input:\n",
    "  # Create/overwrite output file\n",
    "  with open(\"./NER Training/bedrock_annotation_output.jsonl\", \"w\") as output:\n",
    "    for index, line in enumerate(input):\n",
    "      # Use semaphore to keep requests under concurrency limit\n",
    "      with semaphore:\n",
    "        try:\n",
    "          line_obj = json.loads(line)\n",
    "          line_number = index + 1\n",
    "          text = line_obj[\"text\"]\n",
    "          labels = ask_bedrock_for_ner(text)\n",
    "          # Only save if some text was actually labelled\n",
    "          if (labels is not None):\n",
    "            print(line_number, text, labels)\n",
    "            line_obj[\"label\"] = labels\n",
    "            json.dump(line_obj, output, ensure_ascii=False)\n",
    "            output.write(\"\\n\")\n",
    "        except Exception as e:\n",
    "          print(f\"Failed to send prompt for line {line_number}. Reason: {e}\")\n",
    "      \n"
   ]
  },
  {
   "cell_type": "code",
   "execution_count": null,
   "metadata": {},
   "outputs": [],
   "source": []
  },
  {
   "cell_type": "code",
   "execution_count": null,
   "metadata": {},
   "outputs": [],
   "source": []
  }
 ],
 "metadata": {
  "kernelspec": {
   "display_name": "Python 3 (ipykernel)",
   "language": "python",
   "name": "python3"
  },
  "language_info": {
   "codemirror_mode": {
    "name": "ipython",
    "version": 3
   },
   "file_extension": ".py",
   "mimetype": "text/x-python",
   "name": "python",
   "nbconvert_exporter": "python",
   "pygments_lexer": "ipython3",
   "version": "3.11.11"
  }
 },
 "nbformat": 4,
 "nbformat_minor": 4
}
