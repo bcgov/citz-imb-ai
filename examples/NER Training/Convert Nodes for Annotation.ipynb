{
 "cells": [
  {
   "cell_type": "code",
   "execution_count": 8,
   "id": "71fd4d29-61aa-426c-a647-e76a9ba1dfc1",
   "metadata": {},
   "outputs": [],
   "source": [
    "import json\n",
    "\n",
    "with open('./NER Training/neo4j_export.json', 'r') as input_raw:\n",
    "    try:\n",
    "      input = json.load(input_raw)\n",
    "      with open('./NER Training/doccano_import.jsonl', 'w') as output:\n",
    "        for raw_node in input:\n",
    "          node = raw_node[\"n\"]\n",
    "          properties = node[\"properties\"]\n",
    "          converted_node = {\n",
    "            \"meta\": {\n",
    "              \"identity\": node[\"identity\"],\n",
    "              \"sectionId\": properties[\"sectionId\"],\n",
    "              \"sectionName\": properties[\"sectionName\"],\n",
    "              \"ActId\": properties[\"ActId\"]\n",
    "            },\n",
    "            \"text\": properties[\"text\"],\n",
    "            \"label\": []\n",
    "          }\n",
    "          # print(converted_node)\n",
    "          json.dump(converted_node, output, ensure_ascii=False)\n",
    "          output.write(\"\\n\")\n",
    "    except:\n",
    "      print(\"Invalid JSON in input\")\n",
    "    \n",
    "      "
   ]
  }
 ],
 "metadata": {
  "kernelspec": {
   "display_name": "Python 3 (ipykernel)",
   "language": "python",
   "name": "python3"
  },
  "language_info": {
   "codemirror_mode": {
    "name": "ipython",
    "version": 3
   },
   "file_extension": ".py",
   "mimetype": "text/x-python",
   "name": "python",
   "nbconvert_exporter": "python",
   "pygments_lexer": "ipython3",
   "version": "3.11.10"
  }
 },
 "nbformat": 4,
 "nbformat_minor": 5
}
