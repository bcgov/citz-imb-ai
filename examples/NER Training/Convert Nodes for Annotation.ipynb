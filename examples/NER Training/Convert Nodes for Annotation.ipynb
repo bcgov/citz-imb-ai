{
 "cells": [
  {
   "cell_type": "markdown",
   "id": "e02ebf47",
   "metadata": {},
   "source": [
    "# Convert Nodes for Annotation\n",
    "\n",
    "A small script that converts the Neo4j exports to a common object structure used by the other annotation and training files.\n",
    "\n",
    "The result can be imported directly into Doccano if needed."
   ]
  },
  {
   "cell_type": "code",
   "execution_count": 10,
   "id": "71fd4d29-61aa-426c-a647-e76a9ba1dfc1",
   "metadata": {},
   "outputs": [],
   "source": [
    "import json\n",
    "\n",
    "with open('./neo4j_export.json', 'r', encoding='utf-8-sig') as input_raw:\n",
    "    try:\n",
    "      input = json.load(input_raw)\n",
    "      with open('./doccano_import.jsonl', 'w') as output:\n",
    "        for raw_node in input:\n",
    "          node = raw_node[\"n\"]\n",
    "          properties = node[\"properties\"]\n",
    "          converted_node = {\n",
    "            \"meta\": {\n",
    "              \"identity\": node[\"identity\"],\n",
    "              \"sectionId\": properties[\"sectionId\"],\n",
    "              \"sectionName\": properties[\"sectionName\"],\n",
    "              \"ActId\": properties[\"ActId\"]\n",
    "            },\n",
    "            \"text\": properties[\"text\"],\n",
    "            \"label\": []\n",
    "          }\n",
    "          json.dump(converted_node, output, ensure_ascii=False)\n",
    "          output.write(\"\\n\")\n",
    "    except Exception as e:\n",
    "      print(\"Invalid JSON in input\")\n",
    "      print(e)\n",
    "    \n",
    "      "
   ]
  }
 ],
 "metadata": {
  "kernelspec": {
   "display_name": "Python 3 (ipykernel)",
   "language": "python",
   "name": "python3"
  },
  "language_info": {
   "codemirror_mode": {
    "name": "ipython",
    "version": 3
   },
   "file_extension": ".py",
   "mimetype": "text/x-python",
   "name": "python",
   "nbconvert_exporter": "python",
   "pygments_lexer": "ipython3",
   "version": "3.11.10"
  }
 },
 "nbformat": 4,
 "nbformat_minor": 5
}
