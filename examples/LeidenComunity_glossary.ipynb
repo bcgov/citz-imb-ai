{
 "cells": [
  {
   "cell_type": "markdown",
   "id": "df33bb2f-e1ea-4573-b647-9f4ecad61f86",
   "metadata": {},
   "source": [
    "# Community Detection and Relationship Analysis for Glossary Terms Using the Leiden Algorithm"
   ]
  },
  {
   "cell_type": "markdown",
   "id": "a5a7e937-0d95-45c7-901e-2837026ed07b",
   "metadata": {},
   "source": [
    "Description:\n",
    "\n",
    "This notebook demonstrates how to use the Leiden algorithm to detect communities within a glossary of legal terms and analyze relationships between them. The glossary terms are grouped into distinct communities based on their interconnections, providing insights into how terms are related and clustered around specific themes or legal processes.\n",
    "\n",
    "The notebook is structured as follows:\n",
    "\n",
    "- Leiden Community Detection: We apply the Leiden algorithm to the glossary terms to uncover communities of closely related terms. Each term is assigned to a community, helping users understand which terms are more related to each other based on their relationships.\n",
    "\n",
    "- Exploration of Communities: Users can explore which terms belong to the same community, compare different communities, and identify key terms within each group. This helps in clustering glossary terms that share similar legal contexts or processes.\n",
    "\n",
    "- Relationship Queries: We provide pre-built Cypher queries to explore direct relationships between terms, such as finding related terms, counting relationships, and identifying central terms in a community.\n",
    "\n",
    "- Graph Algorithms: Additional graph algorithms, such as PageRank, are used to highlight the most important terms based on their connections within the graph.\n",
    "\n",
    "Benefits:\n",
    "\n",
    "- Thematic Clustering: The Leiden algorithm reveals which glossary terms naturally group together, helping users better understand legal topics and their relationships.\n",
    "  - Graph Exploration: The notebook provides tools to navigate the graph of glossary terms, discover related terms, and explore the structure of legal concepts.\n",
    "  - Community Detection: By detecting communities, the user can identify clusters of terms, which may represent stages in legal processes or thematic groupings of legal terms.\n",
    "\n",
    "This notebook is a powerful tool for analyzing glossary terms, making it easier to understand their relationships, navigate complex legal concepts, and identify important terms."
   ]
  },
  {
   "cell_type": "code",
   "execution_count": 11,
   "id": "cee828cc-1797-4753-b306-d2dc45cf0419",
   "metadata": {},
   "outputs": [],
   "source": [
    "import os\n",
    "from langchain_community.graphs import Neo4jGraph\n",
    "from langchain_community.vectorstores import Neo4jVector"
   ]
  },
  {
   "cell_type": "code",
   "execution_count": 48,
   "id": "062d9feb-57de-440b-8889-221c5658b8e8",
   "metadata": {},
   "outputs": [],
   "source": [
    "NEO4J_URI = \"bolt://localhost:7687\""
   ]
  },
  {
   "cell_type": "code",
   "execution_count": 49,
   "id": "1e479189-5c90-4caa-b7d2-418e7e95e866",
   "metadata": {},
   "outputs": [
    {
     "name": "stdout",
     "output_type": "stream",
     "text": [
      "bolt://neo4j:7687\n",
      "neo4j\n"
     ]
    }
   ],
   "source": [
    "NEO4J_URI = 'bolt://' + os.getenv('NEO4J_HOST') + ':7687'\n",
    "NEO4J_USERNAME = os.getenv('NEO4J_USER')\n",
    "NEO4J_PASSWORD = os.getenv('NEO4J_PASSWORD')\n",
    "NEO4J_DATABASE = 'neo4j' #os.getenv('NEO4J_DB')\n",
    "print(NEO4J_URI)\n",
    "print(NEO4J_DATABASE)"
   ]
  },
  {
   "cell_type": "code",
   "execution_count": 50,
   "id": "2e7dfc5b-8ec6-4735-8f27-59eaf6287357",
   "metadata": {},
   "outputs": [],
   "source": [
    "kg = Neo4jGraph(\n",
    "    url=NEO4J_URI, username=NEO4J_USERNAME, password=NEO4J_PASSWORD, database=NEO4J_DATABASE\n",
    ")"
   ]
  },
  {
   "cell_type": "code",
   "execution_count": 51,
   "id": "286370aa-7ad8-4c94-b6ac-3f0fe19feb6b",
   "metadata": {},
   "outputs": [],
   "source": [
    "cypher_get_glossary = \"\"\"\n",
    "MATCH (n:UpdatedChunk) where n.type='glossary' return n.glossaryTerm as  glossaryTerm, n.text as Text\n",
    "\"\"\""
   ]
  },
  {
   "cell_type": "code",
   "execution_count": 37,
   "id": "39284245-2e3f-4054-a8ec-a3f8fac6e196",
   "metadata": {},
   "outputs": [],
   "source": [
    "glossaries = kg.query(cypher_get_glossary)"
   ]
  },
  {
   "cell_type": "code",
   "execution_count": 38,
   "id": "f8eea90f-218f-4365-a4c2-f4aca8dfbdfb",
   "metadata": {},
   "outputs": [
    {
     "name": "stdout",
     "output_type": "stream",
     "text": [
      "67\n"
     ]
    }
   ],
   "source": [
    "print(len(glossary))"
   ]
  },
  {
   "cell_type": "code",
   "execution_count": 39,
   "id": "280d8314-178a-4c01-a42b-8e1aa361a9c1",
   "metadata": {},
   "outputs": [
    {
     "name": "stdout",
     "output_type": "stream",
     "text": [
      "Act\n",
      "Adjournment\n",
      "Amendment\n",
      "Amended Bill\n",
      "Amending Bill\n",
      "Amending Regulation\n",
      "Annual Bound Statutes (Buckram Bound, hardcover)\n",
      "Bill\n",
      "Bill Stages\n",
      "Cabinet\n",
      "Chapter Numbers\n",
      "Citation\n",
      "Coming into force\n",
      "Commencement Section\n",
      "Committee\n",
      "Committee of the Whole House\n",
      "Consequential Amendment\n",
      "Consolidated Provisions in Force\n",
      "Consolidated Regulations of British Columbia\n",
      "Consolidated Statutes of British Columbia ('the Looseleaf')\n",
      "Consolidation Period\n",
      "Corporate Registry\n",
      "Current Unofficial Consolidation\n",
      "Dissolution\n",
      "Enact\n",
      "Executive Council\n",
      "First Reading\n",
      "First Reading Bill\n",
      "Gazette\n",
      "Hansard\n",
      "Historical Note\n",
      "Historical Supreme Court Rules\n",
      "House\n",
      "Legislative Assembly\n",
      "Legislature\n",
      "Lieutenant Governor\n",
      "Lieutenant Governor in Council\n",
      "Looseleaf\n",
      "Minister of Finance full-text Directives and Resumes\n",
      "MLA\n",
      "Motion\n",
      "Official Version\n",
      "Order, Order in Council, Ministerial Order\n",
      "Parliament\n",
      "Point in Time (PIT)\n",
      "Proclamation\n",
      "Prorogation\n",
      "Provision\n",
      "Provisions in Force\n",
      "Regulation\n",
      "Regulations Bulletins\n",
      "Repealed\n",
      "Report Bill\n",
      "Revision\n",
      "Royal Assent\n",
      "R.S.B.C.\n",
      "S.B.C.\n",
      "Second Reading\n",
      "Session\n",
      "Sitting\n",
      "Source Law\n",
      "Statute\n",
      "Supplement\n",
      "Table of Legislative Changes\n",
      "Table of Statutes - Repealed, Replaced and Renamed\n",
      "Third Reading\n",
      "Third Reading Bill\n"
     ]
    }
   ],
   "source": [
    "for glossary in glossaries:\n",
    "    print(glossary['glossaryTerm'])"
   ]
  },
  {
   "cell_type": "code",
   "execution_count": 88,
   "id": "e2b21d58-105f-444f-9fce-5a94d8661781",
   "metadata": {},
   "outputs": [],
   "source": [
    "check_gds = \"\"\"\n",
    "RETURN gds.version();\n",
    "\"\"\""
   ]
  },
  {
   "cell_type": "code",
   "execution_count": 89,
   "id": "5dbc3ae3-10bf-4675-b645-d5d3aaf55fe3",
   "metadata": {},
   "outputs": [
    {
     "data": {
      "text/plain": [
       "[{'gds.version()': '2.9.0'}]"
      ]
     },
     "execution_count": 89,
     "metadata": {},
     "output_type": "execute_result"
    }
   ],
   "source": [
    "kg.query(check_gds)"
   ]
  },
  {
   "cell_type": "markdown",
   "id": "88690948-d242-4b61-b2d1-ad5251d2fa14",
   "metadata": {},
   "source": [
    "## Proejct the graph into memory"
   ]
  },
  {
   "cell_type": "code",
   "execution_count": 94,
   "id": "62a8372a-defc-4a1e-a183-7a47a0bab822",
   "metadata": {},
   "outputs": [],
   "source": [
    "drop_projected_graph = \"\"\"\n",
    "CALL gds.graph.drop('myGraph')\n",
    "\"\"\""
   ]
  },
  {
   "cell_type": "code",
   "execution_count": 95,
   "id": "b8ac8c8d-8b21-4c1a-ab42-f316e9fcc159",
   "metadata": {},
   "outputs": [
    {
     "name": "stderr",
     "output_type": "stream",
     "text": [
      "Received notification from DBMS server: {severity: WARNING} {code: Neo.ClientNotification.Statement.FeatureDeprecationWarning} {category: DEPRECATION} {title: This feature is deprecated and will be removed in future versions.} {description: The query used a deprecated field from a procedure. ('schema' returned by 'gds.graph.drop' is deprecated.)} {position: line: 2, column: 1, offset: 1} for query: \"\\nCALL gds.graph.drop('myGraph')\\n\"\n"
     ]
    },
    {
     "data": {
      "text/plain": [
       "[{'graphName': 'myGraph',\n",
       "  'database': 'neo4j',\n",
       "  'databaseLocation': 'local',\n",
       "  'memoryUsage': '',\n",
       "  'sizeInBytes': -1,\n",
       "  'nodeCount': 81611,\n",
       "  'relationshipCount': 134,\n",
       "  'configuration': {'relationshipProjection': {'RELATED_TERMS': {'aggregation': 'DEFAULT',\n",
       "     'orientation': 'UNDIRECTED',\n",
       "     'indexInverse': False,\n",
       "     'properties': {},\n",
       "     'type': 'RELATED_TERMS'}},\n",
       "   'readConcurrency': 4,\n",
       "   'relationshipProperties': {},\n",
       "   'nodeProperties': {},\n",
       "   'jobId': '2ba0ff4f-1cdc-427f-b5b0-23fce48b7a99',\n",
       "   'nodeProjection': {'UpdatedChunk': {'label': 'UpdatedChunk',\n",
       "     'properties': {}}},\n",
       "   'logProgress': True,\n",
       "   'creationTime': neo4j.time.DateTime(2024, 10, 22, 15, 27, 18, 611556457, tzinfo=<UTC>),\n",
       "   'validateRelationships': False,\n",
       "   'sudo': False},\n",
       "  'density': 2.0119293265501548e-08,\n",
       "  'creationTime': neo4j.time.DateTime(2024, 10, 22, 15, 27, 18, 611556457, tzinfo=<UTC>),\n",
       "  'modificationTime': neo4j.time.DateTime(2024, 10, 22, 15, 27, 18, 635131836, tzinfo=<UTC>),\n",
       "  'schema': {'graphProperties': {},\n",
       "   'nodes': {'UpdatedChunk': {}},\n",
       "   'relationships': {'RELATED_TERMS': {}}},\n",
       "  'schemaWithOrientation': {'graphProperties': {},\n",
       "   'nodes': {'UpdatedChunk': {}},\n",
       "   'relationships': {'RELATED_TERMS': {'direction': 'UNDIRECTED',\n",
       "     'properties': {}}}}}]"
      ]
     },
     "execution_count": 95,
     "metadata": {},
     "output_type": "execute_result"
    }
   ],
   "source": [
    "kg.query(drop_projected_graph)"
   ]
  },
  {
   "cell_type": "code",
   "execution_count": 96,
   "id": "584248bc-3e77-4159-a1fd-17e1ff6a7f3c",
   "metadata": {},
   "outputs": [],
   "source": [
    "myGraph = \"\"\"\n",
    "MATCH (source:UpdatedChunk)-[r:RELATED_TERMS]->(target:UpdatedChunk)\n",
    "RETURN gds.graph.project(\n",
    "  'myGraph',\n",
    "  source,\n",
    "  target,\n",
    "  {\n",
    "\n",
    "  },\n",
    "  { undirectedRelationshipTypes: ['*'] }\n",
    ")\n",
    "  \"\"\""
   ]
  },
  {
   "cell_type": "code",
   "execution_count": 97,
   "id": "1c8c7309-0c0e-4fa4-9d30-502cbbac74dd",
   "metadata": {},
   "outputs": [
    {
     "data": {
      "text/plain": [
       "[{\"gds.graph.project(\\n  'myGraph',\\n  source,\\n  target,\\n  {\\n\\n  },\\n  { undirectedRelationshipTypes: ['*'] }\\n)\": {'relationshipCount': 134,\n",
       "   'graphName': 'myGraph',\n",
       "   'query': \"\\nMATCH (source:UpdatedChunk)-[r:RELATED_TERMS]->(target:UpdatedChunk)\\nRETURN gds.graph.project(\\n  'myGraph',\\n  source,\\n  target,\\n  {\\n\\n  },\\n  { undirectedRelationshipTypes: ['*'] }\\n)\\n  \",\n",
       "   'projectMillis': 6,\n",
       "   'configuration': {'readConcurrency': 4,\n",
       "    'undirectedRelationshipTypes': ['*'],\n",
       "    'jobId': 'd5b930bd-7e0f-4ae7-82ef-c80124b51f37',\n",
       "    'logProgress': True,\n",
       "    'query': \"\\nMATCH (source:UpdatedChunk)-[r:RELATED_TERMS]->(target:UpdatedChunk)\\nRETURN gds.graph.project(\\n  'myGraph',\\n  source,\\n  target,\\n  {\\n\\n  },\\n  { undirectedRelationshipTypes: ['*'] }\\n)\\n  \",\n",
       "    'inverseIndexedRelationshipTypes': [],\n",
       "    'creationTime': neo4j.time.DateTime(2024, 10, 22, 15, 27, 48, 715904403, tzinfo=<UTC>)},\n",
       "   'nodeCount': 42}}]"
      ]
     },
     "execution_count": 97,
     "metadata": {},
     "output_type": "execute_result"
    }
   ],
   "source": [
    "kg.query(myGraph)"
   ]
  },
  {
   "cell_type": "code",
   "execution_count": 98,
   "id": "fd70bcd9-6018-4ef0-8ad9-0cb672bc69d3",
   "metadata": {},
   "outputs": [],
   "source": [
    "graph_memory_estimate = \"\"\"\n",
    "CALL gds.leiden.write.estimate('myGraph', {writeProperty: 'communityId', randomSeed: 19})\n",
    "YIELD nodeCount, relationshipCount, requiredMemory\n",
    "\"\"\""
   ]
  },
  {
   "cell_type": "code",
   "execution_count": 99,
   "id": "4f16ee83-5f8e-4c83-b545-f33f48e416f7",
   "metadata": {},
   "outputs": [
    {
     "data": {
      "text/plain": [
       "[{'nodeCount': 42,\n",
       "  'relationshipCount': 134,\n",
       "  'requiredMemory': '[559 KiB ... 560 KiB]'}]"
      ]
     },
     "execution_count": 99,
     "metadata": {},
     "output_type": "execute_result"
    }
   ],
   "source": [
    "kg.query(graph_memory_estimate)"
   ]
  },
  {
   "cell_type": "markdown",
   "id": "17639d28-6dd7-4d97-a13e-22e966dc5947",
   "metadata": {},
   "source": [
    "### ### Show the commnuity after the aglorithim has completed"
   ]
  },
  {
   "cell_type": "code",
   "execution_count": 157,
   "id": "d1ed9719-ad1d-425c-8782-c85b7ca926ec",
   "metadata": {},
   "outputs": [],
   "source": [
    "stream_leiden = \"\"\"\n",
    "CALL gds.leiden.stream('myGraph')\n",
    "YIELD nodeId, communityId\n",
    "RETURN gds.util.asNode(nodeId).glossaryTerm AS name, communityId\n",
    "ORDER BY name ASC\n",
    "\"\"\""
   ]
  },
  {
   "cell_type": "code",
   "execution_count": 158,
   "id": "fa45ff82-f080-44ec-bad0-93371a570113",
   "metadata": {},
   "outputs": [
    {
     "data": {
      "text/plain": [
       "[{'name': 'Act', 'communityId': 11},\n",
       " {'name': 'Adjournment', 'communityId': 12},\n",
       " {'name': 'Amended Bill', 'communityId': 10},\n",
       " {'name': 'Amending Bill', 'communityId': 11},\n",
       " {'name': 'Amending Regulation', 'communityId': 11},\n",
       " {'name': 'Amendment', 'communityId': 4},\n",
       " {'name': 'Annual Bound Statutes (Buckram Bound, hardcover)',\n",
       "  'communityId': 2},\n",
       " {'name': 'Bill', 'communityId': 6},\n",
       " {'name': 'Bill Stages', 'communityId': 6},\n",
       " {'name': 'Cabinet', 'communityId': 8},\n",
       " {'name': 'Chapter Numbers', 'communityId': 11},\n",
       " {'name': 'Coming into force', 'communityId': 5},\n",
       " {'name': 'Commencement Section', 'communityId': 5},\n",
       " {'name': 'Committee', 'communityId': 6},\n",
       " {'name': 'Committee of the Whole House', 'communityId': 6},\n",
       " {'name': 'Consequential Amendment', 'communityId': 4},\n",
       " {'name': 'Consolidated Provisions in Force', 'communityId': 9},\n",
       " {'name': 'Consolidated Regulations of British Columbia', 'communityId': 2},\n",
       " {'name': \"Consolidated Statutes of British Columbia ('the Looseleaf')\",\n",
       "  'communityId': 2},\n",
       " {'name': 'Current Unofficial Consolidation', 'communityId': 2},\n",
       " {'name': 'Dissolution', 'communityId': 12},\n",
       " {'name': 'Executive Council', 'communityId': 8},\n",
       " {'name': 'First Reading', 'communityId': 6},\n",
       " {'name': 'First Reading Bill', 'communityId': 10},\n",
       " {'name': 'Gazette', 'communityId': 2},\n",
       " {'name': 'Historical Note', 'communityId': 2},\n",
       " {'name': 'Looseleaf', 'communityId': 2},\n",
       " {'name': 'Official Version', 'communityId': 2},\n",
       " {'name': 'Parliament', 'communityId': 0},\n",
       " {'name': 'Prorogation', 'communityId': 12},\n",
       " {'name': 'Provisions in Force', 'communityId': 9},\n",
       " {'name': 'R.S.B.C.', 'communityId': 14},\n",
       " {'name': 'Regulation', 'communityId': 11},\n",
       " {'name': 'Report Bill', 'communityId': 10},\n",
       " {'name': 'Revision', 'communityId': 14},\n",
       " {'name': 'Royal Assent', 'communityId': 5},\n",
       " {'name': 'Second Reading', 'communityId': 6},\n",
       " {'name': 'Session', 'communityId': 0},\n",
       " {'name': 'Sitting', 'communityId': 0},\n",
       " {'name': 'Statute', 'communityId': 11},\n",
       " {'name': 'Third Reading', 'communityId': 6},\n",
       " {'name': 'Third Reading Bill', 'communityId': 10}]"
      ]
     },
     "execution_count": 158,
     "metadata": {},
     "output_type": "execute_result"
    }
   ],
   "source": [
    "kg.query(stream_leiden)"
   ]
  },
  {
   "cell_type": "code",
   "execution_count": 161,
   "id": "9758b876-8945-4934-a85e-72584e264b38",
   "metadata": {},
   "outputs": [
    {
     "data": {
      "text/plain": [
       "[{'name': 'Official Version', 'score': 2.569884481094245},\n",
       " {'name': 'Bill Stages', 'score': 1.7573752355218164},\n",
       " {'name': 'Act', 'score': 1.6551578717726698},\n",
       " {'name': 'Consolidated Regulations of British Columbia',\n",
       "  'score': 1.5920024447829655},\n",
       " {'name': 'Bill', 'score': 1.515237809744991},\n",
       " {'name': 'Royal Assent', 'score': 1.402891495173952},\n",
       " {'name': 'First Reading', 'score': 1.2780644314435003},\n",
       " {'name': 'Second Reading', 'score': 1.2780644314435003},\n",
       " {'name': 'Third Reading', 'score': 1.2780644314435003},\n",
       " {'name': 'Report Bill', 'score': 1.1804109542486736}]"
      ]
     },
     "execution_count": 161,
     "metadata": {},
     "output_type": "execute_result"
    }
   ],
   "source": [
    "test = \"\"\"\n",
    "CALL gds.pageRank.stream('myGraph')\n",
    "YIELD nodeId, score\n",
    "RETURN gds.util.asNode(nodeId).glossaryTerm AS name, score\n",
    "ORDER BY score DESC\n",
    "LIMIT 10\n",
    "\"\"\"\n",
    "kg.query(test)"
   ]
  },
  {
   "cell_type": "code",
   "execution_count": 162,
   "id": "3c0fdfd7-dcca-424f-87a6-5912650fbac5",
   "metadata": {},
   "outputs": [
    {
     "data": {
      "text/plain": [
       "[{'communityCount': 11}]"
      ]
     },
     "execution_count": 162,
     "metadata": {},
     "output_type": "execute_result"
    }
   ],
   "source": [
    "test = \"\"\"\n",
    "CALL gds.leiden.stats('myGraph', { randomSeed: 19 })\n",
    "YIELD communityCount\n",
    "\"\"\"\n",
    "kg.query(test)"
   ]
  },
  {
   "cell_type": "markdown",
   "id": "909d7bf0-a9af-4178-87ea-37a7ad436582",
   "metadata": {},
   "source": [
    "## Intermediate Communities"
   ]
  },
  {
   "cell_type": "code",
   "execution_count": 163,
   "id": "775c9b5a-b07f-4697-9f0c-1f840a2d619e",
   "metadata": {},
   "outputs": [
    {
     "data": {
      "text/plain": [
       "[{'name': 'Act', 'communityId': 12, 'intermediateCommunityIds': [41, 12]},\n",
       " {'name': 'Adjournment',\n",
       "  'communityId': 13,\n",
       "  'intermediateCommunityIds': [4, 13]},\n",
       " {'name': 'Amended Bill',\n",
       "  'communityId': 8,\n",
       "  'intermediateCommunityIds': [32, 8]},\n",
       " {'name': 'Amending Bill',\n",
       "  'communityId': 12,\n",
       "  'intermediateCommunityIds': [41, 12]},\n",
       " {'name': 'Amending Regulation',\n",
       "  'communityId': 12,\n",
       "  'intermediateCommunityIds': [9, 12]},\n",
       " {'name': 'Amendment', 'communityId': 2, 'intermediateCommunityIds': [25, 2]},\n",
       " {'name': 'Annual Bound Statutes (Buckram Bound, hardcover)',\n",
       "  'communityId': 4,\n",
       "  'intermediateCommunityIds': [11, 4]},\n",
       " {'name': 'Bill', 'communityId': 10, 'intermediateCommunityIds': [12, 10]},\n",
       " {'name': 'Bill Stages',\n",
       "  'communityId': 10,\n",
       "  'intermediateCommunityIds': [12, 10]},\n",
       " {'name': 'Cabinet', 'communityId': 11, 'intermediateCommunityIds': [17, 11]},\n",
       " {'name': 'Chapter Numbers',\n",
       "  'communityId': 12,\n",
       "  'intermediateCommunityIds': [41, 12]},\n",
       " {'name': 'Coming into force',\n",
       "  'communityId': 0,\n",
       "  'intermediateCommunityIds': [21, 0]},\n",
       " {'name': 'Commencement Section',\n",
       "  'communityId': 0,\n",
       "  'intermediateCommunityIds': [21, 0]},\n",
       " {'name': 'Committee',\n",
       "  'communityId': 10,\n",
       "  'intermediateCommunityIds': [23, 10]},\n",
       " {'name': 'Committee of the Whole House',\n",
       "  'communityId': 10,\n",
       "  'intermediateCommunityIds': [23, 10]},\n",
       " {'name': 'Consequential Amendment',\n",
       "  'communityId': 2,\n",
       "  'intermediateCommunityIds': [25, 2]},\n",
       " {'name': 'Consolidated Provisions in Force',\n",
       "  'communityId': 9,\n",
       "  'intermediateCommunityIds': [35, 9]},\n",
       " {'name': 'Consolidated Regulations of British Columbia',\n",
       "  'communityId': 4,\n",
       "  'intermediateCommunityIds': [27, 4]},\n",
       " {'name': \"Consolidated Statutes of British Columbia ('the Looseleaf')\",\n",
       "  'communityId': 4,\n",
       "  'intermediateCommunityIds': [11, 4]},\n",
       " {'name': 'Current Unofficial Consolidation',\n",
       "  'communityId': 4,\n",
       "  'intermediateCommunityIds': [11, 4]},\n",
       " {'name': 'Dissolution',\n",
       "  'communityId': 13,\n",
       "  'intermediateCommunityIds': [4, 13]},\n",
       " {'name': 'Executive Council',\n",
       "  'communityId': 11,\n",
       "  'intermediateCommunityIds': [17, 11]},\n",
       " {'name': 'First Reading',\n",
       "  'communityId': 10,\n",
       "  'intermediateCommunityIds': [12, 10]},\n",
       " {'name': 'First Reading Bill',\n",
       "  'communityId': 8,\n",
       "  'intermediateCommunityIds': [32, 8]},\n",
       " {'name': 'Gazette', 'communityId': 4, 'intermediateCommunityIds': [27, 4]},\n",
       " {'name': 'Historical Note',\n",
       "  'communityId': 4,\n",
       "  'intermediateCommunityIds': [27, 4]},\n",
       " {'name': 'Looseleaf', 'communityId': 4, 'intermediateCommunityIds': [11, 4]},\n",
       " {'name': 'Official Version',\n",
       "  'communityId': 4,\n",
       "  'intermediateCommunityIds': [11, 4]},\n",
       " {'name': 'Parliament', 'communityId': 6, 'intermediateCommunityIds': [40, 6]},\n",
       " {'name': 'Prorogation',\n",
       "  'communityId': 13,\n",
       "  'intermediateCommunityIds': [4, 13]},\n",
       " {'name': 'Provisions in Force',\n",
       "  'communityId': 9,\n",
       "  'intermediateCommunityIds': [35, 9]},\n",
       " {'name': 'R.S.B.C.', 'communityId': 5, 'intermediateCommunityIds': [37, 5]},\n",
       " {'name': 'Regulation',\n",
       "  'communityId': 12,\n",
       "  'intermediateCommunityIds': [9, 12]},\n",
       " {'name': 'Report Bill',\n",
       "  'communityId': 8,\n",
       "  'intermediateCommunityIds': [32, 8]},\n",
       " {'name': 'Revision', 'communityId': 5, 'intermediateCommunityIds': [37, 5]},\n",
       " {'name': 'Royal Assent',\n",
       "  'communityId': 0,\n",
       "  'intermediateCommunityIds': [21, 0]},\n",
       " {'name': 'Second Reading',\n",
       "  'communityId': 10,\n",
       "  'intermediateCommunityIds': [12, 10]},\n",
       " {'name': 'Session', 'communityId': 6, 'intermediateCommunityIds': [40, 6]},\n",
       " {'name': 'Sitting', 'communityId': 6, 'intermediateCommunityIds': [40, 6]},\n",
       " {'name': 'Statute', 'communityId': 12, 'intermediateCommunityIds': [41, 12]},\n",
       " {'name': 'Third Reading',\n",
       "  'communityId': 10,\n",
       "  'intermediateCommunityIds': [12, 10]},\n",
       " {'name': 'Third Reading Bill',\n",
       "  'communityId': 8,\n",
       "  'intermediateCommunityIds': [32, 8]}]"
      ]
     },
     "execution_count": 163,
     "metadata": {},
     "output_type": "execute_result"
    }
   ],
   "source": [
    "test = \"\"\"\n",
    "CALL gds.leiden.stream('myGraph', {\n",
    "  randomSeed: 23,\n",
    "  includeIntermediateCommunities: true,\n",
    "  concurrency: 1\n",
    "})\n",
    "YIELD nodeId, communityId, intermediateCommunityIds\n",
    "RETURN gds.util.asNode(nodeId).glossaryTerm AS name, communityId, intermediateCommunityIds\n",
    "ORDER BY name ASC\n",
    "\"\"\"\n",
    "kg.query(test)"
   ]
  },
  {
   "cell_type": "markdown",
   "id": "95f3d075-e7cc-4408-9d76-37602b357dcc",
   "metadata": {},
   "source": [
    "## Write the data back to the original node"
   ]
  },
  {
   "cell_type": "code",
   "execution_count": 128,
   "id": "46c3edfc-b99b-49c7-ae9f-cbfe52113a0a",
   "metadata": {},
   "outputs": [],
   "source": [
    "write_community = \"\"\"\n",
    "CALL gds.leiden.write('myGraph', {\n",
    "  writeProperty: 'intermediateCommunities',\n",
    "  randomSeed: 19,\n",
    "  includeIntermediateCommunities: true,\n",
    "  concurrency: 1\n",
    "})\n",
    "YIELD communityCount, modularity, modularities\n",
    "\"\"\""
   ]
  },
  {
   "cell_type": "code",
   "execution_count": 129,
   "id": "98d616e8-2df7-4290-9795-224bd720d520",
   "metadata": {},
   "outputs": [
    {
     "data": {
      "text/plain": [
       "[{'communityCount': 11,\n",
       "  'modularity': 0.715860993539764,\n",
       "  'modularities': [0.6697482735575851, 0.715860993539764]}]"
      ]
     },
     "execution_count": 129,
     "metadata": {},
     "output_type": "execute_result"
    }
   ],
   "source": [
    "kg.query(write_community)"
   ]
  },
  {
   "cell_type": "markdown",
   "id": "2a7a2ba9-1b06-4d03-8ac7-c1fc13728480",
   "metadata": {},
   "source": [
    "## Now lets try to understnad what kind of questions this graph can help answer"
   ]
  },
  {
   "cell_type": "markdown",
   "id": "a540d353-76de-4ef3-b95e-19d9ca9307ea",
   "metadata": {},
   "source": [
    "### Querying the nodes and their community ID's from teh saved Node in NEO4J"
   ]
  },
  {
   "cell_type": "code",
   "execution_count": 164,
   "id": "dc7573ba-ff33-4fd5-b8ff-385c3591764c",
   "metadata": {},
   "outputs": [],
   "source": [
    "query = \"\"\"\n",
    "MATCH (n:UpdatedChunk)\n",
    "where n.communityId is not NULL\n",
    "RETURN n.glossaryTerm AS Term, n.communityId\n",
    "ORDER BY n.communityId\n",
    "\"\"\""
   ]
  },
  {
   "cell_type": "code",
   "execution_count": 165,
   "id": "452db56b-7680-455f-b09b-80dd6c52fe2d",
   "metadata": {},
   "outputs": [
    {
     "data": {
      "text/plain": [
       "[{'Term': 'Annual Bound Statutes (Buckram Bound, hardcover)',\n",
       "  'n.communityId': 1},\n",
       " {'Term': 'Consolidated Regulations of British Columbia', 'n.communityId': 1},\n",
       " {'Term': \"Consolidated Statutes of British Columbia ('the Looseleaf')\",\n",
       "  'n.communityId': 1},\n",
       " {'Term': 'Current Unofficial Consolidation', 'n.communityId': 1},\n",
       " {'Term': 'Gazette', 'n.communityId': 1},\n",
       " {'Term': 'Historical Note', 'n.communityId': 1},\n",
       " {'Term': 'Looseleaf', 'n.communityId': 1},\n",
       " {'Term': 'Official Version', 'n.communityId': 1},\n",
       " {'Term': 'Amendment', 'n.communityId': 3},\n",
       " {'Term': 'Consequential Amendment', 'n.communityId': 3},\n",
       " {'Term': 'Coming into force', 'n.communityId': 4},\n",
       " {'Term': 'Commencement Section', 'n.communityId': 4},\n",
       " {'Term': 'Royal Assent', 'n.communityId': 4},\n",
       " {'Term': 'Revision', 'n.communityId': 5},\n",
       " {'Term': 'R.S.B.C.', 'n.communityId': 5},\n",
       " {'Term': 'Parliament', 'n.communityId': 6},\n",
       " {'Term': 'Session', 'n.communityId': 6},\n",
       " {'Term': 'Sitting', 'n.communityId': 6},\n",
       " {'Term': 'Consolidated Provisions in Force', 'n.communityId': 8},\n",
       " {'Term': 'Provisions in Force', 'n.communityId': 8},\n",
       " {'Term': 'Amended Bill', 'n.communityId': 9},\n",
       " {'Term': 'First Reading Bill', 'n.communityId': 9},\n",
       " {'Term': 'Report Bill', 'n.communityId': 9},\n",
       " {'Term': 'Third Reading Bill', 'n.communityId': 9},\n",
       " {'Term': 'Adjournment', 'n.communityId': 10},\n",
       " {'Term': 'Dissolution', 'n.communityId': 10},\n",
       " {'Term': 'Prorogation', 'n.communityId': 10},\n",
       " {'Term': 'Act', 'n.communityId': 12},\n",
       " {'Term': 'Amending Bill', 'n.communityId': 12},\n",
       " {'Term': 'Amending Regulation', 'n.communityId': 12},\n",
       " {'Term': 'Chapter Numbers', 'n.communityId': 12},\n",
       " {'Term': 'Regulation', 'n.communityId': 12},\n",
       " {'Term': 'Statute', 'n.communityId': 12},\n",
       " {'Term': 'Bill', 'n.communityId': 13},\n",
       " {'Term': 'Bill Stages', 'n.communityId': 13},\n",
       " {'Term': 'Committee', 'n.communityId': 13},\n",
       " {'Term': 'Committee of the Whole House', 'n.communityId': 13},\n",
       " {'Term': 'First Reading', 'n.communityId': 13},\n",
       " {'Term': 'Second Reading', 'n.communityId': 13},\n",
       " {'Term': 'Third Reading', 'n.communityId': 13},\n",
       " {'Term': 'Cabinet', 'n.communityId': 14},\n",
       " {'Term': 'Executive Council', 'n.communityId': 14}]"
      ]
     },
     "execution_count": 165,
     "metadata": {},
     "output_type": "execute_result"
    }
   ],
   "source": [
    "kg.query(query)"
   ]
  },
  {
   "cell_type": "markdown",
   "id": "8259a20f-2d93-4421-b226-614f436ecd66",
   "metadata": {},
   "source": [
    "### Find All Nodes in a Specific Community:"
   ]
  },
  {
   "cell_type": "code",
   "execution_count": 166,
   "id": "f972ac9c-ff50-4278-8862-8ec1bf3ef941",
   "metadata": {},
   "outputs": [],
   "source": [
    "query = \"\"\"\n",
    "MATCH (n:UpdatedChunk)\n",
    "WHERE n.communityId = 10\n",
    "RETURN n.glossaryTerm AS Term\n",
    "\"\"\""
   ]
  },
  {
   "cell_type": "code",
   "execution_count": 167,
   "id": "5f70acef-2447-4bbf-ac8e-a9faafc577d0",
   "metadata": {},
   "outputs": [
    {
     "data": {
      "text/plain": [
       "[{'Term': 'Adjournment'}, {'Term': 'Dissolution'}, {'Term': 'Prorogation'}]"
      ]
     },
     "execution_count": 167,
     "metadata": {},
     "output_type": "execute_result"
    }
   ],
   "source": [
    "kg.query(query)"
   ]
  },
  {
   "cell_type": "markdown",
   "id": "ce39ac61-315d-43df-b6e3-d42fa69f3702",
   "metadata": {},
   "source": [
    "### What communities exist and what terms are in each"
   ]
  },
  {
   "cell_type": "code",
   "execution_count": null,
   "id": "3bf05e08-ef79-436f-b712-f077303d3e92",
   "metadata": {},
   "outputs": [],
   "source": [
    "query = \"\"\"\n",
    "MATCH (n:UpdatedChunk)\n",
    "where n.communityId is not null\n",
    "RETURN n.communityId AS communityId, COLLECT(n.glossaryTerm) AS terms\n",
    "\"\"\""
   ]
  },
  {
   "cell_type": "code",
   "execution_count": 177,
   "id": "d47053f6-6243-4620-88b9-de6a27af602e",
   "metadata": {},
   "outputs": [
    {
     "data": {
      "text/plain": [
       "[{'communityId': 12,\n",
       "  'terms': ['Act',\n",
       "   'Amending Bill',\n",
       "   'Amending Regulation',\n",
       "   'Chapter Numbers',\n",
       "   'Regulation',\n",
       "   'Statute']},\n",
       " {'communityId': 10, 'terms': ['Adjournment', 'Dissolution', 'Prorogation']},\n",
       " {'communityId': 3, 'terms': ['Amendment', 'Consequential Amendment']},\n",
       " {'communityId': 9,\n",
       "  'terms': ['Amended Bill',\n",
       "   'First Reading Bill',\n",
       "   'Report Bill',\n",
       "   'Third Reading Bill']},\n",
       " {'communityId': 1,\n",
       "  'terms': ['Annual Bound Statutes (Buckram Bound, hardcover)',\n",
       "   'Consolidated Regulations of British Columbia',\n",
       "   \"Consolidated Statutes of British Columbia ('the Looseleaf')\",\n",
       "   'Current Unofficial Consolidation',\n",
       "   'Gazette',\n",
       "   'Historical Note',\n",
       "   'Looseleaf',\n",
       "   'Official Version']},\n",
       " {'communityId': 13,\n",
       "  'terms': ['Bill',\n",
       "   'Bill Stages',\n",
       "   'Committee',\n",
       "   'Committee of the Whole House',\n",
       "   'First Reading',\n",
       "   'Second Reading',\n",
       "   'Third Reading']},\n",
       " {'communityId': 14, 'terms': ['Cabinet', 'Executive Council']},\n",
       " {'communityId': 4,\n",
       "  'terms': ['Coming into force', 'Commencement Section', 'Royal Assent']},\n",
       " {'communityId': 8,\n",
       "  'terms': ['Consolidated Provisions in Force', 'Provisions in Force']},\n",
       " {'communityId': 6, 'terms': ['Parliament', 'Session', 'Sitting']},\n",
       " {'communityId': 5, 'terms': ['Revision', 'R.S.B.C.']}]"
      ]
     },
     "execution_count": 177,
     "metadata": {},
     "output_type": "execute_result"
    }
   ],
   "source": [
    "kg.query(query)"
   ]
  },
  {
   "cell_type": "markdown",
   "id": "5ec34972-aabf-41d6-adfa-eaf79d7541ea",
   "metadata": {},
   "source": [
    "### Which glossary term is the central node in its community?\"\n",
    "If you want to find a \"central\" node in a community (using centrality or relationships count):"
   ]
  },
  {
   "cell_type": "code",
   "execution_count": 178,
   "id": "290eda68-e821-4af1-b310-7116426ff9cd",
   "metadata": {},
   "outputs": [],
   "source": [
    "query = \"\"\"\n",
    "MATCH (n:UpdatedChunk)-[r:RELATED_TERMS]->()\n",
    "where n.communityId is NOT NULL\n",
    "WITH n, COUNT(r) AS degree\n",
    "RETURN n.glossaryTerm, n.communityId, degree\n",
    "ORDER BY degree DESC\n",
    "\"\"\""
   ]
  },
  {
   "cell_type": "code",
   "execution_count": 179,
   "id": "99903b89-e05b-4d03-b983-e343a19190d9",
   "metadata": {},
   "outputs": [
    {
     "data": {
      "text/plain": [
       "[{'n.glossaryTerm': 'Bill', 'n.communityId': 13, 'degree': 4},\n",
       " {'n.glossaryTerm': 'Bill Stages', 'n.communityId': 13, 'degree': 4},\n",
       " {'n.glossaryTerm': 'First Reading', 'n.communityId': 13, 'degree': 4},\n",
       " {'n.glossaryTerm': 'Second Reading', 'n.communityId': 13, 'degree': 4},\n",
       " {'n.glossaryTerm': 'Third Reading', 'n.communityId': 13, 'degree': 4},\n",
       " {'n.glossaryTerm': 'Consolidated Regulations of British Columbia',\n",
       "  'n.communityId': 1,\n",
       "  'degree': 3},\n",
       " {'n.glossaryTerm': 'First Reading Bill', 'n.communityId': 9, 'degree': 3},\n",
       " {'n.glossaryTerm': 'Report Bill', 'n.communityId': 9, 'degree': 3},\n",
       " {'n.glossaryTerm': 'Third Reading Bill', 'n.communityId': 9, 'degree': 3},\n",
       " {'n.glossaryTerm': 'Act', 'n.communityId': 12, 'degree': 2},\n",
       " {'n.glossaryTerm': 'Adjournment', 'n.communityId': 10, 'degree': 2},\n",
       " {'n.glossaryTerm': 'Amending Bill', 'n.communityId': 12, 'degree': 2},\n",
       " {'n.glossaryTerm': 'Amending Regulation', 'n.communityId': 12, 'degree': 2},\n",
       " {'n.glossaryTerm': 'Chapter Numbers', 'n.communityId': 12, 'degree': 2},\n",
       " {'n.glossaryTerm': 'Dissolution', 'n.communityId': 10, 'degree': 2},\n",
       " {'n.glossaryTerm': 'Prorogation', 'n.communityId': 10, 'degree': 2},\n",
       " {'n.glossaryTerm': 'Session', 'n.communityId': 6, 'degree': 2},\n",
       " {'n.glossaryTerm': 'Sitting', 'n.communityId': 6, 'degree': 2},\n",
       " {'n.glossaryTerm': 'Amended Bill', 'n.communityId': 9, 'degree': 1},\n",
       " {'n.glossaryTerm': 'Annual Bound Statutes (Buckram Bound, hardcover)',\n",
       "  'n.communityId': 1,\n",
       "  'degree': 1},\n",
       " {'n.glossaryTerm': 'Cabinet', 'n.communityId': 14, 'degree': 1},\n",
       " {'n.glossaryTerm': 'Coming into force', 'n.communityId': 4, 'degree': 1},\n",
       " {'n.glossaryTerm': 'Commencement Section', 'n.communityId': 4, 'degree': 1},\n",
       " {'n.glossaryTerm': 'Committee', 'n.communityId': 13, 'degree': 1},\n",
       " {'n.glossaryTerm': 'Committee of the Whole House',\n",
       "  'n.communityId': 13,\n",
       "  'degree': 1},\n",
       " {'n.glossaryTerm': 'Consequential Amendment',\n",
       "  'n.communityId': 3,\n",
       "  'degree': 1},\n",
       " {'n.glossaryTerm': \"Consolidated Statutes of British Columbia ('the Looseleaf')\",\n",
       "  'n.communityId': 1,\n",
       "  'degree': 1},\n",
       " {'n.glossaryTerm': 'Current Unofficial Consolidation',\n",
       "  'n.communityId': 1,\n",
       "  'degree': 1},\n",
       " {'n.glossaryTerm': 'Executive Council', 'n.communityId': 14, 'degree': 1},\n",
       " {'n.glossaryTerm': 'Looseleaf', 'n.communityId': 1, 'degree': 1},\n",
       " {'n.glossaryTerm': 'Provisions in Force', 'n.communityId': 8, 'degree': 1},\n",
       " {'n.glossaryTerm': 'Revision', 'n.communityId': 5, 'degree': 1},\n",
       " {'n.glossaryTerm': 'Royal Assent', 'n.communityId': 4, 'degree': 1},\n",
       " {'n.glossaryTerm': 'R.S.B.C.', 'n.communityId': 5, 'degree': 1},\n",
       " {'n.glossaryTerm': 'Statute', 'n.communityId': 12, 'degree': 1}]"
      ]
     },
     "execution_count": 179,
     "metadata": {},
     "output_type": "execute_result"
    }
   ],
   "source": [
    "kg.query(query)"
   ]
  },
  {
   "cell_type": "markdown",
   "id": "7d0067b8-535d-400b-85f6-d9aaa9fa587c",
   "metadata": {},
   "source": [
    "### \"How many terms reference 'Bill'?\"\n",
    "This query counts the number of terms related to \"Bill\":"
   ]
  },
  {
   "cell_type": "code",
   "execution_count": 180,
   "id": "a16a7f77-20c1-4656-980d-1c8de402bca4",
   "metadata": {},
   "outputs": [],
   "source": [
    "query = \"\"\"\n",
    "MATCH (n:UpdatedChunk {glossaryTerm: 'Bill'})-[:RELATED_TERMS]->(related)\n",
    "RETURN COUNT(related)\n",
    "\"\"\""
   ]
  },
  {
   "cell_type": "code",
   "execution_count": 181,
   "id": "e492f9ce-1cfe-4473-948f-e944613f908e",
   "metadata": {},
   "outputs": [
    {
     "data": {
      "text/plain": [
       "[{'COUNT(related)': 4}]"
      ]
     },
     "execution_count": 181,
     "metadata": {},
     "output_type": "execute_result"
    }
   ],
   "source": [
    "kg.query(query)"
   ]
  },
  {
   "cell_type": "markdown",
   "id": "497f564d-2e32-4f19-85f6-53a6bae785e2",
   "metadata": {},
   "source": [
    "## Finding relationships\n",
    "\"Which terms reference both 'Second Reading' and 'Bill'?\"\n",
    "\n",
    "To find terms that are related to both \"Amendment\" and \"Bill\":"
   ]
  },
  {
   "cell_type": "code",
   "execution_count": 184,
   "id": "bafe0e21-8eef-4f6b-aff6-8d5f732154a2",
   "metadata": {},
   "outputs": [],
   "source": [
    "query = \"\"\"\n",
    "MATCH (n:UpdatedChunk)-[:RELATED_TERMS]->(a:UpdatedChunk {glossaryTerm: 'Second Reading'}),\n",
    "      (n)-[:RELATED_TERMS]->(b:UpdatedChunk {glossaryTerm: 'Bill'})\n",
    "RETURN n.glossaryTerm\n",
    "\"\"\""
   ]
  },
  {
   "cell_type": "code",
   "execution_count": 185,
   "id": "374750e0-d44b-4b7f-9608-f3a46554b32f",
   "metadata": {},
   "outputs": [
    {
     "data": {
      "text/plain": [
       "[{'n.glossaryTerm': 'Bill Stages'}]"
      ]
     },
     "execution_count": 185,
     "metadata": {},
     "output_type": "execute_result"
    }
   ],
   "source": [
    "kg.query(query) "
   ]
  },
  {
   "cell_type": "markdown",
   "id": "42fa450d-a1ca-4d0e-a9f5-41c8521ba32a",
   "metadata": {},
   "source": [
    "## Visulaizing the graph that has all related terms (nothing to do with this community detection)\n",
    "- Run this on the NEO4J browser"
   ]
  },
  {
   "cell_type": "code",
   "execution_count": 155,
   "id": "9d8fb826-da83-4194-92b0-73c5ff89c4b5",
   "metadata": {},
   "outputs": [],
   "source": [
    "query = \"\"\"\n",
    "MATCH (n:UpdatedChunk)-[r:RELATED_TERMS]->(m:UpdatedChunk)\n",
    "RETURN n, r, m\n",
    "\"\"\""
   ]
  },
  {
   "cell_type": "code",
   "execution_count": null,
   "id": "28753fef-02d5-4637-9305-4ea9f6aba1c1",
   "metadata": {},
   "outputs": [],
   "source": [
    "kg.query(query)"
   ]
  },
  {
   "cell_type": "markdown",
   "id": "219a63de-d01d-4813-a677-7e52cf10cdaf",
   "metadata": {},
   "source": [
    "## Summarizing Communities and Terms:"
   ]
  },
  {
   "cell_type": "markdown",
   "id": "b3d32d35-cdef-4db5-bc7d-f28ac13c9feb",
   "metadata": {},
   "source": [
    "\"How many terms are there in each community?\""
   ]
  },
  {
   "cell_type": "code",
   "execution_count": 191,
   "id": "b2f6e982-67c9-4086-acdf-3eb58f47db50",
   "metadata": {},
   "outputs": [],
   "source": [
    "query = \"\"\"\n",
    "MATCH (n:UpdatedChunk)\n",
    "where n.communityId is not null\n",
    "RETURN n.communityId AS communityId, COUNT(n) AS term_count\n",
    "\"\"\""
   ]
  },
  {
   "cell_type": "code",
   "execution_count": 192,
   "id": "afeff180-e30f-4eac-aec8-7076eba148cd",
   "metadata": {},
   "outputs": [
    {
     "data": {
      "text/plain": [
       "[{'communityId': 12, 'term_count': 6},\n",
       " {'communityId': 10, 'term_count': 3},\n",
       " {'communityId': 3, 'term_count': 2},\n",
       " {'communityId': 9, 'term_count': 4},\n",
       " {'communityId': 1, 'term_count': 8},\n",
       " {'communityId': 13, 'term_count': 7},\n",
       " {'communityId': 14, 'term_count': 2},\n",
       " {'communityId': 4, 'term_count': 3},\n",
       " {'communityId': 8, 'term_count': 2},\n",
       " {'communityId': 6, 'term_count': 3},\n",
       " {'communityId': 5, 'term_count': 2}]"
      ]
     },
     "execution_count": 192,
     "metadata": {},
     "output_type": "execute_result"
    }
   ],
   "source": [
    "kg.query(query)"
   ]
  },
  {
   "cell_type": "markdown",
   "id": "e984702b-4678-4b9a-b6c4-6acd379fbd2f",
   "metadata": {},
   "source": [
    "Which community has the most terms?\""
   ]
  },
  {
   "cell_type": "code",
   "execution_count": 194,
   "id": "73e35f65-46be-4ff9-85df-0ad67f742a2e",
   "metadata": {},
   "outputs": [],
   "source": [
    "query = \"\"\"\n",
    "MATCH (n:UpdatedChunk)\n",
    "where n.communityId is not NULL\n",
    "RETURN n.communityId AS communityId, COUNT(n) AS term_count\n",
    "ORDER BY term_count DESC\n",
    "LIMIT 1\n",
    "\"\"\""
   ]
  },
  {
   "cell_type": "code",
   "execution_count": 195,
   "id": "14bfda63-79cd-4332-b03b-2762b23e7071",
   "metadata": {},
   "outputs": [
    {
     "data": {
      "text/plain": [
       "[{'communityId': 1, 'term_count': 8}]"
      ]
     },
     "execution_count": 195,
     "metadata": {},
     "output_type": "execute_result"
    }
   ],
   "source": [
    "kg.query(query)"
   ]
  },
  {
   "cell_type": "markdown",
   "id": "3d01dd95-8f77-4e6b-9831-5efccf9957ec",
   "metadata": {},
   "source": [
    "\"What is the largest community by number of terms?\""
   ]
  },
  {
   "cell_type": "code",
   "execution_count": 196,
   "id": "6c2ed869-727a-4663-ba22-c1409601bb8c",
   "metadata": {},
   "outputs": [],
   "source": [
    "query = \"\"\"\n",
    "MATCH (n:UpdatedChunk)\n",
    "where n.communityId is not NULL\n",
    "RETURN n.communityId AS communityId, COUNT(n) AS community_size\n",
    "ORDER BY community_size DESC\n",
    "LIMIT 1\n",
    "\"\"\""
   ]
  },
  {
   "cell_type": "code",
   "execution_count": 197,
   "id": "6e2d772d-ea7c-4dc5-b72c-5ec9a56ccfdb",
   "metadata": {},
   "outputs": [
    {
     "data": {
      "text/plain": [
       "[{'communityId': 1, 'community_size': 8}]"
      ]
     },
     "execution_count": 197,
     "metadata": {},
     "output_type": "execute_result"
    }
   ],
   "source": [
    "kg.query(query)"
   ]
  }
 ],
 "metadata": {
  "kernelspec": {
   "display_name": "Python 3 (ipykernel)",
   "language": "python",
   "name": "python3"
  },
  "language_info": {
   "codemirror_mode": {
    "name": "ipython",
    "version": 3
   },
   "file_extension": ".py",
   "mimetype": "text/x-python",
   "name": "python",
   "nbconvert_exporter": "python",
   "pygments_lexer": "ipython3",
   "version": "3.11.10"
  }
 },
 "nbformat": 4,
 "nbformat_minor": 5
}
