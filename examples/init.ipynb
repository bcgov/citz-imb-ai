{
 "cells": [
  {
   "cell_type": "markdown",
   "id": "c9ee45c7",
   "metadata": {},
   "source": [
    "# Lesson 1 - Getting started with Embeddings\n",
    "In this lesson we will be using the B.C law titles, sentence transformer as our embedding model and Postgres PGVector to store the embeddings. We will be using the embeddings to find similar sentences in the database."
   ]
  },
  {
   "cell_type": "code",
   "execution_count": null,
   "id": "c50b8ea2-80be-4396-952c-6c2ca2d4d4cb",
   "metadata": {},
   "outputs": [],
   "source": [
    "#Do the migration\n",
    "import os\n",
    "from langchain_community.embeddings import HuggingFaceEmbeddings\n",
    "\n",
    "from langchain.docstore.document import Document\n",
    "from langchain_community.document_loaders import TextLoader\n",
    "from langchain_community.vectorstores.pgvector import PGVector\n",
    "from langchain_text_splitters import CharacterTextSplitter\n",
    "from getlawtitles import downloadlawtitles"
   ]
  },
  {
   "cell_type": "code",
   "execution_count": null,
   "id": "e536eae0-66da-4169-9b69-bb4338ec7164",
   "metadata": {},
   "outputs": [],
   "source": [
    "POSTGRES_USER = os.getenv('POSTGRES_USER')\n",
    "POSTGRES_PASSWORD = os.getenv('POSTGRES_PASSWORD')\n",
    "POSTGRES_DB = os.getenv('POSTGRES_DB')\n",
    "POSTGRES_PORT = os.getenv('POSTGRES_PORT')\n",
    "POSTGRES_HOST = os.getenv('POSTGRES_HOST')\n",
    "\n",
    "\n",
    "CONNECTION_STRING = f'postgresql+psycopg2://{POSTGRES_USER}:{POSTGRES_PASSWORD}@{POSTGRES_HOST}:{POSTGRES_PORT}/{POSTGRES_DB}'"
   ]
  },
  {
   "cell_type": "code",
   "execution_count": null,
   "id": "92630bfa-9ca7-433e-9364-49a88068a0d9",
   "metadata": {},
   "outputs": [],
   "source": [
    "##################### EXAMPLE EMBEDDINGS ############################\n",
    "embeddings = HuggingFaceEmbeddings(model_name=\"all-MiniLM-L6-v2\")\n",
    "text = \"This is a test document.\"\n",
    "query_result = embeddings.embed_query(text)\n",
    "doc_result = embeddings.embed_documents([text, \"This is not a test document.\"])"
   ]
  },
  {
   "cell_type": "markdown",
   "id": "f6fd4c7e",
   "metadata": {},
   "source": [
    "##### Download the law titles from S3  bucket. You will need to set the S3 access environment variables to download the data.\n",
    "```bash\n",
    "      - S3_ACCESS_KEY\n",
    "      - S3_SECRET_ACCESS_KEY\n",
    "      - S3_ENDPOINT_URL\n",
    "```"
   ]
  },
  {
   "cell_type": "code",
   "execution_count": null,
   "id": "75ef1c54",
   "metadata": {},
   "outputs": [],
   "source": [
    "downloadlawtitles()"
   ]
  },
  {
   "cell_type": "markdown",
   "id": "e1596546",
   "metadata": {},
   "source": [
    "We have set the chunk size to 1 as the CharacterTextSplitter takes the manximum length between the chunk_size and separator. Each setences has variable length. We won't know how long the title is until we read it. Since the titles are short, and each laws title starts in a new line, we have set the chunk size to 1 as we hope each title is more than 1 character long."
   ]
  },
  {
   "cell_type": "code",
   "execution_count": null,
   "id": "a9e5ca17-fc72-4d42-948a-8d7425c8fb63",
   "metadata": {},
   "outputs": [],
   "source": [
    "loader = TextLoader(\"DB/RawBCLaws/all_act_titles.txt\")\n",
    "documents = loader.load()\n",
    "text_splitter = CharacterTextSplitter(chunk_size=1, chunk_overlap=0, separator=\"\\n\")\n",
    "docs = text_splitter.split_documents(documents)"
   ]
  },
  {
   "cell_type": "code",
   "execution_count": null,
   "id": "28b076d0-7074-423c-a4f8-0afd080957ed",
   "metadata": {},
   "outputs": [],
   "source": [
    "COLLECTION_NAME = \"bc_law_titles\"\n",
    "\n",
    "# If the database table already exists, delete it\n",
    "db = PGVector.from_documents(\n",
    "    documents=docs,\n",
    "    embedding=embeddings,\n",
    "    collection_name=COLLECTION_NAME,\n",
    "    connection_string=CONNECTION_STRING,\n",
    "    pre_delete_collection=True,\n",
    ")\n"
   ]
  },
  {
   "cell_type": "code",
   "execution_count": null,
   "id": "d0521bef-26c2-4263-bf23-e123ef83a101",
   "metadata": {},
   "outputs": [],
   "source": [
    "query = \"Is there a law on tenancy act?\"\n",
    "print('\\n' + query + '\\n')\n",
    "docs_with_score = db.similarity_search_with_score(query)\n",
    "\n",
    "for doc, score in docs_with_score:\n",
    "    print(\"-\" * 80)\n",
    "    print(\"Score: \", score)\n",
    "    print(doc.page_content)\n",
    "    print(\"-\" * 80)"
   ]
  },
  {
   "cell_type": "code",
   "execution_count": null,
   "id": "f0b4337f-ccb9-49b9-a6b6-6cf90b1866c1",
   "metadata": {},
   "outputs": [],
   "source": [
    "store = PGVector(\n",
    "    collection_name=COLLECTION_NAME,\n",
    "    connection_string=CONNECTION_STRING,\n",
    "    embedding_function=embeddings,\n",
    ") \n",
    "\n",
    "query = \"Laptop is a device.\"\n",
    "print('\\n' + query + '\\n')\n",
    "docs_with_score = store.similarity_search_with_score(query)\n",
    "\n",
    "for doc, score in docs_with_score:\n",
    "    print(\"-\" * 80)\n",
    "    print(\"Score: \", score)\n",
    "    print(doc.page_content)\n",
    "    print(\"-\" * 80)\n"
   ]
  },
  {
   "cell_type": "code",
   "execution_count": null,
   "id": "3e664b1c-9953-47bf-8731-0dc0d28ae112",
   "metadata": {},
   "outputs": [],
   "source": []
  }
 ],
 "metadata": {
  "kernelspec": {
   "display_name": "Python 3 (ipykernel)",
   "language": "python",
   "name": "python3"
  },
  "language_info": {
   "codemirror_mode": {
    "name": "ipython",
    "version": 3
   },
   "file_extension": ".py",
   "mimetype": "text/x-python",
   "name": "python",
   "nbconvert_exporter": "python",
   "pygments_lexer": "ipython3",
   "version": "3.12.0"
  }
 },
 "nbformat": 4,
 "nbformat_minor": 5
}
