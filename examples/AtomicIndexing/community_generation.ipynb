{
 "cells": [
  {
   "cell_type": "markdown",
   "metadata": {},
   "source": [
    "# Leiden Community Generation\n",
    "This workbook focuses on detecting communities within our Neo4j dataset and saving this community information to the database nodes.\n",
    "\n",
    "It only targets those nodes with the :v3 label at the moment. This matches the set of data casually known as Atomic Indexing.\n"
   ]
  },
  {
   "cell_type": "markdown",
   "metadata": {},
   "source": [
    "## Project the Graph into Memory\n",
    "This has to be done in order for the algorithm to act upon it. You cannot use the algorithm against a graph unless it is projected into memory first.\n",
    "\n",
    "In this case, I've arbitrarily chosen the name \"comm1\" for the projection, but you can choose any name that doesn't already exist.\n",
    "\n",
    "`weight` is the metadata property on each edge that affects this projection.\n",
    "\n",
    "Leiden is also not intended for directed graphs, so we specify that all relationships (edges) should be treated as undirected.\n",
    "\n",
    "```sql\n",
    "MATCH (source:v3)-[r:CONTAINS]->(target:v3)\n",
    "RETURN gds.graph.project(\n",
    "\t'comm1',\n",
    "\tsource,\n",
    "\ttarget,\n",
    "\t{\n",
    "\t\tsourceNodeProperties: source { },\n",
    "\t\ttargetNodeProperties: target { },\n",
    "\t\trelationshipProperties: r { .weight }\n",
    "\t},\n",
    "\t{ undirectedRelationshipTypes: ['*'] }\n",
    ")\n",
    "```"
   ]
  },
  {
   "cell_type": "markdown",
   "metadata": {},
   "source": [
    "## Memory Estimation\n",
    "This gives an estimate of how much memory is needed to load and build the communities.\n",
    "\n",
    "Keep in mind the memory limit of Neo4j that's set in your local container or in OpenShift.\n",
    "\n",
    "This estimate also reports the number of nodes and edges that this procedure will encompass.\n",
    "\n",
    "```sql\n",
    "CALL gds.leiden.write.estimate('comm1', {writeProperty: 'communityId', randomSeed: 19})\n",
    "YIELD nodeCount, relationshipCount, requiredMemory\n",
    "```"
   ]
  },
  {
   "cell_type": "markdown",
   "metadata": {},
   "source": [
    "## Stats\n",
    "This can give a count of the number of communities this call is expected to generate.\n",
    "\n",
    "```sql\n",
    "CALL gds.leiden.stats('comm1', { \n",
    "  includeIntermediateCommunities: true,\n",
    "  concurrency: 1, \n",
    "  randomSeed: 19 \n",
    "})\n",
    "YIELD communityCount\n",
    "```\n"
   ]
  },
  {
   "cell_type": "markdown",
   "metadata": {},
   "source": [
    "## Stream Results\n",
    "You can display the results of a Leiden algorithm without actually writing to the database. This can be useful to examine the output without committing to any write operations.\n",
    "\n",
    "This example uses intermediate communities. The array of community IDs is in order of the pass in which it was generated. For example, index 0 holds the community ID generated from the first pass. \n",
    "\n",
    "Each iteration (7 total) combines communities to create larger ones. Therefore, the first community ID is also the smallest community in terms of node count.\n",
    "\n",
    "```sql\n",
    "CALL gds.leiden.stream('comm1', { \n",
    "  randomSeed: 19,\n",
    "  includeIntermediateCommunities: true,\n",
    "  concurrency: 1\n",
    "})\n",
    "YIELD nodeId, communityId, intermediateCommunityIds\n",
    "RETURN gds.util.asNode(nodeId).text AS text, communityId, intermediateCommunityIds\n",
    "ORDER BY communityId ASC\n",
    "```"
   ]
  },
  {
   "cell_type": "markdown",
   "metadata": {},
   "source": [
    "## Write Results\n",
    "To actually write the information on intermediate communities back to the database, you must run the write command.\n",
    "\n",
    "```sql\n",
    "CALL gds.leiden.write('comm1', {\n",
    "  writeProperty: 'intermediateCommunities',\n",
    "  randomSeed: 19,\n",
    "  includeIntermediateCommunities: true,\n",
    "  concurrency: 1\n",
    "})\n",
    "YIELD communityCount, modularity, modularities\n",
    "```\n",
    "\n",
    "The modularity scores here in the context of the Leiden algorithm (or other community detection algorithms) measure the quality of the community structure detected in the graph. Modularity is a scalar value between -1 and 1 that quantifies how well the graph is divided into communities. Here's what the modularity scores represent:\n",
    "- A higher modularity score indicates that the communities are well-defined, meaning there are more edges within communities and fewer edges between communities than expected by chance.\n",
    "- Typical modularity values range from 0 to 1:\n",
    "  - Close to 1: Strong community structure (dense connections within communities, sparse connections between them).\n",
    "  - Close to 0: Weak or no community structure.\n",
    "  - Negative: The community structure is worse than random (rare in practice).\n",
    "- The modularity typically increases with each iteration as the algorithm optimizes the community assignments, but it may plateau or slightly fluctuate near the end."
   ]
  },
  {
   "cell_type": "markdown",
   "metadata": {},
   "source": [
    "## Querying a Community\n",
    "In order to view all the nodes in a community, you can run a query like the one below. Just change the community number to the one you which to retrieve.\n",
    "\n",
    "```sql\n",
    "MATCH (n:v3)\n",
    "WHERE 178493 IN(n.intermediateCommunities)\n",
    "RETURN n\n",
    "```"
   ]
  }
 ],
 "metadata": {
  "kernelspec": {
   "display_name": "Python 3 (ipykernel)",
   "language": "python",
   "name": "python3"
  },
  "language_info": {
   "codemirror_mode": {
    "name": "ipython",
    "version": 3
   },
   "file_extension": ".py",
   "mimetype": "text/x-python",
   "name": "python",
   "nbconvert_exporter": "python",
   "pygments_lexer": "ipython3",
   "version": "3.11.11"
  }
 },
 "nbformat": 4,
 "nbformat_minor": 2
}
