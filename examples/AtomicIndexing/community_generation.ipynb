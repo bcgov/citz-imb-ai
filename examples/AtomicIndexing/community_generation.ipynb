{
 "cells": [
  {
   "cell_type": "markdown",
   "metadata": {},
   "source": [
    "## Project the Graph into Memory\n",
    "This has to be done in order for the algorithm to act upon it. You cannot use the algorithm against a graph unless it is projected into memory first.\n",
    "\n",
    "```sql\n",
    "MATCH (source:v3)-[r:CONTAINS]->(target:v3)\n",
    "RETURN gds.graph.project(\n",
    "\t'comm1',\n",
    "\tsource,\n",
    "\ttarget,\n",
    "\t{\n",
    "\t\tsourceNodeProperties: source { },\n",
    "\t\ttargetNodeProperties: target { },\n",
    "\t\trelationshipProperties: r { .weight }\n",
    "\t},\n",
    "\t{ undirectedRelationshipTypes: ['*'] }\n",
    ")\n",
    "```"
   ]
  },
  {
   "cell_type": "markdown",
   "metadata": {},
   "source": [
    "## Memory Estimation\n",
    "This gives an estimate of how much memory is needed to load and build the communities. \n",
    "Keep in mind the memory limit of Neo4j that's set in your local container or in OpenShift.\n",
    "\n",
    "```sql\n",
    "CALL gds.leiden.write.estimate('comm1', {writeProperty: 'communityId', randomSeed: 19})\n",
    "YIELD nodeCount, relationshipCount, requiredMemory\n",
    "```"
   ]
  },
  {
   "cell_type": "markdown",
   "metadata": {},
   "source": [
    "## Stats\n",
    "This can give a count of the number of communities this call is expected to generate.\n",
    "\n",
    "```sql\n",
    "CALL gds.leiden.stats('comm1', { \n",
    "  includeIntermediateCommunities: true,\n",
    "  concurrency: 1, \n",
    "  randomSeed: 19 \n",
    "})\n",
    "YIELD communityCount\n",
    "```\n"
   ]
  },
  {
   "cell_type": "markdown",
   "metadata": {},
   "source": [
    "## Stream Results\n",
    "You can display the results of a Leiden algorithm without actually writing to the database. This can be useful to examine the output without committing to any write operations.\n",
    "\n",
    "This example uses intermediate communities. The \n",
    "\n",
    "```sql\n",
    "CALL gds.leiden.stream('comm1', { \n",
    "  randomSeed: 19,\n",
    "  includeIntermediateCommunities: true,\n",
    "  concurrency: 1\n",
    "})\n",
    "YIELD nodeId, communityId, intermediateCommunityIds\n",
    "RETURN gds.util.asNode(nodeId).text AS text, communityId, intermediateCommunityIds\n",
    "ORDER BY communityId ASC\n",
    "```"
   ]
  },
  {
   "cell_type": "markdown",
   "metadata": {},
   "source": [
    "## Write Results\n",
    "To actually write the information on intermediate communities back to the database, you must run the write command.\n",
    "\n",
    "```sql\n",
    "CALL gds.leiden.write('comm1', {\n",
    "  writeProperty: 'intermediateCommunities',\n",
    "  randomSeed: 19,\n",
    "  includeIntermediateCommunities: true,\n",
    "  concurrency: 1\n",
    "})\n",
    "YIELD communityCount, modularity, modularities\n",
    "```\n",
    "\n",
    "The modularity scores here in the context of the Leiden algorithm (or other community detection algorithms) measure the quality of the community structure detected in the graph. Modularity is a scalar value between -1 and 1 that quantifies how well the graph is divided into communities. Here's what the modularity scores represent:\n",
    "- A higher modularity score indicates that the communities are well-defined, meaning there are more edges within communities and fewer edges between communities than expected by chance.\n",
    "- Typical modularity values range from 0 to 1:\n",
    "  - Close to 1: Strong community structure (dense connections within communities, sparse connections between them).\n",
    "  - Close to 0: Weak or no community structure.\n",
    "  - Negative: The community structure is worse than random (rare in practice).\n",
    "- The modularity typically increases with each iteration as the algorithm optimizes the community assignments, but it may plateau or slightly fluctuate near the end."
   ]
  },
  {
   "cell_type": "markdown",
   "metadata": {},
   "source": []
  }
 ],
 "metadata": {
  "kernelspec": {
   "display_name": "Python 3 (ipykernel)",
   "language": "python",
   "name": "python3"
  },
  "language_info": {
   "codemirror_mode": {
    "name": "ipython",
    "version": 3
   },
   "file_extension": ".py",
   "mimetype": "text/x-python",
   "name": "python",
   "nbconvert_exporter": "python",
   "pygments_lexer": "ipython3",
   "version": "3.11.11"
  }
 },
 "nbformat": 4,
 "nbformat_minor": 2
}
