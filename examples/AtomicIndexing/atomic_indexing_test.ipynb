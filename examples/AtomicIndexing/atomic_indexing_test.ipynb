{
 "cells": [
  {
   "cell_type": "markdown",
   "id": "d01625cb-84ab-4820-95e0-cfece0a9f383",
   "metadata": {},
   "source": [
    "# Reranker Evaluation with Atomic Node Indexing and Arize\n",
    "\n",
    "Before running this notebook, make sure to run the Airflow DAG atomic_nodes_create_and_join. This sets up the edges between the updated chunk and the new granular atomic index.\n",
    "\n",
    "You'll also need Arize installed to monitor calls to Bedrock.\n",
    "\n",
    "This notebook includes a reranker, and we compare performance on a set of questions—with and without the reranker."
   ]
  },
  {
   "cell_type": "code",
   "execution_count": null,
   "id": "76c557bb-c49e-46bd-8fe5-130dd7a46b0a",
   "metadata": {},
   "outputs": [],
   "source": [
    "!pip install langchain_huggingface\n",
    "!pip install boto3\n",
    "!pip install arize-phoenix-otel\n",
    "!pip install openinference-instrumentation-bedrock opentelemetry-exporter-otlp\n",
    "!pip install pandas"
   ]
  },
  {
   "cell_type": "code",
   "execution_count": 1,
   "id": "f2ccd478-d718-446a-b963-98a1bd616c72",
   "metadata": {},
   "outputs": [
    {
     "name": "stderr",
     "output_type": "stream",
     "text": [
      "/app/AtomicIndexing/neo4j_functions.py:9: LangChainDeprecationWarning: The class `Neo4jGraph` was deprecated in LangChain 0.3.8 and will be removed in 1.0. An updated version of the class exists in the :class:`~langchain-neo4j package and should be used instead. To use it run `pip install -U :class:`~langchain-neo4j` and import as `from :class:`~langchain_neo4j import Neo4jGraph``.\n",
      "  neo4j = Neo4jGraph(\n",
      "/usr/local/lib/python3.11/site-packages/tqdm/auto.py:21: TqdmWarning: IProgress not found. Please update jupyter and ipywidgets. See https://ipywidgets.readthedocs.io/en/stable/user_install.html\n",
      "  from .autonotebook import tqdm as notebook_tqdm\n"
     ]
    }
   ],
   "source": [
    "from langchain_huggingface import HuggingFaceEmbeddings\n",
    "from langchain_community.graphs import Neo4jGraph\n",
    "import os\n",
    "import json\n",
    "import boto3\n",
    "from neo4j_functions import neo4j\n",
    "from sentence_transformers import CrossEncoder\n",
    "import numpy as np"
   ]
  },
  {
   "cell_type": "code",
   "execution_count": 2,
   "id": "f0f4ee37-3be3-4c10-82fe-72f829579c9f",
   "metadata": {},
   "outputs": [],
   "source": [
    "import sys\n",
    "# Use os.getcwd() since __file__ is not available in interactive environments\n",
    "current_dir = os.getcwd()\n",
    "\n",
    "# If your structure is such that the package is in the parent directory, compute the parent directory:\n",
    "parent_dir = os.path.abspath(os.path.join(current_dir, '..'))\n",
    "\n",
    "# Add the parent directory to sys.path if it's not already there\n",
    "if parent_dir not in sys.path:\n",
    "    sys.path.insert(0, parent_dir)"
   ]
  },
  {
   "cell_type": "markdown",
   "id": "052a126e-7caa-48fb-9d26-2345712570dd",
   "metadata": {},
   "source": [
    "## Connect to Arize"
   ]
  },
  {
   "cell_type": "code",
   "execution_count": 3,
   "id": "b2528bd8-9b87-4e90-865c-0955b02950f3",
   "metadata": {},
   "outputs": [],
   "source": [
    "from opentelemetry.trace import get_tracer_provider\n",
    "from phoenix.otel import register"
   ]
  },
  {
   "cell_type": "code",
   "execution_count": 4,
   "id": "70705995-1aaf-4e96-a7a1-c47bb6641206",
   "metadata": {},
   "outputs": [
    {
     "name": "stdout",
     "output_type": "stream",
     "text": [
      "🔭 OpenTelemetry Tracing Details 🔭\n",
      "|  Phoenix Project: testing Atomic Search\n",
      "|  Span Processor: SimpleSpanProcessor\n",
      "|  Collector Endpoint: http://phoenix:6006/v1/traces\n",
      "|  Transport: HTTP + protobuf\n",
      "|  Transport Headers: {}\n",
      "|  \n",
      "|  Using a default SpanProcessor. `add_span_processor` will overwrite this default.\n",
      "|  \n",
      "|  `register` has set this TracerProvider as the global OpenTelemetry default.\n",
      "|  To disable this behavior, call `register` with `set_global_tracer_provider=False`.\n",
      "\n"
     ]
    }
   ],
   "source": [
    "from phoenix.otel import register\n",
    "\n",
    "tracer_provider = register(\n",
    "  project_name=\"testing Atomic Search\", # Default is 'default'\n",
    "  endpoint=\"http://phoenix:6006/v1/traces\",\n",
    ")"
   ]
  },
  {
   "cell_type": "code",
   "execution_count": 5,
   "id": "ca01b8bc-22a6-4e3c-ad22-4e2c16f81d93",
   "metadata": {},
   "outputs": [],
   "source": [
    "from openinference.instrumentation.bedrock import BedrockInstrumentor\n",
    "BedrockInstrumentor().instrument(tracer_provider=tracer_provider,\n",
    "                                capture_response_body=True  # Enable response capture\n",
    "                                )"
   ]
  },
  {
   "cell_type": "markdown",
   "id": "96abeeed-a534-4b1a-8427-10fa5ffaf8cd",
   "metadata": {},
   "source": [
    "## AWS Session"
   ]
  },
  {
   "cell_type": "code",
   "execution_count": 6,
   "id": "a96604a5-2656-4f69-897d-8a57815ca9db",
   "metadata": {},
   "outputs": [],
   "source": [
    "# Replace this with updated keys if necessary\n",
    "AWS_ACCESS_KEY_ID = os.getenv(\"AWS_ACCESS_KEY_ID\")\n",
    "AWS_SECRET_ACCESS_KEY = os.getenv(\"AWS_SECRET_ACCESS_KEY\")\n",
    "\n",
    "session = boto3.Session(\n",
    "    aws_access_key_id=AWS_ACCESS_KEY_ID,\n",
    "    aws_secret_access_key=AWS_SECRET_ACCESS_KEY,\n",
    ")\n",
    "bedrock_runtime = session.client(\"bedrock-runtime\", region_name=\"us-east-1\")"
   ]
  },
  {
   "cell_type": "code",
   "execution_count": 7,
   "id": "e6a3a0d5-680a-4249-9c61-590066300538",
   "metadata": {},
   "outputs": [],
   "source": [
    "def get_mixtral_kwargs(prompt):\n",
    "    kwargs = {\n",
    "        \"modelId\": \"mistral.mixtral-8x7b-instruct-v0:1\",\n",
    "        \"contentType\": \"application/json\",\n",
    "        \"accept\": \"*/*\",\n",
    "        \"body\": json.dumps(\n",
    "            {\n",
    "                \"prompt\": prompt,\n",
    "                \"max_tokens\": 4096,\n",
    "                \"temperature\": 0.5,\n",
    "                \"top_p\": 0.9,\n",
    "                \"top_k\": 50,\n",
    "            }\n",
    "        ),\n",
    "    }\n",
    "    return kwargs"
   ]
  },
  {
   "cell_type": "code",
   "execution_count": 8,
   "id": "bc856f04-9cc8-430d-84a5-2d4a0e1ff896",
   "metadata": {},
   "outputs": [],
   "source": [
    "def get_response(prompt):\n",
    "    kwargs = get_mixtral_kwargs(prompt)\n",
    "    response = bedrock_runtime.invoke_model(**kwargs)\n",
    "    response_body = json.loads(response.get(\"body\").read())\n",
    "    return response_body[\"outputs\"][0][\"text\"]"
   ]
  },
  {
   "cell_type": "code",
   "execution_count": 33,
   "id": "a209cd93-7b5f-4ac4-b60f-11a79d67a037",
   "metadata": {},
   "outputs": [],
   "source": [
    "def get_response_with_tracking(prompt, rerank=False):\n",
    "    search_type = ''\n",
    "    if rerank:\n",
    "        search_type = \"Rerank\"\n",
    "    with get_tracer_provider().get_tracer(__name__).start_as_current_span(f\"mixtral_{search_type}\") as span:\n",
    "        # Convert nested structure to flat attributes with dot notation\n",
    "        #span.set_attribute(\"llm.model_name\", \"anthropic.claude-3-5-sonnet-20240620-v1:0\")\n",
    "        #span.set_attribute(\"llm.token_count.prompt\", len(prompt.split()))\n",
    "        #span.set_attribute(\"llm.invocation_parameters\", get_response(prompt))\n",
    "        \n",
    "        try:\n",
    "            span.set_attribute(\"input.value\", prompt)\n",
    "            # Get response using original function\n",
    "            output = get_response(prompt)\n",
    "                     \n",
    "            # Set output as string\n",
    "            span.set_attribute(\"output.value\", output if output else \"None\")\n",
    "        \n",
    "            span.set_attribute(\"task.rerank\", rerank)\n",
    "            \n",
    "            # Set span kind as string\n",
    "            span.set_attribute(\"openinference.span.kind\", \"LLM\")\n",
    "            \n",
    "            return output\n",
    "            \n",
    "        except Exception as e:\n",
    "            # Log error as flat strings\n",
    "            span.set_attribute(\"error.message\", str(e))\n",
    "            span.set_attribute(\"error.type\", e.__class__.__name__)\n",
    "            raise"
   ]
  },
  {
   "cell_type": "markdown",
   "id": "581e3293-80d8-4ed0-9c6a-1b0590adde6b",
   "metadata": {},
   "source": [
    "## Load Embeddings"
   ]
  },
  {
   "cell_type": "code",
   "execution_count": 34,
   "id": "41aa5d7e-cb1e-4589-b931-35a89ec64902",
   "metadata": {},
   "outputs": [],
   "source": [
    "embeddings = HuggingFaceEmbeddings(model_name=\"all-MiniLM-L6-v2\")"
   ]
  },
  {
   "cell_type": "code",
   "execution_count": 35,
   "id": "93b5d5b3-a738-4ace-b78a-2783b5fc00a9",
   "metadata": {},
   "outputs": [],
   "source": [
    "#### Adjust your question here ####\n",
    "# question = \"What is the meaning of a yellow curb?\"\n",
    "# question = \"Do I need to wear a seatbelt in BC?\"\n",
    "question = \"testing\""
   ]
  },
  {
   "cell_type": "markdown",
   "id": "4db17a80-db48-4cbf-b0c6-6a878ab61b4f",
   "metadata": {},
   "source": [
    "## Load Cross Encoder"
   ]
  },
  {
   "cell_type": "code",
   "execution_count": 36,
   "id": "e6f946eb-3cfe-4511-ba37-5cefca9f52a9",
   "metadata": {},
   "outputs": [],
   "source": [
    "cross_encoder = CrossEncoder('cross-encoder/ms-marco-MiniLM-L-6-v2')"
   ]
  },
  {
   "cell_type": "markdown",
   "id": "dfa7ca72-4665-455b-aa48-b96c6342a7b0",
   "metadata": {},
   "source": [
    "## Create Prompt"
   ]
  },
  {
   "cell_type": "code",
   "execution_count": 37,
   "id": "849c73d0-32a1-4e79-98c3-7d3bde9e1586",
   "metadata": {},
   "outputs": [],
   "source": [
    "def create_prompt(query: str, context_str: str) -> str:\n",
    "    \"\"\"\n",
    "    Generate a response using the given context.\n",
    "    \"\"\"\n",
    "    messages = f\"\"\"\n",
    "            You are a helpful and knowledgeable assistant. Use the following information to answer the user's question accurately and concisely. Do not provide information that is not supported by the given context or chat history.\n",
    "\n",
    "            - Use the context to form your answer.\n",
    "            - Laws and Acts can be used interchangeably.\n",
    "            - If the answer is not found in the context, state that you don't know.\n",
    "            - Do not attempt to fabricate an answer.\n",
    "\n",
    "            Context: \n",
    "            {context_str}\n",
    "\n",
    "            Question: \n",
    "            {query}\n",
    "\n",
    "            Provide the most accurate and helpful answer based on the information above. If no answer is found, state that you don't know.\n",
    "            In your responses, include references to where this piece of information came from. A reference will look like (Document Title, Section, Subsection, Paragraph, Subparagraph)\n",
    "            Not all references will have data for all these fields. The order should always be Document Title, Section, Subsection, Paragraph, Subparagraph.\n",
    "            Include nothing else in the reference.\n",
    "            If you are not confident about what the reference should be, don't include it.\n",
    "        \"\"\"\n",
    "    return messages"
   ]
  },
  {
   "cell_type": "code",
   "execution_count": 38,
   "id": "5b18ea63-77d8-4e03-9155-d997106a5f5c",
   "metadata": {},
   "outputs": [],
   "source": [
    "query_embeddings = embeddings.embed_query(question)\n",
    "\n",
    "# This vector query grabs a lot of connected nodes.\n",
    "# It first does the semantic vector search on the index for UpdatedChunk nodes.\n",
    "# It then finds the corresponding atomic section node, then pulls it and all its children\n",
    "vector_search_query = \"\"\"\n",
    "        CALL db.index.vector.queryNodes($index_name, $top_k, $question) \n",
    "        YIELD node, score\n",
    "        OPTIONAL MATCH (node)-[:IS]-(atomicSection)\n",
    "        OPTIONAL MATCH (atomicSection)-[:CONTAINS*]->(containedNode)\n",
    "        OPTIONAL MATCH (containedNode)-[:NEXT*]->(nextNode)\n",
    "        OPTIONAL MATCH (containedNode)-[:REFERENCE]->(refNode)\n",
    "        RETURN \n",
    "            node.ActId,  node.RegId as Regulations, node.sectionId, node.sectionName, node.url,  node.text AS text,\n",
    "            atomicSection,\n",
    "            score, \n",
    "            collect(DISTINCT {containedProperties: properties(containedNode)}) AS containedNodes,\n",
    "            collect(DISTINCT {referenceProperties: properties(refNode)}) AS referencedNodes,\n",
    "            collect(DISTINCT {nextProperties: properties(nextNode)}) AS nextNodes\n",
    "        ORDER BY score DESC\n",
    "        \"\"\"\n",
    "\n",
    "NEO4J_VECTOR_INDEX = \"Acts_Updatedchunks\""
   ]
  },
  {
   "cell_type": "markdown",
   "id": "448c8e54-2ef3-46de-abbb-4d6ddc1b66df",
   "metadata": {},
   "source": [
    "similar = neo4j.query(\n",
    "    vector_search_query,\n",
    "    params={\n",
    "        \"question\": query_embeddings,\n",
    "        \"index_name\": NEO4J_VECTOR_INDEX,\n",
    "        \"top_k\": 10,\n",
    "    },\n",
    ")"
   ]
  },
  {
   "cell_type": "markdown",
   "id": "f28ed2f1-5fb4-488f-9659-637e90cc5c9f",
   "metadata": {},
   "source": [
    "## Run with different questions"
   ]
  },
  {
   "cell_type": "code",
   "execution_count": 39,
   "id": "952cdd96-17da-42c6-8aaf-a56c4e6a343c",
   "metadata": {},
   "outputs": [],
   "source": [
    "#question = \"what are Coordination agreements under the Emergency and Disaster Management Act\"\n",
    "#question = \"What is the fine for excessive speeding?\"\n",
    "question = \"please explain all the possible actions a complainant under part 11 of the police act can perform\"\n",
    "#question = \"is there any legislation that creates navigator or liaison roles to help people submit complaints or get assistance through a complaint or hearing process?\"\n",
    "#question = \"are there regulations that require companies to provide their notice of articles with shareholder information\"\n",
    "#question = \"Can I put my mattress in a landfill?\"\n",
    "#question = \"What projects does the Environmental Assessment Act regulate?\"\n",
    "#question = \"What exactly is a limitation act? if no jdugement is passed but there is a court case can it be there indeifintely?\"\n",
    "#question = \"What permits do pulp mills need?\""
   ]
  },
  {
   "cell_type": "code",
   "execution_count": 40,
   "id": "3917e2da-cbbe-41c2-abb0-3103c9d9045e",
   "metadata": {},
   "outputs": [],
   "source": [
    "query_embeddings = embeddings.embed_query(question)"
   ]
  },
  {
   "cell_type": "code",
   "execution_count": 41,
   "id": "85023d88-92f3-48cc-a036-ef816c767e21",
   "metadata": {},
   "outputs": [],
   "source": [
    "similar = neo4j.query(\n",
    "    vector_search_query,\n",
    "    params={\n",
    "        \"question\": query_embeddings,\n",
    "        \"index_name\": NEO4J_VECTOR_INDEX,\n",
    "        \"top_k\": 10,\n",
    "    },\n",
    ")\n",
    "#similar"
   ]
  },
  {
   "cell_type": "code",
   "execution_count": 47,
   "id": "b3a6f798-0b70-4961-a76e-ca031b79da96",
   "metadata": {},
   "outputs": [],
   "source": [
    "search_results = similar\n",
    "query = question\n",
    "pairs = [[query, doc['text']] for doc in search_results]\n",
    "scores = cross_encoder.predict(pairs)"
   ]
  },
  {
   "cell_type": "code",
   "execution_count": 49,
   "id": "76a16c3f-81a2-407d-8c83-56f14aae1979",
   "metadata": {},
   "outputs": [],
   "source": [
    "reranked_similar = []\n",
    "for o in np.argsort(scores)[::-1]:\n",
    "    reranked_similar.append(search_results[o])"
   ]
  },
  {
   "cell_type": "code",
   "execution_count": 50,
   "id": "551fb5f6-01ea-424c-a396-b72c8474904f",
   "metadata": {},
   "outputs": [],
   "source": [
    "#reranked_similar\n",
    "#len(reranked_similar)\n",
    "#similar"
   ]
  },
  {
   "cell_type": "markdown",
   "id": "be403d00-21da-4bb9-9dd1-a9be84fcb4d3",
   "metadata": {},
   "source": [
    "### With Rerank"
   ]
  },
  {
   "cell_type": "code",
   "execution_count": 51,
   "id": "f513f048-88e9-4e7c-b70b-96f5e7e91fcd",
   "metadata": {},
   "outputs": [
    {
     "name": "stdout",
     "output_type": "stream",
     "text": [
      "As a complainant under Part 11 of the Police Act, there are several actions you can perform:\n",
      "\n",
      "            1. Make a complaint: You can make a complaint about the conduct of a member or former member of a municipal police department (Police Act, Part 11, Division 3, Section 78).\n",
      "\n",
      "            2. Receive acknowledgement: Upon making a complaint, the member or designated individual receiving the complaint must provide you with written acknowledgement of its receipt (Police Act, Part 11, Division 3, Section 80).\n",
      "\n",
      "            3. Request assistance: The member or designated individual receiving the complaint must provide you with any assistance that you require in making the complaint (Police Act, Part 11, Division 3, Section 80).\n",
      "\n",
      "            4. Receive information or advice: The member or designated individual receiving the complaint must provide you with any information or advice that may be required under the guidelines prepared by the police complaint commissioner (Police Act, Part 11, Division 3, Section 80).\n",
      "\n",
      "            5. Receive a copy of the police complaint commissioner's list of support groups and neutral dispute resolution service providers and agencies (Police Act, Part 11, Division 3, Section 80).\n",
      "\n",
      "            6. Have your complaint forwarded to the police complaint commissioner: The member or designated individual receiving the complaint must forward a copy of the complaint or, if the complaint was not made in writing, a copy of the record of the complaint to the police complaint commissioner (Police Act, Part 11, Division 3, Section 80).\n",
      "\n",
      "            7. Receive notification of admissibility determination: Upon determining the admissibility of your complaint, the police complaint commissioner must give written notification of that determination to you (Police Act, Part 11, Division 3, Section 83).\n",
      "\n",
      "            8. Request a review or public hearing: If you are aggrieved by any of the matters in the report described in subsection (1)(a)(i) to (iv), you may file with the police complaint commissioner a written request for a public hearing or review on the record in accordance with section 136(1) (Police Act, Part 11, Division 3, Section 133).\n",
      "\n",
      "            9. Receive an explanation and summary of results: At the conclusion of an investigation or a study initiated under section 171(1)(a), (b) or (c), the board must send to you, the director and the police complaint commissioner an explanation for the board's action under section 171(1) in respect of the service or policy that is the subject of the complaint, and if applicable, a detailed summary of the results of any investigation or study initiated under that section (Police Act, Part 11, Division 5, Section 172).\n",
      "\n",
      "            10. Receive status reports: The police complaint commissioner may request a status report from the board regarding the progress of an investigation or a study concerning a complaint under this Division, and the police complaint commissioner must forward to you a copy of any report the police complaint commissioner receives in response to that request (Police Act, Part 11, Division 5, Section 171).\n",
      "\n",
      "            These actions are available to you as a complainant under Part 11 of the Police Act. It is important to note that some actions may only be available to you under certain circumstances, such as if your complaint is determined to be admissible.\n"
     ]
    }
   ],
   "source": [
    "prompt_reranked = create_prompt(question, reranked_similar[0:5])\n",
    "#bedrock_response = get_response(prompt_reranked)\n",
    "bedrock_response =  get_response_with_tracking(prompt, rerank=True)\n",
    "print(bedrock_response.strip())"
   ]
  },
  {
   "cell_type": "markdown",
   "id": "978446f4-9d63-4bbf-8505-0824a05200ca",
   "metadata": {},
   "source": [
    "### Without Rerank"
   ]
  },
  {
   "cell_type": "code",
   "execution_count": 52,
   "id": "248aca3e-e367-40c5-b901-65689e140d0d",
   "metadata": {},
   "outputs": [
    {
     "name": "stdout",
     "output_type": "stream",
     "text": [
      "As a complainant under Part 11 of the Police Act, you can perform the following actions:\n",
      "\n",
      "            1. Make a complaint about the conduct of a member or former member of a municipal police department. (Police Act, Section 78, Paragraph 1)\n",
      "            2. If the complaint is made to a member or designated individual under section 78 (2) (b), you can request assistance in making the complaint, receive information or advice required under the guidelines, provide any necessary information, and receive a copy of the police complaint commissioner's list of support groups and neutral dispute resolution service providers and agencies. (Police Act, Section 80)\n",
      "            3. If the complaint is made to the police complaint commissioner directly or received a copy or record of a complaint from a member or designated individual, the police complaint commissioner will determine whether the complaint is admissible or inadmissible under this division. (Police Act, Section 82)\n",
      "            4. If the complaint is admissible, the police complaint commissioner may request a chief constable of that municipal police department to investigate and report on the complaint, initiate a study concerning the complaint, initiate an investigation into the complaint, dismiss the complaint with reasons, or take any other course of action the board considers necessary to respond adequately to the complaint. (Police Act, Section 171, Paragraph 1)\n",
      "            5. If the complaint is inadmissible, the police complaint commissioner must give written notification of that determination to the complainant, a chief constable of the municipal police department with which the member in respect of whom the complaint is made is employed or, if the complaint concerns the conduct of a former member, a chief constable of the municipal police department with which the former member was employed at the time of the conduct of concern, and, in the case of a complaint determined inadmissible under section 82 (3), the board of the municipal police department concerned. (Police Act, Section 83, Paragraph a)\n",
      "            6. If the complaint is determined inadmissible under section 82 (3), the board of the municipal police department concerned must process the complaint under Division 5 [Process Respecting Department Service and Policy Complaints]. (Police Act, Section 82, Paragraph 6)\n",
      "            7. If the complaint is dismissed with reasons, the board must send to the person who made the complaint, the director and the police complaint commissioner an explanation for the board's action under section 171 (1) in respect of the service or policy that is the subject of the complaint and, if applicable, a detailed summary of the results of any investigation or study initiated under that section. (Police Act, Section 172, Paragraph 1)\n",
      "            8. If you are dissatisfied with the actions or inactions of the board under section 171 (1) (a) to (e), the explanation given under subsection (1) (a) of this section, the results of any investigation or study initiated under section 171, or the summary of the results sent under subsection (1) (b) of this section, you can request a status report from the board regarding the progress of an investigation or a study concerning a complaint under this Division, and the police complaint commissioner must forward to you a copy of any report the police complaint commissioner receives in response to that request. (Police Act, Section 172, Paragraph 4)\n",
      "\n",
      "            (Police Act, Section 78, Paragraph 1)\n",
      "            (Police Act, Section 80)\n",
      "            (Police Act, Section 82)\n",
      "            (Police Act, Section 171, Paragraph 1)\n",
      "            (Police Act, Section 83, Paragraph a)\n",
      "            (Police Act, Section 82, Paragraph 6)\n",
      "            (Police Act, Section 172, Paragraph 1)\n",
      "            (Police Act, Section 172, Paragraph 4)\n"
     ]
    }
   ],
   "source": [
    "prompt = create_prompt(question, similar)\n",
    "#bedrock_response = get_response(prompt)\n",
    "bedrock_response =  get_response_with_tracking(prompt)\n",
    "print(bedrock_response.strip())"
   ]
  },
  {
   "cell_type": "markdown",
   "id": "2ac5a6a2-2e38-4f9e-b18d-5b1c02869a9f",
   "metadata": {},
   "source": [
    "## Testing and stroing the performance in a df"
   ]
  },
  {
   "cell_type": "code",
   "execution_count": 54,
   "id": "479d0006-7560-4eda-824f-936d2c9c0ca6",
   "metadata": {},
   "outputs": [],
   "source": [
    "questions = [\n",
    "    \"What are Coordination Agreements under the Emergency and Disaster Management Act?\",\n",
    "    \"What is the fine for excessive speeding?\",\n",
    "    \"Please explain all the possible actions a complainant under Part 11 of the Police Act can perform.\",\n",
    "    \"Is there any legislation that creates navigator or liaison roles to help people submit complaints or get assistance through a complaint or hearing process?\",\n",
    "    \"Are there regulations that require companies to provide their notice of articles with shareholder information?\",\n",
    "    \"Can I put my mattress in a landfill?\",\n",
    "    \"What projects does the Environmental Assessment Act regulate?\",\n",
    "    \"What exactly is a Limitation Act? If no judgment is passed but there is a court case, can it be there indefinitely?\",\n",
    "    \"What permits do pulp mills need?\"\n",
    "]"
   ]
  },
  {
   "cell_type": "code",
   "execution_count": 55,
   "id": "f95ac3c0-4814-474b-bacd-efe7a70ea430",
   "metadata": {},
   "outputs": [],
   "source": [
    "# Initialize results list\n",
    "results = []"
   ]
  },
  {
   "cell_type": "code",
   "execution_count": 58,
   "id": "f6994938-ad09-42be-999e-0c4c41412c9f",
   "metadata": {},
   "outputs": [],
   "source": [
    "import pandas as pd\n",
    "import numpy as np\n",
    "\n",
    "for question in questions:\n",
    "    # Embed and get similar results\n",
    "    query_embeddings = embeddings.embed_query(question)\n",
    "    similar = neo4j.query(\n",
    "        vector_search_query,\n",
    "        params={\n",
    "            \"question\": query_embeddings,\n",
    "            \"index_name\": NEO4J_VECTOR_INDEX,\n",
    "            \"top_k\": 10,\n",
    "        },\n",
    "    )\n",
    "    search_results = similar\n",
    "\n",
    "    # ----- With Reranker -----\n",
    "    pairs = [[question, doc['text']] for doc in search_results]\n",
    "    scores = cross_encoder.predict(pairs)\n",
    "    reranked_similar = [search_results[i] for i in np.argsort(scores)[::-1]]\n",
    "\n",
    "    prompt_reranked = create_prompt(question, reranked_similar[0:5])\n",
    "    response_rerank = get_response_with_tracking(prompt_reranked, rerank=True).strip()\n",
    "\n",
    "    # ----- Without Reranker -----\n",
    "    prompt = create_prompt(question, search_results)\n",
    "    response_no_rerank = get_response_with_tracking(prompt, rerank=False).strip()\n",
    "\n",
    "    # Save to results\n",
    "    results.append({\n",
    "        \"question\": question,\n",
    "        \"response_with_rerank\": response_rerank,\n",
    "        \"response_without_rerank\": response_no_rerank\n",
    "    })\n",
    "\n",
    "# Convert to DataFrame\n",
    "df = pd.DataFrame(results)\n"
   ]
  },
  {
   "cell_type": "code",
   "execution_count": 83,
   "id": "69c56c4f-36f9-4b1c-96b8-8fb2d4eccdf1",
   "metadata": {},
   "outputs": [
    {
     "data": {
      "text/html": [
       "<div>\n",
       "<style scoped>\n",
       "    .dataframe tbody tr th:only-of-type {\n",
       "        vertical-align: middle;\n",
       "    }\n",
       "\n",
       "    .dataframe tbody tr th {\n",
       "        vertical-align: top;\n",
       "    }\n",
       "\n",
       "    .dataframe thead th {\n",
       "        text-align: right;\n",
       "    }\n",
       "</style>\n",
       "<table border=\"1\" class=\"dataframe\">\n",
       "  <thead>\n",
       "    <tr style=\"text-align: right;\">\n",
       "      <th></th>\n",
       "      <th>question</th>\n",
       "      <th>response_with_rerank</th>\n",
       "      <th>response_without_rerank</th>\n",
       "    </tr>\n",
       "  </thead>\n",
       "  <tbody>\n",
       "    <tr>\n",
       "      <th>0</th>\n",
       "      <td>What are Coordination Agreements under the Emergency and Disaster Management Act?</td>\n",
       "      <td>Answer:\\n            I don't have specific information about Coordination Agreements under the E...</td>\n",
       "      <td>The Emergency and Disaster Management Act does not explicitly define Coordination Agreements. Ho...</td>\n",
       "    </tr>\n",
       "    <tr>\n",
       "      <th>1</th>\n",
       "      <td>What is the fine for excessive speeding?</td>\n",
       "      <td>A person who drives a motor vehicle on a highway at a speed greater than 40 km/h over the applic...</td>\n",
       "      <td>Answer: \\n            A person who drives a motor vehicle on a highway at a speed greater than 4...</td>\n",
       "    </tr>\n",
       "    <tr>\n",
       "      <th>2</th>\n",
       "      <td>Please explain all the possible actions a complainant under Part 11 of the Police Act can perform.</td>\n",
       "      <td>Answer: \\n            A complainant under Part 11 of the Police Act has the following possible a...</td>\n",
       "      <td>A complainant under Part 11 of the Police Act can perform the following actions:\\n\\n            ...</td>\n",
       "    </tr>\n",
       "    <tr>\n",
       "      <th>3</th>\n",
       "      <td>Is there any legislation that creates navigator or liaison roles to help people submit complaint...</td>\n",
       "      <td>Answer:\\n            Yes, there is legislation that creates navigator or liaison roles to help p...</td>\n",
       "      <td>Answer: \\n            Yes, there are legislations that create navigator or liaison roles to help...</td>\n",
       "    </tr>\n",
       "    <tr>\n",
       "      <th>4</th>\n",
       "      <td>Are there regulations that require companies to provide their notice of articles with shareholde...</td>\n",
       "      <td>Based on the provided context, there is no information about regulations that require companies ...</td>\n",
       "      <td>Answer: \\n            Yes, there are regulations that require companies to provide their notice ...</td>\n",
       "    </tr>\n",
       "    <tr>\n",
       "      <th>5</th>\n",
       "      <td>Can I put my mattress in a landfill?</td>\n",
       "      <td>Answer: \\n            Based on the information provided, I don't know if you can put a mattress ...</td>\n",
       "      <td>Answer: \\n            Based on the information provided, it is not explicitly stated whether mat...</td>\n",
       "    </tr>\n",
       "    <tr>\n",
       "      <th>6</th>\n",
       "      <td>What projects does the Environmental Assessment Act regulate?</td>\n",
       "      <td>Answer:\\n            The Environmental Assessment Act regulates new projects and modifications t...</td>\n",
       "      <td>Answer: \\n            The Environmental Assessment Act regulates projects that meet the criteria...</td>\n",
       "    </tr>\n",
       "    <tr>\n",
       "      <th>7</th>\n",
       "      <td>What exactly is a Limitation Act? If no judgment is passed but there is a court case, can it be ...</td>\n",
       "      <td>Answer: \\n            A Limitation Act is a law that sets time limits on when legal proceedings ...</td>\n",
       "      <td>A Limitation Act is a law that sets time limits on when legal actions can be taken. These time l...</td>\n",
       "    </tr>\n",
       "    <tr>\n",
       "      <th>8</th>\n",
       "      <td>What permits do pulp mills need?</td>\n",
       "      <td>Answer:\\n            Pulp mills need a removal permit as per the Forest Act, Section 132 (Docume...</td>\n",
       "      <td>Answer: \\n            Pulp mills need a licence for a pulp mill industrial purpose. This is stat...</td>\n",
       "    </tr>\n",
       "  </tbody>\n",
       "</table>\n",
       "</div>"
      ],
      "text/plain": [
       "                                                                                              question  \\\n",
       "0                    What are Coordination Agreements under the Emergency and Disaster Management Act?   \n",
       "1                                                             What is the fine for excessive speeding?   \n",
       "2   Please explain all the possible actions a complainant under Part 11 of the Police Act can perform.   \n",
       "3  Is there any legislation that creates navigator or liaison roles to help people submit complaint...   \n",
       "4  Are there regulations that require companies to provide their notice of articles with shareholde...   \n",
       "5                                                                 Can I put my mattress in a landfill?   \n",
       "6                                        What projects does the Environmental Assessment Act regulate?   \n",
       "7  What exactly is a Limitation Act? If no judgment is passed but there is a court case, can it be ...   \n",
       "8                                                                     What permits do pulp mills need?   \n",
       "\n",
       "                                                                                  response_with_rerank  \\\n",
       "0  Answer:\\n            I don't have specific information about Coordination Agreements under the E...   \n",
       "1  A person who drives a motor vehicle on a highway at a speed greater than 40 km/h over the applic...   \n",
       "2  Answer: \\n            A complainant under Part 11 of the Police Act has the following possible a...   \n",
       "3  Answer:\\n            Yes, there is legislation that creates navigator or liaison roles to help p...   \n",
       "4  Based on the provided context, there is no information about regulations that require companies ...   \n",
       "5  Answer: \\n            Based on the information provided, I don't know if you can put a mattress ...   \n",
       "6  Answer:\\n            The Environmental Assessment Act regulates new projects and modifications t...   \n",
       "7  Answer: \\n            A Limitation Act is a law that sets time limits on when legal proceedings ...   \n",
       "8  Answer:\\n            Pulp mills need a removal permit as per the Forest Act, Section 132 (Docume...   \n",
       "\n",
       "                                                                               response_without_rerank  \n",
       "0  The Emergency and Disaster Management Act does not explicitly define Coordination Agreements. Ho...  \n",
       "1  Answer: \\n            A person who drives a motor vehicle on a highway at a speed greater than 4...  \n",
       "2  A complainant under Part 11 of the Police Act can perform the following actions:\\n\\n            ...  \n",
       "3  Answer: \\n            Yes, there are legislations that create navigator or liaison roles to help...  \n",
       "4  Answer: \\n            Yes, there are regulations that require companies to provide their notice ...  \n",
       "5  Answer: \\n            Based on the information provided, it is not explicitly stated whether mat...  \n",
       "6  Answer: \\n            The Environmental Assessment Act regulates projects that meet the criteria...  \n",
       "7  A Limitation Act is a law that sets time limits on when legal actions can be taken. These time l...  \n",
       "8  Answer: \\n            Pulp mills need a licence for a pulp mill industrial purpose. This is stat...  "
      ]
     },
     "execution_count": 83,
     "metadata": {},
     "output_type": "execute_result"
    }
   ],
   "source": [
    "# Show full column content in pandas\n",
    "pd.set_option('display.max_colwidth', 100)\n",
    "pd.set_option('display.max_rows', 100)\n",
    "df.head(20)"
   ]
  },
  {
   "cell_type": "code",
   "execution_count": null,
   "id": "357951f3-60b9-4fc6-a86f-a014894c3c0e",
   "metadata": {},
   "outputs": [],
   "source": []
  }
 ],
 "metadata": {
  "kernelspec": {
   "display_name": "Python 3 (ipykernel)",
   "language": "python",
   "name": "python3"
  },
  "language_info": {
   "codemirror_mode": {
    "name": "ipython",
    "version": 3
   },
   "file_extension": ".py",
   "mimetype": "text/x-python",
   "name": "python",
   "nbconvert_exporter": "python",
   "pygments_lexer": "ipython3",
   "version": "3.11.11"
  }
 },
 "nbformat": 4,
 "nbformat_minor": 5
}
